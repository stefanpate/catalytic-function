{
 "cells": [
  {
   "cell_type": "code",
   "execution_count": 161,
   "metadata": {},
   "outputs": [],
   "source": [
    "import numpy as np\n",
    "import pandas as pd\n",
    "from ast import literal_eval\n",
    "from pathlib import Path\n",
    "from src.utils import construct_sparse_adj_mat, load_json\n",
    "from omegaconf import OmegaConf\n",
    "from src.similarity import rcmcs_similarity_matrix\n",
    "import matplotlib.pyplot as plt"
   ]
  },
  {
   "cell_type": "code",
   "execution_count": 142,
   "metadata": {},
   "outputs": [
    {
     "data": {
      "text/html": [
       "<div>\n",
       "<style scoped>\n",
       "    .dataframe tbody tr th:only-of-type {\n",
       "        vertical-align: middle;\n",
       "    }\n",
       "\n",
       "    .dataframe tbody tr th {\n",
       "        vertical-align: top;\n",
       "    }\n",
       "\n",
       "    .dataframe thead th {\n",
       "        text-align: right;\n",
       "    }\n",
       "</style>\n",
       "<table border=\"1\" class=\"dataframe\">\n",
       "  <thead>\n",
       "    <tr style=\"text-align: right;\">\n",
       "      <th></th>\n",
       "      <th>A</th>\n",
       "      <th>B</th>\n",
       "    </tr>\n",
       "  </thead>\n",
       "  <tbody>\n",
       "    <tr>\n",
       "      <th>0</th>\n",
       "      <td>[1, 2, 3, 4, 5]</td>\n",
       "      <td>((1, 2, 3),)</td>\n",
       "    </tr>\n",
       "  </tbody>\n",
       "</table>\n",
       "</div>"
      ],
      "text/plain": [
       "                 A             B\n",
       "0  [1, 2, 3, 4, 5]  ((1, 2, 3),)"
      ]
     },
     "execution_count": 142,
     "metadata": {},
     "output_type": "execute_result"
    }
   ],
   "source": [
    "arr = np.array([1, 2, 3, 4, 5])\n",
    "rc = ((1,2,3),)\n",
    "\n",
    "df = pd.DataFrame([[list(arr), rc]], columns=['A', 'B'])\n",
    "df.head()"
   ]
  },
  {
   "cell_type": "code",
   "execution_count": 143,
   "metadata": {},
   "outputs": [
    {
     "data": {
      "text/plain": [
       "[1, 2, 3, 4, 5]"
      ]
     },
     "execution_count": 143,
     "metadata": {},
     "output_type": "execute_result"
    }
   ],
   "source": [
    "df.loc[0, 'A']"
   ]
  },
  {
   "cell_type": "code",
   "execution_count": 144,
   "metadata": {},
   "outputs": [],
   "source": [
    "df.to_csv('test.csv', index=False)"
   ]
  },
  {
   "cell_type": "code",
   "execution_count": 145,
   "metadata": {},
   "outputs": [
    {
     "data": {
      "text/html": [
       "<div>\n",
       "<style scoped>\n",
       "    .dataframe tbody tr th:only-of-type {\n",
       "        vertical-align: middle;\n",
       "    }\n",
       "\n",
       "    .dataframe tbody tr th {\n",
       "        vertical-align: top;\n",
       "    }\n",
       "\n",
       "    .dataframe thead th {\n",
       "        text-align: right;\n",
       "    }\n",
       "</style>\n",
       "<table border=\"1\" class=\"dataframe\">\n",
       "  <thead>\n",
       "    <tr style=\"text-align: right;\">\n",
       "      <th></th>\n",
       "      <th>A</th>\n",
       "      <th>B</th>\n",
       "    </tr>\n",
       "  </thead>\n",
       "  <tbody>\n",
       "    <tr>\n",
       "      <th>0</th>\n",
       "      <td>[1, 2, 3, 4, 5]</td>\n",
       "      <td>((1, 2, 3),)</td>\n",
       "    </tr>\n",
       "  </tbody>\n",
       "</table>\n",
       "</div>"
      ],
      "text/plain": [
       "                 A             B\n",
       "0  [1, 2, 3, 4, 5]  ((1, 2, 3),)"
      ]
     },
     "execution_count": 145,
     "metadata": {},
     "output_type": "execute_result"
    }
   ],
   "source": [
    "ldf = pd.read_csv('test.csv')\n",
    "ldf.head()"
   ]
  },
  {
   "cell_type": "code",
   "execution_count": 146,
   "metadata": {},
   "outputs": [
    {
     "data": {
      "text/plain": [
       "'[1, 2, 3, 4, 5]'"
      ]
     },
     "execution_count": 146,
     "metadata": {},
     "output_type": "execute_result"
    }
   ],
   "source": [
    "ldf.loc[0, 'A']"
   ]
  },
  {
   "cell_type": "code",
   "execution_count": 147,
   "metadata": {},
   "outputs": [
    {
     "data": {
      "text/plain": [
       "'((1, 2, 3),)'"
      ]
     },
     "execution_count": 147,
     "metadata": {},
     "output_type": "execute_result"
    }
   ],
   "source": [
    "ldf.loc[0, 'B']"
   ]
  },
  {
   "cell_type": "code",
   "execution_count": 148,
   "metadata": {},
   "outputs": [
    {
     "data": {
      "text/plain": [
       "0    [1, 2, 3, 4, 5]\n",
       "Name: A, dtype: object"
      ]
     },
     "execution_count": 148,
     "metadata": {},
     "output_type": "execute_result"
    }
   ],
   "source": [
    "ldf['A']"
   ]
  },
  {
   "cell_type": "code",
   "execution_count": 149,
   "metadata": {},
   "outputs": [],
   "source": [
    "ldf['A'] = ldf['A'].apply(lambda x : np.array(literal_eval(x)))\n",
    "ldf['B'] = ldf['B'].apply(literal_eval)"
   ]
  },
  {
   "cell_type": "code",
   "execution_count": 150,
   "metadata": {},
   "outputs": [
    {
     "data": {
      "text/plain": [
       "(array([1, 2, 3, 4, 5]), numpy.ndarray)"
      ]
     },
     "execution_count": 150,
     "metadata": {},
     "output_type": "execute_result"
    }
   ],
   "source": [
    "\n",
    "ldf.loc[0, 'A'], type(ldf.loc[0, 'A'])"
   ]
  },
  {
   "cell_type": "code",
   "execution_count": 151,
   "metadata": {},
   "outputs": [
    {
     "data": {
      "text/plain": [
       "(((1, 2, 3),), tuple)"
      ]
     },
     "execution_count": 151,
     "metadata": {},
     "output_type": "execute_result"
    }
   ],
   "source": [
    "ldf.loc[0, 'B'], type(ldf.loc[0, 'B'])"
   ]
  },
  {
   "cell_type": "code",
   "execution_count": 152,
   "metadata": {},
   "outputs": [
    {
     "name": "stdout",
     "output_type": "stream",
     "text": [
      "Constructing v3_folded_test sparse adjacency matrix\n"
     ]
    }
   ],
   "source": [
    "filepaths = OmegaConf.load('../configs/filepaths/base.yaml')\n",
    "reactions = load_json(Path(filepaths.data) / 'sprhea' / ('v3_folded_test' + \".json\"))\n",
    "rules = pd.read_csv(\n",
    "            filepath_or_buffer=Path(filepaths.artifacts) / 'minimal1224_all_uniprot.tsv',\n",
    "            sep='\\t'\n",
    "        )\n",
    "rules.set_index('Name', inplace=True)\n",
    "adj, idx_sample, idx_feature = construct_sparse_adj_mat(\n",
    "        Path(filepaths.data) / 'sprhea' / ('v3_folded_test' + \".csv\")\n",
    "    )\n",
    "reactions = {k: v for k, v in reactions.items() if k in idx_feature.values()}"
   ]
  },
  {
   "cell_type": "code",
   "execution_count": 153,
   "metadata": {},
   "outputs": [
    {
     "data": {
      "text/plain": [
       "(164, 164, (193,))"
      ]
     },
     "execution_count": 153,
     "metadata": {},
     "output_type": "execute_result"
    }
   ],
   "source": [
    "len(reactions), len(idx_feature), adj.nonzero()[0].shape"
   ]
  },
  {
   "cell_type": "code",
   "execution_count": 154,
   "metadata": {},
   "outputs": [],
   "source": [
    "with open('test_embeddings.txt', 'w') as f:\n",
    "    for pid in idx_sample.values():\n",
    "        f.write(str(pid) + '\\n')"
   ]
  },
  {
   "cell_type": "code",
   "execution_count": 155,
   "metadata": {},
   "outputs": [],
   "source": [
    "data_dir = '/home/stef/quest_data/hiec/scratch/sprhea_v3_folded_test/rcmcs/3fold'\n",
    "\n",
    "train_val = []\n",
    "for i in range(3):\n",
    "    train_val.append(\n",
    "        pd.read_parquet(data_dir + '/train_val_' + str(i) + '.parquet')\n",
    "    )\n",
    "test = pd.read_parquet(data_dir + '/test.parquet')"
   ]
  },
  {
   "cell_type": "code",
   "execution_count": 156,
   "metadata": {},
   "outputs": [
    {
     "data": {
      "text/html": [
       "<div>\n",
       "<style scoped>\n",
       "    .dataframe tbody tr th:only-of-type {\n",
       "        vertical-align: middle;\n",
       "    }\n",
       "\n",
       "    .dataframe tbody tr th {\n",
       "        vertical-align: top;\n",
       "    }\n",
       "\n",
       "    .dataframe thead th {\n",
       "        text-align: right;\n",
       "    }\n",
       "</style>\n",
       "<table border=\"1\" class=\"dataframe\">\n",
       "  <thead>\n",
       "    <tr style=\"text-align: right;\">\n",
       "      <th></th>\n",
       "      <th>protein_idx</th>\n",
       "      <th>reaction_idx</th>\n",
       "      <th>pid</th>\n",
       "      <th>rid</th>\n",
       "      <th>protein_embedding</th>\n",
       "      <th>smarts</th>\n",
       "      <th>reaction_center</th>\n",
       "      <th>y</th>\n",
       "    </tr>\n",
       "  </thead>\n",
       "  <tbody>\n",
       "    <tr>\n",
       "      <th>0</th>\n",
       "      <td>1</td>\n",
       "      <td>4</td>\n",
       "      <td>P58466</td>\n",
       "      <td>337</td>\n",
       "      <td>[0.032134816, 0.18586083, -0.0042836606, -0.07...</td>\n",
       "      <td>O.*NC(C(*)=O)C(C)OP(=O)(O)O&gt;&gt;*NC(C(*)=O)C(C)O....</td>\n",
       "      <td>[[[0], [8, 9]], [[8], [2, 1]]]</td>\n",
       "      <td>1</td>\n",
       "    </tr>\n",
       "    <tr>\n",
       "      <th>1</th>\n",
       "      <td>1</td>\n",
       "      <td>5</td>\n",
       "      <td>P58466</td>\n",
       "      <td>245</td>\n",
       "      <td>[0.032134816, 0.18586083, -0.0042836606, -0.07...</td>\n",
       "      <td>O.*NC(COP(=O)(O)O)C(*)=O&gt;&gt;*NC(CO)C(*)=O.O=P(O)...</td>\n",
       "      <td>[[[0], [4, 5]], [[4], [2, 1]]]</td>\n",
       "      <td>1</td>\n",
       "    </tr>\n",
       "    <tr>\n",
       "      <th>2</th>\n",
       "      <td>13</td>\n",
       "      <td>22</td>\n",
       "      <td>Q09131</td>\n",
       "      <td>1068</td>\n",
       "      <td>[0.032134816, 0.18586083, -0.0042836606, -0.07...</td>\n",
       "      <td>*O.O=P(O)(O)O&gt;&gt;O.*OP(=O)(O)O</td>\n",
       "      <td>[[[1], [2, 1]], [[0], [1, 2]]]</td>\n",
       "      <td>1</td>\n",
       "    </tr>\n",
       "    <tr>\n",
       "      <th>3</th>\n",
       "      <td>93</td>\n",
       "      <td>4</td>\n",
       "      <td>O02658</td>\n",
       "      <td>337</td>\n",
       "      <td>[0.032134816, 0.18586083, -0.0042836606, -0.07...</td>\n",
       "      <td>O.*NC(C(*)=O)C(C)OP(=O)(O)O&gt;&gt;*NC(C(*)=O)C(C)O....</td>\n",
       "      <td>[[[0], [8, 9]], [[8], [2, 1]]]</td>\n",
       "      <td>1</td>\n",
       "    </tr>\n",
       "    <tr>\n",
       "      <th>4</th>\n",
       "      <td>93</td>\n",
       "      <td>5</td>\n",
       "      <td>O02658</td>\n",
       "      <td>245</td>\n",
       "      <td>[0.032134816, 0.18586083, -0.0042836606, -0.07...</td>\n",
       "      <td>O.*NC(COP(=O)(O)O)C(*)=O&gt;&gt;*NC(CO)C(*)=O.O=P(O)...</td>\n",
       "      <td>[[[0], [4, 5]], [[4], [2, 1]]]</td>\n",
       "      <td>1</td>\n",
       "    </tr>\n",
       "  </tbody>\n",
       "</table>\n",
       "</div>"
      ],
      "text/plain": [
       "   protein_idx  reaction_idx     pid   rid  \\\n",
       "0            1             4  P58466   337   \n",
       "1            1             5  P58466   245   \n",
       "2           13            22  Q09131  1068   \n",
       "3           93             4  O02658   337   \n",
       "4           93             5  O02658   245   \n",
       "\n",
       "                                   protein_embedding  \\\n",
       "0  [0.032134816, 0.18586083, -0.0042836606, -0.07...   \n",
       "1  [0.032134816, 0.18586083, -0.0042836606, -0.07...   \n",
       "2  [0.032134816, 0.18586083, -0.0042836606, -0.07...   \n",
       "3  [0.032134816, 0.18586083, -0.0042836606, -0.07...   \n",
       "4  [0.032134816, 0.18586083, -0.0042836606, -0.07...   \n",
       "\n",
       "                                              smarts  \\\n",
       "0  O.*NC(C(*)=O)C(C)OP(=O)(O)O>>*NC(C(*)=O)C(C)O....   \n",
       "1  O.*NC(COP(=O)(O)O)C(*)=O>>*NC(CO)C(*)=O.O=P(O)...   \n",
       "2                       *O.O=P(O)(O)O>>O.*OP(=O)(O)O   \n",
       "3  O.*NC(C(*)=O)C(C)OP(=O)(O)O>>*NC(C(*)=O)C(C)O....   \n",
       "4  O.*NC(COP(=O)(O)O)C(*)=O>>*NC(CO)C(*)=O.O=P(O)...   \n",
       "\n",
       "                  reaction_center  y  \n",
       "0  [[[0], [8, 9]], [[8], [2, 1]]]  1  \n",
       "1  [[[0], [4, 5]], [[4], [2, 1]]]  1  \n",
       "2  [[[1], [2, 1]], [[0], [1, 2]]]  1  \n",
       "3  [[[0], [8, 9]], [[8], [2, 1]]]  1  \n",
       "4  [[[0], [4, 5]], [[4], [2, 1]]]  1  "
      ]
     },
     "execution_count": 156,
     "metadata": {},
     "output_type": "execute_result"
    }
   ],
   "source": [
    "train_val[0].head()"
   ]
  },
  {
   "cell_type": "code",
   "execution_count": 157,
   "metadata": {},
   "outputs": [
    {
     "name": "stdout",
     "output_type": "stream",
     "text": [
      "[862, 382, 470]\n",
      "48\n"
     ]
    }
   ],
   "source": [
    "print([len(elt) for elt in train_val])\n",
    "print(len(test))"
   ]
  },
  {
   "cell_type": "code",
   "execution_count": 158,
   "metadata": {},
   "outputs": [
    {
     "name": "stdout",
     "output_type": "stream",
     "text": [
      "Preparing reaction pairs\n",
      "\n",
      "Rxn # 162 : 50789\n",
      "Processing pairs\n",
      "\n"
     ]
    },
    {
     "name": "stderr",
     "output_type": "stream",
     "text": [
      "100%|██████████| 689/689 [00:12<00:00, 56.19it/s]  \n"
     ]
    }
   ],
   "source": [
    "S = rcmcs_similarity_matrix(\n",
    "    reactions,\n",
    "    rules,\n",
    "    idx_feature\n",
    ")"
   ]
  },
  {
   "cell_type": "code",
   "execution_count": 171,
   "metadata": {},
   "outputs": [
    {
     "name": "stdout",
     "output_type": "stream",
     "text": [
      "Number of similarities below 0.8: 1.0\n",
      "Number of similarities below 0.6: 0.7180974477958236\n",
      "Number of similarities below 0.4: 0.5626450116009281\n"
     ]
    },
    {
     "data": {
      "image/png": "[encoded data removed]",
      "text/plain": [
       "<Figure size 640x480 with 1 Axes>"
      ]
     },
     "metadata": {},
     "output_type": "display_data"
    },
    {
     "name": "stdout",
     "output_type": "stream",
     "text": [
      "Number of similarities below 0.8: 1.0\n",
      "Number of similarities below 0.6: 0.8979057591623036\n",
      "Number of similarities below 0.4: 0.743455497382199\n"
     ]
    },
    {
     "data": {
      "image/png": "[encoded data removed]",
      "text/plain": [
       "<Figure size 640x480 with 1 Axes>"
      ]
     },
     "metadata": {},
     "output_type": "display_data"
    },
    {
     "name": "stdout",
     "output_type": "stream",
     "text": [
      "Number of similarities below 0.8: 1.0\n",
      "Number of similarities below 0.6: 0.7829787234042553\n",
      "Number of similarities below 0.4: 0.4851063829787234\n"
     ]
    },
    {
     "data": {
      "image/png": "[encoded data removed]",
      "text/plain": [
       "<Figure size 640x480 with 1 Axes>"
      ]
     },
     "metadata": {},
     "output_type": "display_data"
    },
    {
     "name": "stdout",
     "output_type": "stream",
     "text": [
      "Number of similarities below 0.8: 1.0\n",
      "Number of similarities below 0.6: 0.7916666666666666\n",
      "Number of similarities below 0.4: 0.75\n"
     ]
    },
    {
     "data": {
      "image/png": "[encoded data removed]",
      "text/plain": [
       "<Figure size 640x480 with 1 Axes>"
      ]
     },
     "metadata": {},
     "output_type": "display_data"
    }
   ],
   "source": [
    "thresholds = [0.8, 0.6, 0.4]\n",
    "for i, val in enumerate(train_val):\n",
    "    val_ridx = val['reaction_idx'].values\n",
    "    train = pd.concat([train_val[j] for j in range(3) if j != i])\n",
    "    train_ridx = train['reaction_idx'].values\n",
    "    max_sims = S[train_ridx][:, val_ridx].max(axis=0)\n",
    "    for th in thresholds:\n",
    "        print(f\"Number of similarities below {th}: {np.sum(max_sims <= th) / len(max_sims)}\")\n",
    "    plt.hist(max_sims, bins=20)\n",
    "    plt.show()\n",
    "\n",
    "val_ridx = test['reaction_idx'].values\n",
    "train = pd.concat(train_val)\n",
    "train_ridx = train['reaction_idx'].values\n",
    "max_sims = S[train_ridx][:, val_ridx].max(axis=0)\n",
    "for th in thresholds:\n",
    "    print(f\"Number of similarities below {th}: {np.sum(max_sims <= th) / len(max_sims)}\")\n",
    "plt.hist(max_sims, bins=20)\n",
    "plt.show()"
   ]
  }
 ],
 "metadata": {
  "kernelspec": {
   "display_name": "hiec",
   "language": "python",
   "name": "python3"
  },
  "language_info": {
   "codemirror_mode": {
    "name": "ipython",
    "version": 3
   },
   "file_extension": ".py",
   "mimetype": "text/x-python",
   "name": "python",
   "nbconvert_exporter": "python",
   "pygments_lexer": "ipython3",
   "version": "3.11.5"
  }
 },
 "nbformat": 4,
 "nbformat_minor": 2
}
