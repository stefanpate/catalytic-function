{
 "cells": [
  {
   "cell_type": "code",
   "execution_count": 1,
   "metadata": {},
   "outputs": [],
   "source": [
    "import numpy as np\n",
    "import pandas as pd\n",
    "from ast import literal_eval\n",
    "from pathlib import Path\n",
    "from src.utils import construct_sparse_adj_mat, load_json\n",
    "from omegaconf import OmegaConf\n",
    "from src.similarity import rcmcs_similarity_matrix\n",
    "import matplotlib.pyplot as plt"
   ]
  },
  {
   "cell_type": "code",
   "execution_count": 2,
   "metadata": {},
   "outputs": [
    {
     "data": {
      "text/html": [
       "<div>\n",
       "<style scoped>\n",
       "    .dataframe tbody tr th:only-of-type {\n",
       "        vertical-align: middle;\n",
       "    }\n",
       "\n",
       "    .dataframe tbody tr th {\n",
       "        vertical-align: top;\n",
       "    }\n",
       "\n",
       "    .dataframe thead th {\n",
       "        text-align: right;\n",
       "    }\n",
       "</style>\n",
       "<table border=\"1\" class=\"dataframe\">\n",
       "  <thead>\n",
       "    <tr style=\"text-align: right;\">\n",
       "      <th></th>\n",
       "      <th>A</th>\n",
       "      <th>B</th>\n",
       "    </tr>\n",
       "  </thead>\n",
       "  <tbody>\n",
       "    <tr>\n",
       "      <th>0</th>\n",
       "      <td>[1, 2, 3, 4, 5]</td>\n",
       "      <td>((1, 2, 3),)</td>\n",
       "    </tr>\n",
       "  </tbody>\n",
       "</table>\n",
       "</div>"
      ],
      "text/plain": [
       "                 A             B\n",
       "0  [1, 2, 3, 4, 5]  ((1, 2, 3),)"
      ]
     },
     "execution_count": 2,
     "metadata": {},
     "output_type": "execute_result"
    }
   ],
   "source": [
    "arr = np.array([1, 2, 3, 4, 5])\n",
    "rc = ((1,2,3),)\n",
    "\n",
    "df = pd.DataFrame([[list(arr), rc]], columns=['A', 'B'])\n",
    "df.head()"
   ]
  },
  {
   "cell_type": "code",
   "execution_count": 3,
   "metadata": {},
   "outputs": [
    {
     "data": {
      "text/plain": [
       "[1, 2, 3, 4, 5]"
      ]
     },
     "execution_count": 3,
     "metadata": {},
     "output_type": "execute_result"
    }
   ],
   "source": [
    "df.loc[0, 'A']"
   ]
  },
  {
   "cell_type": "code",
   "execution_count": 4,
   "metadata": {},
   "outputs": [],
   "source": [
    "df.to_csv('test.csv', index=False)"
   ]
  },
  {
   "cell_type": "code",
   "execution_count": 5,
   "metadata": {},
   "outputs": [
    {
     "data": {
      "text/html": [
       "<div>\n",
       "<style scoped>\n",
       "    .dataframe tbody tr th:only-of-type {\n",
       "        vertical-align: middle;\n",
       "    }\n",
       "\n",
       "    .dataframe tbody tr th {\n",
       "        vertical-align: top;\n",
       "    }\n",
       "\n",
       "    .dataframe thead th {\n",
       "        text-align: right;\n",
       "    }\n",
       "</style>\n",
       "<table border=\"1\" class=\"dataframe\">\n",
       "  <thead>\n",
       "    <tr style=\"text-align: right;\">\n",
       "      <th></th>\n",
       "      <th>A</th>\n",
       "      <th>B</th>\n",
       "    </tr>\n",
       "  </thead>\n",
       "  <tbody>\n",
       "    <tr>\n",
       "      <th>0</th>\n",
       "      <td>[1, 2, 3, 4, 5]</td>\n",
       "      <td>((1, 2, 3),)</td>\n",
       "    </tr>\n",
       "  </tbody>\n",
       "</table>\n",
       "</div>"
      ],
      "text/plain": [
       "                 A             B\n",
       "0  [1, 2, 3, 4, 5]  ((1, 2, 3),)"
      ]
     },
     "execution_count": 5,
     "metadata": {},
     "output_type": "execute_result"
    }
   ],
   "source": [
    "ldf = pd.read_csv('test.csv')\n",
    "ldf.head()"
   ]
  },
  {
   "cell_type": "code",
   "execution_count": 6,
   "metadata": {},
   "outputs": [
    {
     "data": {
      "text/plain": [
       "'[1, 2, 3, 4, 5]'"
      ]
     },
     "execution_count": 6,
     "metadata": {},
     "output_type": "execute_result"
    }
   ],
   "source": [
    "ldf.loc[0, 'A']"
   ]
  },
  {
   "cell_type": "code",
   "execution_count": 7,
   "metadata": {},
   "outputs": [
    {
     "data": {
      "text/plain": [
       "'((1, 2, 3),)'"
      ]
     },
     "execution_count": 7,
     "metadata": {},
     "output_type": "execute_result"
    }
   ],
   "source": [
    "ldf.loc[0, 'B']"
   ]
  },
  {
   "cell_type": "code",
   "execution_count": 8,
   "metadata": {},
   "outputs": [
    {
     "data": {
      "text/plain": [
       "0    [1, 2, 3, 4, 5]\n",
       "Name: A, dtype: object"
      ]
     },
     "execution_count": 8,
     "metadata": {},
     "output_type": "execute_result"
    }
   ],
   "source": [
    "ldf['A']"
   ]
  },
  {
   "cell_type": "code",
   "execution_count": 9,
   "metadata": {},
   "outputs": [],
   "source": [
    "ldf['A'] = ldf['A'].apply(lambda x : np.array(literal_eval(x)))\n",
    "ldf['B'] = ldf['B'].apply(literal_eval)"
   ]
  },
  {
   "cell_type": "code",
   "execution_count": 10,
   "metadata": {},
   "outputs": [
    {
     "data": {
      "text/plain": [
       "(array([1, 2, 3, 4, 5]), numpy.ndarray)"
      ]
     },
     "execution_count": 10,
     "metadata": {},
     "output_type": "execute_result"
    }
   ],
   "source": [
    "\n",
    "ldf.loc[0, 'A'], type(ldf.loc[0, 'A'])"
   ]
  },
  {
   "cell_type": "code",
   "execution_count": 11,
   "metadata": {},
   "outputs": [
    {
     "data": {
      "text/plain": [
       "(((1, 2, 3),), tuple)"
      ]
     },
     "execution_count": 11,
     "metadata": {},
     "output_type": "execute_result"
    }
   ],
   "source": [
    "ldf.loc[0, 'B'], type(ldf.loc[0, 'B'])"
   ]
  },
  {
   "cell_type": "code",
   "execution_count": 12,
   "metadata": {},
   "outputs": [
    {
     "name": "stdout",
     "output_type": "stream",
     "text": [
      "Constructing v3_folded_test sparse adjacency matrix\n"
     ]
    }
   ],
   "source": [
    "filepaths = OmegaConf.load('../configs/filepaths/base.yaml')\n",
    "reactions = load_json(Path(filepaths.data) / 'sprhea' / ('v3_folded_test' + \".json\"))\n",
    "rules = pd.read_csv(\n",
    "            filepath_or_buffer=Path(filepaths.artifacts) / 'minimal1224_all_uniprot.tsv',\n",
    "            sep='\\t'\n",
    "        )\n",
    "rules.set_index('Name', inplace=True)\n",
    "adj, idx_sample, idx_feature = construct_sparse_adj_mat(\n",
    "        Path(filepaths.data) / 'sprhea' / ('v3_folded_test' + \".csv\")\n",
    "    )\n",
    "reactions = {k: v for k, v in reactions.items() if k in idx_feature.values()}"
   ]
  },
  {
   "cell_type": "code",
   "execution_count": 13,
   "metadata": {},
   "outputs": [
    {
     "data": {
      "text/plain": [
       "(164, 164, (193,))"
      ]
     },
     "execution_count": 13,
     "metadata": {},
     "output_type": "execute_result"
    }
   ],
   "source": [
    "len(reactions), len(idx_feature), adj.nonzero()[0].shape"
   ]
  },
  {
   "cell_type": "code",
   "execution_count": 14,
   "metadata": {},
   "outputs": [],
   "source": [
    "with open('test_embeddings.txt', 'w') as f:\n",
    "    for pid in idx_sample.values():\n",
    "        f.write(str(pid) + '\\n')"
   ]
  },
  {
   "cell_type": "code",
   "execution_count": 51,
   "metadata": {},
   "outputs": [],
   "source": [
    "data_dir = '/home/stef/quest_data/hiec/scratch/sprhea_v3_folded_test/random/3fold'\n",
    "\n",
    "train_val = []\n",
    "for i in range(3):\n",
    "    train_val.append(\n",
    "        pd.read_parquet(data_dir + '/train_val_' + str(i) + '.parquet')\n",
    "    )\n",
    "test = pd.read_parquet(data_dir + '/test.parquet')"
   ]
  },
  {
   "cell_type": "code",
   "execution_count": 52,
   "metadata": {},
   "outputs": [
    {
     "data": {
      "text/html": [
       "<div>\n",
       "<style scoped>\n",
       "    .dataframe tbody tr th:only-of-type {\n",
       "        vertical-align: middle;\n",
       "    }\n",
       "\n",
       "    .dataframe tbody tr th {\n",
       "        vertical-align: top;\n",
       "    }\n",
       "\n",
       "    .dataframe thead th {\n",
       "        text-align: right;\n",
       "    }\n",
       "</style>\n",
       "<table border=\"1\" class=\"dataframe\">\n",
       "  <thead>\n",
       "    <tr style=\"text-align: right;\">\n",
       "      <th></th>\n",
       "      <th>protein_idx</th>\n",
       "      <th>reaction_idx</th>\n",
       "      <th>pid</th>\n",
       "      <th>rid</th>\n",
       "      <th>protein_embedding</th>\n",
       "      <th>smarts</th>\n",
       "      <th>reaction_center</th>\n",
       "      <th>y</th>\n",
       "    </tr>\n",
       "  </thead>\n",
       "  <tbody>\n",
       "    <tr>\n",
       "      <th>0</th>\n",
       "      <td>86</td>\n",
       "      <td>25</td>\n",
       "      <td>Q69Z98</td>\n",
       "      <td>85</td>\n",
       "      <td>[0.032134816, 0.18586083, -0.0042836606, -0.07...</td>\n",
       "      <td>Nc1ncnc2c1ncn2C1OC(COP(=O)(O)OP(=O)(O)O)C(O)C1...</td>\n",
       "      <td>[[[21], [4, 5]], [[4], [22, 23]]]</td>\n",
       "      <td>1</td>\n",
       "    </tr>\n",
       "    <tr>\n",
       "      <th>1</th>\n",
       "      <td>50</td>\n",
       "      <td>80</td>\n",
       "      <td>P49753</td>\n",
       "      <td>1506</td>\n",
       "      <td>[0.032134816, 0.18586083, -0.0042836606, -0.07...</td>\n",
       "      <td>CCCCCCCCCCCCCCCC(=O)SCCNC(=O)CCNC(=O)C(O)C(C)(...</td>\n",
       "      <td>[[[15, 17], [0]], [[47], [15, 17]]]</td>\n",
       "      <td>1</td>\n",
       "    </tr>\n",
       "    <tr>\n",
       "      <th>2</th>\n",
       "      <td>94</td>\n",
       "      <td>157</td>\n",
       "      <td>B0R2Z3</td>\n",
       "      <td>548</td>\n",
       "      <td>[0.032134816, 0.18586083, -0.0042836606, -0.07...</td>\n",
       "      <td>CC(C)=CCCC(C)=CCCC(C)=CCCC(C)=CCOCC(O)COP(=O)(...</td>\n",
       "      <td>[[[19, 20], [2]], [[19, 20], [9]]]</td>\n",
       "      <td>1</td>\n",
       "    </tr>\n",
       "    <tr>\n",
       "      <th>3</th>\n",
       "      <td>12</td>\n",
       "      <td>20</td>\n",
       "      <td>Q5FB93</td>\n",
       "      <td>3724</td>\n",
       "      <td>[0.032134816, 0.18586083, -0.0042836606, -0.07...</td>\n",
       "      <td>O=C(O)C1CCCN1.NC(=O)c1ccc[n+](C2OC(COP(=O)(O)O...</td>\n",
       "      <td>[[[3, 7], [3, 4, 5, 6, 7, 47]], [[3, 4, 5, 45,...</td>\n",
       "      <td>1</td>\n",
       "    </tr>\n",
       "    <tr>\n",
       "      <th>4</th>\n",
       "      <td>5</td>\n",
       "      <td>9</td>\n",
       "      <td>Q6INN8</td>\n",
       "      <td>5724</td>\n",
       "      <td>[0.032134816, 0.18586083, -0.0042836606, -0.07...</td>\n",
       "      <td>*C1CC(O)C(CO)O1.O=P(O)(O)OP(=O)(O)OP(=O)(O)O&gt;&gt;...</td>\n",
       "      <td>[[[6, 7], [2]], [[6, 7], [0]]]</td>\n",
       "      <td>1</td>\n",
       "    </tr>\n",
       "  </tbody>\n",
       "</table>\n",
       "</div>"
      ],
      "text/plain": [
       "   protein_idx  reaction_idx     pid   rid  \\\n",
       "0           86            25  Q69Z98    85   \n",
       "1           50            80  P49753  1506   \n",
       "2           94           157  B0R2Z3   548   \n",
       "3           12            20  Q5FB93  3724   \n",
       "4            5             9  Q6INN8  5724   \n",
       "\n",
       "                                   protein_embedding  \\\n",
       "0  [0.032134816, 0.18586083, -0.0042836606, -0.07...   \n",
       "1  [0.032134816, 0.18586083, -0.0042836606, -0.07...   \n",
       "2  [0.032134816, 0.18586083, -0.0042836606, -0.07...   \n",
       "3  [0.032134816, 0.18586083, -0.0042836606, -0.07...   \n",
       "4  [0.032134816, 0.18586083, -0.0042836606, -0.07...   \n",
       "\n",
       "                                              smarts  \\\n",
       "0  Nc1ncnc2c1ncn2C1OC(COP(=O)(O)OP(=O)(O)O)C(O)C1...   \n",
       "1  CCCCCCCCCCCCCCCC(=O)SCCNC(=O)CCNC(=O)C(O)C(C)(...   \n",
       "2  CC(C)=CCCC(C)=CCCC(C)=CCCC(C)=CCOCC(O)COP(=O)(...   \n",
       "3  O=C(O)C1CCCN1.NC(=O)c1ccc[n+](C2OC(COP(=O)(O)O...   \n",
       "4  *C1CC(O)C(CO)O1.O=P(O)(O)OP(=O)(O)OP(=O)(O)O>>...   \n",
       "\n",
       "                                     reaction_center  y  \n",
       "0                  [[[21], [4, 5]], [[4], [22, 23]]]  1  \n",
       "1                [[[15, 17], [0]], [[47], [15, 17]]]  1  \n",
       "2                 [[[19, 20], [2]], [[19, 20], [9]]]  1  \n",
       "3  [[[3, 7], [3, 4, 5, 6, 7, 47]], [[3, 4, 5, 45,...  1  \n",
       "4                     [[[6, 7], [2]], [[6, 7], [0]]]  1  "
      ]
     },
     "execution_count": 52,
     "metadata": {},
     "output_type": "execute_result"
    }
   ],
   "source": [
    "train_val[0].head()"
   ]
  },
  {
   "cell_type": "code",
   "execution_count": 53,
   "metadata": {},
   "outputs": [
    {
     "name": "stdout",
     "output_type": "stream",
     "text": [
      "[401, 521, 582]\n",
      "78\n"
     ]
    }
   ],
   "source": [
    "print([len(elt) for elt in train_val])\n",
    "print(len(test))"
   ]
  },
  {
   "cell_type": "code",
   "execution_count": 54,
   "metadata": {},
   "outputs": [
    {
     "name": "stdout",
     "output_type": "stream",
     "text": [
      "Preparing reaction pairs\n",
      "\n",
      "Rxn # 162 : 50789\n",
      "Processing pairs\n",
      "\n"
     ]
    },
    {
     "name": "stderr",
     "output_type": "stream",
     "text": [
      "100%|██████████| 689/689 [00:11<00:00, 58.09it/s]  \n"
     ]
    }
   ],
   "source": [
    "S = rcmcs_similarity_matrix(\n",
    "    reactions,\n",
    "    rules,\n",
    "    idx_feature\n",
    ")"
   ]
  },
  {
   "cell_type": "code",
   "execution_count": 55,
   "metadata": {},
   "outputs": [
    {
     "data": {
      "image/png": "[encoded data removed]",
      "text/plain": [
       "<Figure size 640x480 with 1 Axes>"
      ]
     },
     "metadata": {},
     "output_type": "display_data"
    },
    {
     "data": {
      "image/png": "[encoded data removed]",
      "text/plain": [
       "<Figure size 640x480 with 1 Axes>"
      ]
     },
     "metadata": {},
     "output_type": "display_data"
    },
    {
     "data": {
      "image/png": "[encoded data removed]",
      "text/plain": [
       "<Figure size 640x480 with 1 Axes>"
      ]
     },
     "metadata": {},
     "output_type": "display_data"
    },
    {
     "data": {
      "image/png": "[encoded data removed]",
      "text/plain": [
       "<Figure size 640x480 with 1 Axes>"
      ]
     },
     "metadata": {},
     "output_type": "display_data"
    }
   ],
   "source": [
    "thresholds = [1.0, 0.8, 0.6, 0.4]\n",
    "thresholds = sorted(thresholds)\n",
    "xticklabels = [f\"0-{thresholds[0]*100:.0f}%\"] + [f\"{thresholds[j]*100:.0f}-{thresholds[j+1]*100:.0f}%\" for j in range(len(thresholds) - 1)]\n",
    "for i, val in enumerate(train_val):\n",
    "    val_ridx = val['reaction_idx'].values\n",
    "    train = pd.concat([train_val[j] for j in range(3) if j != i])\n",
    "    train_ridx = train['reaction_idx'].values\n",
    "    max_sims = S[train_ridx][:, val_ridx].max(axis=0)\n",
    "    cdf = []\n",
    "    for j, th in enumerate(thresholds):\n",
    "        if j == 0:\n",
    "            in_range = len(np.argwhere(max_sims <= th))\n",
    "        else:\n",
    "            less_than_th = len(np.argwhere(max_sims <= th))\n",
    "            less_than_prev = len(np.argwhere(max_sims <= thresholds[j - 1]))\n",
    "            in_range = less_than_th - less_than_prev\n",
    "        \n",
    "        cdf.append(in_range / len(max_sims))\n",
    "\n",
    "    plt.bar(thresholds, cdf, width=0.1, label='foo')\n",
    "    plt.xticks(thresholds, xticklabels)\n",
    "    plt.ylabel('Fraction of datapoints')\n",
    "    plt.show()\n",
    "\n",
    "val_ridx = test['reaction_idx'].values\n",
    "train = pd.concat(train_val)\n",
    "train_ridx = train['reaction_idx'].values\n",
    "max_sims = S[train_ridx][:, val_ridx].max(axis=0)\n",
    "cdf = []\n",
    "for j, th in enumerate(thresholds):\n",
    "    if j == 0:\n",
    "        in_range = len(np.argwhere(max_sims <= th))\n",
    "    else:\n",
    "        less_than_th = len(np.argwhere(max_sims <= th))\n",
    "        less_than_prev = len(np.argwhere(max_sims <= thresholds[j - 1]))\n",
    "        in_range = less_than_th - less_than_prev\n",
    "    \n",
    "    cdf.append(in_range / len(max_sims))\n",
    "\n",
    "plt.bar(thresholds, cdf, width=0.1, label='foo')\n",
    "plt.xticks(thresholds, xticklabels)\n",
    "plt.ylabel('Fraction of datapoints')\n",
    "plt.show()"
   ]
  },
  {
   "cell_type": "code",
   "execution_count": null,
   "metadata": {},
   "outputs": [],
   "source": []
  }
 ],
 "metadata": {
  "kernelspec": {
   "display_name": "hiec",
   "language": "python",
   "name": "python3"
  },
  "language_info": {
   "codemirror_mode": {
    "name": "ipython",
    "version": 3
   },
   "file_extension": ".py",
   "mimetype": "text/x-python",
   "name": "python",
   "nbconvert_exporter": "python",
   "pygments_lexer": "ipython3",
   "version": "3.11.5"
  }
 },
 "nbformat": 4,
 "nbformat_minor": 2
}
