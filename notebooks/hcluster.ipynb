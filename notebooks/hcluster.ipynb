{
 "cells": [
  {
   "cell_type": "code",
   "execution_count": 8,
   "metadata": {},
   "outputs": [],
   "source": [
    "from sklearn.cluster import AgglomerativeClustering\n",
    "from src.utils import load_json\n",
    "from collections import defaultdict\n",
    "import pandas as pd"
   ]
  },
  {
   "cell_type": "code",
   "execution_count": 5,
   "metadata": {},
   "outputs": [],
   "source": [
    "rxns = load_json(\"../data/sprhea/v3_folded_test.json\")\n",
    "rxns = {int(k) : v for k, v in rxns.items()}"
   ]
  },
  {
   "cell_type": "code",
   "execution_count": 13,
   "metadata": {},
   "outputs": [
    {
     "data": {
      "text/html": [
       "<div>\n",
       "<style scoped>\n",
       "    .dataframe tbody tr th:only-of-type {\n",
       "        vertical-align: middle;\n",
       "    }\n",
       "\n",
       "    .dataframe tbody tr th {\n",
       "        vertical-align: top;\n",
       "    }\n",
       "\n",
       "    .dataframe thead th {\n",
       "        text-align: right;\n",
       "    }\n",
       "</style>\n",
       "<table border=\"1\" class=\"dataframe\">\n",
       "  <thead>\n",
       "    <tr style=\"text-align: right;\">\n",
       "      <th></th>\n",
       "      <th>id</th>\n",
       "      <th>smarts</th>\n",
       "      <th>rcs</th>\n",
       "      <th>min_rules</th>\n",
       "    </tr>\n",
       "  </thead>\n",
       "  <tbody>\n",
       "    <tr>\n",
       "      <th>0</th>\n",
       "      <td>1760</td>\n",
       "      <td>C[S+](CCCN)CC1OC(n2cnc3c(N)ncnc32)C(O)C1O.O=C=...</td>\n",
       "      <td>[[[4], [1, 0]], [[4, 6, 8]]]</td>\n",
       "      <td>[rule0023, rule0023]</td>\n",
       "    </tr>\n",
       "    <tr>\n",
       "      <th>1</th>\n",
       "      <td>404</td>\n",
       "      <td>NC(=O)OP(=O)(O)O.NCCCC(N)C(=O)O&gt;&gt;NC(=O)NCCCC(N...</td>\n",
       "      <td>[[[1, 3], [0]], [[1, 3], [2]]]</td>\n",
       "      <td>[rule0098, rule0098]</td>\n",
       "    </tr>\n",
       "    <tr>\n",
       "      <th>2</th>\n",
       "      <td>174</td>\n",
       "      <td>NC(=O)NC(CC(=O)O)C(=O)O&gt;&gt;O=C1CC(C(=O)O)NC(=O)N1.O</td>\n",
       "      <td>[[[0, 6, 8]], [[1, 10], [0]]]</td>\n",
       "      <td>[rule0106, rule0106]</td>\n",
       "    </tr>\n",
       "    <tr>\n",
       "      <th>3</th>\n",
       "      <td>128</td>\n",
       "      <td>C[S+](CCC(N)C(=O)O)CC1OC(n2cnc3c(N)ncnc32)C(O)...</td>\n",
       "      <td>[[[0, 1], [9]], [[14], [10, 9]]]</td>\n",
       "      <td>[rule0011, rule0011]</td>\n",
       "    </tr>\n",
       "    <tr>\n",
       "      <th>4</th>\n",
       "      <td>743</td>\n",
       "      <td>NC(=O)C1=CN(C2OC(COP(=O)(O)OP(=O)(O)OCC3OC(n4c...</td>\n",
       "      <td>[[[3, 4, 5, 41, 42, 43], [1, 3]], [[1, 3], [3,...</td>\n",
       "      <td>[rule0003, rule0003]</td>\n",
       "    </tr>\n",
       "  </tbody>\n",
       "</table>\n",
       "</div>"
      ],
      "text/plain": [
       "     id                                             smarts  \\\n",
       "0  1760  C[S+](CCCN)CC1OC(n2cnc3c(N)ncnc32)C(O)C1O.O=C=...   \n",
       "1   404  NC(=O)OP(=O)(O)O.NCCCC(N)C(=O)O>>NC(=O)NCCCC(N...   \n",
       "2   174  NC(=O)NC(CC(=O)O)C(=O)O>>O=C1CC(C(=O)O)NC(=O)N1.O   \n",
       "3   128  C[S+](CCC(N)C(=O)O)CC1OC(n2cnc3c(N)ncnc32)C(O)...   \n",
       "4   743  NC(=O)C1=CN(C2OC(COP(=O)(O)OP(=O)(O)OCC3OC(n4c...   \n",
       "\n",
       "                                                 rcs             min_rules  \n",
       "0                       [[[4], [1, 0]], [[4, 6, 8]]]  [rule0023, rule0023]  \n",
       "1                     [[[1, 3], [0]], [[1, 3], [2]]]  [rule0098, rule0098]  \n",
       "2                      [[[0, 6, 8]], [[1, 10], [0]]]  [rule0106, rule0106]  \n",
       "3                   [[[0, 1], [9]], [[14], [10, 9]]]  [rule0011, rule0011]  \n",
       "4  [[[3, 4, 5, 41, 42, 43], [1, 3]], [[1, 3], [3,...  [rule0003, rule0003]  "
      ]
     },
     "execution_count": 13,
     "metadata": {},
     "output_type": "execute_result"
    }
   ],
   "source": [
    "features = [\"smarts\", \"rcs\", \"min_rules\"]\n",
    "data = defaultdict(list)\n",
    "for k, v in rxns.items():\n",
    "    data[\"id\"].append(k)\n",
    "    for feat in features:\n",
    "        data[feat].append(v[feat])\n",
    "\n",
    "X = pd.DataFrame(\n",
    "    data=data\n",
    ")\n",
    "\n",
    "X.head()"
   ]
  },
  {
   "cell_type": "code",
   "execution_count": null,
   "metadata": {},
   "outputs": [],
   "source": [
    "cutoff = -0.9\n",
    "ac = AgglomerativeClustering(\n",
    "    metric=rcmcs_dist,\n",
    "    distance_threshold=cutoff\n",
    ")"
   ]
  }
 ],
 "metadata": {
  "kernelspec": {
   "display_name": "hiec",
   "language": "python",
   "name": "python3"
  },
  "language_info": {
   "codemirror_mode": {
    "name": "ipython",
    "version": 3
   },
   "file_extension": ".py",
   "mimetype": "text/x-python",
   "name": "python",
   "nbconvert_exporter": "python",
   "pygments_lexer": "ipython3",
   "version": "3.11.5"
  }
 },
 "nbformat": 4,
 "nbformat_minor": 2
}
