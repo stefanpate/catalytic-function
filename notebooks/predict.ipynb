{
 "cells": [
  {
   "cell_type": "code",
   "execution_count": 21,
   "metadata": {},
   "outputs": [],
   "source": [
    "from pathlib import Path\n",
    "from omegaconf import OmegaConf\n",
    "import numpy as np\n",
    "import pandas as pd\n",
    "from src.ml_utils import downsample_negatives\n",
    "from sklearn.metrics import (\n",
    "    roc_auc_score,\n",
    "    roc_curve,\n",
    "    precision_recall_curve,\n",
    "    RocCurveDisplay,\n",
    "    PrecisionRecallDisplay,\n",
    "    precision_score,\n",
    "    recall_score,\n",
    "    accuracy_score\n",
    ")\n",
    "\n",
    "filepaths = OmegaConf.load(\"../configs/filepaths/base.yaml\")"
   ]
  },
  {
   "cell_type": "code",
   "execution_count": 7,
   "metadata": {},
   "outputs": [],
   "source": [
    "split_idx = 0\n",
    "exp_id = '0'\n",
    "model_id = '2037b6b3ceaa4819acf4884636a1f540'\n",
    "\n",
    "dataset = 'sprhea'\n",
    "toc = 'v3_folded_pt_ns'\n",
    "split_strategy = 'rcmcs'\n",
    "n_splits = 3\n",
    "seed = 1234\n",
    "rng = np.random.default_rng(seed=seed)"
   ]
  },
  {
   "cell_type": "code",
   "execution_count": 8,
   "metadata": {},
   "outputs": [],
   "source": [
    "# Load in data\n",
    "val_data = pd.read_parquet(\n",
    "            Path(filepaths.scratch) / f\"{dataset}_{toc}/{split_strategy}/{n_splits}fold\" / f\"train_val_{split_idx}.parquet\"\n",
    "        )\n",
    "val_data['protein_embedding'] = val_data['protein_embedding'].apply(lambda x : np.array(x))\n",
    "downsample_negatives(val_data, 1, rng)\n",
    "logits = np.load(Path(filepaths.results) / 'predictions' / exp_id / model_id / f\"logits_{split_idx}.npy\") # Load predictions\n",
    "ypred = (logits > 0.5).astype(np.int32)"
   ]
  },
  {
   "cell_type": "code",
   "execution_count": 9,
   "metadata": {},
   "outputs": [
    {
     "data": {
      "text/html": [
       "<div>\n",
       "<style scoped>\n",
       "    .dataframe tbody tr th:only-of-type {\n",
       "        vertical-align: middle;\n",
       "    }\n",
       "\n",
       "    .dataframe tbody tr th {\n",
       "        vertical-align: top;\n",
       "    }\n",
       "\n",
       "    .dataframe thead th {\n",
       "        text-align: right;\n",
       "    }\n",
       "</style>\n",
       "<table border=\"1\" class=\"dataframe\">\n",
       "  <thead>\n",
       "    <tr style=\"text-align: right;\">\n",
       "      <th></th>\n",
       "      <th>protein_idx</th>\n",
       "      <th>reaction_idx</th>\n",
       "      <th>pid</th>\n",
       "      <th>rid</th>\n",
       "      <th>protein_embedding</th>\n",
       "      <th>smarts</th>\n",
       "      <th>reaction_center</th>\n",
       "      <th>y</th>\n",
       "    </tr>\n",
       "  </thead>\n",
       "  <tbody>\n",
       "    <tr>\n",
       "      <th>0</th>\n",
       "      <td>222</td>\n",
       "      <td>187</td>\n",
       "      <td>Q9KJ20</td>\n",
       "      <td>7694</td>\n",
       "      <td>[-0.012849729, 0.16863914, -0.07288795, -0.055...</td>\n",
       "      <td>C[S+](CCC(N)C(=O)O)CC1OC(n2cnc3c(N)ncnc32)C(O)...</td>\n",
       "      <td>[[[0, 1], [1]], [[14], [0, 1]]]</td>\n",
       "      <td>1</td>\n",
       "    </tr>\n",
       "    <tr>\n",
       "      <th>1</th>\n",
       "      <td>223</td>\n",
       "      <td>187</td>\n",
       "      <td>Q83WC3</td>\n",
       "      <td>7694</td>\n",
       "      <td>[-0.020623509, 0.14122067, -0.12404032, -0.027...</td>\n",
       "      <td>C[S+](CCC(N)C(=O)O)CC1OC(n2cnc3c(N)ncnc32)C(O)...</td>\n",
       "      <td>[[[0, 1], [1]], [[14], [0, 1]]]</td>\n",
       "      <td>1</td>\n",
       "    </tr>\n",
       "    <tr>\n",
       "      <th>2</th>\n",
       "      <td>224</td>\n",
       "      <td>187</td>\n",
       "      <td>Q9KJ21</td>\n",
       "      <td>7694</td>\n",
       "      <td>[-0.01765835, 0.14142956, -0.0953328, -0.06397...</td>\n",
       "      <td>C[S+](CCC(N)C(=O)O)CC1OC(n2cnc3c(N)ncnc32)C(O)...</td>\n",
       "      <td>[[[0, 1], [1]], [[14], [0, 1]]]</td>\n",
       "      <td>1</td>\n",
       "    </tr>\n",
       "    <tr>\n",
       "      <th>3</th>\n",
       "      <td>13363</td>\n",
       "      <td>187</td>\n",
       "      <td>Q9KJ22</td>\n",
       "      <td>7694</td>\n",
       "      <td>[-0.044674527, 0.17813939, -0.057687543, -0.07...</td>\n",
       "      <td>C[S+](CCC(N)C(=O)O)CC1OC(n2cnc3c(N)ncnc32)C(O)...</td>\n",
       "      <td>[[[0, 1], [1]], [[14], [0, 1]]]</td>\n",
       "      <td>1</td>\n",
       "    </tr>\n",
       "    <tr>\n",
       "      <th>4</th>\n",
       "      <td>13364</td>\n",
       "      <td>187</td>\n",
       "      <td>Q7U4Z8</td>\n",
       "      <td>7694</td>\n",
       "      <td>[-0.029929712, 0.16648583, -0.016743593, -0.03...</td>\n",
       "      <td>C[S+](CCC(N)C(=O)O)CC1OC(n2cnc3c(N)ncnc32)C(O)...</td>\n",
       "      <td>[[[0, 1], [1]], [[14], [0, 1]]]</td>\n",
       "      <td>1</td>\n",
       "    </tr>\n",
       "  </tbody>\n",
       "</table>\n",
       "</div>"
      ],
      "text/plain": [
       "   protein_idx  reaction_idx     pid   rid  \\\n",
       "0          222           187  Q9KJ20  7694   \n",
       "1          223           187  Q83WC3  7694   \n",
       "2          224           187  Q9KJ21  7694   \n",
       "3        13363           187  Q9KJ22  7694   \n",
       "4        13364           187  Q7U4Z8  7694   \n",
       "\n",
       "                                   protein_embedding  \\\n",
       "0  [-0.012849729, 0.16863914, -0.07288795, -0.055...   \n",
       "1  [-0.020623509, 0.14122067, -0.12404032, -0.027...   \n",
       "2  [-0.01765835, 0.14142956, -0.0953328, -0.06397...   \n",
       "3  [-0.044674527, 0.17813939, -0.057687543, -0.07...   \n",
       "4  [-0.029929712, 0.16648583, -0.016743593, -0.03...   \n",
       "\n",
       "                                              smarts  \\\n",
       "0  C[S+](CCC(N)C(=O)O)CC1OC(n2cnc3c(N)ncnc32)C(O)...   \n",
       "1  C[S+](CCC(N)C(=O)O)CC1OC(n2cnc3c(N)ncnc32)C(O)...   \n",
       "2  C[S+](CCC(N)C(=O)O)CC1OC(n2cnc3c(N)ncnc32)C(O)...   \n",
       "3  C[S+](CCC(N)C(=O)O)CC1OC(n2cnc3c(N)ncnc32)C(O)...   \n",
       "4  C[S+](CCC(N)C(=O)O)CC1OC(n2cnc3c(N)ncnc32)C(O)...   \n",
       "\n",
       "                   reaction_center  y  \n",
       "0  [[[0, 1], [1]], [[14], [0, 1]]]  1  \n",
       "1  [[[0, 1], [1]], [[14], [0, 1]]]  1  \n",
       "2  [[[0, 1], [1]], [[14], [0, 1]]]  1  \n",
       "3  [[[0, 1], [1]], [[14], [0, 1]]]  1  \n",
       "4  [[[0, 1], [1]], [[14], [0, 1]]]  1  "
      ]
     },
     "execution_count": 9,
     "metadata": {},
     "output_type": "execute_result"
    }
   ],
   "source": [
    "val_data.head()"
   ]
  },
  {
   "cell_type": "code",
   "execution_count": 10,
   "metadata": {},
   "outputs": [
    {
     "name": "stderr",
     "output_type": "stream",
     "text": [
      "No artists with labels found to put in legend.  Note that artists whose label start with an underscore are ignored when legend() is called with no argument.\n"
     ]
    },
    {
     "name": "stdout",
     "output_type": "stream",
     "text": [
      "0.9546972189282972\n"
     ]
    },
    {
     "data": {
      "image/png": "[encoded data removed]",
      "text/plain": [
       "<Figure size 640x480 with 1 Axes>"
      ]
     },
     "metadata": {},
     "output_type": "display_data"
    }
   ],
   "source": [
    "fpr, tpr, _ = roc_curve(val_data['y'], logits)\n",
    "roc_display = RocCurveDisplay(fpr=fpr, tpr=tpr).plot()\n",
    "print(roc_auc_score(val_data['y'], logits))"
   ]
  },
  {
   "cell_type": "code",
   "execution_count": 11,
   "metadata": {},
   "outputs": [
    {
     "data": {
      "image/png": "[encoded data removed]",
      "text/plain": [
       "<Figure size 640x480 with 1 Axes>"
      ]
     },
     "metadata": {},
     "output_type": "display_data"
    }
   ],
   "source": [
    "prec, recall, _ = precision_recall_curve(val_data['y'], logits)\n",
    "pr_display = PrecisionRecallDisplay(precision=prec, recall=recall).plot()"
   ]
  },
  {
   "cell_type": "code",
   "execution_count": 12,
   "metadata": {},
   "outputs": [
    {
     "name": "stdout",
     "output_type": "stream",
     "text": [
      "Precision: 0.9543742151527836\n",
      "Recall: 0.7006760909649662\n",
      "Accuracy: 0.8335894283958205\n"
     ]
    }
   ],
   "source": [
    "print(f\"Precision: {precision_score(val_data['y'], ypred)}\")\n",
    "print(f\"Recall: {recall_score(val_data['y'], ypred)}\")\n",
    "print(f\"Accuracy: {accuracy_score(val_data['y'], ypred)}\")"
   ]
  },
  {
   "cell_type": "code",
   "execution_count": 1,
   "metadata": {},
   "outputs": [],
   "source": [
    "import mlflow"
   ]
  },
  {
   "cell_type": "code",
   "execution_count": 3,
   "metadata": {},
   "outputs": [
    {
     "data": {
      "text/plain": [
       "'file:///home/stef/hiec/notebooks/mlruns'"
      ]
     },
     "execution_count": 3,
     "metadata": {},
     "output_type": "execute_result"
    }
   ],
   "source": [
    "mlflow.get_tracking_uri()"
   ]
  },
  {
   "cell_type": "code",
   "execution_count": 4,
   "metadata": {},
   "outputs": [
    {
     "data": {
      "text/plain": [
       "'file:///home/stef/hiec/notebooks/mlruns'"
      ]
     },
     "execution_count": 4,
     "metadata": {},
     "output_type": "execute_result"
    }
   ],
   "source": [
    "mlflow.get_registry_uri()"
   ]
  },
  {
   "cell_type": "code",
   "execution_count": 5,
   "metadata": {},
   "outputs": [],
   "source": [
    "mlflow.set_tracking_uri(\"file:///home/stef/quest_data/hiec/results/runs\")"
   ]
  },
  {
   "cell_type": "code",
   "execution_count": 12,
   "metadata": {},
   "outputs": [
    {
     "data": {
      "text/plain": [
       "mlflow.entities.run_data.RunData"
      ]
     },
     "execution_count": 12,
     "metadata": {},
     "output_type": "execute_result"
    }
   ],
   "source": [
    "type(mlflow.get_run(run_id='d06f3044e5894cc8889a645420651f62').data)"
   ]
  },
  {
   "cell_type": "code",
   "execution_count": 17,
   "metadata": {},
   "outputs": [
    {
     "data": {
      "text/plain": [
       "<Run: data=<RunData: metrics={'epoch': 24.0,\n",
       " 'train_loss': 0.4914122521877289,\n",
       " 'val/accuracy': 0.8147380948066711,\n",
       " 'val/binary_precision': 0.9465327858924866,\n",
       " 'val/binary_recall': 0.6670027375221252,\n",
       " 'val/f1': 0.7818900942802429,\n",
       " 'val/mcc': 0.6587910652160645,\n",
       " 'val/prc': 0.9206308722496033,\n",
       " 'val/roc': 0.9066384434700012,\n",
       " 'val_loss': 0.7818900942802429}, params={'data/dataset': 'sprhea',\n",
       " 'data/embed_type': 'esm',\n",
       " 'data/n_splits': '3',\n",
       " 'data/neg_multiple': '1',\n",
       " 'data/seed': '1234',\n",
       " 'data/split_bounds': '[100, 80, 60, 40]',\n",
       " 'data/split_idx': '1',\n",
       " 'data/split_strategy': 'rcmcs',\n",
       " 'data/subdir_patt': 'sprhea_v3_folded_pt_ns/rcmcs/3fold',\n",
       " 'data/test_percent': '20',\n",
       " 'data/toc': 'v3_folded_pt_ns',\n",
       " 'exp': 'None',\n",
       " 'model/agg': 'None',\n",
       " 'model/d_h_encoder': '30',\n",
       " 'model/encoder_depth': 'None',\n",
       " 'model/featurizer': 'mfp',\n",
       " 'model/message_passing': 'None',\n",
       " 'model/model': 'linear',\n",
       " 'model/name': 'mfp',\n",
       " 'model/pred_head': 'DotSig',\n",
       " 'model/radius': '6',\n",
       " 'model/vec_len': '1024',\n",
       " 'training/metrics': \"['BinaryF1Metric', 'BinaryPrecision', 'BinaryRecall', \"\n",
       "                     \"'BinaryMCC', 'BinaryAccuracyMetric', \"\n",
       "                     \"'BinaryAUPRCMetric', 'BinaryAUROCMetric']\",\n",
       " 'training/n_epochs': '25',\n",
       " 'training/pos_multiplier': '1'}, tags={'mlflow.runName': 'delicate-grouse-399',\n",
       " 'mlflow.source.name': '/home/spn1560/.conda/envs/hiec/lib/python3.11/site-packages/submitit/core/_submit.py',\n",
       " 'mlflow.source.type': 'LOCAL',\n",
       " 'mlflow.user': 'spn1560'}>, info=<RunInfo: artifact_uri='file:///projects/p30041/spn1560/hiec/results/runs/0/d06f3044e5894cc8889a645420651f62/artifacts', end_time=1738628518993, experiment_id='0', lifecycle_stage='active', run_id='d06f3044e5894cc8889a645420651f62', run_name='delicate-grouse-399', run_uuid='d06f3044e5894cc8889a645420651f62', start_time=1738620190958, status='FINISHED', user_id='spn1560'>, inputs=<RunInputs: dataset_inputs=[]>>"
      ]
     },
     "execution_count": 17,
     "metadata": {},
     "output_type": "execute_result"
    }
   ],
   "source": [
    "mlflow.get_run(run_id='d06f3044e5894cc8889a645420651f62')"
   ]
  },
  {
   "cell_type": "code",
   "execution_count": 14,
   "metadata": {},
   "outputs": [
    {
     "name": "stdout",
     "output_type": "stream",
     "text": [
      "('metrics', {'train_loss': 0.4914122521877289, 'epoch': 24.0, 'val_loss': 0.7818900942802429, 'val/f1': 0.7818900942802429, 'val/binary_precision': 0.9465327858924866, 'val/mcc': 0.6587910652160645, 'val/binary_recall': 0.6670027375221252, 'val/prc': 0.9206308722496033, 'val/accuracy': 0.8147380948066711, 'val/roc': 0.9066384434700012})\n",
      "('params', {'exp': 'None', 'training/metrics': \"['BinaryF1Metric', 'BinaryPrecision', 'BinaryRecall', 'BinaryMCC', 'BinaryAccuracyMetric', 'BinaryAUPRCMetric', 'BinaryAUROCMetric']\", 'training/pos_multiplier': '1', 'training/n_epochs': '25', 'data/subdir_patt': 'sprhea_v3_folded_pt_ns/rcmcs/3fold', 'data/n_splits': '3', 'data/neg_multiple': '1', 'data/dataset': 'sprhea', 'data/split_idx': '1', 'data/seed': '1234', 'data/split_bounds': '[100, 80, 60, 40]', 'data/embed_type': 'esm', 'data/test_percent': '20', 'data/toc': 'v3_folded_pt_ns', 'data/split_strategy': 'rcmcs', 'model/agg': 'None', 'model/message_passing': 'None', 'model/name': 'mfp', 'model/model': 'linear', 'model/vec_len': '1024', 'model/radius': '6', 'model/featurizer': 'mfp', 'model/d_h_encoder': '30', 'model/pred_head': 'DotSig', 'model/encoder_depth': 'None'})\n",
      "('tags', {'mlflow.runName': 'delicate-grouse-399', 'mlflow.source.type': 'LOCAL', 'mlflow.user': 'spn1560', 'mlflow.source.name': '/home/spn1560/.conda/envs/hiec/lib/python3.11/site-packages/submitit/core/_submit.py'})\n"
     ]
    }
   ],
   "source": [
    "data = mlflow.get_run(run_id='d06f3044e5894cc8889a645420651f62').data\n",
    "for elt in data:\n",
    "    print(elt)"
   ]
  },
  {
   "cell_type": "code",
   "execution_count": 16,
   "metadata": {},
   "outputs": [
    {
     "data": {
      "text/plain": [
       "'file:///projects/p30041/spn1560/hiec/results/runs/0/d06f3044e5894cc8889a645420651f62/artifacts'"
      ]
     },
     "execution_count": 16,
     "metadata": {},
     "output_type": "execute_result"
    }
   ],
   "source": [
    "mlflow.get_run(run_id='d06f3044e5894cc8889a645420651f62').info.artifact_uri"
   ]
  },
  {
   "cell_type": "code",
   "execution_count": null,
   "metadata": {},
   "outputs": [],
   "source": []
  },
  {
   "cell_type": "code",
   "execution_count": 24,
   "metadata": {},
   "outputs": [
    {
     "data": {
      "text/html": [
       "<div>\n",
       "<style scoped>\n",
       "    .dataframe tbody tr th:only-of-type {\n",
       "        vertical-align: middle;\n",
       "    }\n",
       "\n",
       "    .dataframe tbody tr th {\n",
       "        vertical-align: top;\n",
       "    }\n",
       "\n",
       "    .dataframe thead th {\n",
       "        text-align: right;\n",
       "    }\n",
       "</style>\n",
       "<table border=\"1\" class=\"dataframe\">\n",
       "  <thead>\n",
       "    <tr style=\"text-align: right;\">\n",
       "      <th></th>\n",
       "      <th>protein_idx</th>\n",
       "      <th>reaction_idx</th>\n",
       "      <th>pid</th>\n",
       "      <th>rid</th>\n",
       "      <th>y</th>\n",
       "      <th>logits</th>\n",
       "    </tr>\n",
       "  </thead>\n",
       "  <tbody>\n",
       "    <tr>\n",
       "      <th>0</th>\n",
       "      <td>97</td>\n",
       "      <td>160</td>\n",
       "      <td>Q9XU42</td>\n",
       "      <td>1036</td>\n",
       "      <td>1</td>\n",
       "      <td>0.592269</td>\n",
       "    </tr>\n",
       "    <tr>\n",
       "      <th>1</th>\n",
       "      <td>40</td>\n",
       "      <td>49</td>\n",
       "      <td>Q62967</td>\n",
       "      <td>1113</td>\n",
       "      <td>1</td>\n",
       "      <td>0.445196</td>\n",
       "    </tr>\n",
       "    <tr>\n",
       "      <th>2</th>\n",
       "      <td>11</td>\n",
       "      <td>18</td>\n",
       "      <td>B5APK2</td>\n",
       "      <td>1786</td>\n",
       "      <td>1</td>\n",
       "      <td>0.536023</td>\n",
       "    </tr>\n",
       "    <tr>\n",
       "      <th>3</th>\n",
       "      <td>63</td>\n",
       "      <td>92</td>\n",
       "      <td>Q06HQ7</td>\n",
       "      <td>7702</td>\n",
       "      <td>1</td>\n",
       "      <td>0.617381</td>\n",
       "    </tr>\n",
       "    <tr>\n",
       "      <th>4</th>\n",
       "      <td>68</td>\n",
       "      <td>116</td>\n",
       "      <td>P9WN81</td>\n",
       "      <td>1505</td>\n",
       "      <td>1</td>\n",
       "      <td>0.624356</td>\n",
       "    </tr>\n",
       "    <tr>\n",
       "      <th>...</th>\n",
       "      <td>...</td>\n",
       "      <td>...</td>\n",
       "      <td>...</td>\n",
       "      <td>...</td>\n",
       "      <td>...</td>\n",
       "      <td>...</td>\n",
       "    </tr>\n",
       "    <tr>\n",
       "      <th>75</th>\n",
       "      <td>47</td>\n",
       "      <td>154</td>\n",
       "      <td>P34891</td>\n",
       "      <td>2027</td>\n",
       "      <td>0</td>\n",
       "      <td>0.418126</td>\n",
       "    </tr>\n",
       "    <tr>\n",
       "      <th>76</th>\n",
       "      <td>31</td>\n",
       "      <td>98</td>\n",
       "      <td>Q9I700</td>\n",
       "      <td>8345</td>\n",
       "      <td>0</td>\n",
       "      <td>0.444636</td>\n",
       "    </tr>\n",
       "    <tr>\n",
       "      <th>77</th>\n",
       "      <td>32</td>\n",
       "      <td>81</td>\n",
       "      <td>Q7A742</td>\n",
       "      <td>687</td>\n",
       "      <td>0</td>\n",
       "      <td>0.594715</td>\n",
       "    </tr>\n",
       "    <tr>\n",
       "      <th>78</th>\n",
       "      <td>94</td>\n",
       "      <td>45</td>\n",
       "      <td>B0R2Z3</td>\n",
       "      <td>5930</td>\n",
       "      <td>0</td>\n",
       "      <td>0.594715</td>\n",
       "    </tr>\n",
       "    <tr>\n",
       "      <th>79</th>\n",
       "      <td>64</td>\n",
       "      <td>84</td>\n",
       "      <td>P65422</td>\n",
       "      <td>2463</td>\n",
       "      <td>0</td>\n",
       "      <td>0.594715</td>\n",
       "    </tr>\n",
       "  </tbody>\n",
       "</table>\n",
       "<p>80 rows × 6 columns</p>\n",
       "</div>"
      ],
      "text/plain": [
       "    protein_idx  reaction_idx     pid   rid  y    logits\n",
       "0            97           160  Q9XU42  1036  1  0.592269\n",
       "1            40            49  Q62967  1113  1  0.445196\n",
       "2            11            18  B5APK2  1786  1  0.536023\n",
       "3            63            92  Q06HQ7  7702  1  0.617381\n",
       "4            68           116  P9WN81  1505  1  0.624356\n",
       "..          ...           ...     ...   ... ..       ...\n",
       "75           47           154  P34891  2027  0  0.418126\n",
       "76           31            98  Q9I700  8345  0  0.444636\n",
       "77           32            81  Q7A742   687  0  0.594715\n",
       "78           94            45  B0R2Z3  5930  0  0.594715\n",
       "79           64            84  P65422  2463  0  0.594715\n",
       "\n",
       "[80 rows x 6 columns]"
      ]
     },
     "execution_count": 24,
     "metadata": {},
     "output_type": "execute_result"
    }
   ],
   "source": [
    "path = Path(\"/home/stef/quest_data/hiec/results/predictions/c304922d14b4467c8f03bf01e50c7757/target_output.parquet\")\n",
    "pd.read_parquet(path)"
   ]
  },
  {
   "cell_type": "code",
   "execution_count": null,
   "metadata": {},
   "outputs": [],
   "source": []
  }
 ],
 "metadata": {
  "kernelspec": {
   "display_name": "hiec",
   "language": "python",
   "name": "python3"
  },
  "language_info": {
   "codemirror_mode": {
    "name": "ipython",
    "version": 3
   },
   "file_extension": ".py",
   "mimetype": "text/x-python",
   "name": "python",
   "nbconvert_exporter": "python",
   "pygments_lexer": "ipython3",
   "version": "3.11.5"
  }
 },
 "nbformat": 4,
 "nbformat_minor": 2
}
