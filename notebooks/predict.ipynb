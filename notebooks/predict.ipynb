{
 "cells": [
  {
   "cell_type": "code",
   "execution_count": 10,
   "metadata": {},
   "outputs": [],
   "source": [
    "from pathlib import Path\n",
    "from omegaconf import OmegaConf\n",
    "import numpy as np\n",
    "import pandas as pd\n",
    "from src.ml_utils import downsample_negatives\n",
    "from sklearn.metrics import (\n",
    "    roc_auc_score,\n",
    "    roc_curve,\n",
    "    precision_recall_curve,\n",
    "    RocCurveDisplay,\n",
    "    PrecisionRecallDisplay\n",
    ")\n",
    "\n",
    "filepaths = OmegaConf.load(\"../configs/filepaths/base.yaml\")"
   ]
  },
  {
   "cell_type": "code",
   "execution_count": 16,
   "metadata": {},
   "outputs": [],
   "source": [
    "split_idx = 0\n",
    "exp_id = '0'\n",
    "model_id = '2037b6b3ceaa4819acf4884636a1f540'\n",
    "\n",
    "dataset = 'sprhea'\n",
    "toc = 'v3_folded_pt_ns'\n",
    "split_strategy = 'rcmcs'\n",
    "n_splits = 3\n",
    "seed = 1234\n",
    "rng = np.random.default_rng(seed=seed)"
   ]
  },
  {
   "cell_type": "code",
   "execution_count": null,
   "metadata": {},
   "outputs": [],
   "source": [
    "# Load in data\n",
    "val_data = pd.read_parquet(\n",
    "            Path(filepaths.scratch) / f\"{dataset}_{toc}/{split_strategy}/{n_splits}fold\" / f\"train_val_{split_idx}.parquet\"\n",
    "        )\n",
    "val_data['protein_embedding'] = val_data['protein_embedding'].apply(lambda x : np.array(x))\n",
    "downsample_negatives(val_data, 1, rng)\n",
    "\n",
    "logits = np.load(f\"logits_{split_idx}.npy\") # Load predictions"
   ]
  },
  {
   "cell_type": "code",
   "execution_count": 11,
   "metadata": {},
   "outputs": [
    {
     "data": {
      "text/html": [
       "<div>\n",
       "<style scoped>\n",
       "    .dataframe tbody tr th:only-of-type {\n",
       "        vertical-align: middle;\n",
       "    }\n",
       "\n",
       "    .dataframe tbody tr th {\n",
       "        vertical-align: top;\n",
       "    }\n",
       "\n",
       "    .dataframe thead th {\n",
       "        text-align: right;\n",
       "    }\n",
       "</style>\n",
       "<table border=\"1\" class=\"dataframe\">\n",
       "  <thead>\n",
       "    <tr style=\"text-align: right;\">\n",
       "      <th></th>\n",
       "      <th>protein_idx</th>\n",
       "      <th>reaction_idx</th>\n",
       "      <th>pid</th>\n",
       "      <th>rid</th>\n",
       "      <th>protein_embedding</th>\n",
       "      <th>smarts</th>\n",
       "      <th>reaction_center</th>\n",
       "      <th>y</th>\n",
       "    </tr>\n",
       "  </thead>\n",
       "  <tbody>\n",
       "    <tr>\n",
       "      <th>0</th>\n",
       "      <td>222</td>\n",
       "      <td>187</td>\n",
       "      <td>Q9KJ20</td>\n",
       "      <td>7694</td>\n",
       "      <td>[-0.012849729, 0.16863914, -0.07288795, -0.055...</td>\n",
       "      <td>C[S+](CCC(N)C(=O)O)CC1OC(n2cnc3c(N)ncnc32)C(O)...</td>\n",
       "      <td>[[[0, 1], [1]], [[14], [0, 1]]]</td>\n",
       "      <td>1</td>\n",
       "    </tr>\n",
       "    <tr>\n",
       "      <th>1</th>\n",
       "      <td>223</td>\n",
       "      <td>187</td>\n",
       "      <td>Q83WC3</td>\n",
       "      <td>7694</td>\n",
       "      <td>[-0.020623509, 0.14122067, -0.12404032, -0.027...</td>\n",
       "      <td>C[S+](CCC(N)C(=O)O)CC1OC(n2cnc3c(N)ncnc32)C(O)...</td>\n",
       "      <td>[[[0, 1], [1]], [[14], [0, 1]]]</td>\n",
       "      <td>1</td>\n",
       "    </tr>\n",
       "    <tr>\n",
       "      <th>2</th>\n",
       "      <td>224</td>\n",
       "      <td>187</td>\n",
       "      <td>Q9KJ21</td>\n",
       "      <td>7694</td>\n",
       "      <td>[-0.01765835, 0.14142956, -0.0953328, -0.06397...</td>\n",
       "      <td>C[S+](CCC(N)C(=O)O)CC1OC(n2cnc3c(N)ncnc32)C(O)...</td>\n",
       "      <td>[[[0, 1], [1]], [[14], [0, 1]]]</td>\n",
       "      <td>1</td>\n",
       "    </tr>\n",
       "    <tr>\n",
       "      <th>3</th>\n",
       "      <td>13363</td>\n",
       "      <td>187</td>\n",
       "      <td>Q9KJ22</td>\n",
       "      <td>7694</td>\n",
       "      <td>[-0.044674527, 0.17813939, -0.057687543, -0.07...</td>\n",
       "      <td>C[S+](CCC(N)C(=O)O)CC1OC(n2cnc3c(N)ncnc32)C(O)...</td>\n",
       "      <td>[[[0, 1], [1]], [[14], [0, 1]]]</td>\n",
       "      <td>1</td>\n",
       "    </tr>\n",
       "    <tr>\n",
       "      <th>4</th>\n",
       "      <td>13364</td>\n",
       "      <td>187</td>\n",
       "      <td>Q7U4Z8</td>\n",
       "      <td>7694</td>\n",
       "      <td>[-0.029929712, 0.16648583, -0.016743593, -0.03...</td>\n",
       "      <td>C[S+](CCC(N)C(=O)O)CC1OC(n2cnc3c(N)ncnc32)C(O)...</td>\n",
       "      <td>[[[0, 1], [1]], [[14], [0, 1]]]</td>\n",
       "      <td>1</td>\n",
       "    </tr>\n",
       "  </tbody>\n",
       "</table>\n",
       "</div>"
      ],
      "text/plain": [
       "   protein_idx  reaction_idx     pid   rid  \\\n",
       "0          222           187  Q9KJ20  7694   \n",
       "1          223           187  Q83WC3  7694   \n",
       "2          224           187  Q9KJ21  7694   \n",
       "3        13363           187  Q9KJ22  7694   \n",
       "4        13364           187  Q7U4Z8  7694   \n",
       "\n",
       "                                   protein_embedding  \\\n",
       "0  [-0.012849729, 0.16863914, -0.07288795, -0.055...   \n",
       "1  [-0.020623509, 0.14122067, -0.12404032, -0.027...   \n",
       "2  [-0.01765835, 0.14142956, -0.0953328, -0.06397...   \n",
       "3  [-0.044674527, 0.17813939, -0.057687543, -0.07...   \n",
       "4  [-0.029929712, 0.16648583, -0.016743593, -0.03...   \n",
       "\n",
       "                                              smarts  \\\n",
       "0  C[S+](CCC(N)C(=O)O)CC1OC(n2cnc3c(N)ncnc32)C(O)...   \n",
       "1  C[S+](CCC(N)C(=O)O)CC1OC(n2cnc3c(N)ncnc32)C(O)...   \n",
       "2  C[S+](CCC(N)C(=O)O)CC1OC(n2cnc3c(N)ncnc32)C(O)...   \n",
       "3  C[S+](CCC(N)C(=O)O)CC1OC(n2cnc3c(N)ncnc32)C(O)...   \n",
       "4  C[S+](CCC(N)C(=O)O)CC1OC(n2cnc3c(N)ncnc32)C(O)...   \n",
       "\n",
       "                   reaction_center  y  \n",
       "0  [[[0, 1], [1]], [[14], [0, 1]]]  1  \n",
       "1  [[[0, 1], [1]], [[14], [0, 1]]]  1  \n",
       "2  [[[0, 1], [1]], [[14], [0, 1]]]  1  \n",
       "3  [[[0, 1], [1]], [[14], [0, 1]]]  1  \n",
       "4  [[[0, 1], [1]], [[14], [0, 1]]]  1  "
      ]
     },
     "execution_count": 11,
     "metadata": {},
     "output_type": "execute_result"
    }
   ],
   "source": [
    "val_data.head()"
   ]
  },
  {
   "cell_type": "code",
   "execution_count": 19,
   "metadata": {},
   "outputs": [
    {
     "name": "stderr",
     "output_type": "stream",
     "text": [
      "No artists with labels found to put in legend.  Note that artists whose label start with an underscore are ignored when legend() is called with no argument.\n"
     ]
    },
    {
     "data": {
      "image/png": "[encoded data removed]",
      "text/plain": [
       "<Figure size 640x480 with 1 Axes>"
      ]
     },
     "metadata": {},
     "output_type": "display_data"
    }
   ],
   "source": [
    "fpr, tpr, _ = roc_curve(val_data['y'], logits)\n",
    "roc_display = RocCurveDisplay(fpr=fpr, tpr=tpr).plot()"
   ]
  }
 ],
 "metadata": {
  "kernelspec": {
   "display_name": "hiec",
   "language": "python",
   "name": "python3"
  },
  "language_info": {
   "codemirror_mode": {
    "name": "ipython",
    "version": 3
   },
   "file_extension": ".py",
   "mimetype": "text/x-python",
   "name": "python",
   "nbconvert_exporter": "python",
   "pygments_lexer": "ipython3",
   "version": "3.11.5"
  }
 },
 "nbformat": 4,
 "nbformat_minor": 2
}
