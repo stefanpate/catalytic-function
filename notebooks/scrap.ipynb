{
 "cells": [
  {
   "cell_type": "code",
   "execution_count": 21,
   "id": "0c37ef44",
   "metadata": {},
   "outputs": [],
   "source": [
    "from Bio import Align\n",
    "from Bio.Align import substitution_matrices\n",
    "from hydra import initialize, compose\n",
    "import numpy as np\n",
    "import matplotlib.pyplot as plt\n",
    "from pathlib import Path\n",
    "from src.similarity import load_similarity_matrix"
   ]
  },
  {
   "cell_type": "code",
   "execution_count": 22,
   "id": "5109d208",
   "metadata": {},
   "outputs": [],
   "source": [
    "with initialize(version_base=None, config_path=\"../configs/filepaths\"):\n",
    "    filepaths = compose(config_name=\"base\")"
   ]
  },
  {
   "cell_type": "code",
   "execution_count": 23,
   "id": "cb9f313b",
   "metadata": {},
   "outputs": [],
   "source": [
    "aligner = Align.PairwiseAligner()\n",
    "aligner.substitution_matrix = substitution_matrices.load(\"BLOSUM62\")\n",
    "aligner.open_gap_score = -11\n",
    "aligner.extend_gap_score = -1"
   ]
  },
  {
   "cell_type": "code",
   "execution_count": 24,
   "id": "056714ab",
   "metadata": {},
   "outputs": [
    {
     "name": "stdout",
     "output_type": "stream",
     "text": [
      "149.0\n"
     ]
    },
    {
     "data": {
      "text/plain": [
       "1"
      ]
     },
     "execution_count": 24,
     "metadata": {},
     "output_type": "execute_result"
    }
   ],
   "source": [
    "seq1 = \"AQVKGHGKKVADALTNAVAHVDDMPNALSALSDLHAHKLRVDPVNFKLLSHCLLVTLAAH\"\n",
    "seq2 = \"PKVKAHGKKVLGAFSDGLAHLDNLKGTFATLSELHCDKLHVDPENFRLLGNVLVCVLAHH\"\n",
    "alignments = aligner.align(seq1, seq2)\n",
    "print(alignments.score)\n",
    "len(alignments)"
   ]
  },
  {
   "cell_type": "code",
   "execution_count": 25,
   "id": "40e9708d",
   "metadata": {},
   "outputs": [
    {
     "name": "stdout",
     "output_type": "stream",
     "text": [
      "1\n",
      "target            0 A 1\n",
      "                  0 . 1\n",
      "query             0 W 1\n",
      "\n"
     ]
    }
   ],
   "source": [
    "seq1 = \"A\"\n",
    "seq2 = \"W\"\n",
    "alignments = aligner.align(seq1, seq2)\n",
    "print(len(alignments))\n",
    "print(alignments[0])"
   ]
  },
  {
   "cell_type": "code",
   "execution_count": 26,
   "id": "a84713dc",
   "metadata": {},
   "outputs": [
    {
     "data": {
      "text/plain": [
       "-3.0"
      ]
     },
     "execution_count": 26,
     "metadata": {},
     "output_type": "execute_result"
    }
   ],
   "source": [
    "alignments.score"
   ]
  },
  {
   "cell_type": "code",
   "execution_count": 27,
   "id": "bae3693d",
   "metadata": {},
   "outputs": [
    {
     "name": "stdout",
     "output_type": "stream",
     "text": [
      "-3.0\n"
     ]
    }
   ],
   "source": [
    "for elt in alignments:\n",
    "    print(elt.score)"
   ]
  },
  {
   "cell_type": "code",
   "execution_count": 28,
   "id": "483247d4",
   "metadata": {},
   "outputs": [],
   "source": [
    "S = load_similarity_matrix(Path(filepaths.results) / \"similarity_matrices\", \"sprhea\", \"v3_folded_test\", \"blosum\")"
   ]
  },
  {
   "cell_type": "code",
   "execution_count": 37,
   "id": "606fa9f1",
   "metadata": {},
   "outputs": [
    {
     "data": {
      "text/plain": [
       "0.0"
      ]
     },
     "execution_count": 37,
     "metadata": {},
     "output_type": "execute_result"
    }
   ],
   "source": [
    "np.percentile(S, 80)"
   ]
  },
  {
   "cell_type": "code",
   "execution_count": 39,
   "id": "916aa306",
   "metadata": {},
   "outputs": [
    {
     "data": {
      "image/png": "[encoded data removed]",
      "text/plain": [
       "<Figure size 640x480 with 1 Axes>"
      ]
     },
     "metadata": {},
     "output_type": "display_data"
    }
   ],
   "source": [
    "plt.hist(S.flatten(), bins=100)\n",
    "plt.show()"
   ]
  }
 ],
 "metadata": {
  "kernelspec": {
   "display_name": "hiec",
   "language": "python",
   "name": "python3"
  },
  "language_info": {
   "codemirror_mode": {
    "name": "ipython",
    "version": 3
   },
   "file_extension": ".py",
   "mimetype": "text/x-python",
   "name": "python",
   "nbconvert_exporter": "python",
   "pygments_lexer": "ipython3",
   "version": "3.11.5"
  }
 },
 "nbformat": 4,
 "nbformat_minor": 5
}
