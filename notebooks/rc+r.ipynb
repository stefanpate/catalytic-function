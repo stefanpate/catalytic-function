{
 "cells": [
  {
   "cell_type": "code",
   "execution_count": 8,
   "metadata": {},
   "outputs": [],
   "source": [
    "from rdkit import Chem\n",
    "from rdkit.Chem import rdmolfiles\n",
    "from src.cheminfo import draw_molecule, draw_reaction\n",
    "from IPython.display import SVG\n",
    "from copy import deepcopy"
   ]
  },
  {
   "cell_type": "code",
   "execution_count": 4,
   "metadata": {},
   "outputs": [
    {
     "data": {
      "image/svg+xml": [
       "<svg xmlns=\"http://www.w3.org/2000/svg\" xmlns:rdkit=\"http://www.rdkit.org/xml\" xmlns:xlink=\"http://www.w3.org/1999/xlink\" version=\"1.1\" baseProfile=\"full\" xml:space=\"preserve\" width=\"400px\" height=\"200px\" viewBox=\"0 0 400 200\">\n",
       "<!-- END OF HEADER -->\n",
       "<rect style=\"opacity:1.0;fill:#FFFFFF;stroke:none\" width=\"400.0\" height=\"200.0\" x=\"0.0\" y=\"0.0\"> </rect>\n",
       "<path class=\"bond-7 atom-6 atom-8\" d=\"M 138.5,71.0 L 151.0,96.1 L 145.6,98.7 L 133.2,73.7 Z\" style=\"fill:#FF7F7F;fill-rule:evenodd;fill-opacity:1;stroke:#FF7F7F;stroke-width:0.0px;stroke-linecap:butt;stroke-linejoin:miter;stroke-opacity:1;\"/>\n",
       "<path class=\"bond-11 atom-11 atom-12\" d=\"M 213.2,125.7 L 220.1,126.1 L 231.8,149.6 L 226.4,152.3 Z\" style=\"fill:#FF7F7F;fill-rule:evenodd;fill-opacity:1;stroke:#FF7F7F;stroke-width:0.0px;stroke-linecap:butt;stroke-linejoin:miter;stroke-opacity:1;\"/>\n",
       "<path class=\"bond-12 atom-11 atom-13\" d=\"M 230.6,99.5 L 233.6,105.7 L 220.1,126.1 L 213.2,125.7 Z\" style=\"fill:#FF7F7F;fill-rule:evenodd;fill-opacity:1;stroke:#FF7F7F;stroke-width:0.0px;stroke-linecap:butt;stroke-linejoin:miter;stroke-opacity:1;\"/>\n",
       "<path class=\"bond-13 atom-13 atom-14\" d=\"M 230.6,99.5 L 258.5,101.2 L 261.5,107.4 L 233.6,105.7 Z\" style=\"fill:#FF7F7F;fill-rule:evenodd;fill-opacity:1;stroke:#FF7F7F;stroke-width:0.0px;stroke-linecap:butt;stroke-linejoin:miter;stroke-opacity:1;\"/>\n",
       "<path class=\"bond-14 atom-14 atom-15\" d=\"M 273.0,79.3 L 278.0,82.6 L 261.5,107.4 L 258.5,101.2 Z\" style=\"fill:#FF7F7F;fill-rule:evenodd;fill-opacity:1;stroke:#FF7F7F;stroke-width:0.0px;stroke-linecap:butt;stroke-linejoin:miter;stroke-opacity:1;\"/>\n",
       "<ellipse cx=\"135.8\" cy=\"72.3\" rx=\"5.6\" ry=\"5.6\" class=\"atom-6\" style=\"fill:#FF7F7F;fill-rule:evenodd;stroke:#FF7F7F;stroke-width:1.0px;stroke-linecap:butt;stroke-linejoin:miter;stroke-opacity:1\"/>\n",
       "<ellipse cx=\"148.3\" cy=\"97.4\" rx=\"5.6\" ry=\"5.6\" class=\"atom-8\" style=\"fill:#FF7F7F;fill-rule:evenodd;stroke:#FF7F7F;stroke-width:1.0px;stroke-linecap:butt;stroke-linejoin:miter;stroke-opacity:1\"/>\n",
       "<ellipse cx=\"216.6\" cy=\"125.9\" rx=\"5.6\" ry=\"5.6\" class=\"atom-11\" style=\"fill:#FF7F7F;fill-rule:evenodd;stroke:#FF7F7F;stroke-width:1.0px;stroke-linecap:butt;stroke-linejoin:miter;stroke-opacity:1\"/>\n",
       "<ellipse cx=\"229.1\" cy=\"150.9\" rx=\"5.6\" ry=\"5.6\" class=\"atom-12\" style=\"fill:#FF7F7F;fill-rule:evenodd;stroke:#FF7F7F;stroke-width:1.0px;stroke-linecap:butt;stroke-linejoin:miter;stroke-opacity:1\"/>\n",
       "<ellipse cx=\"232.1\" cy=\"102.6\" rx=\"5.6\" ry=\"5.6\" class=\"atom-13\" style=\"fill:#FF7F7F;fill-rule:evenodd;stroke:#FF7F7F;stroke-width:1.0px;stroke-linecap:butt;stroke-linejoin:miter;stroke-opacity:1\"/>\n",
       "<ellipse cx=\"260.0\" cy=\"104.3\" rx=\"5.6\" ry=\"5.6\" class=\"atom-14\" style=\"fill:#FF7F7F;fill-rule:evenodd;stroke:#FF7F7F;stroke-width:1.0px;stroke-linecap:butt;stroke-linejoin:miter;stroke-opacity:1\"/>\n",
       "<ellipse cx=\"275.5\" cy=\"81.0\" rx=\"5.6\" ry=\"5.8\" class=\"atom-15\" style=\"fill:#FF7F7F;fill-rule:evenodd;stroke:#FF7F7F;stroke-width:1.0px;stroke-linecap:butt;stroke-linejoin:miter;stroke-opacity:1\"/>\n",
       "<path class=\"bond-0 atom-0 atom-1\" d=\"M 21.2,113.8 L 49.1,115.5\" style=\"fill:none;fill-rule:evenodd;stroke:#000000;stroke-width:2.0px;stroke-linecap:butt;stroke-linejoin:miter;stroke-opacity:1\"/>\n",
       "<path class=\"bond-1 atom-1 atom-2\" d=\"M 49.1,115.5 L 61.6,140.6\" style=\"fill:none;fill-rule:evenodd;stroke:#000000;stroke-width:2.0px;stroke-linecap:butt;stroke-linejoin:miter;stroke-opacity:1\"/>\n",
       "<path class=\"bond-2 atom-1 atom-3\" d=\"M 49.1,115.5 L 64.5,92.2\" style=\"fill:none;fill-rule:evenodd;stroke:#000000;stroke-width:2.0px;stroke-linecap:butt;stroke-linejoin:miter;stroke-opacity:1\"/>\n",
       "<path class=\"bond-2 atom-1 atom-3\" d=\"M 53.9,115.8 L 66.7,96.6\" style=\"fill:none;fill-rule:evenodd;stroke:#000000;stroke-width:2.0px;stroke-linecap:butt;stroke-linejoin:miter;stroke-opacity:1\"/>\n",
       "<path class=\"bond-3 atom-3 atom-4\" d=\"M 64.5,92.2 L 92.5,93.9\" style=\"fill:none;fill-rule:evenodd;stroke:#000000;stroke-width:2.0px;stroke-linecap:butt;stroke-linejoin:miter;stroke-opacity:1\"/>\n",
       "<path class=\"bond-4 atom-4 atom-5\" d=\"M 92.5,93.9 L 107.9,70.6\" style=\"fill:none;fill-rule:evenodd;stroke:#000000;stroke-width:2.0px;stroke-linecap:butt;stroke-linejoin:miter;stroke-opacity:1\"/>\n",
       "<path class=\"bond-5 atom-5 atom-6\" d=\"M 107.9,70.6 L 135.8,72.3\" style=\"fill:none;fill-rule:evenodd;stroke:#000000;stroke-width:2.0px;stroke-linecap:butt;stroke-linejoin:miter;stroke-opacity:1\"/>\n",
       "<path class=\"bond-6 atom-6 atom-7\" d=\"M 135.8,72.3 L 151.3,49.0\" style=\"fill:none;fill-rule:evenodd;stroke:#000000;stroke-width:2.0px;stroke-linecap:butt;stroke-linejoin:miter;stroke-opacity:1\"/>\n",
       "<path class=\"bond-7 atom-6 atom-8\" d=\"M 135.8,72.3 L 148.3,97.4\" style=\"fill:none;fill-rule:evenodd;stroke:#000000;stroke-width:2.0px;stroke-linecap:butt;stroke-linejoin:miter;stroke-opacity:1\"/>\n",
       "<path class=\"bond-7 atom-6 atom-8\" d=\"M 140.7,72.6 L 151.0,93.4\" style=\"fill:none;fill-rule:evenodd;stroke:#000000;stroke-width:2.0px;stroke-linecap:butt;stroke-linejoin:miter;stroke-opacity:1\"/>\n",
       "<path class=\"bond-8 atom-8 atom-9\" d=\"M 148.3,97.4 L 176.2,99.1\" style=\"fill:none;fill-rule:evenodd;stroke:#000000;stroke-width:2.0px;stroke-linecap:butt;stroke-linejoin:miter;stroke-opacity:1\"/>\n",
       "<path class=\"bond-9 atom-9 atom-10\" d=\"M 176.2,99.1 L 188.7,124.2\" style=\"fill:none;fill-rule:evenodd;stroke:#000000;stroke-width:2.0px;stroke-linecap:butt;stroke-linejoin:miter;stroke-opacity:1\"/>\n",
       "<path class=\"bond-10 atom-10 atom-11\" d=\"M 188.7,124.2 L 216.6,125.9\" style=\"fill:none;fill-rule:evenodd;stroke:#000000;stroke-width:2.0px;stroke-linecap:butt;stroke-linejoin:miter;stroke-opacity:1\"/>\n",
       "<path class=\"bond-11 atom-11 atom-12\" d=\"M 216.6,125.9 L 229.1,150.9\" style=\"fill:none;fill-rule:evenodd;stroke:#000000;stroke-width:2.0px;stroke-linecap:butt;stroke-linejoin:miter;stroke-opacity:1\"/>\n",
       "<path class=\"bond-12 atom-11 atom-13\" d=\"M 216.6,125.9 L 232.1,102.6\" style=\"fill:none;fill-rule:evenodd;stroke:#000000;stroke-width:2.0px;stroke-linecap:butt;stroke-linejoin:miter;stroke-opacity:1\"/>\n",
       "<path class=\"bond-12 atom-11 atom-13\" d=\"M 221.5,126.2 L 234.2,106.9\" style=\"fill:none;fill-rule:evenodd;stroke:#000000;stroke-width:2.0px;stroke-linecap:butt;stroke-linejoin:miter;stroke-opacity:1\"/>\n",
       "<path class=\"bond-13 atom-13 atom-14\" d=\"M 232.1,102.6 L 260.0,104.3\" style=\"fill:none;fill-rule:evenodd;stroke:#000000;stroke-width:2.0px;stroke-linecap:butt;stroke-linejoin:miter;stroke-opacity:1\"/>\n",
       "<path class=\"bond-14 atom-14 atom-15\" d=\"M 260.0,104.3 L 266.1,95.2\" style=\"fill:none;fill-rule:evenodd;stroke:#000000;stroke-width:2.0px;stroke-linecap:butt;stroke-linejoin:miter;stroke-opacity:1\"/>\n",
       "<path class=\"bond-14 atom-14 atom-15\" d=\"M 266.1,95.2 L 272.1,86.0\" style=\"fill:none;fill-rule:evenodd;stroke:#FF0000;stroke-width:2.0px;stroke-linecap:butt;stroke-linejoin:miter;stroke-opacity:1\"/>\n",
       "<path class=\"bond-15 atom-15 atom-16\" d=\"M 280.0,81.3 L 290.0,81.9\" style=\"fill:none;fill-rule:evenodd;stroke:#FF0000;stroke-width:2.0px;stroke-linecap:butt;stroke-linejoin:miter;stroke-opacity:1\"/>\n",
       "<path class=\"bond-15 atom-15 atom-16\" d=\"M 290.0,81.9 L 299.9,82.5\" style=\"fill:none;fill-rule:evenodd;stroke:#FF7F00;stroke-width:2.0px;stroke-linecap:butt;stroke-linejoin:miter;stroke-opacity:1\"/>\n",
       "<path class=\"bond-16 atom-16 atom-17\" d=\"M 301.0,87.5 L 300.4,96.5\" style=\"fill:none;fill-rule:evenodd;stroke:#FF7F00;stroke-width:2.0px;stroke-linecap:butt;stroke-linejoin:miter;stroke-opacity:1\"/>\n",
       "<path class=\"bond-16 atom-16 atom-17\" d=\"M 300.4,96.5 L 299.9,105.6\" style=\"fill:none;fill-rule:evenodd;stroke:#FF0000;stroke-width:2.0px;stroke-linecap:butt;stroke-linejoin:miter;stroke-opacity:1\"/>\n",
       "<path class=\"bond-16 atom-16 atom-17\" d=\"M 305.2,87.7 L 304.6,96.8\" style=\"fill:none;fill-rule:evenodd;stroke:#FF7F00;stroke-width:2.0px;stroke-linecap:butt;stroke-linejoin:miter;stroke-opacity:1\"/>\n",
       "<path class=\"bond-16 atom-16 atom-17\" d=\"M 304.6,96.8 L 304.1,105.8\" style=\"fill:none;fill-rule:evenodd;stroke:#FF0000;stroke-width:2.0px;stroke-linecap:butt;stroke-linejoin:miter;stroke-opacity:1\"/>\n",
       "<path class=\"bond-17 atom-16 atom-18\" d=\"M 303.7,77.8 L 304.2,68.8\" style=\"fill:none;fill-rule:evenodd;stroke:#FF7F00;stroke-width:2.0px;stroke-linecap:butt;stroke-linejoin:miter;stroke-opacity:1\"/>\n",
       "<path class=\"bond-17 atom-16 atom-18\" d=\"M 304.2,68.8 L 304.8,59.8\" style=\"fill:none;fill-rule:evenodd;stroke:#FF0000;stroke-width:2.0px;stroke-linecap:butt;stroke-linejoin:miter;stroke-opacity:1\"/>\n",
       "<path class=\"bond-18 atom-16 atom-19\" d=\"M 306.8,82.9 L 316.8,83.5\" style=\"fill:none;fill-rule:evenodd;stroke:#FF7F00;stroke-width:2.0px;stroke-linecap:butt;stroke-linejoin:miter;stroke-opacity:1\"/>\n",
       "<path class=\"bond-18 atom-16 atom-19\" d=\"M 316.8,83.5 L 326.8,84.1\" style=\"fill:none;fill-rule:evenodd;stroke:#FF0000;stroke-width:2.0px;stroke-linecap:butt;stroke-linejoin:miter;stroke-opacity:1\"/>\n",
       "<path class=\"bond-19 atom-19 atom-20\" d=\"M 333.8,89.5 L 337.6,97.0\" style=\"fill:none;fill-rule:evenodd;stroke:#FF0000;stroke-width:2.0px;stroke-linecap:butt;stroke-linejoin:miter;stroke-opacity:1\"/>\n",
       "<path class=\"bond-19 atom-19 atom-20\" d=\"M 337.6,97.0 L 341.4,104.6\" style=\"fill:none;fill-rule:evenodd;stroke:#FF7F00;stroke-width:2.0px;stroke-linecap:butt;stroke-linejoin:miter;stroke-opacity:1\"/>\n",
       "<path class=\"bond-20 atom-20 atom-21\" d=\"M 348.2,109.6 L 356.7,105.4\" style=\"fill:none;fill-rule:evenodd;stroke:#FF7F00;stroke-width:2.0px;stroke-linecap:butt;stroke-linejoin:miter;stroke-opacity:1\"/>\n",
       "<path class=\"bond-20 atom-20 atom-21\" d=\"M 356.7,105.4 L 365.2,101.2\" style=\"fill:none;fill-rule:evenodd;stroke:#FF0000;stroke-width:2.0px;stroke-linecap:butt;stroke-linejoin:miter;stroke-opacity:1\"/>\n",
       "<path class=\"bond-20 atom-20 atom-21\" d=\"M 346.3,105.9 L 354.8,101.6\" style=\"fill:none;fill-rule:evenodd;stroke:#FF7F00;stroke-width:2.0px;stroke-linecap:butt;stroke-linejoin:miter;stroke-opacity:1\"/>\n",
       "<path class=\"bond-20 atom-20 atom-21\" d=\"M 354.8,101.6 L 363.3,97.4\" style=\"fill:none;fill-rule:evenodd;stroke:#FF0000;stroke-width:2.0px;stroke-linecap:butt;stroke-linejoin:miter;stroke-opacity:1\"/>\n",
       "<path class=\"bond-21 atom-20 atom-22\" d=\"M 340.3,111.2 L 331.8,115.4\" style=\"fill:none;fill-rule:evenodd;stroke:#FF7F00;stroke-width:2.0px;stroke-linecap:butt;stroke-linejoin:miter;stroke-opacity:1\"/>\n",
       "<path class=\"bond-21 atom-20 atom-22\" d=\"M 331.8,115.4 L 323.3,119.7\" style=\"fill:none;fill-rule:evenodd;stroke:#FF0000;stroke-width:2.0px;stroke-linecap:butt;stroke-linejoin:miter;stroke-opacity:1\"/>\n",
       "<path class=\"bond-22 atom-20 atom-23\" d=\"M 346.2,114.4 L 350.0,122.0\" style=\"fill:none;fill-rule:evenodd;stroke:#FF7F00;stroke-width:2.0px;stroke-linecap:butt;stroke-linejoin:miter;stroke-opacity:1\"/>\n",
       "<path class=\"bond-22 atom-20 atom-23\" d=\"M 350.0,122.0 L 353.8,129.6\" style=\"fill:none;fill-rule:evenodd;stroke:#FF0000;stroke-width:2.0px;stroke-linecap:butt;stroke-linejoin:miter;stroke-opacity:1\"/>\n",
       "<path d=\"M 63.8,93.4 L 64.5,92.2 L 65.9,92.3\" style=\"fill:none;stroke:#000000;stroke-width:2.0px;stroke-linecap:butt;stroke-linejoin:miter;stroke-opacity:1;\"/>\n",
       "<path d=\"M 91.1,93.9 L 92.5,93.9 L 93.2,92.8\" style=\"fill:none;stroke:#000000;stroke-width:2.0px;stroke-linecap:butt;stroke-linejoin:miter;stroke-opacity:1;\"/>\n",
       "<path d=\"M 107.2,71.8 L 107.9,70.6 L 109.3,70.7\" style=\"fill:none;stroke:#000000;stroke-width:2.0px;stroke-linecap:butt;stroke-linejoin:miter;stroke-opacity:1;\"/>\n",
       "<path d=\"M 147.7,96.1 L 148.3,97.4 L 149.7,97.5\" style=\"fill:none;stroke:#000000;stroke-width:2.0px;stroke-linecap:butt;stroke-linejoin:miter;stroke-opacity:1;\"/>\n",
       "<path d=\"M 174.8,99.0 L 176.2,99.1 L 176.9,100.4\" style=\"fill:none;stroke:#000000;stroke-width:2.0px;stroke-linecap:butt;stroke-linejoin:miter;stroke-opacity:1;\"/>\n",
       "<path d=\"M 188.1,122.9 L 188.7,124.2 L 190.1,124.3\" style=\"fill:none;stroke:#000000;stroke-width:2.0px;stroke-linecap:butt;stroke-linejoin:miter;stroke-opacity:1;\"/>\n",
       "<path d=\"M 231.3,103.7 L 232.1,102.6 L 233.5,102.7\" style=\"fill:none;stroke:#000000;stroke-width:2.0px;stroke-linecap:butt;stroke-linejoin:miter;stroke-opacity:1;\"/>\n",
       "<path d=\"M 258.6,104.2 L 260.0,104.3 L 260.3,103.8\" style=\"fill:none;stroke:#000000;stroke-width:2.0px;stroke-linecap:butt;stroke-linejoin:miter;stroke-opacity:1;\"/>\n",
       "<path class=\"atom-15\" d=\"M 271.8 81.0 Q 271.8 79.1, 272.8 78.0 Q 273.7 77.0, 275.5 77.0 Q 277.2 77.0, 278.2 78.0 Q 279.1 79.1, 279.1 81.0 Q 279.1 82.9, 278.2 84.0 Q 277.2 85.1, 275.5 85.1 Q 273.7 85.1, 272.8 84.0 Q 271.8 82.9, 271.8 81.0 M 275.5 84.2 Q 276.7 84.2, 277.3 83.4 Q 278.0 82.6, 278.0 81.0 Q 278.0 79.4, 277.3 78.7 Q 276.7 77.9, 275.5 77.9 Q 274.3 77.9, 273.6 78.6 Q 272.9 79.4, 272.9 81.0 Q 272.9 82.6, 273.6 83.4 Q 274.3 84.2, 275.5 84.2 \" fill=\"#FF0000\"/>\n",
       "<path class=\"atom-16\" d=\"M 303.2 78.7 Q 304.6 78.7, 305.2 79.4 Q 305.9 80.0, 305.9 81.1 Q 305.9 82.2, 305.2 82.8 Q 304.5 83.4, 303.2 83.4 L 301.9 83.4 L 301.9 86.7 L 300.9 86.7 L 300.9 78.7 L 303.2 78.7 M 303.2 82.5 Q 304.0 82.5, 304.4 82.1 Q 304.8 81.8, 304.8 81.1 Q 304.8 80.4, 304.4 80.0 Q 304.0 79.6, 303.2 79.6 L 301.9 79.6 L 301.9 82.5 L 303.2 82.5 \" fill=\"#FF7F00\"/>\n",
       "<path class=\"atom-17\" d=\"M 298.0 110.6 Q 298.0 108.7, 299.0 107.7 Q 299.9 106.6, 301.7 106.6 Q 303.4 106.6, 304.4 107.7 Q 305.3 108.7, 305.3 110.6 Q 305.3 112.6, 304.4 113.7 Q 303.4 114.8, 301.7 114.8 Q 299.9 114.8, 299.0 113.7 Q 298.0 112.6, 298.0 110.6 M 301.7 113.9 Q 302.9 113.9, 303.5 113.1 Q 304.2 112.2, 304.2 110.6 Q 304.2 109.1, 303.5 108.3 Q 302.9 107.5, 301.7 107.5 Q 300.5 107.5, 299.8 108.3 Q 299.1 109.1, 299.1 110.6 Q 299.1 112.3, 299.8 113.1 Q 300.5 113.9, 301.7 113.9 \" fill=\"#FF0000\"/>\n",
       "<path class=\"atom-18\" d=\"M 301.5 54.8 Q 301.5 52.9, 302.4 51.8 Q 303.4 50.8, 305.1 50.8 Q 306.9 50.8, 307.8 51.8 Q 308.8 52.9, 308.8 54.8 Q 308.8 56.7, 307.8 57.8 Q 306.9 58.9, 305.1 58.9 Q 303.4 58.9, 302.4 57.8 Q 301.5 56.7, 301.5 54.8 M 305.1 58.0 Q 306.3 58.0, 307.0 57.2 Q 307.6 56.4, 307.6 54.8 Q 307.6 53.2, 307.0 52.5 Q 306.3 51.7, 305.1 51.7 Q 303.9 51.7, 303.2 52.5 Q 302.6 53.2, 302.6 54.8 Q 302.6 56.4, 303.2 57.2 Q 303.9 58.0, 305.1 58.0 \" fill=\"#FF0000\"/>\n",
       "<path class=\"atom-18\" d=\"M 310.0 50.9 L 311.1 50.9 L 311.1 54.2 L 315.1 54.2 L 315.1 50.9 L 316.2 50.9 L 316.2 58.8 L 315.1 58.8 L 315.1 55.1 L 311.1 55.1 L 311.1 58.8 L 310.0 58.8 L 310.0 50.9 \" fill=\"#FF0000\"/>\n",
       "<path class=\"atom-19\" d=\"M 327.7 84.5 Q 327.7 82.5, 328.6 81.5 Q 329.6 80.4, 331.3 80.4 Q 333.1 80.4, 334.0 81.5 Q 335.0 82.5, 335.0 84.5 Q 335.0 86.4, 334.0 87.5 Q 333.0 88.6, 331.3 88.6 Q 329.6 88.6, 328.6 87.5 Q 327.7 86.4, 327.7 84.5 M 331.3 87.7 Q 332.5 87.7, 333.2 86.9 Q 333.8 86.0, 333.8 84.5 Q 333.8 82.9, 333.2 82.1 Q 332.5 81.3, 331.3 81.3 Q 330.1 81.3, 329.4 82.1 Q 328.8 82.9, 328.8 84.5 Q 328.8 86.1, 329.4 86.9 Q 330.1 87.7, 331.3 87.7 \" fill=\"#FF0000\"/>\n",
       "<path class=\"atom-20\" d=\"M 343.6 105.5 Q 344.9 105.5, 345.6 106.1 Q 346.3 106.7, 346.3 107.8 Q 346.3 108.9, 345.6 109.6 Q 344.9 110.2, 343.6 110.2 L 342.3 110.2 L 342.3 113.4 L 341.3 113.4 L 341.3 105.5 L 343.6 105.5 M 343.6 109.3 Q 344.4 109.3, 344.8 108.9 Q 345.2 108.5, 345.2 107.8 Q 345.2 107.1, 344.8 106.8 Q 344.4 106.4, 343.6 106.4 L 342.3 106.4 L 342.3 109.3 L 343.6 109.3 \" fill=\"#FF7F00\"/>\n",
       "<path class=\"atom-21\" d=\"M 365.2 97.0 Q 365.2 95.1, 366.1 94.1 Q 367.1 93.0, 368.8 93.0 Q 370.6 93.0, 371.5 94.1 Q 372.5 95.1, 372.5 97.0 Q 372.5 99.0, 371.5 100.1 Q 370.6 101.1, 368.8 101.1 Q 367.1 101.1, 366.1 100.1 Q 365.2 99.0, 365.2 97.0 M 368.8 100.2 Q 370.0 100.2, 370.7 99.4 Q 371.3 98.6, 371.3 97.0 Q 371.3 95.5, 370.7 94.7 Q 370.0 93.9, 368.8 93.9 Q 367.6 93.9, 367.0 94.7 Q 366.3 95.5, 366.3 97.0 Q 366.3 98.6, 367.0 99.4 Q 367.6 100.2, 368.8 100.2 \" fill=\"#FF0000\"/>\n",
       "<path class=\"atom-22\" d=\"M 307.3 118.0 L 308.3 118.0 L 308.3 121.4 L 312.4 121.4 L 312.4 118.0 L 313.5 118.0 L 313.5 125.9 L 312.4 125.9 L 312.4 122.3 L 308.3 122.3 L 308.3 125.9 L 307.3 125.9 L 307.3 118.0 \" fill=\"#FF0000\"/>\n",
       "<path class=\"atom-22\" d=\"M 315.1 122.0 Q 315.1 120.1, 316.0 119.0 Q 317.0 117.9, 318.7 117.9 Q 320.5 117.9, 321.4 119.0 Q 322.4 120.1, 322.4 122.0 Q 322.4 123.9, 321.4 125.0 Q 320.5 126.1, 318.7 126.1 Q 317.0 126.1, 316.0 125.0 Q 315.1 123.9, 315.1 122.0 M 318.7 125.2 Q 319.9 125.2, 320.6 124.4 Q 321.3 123.6, 321.3 122.0 Q 321.3 120.4, 320.6 119.6 Q 319.9 118.8, 318.7 118.8 Q 317.5 118.8, 316.9 119.6 Q 316.2 120.4, 316.2 122.0 Q 316.2 123.6, 316.9 124.4 Q 317.5 125.2, 318.7 125.2 \" fill=\"#FF0000\"/>\n",
       "<path class=\"atom-23\" d=\"M 352.6 134.5 Q 352.6 132.6, 353.6 131.6 Q 354.5 130.5, 356.2 130.5 Q 358.0 130.5, 358.9 131.6 Q 359.9 132.6, 359.9 134.5 Q 359.9 136.5, 358.9 137.6 Q 358.0 138.7, 356.2 138.7 Q 354.5 138.7, 353.6 137.6 Q 352.6 136.5, 352.6 134.5 M 356.2 137.8 Q 357.5 137.8, 358.1 137.0 Q 358.8 136.1, 358.8 134.5 Q 358.8 133.0, 358.1 132.2 Q 357.5 131.4, 356.2 131.4 Q 355.0 131.4, 354.4 132.2 Q 353.7 133.0, 353.7 134.5 Q 353.7 136.1, 354.4 137.0 Q 355.0 137.8, 356.2 137.8 \" fill=\"#FF0000\"/>\n",
       "<path class=\"atom-23\" d=\"M 361.1 130.6 L 362.2 130.6 L 362.2 134.0 L 366.2 134.0 L 366.2 130.6 L 367.3 130.6 L 367.3 138.5 L 366.2 138.5 L 366.2 134.9 L 362.2 134.9 L 362.2 138.5 L 361.1 138.5 L 361.1 130.6 \" fill=\"#FF0000\"/>\n",
       "<path class=\"note\" d=\"M 21.4 111.2 Q 20.7 111.2, 20.4 110.7 Q 20.0 110.1, 20.0 109.2 Q 20.0 108.2, 20.4 107.7 Q 20.7 107.1, 21.4 107.1 Q 22.2 107.1, 22.5 107.7 Q 22.9 108.2, 22.9 109.2 Q 22.9 110.1, 22.5 110.7 Q 22.2 111.2, 21.4 111.2 M 21.4 110.8 Q 21.9 110.8, 22.1 110.4 Q 22.3 110.0, 22.3 109.2 Q 22.3 108.4, 22.1 108.0 Q 21.9 107.6, 21.4 107.6 Q 21.0 107.6, 20.8 108.0 Q 20.6 108.4, 20.6 109.2 Q 20.6 110.0, 20.8 110.4 Q 21.0 110.8, 21.4 110.8 \" fill=\"#000000\"/>\n",
       "<path class=\"note\" d=\"M 45.5 121.0 L 46.4 121.0 L 46.4 118.0 L 45.4 118.3 L 45.3 118.0 L 46.5 117.4 L 46.9 117.5 L 46.9 121.0 L 47.7 121.0 L 47.7 121.4 L 45.5 121.4 L 45.5 121.0 \" fill=\"#000000\"/>\n",
       "<path class=\"note\" d=\"M 56.1 141.4 Q 56.2 141.1, 56.5 140.9 Q 56.9 140.7, 57.4 140.7 Q 58.0 140.7, 58.3 141.0 Q 58.6 141.3, 58.6 141.9 Q 58.6 142.5, 58.2 143.0 Q 57.8 143.6, 56.9 144.2 L 58.7 144.2 L 58.7 144.7 L 56.0 144.7 L 56.0 144.3 Q 56.8 143.8, 57.2 143.4 Q 57.7 143.0, 57.9 142.6 Q 58.1 142.3, 58.1 141.9 Q 58.1 141.5, 57.9 141.3 Q 57.7 141.1, 57.4 141.1 Q 57.1 141.1, 56.8 141.2 Q 56.6 141.4, 56.5 141.6 L 56.1 141.4 \" fill=\"#000000\"/>\n",
       "<path class=\"note\" d=\"M 63.0 88.0 Q 63.4 88.1, 63.6 88.3 Q 63.8 88.6, 63.8 89.0 Q 63.8 89.3, 63.6 89.6 Q 63.5 89.8, 63.2 90.0 Q 62.8 90.1, 62.4 90.1 Q 62.0 90.1, 61.7 90.0 Q 61.4 89.8, 61.1 89.5 L 61.5 89.2 Q 61.7 89.4, 61.9 89.5 Q 62.1 89.6, 62.4 89.6 Q 62.8 89.6, 63.0 89.5 Q 63.2 89.3, 63.2 89.0 Q 63.2 88.5, 63.0 88.4 Q 62.8 88.2, 62.3 88.2 L 62.0 88.2 L 62.0 87.8 L 62.3 87.8 Q 62.7 87.8, 62.9 87.6 Q 63.2 87.4, 63.2 87.0 Q 63.2 86.8, 63.0 86.6 Q 62.8 86.5, 62.4 86.5 Q 62.1 86.5, 61.9 86.6 Q 61.7 86.7, 61.6 87.0 L 61.2 86.8 Q 61.3 86.5, 61.6 86.3 Q 62.0 86.0, 62.4 86.0 Q 63.0 86.0, 63.4 86.3 Q 63.7 86.6, 63.7 87.0 Q 63.7 87.4, 63.5 87.6 Q 63.4 87.8, 63.0 88.0 \" fill=\"#000000\"/>\n",
       "<path class=\"note\" d=\"M 95.6 98.7 L 96.1 98.7 L 96.1 99.2 L 95.6 99.2 L 95.6 100.1 L 95.1 100.1 L 95.1 99.2 L 93.0 99.2 L 93.0 98.8 L 94.8 96.1 L 95.6 96.1 L 95.6 98.7 M 93.7 98.7 L 95.1 98.7 L 95.1 96.5 L 93.7 98.7 \" fill=\"#000000\"/>\n",
       "<path class=\"note\" d=\"M 105.9 65.9 Q 106.3 65.9, 106.6 66.1 Q 106.9 66.2, 107.0 66.5 Q 107.2 66.8, 107.2 67.2 Q 107.2 67.6, 107.0 67.9 Q 106.8 68.2, 106.5 68.3 Q 106.1 68.5, 105.8 68.5 Q 105.4 68.5, 105.1 68.3 Q 104.7 68.2, 104.5 67.9 L 104.8 67.6 Q 105.0 67.8, 105.3 67.9 Q 105.5 68.0, 105.8 68.0 Q 106.1 68.0, 106.4 67.8 Q 106.6 67.6, 106.6 67.2 Q 106.6 66.8, 106.4 66.6 Q 106.1 66.4, 105.8 66.4 Q 105.4 66.4, 105.0 66.5 L 104.7 66.4 L 104.9 64.5 L 106.9 64.5 L 106.9 64.9 L 105.4 64.9 L 105.2 66.1 Q 105.6 65.9, 105.9 65.9 \" fill=\"#000000\"/>\n",
       "<path class=\"note\" d=\"M 133.9 67.7 Q 134.3 67.7, 134.6 67.9 Q 134.8 68.0, 135.0 68.3 Q 135.1 68.6, 135.1 68.9 Q 135.1 69.3, 135.0 69.6 Q 134.8 69.9, 134.5 70.1 Q 134.2 70.2, 133.8 70.2 Q 133.1 70.2, 132.7 69.7 Q 132.4 69.3, 132.4 68.3 Q 132.4 67.3, 132.8 66.7 Q 133.3 66.2, 134.1 66.2 Q 134.4 66.2, 134.6 66.2 Q 134.8 66.3, 135.0 66.4 L 134.8 66.8 Q 134.5 66.6, 134.1 66.6 Q 133.6 66.6, 133.3 67.0 Q 133.0 67.3, 133.0 68.1 Q 133.2 67.9, 133.4 67.8 Q 133.7 67.7, 133.9 67.7 M 133.8 69.8 Q 134.0 69.8, 134.2 69.6 Q 134.4 69.5, 134.5 69.3 Q 134.6 69.1, 134.6 68.9 Q 134.6 68.6, 134.4 68.4 Q 134.2 68.1, 133.8 68.1 Q 133.6 68.1, 133.4 68.2 Q 133.1 68.3, 133.0 68.5 Q 133.0 69.2, 133.2 69.5 Q 133.4 69.8, 133.8 69.8 \" fill=\"#000000\"/>\n",
       "<path class=\"note\" d=\"M 156.0 50.1 L 153.9 50.1 L 153.9 49.6 L 156.5 49.6 L 156.5 50.0 L 154.9 53.6 L 154.4 53.6 L 156.0 50.1 \" fill=\"#000000\"/>\n",
       "<path class=\"note\" d=\"M 146.4 101.2 Q 146.7 101.3, 146.9 101.6 Q 147.1 101.8, 147.1 102.2 Q 147.1 102.5, 147.0 102.8 Q 146.8 103.1, 146.5 103.2 Q 146.2 103.3, 145.8 103.3 Q 145.1 103.3, 144.7 103.0 Q 144.3 102.7, 144.3 102.2 Q 144.3 101.9, 144.5 101.6 Q 144.7 101.4, 145.0 101.2 Q 144.8 101.1, 144.6 100.8 Q 144.5 100.6, 144.5 100.3 Q 144.5 99.8, 144.8 99.5 Q 145.2 99.3, 145.7 99.3 Q 146.3 99.3, 146.7 99.5 Q 147.0 99.8, 147.0 100.3 Q 147.0 100.6, 146.8 100.8 Q 146.7 101.0, 146.4 101.2 M 145.7 99.7 Q 145.4 99.7, 145.2 99.9 Q 145.0 100.0, 145.0 100.3 Q 145.0 100.5, 145.2 100.6 Q 145.3 100.8, 145.5 100.8 Q 145.6 100.9, 146.0 101.0 Q 146.2 100.9, 146.3 100.7 Q 146.4 100.5, 146.4 100.3 Q 146.4 100.0, 146.2 99.9 Q 146.1 99.7, 145.7 99.7 M 145.8 102.9 Q 146.1 102.9, 146.4 102.7 Q 146.6 102.5, 146.6 102.2 Q 146.6 102.0, 146.5 101.8 Q 146.3 101.7, 146.2 101.6 Q 146.0 101.6, 145.7 101.5 L 145.4 101.4 Q 145.1 101.5, 145.0 101.7 Q 144.9 101.9, 144.9 102.2 Q 144.9 102.5, 145.1 102.7 Q 145.4 102.9, 145.8 102.9 \" fill=\"#000000\"/>\n",
       "<path class=\"note\" d=\"M 178.8 93.2 Q 179.5 93.2, 179.8 93.7 Q 180.2 94.2, 180.2 95.1 Q 180.2 96.2, 179.7 96.7 Q 179.3 97.3, 178.5 97.3 Q 178.2 97.3, 178.0 97.2 Q 177.8 97.2, 177.6 97.0 L 177.8 96.7 Q 178.1 96.8, 178.5 96.8 Q 179.0 96.8, 179.3 96.5 Q 179.6 96.1, 179.6 95.4 Q 179.4 95.6, 179.2 95.7 Q 178.9 95.7, 178.6 95.7 Q 178.3 95.7, 178.0 95.6 Q 177.7 95.4, 177.6 95.2 Q 177.4 94.9, 177.4 94.5 Q 177.4 94.2, 177.6 93.9 Q 177.8 93.6, 178.1 93.4 Q 178.4 93.2, 178.8 93.2 M 178.0 94.5 Q 178.0 94.9, 178.2 95.1 Q 178.4 95.3, 178.7 95.3 Q 179.0 95.3, 179.2 95.2 Q 179.5 95.1, 179.6 94.9 Q 179.6 94.3, 179.4 94.0 Q 179.2 93.7, 178.8 93.7 Q 178.6 93.7, 178.4 93.8 Q 178.2 93.9, 178.1 94.1 Q 178.0 94.3, 178.0 94.5 \" fill=\"#000000\"/>\n",
       "<path class=\"note\" d=\"M 183.5 129.6 L 184.3 129.6 L 184.3 126.6 L 183.4 126.9 L 183.2 126.6 L 184.4 126.1 L 184.8 126.1 L 184.8 129.6 L 185.6 129.6 L 185.6 130.1 L 183.5 130.1 L 183.5 129.6 \" fill=\"#000000\"/>\n",
       "<path class=\"note\" d=\"M 187.6 130.1 Q 186.8 130.1, 186.5 129.6 Q 186.1 129.0, 186.1 128.1 Q 186.1 127.1, 186.5 126.6 Q 186.8 126.0, 187.6 126.0 Q 188.3 126.0, 188.7 126.6 Q 189.0 127.1, 189.0 128.1 Q 189.0 129.0, 188.7 129.6 Q 188.3 130.1, 187.6 130.1 M 187.6 129.7 Q 188.0 129.7, 188.2 129.3 Q 188.5 128.9, 188.5 128.1 Q 188.5 127.3, 188.2 126.9 Q 188.0 126.5, 187.6 126.5 Q 187.1 126.5, 186.9 126.9 Q 186.7 127.3, 186.7 128.1 Q 186.7 128.9, 186.9 129.3 Q 187.1 129.7, 187.6 129.7 \" fill=\"#000000\"/>\n",
       "<path class=\"note\" d=\"M 209.1 135.2 L 209.9 135.2 L 209.9 132.2 L 209.0 132.5 L 208.9 132.2 L 210.1 131.7 L 210.5 131.7 L 210.5 135.2 L 211.2 135.2 L 211.2 135.7 L 209.1 135.7 L 209.1 135.2 \" fill=\"#000000\"/>\n",
       "<path class=\"note\" d=\"M 211.9 135.2 L 212.8 135.2 L 212.8 132.2 L 211.8 132.5 L 211.7 132.2 L 212.9 131.7 L 213.3 131.7 L 213.3 135.2 L 214.1 135.2 L 214.1 135.7 L 211.9 135.7 L 211.9 135.2 \" fill=\"#000000\"/>\n",
       "<path class=\"note\" d=\"M 222.4 154.6 L 223.2 154.6 L 223.2 151.6 L 222.3 151.9 L 222.1 151.6 L 223.4 151.0 L 223.8 151.1 L 223.8 154.6 L 224.5 154.6 L 224.5 155.0 L 222.4 155.0 L 222.4 154.6 \" fill=\"#000000\"/>\n",
       "<path class=\"note\" d=\"M 225.0 151.8 Q 225.2 151.4, 225.5 151.2 Q 225.9 151.0, 226.4 151.0 Q 227.0 151.0, 227.3 151.3 Q 227.6 151.7, 227.6 152.2 Q 227.6 152.8, 227.2 153.4 Q 226.8 153.9, 225.9 154.6 L 227.7 154.6 L 227.7 155.0 L 225.0 155.0 L 225.0 154.6 Q 225.8 154.1, 226.2 153.7 Q 226.6 153.3, 226.9 153.0 Q 227.1 152.6, 227.1 152.3 Q 227.1 151.9, 226.9 151.7 Q 226.7 151.5, 226.4 151.5 Q 226.0 151.5, 225.8 151.6 Q 225.6 151.7, 225.5 152.0 L 225.0 151.8 \" fill=\"#000000\"/>\n",
       "<path class=\"note\" d=\"M 227.5 100.0 L 228.3 100.0 L 228.3 97.0 L 227.4 97.3 L 227.2 97.0 L 228.5 96.4 L 228.8 96.5 L 228.8 100.0 L 229.6 100.0 L 229.6 100.4 L 227.5 100.4 L 227.5 100.0 \" fill=\"#000000\"/>\n",
       "<path class=\"note\" d=\"M 232.0 98.3 Q 232.4 98.4, 232.6 98.7 Q 232.8 98.9, 232.8 99.3 Q 232.8 99.6, 232.6 99.9 Q 232.4 100.2, 232.1 100.3 Q 231.8 100.5, 231.4 100.5 Q 231.0 100.5, 230.7 100.3 Q 230.4 100.2, 230.1 99.9 L 230.4 99.5 Q 230.7 99.8, 230.9 99.9 Q 231.1 100.0, 231.4 100.0 Q 231.8 100.0, 232.0 99.8 Q 232.2 99.6, 232.2 99.3 Q 232.2 98.9, 232.0 98.7 Q 231.8 98.5, 231.3 98.5 L 231.0 98.5 L 231.0 98.1 L 231.2 98.1 Q 231.7 98.1, 231.9 97.9 Q 232.1 97.8, 232.1 97.4 Q 232.1 97.1, 231.9 97.0 Q 231.8 96.8, 231.4 96.8 Q 231.1 96.8, 230.9 97.0 Q 230.7 97.1, 230.5 97.4 L 230.1 97.2 Q 230.3 96.8, 230.6 96.6 Q 231.0 96.4, 231.4 96.4 Q 232.0 96.4, 232.4 96.7 Q 232.7 96.9, 232.7 97.4 Q 232.7 97.7, 232.5 98.0 Q 232.3 98.2, 232.0 98.3 \" fill=\"#000000\"/>\n",
       "<path class=\"note\" d=\"M 259.3 110.0 L 260.2 110.0 L 260.2 107.1 L 259.2 107.4 L 259.1 107.0 L 260.3 106.5 L 260.7 106.5 L 260.7 110.0 L 261.5 110.0 L 261.5 110.5 L 259.3 110.5 L 259.3 110.0 \" fill=\"#000000\"/>\n",
       "<path class=\"note\" d=\"M 264.6 109.1 L 265.1 109.1 L 265.1 109.6 L 264.6 109.6 L 264.6 110.5 L 264.1 110.5 L 264.1 109.6 L 262.0 109.6 L 262.0 109.2 L 263.7 106.5 L 264.6 106.5 L 264.6 109.1 M 262.7 109.1 L 264.1 109.1 L 264.1 106.9 L 262.7 109.1 \" fill=\"#000000\"/>\n",
       "<path class=\"note\" d=\"M 268.8 74.2 L 269.6 74.2 L 269.6 71.2 L 268.7 71.5 L 268.5 71.2 L 269.7 70.6 L 270.1 70.7 L 270.1 74.2 L 270.9 74.2 L 270.9 74.6 L 268.8 74.6 L 268.8 74.2 \" fill=\"#000000\"/>\n",
       "<path class=\"note\" d=\"M 272.8 72.1 Q 273.2 72.1, 273.5 72.3 Q 273.8 72.4, 273.9 72.7 Q 274.1 73.0, 274.1 73.4 Q 274.1 73.8, 273.9 74.1 Q 273.7 74.4, 273.4 74.5 Q 273.0 74.7, 272.7 74.7 Q 272.3 74.7, 272.0 74.5 Q 271.6 74.4, 271.4 74.1 L 271.7 73.8 Q 271.9 74.0, 272.2 74.1 Q 272.4 74.2, 272.7 74.2 Q 273.0 74.2, 273.3 74.0 Q 273.5 73.8, 273.5 73.4 Q 273.5 73.0, 273.3 72.8 Q 273.0 72.6, 272.7 72.6 Q 272.3 72.6, 271.9 72.7 L 271.6 72.6 L 271.8 70.7 L 273.8 70.7 L 273.8 71.1 L 272.3 71.1 L 272.1 72.3 Q 272.5 72.1, 272.8 72.1 \" fill=\"#000000\"/>\n",
       "<path class=\"note\" d=\"M 293.8 90.4 L 294.7 90.4 L 294.7 87.5 L 293.7 87.8 L 293.6 87.4 L 294.8 86.9 L 295.2 87.0 L 295.2 90.4 L 296.0 90.4 L 296.0 90.9 L 293.8 90.9 L 293.8 90.4 \" fill=\"#000000\"/>\n",
       "<path class=\"note\" d=\"M 298.0 88.4 Q 298.4 88.4, 298.6 88.6 Q 298.9 88.7, 299.1 89.0 Q 299.2 89.3, 299.2 89.6 Q 299.2 90.0, 299.0 90.3 Q 298.9 90.6, 298.6 90.8 Q 298.3 90.9, 297.9 90.9 Q 297.2 90.9, 296.8 90.5 Q 296.5 90.0, 296.5 89.0 Q 296.5 88.0, 296.9 87.4 Q 297.3 86.9, 298.2 86.9 Q 298.4 86.9, 298.6 86.9 Q 298.9 87.0, 299.1 87.1 L 298.8 87.5 Q 298.6 87.3, 298.2 87.3 Q 297.6 87.3, 297.4 87.7 Q 297.1 88.0, 297.0 88.8 Q 297.2 88.6, 297.5 88.5 Q 297.7 88.4, 298.0 88.4 M 297.9 90.5 Q 298.1 90.5, 298.3 90.4 Q 298.5 90.2, 298.6 90.0 Q 298.7 89.9, 298.7 89.6 Q 298.7 89.3, 298.5 89.1 Q 298.3 88.9, 297.9 88.9 Q 297.7 88.9, 297.4 89.0 Q 297.2 89.1, 297.0 89.2 Q 297.1 89.9, 297.3 90.2 Q 297.5 90.5, 297.9 90.5 \" fill=\"#000000\"/>\n",
       "<path class=\"note\" d=\"M 298.6 121.5 L 299.4 121.5 L 299.4 118.5 L 298.5 118.8 L 298.3 118.5 L 299.6 117.9 L 299.9 118.0 L 299.9 121.5 L 300.7 121.5 L 300.7 121.9 L 298.6 121.9 L 298.6 121.5 \" fill=\"#000000\"/>\n",
       "<path class=\"note\" d=\"M 303.3 118.4 L 301.2 118.4 L 301.2 118.0 L 303.8 118.0 L 303.8 118.4 L 302.2 121.9 L 301.7 121.9 L 303.3 118.4 \" fill=\"#000000\"/>\n",
       "<path class=\"note\" d=\"M 303.1 47.0 L 303.9 47.0 L 303.9 44.1 L 303.0 44.4 L 302.9 44.0 L 304.1 43.5 L 304.5 43.6 L 304.5 47.0 L 305.2 47.0 L 305.2 47.5 L 303.1 47.5 L 303.1 47.0 \" fill=\"#000000\"/>\n",
       "<path class=\"note\" d=\"M 307.8 45.4 Q 308.1 45.5, 308.3 45.8 Q 308.5 46.0, 308.5 46.4 Q 308.5 46.7, 308.4 47.0 Q 308.2 47.2, 307.9 47.4 Q 307.6 47.5, 307.2 47.5 Q 306.5 47.5, 306.1 47.2 Q 305.7 46.9, 305.7 46.4 Q 305.7 46.1, 305.9 45.8 Q 306.1 45.6, 306.4 45.4 Q 306.2 45.2, 306.0 45.0 Q 305.9 44.8, 305.9 44.5 Q 305.9 44.0, 306.2 43.7 Q 306.6 43.5, 307.1 43.5 Q 307.7 43.5, 308.0 43.7 Q 308.4 44.0, 308.4 44.5 Q 308.4 44.8, 308.2 45.0 Q 308.1 45.2, 307.8 45.4 M 307.1 43.9 Q 306.8 43.9, 306.6 44.0 Q 306.4 44.2, 306.4 44.5 Q 306.4 44.7, 306.6 44.8 Q 306.7 45.0, 306.9 45.0 Q 307.0 45.1, 307.4 45.2 Q 307.6 45.1, 307.7 44.9 Q 307.8 44.7, 307.8 44.5 Q 307.8 44.2, 307.6 44.0 Q 307.5 43.9, 307.1 43.9 M 307.2 47.1 Q 307.5 47.1, 307.8 46.9 Q 308.0 46.7, 308.0 46.4 Q 308.0 46.2, 307.9 46.0 Q 307.7 45.9, 307.6 45.8 Q 307.4 45.7, 307.1 45.6 L 306.8 45.6 Q 306.5 45.7, 306.4 45.9 Q 306.3 46.1, 306.3 46.4 Q 306.3 46.7, 306.5 46.9 Q 306.8 47.1, 307.2 47.1 \" fill=\"#000000\"/>\n",
       "<path class=\"note\" d=\"M 333.9 78.2 L 334.7 78.2 L 334.7 75.3 L 333.8 75.5 L 333.7 75.2 L 334.9 74.7 L 335.3 74.7 L 335.3 78.2 L 336.0 78.2 L 336.0 78.7 L 333.9 78.7 L 333.9 78.2 \" fill=\"#000000\"/>\n",
       "<path class=\"note\" d=\"M 337.9 74.7 Q 338.6 74.7, 338.9 75.1 Q 339.3 75.6, 339.3 76.6 Q 339.3 77.6, 338.8 78.2 Q 338.4 78.7, 337.6 78.7 Q 337.3 78.7, 337.1 78.6 Q 336.9 78.6, 336.7 78.5 L 336.9 78.1 Q 337.2 78.3, 337.6 78.3 Q 338.1 78.3, 338.4 77.9 Q 338.7 77.5, 338.7 76.8 Q 338.5 77.0, 338.3 77.1 Q 338.0 77.2, 337.7 77.2 Q 337.4 77.2, 337.1 77.0 Q 336.8 76.9, 336.7 76.6 Q 336.5 76.3, 336.5 76.0 Q 336.5 75.6, 336.7 75.3 Q 336.9 75.0, 337.2 74.8 Q 337.5 74.7, 337.9 74.7 M 337.1 76.0 Q 337.1 76.3, 337.3 76.5 Q 337.5 76.7, 337.8 76.7 Q 338.1 76.7, 338.3 76.6 Q 338.5 76.5, 338.7 76.4 Q 338.7 75.7, 338.5 75.4 Q 338.3 75.1, 337.9 75.1 Q 337.6 75.1, 337.5 75.2 Q 337.3 75.3, 337.2 75.5 Q 337.1 75.7, 337.1 76.0 \" fill=\"#000000\"/>\n",
       "<path class=\"note\" d=\"M 343.7 99.4 Q 343.8 99.1, 344.2 98.8 Q 344.5 98.6, 345.0 98.6 Q 345.6 98.6, 345.9 99.0 Q 346.3 99.3, 346.3 99.9 Q 346.3 100.4, 345.8 101.0 Q 345.4 101.5, 344.5 102.2 L 346.3 102.2 L 346.3 102.6 L 343.7 102.6 L 343.7 102.3 Q 344.4 101.7, 344.8 101.3 Q 345.3 101.0, 345.5 100.6 Q 345.7 100.2, 345.7 99.9 Q 345.7 99.5, 345.5 99.3 Q 345.3 99.1, 345.0 99.1 Q 344.7 99.1, 344.5 99.2 Q 344.2 99.3, 344.1 99.6 L 343.7 99.4 \" fill=\"#000000\"/>\n",
       "<path class=\"note\" d=\"M 348.4 102.7 Q 347.7 102.7, 347.3 102.1 Q 346.9 101.6, 346.9 100.7 Q 346.9 99.7, 347.3 99.2 Q 347.7 98.6, 348.4 98.6 Q 349.1 98.6, 349.5 99.2 Q 349.8 99.7, 349.8 100.7 Q 349.8 101.6, 349.5 102.1 Q 349.1 102.7, 348.4 102.7 M 348.4 102.2 Q 348.8 102.2, 349.0 101.8 Q 349.3 101.4, 349.3 100.7 Q 349.3 99.9, 349.0 99.5 Q 348.8 99.1, 348.4 99.1 Q 348.0 99.1, 347.7 99.5 Q 347.5 99.9, 347.5 100.7 Q 347.5 101.4, 347.7 101.8 Q 348.0 102.2, 348.4 102.2 \" fill=\"#000000\"/>\n",
       "<path class=\"note\" d=\"M 374.4 91.6 Q 374.5 91.3, 374.9 91.1 Q 375.2 90.9, 375.7 90.9 Q 376.3 90.9, 376.6 91.2 Q 377.0 91.5, 377.0 92.1 Q 377.0 92.7, 376.5 93.2 Q 376.1 93.8, 375.2 94.4 L 377.0 94.4 L 377.0 94.9 L 374.4 94.9 L 374.4 94.5 Q 375.1 94.0, 375.5 93.6 Q 376.0 93.2, 376.2 92.8 Q 376.4 92.5, 376.4 92.1 Q 376.4 91.7, 376.2 91.5 Q 376.0 91.3, 375.7 91.3 Q 375.4 91.3, 375.2 91.4 Q 374.9 91.6, 374.8 91.8 L 374.4 91.6 \" fill=\"#000000\"/>\n",
       "<path class=\"note\" d=\"M 377.8 94.4 L 378.7 94.4 L 378.7 91.4 L 377.7 91.7 L 377.6 91.4 L 378.8 90.9 L 379.2 90.9 L 379.2 94.4 L 380.0 94.4 L 380.0 94.9 L 377.8 94.9 L 377.8 94.4 \" fill=\"#000000\"/>\n",
       "<path class=\"note\" d=\"M 311.6 112.4 Q 311.8 112.0, 312.1 111.8 Q 312.5 111.6, 312.9 111.6 Q 313.5 111.6, 313.9 111.9 Q 314.2 112.2, 314.2 112.8 Q 314.2 113.4, 313.8 114.0 Q 313.3 114.5, 312.4 115.1 L 314.3 115.1 L 314.3 115.6 L 311.6 115.6 L 311.6 115.2 Q 312.3 114.7, 312.8 114.3 Q 313.2 113.9, 313.4 113.6 Q 313.7 113.2, 313.7 112.8 Q 313.7 112.5, 313.5 112.3 Q 313.3 112.0, 312.9 112.0 Q 312.6 112.0, 312.4 112.2 Q 312.2 112.3, 312.0 112.6 L 311.6 112.4 \" fill=\"#000000\"/>\n",
       "<path class=\"note\" d=\"M 314.9 112.4 Q 315.0 112.0, 315.4 111.8 Q 315.7 111.6, 316.2 111.6 Q 316.8 111.6, 317.1 111.9 Q 317.5 112.2, 317.5 112.8 Q 317.5 113.4, 317.0 114.0 Q 316.6 114.5, 315.7 115.1 L 317.6 115.1 L 317.6 115.6 L 314.9 115.6 L 314.9 115.2 Q 315.6 114.7, 316.1 114.3 Q 316.5 113.9, 316.7 113.6 Q 316.9 113.2, 316.9 112.8 Q 316.9 112.5, 316.7 112.3 Q 316.5 112.0, 316.2 112.0 Q 315.9 112.0, 315.7 112.2 Q 315.5 112.3, 315.3 112.6 L 314.9 112.4 \" fill=\"#000000\"/>\n",
       "<path class=\"note\" d=\"M 357.4 141.7 Q 357.6 141.3, 357.9 141.1 Q 358.3 140.9, 358.8 140.9 Q 359.4 140.9, 359.7 141.2 Q 360.0 141.5, 360.0 142.1 Q 360.0 142.7, 359.6 143.2 Q 359.2 143.8, 358.3 144.4 L 360.1 144.4 L 360.1 144.9 L 357.4 144.9 L 357.4 144.5 Q 358.2 144.0, 358.6 143.6 Q 359.1 143.2, 359.3 142.8 Q 359.5 142.5, 359.5 142.1 Q 359.5 141.7, 359.3 141.5 Q 359.1 141.3, 358.8 141.3 Q 358.4 141.3, 358.2 141.4 Q 358.0 141.6, 357.9 141.9 L 357.4 141.7 \" fill=\"#000000\"/>\n",
       "<path class=\"note\" d=\"M 362.6 142.8 Q 363.0 142.9, 363.2 143.2 Q 363.4 143.4, 363.4 143.8 Q 363.4 144.1, 363.2 144.4 Q 363.0 144.6, 362.7 144.8 Q 362.4 144.9, 362.0 144.9 Q 361.6 144.9, 361.3 144.8 Q 361.0 144.6, 360.7 144.3 L 361.0 144.0 Q 361.3 144.3, 361.5 144.4 Q 361.7 144.5, 362.0 144.5 Q 362.4 144.5, 362.6 144.3 Q 362.8 144.1, 362.8 143.8 Q 362.8 143.4, 362.6 143.2 Q 362.4 143.0, 361.9 143.0 L 361.6 143.0 L 361.6 142.6 L 361.8 142.6 Q 362.3 142.6, 362.5 142.4 Q 362.7 142.2, 362.7 141.9 Q 362.7 141.6, 362.5 141.5 Q 362.3 141.3, 362.0 141.3 Q 361.7 141.3, 361.5 141.4 Q 361.3 141.5, 361.1 141.8 L 360.7 141.6 Q 360.9 141.3, 361.2 141.1 Q 361.6 140.9, 362.0 140.9 Q 362.6 140.9, 362.9 141.1 Q 363.3 141.4, 363.3 141.9 Q 363.3 142.2, 363.1 142.4 Q 362.9 142.7, 362.6 142.8 \" fill=\"#000000\"/>\n",
       "</svg>"
      ],
      "text/plain": [
       "<IPython.core.display.SVG object>"
      ]
     },
     "execution_count": 4,
     "metadata": {},
     "output_type": "execute_result"
    }
   ],
   "source": [
    "smi1 = 'CC(C)=CCCC(C)=CCCC(C)=CCOP(=O)(O)OP(=O)(O)O'\n",
    "rc1 = (6, 8, 12, 11, 13, 14, 15)\n",
    "mol1 = Chem.MolFromSmiles(smi1)\n",
    "SVG(draw_molecule(smi1, draw_options={\"addAtomIndices\": True}, size=(400, 200), highlight_atoms=rc1))"
   ]
  },
  {
   "cell_type": "code",
   "execution_count": 5,
   "metadata": {},
   "outputs": [],
   "source": [
    "from src.utils import load_json"
   ]
  },
  {
   "cell_type": "code",
   "execution_count": 10,
   "metadata": {},
   "outputs": [
    {
     "data": {
      "image/svg+xml": [
       "<svg xmlns=\"http://www.w3.org/2000/svg\" xmlns:rdkit=\"http://www.rdkit.org/xml\" xmlns:xlink=\"http://www.w3.org/1999/xlink\" version=\"1.1\" baseProfile=\"full\" xml:space=\"preserve\" width=\"800px\" height=\"200px\" viewBox=\"0 0 800 200\">\n",
       "<!-- END OF HEADER -->\n",
       "<rect style=\"opacity:1.0;fill:#FFFFFF;stroke:none\" width=\"800.0\" height=\"200.0\" x=\"0.0\" y=\"0.0\"> </rect>\n",
       "<path class=\"bond-0 atom-0 atom-1\" d=\"M 218.3,67.8 L 221.6,89.8\" style=\"fill:none;fill-rule:evenodd;stroke:#000000;stroke-width:2.0px;stroke-linecap:butt;stroke-linejoin:miter;stroke-opacity:1\"/>\n",
       "<path class=\"bond-0 atom-0 atom-1\" d=\"M 215.2,68.3 L 218.4,90.2\" style=\"fill:none;fill-rule:evenodd;stroke:#000000;stroke-width:2.0px;stroke-linecap:butt;stroke-linejoin:miter;stroke-opacity:1\"/>\n",
       "<path class=\"bond-1 atom-1 atom-2\" d=\"M 219.8,88.9 L 238.5,98.6\" style=\"fill:none;fill-rule:evenodd;stroke:#000000;stroke-width:2.0px;stroke-linecap:butt;stroke-linejoin:miter;stroke-opacity:1\"/>\n",
       "<path class=\"bond-2 atom-2 atom-3\" d=\"M 238.5,98.6 L 247.8,117.5\" style=\"fill:none;fill-rule:evenodd;stroke:#000000;stroke-width:2.0px;stroke-linecap:butt;stroke-linejoin:miter;stroke-opacity:1\"/>\n",
       "<path class=\"bond-3 atom-3 atom-4\" d=\"M 247.8,117.5 L 232.8,132.2\" style=\"fill:none;fill-rule:evenodd;stroke:#000000;stroke-width:2.0px;stroke-linecap:butt;stroke-linejoin:miter;stroke-opacity:1\"/>\n",
       "<path class=\"bond-4 atom-4 atom-5\" d=\"M 232.8,132.2 L 214.1,122.4\" style=\"fill:none;fill-rule:evenodd;stroke:#000000;stroke-width:2.0px;stroke-linecap:butt;stroke-linejoin:miter;stroke-opacity:1\"/>\n",
       "<path class=\"bond-5 atom-5 atom-6\" d=\"M 214.1,122.4 L 217.7,101.7\" style=\"fill:none;fill-rule:evenodd;stroke:#000000;stroke-width:2.0px;stroke-linecap:butt;stroke-linejoin:miter;stroke-opacity:1\"/>\n",
       "<path class=\"bond-6 atom-5 atom-7\" d=\"M 214.1,122.4 L 204.8,103.6\" style=\"fill:none;fill-rule:evenodd;stroke:#000000;stroke-width:2.0px;stroke-linecap:butt;stroke-linejoin:miter;stroke-opacity:1\"/>\n",
       "<path class=\"bond-7 atom-7 atom-8\" d=\"M 204.8,103.6 L 191.7,87.1\" style=\"fill:none;fill-rule:evenodd;stroke:#000000;stroke-width:2.0px;stroke-linecap:butt;stroke-linejoin:miter;stroke-opacity:1\"/>\n",
       "<path class=\"bond-8 atom-7 atom-9\" d=\"M 204.8,103.6 L 187.0,114.8\" style=\"fill:none;fill-rule:evenodd;stroke:#000000;stroke-width:2.0px;stroke-linecap:butt;stroke-linejoin:miter;stroke-opacity:1\"/>\n",
       "<path class=\"bond-9 atom-9 atom-10\" d=\"M 187.0,114.8 L 168.4,105.1\" style=\"fill:none;fill-rule:evenodd;stroke:#000000;stroke-width:2.0px;stroke-linecap:butt;stroke-linejoin:miter;stroke-opacity:1\"/>\n",
       "<path class=\"bond-10 atom-10 atom-11\" d=\"M 168.4,105.1 L 150.6,116.3\" style=\"fill:none;fill-rule:evenodd;stroke:#000000;stroke-width:2.0px;stroke-linecap:butt;stroke-linejoin:miter;stroke-opacity:1\"/>\n",
       "<path class=\"bond-11 atom-11 atom-12\" d=\"M 150.6,116.3 L 132.0,106.5\" style=\"fill:none;fill-rule:evenodd;stroke:#000000;stroke-width:2.0px;stroke-linecap:butt;stroke-linejoin:miter;stroke-opacity:1\"/>\n",
       "<path class=\"bond-11 atom-11 atom-12\" d=\"M 150.5,112.7 L 135.1,104.6\" style=\"fill:none;fill-rule:evenodd;stroke:#000000;stroke-width:2.0px;stroke-linecap:butt;stroke-linejoin:miter;stroke-opacity:1\"/>\n",
       "<path class=\"bond-12 atom-12 atom-13\" d=\"M 132.0,106.5 L 114.2,117.8\" style=\"fill:none;fill-rule:evenodd;stroke:#000000;stroke-width:2.0px;stroke-linecap:butt;stroke-linejoin:miter;stroke-opacity:1\"/>\n",
       "<path class=\"bond-13 atom-12 atom-14\" d=\"M 132.0,106.5 L 131.1,85.5\" style=\"fill:none;fill-rule:evenodd;stroke:#000000;stroke-width:2.0px;stroke-linecap:butt;stroke-linejoin:miter;stroke-opacity:1\"/>\n",
       "<path class=\"bond-14 atom-7 atom-1\" d=\"M 204.8,103.6 L 219.8,88.9\" style=\"fill:none;fill-rule:evenodd;stroke:#000000;stroke-width:2.0px;stroke-linecap:butt;stroke-linejoin:miter;stroke-opacity:1\"/>\n",
       "<path class=\"bond-15 atom-6 atom-2\" d=\"M 217.7,101.7 L 238.5,98.6\" style=\"fill:none;fill-rule:evenodd;stroke:#000000;stroke-width:2.0px;stroke-linecap:butt;stroke-linejoin:miter;stroke-opacity:1\"/>\n",
       "<path d=\"M 220.8,89.3 L 219.8,88.9 L 219.1,89.6\" style=\"fill:none;stroke:#000000;stroke-width:2.0px;stroke-linecap:butt;stroke-linejoin:miter;stroke-opacity:1;\"/>\n",
       "<path d=\"M 247.3,116.5 L 247.8,117.5 L 247.0,118.2\" style=\"fill:none;stroke:#000000;stroke-width:2.0px;stroke-linecap:butt;stroke-linejoin:miter;stroke-opacity:1;\"/>\n",
       "<path d=\"M 233.5,131.4 L 232.8,132.2 L 231.8,131.7\" style=\"fill:none;stroke:#000000;stroke-width:2.0px;stroke-linecap:butt;stroke-linejoin:miter;stroke-opacity:1;\"/>\n",
       "<path d=\"M 217.5,102.7 L 217.7,101.7 L 218.7,101.5\" style=\"fill:none;stroke:#000000;stroke-width:2.0px;stroke-linecap:butt;stroke-linejoin:miter;stroke-opacity:1;\"/>\n",
       "<path d=\"M 187.9,114.3 L 187.0,114.8 L 186.1,114.3\" style=\"fill:none;stroke:#000000;stroke-width:2.0px;stroke-linecap:butt;stroke-linejoin:miter;stroke-opacity:1;\"/>\n",
       "<path d=\"M 169.3,105.5 L 168.4,105.1 L 167.5,105.6\" style=\"fill:none;stroke:#000000;stroke-width:2.0px;stroke-linecap:butt;stroke-linejoin:miter;stroke-opacity:1;\"/>\n",
       "<path d=\"M 151.5,115.7 L 150.6,116.3 L 149.7,115.8\" style=\"fill:none;stroke:#000000;stroke-width:2.0px;stroke-linecap:butt;stroke-linejoin:miter;stroke-opacity:1;\"/>\n",
       "<path d=\"M 257.5,94.0 L 257.5,106.0\" style=\"fill:none;fill-rule:evenodd;stroke:#000000;stroke-width:2.0px;stroke-linecap:butt;stroke-linejoin:miter;stroke-opacity:1\"/>\n",
       "<path d=\"M 251.5,100.0 L 263.5,100.0\" style=\"fill:none;fill-rule:evenodd;stroke:#000000;stroke-width:2.0px;stroke-linecap:butt;stroke-linejoin:miter;stroke-opacity:1\"/>\n",
       "<path class=\"bond-16 atom-15 atom-16\" d=\"M 291.3,86.0 L 293.6,90.1\" style=\"fill:none;fill-rule:evenodd;stroke:#FF0000;stroke-width:2.0px;stroke-linecap:butt;stroke-linejoin:miter;stroke-opacity:1\"/>\n",
       "<path class=\"bond-16 atom-15 atom-16\" d=\"M 293.6,90.1 L 296.0,94.2\" style=\"fill:none;fill-rule:evenodd;stroke:#FF7F00;stroke-width:2.0px;stroke-linecap:butt;stroke-linejoin:miter;stroke-opacity:1\"/>\n",
       "<path class=\"bond-16 atom-15 atom-16\" d=\"M 288.6,87.6 L 290.9,91.7\" style=\"fill:none;fill-rule:evenodd;stroke:#FF0000;stroke-width:2.0px;stroke-linecap:butt;stroke-linejoin:miter;stroke-opacity:1\"/>\n",
       "<path class=\"bond-16 atom-15 atom-16\" d=\"M 290.9,91.7 L 293.3,95.8\" style=\"fill:none;fill-rule:evenodd;stroke:#FF7F00;stroke-width:2.0px;stroke-linecap:butt;stroke-linejoin:miter;stroke-opacity:1\"/>\n",
       "<path class=\"bond-17 atom-16 atom-17\" d=\"M 300.3,104.9 L 302.7,109.0\" style=\"fill:none;fill-rule:evenodd;stroke:#FF7F00;stroke-width:2.0px;stroke-linecap:butt;stroke-linejoin:miter;stroke-opacity:1\"/>\n",
       "<path class=\"bond-17 atom-16 atom-17\" d=\"M 302.7,109.0 L 305.1,113.2\" style=\"fill:none;fill-rule:evenodd;stroke:#FF0000;stroke-width:2.0px;stroke-linecap:butt;stroke-linejoin:miter;stroke-opacity:1\"/>\n",
       "<path class=\"bond-18 atom-16 atom-18\" d=\"M 294.1,101.9 L 289.0,104.9\" style=\"fill:none;fill-rule:evenodd;stroke:#FF7F00;stroke-width:2.0px;stroke-linecap:butt;stroke-linejoin:miter;stroke-opacity:1\"/>\n",
       "<path class=\"bond-18 atom-16 atom-18\" d=\"M 289.0,104.9 L 283.9,107.8\" style=\"fill:none;fill-rule:evenodd;stroke:#FF0000;stroke-width:2.0px;stroke-linecap:butt;stroke-linejoin:miter;stroke-opacity:1\"/>\n",
       "<path class=\"bond-19 atom-16 atom-19\" d=\"M 300.9,98.0 L 306.0,95.0\" style=\"fill:none;fill-rule:evenodd;stroke:#FF7F00;stroke-width:2.0px;stroke-linecap:butt;stroke-linejoin:miter;stroke-opacity:1\"/>\n",
       "<path class=\"bond-19 atom-16 atom-19\" d=\"M 306.0,95.0 L 311.1,92.1\" style=\"fill:none;fill-rule:evenodd;stroke:#FF0000;stroke-width:2.0px;stroke-linecap:butt;stroke-linejoin:miter;stroke-opacity:1\"/>\n",
       "<path class=\"bond-20 atom-19 atom-20\" d=\"M 320.3,92.1 L 325.4,95.0\" style=\"fill:none;fill-rule:evenodd;stroke:#FF0000;stroke-width:2.0px;stroke-linecap:butt;stroke-linejoin:miter;stroke-opacity:1\"/>\n",
       "<path class=\"bond-20 atom-19 atom-20\" d=\"M 325.4,95.0 L 330.5,98.0\" style=\"fill:none;fill-rule:evenodd;stroke:#FF7F00;stroke-width:2.0px;stroke-linecap:butt;stroke-linejoin:miter;stroke-opacity:1\"/>\n",
       "<path class=\"bond-21 atom-20 atom-21\" d=\"M 338.1,95.8 L 340.5,91.7\" style=\"fill:none;fill-rule:evenodd;stroke:#FF7F00;stroke-width:2.0px;stroke-linecap:butt;stroke-linejoin:miter;stroke-opacity:1\"/>\n",
       "<path class=\"bond-21 atom-20 atom-21\" d=\"M 340.5,91.7 L 342.9,87.6\" style=\"fill:none;fill-rule:evenodd;stroke:#FF0000;stroke-width:2.0px;stroke-linecap:butt;stroke-linejoin:miter;stroke-opacity:1\"/>\n",
       "<path class=\"bond-21 atom-20 atom-21\" d=\"M 335.4,94.2 L 337.8,90.1\" style=\"fill:none;fill-rule:evenodd;stroke:#FF7F00;stroke-width:2.0px;stroke-linecap:butt;stroke-linejoin:miter;stroke-opacity:1\"/>\n",
       "<path class=\"bond-21 atom-20 atom-21\" d=\"M 337.8,90.1 L 340.1,86.0\" style=\"fill:none;fill-rule:evenodd;stroke:#FF0000;stroke-width:2.0px;stroke-linecap:butt;stroke-linejoin:miter;stroke-opacity:1\"/>\n",
       "<path class=\"bond-22 atom-20 atom-22\" d=\"M 331.1,104.9 L 328.7,109.0\" style=\"fill:none;fill-rule:evenodd;stroke:#FF7F00;stroke-width:2.0px;stroke-linecap:butt;stroke-linejoin:miter;stroke-opacity:1\"/>\n",
       "<path class=\"bond-22 atom-20 atom-22\" d=\"M 328.7,109.0 L 326.3,113.2\" style=\"fill:none;fill-rule:evenodd;stroke:#FF0000;stroke-width:2.0px;stroke-linecap:butt;stroke-linejoin:miter;stroke-opacity:1\"/>\n",
       "<path class=\"bond-23 atom-20 atom-23\" d=\"M 337.3,101.9 L 342.4,104.9\" style=\"fill:none;fill-rule:evenodd;stroke:#FF7F00;stroke-width:2.0px;stroke-linecap:butt;stroke-linejoin:miter;stroke-opacity:1\"/>\n",
       "<path class=\"bond-23 atom-20 atom-23\" d=\"M 342.4,104.9 L 347.6,107.8\" style=\"fill:none;fill-rule:evenodd;stroke:#FF0000;stroke-width:2.0px;stroke-linecap:butt;stroke-linejoin:miter;stroke-opacity:1\"/>\n",
       "<path class=\"atom-0\" d=\"M 283.1 81.7 Q 283.1 79.7, 284.1 78.6 Q 285.1 77.4, 287.0 77.4 Q 288.9 77.4, 289.9 78.6 Q 290.9 79.7, 290.9 81.7 Q 290.9 83.8, 289.9 85.0 Q 288.8 86.1, 287.0 86.1 Q 285.1 86.1, 284.1 85.0 Q 283.1 83.8, 283.1 81.7 M 287.0 85.2 Q 288.3 85.2, 289.0 84.3 Q 289.7 83.4, 289.7 81.7 Q 289.7 80.1, 289.0 79.2 Q 288.3 78.4, 287.0 78.4 Q 285.7 78.4, 285.0 79.2 Q 284.3 80.1, 284.3 81.7 Q 284.3 83.5, 285.0 84.3 Q 285.7 85.2, 287.0 85.2 \" fill=\"#FF0000\"/>\n",
       "<path class=\"atom-1\" d=\"M 297.3 95.7 Q 298.7 95.7, 299.5 96.3 Q 300.2 97.0, 300.2 98.2 Q 300.2 99.4, 299.4 100.0 Q 298.7 100.7, 297.3 100.7 L 295.9 100.7 L 295.9 104.2 L 294.8 104.2 L 294.8 95.7 L 297.3 95.7 M 297.3 99.7 Q 298.1 99.7, 298.6 99.3 Q 299.0 98.9, 299.0 98.2 Q 299.0 97.4, 298.6 97.0 Q 298.1 96.6, 297.3 96.6 L 295.9 96.6 L 295.9 99.7 L 297.3 99.7 \" fill=\"#FF7F00\"/>\n",
       "<path class=\"atom-2\" d=\"M 304.1 118.2 Q 304.1 116.1, 305.1 115.0 Q 306.1 113.9, 308.0 113.9 Q 309.9 113.9, 310.9 115.0 Q 311.9 116.1, 311.9 118.2 Q 311.9 120.2, 310.9 121.4 Q 309.9 122.6, 308.0 122.6 Q 306.1 122.6, 305.1 121.4 Q 304.1 120.3, 304.1 118.2 M 308.0 121.6 Q 309.3 121.6, 310.0 120.8 Q 310.7 119.9, 310.7 118.2 Q 310.7 116.5, 310.0 115.7 Q 309.3 114.8, 308.0 114.8 Q 306.7 114.8, 306.0 115.7 Q 305.3 116.5, 305.3 118.2 Q 305.3 119.9, 306.0 120.8 Q 306.7 121.6, 308.0 121.6 \" fill=\"#FF0000\"/>\n",
       "<path class=\"atom-2\" d=\"M 313.2 114.0 L 314.4 114.0 L 314.4 117.6 L 318.7 117.6 L 318.7 114.0 L 319.9 114.0 L 319.9 122.4 L 318.7 122.4 L 318.7 118.5 L 314.4 118.5 L 314.4 122.4 L 313.2 122.4 L 313.2 114.0 \" fill=\"#FF0000\"/>\n",
       "<path class=\"atom-3\" d=\"M 267.0 106.3 L 268.1 106.3 L 268.1 109.9 L 272.5 109.9 L 272.5 106.3 L 273.6 106.3 L 273.6 114.7 L 272.5 114.7 L 272.5 110.8 L 268.1 110.8 L 268.1 114.7 L 267.0 114.7 L 267.0 106.3 \" fill=\"#FF0000\"/>\n",
       "<path class=\"atom-3\" d=\"M 275.4 110.5 Q 275.4 108.4, 276.4 107.3 Q 277.4 106.2, 279.3 106.2 Q 281.2 106.2, 282.2 107.3 Q 283.2 108.4, 283.2 110.5 Q 283.2 112.5, 282.2 113.7 Q 281.1 114.9, 279.3 114.9 Q 277.4 114.9, 276.4 113.7 Q 275.4 112.6, 275.4 110.5 M 279.3 113.9 Q 280.6 113.9, 281.3 113.1 Q 282.0 112.2, 282.0 110.5 Q 282.0 108.8, 281.3 108.0 Q 280.6 107.1, 279.3 107.1 Q 278.0 107.1, 277.3 108.0 Q 276.6 108.8, 276.6 110.5 Q 276.6 112.2, 277.3 113.1 Q 278.0 113.9, 279.3 113.9 \" fill=\"#FF0000\"/>\n",
       "<path class=\"atom-4\" d=\"M 311.8 89.4 Q 311.8 87.4, 312.8 86.3 Q 313.8 85.1, 315.7 85.1 Q 317.6 85.1, 318.6 86.3 Q 319.6 87.4, 319.6 89.4 Q 319.6 91.5, 318.6 92.7 Q 317.6 93.8, 315.7 93.8 Q 313.8 93.8, 312.8 92.7 Q 311.8 91.5, 311.8 89.4 M 315.7 92.9 Q 317.0 92.9, 317.7 92.0 Q 318.4 91.1, 318.4 89.4 Q 318.4 87.8, 317.7 86.9 Q 317.0 86.1, 315.7 86.1 Q 314.4 86.1, 313.7 86.9 Q 313.0 87.8, 313.0 89.4 Q 313.0 91.2, 313.7 92.0 Q 314.4 92.9, 315.7 92.9 \" fill=\"#FF0000\"/>\n",
       "<path class=\"atom-5\" d=\"M 333.7 95.7 Q 335.2 95.7, 335.9 96.3 Q 336.6 97.0, 336.6 98.2 Q 336.6 99.4, 335.9 100.0 Q 335.1 100.7, 333.7 100.7 L 332.4 100.7 L 332.4 104.2 L 331.2 104.2 L 331.2 95.7 L 333.7 95.7 M 333.7 99.7 Q 334.6 99.7, 335.0 99.3 Q 335.4 98.9, 335.4 98.2 Q 335.4 97.4, 335.0 97.0 Q 334.6 96.6, 333.7 96.6 L 332.4 96.6 L 332.4 99.7 L 333.7 99.7 \" fill=\"#FF7F00\"/>\n",
       "<path class=\"atom-6\" d=\"M 340.5 81.7 Q 340.5 79.7, 341.6 78.6 Q 342.6 77.4, 344.4 77.4 Q 346.3 77.4, 347.3 78.6 Q 348.3 79.7, 348.3 81.7 Q 348.3 83.8, 347.3 85.0 Q 346.3 86.1, 344.4 86.1 Q 342.6 86.1, 341.6 85.0 Q 340.5 83.8, 340.5 81.7 M 344.4 85.2 Q 345.7 85.2, 346.4 84.3 Q 347.1 83.4, 347.1 81.7 Q 347.1 80.1, 346.4 79.2 Q 345.7 78.4, 344.4 78.4 Q 343.2 78.4, 342.4 79.2 Q 341.7 80.1, 341.7 81.7 Q 341.7 83.5, 342.4 84.3 Q 343.2 85.2, 344.4 85.2 \" fill=\"#FF0000\"/>\n",
       "<path class=\"atom-7\" d=\"M 311.1 114.0 L 312.3 114.0 L 312.3 117.6 L 316.6 117.6 L 316.6 114.0 L 317.8 114.0 L 317.8 122.4 L 316.6 122.4 L 316.6 118.5 L 312.3 118.5 L 312.3 122.4 L 311.1 122.4 L 311.1 114.0 \" fill=\"#FF0000\"/>\n",
       "<path class=\"atom-7\" d=\"M 319.5 118.2 Q 319.5 116.1, 320.5 115.0 Q 321.5 113.9, 323.4 113.9 Q 325.3 113.9, 326.3 115.0 Q 327.3 116.1, 327.3 118.2 Q 327.3 120.2, 326.3 121.4 Q 325.3 122.6, 323.4 122.6 Q 321.5 122.6, 320.5 121.4 Q 319.5 120.3, 319.5 118.2 M 323.4 121.6 Q 324.7 121.6, 325.4 120.8 Q 326.1 119.9, 326.1 118.2 Q 326.1 116.5, 325.4 115.7 Q 324.7 114.8, 323.4 114.8 Q 322.1 114.8, 321.4 115.7 Q 320.7 116.5, 320.7 118.2 Q 320.7 119.9, 321.4 120.8 Q 322.1 121.6, 323.4 121.6 \" fill=\"#FF0000\"/>\n",
       "<path class=\"atom-8\" d=\"M 348.2 110.5 Q 348.2 108.4, 349.3 107.3 Q 350.3 106.2, 352.1 106.2 Q 354.0 106.2, 355.0 107.3 Q 356.0 108.4, 356.0 110.5 Q 356.0 112.5, 355.0 113.7 Q 354.0 114.9, 352.1 114.9 Q 350.3 114.9, 349.3 113.7 Q 348.2 112.6, 348.2 110.5 M 352.1 113.9 Q 353.4 113.9, 354.1 113.1 Q 354.8 112.2, 354.8 110.5 Q 354.8 108.8, 354.1 108.0 Q 353.4 107.1, 352.1 107.1 Q 350.9 107.1, 350.1 108.0 Q 349.4 108.8, 349.4 110.5 Q 349.4 112.2, 350.1 113.1 Q 350.9 113.9, 352.1 113.9 \" fill=\"#FF0000\"/>\n",
       "<path class=\"atom-8\" d=\"M 357.4 106.3 L 358.5 106.3 L 358.5 109.9 L 362.9 109.9 L 362.9 106.3 L 364.0 106.3 L 364.0 114.7 L 362.9 114.7 L 362.9 110.8 L 358.5 110.8 L 358.5 114.7 L 357.4 114.7 L 357.4 106.3 \" fill=\"#FF0000\"/>\n",
       "<path class=\"bond-24 atom-24 atom-25\" d=\"M 420.3,110.4 L 441.3,111.7\" style=\"fill:none;fill-rule:evenodd;stroke:#000000;stroke-width:2.0px;stroke-linecap:butt;stroke-linejoin:miter;stroke-opacity:1\"/>\n",
       "<path class=\"bond-25 atom-25 atom-26\" d=\"M 441.3,111.7 L 450.7,130.5\" style=\"fill:none;fill-rule:evenodd;stroke:#000000;stroke-width:2.0px;stroke-linecap:butt;stroke-linejoin:miter;stroke-opacity:1\"/>\n",
       "<path class=\"bond-26 atom-25 atom-27\" d=\"M 441.3,111.7 L 453.0,94.2\" style=\"fill:none;fill-rule:evenodd;stroke:#000000;stroke-width:2.0px;stroke-linecap:butt;stroke-linejoin:miter;stroke-opacity:1\"/>\n",
       "<path class=\"bond-26 atom-25 atom-27\" d=\"M 445.0,111.9 L 454.6,97.4\" style=\"fill:none;fill-rule:evenodd;stroke:#000000;stroke-width:2.0px;stroke-linecap:butt;stroke-linejoin:miter;stroke-opacity:1\"/>\n",
       "<path class=\"bond-27 atom-27 atom-28\" d=\"M 453.0,94.2 L 474.0,95.5\" style=\"fill:none;fill-rule:evenodd;stroke:#000000;stroke-width:2.0px;stroke-linecap:butt;stroke-linejoin:miter;stroke-opacity:1\"/>\n",
       "<path class=\"bond-28 atom-28 atom-29\" d=\"M 474.0,95.5 L 485.6,77.9\" style=\"fill:none;fill-rule:evenodd;stroke:#000000;stroke-width:2.0px;stroke-linecap:butt;stroke-linejoin:miter;stroke-opacity:1\"/>\n",
       "<path class=\"bond-29 atom-29 atom-30\" d=\"M 485.6,77.9 L 506.6,79.2\" style=\"fill:none;fill-rule:evenodd;stroke:#000000;stroke-width:2.0px;stroke-linecap:butt;stroke-linejoin:miter;stroke-opacity:1\"/>\n",
       "<path class=\"bond-30 atom-30 atom-31\" d=\"M 506.6,79.2 L 518.2,61.7\" style=\"fill:none;fill-rule:evenodd;stroke:#000000;stroke-width:2.0px;stroke-linecap:butt;stroke-linejoin:miter;stroke-opacity:1\"/>\n",
       "<path class=\"bond-31 atom-30 atom-32\" d=\"M 506.6,79.2 L 516.0,98.1\" style=\"fill:none;fill-rule:evenodd;stroke:#000000;stroke-width:2.0px;stroke-linecap:butt;stroke-linejoin:miter;stroke-opacity:1\"/>\n",
       "<path class=\"bond-31 atom-30 atom-32\" d=\"M 510.2,79.4 L 518.0,95.0\" style=\"fill:none;fill-rule:evenodd;stroke:#000000;stroke-width:2.0px;stroke-linecap:butt;stroke-linejoin:miter;stroke-opacity:1\"/>\n",
       "<path class=\"bond-32 atom-32 atom-33\" d=\"M 516.0,98.1 L 537.0,99.4\" style=\"fill:none;fill-rule:evenodd;stroke:#000000;stroke-width:2.0px;stroke-linecap:butt;stroke-linejoin:miter;stroke-opacity:1\"/>\n",
       "<path class=\"bond-33 atom-33 atom-34\" d=\"M 537.0,99.4 L 546.3,118.2\" style=\"fill:none;fill-rule:evenodd;stroke:#000000;stroke-width:2.0px;stroke-linecap:butt;stroke-linejoin:miter;stroke-opacity:1\"/>\n",
       "<path class=\"bond-34 atom-34 atom-35\" d=\"M 546.3,118.2 L 567.3,119.5\" style=\"fill:none;fill-rule:evenodd;stroke:#000000;stroke-width:2.0px;stroke-linecap:butt;stroke-linejoin:miter;stroke-opacity:1\"/>\n",
       "<path class=\"bond-35 atom-35 atom-36\" d=\"M 567.3,119.5 L 576.7,138.3\" style=\"fill:none;fill-rule:evenodd;stroke:#000000;stroke-width:2.0px;stroke-linecap:butt;stroke-linejoin:miter;stroke-opacity:1\"/>\n",
       "<path class=\"bond-36 atom-35 atom-37\" d=\"M 567.3,119.5 L 578.9,101.9\" style=\"fill:none;fill-rule:evenodd;stroke:#000000;stroke-width:2.0px;stroke-linecap:butt;stroke-linejoin:miter;stroke-opacity:1\"/>\n",
       "<path class=\"bond-36 atom-35 atom-37\" d=\"M 571.0,119.7 L 580.6,105.2\" style=\"fill:none;fill-rule:evenodd;stroke:#000000;stroke-width:2.0px;stroke-linecap:butt;stroke-linejoin:miter;stroke-opacity:1\"/>\n",
       "<path class=\"bond-37 atom-37 atom-38\" d=\"M 578.9,101.9 L 599.9,103.2\" style=\"fill:none;fill-rule:evenodd;stroke:#000000;stroke-width:2.0px;stroke-linecap:butt;stroke-linejoin:miter;stroke-opacity:1\"/>\n",
       "<path class=\"bond-38 atom-38 atom-39\" d=\"M 599.9,103.2 L 604.1,97.0\" style=\"fill:none;fill-rule:evenodd;stroke:#000000;stroke-width:2.0px;stroke-linecap:butt;stroke-linejoin:miter;stroke-opacity:1\"/>\n",
       "<path class=\"bond-38 atom-38 atom-39\" d=\"M 604.1,97.0 L 608.2,90.8\" style=\"fill:none;fill-rule:evenodd;stroke:#FF0000;stroke-width:2.0px;stroke-linecap:butt;stroke-linejoin:miter;stroke-opacity:1\"/>\n",
       "<path class=\"bond-39 atom-39 atom-40\" d=\"M 616.1,86.0 L 622.7,86.4\" style=\"fill:none;fill-rule:evenodd;stroke:#FF0000;stroke-width:2.0px;stroke-linecap:butt;stroke-linejoin:miter;stroke-opacity:1\"/>\n",
       "<path class=\"bond-39 atom-39 atom-40\" d=\"M 622.7,86.4 L 629.2,86.8\" style=\"fill:none;fill-rule:evenodd;stroke:#FF7F00;stroke-width:2.0px;stroke-linecap:butt;stroke-linejoin:miter;stroke-opacity:1\"/>\n",
       "<path class=\"bond-40 atom-40 atom-41\" d=\"M 630.7,91.8 L 630.3,97.4\" style=\"fill:none;fill-rule:evenodd;stroke:#FF7F00;stroke-width:2.0px;stroke-linecap:butt;stroke-linejoin:miter;stroke-opacity:1\"/>\n",
       "<path class=\"bond-40 atom-40 atom-41\" d=\"M 630.3,97.4 L 630.0,102.9\" style=\"fill:none;fill-rule:evenodd;stroke:#FF0000;stroke-width:2.0px;stroke-linecap:butt;stroke-linejoin:miter;stroke-opacity:1\"/>\n",
       "<path class=\"bond-40 atom-40 atom-41\" d=\"M 633.8,92.0 L 633.5,97.6\" style=\"fill:none;fill-rule:evenodd;stroke:#FF7F00;stroke-width:2.0px;stroke-linecap:butt;stroke-linejoin:miter;stroke-opacity:1\"/>\n",
       "<path class=\"bond-40 atom-40 atom-41\" d=\"M 633.5,97.6 L 633.1,103.1\" style=\"fill:none;fill-rule:evenodd;stroke:#FF0000;stroke-width:2.0px;stroke-linecap:butt;stroke-linejoin:miter;stroke-opacity:1\"/>\n",
       "<path class=\"bond-41 atom-40 atom-42\" d=\"M 632.9,82.1 L 633.2,76.6\" style=\"fill:none;fill-rule:evenodd;stroke:#FF7F00;stroke-width:2.0px;stroke-linecap:butt;stroke-linejoin:miter;stroke-opacity:1\"/>\n",
       "<path class=\"bond-41 atom-40 atom-42\" d=\"M 633.2,76.6 L 633.5,71.1\" style=\"fill:none;fill-rule:evenodd;stroke:#FF0000;stroke-width:2.0px;stroke-linecap:butt;stroke-linejoin:miter;stroke-opacity:1\"/>\n",
       "<path class=\"bond-42 atom-40 atom-43\" d=\"M 636.0,87.2 L 642.5,87.6\" style=\"fill:none;fill-rule:evenodd;stroke:#FF7F00;stroke-width:2.0px;stroke-linecap:butt;stroke-linejoin:miter;stroke-opacity:1\"/>\n",
       "<path class=\"bond-42 atom-40 atom-43\" d=\"M 642.5,87.6 L 649.0,88.0\" style=\"fill:none;fill-rule:evenodd;stroke:#FF0000;stroke-width:2.0px;stroke-linecap:butt;stroke-linejoin:miter;stroke-opacity:1\"/>\n",
       "<path class=\"bond-43 atom-43 atom-44\" d=\"M 656.1,93.4 L 658.3,97.8\" style=\"fill:none;fill-rule:evenodd;stroke:#FF0000;stroke-width:2.0px;stroke-linecap:butt;stroke-linejoin:miter;stroke-opacity:1\"/>\n",
       "<path class=\"bond-43 atom-43 atom-44\" d=\"M 658.3,97.8 L 660.5,102.2\" style=\"fill:none;fill-rule:evenodd;stroke:#FF7F00;stroke-width:2.0px;stroke-linecap:butt;stroke-linejoin:miter;stroke-opacity:1\"/>\n",
       "<path class=\"bond-44 atom-44 atom-45\" d=\"M 667.0,106.9 L 672.5,104.2\" style=\"fill:none;fill-rule:evenodd;stroke:#FF7F00;stroke-width:2.0px;stroke-linecap:butt;stroke-linejoin:miter;stroke-opacity:1\"/>\n",
       "<path class=\"bond-44 atom-44 atom-45\" d=\"M 672.5,104.2 L 677.9,101.5\" style=\"fill:none;fill-rule:evenodd;stroke:#FF0000;stroke-width:2.0px;stroke-linecap:butt;stroke-linejoin:miter;stroke-opacity:1\"/>\n",
       "<path class=\"bond-44 atom-44 atom-45\" d=\"M 665.6,104.0 L 671.1,101.3\" style=\"fill:none;fill-rule:evenodd;stroke:#FF7F00;stroke-width:2.0px;stroke-linecap:butt;stroke-linejoin:miter;stroke-opacity:1\"/>\n",
       "<path class=\"bond-44 atom-44 atom-45\" d=\"M 671.1,101.3 L 676.5,98.6\" style=\"fill:none;fill-rule:evenodd;stroke:#FF0000;stroke-width:2.0px;stroke-linecap:butt;stroke-linejoin:miter;stroke-opacity:1\"/>\n",
       "<path class=\"bond-45 atom-44 atom-46\" d=\"M 659.5,108.8 L 654.1,111.5\" style=\"fill:none;fill-rule:evenodd;stroke:#FF7F00;stroke-width:2.0px;stroke-linecap:butt;stroke-linejoin:miter;stroke-opacity:1\"/>\n",
       "<path class=\"bond-45 atom-44 atom-46\" d=\"M 654.1,111.5 L 648.7,114.2\" style=\"fill:none;fill-rule:evenodd;stroke:#FF0000;stroke-width:2.0px;stroke-linecap:butt;stroke-linejoin:miter;stroke-opacity:1\"/>\n",
       "<path class=\"bond-46 atom-44 atom-47\" d=\"M 665.4,112.1 L 667.6,116.5\" style=\"fill:none;fill-rule:evenodd;stroke:#FF7F00;stroke-width:2.0px;stroke-linecap:butt;stroke-linejoin:miter;stroke-opacity:1\"/>\n",
       "<path class=\"bond-46 atom-44 atom-47\" d=\"M 667.6,116.5 L 669.8,121.0\" style=\"fill:none;fill-rule:evenodd;stroke:#FF0000;stroke-width:2.0px;stroke-linecap:butt;stroke-linejoin:miter;stroke-opacity:1\"/>\n",
       "<path class=\"atom-15\" d=\"M 607.7 85.7 Q 607.7 83.7, 608.7 82.6 Q 609.7 81.4, 611.6 81.4 Q 613.4 81.4, 614.5 82.6 Q 615.5 83.7, 615.5 85.7 Q 615.5 87.8, 614.4 89.0 Q 613.4 90.1, 611.6 90.1 Q 609.7 90.1, 608.7 89.0 Q 607.7 87.8, 607.7 85.7 M 611.6 89.2 Q 612.9 89.2, 613.6 88.3 Q 614.3 87.4, 614.3 85.7 Q 614.3 84.1, 613.6 83.2 Q 612.9 82.4, 611.6 82.4 Q 610.3 82.4, 609.6 83.2 Q 608.9 84.1, 608.9 85.7 Q 608.9 87.5, 609.6 88.3 Q 610.3 89.2, 611.6 89.2 \" fill=\"#FF0000\"/>\n",
       "<path class=\"atom-16\" d=\"M 632.4 82.8 Q 633.8 82.8, 634.5 83.4 Q 635.3 84.1, 635.3 85.3 Q 635.3 86.4, 634.5 87.1 Q 633.8 87.8, 632.4 87.8 L 631.0 87.8 L 631.0 91.3 L 629.9 91.3 L 629.9 82.8 L 632.4 82.8 M 632.4 86.8 Q 633.2 86.8, 633.6 86.4 Q 634.1 86.0, 634.1 85.3 Q 634.1 84.5, 633.6 84.1 Q 633.2 83.7, 632.4 83.7 L 631.0 83.7 L 631.0 86.8 L 632.4 86.8 \" fill=\"#FF7F00\"/>\n",
       "<path class=\"atom-17\" d=\"M 627.4 108.0 Q 627.4 106.0, 628.4 104.8 Q 629.4 103.7, 631.3 103.7 Q 633.1 103.7, 634.2 104.8 Q 635.2 106.0, 635.2 108.0 Q 635.2 110.1, 634.1 111.3 Q 633.1 112.4, 631.3 112.4 Q 629.4 112.4, 628.4 111.3 Q 627.4 110.1, 627.4 108.0 M 631.3 111.5 Q 632.6 111.5, 633.3 110.6 Q 634.0 109.7, 634.0 108.0 Q 634.0 106.4, 633.3 105.5 Q 632.6 104.7, 631.3 104.7 Q 630.0 104.7, 629.3 105.5 Q 628.6 106.3, 628.6 108.0 Q 628.6 109.7, 629.3 110.6 Q 630.0 111.5, 631.3 111.5 \" fill=\"#FF0000\"/>\n",
       "<path class=\"atom-18\" d=\"M 630.0 66.0 Q 630.0 64.0, 631.0 62.9 Q 632.0 61.7, 633.9 61.7 Q 635.7 61.7, 636.8 62.9 Q 637.8 64.0, 637.8 66.0 Q 637.8 68.1, 636.7 69.3 Q 635.7 70.4, 633.9 70.4 Q 632.0 70.4, 631.0 69.3 Q 630.0 68.1, 630.0 66.0 M 633.9 69.5 Q 635.2 69.5, 635.9 68.6 Q 636.6 67.7, 636.6 66.0 Q 636.6 64.4, 635.9 63.5 Q 635.2 62.7, 633.9 62.7 Q 632.6 62.7, 631.9 63.5 Q 631.2 64.4, 631.2 66.0 Q 631.2 67.8, 631.9 68.6 Q 632.6 69.5, 633.9 69.5 \" fill=\"#FF0000\"/>\n",
       "<path class=\"atom-18\" d=\"M 639.1 61.8 L 640.2 61.8 L 640.2 65.4 L 644.6 65.4 L 644.6 61.8 L 645.7 61.8 L 645.7 70.3 L 644.6 70.3 L 644.6 66.4 L 640.2 66.4 L 640.2 70.3 L 639.1 70.3 L 639.1 61.8 \" fill=\"#FF0000\"/>\n",
       "<path class=\"atom-19\" d=\"M 649.7 88.3 Q 649.7 86.3, 650.7 85.2 Q 651.7 84.0, 653.6 84.0 Q 655.4 84.0, 656.5 85.2 Q 657.5 86.3, 657.5 88.3 Q 657.5 90.4, 656.4 91.6 Q 655.4 92.7, 653.6 92.7 Q 651.7 92.7, 650.7 91.6 Q 649.7 90.4, 649.7 88.3 M 653.6 91.8 Q 654.9 91.8, 655.6 90.9 Q 656.3 90.0, 656.3 88.3 Q 656.3 86.7, 655.6 85.8 Q 654.9 85.0, 653.6 85.0 Q 652.3 85.0, 651.6 85.8 Q 650.9 86.7, 650.9 88.3 Q 650.9 90.0, 651.6 90.9 Q 652.3 91.8, 653.6 91.8 \" fill=\"#FF0000\"/>\n",
       "<path class=\"atom-20\" d=\"M 662.7 102.9 Q 664.2 102.9, 664.9 103.6 Q 665.6 104.2, 665.6 105.4 Q 665.6 106.6, 664.9 107.2 Q 664.1 107.9, 662.7 107.9 L 661.4 107.9 L 661.4 111.4 L 660.2 111.4 L 660.2 102.9 L 662.7 102.9 M 662.7 106.9 Q 663.6 106.9, 664.0 106.5 Q 664.4 106.1, 664.4 105.4 Q 664.4 104.6, 664.0 104.2 Q 663.6 103.9, 662.7 103.9 L 661.4 103.9 L 661.4 106.9 L 662.7 106.9 \" fill=\"#FF7F00\"/>\n",
       "<path class=\"atom-21\" d=\"M 677.9 97.8 Q 677.9 95.7, 678.9 94.6 Q 679.9 93.5, 681.8 93.5 Q 683.7 93.5, 684.7 94.6 Q 685.7 95.7, 685.7 97.8 Q 685.7 99.9, 684.6 101.0 Q 683.6 102.2, 681.8 102.2 Q 679.9 102.2, 678.9 101.0 Q 677.9 99.9, 677.9 97.8 M 681.8 101.2 Q 683.1 101.2, 683.8 100.4 Q 684.5 99.5, 684.5 97.8 Q 684.5 96.1, 683.8 95.3 Q 683.1 94.4, 681.8 94.4 Q 680.5 94.4, 679.8 95.3 Q 679.1 96.1, 679.1 97.8 Q 679.1 99.5, 679.8 100.4 Q 680.5 101.2, 681.8 101.2 \" fill=\"#FF0000\"/>\n",
       "<path class=\"atom-22\" d=\"M 631.8 112.3 L 633.0 112.3 L 633.0 115.9 L 637.3 115.9 L 637.3 112.3 L 638.5 112.3 L 638.5 120.8 L 637.3 120.8 L 637.3 116.9 L 633.0 116.9 L 633.0 120.8 L 631.8 120.8 L 631.8 112.3 \" fill=\"#FF0000\"/>\n",
       "<path class=\"atom-22\" d=\"M 640.2 116.5 Q 640.2 114.5, 641.2 113.4 Q 642.2 112.2, 644.1 112.2 Q 646.0 112.2, 647.0 113.4 Q 648.0 114.5, 648.0 116.5 Q 648.0 118.6, 647.0 119.8 Q 646.0 120.9, 644.1 120.9 Q 642.2 120.9, 641.2 119.8 Q 640.2 118.6, 640.2 116.5 M 644.1 120.0 Q 645.4 120.0, 646.1 119.1 Q 646.8 118.2, 646.8 116.5 Q 646.8 114.9, 646.1 114.0 Q 645.4 113.2, 644.1 113.2 Q 642.8 113.2, 642.1 114.0 Q 641.4 114.9, 641.4 116.5 Q 641.4 118.3, 642.1 119.1 Q 642.8 120.0, 644.1 120.0 \" fill=\"#FF0000\"/>\n",
       "<path class=\"atom-23\" d=\"M 668.4 126.0 Q 668.4 124.0, 669.4 122.8 Q 670.4 121.7, 672.3 121.7 Q 674.2 121.7, 675.2 122.8 Q 676.2 124.0, 676.2 126.0 Q 676.2 128.1, 675.2 129.2 Q 674.2 130.4, 672.3 130.4 Q 670.4 130.4, 669.4 129.2 Q 668.4 128.1, 668.4 126.0 M 672.3 129.4 Q 673.6 129.4, 674.3 128.6 Q 675.0 127.7, 675.0 126.0 Q 675.0 124.3, 674.3 123.5 Q 673.6 122.6, 672.3 122.6 Q 671.0 122.6, 670.3 123.5 Q 669.6 124.3, 669.6 126.0 Q 669.6 127.7, 670.3 128.6 Q 671.0 129.4, 672.3 129.4 \" fill=\"#FF0000\"/>\n",
       "<path class=\"atom-23\" d=\"M 677.5 121.8 L 678.7 121.8 L 678.7 125.4 L 683.0 125.4 L 683.0 121.8 L 684.2 121.8 L 684.2 130.3 L 683.0 130.3 L 683.0 126.3 L 678.7 126.3 L 678.7 130.3 L 677.5 130.3 L 677.5 121.8 \" fill=\"#FF0000\"/>\n",
       "<path d=\"M 373.0,100.0 L 411.0,100.0\" style=\"fill:none;fill-rule:evenodd;stroke:#000000;stroke-width:2.0px;stroke-linecap:butt;stroke-linejoin:miter;stroke-opacity:1\"/>\n",
       "<path d=\"M 411.0,100.0 L 406.0,102.9\" style=\"fill:none;fill-rule:evenodd;stroke:#000000;stroke-width:2.0px;stroke-linecap:butt;stroke-linejoin:miter;stroke-opacity:1\"/>\n",
       "<path d=\"M 411.0,100.0 L 406.0,97.1\" style=\"fill:none;fill-rule:evenodd;stroke:#000000;stroke-width:2.0px;stroke-linecap:butt;stroke-linejoin:miter;stroke-opacity:1\"/>\n",
       "</svg>"
      ],
      "text/plain": [
       "<IPython.core.display.SVG object>"
      ]
     },
     "execution_count": 10,
     "metadata": {},
     "output_type": "execute_result"
    }
   ],
   "source": [
    "krxns = load_json('/home/stef/quest_data/hiec/data/sprhea/v3_folded_pt_ns.json')\n",
    "rxn = krxns['4214']\n",
    "SVG(draw_reaction(rxn['smarts']))"
   ]
  },
  {
   "cell_type": "code",
   "execution_count": 13,
   "metadata": {},
   "outputs": [
    {
     "data": {
      "image/svg+xml": [
       "<svg xmlns=\"http://www.w3.org/2000/svg\" xmlns:rdkit=\"http://www.rdkit.org/xml\" xmlns:xlink=\"http://www.w3.org/1999/xlink\" version=\"1.1\" baseProfile=\"full\" xml:space=\"preserve\" width=\"200px\" height=\"200px\" viewBox=\"0 0 200 200\">\n",
       "<!-- END OF HEADER -->\n",
       "<rect style=\"opacity:1.0;fill:#FFFFFF;stroke:none\" width=\"200.0\" height=\"200.0\" x=\"0.0\" y=\"0.0\"> </rect>\n",
       "<path class=\"bond-0 atom-0 atom-1\" d=\"M 14.0,100.9 L 26.1,94.8\" style=\"fill:none;fill-rule:evenodd;stroke:#000000;stroke-width:2.0px;stroke-linecap:butt;stroke-linejoin:miter;stroke-opacity:1\"/>\n",
       "<path class=\"bond-0 atom-0 atom-1\" d=\"M 26.1,94.8 L 38.2,88.7\" style=\"fill:none;fill-rule:evenodd;stroke:#CCCC00;stroke-width:2.0px;stroke-linecap:butt;stroke-linejoin:miter;stroke-opacity:1\"/>\n",
       "<path class=\"bond-1 atom-1 atom-2\" d=\"M 46.0,89.3 L 57.3,96.6\" style=\"fill:none;fill-rule:evenodd;stroke:#CCCC00;stroke-width:2.0px;stroke-linecap:butt;stroke-linejoin:miter;stroke-opacity:1\"/>\n",
       "<path class=\"bond-1 atom-1 atom-2\" d=\"M 57.3,96.6 L 68.5,104.0\" style=\"fill:none;fill-rule:evenodd;stroke:#000000;stroke-width:2.0px;stroke-linecap:butt;stroke-linejoin:miter;stroke-opacity:1\"/>\n",
       "<path class=\"bond-2 atom-2 atom-3\" d=\"M 68.5,104.0 L 96.6,89.8\" style=\"fill:none;fill-rule:evenodd;stroke:#000000;stroke-width:2.0px;stroke-linecap:butt;stroke-linejoin:miter;stroke-opacity:1\"/>\n",
       "<path class=\"bond-3 atom-3 atom-4\" d=\"M 96.6,89.8 L 123.0,107.1\" style=\"fill:none;fill-rule:evenodd;stroke:#000000;stroke-width:2.0px;stroke-linecap:butt;stroke-linejoin:miter;stroke-opacity:1\"/>\n",
       "<path class=\"bond-4 atom-4 atom-5\" d=\"M 120.7,105.6 L 120.0,119.2\" style=\"fill:none;fill-rule:evenodd;stroke:#000000;stroke-width:2.0px;stroke-linecap:butt;stroke-linejoin:miter;stroke-opacity:1\"/>\n",
       "<path class=\"bond-4 atom-4 atom-5\" d=\"M 120.0,119.2 L 119.2,132.9\" style=\"fill:none;fill-rule:evenodd;stroke:#FF0000;stroke-width:2.0px;stroke-linecap:butt;stroke-linejoin:miter;stroke-opacity:1\"/>\n",
       "<path class=\"bond-4 atom-4 atom-5\" d=\"M 125.5,105.8 L 124.7,119.5\" style=\"fill:none;fill-rule:evenodd;stroke:#000000;stroke-width:2.0px;stroke-linecap:butt;stroke-linejoin:miter;stroke-opacity:1\"/>\n",
       "<path class=\"bond-4 atom-4 atom-5\" d=\"M 124.7,119.5 L 123.9,133.1\" style=\"fill:none;fill-rule:evenodd;stroke:#FF0000;stroke-width:2.0px;stroke-linecap:butt;stroke-linejoin:miter;stroke-opacity:1\"/>\n",
       "<path class=\"bond-5 atom-4 atom-6\" d=\"M 123.0,107.1 L 151.2,92.9\" style=\"fill:none;fill-rule:evenodd;stroke:#000000;stroke-width:2.0px;stroke-linecap:butt;stroke-linejoin:miter;stroke-opacity:1\"/>\n",
       "<path class=\"bond-6 atom-6 atom-7\" d=\"M 153.4,94.4 L 154.2,80.8\" style=\"fill:none;fill-rule:evenodd;stroke:#000000;stroke-width:2.0px;stroke-linecap:butt;stroke-linejoin:miter;stroke-opacity:1\"/>\n",
       "<path class=\"bond-6 atom-6 atom-7\" d=\"M 154.2,80.8 L 155.0,67.2\" style=\"fill:none;fill-rule:evenodd;stroke:#FF0000;stroke-width:2.0px;stroke-linecap:butt;stroke-linejoin:miter;stroke-opacity:1\"/>\n",
       "<path class=\"bond-6 atom-6 atom-7\" d=\"M 148.7,94.1 L 149.5,80.5\" style=\"fill:none;fill-rule:evenodd;stroke:#000000;stroke-width:2.0px;stroke-linecap:butt;stroke-linejoin:miter;stroke-opacity:1\"/>\n",
       "<path class=\"bond-6 atom-6 atom-7\" d=\"M 149.5,80.5 L 150.3,67.0\" style=\"fill:none;fill-rule:evenodd;stroke:#FF0000;stroke-width:2.0px;stroke-linecap:butt;stroke-linejoin:miter;stroke-opacity:1\"/>\n",
       "<path class=\"bond-7 atom-6 atom-8\" d=\"M 151.2,92.9 L 161.8,99.8\" style=\"fill:none;fill-rule:evenodd;stroke:#000000;stroke-width:2.0px;stroke-linecap:butt;stroke-linejoin:miter;stroke-opacity:1\"/>\n",
       "<path class=\"bond-7 atom-6 atom-8\" d=\"M 161.8,99.8 L 172.4,106.8\" style=\"fill:none;fill-rule:evenodd;stroke:#FF0000;stroke-width:2.0px;stroke-linecap:butt;stroke-linejoin:miter;stroke-opacity:1\"/>\n",
       "<path d=\"M 67.9,103.6 L 68.5,104.0 L 69.9,103.3\" style=\"fill:none;stroke:#000000;stroke-width:2.0px;stroke-linecap:butt;stroke-linejoin:miter;stroke-opacity:1;\"/>\n",
       "<path d=\"M 95.2,90.5 L 96.6,89.8 L 98.0,90.7\" style=\"fill:none;stroke:#000000;stroke-width:2.0px;stroke-linecap:butt;stroke-linejoin:miter;stroke-opacity:1;\"/>\n",
       "<path d=\"M 121.7,106.2 L 123.0,107.1 L 124.4,106.4\" style=\"fill:none;stroke:#000000;stroke-width:2.0px;stroke-linecap:butt;stroke-linejoin:miter;stroke-opacity:1;\"/>\n",
       "<path d=\"M 149.8,93.6 L 151.2,92.9 L 151.7,93.2\" style=\"fill:none;stroke:#000000;stroke-width:2.0px;stroke-linecap:butt;stroke-linejoin:miter;stroke-opacity:1;\"/>\n",
       "<path class=\"atom-1\" d=\"M 39.6 89.8 Q 39.7 89.8, 40.1 90.0 Q 40.6 90.2, 41.0 90.3 Q 41.5 90.4, 41.9 90.4 Q 42.8 90.4, 43.3 90.0 Q 43.8 89.6, 43.8 88.9 Q 43.8 88.4, 43.5 88.1 Q 43.3 87.8, 42.9 87.6 Q 42.5 87.4, 41.9 87.3 Q 41.1 87.0, 40.6 86.8 Q 40.1 86.6, 39.8 86.1 Q 39.5 85.6, 39.5 84.8 Q 39.5 83.7, 40.2 83.0 Q 41.0 82.3, 42.5 82.3 Q 43.5 82.3, 44.7 82.8 L 44.4 83.7 Q 43.4 83.3, 42.5 83.3 Q 41.7 83.3, 41.2 83.7 Q 40.7 84.0, 40.7 84.6 Q 40.7 85.1, 41.0 85.4 Q 41.2 85.7, 41.6 85.9 Q 41.9 86.0, 42.5 86.2 Q 43.4 86.5, 43.8 86.7 Q 44.3 87.0, 44.6 87.5 Q 45.0 88.0, 45.0 88.9 Q 45.0 90.1, 44.2 90.8 Q 43.4 91.4, 42.0 91.4 Q 41.2 91.4, 40.6 91.3 Q 40.0 91.1, 39.3 90.8 L 39.6 89.8 \" fill=\"#CCCC00\"/>\n",
       "<path class=\"atom-5\" d=\"M 117.1 138.6 Q 117.1 136.4, 118.2 135.2 Q 119.3 134.0, 121.2 134.0 Q 123.2 134.0, 124.3 135.2 Q 125.3 136.4, 125.3 138.6 Q 125.3 140.7, 124.3 142.0 Q 123.2 143.2, 121.2 143.2 Q 119.3 143.2, 118.2 142.0 Q 117.1 140.8, 117.1 138.6 M 121.2 142.2 Q 122.6 142.2, 123.3 141.3 Q 124.1 140.4, 124.1 138.6 Q 124.1 136.8, 123.3 135.9 Q 122.6 135.0, 121.2 135.0 Q 119.9 135.0, 119.1 135.9 Q 118.4 136.8, 118.4 138.6 Q 118.4 140.4, 119.1 141.3 Q 119.9 142.2, 121.2 142.2 \" fill=\"#FF0000\"/>\n",
       "<path class=\"atom-7\" d=\"M 148.8 61.4 Q 148.8 59.3, 149.9 58.1 Q 151.0 56.9, 152.9 56.9 Q 154.9 56.9, 156.0 58.1 Q 157.0 59.3, 157.0 61.4 Q 157.0 63.6, 156.0 64.8 Q 154.9 66.1, 152.9 66.1 Q 151.0 66.1, 149.9 64.8 Q 148.8 63.6, 148.8 61.4 M 152.9 65.0 Q 154.3 65.0, 155.0 64.1 Q 155.8 63.2, 155.8 61.4 Q 155.8 59.7, 155.0 58.8 Q 154.3 57.9, 152.9 57.9 Q 151.6 57.9, 150.8 58.8 Q 150.1 59.7, 150.1 61.4 Q 150.1 63.2, 150.8 64.1 Q 151.6 65.0, 152.9 65.0 \" fill=\"#FF0000\"/>\n",
       "<path class=\"atom-8\" d=\"M 173.4 110.2 Q 173.4 108.0, 174.5 106.8 Q 175.5 105.6, 177.5 105.6 Q 179.5 105.6, 180.6 106.8 Q 181.6 108.0, 181.6 110.2 Q 181.6 112.3, 180.6 113.6 Q 179.5 114.8, 177.5 114.8 Q 175.6 114.8, 174.5 113.6 Q 173.4 112.4, 173.4 110.2 M 177.5 113.8 Q 178.9 113.8, 179.6 112.9 Q 180.4 112.0, 180.4 110.2 Q 180.4 108.4, 179.6 107.5 Q 178.9 106.6, 177.5 106.6 Q 176.2 106.6, 175.4 107.5 Q 174.7 108.4, 174.7 110.2 Q 174.7 112.0, 175.4 112.9 Q 176.2 113.8, 177.5 113.8 \" fill=\"#FF0000\"/>\n",
       "<path class=\"atom-8\" d=\"M 183.0 105.7 L 184.2 105.7 L 184.2 109.5 L 188.8 109.5 L 188.8 105.7 L 190.0 105.7 L 190.0 114.7 L 188.8 114.7 L 188.8 110.5 L 184.2 110.5 L 184.2 114.7 L 183.0 114.7 L 183.0 105.7 \" fill=\"#FF0000\"/>\n",
       "<path class=\"note\" d=\"M 11.6 98.6 Q 10.8 98.6, 10.4 97.9 Q 10.0 97.3, 10.0 96.3 Q 10.0 95.2, 10.4 94.6 Q 10.8 94.0, 11.6 94.0 Q 12.5 94.0, 12.9 94.6 Q 13.3 95.2, 13.3 96.3 Q 13.3 97.3, 12.9 97.9 Q 12.5 98.6, 11.6 98.6 M 11.6 98.1 Q 12.1 98.1, 12.4 97.6 Q 12.6 97.1, 12.6 96.3 Q 12.6 95.4, 12.4 94.9 Q 12.1 94.5, 11.6 94.5 Q 11.2 94.5, 10.9 94.9 Q 10.6 95.4, 10.6 96.3 Q 10.6 97.1, 10.9 97.6 Q 11.2 98.1, 11.6 98.1 \" fill=\"#000000\"/>\n",
       "<path class=\"note\" d=\"M 41.6 78.0 L 42.6 78.0 L 42.6 74.7 L 41.5 75.0 L 41.4 74.6 L 42.8 74.0 L 43.2 74.1 L 43.2 78.0 L 44.1 78.0 L 44.1 78.5 L 41.6 78.5 L 41.6 78.0 \" fill=\"#000000\"/>\n",
       "<path class=\"note\" d=\"M 66.7 107.9 Q 66.9 107.5, 67.3 107.2 Q 67.7 107.0, 68.2 107.0 Q 68.9 107.0, 69.3 107.4 Q 69.6 107.7, 69.6 108.4 Q 69.6 109.0, 69.1 109.7 Q 68.7 110.3, 67.7 111.0 L 69.7 111.0 L 69.7 111.5 L 66.7 111.5 L 66.7 111.1 Q 67.5 110.5, 68.0 110.1 Q 68.5 109.6, 68.8 109.2 Q 69.0 108.8, 69.0 108.4 Q 69.0 108.0, 68.8 107.7 Q 68.6 107.5, 68.2 107.5 Q 67.9 107.5, 67.6 107.6 Q 67.4 107.8, 67.2 108.1 L 66.7 107.9 \" fill=\"#000000\"/>\n",
       "<path class=\"note\" d=\"M 97.6 84.5 Q 98.0 84.6, 98.2 84.9 Q 98.4 85.2, 98.4 85.6 Q 98.4 86.0, 98.3 86.3 Q 98.1 86.6, 97.7 86.7 Q 97.4 86.9, 96.9 86.9 Q 96.4 86.9, 96.1 86.7 Q 95.7 86.5, 95.4 86.2 L 95.8 85.8 Q 96.1 86.1, 96.3 86.3 Q 96.5 86.4, 96.9 86.4 Q 97.3 86.4, 97.6 86.2 Q 97.8 85.9, 97.8 85.6 Q 97.8 85.1, 97.6 84.9 Q 97.3 84.7, 96.8 84.7 L 96.4 84.7 L 96.4 84.3 L 96.7 84.3 Q 97.2 84.3, 97.5 84.1 Q 97.7 83.8, 97.7 83.4 Q 97.7 83.2, 97.5 83.0 Q 97.3 82.8, 96.9 82.8 Q 96.6 82.8, 96.3 82.9 Q 96.1 83.1, 95.9 83.4 L 95.5 83.2 Q 95.6 82.8, 96.0 82.6 Q 96.4 82.3, 96.9 82.3 Q 97.6 82.3, 98.0 82.6 Q 98.4 82.9, 98.4 83.4 Q 98.4 83.8, 98.2 84.1 Q 98.0 84.3, 97.6 84.5 \" fill=\"#000000\"/>\n",
       "<path class=\"note\" d=\"M 124.5 102.5 L 125.0 102.5 L 125.0 103.0 L 124.5 103.0 L 124.5 104.1 L 123.9 104.1 L 123.9 103.0 L 121.6 103.0 L 121.6 102.6 L 123.6 99.6 L 124.5 99.6 L 124.5 102.5 M 122.3 102.5 L 123.9 102.5 L 123.9 100.0 L 122.3 102.5 \" fill=\"#000000\"/>\n",
       "<path class=\"note\" d=\"M 120.8 148.5 Q 121.2 148.5, 121.5 148.6 Q 121.8 148.8, 122.0 149.1 Q 122.2 149.4, 122.2 149.9 Q 122.2 150.3, 121.9 150.7 Q 121.7 151.0, 121.4 151.1 Q 121.0 151.3, 120.6 151.3 Q 120.2 151.3, 119.8 151.2 Q 119.4 151.0, 119.1 150.7 L 119.5 150.3 Q 119.7 150.6, 120.0 150.7 Q 120.3 150.8, 120.6 150.8 Q 121.0 150.8, 121.3 150.6 Q 121.5 150.3, 121.5 149.9 Q 121.5 149.4, 121.3 149.2 Q 121.0 148.9, 120.6 148.9 Q 120.2 148.9, 119.7 149.1 L 119.4 149.0 L 119.6 146.8 L 121.9 146.8 L 121.8 147.3 L 120.1 147.3 L 120.0 148.6 Q 120.4 148.5, 120.8 148.5 \" fill=\"#000000\"/>\n",
       "<path class=\"note\" d=\"M 151.1 97.6 Q 151.5 97.6, 151.8 97.8 Q 152.1 97.9, 152.2 98.2 Q 152.4 98.5, 152.4 98.9 Q 152.4 99.4, 152.2 99.7 Q 152.0 100.0, 151.7 100.2 Q 151.3 100.4, 150.9 100.4 Q 150.1 100.4, 149.7 99.9 Q 149.3 99.3, 149.3 98.3 Q 149.3 97.1, 149.8 96.5 Q 150.3 95.9, 151.3 95.9 Q 151.5 95.9, 151.8 95.9 Q 152.0 96.0, 152.2 96.1 L 152.0 96.5 Q 151.7 96.4, 151.3 96.4 Q 150.6 96.4, 150.3 96.8 Q 150.0 97.2, 150.0 98.0 Q 150.2 97.8, 150.5 97.7 Q 150.8 97.6, 151.1 97.6 M 150.9 99.9 Q 151.2 99.9, 151.4 99.8 Q 151.6 99.7, 151.7 99.4 Q 151.8 99.2, 151.8 98.9 Q 151.8 98.5, 151.6 98.3 Q 151.3 98.1, 150.9 98.1 Q 150.7 98.1, 150.4 98.2 Q 150.1 98.3, 150.0 98.5 Q 150.0 99.2, 150.2 99.6 Q 150.4 99.9, 150.9 99.9 \" fill=\"#000000\"/>\n",
       "<path class=\"note\" d=\"M 154.4 49.2 L 152.0 49.2 L 152.0 48.7 L 155.0 48.7 L 155.0 49.1 L 153.2 53.1 L 152.6 53.1 L 154.4 49.2 \" fill=\"#000000\"/>\n",
       "<path class=\"note\" d=\"M 183.0 119.4 Q 183.4 119.6, 183.6 119.9 Q 183.8 120.1, 183.8 120.6 Q 183.8 120.9, 183.6 121.2 Q 183.4 121.5, 183.1 121.7 Q 182.7 121.8, 182.3 121.8 Q 181.5 121.8, 181.1 121.5 Q 180.7 121.2, 180.7 120.6 Q 180.7 120.2, 180.9 119.9 Q 181.1 119.6, 181.5 119.4 Q 181.2 119.3, 181.0 119.0 Q 180.8 118.8, 180.8 118.4 Q 180.8 117.9, 181.2 117.6 Q 181.6 117.3, 182.3 117.3 Q 182.9 117.3, 183.3 117.6 Q 183.7 117.9, 183.7 118.4 Q 183.7 118.7, 183.5 119.0 Q 183.3 119.2, 183.0 119.4 M 182.3 117.7 Q 181.9 117.7, 181.7 117.9 Q 181.5 118.1, 181.5 118.4 Q 181.5 118.6, 181.6 118.8 Q 181.8 119.0, 182.0 119.0 Q 182.2 119.1, 182.5 119.3 Q 182.8 119.1, 182.9 118.9 Q 183.0 118.7, 183.0 118.4 Q 183.0 118.1, 182.8 117.9 Q 182.6 117.7, 182.3 117.7 M 182.3 121.4 Q 182.7 121.4, 183.0 121.2 Q 183.2 120.9, 183.2 120.6 Q 183.2 120.3, 183.1 120.2 Q 182.9 120.0, 182.7 119.9 Q 182.5 119.8, 182.2 119.7 L 181.9 119.6 Q 181.6 119.8, 181.5 120.0 Q 181.3 120.3, 181.3 120.6 Q 181.3 120.9, 181.6 121.2 Q 181.8 121.4, 182.3 121.4 \" fill=\"#000000\"/>\n",
       "</svg>"
      ],
      "text/plain": [
       "<IPython.core.display.SVG object>"
      ]
     },
     "execution_count": 13,
     "metadata": {},
     "output_type": "execute_result"
    }
   ],
   "source": [
    "smi1 = 'CSCCC(=O)C(=O)O'\n",
    "rc1 = (4, 6, 8)\n",
    "mol1 = Chem.MolFromSmiles(smi1)\n",
    "SVG(draw_molecule(smi1, draw_options={\"addAtomIndices\": True}))"
   ]
  },
  {
   "cell_type": "code",
   "execution_count": 12,
   "metadata": {},
   "outputs": [
    {
     "data": {
      "image/svg+xml": [
       "<svg xmlns=\"http://www.w3.org/2000/svg\" xmlns:rdkit=\"http://www.rdkit.org/xml\" xmlns:xlink=\"http://www.w3.org/1999/xlink\" version=\"1.1\" baseProfile=\"full\" xml:space=\"preserve\" width=\"200px\" height=\"200px\" viewBox=\"0 0 200 200\">\n",
       "<!-- END OF HEADER -->\n",
       "<rect style=\"opacity:1.0;fill:#FFFFFF;stroke:none\" width=\"200.0\" height=\"200.0\" x=\"0.0\" y=\"0.0\"> </rect>\n",
       "<path class=\"bond-0 atom-0 atom-1\" d=\"M 20.7,115.0 L 89.6,75.2\" style=\"fill:none;fill-rule:evenodd;stroke:#000000;stroke-width:2.0px;stroke-linecap:butt;stroke-linejoin:miter;stroke-opacity:1\"/>\n",
       "<path class=\"bond-1 atom-1 atom-2\" d=\"M 89.6,75.2 L 117.6,91.4\" style=\"fill:none;fill-rule:evenodd;stroke:#000000;stroke-width:2.0px;stroke-linecap:butt;stroke-linejoin:miter;stroke-opacity:1\"/>\n",
       "<path class=\"bond-1 atom-1 atom-2\" d=\"M 117.6,91.4 L 145.6,107.5\" style=\"fill:none;fill-rule:evenodd;stroke:#FF0000;stroke-width:2.0px;stroke-linecap:butt;stroke-linejoin:miter;stroke-opacity:1\"/>\n",
       "<path d=\"M 86.2,77.2 L 89.6,75.2 L 91.0,76.1\" style=\"fill:none;stroke:#000000;stroke-width:2.0px;stroke-linecap:butt;stroke-linejoin:miter;stroke-opacity:1;\"/>\n",
       "<path class=\"atom-2\" d=\"M 148.2 115.1 Q 148.2 109.7, 150.9 106.6 Q 153.5 103.6, 158.5 103.6 Q 163.5 103.6, 166.2 106.6 Q 168.9 109.7, 168.9 115.1 Q 168.9 120.6, 166.2 123.7 Q 163.5 126.8, 158.5 126.8 Q 153.6 126.8, 150.9 123.7 Q 148.2 120.6, 148.2 115.1 M 158.5 124.2 Q 162.0 124.2, 163.8 121.9 Q 165.7 119.6, 165.7 115.1 Q 165.7 110.7, 163.8 108.4 Q 162.0 106.2, 158.5 106.2 Q 155.1 106.2, 153.2 108.4 Q 151.4 110.6, 151.4 115.1 Q 151.4 119.6, 153.2 121.9 Q 155.1 124.2, 158.5 124.2 \" fill=\"#FF0000\"/>\n",
       "<path class=\"atom-2\" d=\"M 172.4 103.9 L 175.4 103.9 L 175.4 113.5 L 186.9 113.5 L 186.9 103.9 L 190.0 103.9 L 190.0 126.4 L 186.9 126.4 L 186.9 116.0 L 175.4 116.0 L 175.4 126.4 L 172.4 126.4 L 172.4 103.9 \" fill=\"#FF0000\"/>\n",
       "<path class=\"note\" d=\"M 14.1 109.4 Q 12.1 109.4, 11.0 107.8 Q 10.0 106.3, 10.0 103.6 Q 10.0 100.9, 11.0 99.4 Q 12.0 97.8, 14.1 97.8 Q 16.2 97.8, 17.2 99.4 Q 18.2 100.9, 18.2 103.6 Q 18.2 106.3, 17.2 107.8 Q 16.2 109.4, 14.1 109.4 M 14.1 108.1 Q 15.3 108.1, 16.0 107.0 Q 16.6 105.8, 16.6 103.6 Q 16.6 101.4, 16.0 100.2 Q 15.3 99.1, 14.1 99.1 Q 12.9 99.1, 12.2 100.2 Q 11.6 101.4, 11.6 103.6 Q 11.6 105.8, 12.2 107.0 Q 12.9 108.1, 14.1 108.1 \" fill=\"#000000\"/>\n",
       "<path class=\"note\" d=\"M 86.9 66.4 L 89.3 66.4 L 89.3 58.0 L 86.6 58.8 L 86.2 57.9 L 89.7 56.3 L 90.8 56.5 L 90.8 66.4 L 93.0 66.4 L 93.0 67.7 L 86.9 67.7 L 86.9 66.4 \" fill=\"#000000\"/>\n",
       "<path class=\"note\" d=\"M 168.0 134.5 Q 168.4 133.5, 169.4 132.9 Q 170.4 132.3, 171.8 132.3 Q 173.5 132.3, 174.4 133.2 Q 175.4 134.1, 175.4 135.8 Q 175.4 137.4, 174.1 139.0 Q 172.9 140.6, 170.4 142.4 L 175.6 142.4 L 175.6 143.7 L 168.0 143.7 L 168.0 142.6 Q 170.1 141.1, 171.3 140.0 Q 172.6 138.9, 173.2 137.9 Q 173.8 136.9, 173.8 135.8 Q 173.8 134.8, 173.3 134.2 Q 172.7 133.6, 171.8 133.6 Q 170.9 133.6, 170.3 133.9 Q 169.7 134.3, 169.2 135.1 L 168.0 134.5 \" fill=\"#000000\"/>\n",
       "</svg>"
      ],
      "text/plain": [
       "<IPython.core.display.SVG object>"
      ]
     },
     "execution_count": 12,
     "metadata": {},
     "output_type": "execute_result"
    }
   ],
   "source": [
    "subsmi = rdmolfiles.MolFragmentToSmiles(\n",
    "    mol=mol1,\n",
    "    atomsToUse=rc1\n",
    ")\n",
    "submol = Chem.MolFromSmiles(subsmi)\n",
    "SVG(draw_molecule(submol, draw_options={\"addAtomIndices\": True}))"
   ]
  },
  {
   "cell_type": "code",
   "execution_count": null,
   "metadata": {},
   "outputs": [],
   "source": []
  },
  {
   "cell_type": "code",
   "execution_count": 14,
   "metadata": {},
   "outputs": [
    {
     "data": {
      "image/svg+xml": [
       "<svg xmlns=\"http://www.w3.org/2000/svg\" xmlns:rdkit=\"http://www.rdkit.org/xml\" xmlns:xlink=\"http://www.w3.org/1999/xlink\" version=\"1.1\" baseProfile=\"full\" xml:space=\"preserve\" width=\"200px\" height=\"200px\" viewBox=\"0 0 200 200\">\n",
       "<!-- END OF HEADER -->\n",
       "<rect style=\"opacity:1.0;fill:#FFFFFF;stroke:none\" width=\"200.0\" height=\"200.0\" x=\"0.0\" y=\"0.0\"> </rect>\n",
       "<path class=\"bond-0 atom-0 atom-1\" d=\"M 175.3,40.5 L 141.0,99.9\" style=\"fill:none;fill-rule:evenodd;stroke:#000000;stroke-width:2.0px;stroke-linecap:butt;stroke-linejoin:miter;stroke-opacity:1\"/>\n",
       "<path class=\"bond-1 atom-1 atom-2\" d=\"M 135.1,99.9 L 149.5,124.9\" style=\"fill:none;fill-rule:evenodd;stroke:#000000;stroke-width:2.0px;stroke-linecap:butt;stroke-linejoin:miter;stroke-opacity:1\"/>\n",
       "<path class=\"bond-1 atom-1 atom-2\" d=\"M 149.5,124.9 L 163.9,149.8\" style=\"fill:none;fill-rule:evenodd;stroke:#FF0000;stroke-width:2.0px;stroke-linecap:butt;stroke-linejoin:miter;stroke-opacity:1\"/>\n",
       "<path class=\"bond-1 atom-1 atom-2\" d=\"M 144.0,94.8 L 158.4,119.7\" style=\"fill:none;fill-rule:evenodd;stroke:#000000;stroke-width:2.0px;stroke-linecap:butt;stroke-linejoin:miter;stroke-opacity:1\"/>\n",
       "<path class=\"bond-1 atom-1 atom-2\" d=\"M 158.4,119.7 L 172.8,144.7\" style=\"fill:none;fill-rule:evenodd;stroke:#FF0000;stroke-width:2.0px;stroke-linecap:butt;stroke-linejoin:miter;stroke-opacity:1\"/>\n",
       "<path class=\"bond-2 atom-1 atom-3\" d=\"M 141.0,99.9 L 72.4,99.9\" style=\"fill:none;fill-rule:evenodd;stroke:#000000;stroke-width:2.0px;stroke-linecap:butt;stroke-linejoin:miter;stroke-opacity:1\"/>\n",
       "<path class=\"bond-3 atom-3 atom-4\" d=\"M 78.3,99.9 L 64.0,75.2\" style=\"fill:none;fill-rule:evenodd;stroke:#000000;stroke-width:2.0px;stroke-linecap:butt;stroke-linejoin:miter;stroke-opacity:1\"/>\n",
       "<path class=\"bond-3 atom-3 atom-4\" d=\"M 64.0,75.2 L 49.7,50.4\" style=\"fill:none;fill-rule:evenodd;stroke:#FF0000;stroke-width:2.0px;stroke-linecap:butt;stroke-linejoin:miter;stroke-opacity:1\"/>\n",
       "<path class=\"bond-3 atom-3 atom-4\" d=\"M 69.4,105.1 L 55.1,80.3\" style=\"fill:none;fill-rule:evenodd;stroke:#000000;stroke-width:2.0px;stroke-linecap:butt;stroke-linejoin:miter;stroke-opacity:1\"/>\n",
       "<path class=\"bond-3 atom-3 atom-4\" d=\"M 55.1,80.3 L 40.8,55.5\" style=\"fill:none;fill-rule:evenodd;stroke:#FF0000;stroke-width:2.0px;stroke-linecap:butt;stroke-linejoin:miter;stroke-opacity:1\"/>\n",
       "<path class=\"bond-4 atom-3 atom-5\" d=\"M 72.4,99.9 L 58.7,123.6\" style=\"fill:none;fill-rule:evenodd;stroke:#000000;stroke-width:2.0px;stroke-linecap:butt;stroke-linejoin:miter;stroke-opacity:1\"/>\n",
       "<path class=\"bond-4 atom-3 atom-5\" d=\"M 58.7,123.6 L 45.1,147.3\" style=\"fill:none;fill-rule:evenodd;stroke:#FF0000;stroke-width:2.0px;stroke-linecap:butt;stroke-linejoin:miter;stroke-opacity:1\"/>\n",
       "<path d=\"M 142.7,97.0 L 141.0,99.9 L 137.6,99.9\" style=\"fill:none;stroke:#000000;stroke-width:2.0px;stroke-linecap:butt;stroke-linejoin:miter;stroke-opacity:1;\"/>\n",
       "<path d=\"M 75.8,99.9 L 72.4,99.9 L 71.7,101.1\" style=\"fill:none;stroke:#000000;stroke-width:2.0px;stroke-linecap:butt;stroke-linejoin:miter;stroke-opacity:1;\"/>\n",
       "<path class=\"atom-2\" d=\"M 166.4 159.4 Q 166.4 154.7, 168.7 152.1 Q 171.0 149.5, 175.3 149.5 Q 179.6 149.5, 181.9 152.1 Q 184.2 154.7, 184.2 159.4 Q 184.2 164.1, 181.9 166.8 Q 179.5 169.5, 175.3 169.5 Q 171.0 169.5, 168.7 166.8 Q 166.4 164.2, 166.4 159.4 M 175.3 167.3 Q 178.3 167.3, 179.9 165.3 Q 181.5 163.3, 181.5 159.4 Q 181.5 155.6, 179.9 153.7 Q 178.3 151.7, 175.3 151.7 Q 172.3 151.7, 170.7 153.6 Q 169.1 155.6, 169.1 159.4 Q 169.1 163.3, 170.7 165.3 Q 172.3 167.3, 175.3 167.3 \" fill=\"#FF0000\"/>\n",
       "<path class=\"atom-4\" d=\"M 29.2 40.6 Q 29.2 35.9, 31.5 33.3 Q 33.8 30.7, 38.1 30.7 Q 42.4 30.7, 44.7 33.3 Q 47.0 35.9, 47.0 40.6 Q 47.0 45.3, 44.7 48.0 Q 42.4 50.7, 38.1 50.7 Q 33.8 50.7, 31.5 48.0 Q 29.2 45.3, 29.2 40.6 M 38.1 48.5 Q 41.1 48.5, 42.7 46.5 Q 44.3 44.5, 44.3 40.6 Q 44.3 36.8, 42.7 34.9 Q 41.1 32.9, 38.1 32.9 Q 35.1 32.9, 33.5 34.8 Q 31.9 36.8, 31.9 40.6 Q 31.9 44.5, 33.5 46.5 Q 35.1 48.5, 38.1 48.5 \" fill=\"#FF0000\"/>\n",
       "<path class=\"atom-5\" d=\"M 10.0 149.7 L 12.6 149.7 L 12.6 158.0 L 22.6 158.0 L 22.6 149.7 L 25.2 149.7 L 25.2 169.2 L 22.6 169.2 L 22.6 160.2 L 12.6 160.2 L 12.6 169.2 L 10.0 169.2 L 10.0 149.7 \" fill=\"#FF0000\"/>\n",
       "<path class=\"atom-5\" d=\"M 29.2 159.4 Q 29.2 154.7, 31.5 152.1 Q 33.8 149.5, 38.1 149.5 Q 42.4 149.5, 44.7 152.1 Q 47.0 154.7, 47.0 159.4 Q 47.0 164.1, 44.7 166.8 Q 42.4 169.5, 38.1 169.5 Q 33.8 169.5, 31.5 166.8 Q 29.2 164.2, 29.2 159.4 M 38.1 167.3 Q 41.1 167.3, 42.7 165.3 Q 44.3 163.3, 44.3 159.4 Q 44.3 155.6, 42.7 153.7 Q 41.1 151.7, 38.1 151.7 Q 35.1 151.7, 33.5 153.6 Q 31.9 155.6, 31.9 159.4 Q 31.9 163.3, 33.5 165.3 Q 35.1 167.3, 38.1 167.3 \" fill=\"#FF0000\"/>\n",
       "<path class=\"note\" d=\"M 185.2 51.3 Q 183.4 51.3, 182.5 50.0 Q 181.6 48.6, 181.6 46.3 Q 181.6 44.0, 182.5 42.6 Q 183.4 41.3, 185.2 41.3 Q 187.0 41.3, 187.9 42.6 Q 188.7 44.0, 188.7 46.3 Q 188.7 48.6, 187.9 50.0 Q 187.0 51.3, 185.2 51.3 M 185.2 50.2 Q 186.3 50.2, 186.8 49.2 Q 187.4 48.2, 187.4 46.3 Q 187.4 44.4, 186.8 43.4 Q 186.3 42.4, 185.2 42.4 Q 184.2 42.4, 183.6 43.4 Q 183.0 44.4, 183.0 46.3 Q 183.0 48.2, 183.6 49.2 Q 184.2 50.2, 185.2 50.2 \" fill=\"#000000\"/>\n",
       "<path class=\"note\" d=\"M 132.9 93.8 L 135.0 93.8 L 135.0 86.6 L 132.7 87.3 L 132.4 86.5 L 135.3 85.2 L 136.3 85.3 L 136.3 93.8 L 138.2 93.8 L 138.2 94.9 L 132.9 94.9 L 132.9 93.8 \" fill=\"#000000\"/>\n",
       "<path class=\"note\" d=\"M 183.5 176.2 Q 183.8 175.3, 184.7 174.8 Q 185.5 174.2, 186.7 174.2 Q 188.2 174.2, 189.0 175.0 Q 189.8 175.8, 189.8 177.2 Q 189.8 178.7, 188.8 180.0 Q 187.7 181.4, 185.5 183.0 L 190.0 183.0 L 190.0 184.1 L 183.5 184.1 L 183.5 183.1 Q 185.3 181.9, 186.3 180.9 Q 187.4 179.9, 187.9 179.1 Q 188.5 178.2, 188.5 177.3 Q 188.5 176.4, 188.0 175.9 Q 187.5 175.3, 186.7 175.3 Q 185.9 175.3, 185.4 175.7 Q 184.9 176.0, 184.5 176.7 L 183.5 176.2 \" fill=\"#000000\"/>\n",
       "<path class=\"note\" d=\"M 79.5 109.6 Q 80.5 109.9, 80.9 110.5 Q 81.4 111.1, 81.4 112.1 Q 81.4 112.9, 81.0 113.6 Q 80.6 114.2, 79.8 114.6 Q 79.0 114.9, 78.1 114.9 Q 77.0 114.9, 76.2 114.5 Q 75.5 114.2, 74.9 113.4 L 75.6 112.6 Q 76.2 113.3, 76.7 113.6 Q 77.3 113.8, 78.1 113.8 Q 78.9 113.8, 79.5 113.3 Q 80.0 112.9, 80.0 112.1 Q 80.0 111.1, 79.4 110.7 Q 78.9 110.2, 77.7 110.2 L 77.0 110.2 L 77.0 109.2 L 77.6 109.2 Q 78.7 109.2, 79.2 108.7 Q 79.8 108.3, 79.8 107.4 Q 79.8 106.8, 79.3 106.4 Q 78.9 106.0, 78.1 106.0 Q 77.3 106.0, 76.8 106.3 Q 76.3 106.6, 75.9 107.3 L 74.9 106.8 Q 75.3 106.0, 76.1 105.5 Q 76.9 104.9, 78.1 104.9 Q 79.5 104.9, 80.3 105.6 Q 81.2 106.3, 81.2 107.4 Q 81.2 108.2, 80.8 108.8 Q 80.3 109.3, 79.5 109.6 \" fill=\"#000000\"/>\n",
       "<path class=\"note\" d=\"M 29.2 22.3 L 30.4 22.3 L 30.4 23.4 L 29.2 23.4 L 29.2 25.6 L 28.0 25.6 L 28.0 23.4 L 22.9 23.4 L 22.9 22.5 L 27.2 15.9 L 29.2 15.9 L 29.2 22.3 M 24.5 22.3 L 28.0 22.3 L 28.0 16.8 L 24.5 22.3 \" fill=\"#000000\"/>\n",
       "<path class=\"note\" d=\"M 26.9 177.9 Q 27.8 177.9, 28.5 178.3 Q 29.2 178.7, 29.6 179.3 Q 30.0 180.0, 30.0 180.9 Q 30.0 181.9, 29.5 182.7 Q 29.0 183.4, 28.2 183.7 Q 27.4 184.1, 26.5 184.1 Q 25.6 184.1, 24.8 183.8 Q 23.9 183.5, 23.4 182.8 L 24.2 182.0 Q 24.7 182.5, 25.3 182.7 Q 25.9 183.0, 26.5 183.0 Q 27.4 183.0, 28.0 182.5 Q 28.6 181.9, 28.6 181.0 Q 28.6 179.9, 28.0 179.5 Q 27.4 179.0, 26.4 179.0 Q 25.6 179.0, 24.6 179.3 L 23.9 179.0 L 24.4 174.3 L 29.4 174.3 L 29.2 175.4 L 25.5 175.4 L 25.2 178.3 Q 26.1 177.9, 26.9 177.9 \" fill=\"#000000\"/>\n",
       "</svg>"
      ],
      "text/plain": [
       "<IPython.core.display.SVG object>"
      ]
     },
     "execution_count": 14,
     "metadata": {},
     "output_type": "execute_result"
    }
   ],
   "source": [
    "subsmi = rdmolfiles.MolFragmentToSmiles(\n",
    "    mol=mol1,\n",
    "    atomsToUse=(3,4,5,6,7,8)\n",
    ")\n",
    "submol = Chem.MolFromSmiles(subsmi)\n",
    "SVG(draw_molecule(submol, draw_options={\"addAtomIndices\": True}))"
   ]
  },
  {
   "cell_type": "code",
   "execution_count": 17,
   "metadata": {},
   "outputs": [
    {
     "data": {
      "image/svg+xml": [
       "<svg xmlns=\"http://www.w3.org/2000/svg\" xmlns:rdkit=\"http://www.rdkit.org/xml\" xmlns:xlink=\"http://www.w3.org/1999/xlink\" version=\"1.1\" baseProfile=\"full\" xml:space=\"preserve\" width=\"200px\" height=\"200px\" viewBox=\"0 0 200 200\">\n",
       "<!-- END OF HEADER -->\n",
       "<rect style=\"opacity:1.0;fill:#FFFFFF;stroke:none\" width=\"200.0\" height=\"200.0\" x=\"0.0\" y=\"0.0\"> </rect>\n",
       "<path class=\"bond-0 atom-0 atom-1\" d=\"M 13.8,100.9 L 23.1,96.2\" style=\"fill:none;fill-rule:evenodd;stroke:#000000;stroke-width:2.0px;stroke-linecap:butt;stroke-linejoin:miter;stroke-opacity:1\"/>\n",
       "<path class=\"bond-0 atom-0 atom-1\" d=\"M 23.1,96.2 L 32.5,91.5\" style=\"fill:none;fill-rule:evenodd;stroke:#CCCC00;stroke-width:2.0px;stroke-linecap:butt;stroke-linejoin:miter;stroke-opacity:1\"/>\n",
       "<path class=\"bond-1 atom-1 atom-2\" d=\"M 48.4,92.7 L 52.8,95.6\" style=\"fill:none;fill-rule:evenodd;stroke:#CCCC00;stroke-width:2.0px;stroke-linecap:butt;stroke-linejoin:miter;stroke-opacity:1\"/>\n",
       "<path class=\"bond-1 atom-1 atom-2\" d=\"M 52.8,95.6 L 57.3,98.5\" style=\"fill:none;fill-rule:evenodd;stroke:#000000;stroke-width:2.0px;stroke-linecap:butt;stroke-linejoin:miter;stroke-opacity:1\"/>\n",
       "<path class=\"bond-2 atom-2 atom-3\" d=\"M 74.2,99.3 L 83.2,94.8\" style=\"fill:none;fill-rule:evenodd;stroke:#000000;stroke-width:2.0px;stroke-linecap:butt;stroke-linejoin:miter;stroke-opacity:1\"/>\n",
       "<path class=\"bond-3 atom-3 atom-4\" d=\"M 100.2,95.7 L 108.9,101.4\" style=\"fill:none;fill-rule:evenodd;stroke:#000000;stroke-width:2.0px;stroke-linecap:butt;stroke-linejoin:miter;stroke-opacity:1\"/>\n",
       "<path class=\"bond-4 atom-4 atom-5\" d=\"M 114.3,113.2 L 113.8,122.1\" style=\"fill:none;fill-rule:evenodd;stroke:#000000;stroke-width:2.0px;stroke-linecap:butt;stroke-linejoin:miter;stroke-opacity:1\"/>\n",
       "<path class=\"bond-4 atom-4 atom-5\" d=\"M 113.8,122.1 L 113.3,131.1\" style=\"fill:none;fill-rule:evenodd;stroke:#FF0000;stroke-width:2.0px;stroke-linecap:butt;stroke-linejoin:miter;stroke-opacity:1\"/>\n",
       "<path class=\"bond-4 atom-4 atom-5\" d=\"M 118.8,113.4 L 118.3,122.4\" style=\"fill:none;fill-rule:evenodd;stroke:#000000;stroke-width:2.0px;stroke-linecap:butt;stroke-linejoin:miter;stroke-opacity:1\"/>\n",
       "<path class=\"bond-4 atom-4 atom-5\" d=\"M 118.3,122.4 L 117.8,131.3\" style=\"fill:none;fill-rule:evenodd;stroke:#FF0000;stroke-width:2.0px;stroke-linecap:butt;stroke-linejoin:miter;stroke-opacity:1\"/>\n",
       "<path class=\"bond-5 atom-4 atom-6\" d=\"M 126.2,102.0 L 134.6,97.8\" style=\"fill:none;fill-rule:evenodd;stroke:#000000;stroke-width:2.0px;stroke-linecap:butt;stroke-linejoin:miter;stroke-opacity:1\"/>\n",
       "<path class=\"bond-6 atom-6 atom-7\" d=\"M 146.0,89.5 L 146.6,79.2\" style=\"fill:none;fill-rule:evenodd;stroke:#000000;stroke-width:2.0px;stroke-linecap:butt;stroke-linejoin:miter;stroke-opacity:1\"/>\n",
       "<path class=\"bond-6 atom-6 atom-7\" d=\"M 146.6,79.2 L 147.2,69.0\" style=\"fill:none;fill-rule:evenodd;stroke:#FF0000;stroke-width:2.0px;stroke-linecap:butt;stroke-linejoin:miter;stroke-opacity:1\"/>\n",
       "<path class=\"bond-6 atom-6 atom-7\" d=\"M 141.5,89.2 L 142.1,79.0\" style=\"fill:none;fill-rule:evenodd;stroke:#000000;stroke-width:2.0px;stroke-linecap:butt;stroke-linejoin:miter;stroke-opacity:1\"/>\n",
       "<path class=\"bond-6 atom-6 atom-7\" d=\"M 142.1,79.0 L 142.7,68.7\" style=\"fill:none;fill-rule:evenodd;stroke:#FF0000;stroke-width:2.0px;stroke-linecap:butt;stroke-linejoin:miter;stroke-opacity:1\"/>\n",
       "<path class=\"bond-7 atom-6 atom-8\" d=\"M 151.7,98.6 L 157.7,102.5\" style=\"fill:none;fill-rule:evenodd;stroke:#000000;stroke-width:2.0px;stroke-linecap:butt;stroke-linejoin:miter;stroke-opacity:1\"/>\n",
       "<path class=\"bond-7 atom-6 atom-8\" d=\"M 157.7,102.5 L 163.6,106.4\" style=\"fill:none;fill-rule:evenodd;stroke:#FF0000;stroke-width:2.0px;stroke-linecap:butt;stroke-linejoin:miter;stroke-opacity:1\"/>\n",
       "<path class=\"atom-1\" d=\"M 33.8 90.4 Q 33.9 90.4, 34.3 90.6 Q 34.6 90.8, 35.1 90.9 Q 35.5 91.0, 35.9 91.0 Q 36.7 91.0, 37.2 90.6 Q 37.7 90.2, 37.7 89.5 Q 37.7 89.0, 37.4 88.8 Q 37.2 88.5, 36.9 88.3 Q 36.5 88.2, 35.9 88.0 Q 35.1 87.7, 34.7 87.5 Q 34.3 87.3, 33.9 86.9 Q 33.6 86.4, 33.6 85.6 Q 33.6 84.6, 34.3 83.9 Q 35.1 83.3, 36.5 83.3 Q 37.5 83.3, 38.6 83.7 L 38.3 84.7 Q 37.3 84.2, 36.5 84.2 Q 35.7 84.2, 35.3 84.6 Q 34.8 84.9, 34.8 85.5 Q 34.8 86.0, 35.0 86.2 Q 35.3 86.5, 35.6 86.7 Q 36.0 86.8, 36.5 87.0 Q 37.3 87.2, 37.7 87.5 Q 38.2 87.7, 38.5 88.2 Q 38.9 88.7, 38.9 89.5 Q 38.9 90.7, 38.1 91.3 Q 37.3 91.9, 36.0 91.9 Q 35.2 91.9, 34.7 91.8 Q 34.1 91.6, 33.4 91.3 L 33.8 90.4 \" fill=\"#CCCC00\"/>\n",
       "<path class=\"atom-1\" d=\"M 39.8 90.3 L 41.0 90.3 L 41.0 91.5 L 39.8 91.5 L 39.8 90.3 M 39.8 86.2 L 41.0 86.2 L 41.0 87.4 L 39.8 87.4 L 39.8 86.2 \" fill=\"#CCCC00\"/>\n",
       "<path class=\"atom-1\" d=\"M 42.7 90.7 L 44.6 90.7 L 44.6 84.4 L 42.6 85.1 L 42.3 84.4 L 44.9 83.2 L 45.7 83.3 L 45.7 90.7 L 47.4 90.7 L 47.4 91.7 L 42.7 91.7 L 42.7 90.7 \" fill=\"#CCCC00\"/>\n",
       "<path class=\"atom-2\" d=\"M 57.5 103.8 Q 57.5 101.7, 58.5 100.6 Q 59.5 99.5, 61.4 99.5 Q 63.1 99.5, 64.0 100.7 L 63.3 101.4 Q 62.6 100.5, 61.4 100.5 Q 60.1 100.5, 59.4 101.4 Q 58.7 102.2, 58.7 103.8 Q 58.7 105.5, 59.4 106.4 Q 60.1 107.2, 61.5 107.2 Q 62.4 107.2, 63.5 106.7 L 63.8 107.5 Q 63.4 107.8, 62.7 108.0 Q 62.1 108.2, 61.3 108.2 Q 59.5 108.2, 58.5 107.0 Q 57.5 105.9, 57.5 103.8 \" fill=\"#000000\"/>\n",
       "<path class=\"atom-2\" d=\"M 65.0 106.7 L 66.2 106.7 L 66.2 107.9 L 65.0 107.9 L 65.0 106.7 M 65.0 102.6 L 66.2 102.6 L 66.2 103.8 L 65.0 103.8 L 65.0 102.6 \" fill=\"#000000\"/>\n",
       "<path class=\"atom-2\" d=\"M 67.5 101.2 Q 67.8 100.4, 68.6 100.0 Q 69.3 99.5, 70.3 99.5 Q 71.6 99.5, 72.3 100.2 Q 73.0 100.9, 73.0 102.1 Q 73.0 103.4, 72.1 104.6 Q 71.2 105.7, 69.3 107.1 L 73.2 107.1 L 73.2 108.1 L 67.5 108.1 L 67.5 107.3 Q 69.1 106.1, 70.0 105.3 Q 70.9 104.5, 71.4 103.7 Q 71.9 103.0, 71.9 102.2 Q 71.9 101.4, 71.4 100.9 Q 71.0 100.5, 70.3 100.5 Q 69.7 100.5, 69.2 100.7 Q 68.7 101.0, 68.4 101.6 L 67.5 101.2 \" fill=\"#000000\"/>\n",
       "<path class=\"atom-3\" d=\"M 84.2 90.4 Q 84.2 88.3, 85.1 87.2 Q 86.1 86.1, 88.0 86.1 Q 89.7 86.1, 90.7 87.3 L 89.9 88.0 Q 89.2 87.1, 88.0 87.1 Q 86.7 87.1, 86.0 87.9 Q 85.4 88.8, 85.4 90.4 Q 85.4 92.1, 86.1 92.9 Q 86.8 93.8, 88.1 93.8 Q 89.1 93.8, 90.1 93.2 L 90.5 94.1 Q 90.0 94.4, 89.4 94.6 Q 88.7 94.7, 88.0 94.7 Q 86.1 94.7, 85.1 93.6 Q 84.2 92.5, 84.2 90.4 \" fill=\"#000000\"/>\n",
       "<path class=\"atom-3\" d=\"M 91.6 93.2 L 92.8 93.2 L 92.8 94.4 L 91.6 94.4 L 91.6 93.2 M 91.6 89.1 L 92.8 89.1 L 92.8 90.3 L 91.6 90.3 L 91.6 89.1 \" fill=\"#000000\"/>\n",
       "<path class=\"atom-3\" d=\"M 98.2 90.2 Q 99.0 90.4, 99.4 91.0 Q 99.8 91.5, 99.8 92.3 Q 99.8 93.0, 99.4 93.6 Q 99.1 94.1, 98.4 94.4 Q 97.8 94.7, 96.9 94.7 Q 96.0 94.7, 95.3 94.4 Q 94.7 94.1, 94.1 93.5 L 94.8 92.8 Q 95.3 93.3, 95.8 93.6 Q 96.2 93.8, 96.9 93.8 Q 97.7 93.8, 98.1 93.4 Q 98.6 93.0, 98.6 92.3 Q 98.6 91.4, 98.1 91.1 Q 97.6 90.7, 96.6 90.7 L 96.0 90.7 L 96.0 89.8 L 96.5 89.8 Q 97.5 89.8, 97.9 89.4 Q 98.4 89.0, 98.4 88.2 Q 98.4 87.7, 98.0 87.4 Q 97.6 87.0, 96.9 87.0 Q 96.2 87.0, 95.8 87.3 Q 95.4 87.5, 95.0 88.2 L 94.2 87.7 Q 94.5 87.0, 95.2 86.6 Q 95.9 86.1, 96.9 86.1 Q 98.2 86.1, 98.9 86.7 Q 99.6 87.3, 99.6 88.2 Q 99.6 88.9, 99.3 89.4 Q 98.9 89.9, 98.2 90.2 \" fill=\"#000000\"/>\n",
       "<path class=\"atom-4\" d=\"M 108.7 106.7 Q 108.7 104.6, 109.6 103.5 Q 110.6 102.4, 112.5 102.4 Q 114.2 102.4, 115.2 103.7 L 114.4 104.3 Q 113.7 103.4, 112.5 103.4 Q 111.2 103.4, 110.5 104.3 Q 109.9 105.1, 109.9 106.7 Q 109.9 108.4, 110.6 109.3 Q 111.3 110.1, 112.6 110.1 Q 113.6 110.1, 114.7 109.6 L 115.0 110.5 Q 114.5 110.7, 113.9 110.9 Q 113.2 111.1, 112.5 111.1 Q 110.6 111.1, 109.6 110.0 Q 108.7 108.8, 108.7 106.7 \" fill=\"#000000\"/>\n",
       "<path class=\"atom-4\" d=\"M 116.1 109.6 L 117.3 109.6 L 117.3 110.8 L 116.1 110.8 L 116.1 109.6 M 116.1 105.5 L 117.3 105.5 L 117.3 106.7 L 116.1 106.7 L 116.1 105.5 \" fill=\"#000000\"/>\n",
       "<path class=\"atom-4\" d=\"M 124.2 108.1 L 125.2 108.1 L 125.2 109.0 L 124.2 109.0 L 124.2 111.0 L 123.1 111.0 L 123.1 109.0 L 118.7 109.0 L 118.7 108.3 L 122.4 102.5 L 124.2 102.5 L 124.2 108.1 M 120.1 108.1 L 123.1 108.1 L 123.1 103.3 L 120.1 108.1 \" fill=\"#000000\"/>\n",
       "<path class=\"atom-5\" d=\"M 111.4 136.5 Q 111.4 134.5, 112.4 133.3 Q 113.4 132.2, 115.3 132.2 Q 117.1 132.2, 118.1 133.3 Q 119.1 134.5, 119.1 136.5 Q 119.1 138.5, 118.1 139.7 Q 117.1 140.9, 115.3 140.9 Q 113.4 140.9, 112.4 139.7 Q 111.4 138.6, 111.4 136.5 M 115.3 139.9 Q 116.5 139.9, 117.2 139.1 Q 117.9 138.2, 117.9 136.5 Q 117.9 134.8, 117.2 134.0 Q 116.5 133.2, 115.3 133.2 Q 114.0 133.2, 113.3 134.0 Q 112.6 134.8, 112.6 136.5 Q 112.6 138.2, 113.3 139.1 Q 114.0 139.9, 115.3 139.9 \" fill=\"#FF0000\"/>\n",
       "<path class=\"atom-5\" d=\"M 120.2 139.3 L 121.4 139.3 L 121.4 140.5 L 120.2 140.5 L 120.2 139.3 M 120.2 135.2 L 121.4 135.2 L 121.4 136.4 L 120.2 136.4 L 120.2 135.2 \" fill=\"#FF0000\"/>\n",
       "<path class=\"atom-5\" d=\"M 125.9 135.5 Q 126.6 135.5, 127.2 135.8 Q 127.8 136.1, 128.2 136.7 Q 128.5 137.3, 128.5 138.1 Q 128.5 138.9, 128.1 139.6 Q 127.7 140.2, 127.0 140.5 Q 126.3 140.8, 125.5 140.8 Q 124.7 140.8, 124.0 140.5 Q 123.3 140.3, 122.8 139.7 L 123.5 139.0 Q 123.9 139.4, 124.4 139.6 Q 125.0 139.9, 125.5 139.9 Q 126.3 139.9, 126.8 139.4 Q 127.3 138.9, 127.3 138.1 Q 127.3 137.2, 126.8 136.8 Q 126.3 136.3, 125.5 136.3 Q 124.7 136.3, 123.9 136.7 L 123.2 136.4 L 123.6 132.3 L 128.0 132.3 L 127.9 133.2 L 124.6 133.2 L 124.4 135.8 Q 125.1 135.5, 125.9 135.5 \" fill=\"#FF0000\"/>\n",
       "<path class=\"atom-6\" d=\"M 135.6 93.3 Q 135.6 91.2, 136.6 90.1 Q 137.6 89.0, 139.5 89.0 Q 141.2 89.0, 142.1 90.2 L 141.4 90.9 Q 140.7 90.0, 139.5 90.0 Q 138.2 90.0, 137.5 90.8 Q 136.8 91.7, 136.8 93.3 Q 136.8 95.0, 137.5 95.8 Q 138.2 96.7, 139.6 96.7 Q 140.5 96.7, 141.6 96.1 L 142.0 97.0 Q 141.5 97.3, 140.8 97.5 Q 140.2 97.6, 139.4 97.6 Q 137.6 97.6, 136.6 96.5 Q 135.6 95.4, 135.6 93.3 \" fill=\"#000000\"/>\n",
       "<path class=\"atom-6\" d=\"M 143.1 96.1 L 144.3 96.1 L 144.3 97.3 L 143.1 97.3 L 143.1 96.1 M 143.1 92.0 L 144.3 92.0 L 144.3 93.2 L 143.1 93.2 L 143.1 92.0 \" fill=\"#000000\"/>\n",
       "<path class=\"atom-6\" d=\"M 148.9 92.3 Q 149.7 92.3, 150.2 92.6 Q 150.8 92.9, 151.2 93.5 Q 151.5 94.1, 151.5 94.8 Q 151.5 95.6, 151.1 96.3 Q 150.7 96.9, 150.1 97.3 Q 149.5 97.6, 148.6 97.6 Q 147.1 97.6, 146.4 96.6 Q 145.6 95.6, 145.6 93.6 Q 145.6 91.3, 146.5 90.2 Q 147.5 89.0, 149.3 89.0 Q 149.8 89.0, 150.3 89.1 Q 150.7 89.2, 151.1 89.5 L 150.7 90.3 Q 150.1 89.9, 149.3 89.9 Q 148.1 89.9, 147.5 90.7 Q 146.9 91.5, 146.8 93.1 Q 147.2 92.7, 147.8 92.5 Q 148.3 92.3, 148.9 92.3 M 148.6 96.6 Q 149.1 96.6, 149.5 96.4 Q 149.8 96.2, 150.1 95.8 Q 150.3 95.3, 150.3 94.8 Q 150.3 94.1, 149.9 93.6 Q 149.4 93.2, 148.7 93.2 Q 148.2 93.2, 147.7 93.4 Q 147.2 93.6, 146.8 94.0 Q 146.9 95.4, 147.3 96.0 Q 147.8 96.6, 148.6 96.6 \" fill=\"#000000\"/>\n",
       "<path class=\"atom-7\" d=\"M 141.4 63.5 Q 141.4 61.5, 142.4 60.3 Q 143.4 59.2, 145.2 59.2 Q 147.1 59.2, 148.1 60.3 Q 149.1 61.5, 149.1 63.5 Q 149.1 65.6, 148.1 66.7 Q 147.1 67.9, 145.2 67.9 Q 143.4 67.9, 142.4 66.7 Q 141.4 65.6, 141.4 63.5 M 145.2 66.9 Q 146.5 66.9, 147.2 66.1 Q 147.9 65.2, 147.9 63.5 Q 147.9 61.8, 147.2 61.0 Q 146.5 60.2, 145.2 60.2 Q 143.9 60.2, 143.2 61.0 Q 142.5 61.8, 142.5 63.5 Q 142.5 65.2, 143.2 66.1 Q 143.9 66.9, 145.2 66.9 \" fill=\"#FF0000\"/>\n",
       "<path class=\"atom-7\" d=\"M 150.2 66.4 L 151.4 66.4 L 151.4 67.6 L 150.2 67.6 L 150.2 66.4 M 150.2 62.3 L 151.4 62.3 L 151.4 63.4 L 150.2 63.4 L 150.2 62.3 \" fill=\"#FF0000\"/>\n",
       "<path class=\"atom-7\" d=\"M 157.2 60.3 L 152.8 60.3 L 152.8 59.3 L 158.4 59.3 L 158.4 60.2 L 155.0 67.8 L 153.8 67.8 L 157.2 60.3 \" fill=\"#FF0000\"/>\n",
       "<path class=\"atom-8\" d=\"M 164.6 109.6 Q 164.6 107.6, 165.6 106.5 Q 166.6 105.3, 168.5 105.3 Q 170.4 105.3, 171.4 106.5 Q 172.4 107.6, 172.4 109.6 Q 172.4 111.7, 171.4 112.8 Q 170.3 114.0, 168.5 114.0 Q 166.6 114.0, 165.6 112.8 Q 164.6 111.7, 164.6 109.6 M 168.5 113.0 Q 169.8 113.0, 170.5 112.2 Q 171.2 111.3, 171.2 109.6 Q 171.2 108.0, 170.5 107.1 Q 169.8 106.3, 168.5 106.3 Q 167.2 106.3, 166.5 107.1 Q 165.8 108.0, 165.8 109.6 Q 165.8 111.3, 166.5 112.2 Q 167.2 113.0, 168.5 113.0 \" fill=\"#FF0000\"/>\n",
       "<path class=\"atom-8\" d=\"M 173.5 112.5 L 174.7 112.5 L 174.7 113.7 L 173.5 113.7 L 173.5 112.5 M 173.5 108.4 L 174.7 108.4 L 174.7 109.6 L 173.5 109.6 L 173.5 108.4 \" fill=\"#FF0000\"/>\n",
       "<path class=\"atom-8\" d=\"M 180.4 109.4 Q 181.2 109.7, 181.7 110.2 Q 182.1 110.7, 182.1 111.6 Q 182.1 112.3, 181.7 112.8 Q 181.4 113.4, 180.7 113.7 Q 180.0 114.0, 179.2 114.0 Q 177.8 114.0, 176.9 113.3 Q 176.1 112.7, 176.1 111.6 Q 176.1 110.9, 176.5 110.3 Q 176.9 109.8, 177.6 109.4 Q 177.0 109.1, 176.7 108.7 Q 176.4 108.2, 176.4 107.5 Q 176.4 106.5, 177.2 105.9 Q 177.9 105.3, 179.1 105.3 Q 180.3 105.3, 181.1 105.9 Q 181.8 106.5, 181.8 107.5 Q 181.8 108.1, 181.4 108.6 Q 181.1 109.0, 180.4 109.4 M 179.1 106.2 Q 178.4 106.2, 178.0 106.6 Q 177.6 106.9, 177.6 107.5 Q 177.6 107.9, 177.9 108.2 Q 178.2 108.5, 178.5 108.7 Q 178.9 108.8, 179.6 109.1 Q 180.2 108.7, 180.4 108.4 Q 180.6 108.0, 180.6 107.5 Q 180.6 106.9, 180.2 106.6 Q 179.8 106.2, 179.1 106.2 M 179.2 113.1 Q 180.0 113.1, 180.4 112.7 Q 180.9 112.2, 180.9 111.5 Q 180.9 111.1, 180.7 110.8 Q 180.4 110.5, 180.0 110.3 Q 179.7 110.2, 179.0 110.0 L 178.5 109.8 Q 177.9 110.1, 177.6 110.6 Q 177.3 111.0, 177.3 111.5 Q 177.3 112.2, 177.8 112.7 Q 178.3 113.1, 179.2 113.1 \" fill=\"#FF0000\"/>\n",
       "<path class=\"atom-8\" d=\"M 183.4 105.4 L 184.5 105.4 L 184.5 109.0 L 188.9 109.0 L 188.9 105.4 L 190.0 105.4 L 190.0 113.9 L 188.9 113.9 L 188.9 110.0 L 184.5 110.0 L 184.5 113.9 L 183.4 113.9 L 183.4 105.4 \" fill=\"#FF0000\"/>\n",
       "<path class=\"note\" d=\"M 11.5 98.6 Q 10.8 98.6, 10.4 98.1 Q 10.0 97.5, 10.0 96.5 Q 10.0 95.4, 10.4 94.9 Q 10.8 94.3, 11.5 94.3 Q 12.3 94.3, 12.7 94.9 Q 13.1 95.4, 13.1 96.5 Q 13.1 97.5, 12.7 98.1 Q 12.3 98.6, 11.5 98.6 M 11.5 98.2 Q 12.0 98.2, 12.2 97.7 Q 12.5 97.3, 12.5 96.5 Q 12.5 95.6, 12.2 95.2 Q 12.0 94.8, 11.5 94.8 Q 11.1 94.8, 10.8 95.2 Q 10.6 95.6, 10.6 96.5 Q 10.6 97.3, 10.8 97.7 Q 11.1 98.2, 11.5 98.2 \" fill=\"#000000\"/>\n",
       "<path class=\"note\" d=\"M 39.9 79.2 L 40.9 79.2 L 40.9 76.0 L 39.8 76.3 L 39.7 76.0 L 41.0 75.4 L 41.4 75.5 L 41.4 79.2 L 42.2 79.2 L 42.2 79.6 L 39.9 79.6 L 39.9 79.2 \" fill=\"#000000\"/>\n",
       "<path class=\"note\" d=\"M 63.4 112.4 Q 63.5 112.0, 63.9 111.8 Q 64.3 111.6, 64.8 111.6 Q 65.4 111.6, 65.8 111.9 Q 66.1 112.3, 66.1 112.9 Q 66.1 113.5, 65.7 114.1 Q 65.2 114.7, 64.3 115.4 L 66.2 115.4 L 66.2 115.9 L 63.4 115.9 L 63.4 115.5 Q 64.2 114.9, 64.6 114.5 Q 65.1 114.1, 65.3 113.7 Q 65.6 113.3, 65.6 112.9 Q 65.6 112.5, 65.3 112.3 Q 65.1 112.1, 64.8 112.1 Q 64.5 112.1, 64.2 112.2 Q 64.0 112.3, 63.8 112.6 L 63.4 112.4 \" fill=\"#000000\"/>\n",
       "<path class=\"note\" d=\"M 93.1 80.3 Q 93.6 80.5, 93.8 80.7 Q 94.0 81.0, 94.0 81.4 Q 94.0 81.8, 93.8 82.0 Q 93.6 82.3, 93.3 82.5 Q 92.9 82.6, 92.5 82.6 Q 92.1 82.6, 91.7 82.5 Q 91.4 82.3, 91.1 82.0 L 91.5 81.6 Q 91.7 81.9, 91.9 82.0 Q 92.2 82.1, 92.5 82.1 Q 92.9 82.1, 93.1 81.9 Q 93.4 81.7, 93.4 81.4 Q 93.4 81.0, 93.1 80.8 Q 92.9 80.6, 92.4 80.6 L 92.1 80.6 L 92.1 80.2 L 92.3 80.2 Q 92.8 80.1, 93.0 80.0 Q 93.3 79.7, 93.3 79.4 Q 93.3 79.1, 93.1 78.9 Q 92.9 78.8, 92.5 78.8 Q 92.2 78.8, 91.9 78.9 Q 91.7 79.0, 91.6 79.3 L 91.2 79.1 Q 91.3 78.8, 91.7 78.5 Q 92.0 78.3, 92.5 78.3 Q 93.1 78.3, 93.5 78.6 Q 93.9 78.9, 93.9 79.4 Q 93.9 79.7, 93.7 80.0 Q 93.5 80.2, 93.1 80.3 \" fill=\"#000000\"/>\n",
       "<path class=\"note\" d=\"M 113.6 98.5 L 114.1 98.5 L 114.1 99.0 L 113.6 99.0 L 113.6 99.9 L 113.0 99.9 L 113.0 99.0 L 110.8 99.0 L 110.8 98.6 L 112.7 95.7 L 113.6 95.7 L 113.6 98.5 M 111.5 98.5 L 113.0 98.5 L 113.0 96.1 L 111.5 98.5 \" fill=\"#000000\"/>\n",
       "<path class=\"note\" d=\"M 114.8 145.9 Q 115.2 145.9, 115.5 146.0 Q 115.8 146.2, 115.9 146.5 Q 116.1 146.8, 116.1 147.2 Q 116.1 147.6, 115.9 147.9 Q 115.7 148.2, 115.4 148.4 Q 115.0 148.6, 114.6 148.6 Q 114.2 148.6, 113.9 148.4 Q 113.5 148.3, 113.3 148.0 L 113.6 147.6 Q 113.8 147.8, 114.1 148.0 Q 114.4 148.1, 114.6 148.1 Q 115.0 148.1, 115.3 147.8 Q 115.5 147.6, 115.5 147.2 Q 115.5 146.7, 115.3 146.5 Q 115.0 146.3, 114.6 146.3 Q 114.2 146.3, 113.8 146.5 L 113.5 146.3 L 113.7 144.3 L 115.9 144.3 L 115.8 144.8 L 114.2 144.8 L 114.1 146.0 Q 114.4 145.9, 114.8 145.9 \" fill=\"#000000\"/>\n",
       "<path class=\"note\" d=\"M 139.3 83.9 Q 139.6 83.9, 139.9 84.0 Q 140.2 84.2, 140.4 84.5 Q 140.5 84.8, 140.5 85.2 Q 140.5 85.6, 140.4 85.9 Q 140.2 86.2, 139.9 86.4 Q 139.5 86.6, 139.1 86.6 Q 138.4 86.6, 138.0 86.1 Q 137.6 85.5, 137.6 84.5 Q 137.6 83.4, 138.1 82.8 Q 138.5 82.2, 139.4 82.2 Q 139.7 82.2, 139.9 82.3 Q 140.2 82.4, 140.4 82.5 L 140.1 82.9 Q 139.8 82.7, 139.5 82.7 Q 138.9 82.7, 138.6 83.1 Q 138.2 83.5, 138.2 84.3 Q 138.4 84.1, 138.7 84.0 Q 139.0 83.9, 139.3 83.9 M 139.1 86.1 Q 139.4 86.1, 139.5 86.0 Q 139.7 85.8, 139.8 85.6 Q 139.9 85.4, 139.9 85.2 Q 139.9 84.8, 139.7 84.6 Q 139.5 84.4, 139.2 84.4 Q 138.9 84.4, 138.6 84.5 Q 138.4 84.6, 138.2 84.7 Q 138.2 85.4, 138.5 85.8 Q 138.7 86.1, 139.1 86.1 \" fill=\"#000000\"/>\n",
       "<path class=\"note\" d=\"M 146.6 51.9 L 144.4 51.9 L 144.4 51.4 L 147.2 51.4 L 147.2 51.9 L 145.5 55.7 L 144.9 55.7 L 146.6 51.9 \" fill=\"#000000\"/>\n",
       "<path class=\"note\" d=\"M 168.6 119.4 Q 169.0 119.6, 169.2 119.8 Q 169.4 120.1, 169.4 120.5 Q 169.4 120.9, 169.2 121.1 Q 169.1 121.4, 168.7 121.6 Q 168.4 121.7, 168.0 121.7 Q 167.3 121.7, 166.9 121.4 Q 166.5 121.1, 166.5 120.5 Q 166.5 120.2, 166.6 119.9 Q 166.8 119.6, 167.2 119.4 Q 166.9 119.3, 166.8 119.1 Q 166.6 118.8, 166.6 118.5 Q 166.6 118.0, 167.0 117.7 Q 167.3 117.4, 167.9 117.4 Q 168.6 117.4, 168.9 117.7 Q 169.3 118.0, 169.3 118.5 Q 169.3 118.8, 169.1 119.0 Q 168.9 119.2, 168.6 119.4 M 167.9 117.8 Q 167.6 117.8, 167.4 118.0 Q 167.2 118.2, 167.2 118.5 Q 167.2 118.7, 167.3 118.8 Q 167.5 119.0, 167.6 119.1 Q 167.8 119.1, 168.2 119.3 Q 168.5 119.1, 168.6 118.9 Q 168.7 118.7, 168.7 118.5 Q 168.7 118.2, 168.5 118.0 Q 168.3 117.8, 167.9 117.8 M 168.0 121.3 Q 168.4 121.3, 168.6 121.1 Q 168.8 120.8, 168.8 120.5 Q 168.8 120.3, 168.7 120.1 Q 168.6 120.0, 168.4 119.9 Q 168.2 119.8, 167.9 119.7 L 167.6 119.6 Q 167.3 119.8, 167.2 120.0 Q 167.0 120.2, 167.0 120.5 Q 167.0 120.8, 167.3 121.1 Q 167.5 121.3, 168.0 121.3 \" fill=\"#000000\"/>\n",
       "</svg>"
      ],
      "text/plain": [
       "<IPython.core.display.SVG object>"
      ]
     },
     "execution_count": 17,
     "metadata": {},
     "output_type": "execute_result"
    }
   ],
   "source": [
    "mol2 = deepcopy(mol1)\n",
    "for atom in mol2.GetAtoms():\n",
    "    atom.SetAtomMapNum(atom.GetIdx())\n",
    "\n",
    "SVG(draw_molecule(mol2, draw_options={\"addAtomIndices\": True}))"
   ]
  },
  {
   "cell_type": "code",
   "execution_count": 18,
   "metadata": {},
   "outputs": [
    {
     "data": {
      "image/svg+xml": [
       "<svg xmlns=\"http://www.w3.org/2000/svg\" xmlns:rdkit=\"http://www.rdkit.org/xml\" xmlns:xlink=\"http://www.w3.org/1999/xlink\" version=\"1.1\" baseProfile=\"full\" xml:space=\"preserve\" width=\"200px\" height=\"200px\" viewBox=\"0 0 200 200\">\n",
       "<!-- END OF HEADER -->\n",
       "<rect style=\"opacity:1.0;fill:#FFFFFF;stroke:none\" width=\"200.0\" height=\"200.0\" x=\"0.0\" y=\"0.0\"> </rect>\n",
       "<path class=\"bond-0 atom-0 atom-1\" d=\"M 157.1,60.8 L 140.7,89.2\" style=\"fill:none;fill-rule:evenodd;stroke:#000000;stroke-width:2.0px;stroke-linecap:butt;stroke-linejoin:miter;stroke-opacity:1\"/>\n",
       "<path class=\"bond-1 atom-1 atom-2\" d=\"M 137.2,110.6 L 145.4,124.8\" style=\"fill:none;fill-rule:evenodd;stroke:#000000;stroke-width:2.0px;stroke-linecap:butt;stroke-linejoin:miter;stroke-opacity:1\"/>\n",
       "<path class=\"bond-1 atom-1 atom-2\" d=\"M 145.4,124.8 L 153.6,139.0\" style=\"fill:none;fill-rule:evenodd;stroke:#FF0000;stroke-width:2.0px;stroke-linecap:butt;stroke-linejoin:miter;stroke-opacity:1\"/>\n",
       "<path class=\"bond-1 atom-1 atom-2\" d=\"M 144.4,106.4 L 152.6,120.7\" style=\"fill:none;fill-rule:evenodd;stroke:#000000;stroke-width:2.0px;stroke-linecap:butt;stroke-linejoin:miter;stroke-opacity:1\"/>\n",
       "<path class=\"bond-1 atom-1 atom-2\" d=\"M 152.6,120.7 L 160.8,134.9\" style=\"fill:none;fill-rule:evenodd;stroke:#FF0000;stroke-width:2.0px;stroke-linecap:butt;stroke-linejoin:miter;stroke-opacity:1\"/>\n",
       "<path class=\"bond-2 atom-1 atom-3\" d=\"M 118.0,98.8 L 96.3,98.8\" style=\"fill:none;fill-rule:evenodd;stroke:#000000;stroke-width:2.0px;stroke-linecap:butt;stroke-linejoin:miter;stroke-opacity:1\"/>\n",
       "<path class=\"bond-3 atom-3 atom-4\" d=\"M 70.4,106.6 L 62.2,120.9\" style=\"fill:none;fill-rule:evenodd;stroke:#000000;stroke-width:2.0px;stroke-linecap:butt;stroke-linejoin:miter;stroke-opacity:1\"/>\n",
       "<path class=\"bond-3 atom-3 atom-4\" d=\"M 62.2,120.9 L 54.0,135.1\" style=\"fill:none;fill-rule:evenodd;stroke:#FF0000;stroke-width:2.0px;stroke-linecap:butt;stroke-linejoin:miter;stroke-opacity:1\"/>\n",
       "<path class=\"bond-3 atom-3 atom-4\" d=\"M 77.6,110.8 L 69.4,125.0\" style=\"fill:none;fill-rule:evenodd;stroke:#000000;stroke-width:2.0px;stroke-linecap:butt;stroke-linejoin:miter;stroke-opacity:1\"/>\n",
       "<path class=\"bond-3 atom-3 atom-4\" d=\"M 69.4,125.0 L 61.2,139.2\" style=\"fill:none;fill-rule:evenodd;stroke:#FF0000;stroke-width:2.0px;stroke-linecap:butt;stroke-linejoin:miter;stroke-opacity:1\"/>\n",
       "<path class=\"bond-4 atom-3 atom-5\" d=\"M 74.1,89.0 L 66.0,74.9\" style=\"fill:none;fill-rule:evenodd;stroke:#000000;stroke-width:2.0px;stroke-linecap:butt;stroke-linejoin:miter;stroke-opacity:1\"/>\n",
       "<path class=\"bond-4 atom-3 atom-5\" d=\"M 66.0,74.9 L 57.8,60.8\" style=\"fill:none;fill-rule:evenodd;stroke:#FF0000;stroke-width:2.0px;stroke-linecap:butt;stroke-linejoin:miter;stroke-opacity:1\"/>\n",
       "<path class=\"atom-0\" d=\"M 156.8 50.9 Q 156.8 47.0, 158.6 44.9 Q 160.4 42.9, 163.9 42.9 Q 167.2 42.9, 168.9 45.2 L 167.4 46.3 Q 166.2 44.7, 163.9 44.7 Q 161.5 44.7, 160.3 46.3 Q 159.0 47.9, 159.0 50.9 Q 159.0 54.0, 160.3 55.6 Q 161.6 57.2, 164.2 57.2 Q 165.9 57.2, 167.9 56.1 L 168.5 57.8 Q 167.7 58.3, 166.5 58.6 Q 165.2 58.9, 163.9 58.9 Q 160.4 58.9, 158.6 56.9 Q 156.8 54.8, 156.8 50.9 \" fill=\"#000000\"/>\n",
       "<path class=\"atom-0\" d=\"M 170.6 56.1 L 172.8 56.1 L 172.8 58.4 L 170.6 58.4 L 170.6 56.1 M 170.6 48.5 L 172.8 48.5 L 172.8 50.7 L 170.6 50.7 L 170.6 48.5 \" fill=\"#000000\"/>\n",
       "<path class=\"atom-0\" d=\"M 182.8 50.5 Q 184.4 50.9, 185.1 51.9 Q 185.8 52.9, 185.8 54.4 Q 185.8 55.8, 185.2 56.8 Q 184.5 57.8, 183.3 58.4 Q 182.1 59.0, 180.5 59.0 Q 178.8 59.0, 177.5 58.4 Q 176.3 57.8, 175.3 56.6 L 176.6 55.3 Q 177.5 56.4, 178.4 56.8 Q 179.2 57.2, 180.5 57.2 Q 181.9 57.2, 182.8 56.4 Q 183.6 55.7, 183.6 54.4 Q 183.6 52.8, 182.7 52.1 Q 181.8 51.4, 179.9 51.4 L 178.8 51.4 L 178.8 49.8 L 179.8 49.8 Q 181.5 49.8, 182.4 49.0 Q 183.3 48.3, 183.3 46.9 Q 183.3 45.9, 182.5 45.3 Q 181.8 44.6, 180.5 44.6 Q 179.2 44.6, 178.4 45.1 Q 177.6 45.6, 177.0 46.7 L 175.4 45.9 Q 176.0 44.6, 177.3 43.8 Q 178.6 42.9, 180.5 42.9 Q 182.8 42.9, 184.2 44.0 Q 185.5 45.0, 185.5 46.9 Q 185.5 48.1, 184.8 49.1 Q 184.1 50.0, 182.8 50.5 \" fill=\"#000000\"/>\n",
       "<path class=\"atom-1\" d=\"M 119.8 98.8 Q 119.8 94.9, 121.6 92.9 Q 123.5 90.8, 126.9 90.8 Q 130.2 90.8, 131.9 93.1 L 130.4 94.3 Q 129.2 92.6, 126.9 92.6 Q 124.6 92.6, 123.3 94.2 Q 122.1 95.8, 122.1 98.8 Q 122.1 101.9, 123.3 103.5 Q 124.7 105.1, 127.2 105.1 Q 128.9 105.1, 130.9 104.1 L 131.5 105.7 Q 130.7 106.3, 129.5 106.6 Q 128.2 106.9, 126.9 106.9 Q 123.5 106.9, 121.6 104.8 Q 119.8 102.7, 119.8 98.8 \" fill=\"#000000\"/>\n",
       "<path class=\"atom-1\" d=\"M 133.7 104.1 L 135.9 104.1 L 135.9 106.3 L 133.7 106.3 L 133.7 104.1 M 133.7 96.5 L 135.9 96.5 L 135.9 98.7 L 133.7 98.7 L 133.7 96.5 \" fill=\"#000000\"/>\n",
       "<path class=\"atom-1\" d=\"M 148.6 101.3 L 150.5 101.3 L 150.5 103.1 L 148.6 103.1 L 148.6 106.7 L 146.5 106.7 L 146.5 103.1 L 138.4 103.1 L 138.4 101.7 L 145.3 91.0 L 148.6 91.0 L 148.6 101.3 M 141.0 101.3 L 146.5 101.3 L 146.5 92.4 L 141.0 101.3 \" fill=\"#000000\"/>\n",
       "<path class=\"atom-2\" d=\"M 155.6 146.8 Q 155.6 143.0, 157.5 140.9 Q 159.4 138.8, 162.8 138.8 Q 166.3 138.8, 168.2 140.9 Q 170.0 143.0, 170.0 146.8 Q 170.0 150.6, 168.2 152.7 Q 166.3 154.9, 162.8 154.9 Q 159.4 154.9, 157.5 152.7 Q 155.6 150.6, 155.6 146.8 M 162.8 153.1 Q 165.2 153.1, 166.5 151.5 Q 167.8 149.9, 167.8 146.8 Q 167.8 143.7, 166.5 142.1 Q 165.2 140.6, 162.8 140.6 Q 160.4 140.6, 159.1 142.1 Q 157.9 143.7, 157.9 146.8 Q 157.9 149.9, 159.1 151.5 Q 160.4 153.1, 162.8 153.1 \" fill=\"#FF0000\"/>\n",
       "<path class=\"atom-2\" d=\"M 172.0 152.1 L 174.3 152.1 L 174.3 154.3 L 172.0 154.3 L 172.0 152.1 M 172.0 144.4 L 174.3 144.4 L 174.3 146.7 L 172.0 146.7 L 172.0 144.4 \" fill=\"#FF0000\"/>\n",
       "<path class=\"atom-2\" d=\"M 182.5 144.8 Q 183.9 144.8, 185.0 145.4 Q 186.2 146.0, 186.8 147.1 Q 187.4 148.2, 187.4 149.7 Q 187.4 151.3, 186.6 152.5 Q 185.9 153.6, 184.6 154.2 Q 183.3 154.8, 181.8 154.8 Q 180.4 154.8, 179.1 154.3 Q 177.7 153.8, 176.8 152.7 L 178.2 151.4 Q 178.9 152.2, 179.9 152.6 Q 180.9 153.0, 181.9 153.0 Q 183.3 153.0, 184.3 152.2 Q 185.2 151.3, 185.2 149.7 Q 185.2 148.1, 184.3 147.3 Q 183.3 146.5, 181.8 146.5 Q 180.4 146.5, 178.9 147.1 L 177.7 146.5 L 178.4 139.0 L 186.5 139.0 L 186.2 140.7 L 180.2 140.7 L 179.8 145.4 Q 181.2 144.8, 182.5 144.8 \" fill=\"#FF0000\"/>\n",
       "<path class=\"atom-3\" d=\"M 65.1 98.8 Q 65.1 94.9, 66.9 92.9 Q 68.7 90.8, 72.2 90.8 Q 75.4 90.8, 77.2 93.1 L 75.7 94.3 Q 74.4 92.6, 72.2 92.6 Q 69.8 92.6, 68.6 94.2 Q 67.3 95.8, 67.3 98.8 Q 67.3 101.9, 68.6 103.5 Q 69.9 105.1, 72.4 105.1 Q 74.2 105.1, 76.2 104.1 L 76.8 105.7 Q 76.0 106.3, 74.7 106.6 Q 73.5 106.9, 72.1 106.9 Q 68.7 106.9, 66.9 104.8 Q 65.1 102.7, 65.1 98.8 \" fill=\"#000000\"/>\n",
       "<path class=\"atom-3\" d=\"M 78.9 104.1 L 81.1 104.1 L 81.1 106.3 L 78.9 106.3 L 78.9 104.1 M 78.9 96.5 L 81.1 96.5 L 81.1 98.7 L 78.9 98.7 L 78.9 96.5 \" fill=\"#000000\"/>\n",
       "<path class=\"atom-3\" d=\"M 89.7 96.9 Q 91.1 96.9, 92.2 97.5 Q 93.3 98.1, 93.9 99.2 Q 94.5 100.3, 94.5 101.6 Q 94.5 103.2, 93.8 104.4 Q 93.1 105.5, 91.9 106.2 Q 90.7 106.9, 89.2 106.9 Q 86.4 106.9, 85.0 105.0 Q 83.6 103.1, 83.6 99.3 Q 83.6 95.2, 85.3 93.0 Q 87.1 90.8, 90.4 90.8 Q 91.4 90.8, 92.2 91.1 Q 93.1 91.3, 93.9 91.7 L 93.0 93.2 Q 91.8 92.6, 90.4 92.6 Q 88.2 92.6, 87.1 94.0 Q 86.0 95.5, 85.8 98.4 Q 86.6 97.7, 87.6 97.3 Q 88.6 96.9, 89.7 96.9 M 89.2 105.1 Q 90.1 105.1, 90.7 104.6 Q 91.5 104.2, 91.9 103.4 Q 92.3 102.6, 92.3 101.7 Q 92.3 100.3, 91.5 99.5 Q 90.7 98.7, 89.3 98.7 Q 88.4 98.7, 87.4 99.1 Q 86.5 99.5, 85.8 100.1 Q 85.9 102.7, 86.7 103.9 Q 87.6 105.1, 89.2 105.1 \" fill=\"#000000\"/>\n",
       "<path class=\"atom-4\" d=\"M 25.7 146.8 Q 25.7 143.0, 27.5 140.9 Q 29.4 138.8, 32.9 138.8 Q 36.4 138.8, 38.2 140.9 Q 40.1 143.0, 40.1 146.8 Q 40.1 150.6, 38.2 152.7 Q 36.3 154.9, 32.9 154.9 Q 29.4 154.9, 27.5 152.7 Q 25.7 150.6, 25.7 146.8 M 32.9 153.1 Q 35.3 153.1, 36.6 151.5 Q 37.9 149.9, 37.9 146.8 Q 37.9 143.7, 36.6 142.1 Q 35.3 140.6, 32.9 140.6 Q 30.5 140.6, 29.2 142.1 Q 27.9 143.7, 27.9 146.8 Q 27.9 149.9, 29.2 151.5 Q 30.5 153.1, 32.9 153.1 \" fill=\"#FF0000\"/>\n",
       "<path class=\"atom-4\" d=\"M 42.1 152.1 L 44.3 152.1 L 44.3 154.3 L 42.1 154.3 L 42.1 152.1 M 42.1 144.4 L 44.3 144.4 L 44.3 146.7 L 42.1 146.7 L 42.1 144.4 \" fill=\"#FF0000\"/>\n",
       "<path class=\"atom-4\" d=\"M 55.1 140.7 L 46.9 140.7 L 46.9 139.0 L 57.3 139.0 L 57.3 140.5 L 50.9 154.7 L 48.8 154.7 L 55.1 140.7 \" fill=\"#FF0000\"/>\n",
       "<path class=\"atom-5\" d=\"M 10.0 43.0 L 12.1 43.0 L 12.1 49.7 L 20.1 49.7 L 20.1 43.0 L 22.3 43.0 L 22.3 58.7 L 20.1 58.7 L 20.1 51.5 L 12.1 51.5 L 12.1 58.7 L 10.0 58.7 L 10.0 43.0 \" fill=\"#FF0000\"/>\n",
       "<path class=\"atom-5\" d=\"M 25.2 50.8 Q 25.2 47.1, 27.0 45.0 Q 28.9 42.9, 32.4 42.9 Q 35.8 42.9, 37.7 45.0 Q 39.6 47.1, 39.6 50.8 Q 39.6 54.7, 37.7 56.8 Q 35.8 59.0, 32.4 59.0 Q 28.9 59.0, 27.0 56.8 Q 25.2 54.7, 25.2 50.8 M 32.4 57.2 Q 34.7 57.2, 36.0 55.6 Q 37.3 54.0, 37.3 50.8 Q 37.3 47.8, 36.0 46.2 Q 34.7 44.6, 32.4 44.6 Q 30.0 44.6, 28.7 46.2 Q 27.4 47.7, 27.4 50.8 Q 27.4 54.0, 28.7 55.6 Q 30.0 57.2, 32.4 57.2 \" fill=\"#FF0000\"/>\n",
       "<path class=\"atom-5\" d=\"M 41.7 56.1 L 43.9 56.1 L 43.9 58.4 L 41.7 58.4 L 41.7 56.1 M 41.7 48.5 L 43.9 48.5 L 43.9 50.7 L 41.7 50.7 L 41.7 48.5 \" fill=\"#FF0000\"/>\n",
       "<path class=\"atom-5\" d=\"M 54.5 50.4 Q 56.0 51.0, 56.8 52.0 Q 57.6 52.9, 57.6 54.4 Q 57.6 55.8, 56.9 56.8 Q 56.2 57.8, 55.0 58.4 Q 53.8 59.0, 52.2 59.0 Q 49.5 59.0, 48.0 57.8 Q 46.5 56.5, 46.5 54.4 Q 46.5 53.2, 47.2 52.2 Q 47.9 51.2, 49.2 50.5 Q 48.2 49.9, 47.7 49.1 Q 47.1 48.2, 47.1 46.9 Q 47.1 45.0, 48.4 44.0 Q 49.8 42.9, 52.1 42.9 Q 54.4 42.9, 55.7 44.0 Q 57.0 45.0, 57.0 46.9 Q 57.0 48.0, 56.4 48.9 Q 55.8 49.7, 54.5 50.4 M 52.1 44.5 Q 50.8 44.5, 50.0 45.2 Q 49.3 45.8, 49.3 46.9 Q 49.3 47.7, 49.8 48.3 Q 50.3 48.8, 51.0 49.1 Q 51.7 49.4, 53.0 49.9 Q 54.0 49.2, 54.4 48.5 Q 54.8 47.8, 54.8 46.9 Q 54.8 45.8, 54.1 45.2 Q 53.4 44.5, 52.1 44.5 M 52.2 57.3 Q 53.6 57.3, 54.5 56.5 Q 55.4 55.7, 55.4 54.4 Q 55.4 53.6, 54.9 53.0 Q 54.5 52.5, 53.8 52.2 Q 53.1 51.9, 51.8 51.5 L 50.8 51.2 Q 49.7 51.8, 49.2 52.6 Q 48.8 53.4, 48.8 54.4 Q 48.8 55.7, 49.7 56.5 Q 50.6 57.3, 52.2 57.3 \" fill=\"#FF0000\"/>\n",
       "<path class=\"note\" d=\"M 172.1 38.9 Q 170.6 38.9, 169.9 37.8 Q 169.2 36.7, 169.2 34.8 Q 169.2 33.0, 169.9 31.9 Q 170.6 30.9, 172.1 30.9 Q 173.5 30.9, 174.2 31.9 Q 174.9 33.0, 174.9 34.8 Q 174.9 36.7, 174.2 37.8 Q 173.5 38.9, 172.1 38.9 M 172.1 38.0 Q 172.9 38.0, 173.4 37.2 Q 173.8 36.4, 173.8 34.8 Q 173.8 33.3, 173.4 32.5 Q 172.9 31.7, 172.1 31.7 Q 171.2 31.7, 170.8 32.5 Q 170.3 33.3, 170.3 34.8 Q 170.3 36.4, 170.8 37.2 Q 171.2 38.0, 172.1 38.0 \" fill=\"#000000\"/>\n",
       "<path class=\"note\" d=\"M 124.0 117.8 L 125.7 117.8 L 125.7 111.9 L 123.8 112.5 L 123.5 111.9 L 126.0 110.8 L 126.7 110.9 L 126.7 117.8 L 128.3 117.8 L 128.3 118.7 L 124.0 118.7 L 124.0 117.8 \" fill=\"#000000\"/>\n",
       "<path class=\"note\" d=\"M 160.2 162.8 Q 160.5 162.0, 161.2 161.6 Q 161.9 161.2, 162.8 161.2 Q 164.0 161.2, 164.7 161.9 Q 165.3 162.5, 165.3 163.6 Q 165.3 164.8, 164.5 165.9 Q 163.6 167.0, 161.9 168.3 L 165.5 168.3 L 165.5 169.1 L 160.2 169.1 L 160.2 168.4 Q 161.7 167.4, 162.5 166.6 Q 163.4 165.8, 163.8 165.1 Q 164.2 164.4, 164.2 163.7 Q 164.2 162.9, 163.9 162.5 Q 163.5 162.1, 162.8 162.1 Q 162.2 162.1, 161.8 162.4 Q 161.4 162.6, 161.1 163.2 L 160.2 162.8 \" fill=\"#000000\"/>\n",
       "<path class=\"note\" d=\"M 90.1 114.6 Q 90.9 114.8, 91.3 115.3 Q 91.6 115.8, 91.6 116.6 Q 91.6 117.2, 91.3 117.8 Q 91.0 118.3, 90.4 118.5 Q 89.7 118.8, 88.9 118.8 Q 88.1 118.8, 87.5 118.5 Q 86.9 118.2, 86.4 117.6 L 87.0 117.0 Q 87.5 117.5, 87.9 117.7 Q 88.3 117.9, 88.9 117.9 Q 89.7 117.9, 90.1 117.6 Q 90.5 117.2, 90.5 116.6 Q 90.5 115.8, 90.1 115.4 Q 89.6 115.0, 88.7 115.0 L 88.1 115.0 L 88.1 114.2 L 88.6 114.2 Q 89.4 114.2, 89.9 113.9 Q 90.4 113.5, 90.4 112.8 Q 90.4 112.3, 90.0 112.0 Q 89.6 111.7, 89.0 111.7 Q 88.3 111.7, 87.9 111.9 Q 87.5 112.1, 87.2 112.7 L 86.4 112.3 Q 86.7 111.7, 87.4 111.2 Q 88.0 110.8, 89.0 110.8 Q 90.1 110.8, 90.8 111.3 Q 91.5 111.9, 91.5 112.8 Q 91.5 113.4, 91.1 113.9 Q 90.8 114.3, 90.1 114.6 \" fill=\"#000000\"/>\n",
       "<path class=\"note\" d=\"M 44.9 132.0 L 45.9 132.0 L 45.9 132.9 L 44.9 132.9 L 44.9 134.7 L 43.9 134.7 L 43.9 132.9 L 39.8 132.9 L 39.8 132.2 L 43.3 126.8 L 44.9 126.8 L 44.9 132.0 M 41.1 132.0 L 43.9 132.0 L 43.9 127.5 L 41.1 132.0 \" fill=\"#000000\"/>\n",
       "<path class=\"note\" d=\"M 43.0 33.8 Q 43.7 33.8, 44.3 34.1 Q 44.9 34.4, 45.2 35.0 Q 45.5 35.5, 45.5 36.3 Q 45.5 37.1, 45.1 37.7 Q 44.7 38.2, 44.1 38.5 Q 43.4 38.8, 42.7 38.8 Q 42.0 38.8, 41.3 38.6 Q 40.6 38.3, 40.2 37.8 L 40.9 37.1 Q 41.2 37.5, 41.7 37.7 Q 42.2 37.9, 42.7 37.9 Q 43.4 37.9, 43.9 37.5 Q 44.4 37.1, 44.4 36.3 Q 44.4 35.4, 43.9 35.1 Q 43.4 34.7, 42.7 34.7 Q 42.0 34.7, 41.2 35.0 L 40.6 34.7 L 41.0 30.9 L 45.0 30.9 L 44.9 31.8 L 41.9 31.8 L 41.7 34.1 Q 42.4 33.8, 43.0 33.8 \" fill=\"#000000\"/>\n",
       "<path class=\"atom-0\" d=\"M 190.3,50.8 L 190.3,50.9 L 190.3,51.0 L 190.2,51.1 L 190.2,51.2 L 190.2,51.3 L 190.1,51.3 L 190.1,51.4 L 190.0,51.5 L 190.0,51.6 L 189.9,51.6 L 189.8,51.7 L 189.7,51.8 L 189.7,51.8 L 189.6,51.8 L 189.5,51.9 L 189.4,51.9 L 189.3,51.9 L 189.2,51.9 L 189.1,51.9 L 189.0,51.9 L 188.9,51.9 L 188.8,51.9 L 188.7,51.8 L 188.6,51.8 L 188.6,51.7 L 188.5,51.7 L 188.4,51.6 L 188.3,51.5 L 188.3,51.5 L 188.2,51.4 L 188.2,51.3 L 188.1,51.2 L 188.1,51.1 L 188.1,51.0 L 188.1,50.9 L 188.1,50.9 L 188.1,50.8 L 188.1,50.7 L 188.1,50.6 L 188.1,50.5 L 188.1,50.4 L 188.2,50.3 L 188.2,50.2 L 188.3,50.1 L 188.3,50.1 L 188.4,50.0 L 188.5,49.9 L 188.6,49.9 L 188.6,49.8 L 188.7,49.8 L 188.8,49.8 L 188.9,49.7 L 189.0,49.7 L 189.1,49.7 L 189.2,49.7 L 189.3,49.7 L 189.4,49.7 L 189.5,49.7 L 189.6,49.8 L 189.7,49.8 L 189.7,49.9 L 189.8,49.9 L 189.9,50.0 L 190.0,50.0 L 190.0,50.1 L 190.1,50.2 L 190.1,50.3 L 190.2,50.3 L 190.2,50.4 L 190.2,50.5 L 190.3,50.6 L 190.3,50.7 L 190.3,50.8 L 189.2,50.8 Z\" style=\"fill:#000000;fill-rule:evenodd;fill-opacity:1;stroke:#000000;stroke-width:0.0px;stroke-linecap:butt;stroke-linejoin:miter;stroke-opacity:1;\"/>\n",
       "</svg>"
      ],
      "text/plain": [
       "<IPython.core.display.SVG object>"
      ]
     },
     "execution_count": 18,
     "metadata": {},
     "output_type": "execute_result"
    }
   ],
   "source": [
    "subsmi = rdmolfiles.MolFragmentToSmiles(\n",
    "    mol=mol2,\n",
    "    atomsToUse=(3,4,5,6,7,8)\n",
    ")\n",
    "submol = Chem.MolFromSmiles(subsmi)\n",
    "SVG(draw_molecule(submol, draw_options={\"addAtomIndices\": True}))"
   ]
  },
  {
   "cell_type": "code",
   "execution_count": 19,
   "metadata": {},
   "outputs": [
    {
     "data": {
      "text/plain": [
       "'[CH2:3][C:4](=[O:5])[C:6](=[O:7])[OH:8]'"
      ]
     },
     "execution_count": 19,
     "metadata": {},
     "output_type": "execute_result"
    }
   ],
   "source": [
    "subsmi"
   ]
  }
 ],
 "metadata": {
  "kernelspec": {
   "display_name": "hiec",
   "language": "python",
   "name": "python3"
  },
  "language_info": {
   "codemirror_mode": {
    "name": "ipython",
    "version": 3
   },
   "file_extension": ".py",
   "mimetype": "text/x-python",
   "name": "python",
   "nbconvert_exporter": "python",
   "pygments_lexer": "ipython3",
   "version": "3.11.5"
  }
 },
 "nbformat": 4,
 "nbformat_minor": 2
}
