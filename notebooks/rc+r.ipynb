{
 "cells": [
  {
   "cell_type": "code",
   "execution_count": null,
   "metadata": {},
   "outputs": [],
   "source": [
    "from rdkit import Chem\n",
    "from rdkit.Chem import rdmolfiles\n",
    "from src.cheminfo import draw_molecule\n",
    "from IPython.display import SVG\n",
    "from copy import deepcopy"
   ]
  },
  {
   "cell_type": "code",
   "execution_count": 13,
   "metadata": {},
   "outputs": [
    {
     "data": {
      "image/svg+xml": [
       "<svg xmlns=\"http://www.w3.org/2000/svg\" xmlns:rdkit=\"http://www.rdkit.org/xml\" xmlns:xlink=\"http://www.w3.org/1999/xlink\" version=\"1.1\" baseProfile=\"full\" xml:space=\"preserve\" width=\"200px\" height=\"200px\" viewBox=\"0 0 200 200\">\n",
       "<!-- END OF HEADER -->\n",
       "<rect style=\"opacity:1.0;fill:#FFFFFF;stroke:none\" width=\"200.0\" height=\"200.0\" x=\"0.0\" y=\"0.0\"> </rect>\n",
       "<path class=\"bond-0 atom-0 atom-1\" d=\"M 14.0,100.9 L 26.1,94.8\" style=\"fill:none;fill-rule:evenodd;stroke:#000000;stroke-width:2.0px;stroke-linecap:butt;stroke-linejoin:miter;stroke-opacity:1\"/>\n",
       "<path class=\"bond-0 atom-0 atom-1\" d=\"M 26.1,94.8 L 38.2,88.7\" style=\"fill:none;fill-rule:evenodd;stroke:#CCCC00;stroke-width:2.0px;stroke-linecap:butt;stroke-linejoin:miter;stroke-opacity:1\"/>\n",
       "<path class=\"bond-1 atom-1 atom-2\" d=\"M 46.0,89.3 L 57.3,96.6\" style=\"fill:none;fill-rule:evenodd;stroke:#CCCC00;stroke-width:2.0px;stroke-linecap:butt;stroke-linejoin:miter;stroke-opacity:1\"/>\n",
       "<path class=\"bond-1 atom-1 atom-2\" d=\"M 57.3,96.6 L 68.5,104.0\" style=\"fill:none;fill-rule:evenodd;stroke:#000000;stroke-width:2.0px;stroke-linecap:butt;stroke-linejoin:miter;stroke-opacity:1\"/>\n",
       "<path class=\"bond-2 atom-2 atom-3\" d=\"M 68.5,104.0 L 96.6,89.8\" style=\"fill:none;fill-rule:evenodd;stroke:#000000;stroke-width:2.0px;stroke-linecap:butt;stroke-linejoin:miter;stroke-opacity:1\"/>\n",
       "<path class=\"bond-3 atom-3 atom-4\" d=\"M 96.6,89.8 L 123.0,107.1\" style=\"fill:none;fill-rule:evenodd;stroke:#000000;stroke-width:2.0px;stroke-linecap:butt;stroke-linejoin:miter;stroke-opacity:1\"/>\n",
       "<path class=\"bond-4 atom-4 atom-5\" d=\"M 120.7,105.6 L 120.0,119.2\" style=\"fill:none;fill-rule:evenodd;stroke:#000000;stroke-width:2.0px;stroke-linecap:butt;stroke-linejoin:miter;stroke-opacity:1\"/>\n",
       "<path class=\"bond-4 atom-4 atom-5\" d=\"M 120.0,119.2 L 119.2,132.9\" style=\"fill:none;fill-rule:evenodd;stroke:#FF0000;stroke-width:2.0px;stroke-linecap:butt;stroke-linejoin:miter;stroke-opacity:1\"/>\n",
       "<path class=\"bond-4 atom-4 atom-5\" d=\"M 125.5,105.8 L 124.7,119.5\" style=\"fill:none;fill-rule:evenodd;stroke:#000000;stroke-width:2.0px;stroke-linecap:butt;stroke-linejoin:miter;stroke-opacity:1\"/>\n",
       "<path class=\"bond-4 atom-4 atom-5\" d=\"M 124.7,119.5 L 123.9,133.1\" style=\"fill:none;fill-rule:evenodd;stroke:#FF0000;stroke-width:2.0px;stroke-linecap:butt;stroke-linejoin:miter;stroke-opacity:1\"/>\n",
       "<path class=\"bond-5 atom-4 atom-6\" d=\"M 123.0,107.1 L 151.2,92.9\" style=\"fill:none;fill-rule:evenodd;stroke:#000000;stroke-width:2.0px;stroke-linecap:butt;stroke-linejoin:miter;stroke-opacity:1\"/>\n",
       "<path class=\"bond-6 atom-6 atom-7\" d=\"M 153.4,94.4 L 154.2,80.8\" style=\"fill:none;fill-rule:evenodd;stroke:#000000;stroke-width:2.0px;stroke-linecap:butt;stroke-linejoin:miter;stroke-opacity:1\"/>\n",
       "<path class=\"bond-6 atom-6 atom-7\" d=\"M 154.2,80.8 L 155.0,67.2\" style=\"fill:none;fill-rule:evenodd;stroke:#FF0000;stroke-width:2.0px;stroke-linecap:butt;stroke-linejoin:miter;stroke-opacity:1\"/>\n",
       "<path class=\"bond-6 atom-6 atom-7\" d=\"M 148.7,94.1 L 149.5,80.5\" style=\"fill:none;fill-rule:evenodd;stroke:#000000;stroke-width:2.0px;stroke-linecap:butt;stroke-linejoin:miter;stroke-opacity:1\"/>\n",
       "<path class=\"bond-6 atom-6 atom-7\" d=\"M 149.5,80.5 L 150.3,67.0\" style=\"fill:none;fill-rule:evenodd;stroke:#FF0000;stroke-width:2.0px;stroke-linecap:butt;stroke-linejoin:miter;stroke-opacity:1\"/>\n",
       "<path class=\"bond-7 atom-6 atom-8\" d=\"M 151.2,92.9 L 161.8,99.8\" style=\"fill:none;fill-rule:evenodd;stroke:#000000;stroke-width:2.0px;stroke-linecap:butt;stroke-linejoin:miter;stroke-opacity:1\"/>\n",
       "<path class=\"bond-7 atom-6 atom-8\" d=\"M 161.8,99.8 L 172.4,106.8\" style=\"fill:none;fill-rule:evenodd;stroke:#FF0000;stroke-width:2.0px;stroke-linecap:butt;stroke-linejoin:miter;stroke-opacity:1\"/>\n",
       "<path d=\"M 67.9,103.6 L 68.5,104.0 L 69.9,103.3\" style=\"fill:none;stroke:#000000;stroke-width:2.0px;stroke-linecap:butt;stroke-linejoin:miter;stroke-opacity:1;\"/>\n",
       "<path d=\"M 95.2,90.5 L 96.6,89.8 L 98.0,90.7\" style=\"fill:none;stroke:#000000;stroke-width:2.0px;stroke-linecap:butt;stroke-linejoin:miter;stroke-opacity:1;\"/>\n",
       "<path d=\"M 121.7,106.2 L 123.0,107.1 L 124.4,106.4\" style=\"fill:none;stroke:#000000;stroke-width:2.0px;stroke-linecap:butt;stroke-linejoin:miter;stroke-opacity:1;\"/>\n",
       "<path d=\"M 149.8,93.6 L 151.2,92.9 L 151.7,93.2\" style=\"fill:none;stroke:#000000;stroke-width:2.0px;stroke-linecap:butt;stroke-linejoin:miter;stroke-opacity:1;\"/>\n",
       "<path class=\"atom-1\" d=\"M 39.6 89.8 Q 39.7 89.8, 40.1 90.0 Q 40.6 90.2, 41.0 90.3 Q 41.5 90.4, 41.9 90.4 Q 42.8 90.4, 43.3 90.0 Q 43.8 89.6, 43.8 88.9 Q 43.8 88.4, 43.5 88.1 Q 43.3 87.8, 42.9 87.6 Q 42.5 87.4, 41.9 87.3 Q 41.1 87.0, 40.6 86.8 Q 40.1 86.6, 39.8 86.1 Q 39.5 85.6, 39.5 84.8 Q 39.5 83.7, 40.2 83.0 Q 41.0 82.3, 42.5 82.3 Q 43.5 82.3, 44.7 82.8 L 44.4 83.7 Q 43.4 83.3, 42.5 83.3 Q 41.7 83.3, 41.2 83.7 Q 40.7 84.0, 40.7 84.6 Q 40.7 85.1, 41.0 85.4 Q 41.2 85.7, 41.6 85.9 Q 41.9 86.0, 42.5 86.2 Q 43.4 86.5, 43.8 86.7 Q 44.3 87.0, 44.6 87.5 Q 45.0 88.0, 45.0 88.9 Q 45.0 90.1, 44.2 90.8 Q 43.4 91.4, 42.0 91.4 Q 41.2 91.4, 40.6 91.3 Q 40.0 91.1, 39.3 90.8 L 39.6 89.8 \" fill=\"#CCCC00\"/>\n",
       "<path class=\"atom-5\" d=\"M 117.1 138.6 Q 117.1 136.4, 118.2 135.2 Q 119.3 134.0, 121.2 134.0 Q 123.2 134.0, 124.3 135.2 Q 125.3 136.4, 125.3 138.6 Q 125.3 140.7, 124.3 142.0 Q 123.2 143.2, 121.2 143.2 Q 119.3 143.2, 118.2 142.0 Q 117.1 140.8, 117.1 138.6 M 121.2 142.2 Q 122.6 142.2, 123.3 141.3 Q 124.1 140.4, 124.1 138.6 Q 124.1 136.8, 123.3 135.9 Q 122.6 135.0, 121.2 135.0 Q 119.9 135.0, 119.1 135.9 Q 118.4 136.8, 118.4 138.6 Q 118.4 140.4, 119.1 141.3 Q 119.9 142.2, 121.2 142.2 \" fill=\"#FF0000\"/>\n",
       "<path class=\"atom-7\" d=\"M 148.8 61.4 Q 148.8 59.3, 149.9 58.1 Q 151.0 56.9, 152.9 56.9 Q 154.9 56.9, 156.0 58.1 Q 157.0 59.3, 157.0 61.4 Q 157.0 63.6, 156.0 64.8 Q 154.9 66.1, 152.9 66.1 Q 151.0 66.1, 149.9 64.8 Q 148.8 63.6, 148.8 61.4 M 152.9 65.0 Q 154.3 65.0, 155.0 64.1 Q 155.8 63.2, 155.8 61.4 Q 155.8 59.7, 155.0 58.8 Q 154.3 57.9, 152.9 57.9 Q 151.6 57.9, 150.8 58.8 Q 150.1 59.7, 150.1 61.4 Q 150.1 63.2, 150.8 64.1 Q 151.6 65.0, 152.9 65.0 \" fill=\"#FF0000\"/>\n",
       "<path class=\"atom-8\" d=\"M 173.4 110.2 Q 173.4 108.0, 174.5 106.8 Q 175.5 105.6, 177.5 105.6 Q 179.5 105.6, 180.6 106.8 Q 181.6 108.0, 181.6 110.2 Q 181.6 112.3, 180.6 113.6 Q 179.5 114.8, 177.5 114.8 Q 175.6 114.8, 174.5 113.6 Q 173.4 112.4, 173.4 110.2 M 177.5 113.8 Q 178.9 113.8, 179.6 112.9 Q 180.4 112.0, 180.4 110.2 Q 180.4 108.4, 179.6 107.5 Q 178.9 106.6, 177.5 106.6 Q 176.2 106.6, 175.4 107.5 Q 174.7 108.4, 174.7 110.2 Q 174.7 112.0, 175.4 112.9 Q 176.2 113.8, 177.5 113.8 \" fill=\"#FF0000\"/>\n",
       "<path class=\"atom-8\" d=\"M 183.0 105.7 L 184.2 105.7 L 184.2 109.5 L 188.8 109.5 L 188.8 105.7 L 190.0 105.7 L 190.0 114.7 L 188.8 114.7 L 188.8 110.5 L 184.2 110.5 L 184.2 114.7 L 183.0 114.7 L 183.0 105.7 \" fill=\"#FF0000\"/>\n",
       "<path class=\"note\" d=\"M 11.6 98.6 Q 10.8 98.6, 10.4 97.9 Q 10.0 97.3, 10.0 96.3 Q 10.0 95.2, 10.4 94.6 Q 10.8 94.0, 11.6 94.0 Q 12.5 94.0, 12.9 94.6 Q 13.3 95.2, 13.3 96.3 Q 13.3 97.3, 12.9 97.9 Q 12.5 98.6, 11.6 98.6 M 11.6 98.1 Q 12.1 98.1, 12.4 97.6 Q 12.6 97.1, 12.6 96.3 Q 12.6 95.4, 12.4 94.9 Q 12.1 94.5, 11.6 94.5 Q 11.2 94.5, 10.9 94.9 Q 10.6 95.4, 10.6 96.3 Q 10.6 97.1, 10.9 97.6 Q 11.2 98.1, 11.6 98.1 \" fill=\"#000000\"/>\n",
       "<path class=\"note\" d=\"M 41.6 78.0 L 42.6 78.0 L 42.6 74.7 L 41.5 75.0 L 41.4 74.6 L 42.8 74.0 L 43.2 74.1 L 43.2 78.0 L 44.1 78.0 L 44.1 78.5 L 41.6 78.5 L 41.6 78.0 \" fill=\"#000000\"/>\n",
       "<path class=\"note\" d=\"M 66.7 107.9 Q 66.9 107.5, 67.3 107.2 Q 67.7 107.0, 68.2 107.0 Q 68.9 107.0, 69.3 107.4 Q 69.6 107.7, 69.6 108.4 Q 69.6 109.0, 69.1 109.7 Q 68.7 110.3, 67.7 111.0 L 69.7 111.0 L 69.7 111.5 L 66.7 111.5 L 66.7 111.1 Q 67.5 110.5, 68.0 110.1 Q 68.5 109.6, 68.8 109.2 Q 69.0 108.8, 69.0 108.4 Q 69.0 108.0, 68.8 107.7 Q 68.6 107.5, 68.2 107.5 Q 67.9 107.5, 67.6 107.6 Q 67.4 107.8, 67.2 108.1 L 66.7 107.9 \" fill=\"#000000\"/>\n",
       "<path class=\"note\" d=\"M 97.6 84.5 Q 98.0 84.6, 98.2 84.9 Q 98.4 85.2, 98.4 85.6 Q 98.4 86.0, 98.3 86.3 Q 98.1 86.6, 97.7 86.7 Q 97.4 86.9, 96.9 86.9 Q 96.4 86.9, 96.1 86.7 Q 95.7 86.5, 95.4 86.2 L 95.8 85.8 Q 96.1 86.1, 96.3 86.3 Q 96.5 86.4, 96.9 86.4 Q 97.3 86.4, 97.6 86.2 Q 97.8 85.9, 97.8 85.6 Q 97.8 85.1, 97.6 84.9 Q 97.3 84.7, 96.8 84.7 L 96.4 84.7 L 96.4 84.3 L 96.7 84.3 Q 97.2 84.3, 97.5 84.1 Q 97.7 83.8, 97.7 83.4 Q 97.7 83.2, 97.5 83.0 Q 97.3 82.8, 96.9 82.8 Q 96.6 82.8, 96.3 82.9 Q 96.1 83.1, 95.9 83.4 L 95.5 83.2 Q 95.6 82.8, 96.0 82.6 Q 96.4 82.3, 96.9 82.3 Q 97.6 82.3, 98.0 82.6 Q 98.4 82.9, 98.4 83.4 Q 98.4 83.8, 98.2 84.1 Q 98.0 84.3, 97.6 84.5 \" fill=\"#000000\"/>\n",
       "<path class=\"note\" d=\"M 124.5 102.5 L 125.0 102.5 L 125.0 103.0 L 124.5 103.0 L 124.5 104.1 L 123.9 104.1 L 123.9 103.0 L 121.6 103.0 L 121.6 102.6 L 123.6 99.6 L 124.5 99.6 L 124.5 102.5 M 122.3 102.5 L 123.9 102.5 L 123.9 100.0 L 122.3 102.5 \" fill=\"#000000\"/>\n",
       "<path class=\"note\" d=\"M 120.8 148.5 Q 121.2 148.5, 121.5 148.6 Q 121.8 148.8, 122.0 149.1 Q 122.2 149.4, 122.2 149.9 Q 122.2 150.3, 121.9 150.7 Q 121.7 151.0, 121.4 151.1 Q 121.0 151.3, 120.6 151.3 Q 120.2 151.3, 119.8 151.2 Q 119.4 151.0, 119.1 150.7 L 119.5 150.3 Q 119.7 150.6, 120.0 150.7 Q 120.3 150.8, 120.6 150.8 Q 121.0 150.8, 121.3 150.6 Q 121.5 150.3, 121.5 149.9 Q 121.5 149.4, 121.3 149.2 Q 121.0 148.9, 120.6 148.9 Q 120.2 148.9, 119.7 149.1 L 119.4 149.0 L 119.6 146.8 L 121.9 146.8 L 121.8 147.3 L 120.1 147.3 L 120.0 148.6 Q 120.4 148.5, 120.8 148.5 \" fill=\"#000000\"/>\n",
       "<path class=\"note\" d=\"M 151.1 97.6 Q 151.5 97.6, 151.8 97.8 Q 152.1 97.9, 152.2 98.2 Q 152.4 98.5, 152.4 98.9 Q 152.4 99.4, 152.2 99.7 Q 152.0 100.0, 151.7 100.2 Q 151.3 100.4, 150.9 100.4 Q 150.1 100.4, 149.7 99.9 Q 149.3 99.3, 149.3 98.3 Q 149.3 97.1, 149.8 96.5 Q 150.3 95.9, 151.3 95.9 Q 151.5 95.9, 151.8 95.9 Q 152.0 96.0, 152.2 96.1 L 152.0 96.5 Q 151.7 96.4, 151.3 96.4 Q 150.6 96.4, 150.3 96.8 Q 150.0 97.2, 150.0 98.0 Q 150.2 97.8, 150.5 97.7 Q 150.8 97.6, 151.1 97.6 M 150.9 99.9 Q 151.2 99.9, 151.4 99.8 Q 151.6 99.7, 151.7 99.4 Q 151.8 99.2, 151.8 98.9 Q 151.8 98.5, 151.6 98.3 Q 151.3 98.1, 150.9 98.1 Q 150.7 98.1, 150.4 98.2 Q 150.1 98.3, 150.0 98.5 Q 150.0 99.2, 150.2 99.6 Q 150.4 99.9, 150.9 99.9 \" fill=\"#000000\"/>\n",
       "<path class=\"note\" d=\"M 154.4 49.2 L 152.0 49.2 L 152.0 48.7 L 155.0 48.7 L 155.0 49.1 L 153.2 53.1 L 152.6 53.1 L 154.4 49.2 \" fill=\"#000000\"/>\n",
       "<path class=\"note\" d=\"M 183.0 119.4 Q 183.4 119.6, 183.6 119.9 Q 183.8 120.1, 183.8 120.6 Q 183.8 120.9, 183.6 121.2 Q 183.4 121.5, 183.1 121.7 Q 182.7 121.8, 182.3 121.8 Q 181.5 121.8, 181.1 121.5 Q 180.7 121.2, 180.7 120.6 Q 180.7 120.2, 180.9 119.9 Q 181.1 119.6, 181.5 119.4 Q 181.2 119.3, 181.0 119.0 Q 180.8 118.8, 180.8 118.4 Q 180.8 117.9, 181.2 117.6 Q 181.6 117.3, 182.3 117.3 Q 182.9 117.3, 183.3 117.6 Q 183.7 117.9, 183.7 118.4 Q 183.7 118.7, 183.5 119.0 Q 183.3 119.2, 183.0 119.4 M 182.3 117.7 Q 181.9 117.7, 181.7 117.9 Q 181.5 118.1, 181.5 118.4 Q 181.5 118.6, 181.6 118.8 Q 181.8 119.0, 182.0 119.0 Q 182.2 119.1, 182.5 119.3 Q 182.8 119.1, 182.9 118.9 Q 183.0 118.7, 183.0 118.4 Q 183.0 118.1, 182.8 117.9 Q 182.6 117.7, 182.3 117.7 M 182.3 121.4 Q 182.7 121.4, 183.0 121.2 Q 183.2 120.9, 183.2 120.6 Q 183.2 120.3, 183.1 120.2 Q 182.9 120.0, 182.7 119.9 Q 182.5 119.8, 182.2 119.7 L 181.9 119.6 Q 181.6 119.8, 181.5 120.0 Q 181.3 120.3, 181.3 120.6 Q 181.3 120.9, 181.6 121.2 Q 181.8 121.4, 182.3 121.4 \" fill=\"#000000\"/>\n",
       "</svg>"
      ],
      "text/plain": [
       "<IPython.core.display.SVG object>"
      ]
     },
     "execution_count": 13,
     "metadata": {},
     "output_type": "execute_result"
    }
   ],
   "source": [
    "smi1 = 'CSCCC(=O)C(=O)O'\n",
    "rc1 = (4, 6, 8)\n",
    "mol1 = Chem.MolFromSmiles(smi1)\n",
    "SVG(draw_molecule(smi1, draw_options={\"addAtomIndices\": True}))"
   ]
  },
  {
   "cell_type": "code",
   "execution_count": 12,
   "metadata": {},
   "outputs": [
    {
     "data": {
      "image/svg+xml": [
       "<svg xmlns=\"http://www.w3.org/2000/svg\" xmlns:rdkit=\"http://www.rdkit.org/xml\" xmlns:xlink=\"http://www.w3.org/1999/xlink\" version=\"1.1\" baseProfile=\"full\" xml:space=\"preserve\" width=\"200px\" height=\"200px\" viewBox=\"0 0 200 200\">\n",
       "<!-- END OF HEADER -->\n",
       "<rect style=\"opacity:1.0;fill:#FFFFFF;stroke:none\" width=\"200.0\" height=\"200.0\" x=\"0.0\" y=\"0.0\"> </rect>\n",
       "<path class=\"bond-0 atom-0 atom-1\" d=\"M 20.7,115.0 L 89.6,75.2\" style=\"fill:none;fill-rule:evenodd;stroke:#000000;stroke-width:2.0px;stroke-linecap:butt;stroke-linejoin:miter;stroke-opacity:1\"/>\n",
       "<path class=\"bond-1 atom-1 atom-2\" d=\"M 89.6,75.2 L 117.6,91.4\" style=\"fill:none;fill-rule:evenodd;stroke:#000000;stroke-width:2.0px;stroke-linecap:butt;stroke-linejoin:miter;stroke-opacity:1\"/>\n",
       "<path class=\"bond-1 atom-1 atom-2\" d=\"M 117.6,91.4 L 145.6,107.5\" style=\"fill:none;fill-rule:evenodd;stroke:#FF0000;stroke-width:2.0px;stroke-linecap:butt;stroke-linejoin:miter;stroke-opacity:1\"/>\n",
       "<path d=\"M 86.2,77.2 L 89.6,75.2 L 91.0,76.1\" style=\"fill:none;stroke:#000000;stroke-width:2.0px;stroke-linecap:butt;stroke-linejoin:miter;stroke-opacity:1;\"/>\n",
       "<path class=\"atom-2\" d=\"M 148.2 115.1 Q 148.2 109.7, 150.9 106.6 Q 153.5 103.6, 158.5 103.6 Q 163.5 103.6, 166.2 106.6 Q 168.9 109.7, 168.9 115.1 Q 168.9 120.6, 166.2 123.7 Q 163.5 126.8, 158.5 126.8 Q 153.6 126.8, 150.9 123.7 Q 148.2 120.6, 148.2 115.1 M 158.5 124.2 Q 162.0 124.2, 163.8 121.9 Q 165.7 119.6, 165.7 115.1 Q 165.7 110.7, 163.8 108.4 Q 162.0 106.2, 158.5 106.2 Q 155.1 106.2, 153.2 108.4 Q 151.4 110.6, 151.4 115.1 Q 151.4 119.6, 153.2 121.9 Q 155.1 124.2, 158.5 124.2 \" fill=\"#FF0000\"/>\n",
       "<path class=\"atom-2\" d=\"M 172.4 103.9 L 175.4 103.9 L 175.4 113.5 L 186.9 113.5 L 186.9 103.9 L 190.0 103.9 L 190.0 126.4 L 186.9 126.4 L 186.9 116.0 L 175.4 116.0 L 175.4 126.4 L 172.4 126.4 L 172.4 103.9 \" fill=\"#FF0000\"/>\n",
       "<path class=\"note\" d=\"M 14.1 109.4 Q 12.1 109.4, 11.0 107.8 Q 10.0 106.3, 10.0 103.6 Q 10.0 100.9, 11.0 99.4 Q 12.0 97.8, 14.1 97.8 Q 16.2 97.8, 17.2 99.4 Q 18.2 100.9, 18.2 103.6 Q 18.2 106.3, 17.2 107.8 Q 16.2 109.4, 14.1 109.4 M 14.1 108.1 Q 15.3 108.1, 16.0 107.0 Q 16.6 105.8, 16.6 103.6 Q 16.6 101.4, 16.0 100.2 Q 15.3 99.1, 14.1 99.1 Q 12.9 99.1, 12.2 100.2 Q 11.6 101.4, 11.6 103.6 Q 11.6 105.8, 12.2 107.0 Q 12.9 108.1, 14.1 108.1 \" fill=\"#000000\"/>\n",
       "<path class=\"note\" d=\"M 86.9 66.4 L 89.3 66.4 L 89.3 58.0 L 86.6 58.8 L 86.2 57.9 L 89.7 56.3 L 90.8 56.5 L 90.8 66.4 L 93.0 66.4 L 93.0 67.7 L 86.9 67.7 L 86.9 66.4 \" fill=\"#000000\"/>\n",
       "<path class=\"note\" d=\"M 168.0 134.5 Q 168.4 133.5, 169.4 132.9 Q 170.4 132.3, 171.8 132.3 Q 173.5 132.3, 174.4 133.2 Q 175.4 134.1, 175.4 135.8 Q 175.4 137.4, 174.1 139.0 Q 172.9 140.6, 170.4 142.4 L 175.6 142.4 L 175.6 143.7 L 168.0 143.7 L 168.0 142.6 Q 170.1 141.1, 171.3 140.0 Q 172.6 138.9, 173.2 137.9 Q 173.8 136.9, 173.8 135.8 Q 173.8 134.8, 173.3 134.2 Q 172.7 133.6, 171.8 133.6 Q 170.9 133.6, 170.3 133.9 Q 169.7 134.3, 169.2 135.1 L 168.0 134.5 \" fill=\"#000000\"/>\n",
       "</svg>"
      ],
      "text/plain": [
       "<IPython.core.display.SVG object>"
      ]
     },
     "execution_count": 12,
     "metadata": {},
     "output_type": "execute_result"
    }
   ],
   "source": [
    "subsmi = rdmolfiles.MolFragmentToSmiles(\n",
    "    mol=mol1,\n",
    "    atomsToUse=rc1\n",
    ")\n",
    "submol = Chem.MolFromSmiles(subsmi)\n",
    "SVG(draw_molecule(submol, draw_options={\"addAtomIndices\": True}))"
   ]
  },
  {
   "cell_type": "code",
   "execution_count": null,
   "metadata": {},
   "outputs": [],
   "source": []
  },
  {
   "cell_type": "code",
   "execution_count": 14,
   "metadata": {},
   "outputs": [
    {
     "data": {
      "image/svg+xml": [
       "<svg xmlns=\"http://www.w3.org/2000/svg\" xmlns:rdkit=\"http://www.rdkit.org/xml\" xmlns:xlink=\"http://www.w3.org/1999/xlink\" version=\"1.1\" baseProfile=\"full\" xml:space=\"preserve\" width=\"200px\" height=\"200px\" viewBox=\"0 0 200 200\">\n",
       "<!-- END OF HEADER -->\n",
       "<rect style=\"opacity:1.0;fill:#FFFFFF;stroke:none\" width=\"200.0\" height=\"200.0\" x=\"0.0\" y=\"0.0\"> </rect>\n",
       "<path class=\"bond-0 atom-0 atom-1\" d=\"M 175.3,40.5 L 141.0,99.9\" style=\"fill:none;fill-rule:evenodd;stroke:#000000;stroke-width:2.0px;stroke-linecap:butt;stroke-linejoin:miter;stroke-opacity:1\"/>\n",
       "<path class=\"bond-1 atom-1 atom-2\" d=\"M 135.1,99.9 L 149.5,124.9\" style=\"fill:none;fill-rule:evenodd;stroke:#000000;stroke-width:2.0px;stroke-linecap:butt;stroke-linejoin:miter;stroke-opacity:1\"/>\n",
       "<path class=\"bond-1 atom-1 atom-2\" d=\"M 149.5,124.9 L 163.9,149.8\" style=\"fill:none;fill-rule:evenodd;stroke:#FF0000;stroke-width:2.0px;stroke-linecap:butt;stroke-linejoin:miter;stroke-opacity:1\"/>\n",
       "<path class=\"bond-1 atom-1 atom-2\" d=\"M 144.0,94.8 L 158.4,119.7\" style=\"fill:none;fill-rule:evenodd;stroke:#000000;stroke-width:2.0px;stroke-linecap:butt;stroke-linejoin:miter;stroke-opacity:1\"/>\n",
       "<path class=\"bond-1 atom-1 atom-2\" d=\"M 158.4,119.7 L 172.8,144.7\" style=\"fill:none;fill-rule:evenodd;stroke:#FF0000;stroke-width:2.0px;stroke-linecap:butt;stroke-linejoin:miter;stroke-opacity:1\"/>\n",
       "<path class=\"bond-2 atom-1 atom-3\" d=\"M 141.0,99.9 L 72.4,99.9\" style=\"fill:none;fill-rule:evenodd;stroke:#000000;stroke-width:2.0px;stroke-linecap:butt;stroke-linejoin:miter;stroke-opacity:1\"/>\n",
       "<path class=\"bond-3 atom-3 atom-4\" d=\"M 78.3,99.9 L 64.0,75.2\" style=\"fill:none;fill-rule:evenodd;stroke:#000000;stroke-width:2.0px;stroke-linecap:butt;stroke-linejoin:miter;stroke-opacity:1\"/>\n",
       "<path class=\"bond-3 atom-3 atom-4\" d=\"M 64.0,75.2 L 49.7,50.4\" style=\"fill:none;fill-rule:evenodd;stroke:#FF0000;stroke-width:2.0px;stroke-linecap:butt;stroke-linejoin:miter;stroke-opacity:1\"/>\n",
       "<path class=\"bond-3 atom-3 atom-4\" d=\"M 69.4,105.1 L 55.1,80.3\" style=\"fill:none;fill-rule:evenodd;stroke:#000000;stroke-width:2.0px;stroke-linecap:butt;stroke-linejoin:miter;stroke-opacity:1\"/>\n",
       "<path class=\"bond-3 atom-3 atom-4\" d=\"M 55.1,80.3 L 40.8,55.5\" style=\"fill:none;fill-rule:evenodd;stroke:#FF0000;stroke-width:2.0px;stroke-linecap:butt;stroke-linejoin:miter;stroke-opacity:1\"/>\n",
       "<path class=\"bond-4 atom-3 atom-5\" d=\"M 72.4,99.9 L 58.7,123.6\" style=\"fill:none;fill-rule:evenodd;stroke:#000000;stroke-width:2.0px;stroke-linecap:butt;stroke-linejoin:miter;stroke-opacity:1\"/>\n",
       "<path class=\"bond-4 atom-3 atom-5\" d=\"M 58.7,123.6 L 45.1,147.3\" style=\"fill:none;fill-rule:evenodd;stroke:#FF0000;stroke-width:2.0px;stroke-linecap:butt;stroke-linejoin:miter;stroke-opacity:1\"/>\n",
       "<path d=\"M 142.7,97.0 L 141.0,99.9 L 137.6,99.9\" style=\"fill:none;stroke:#000000;stroke-width:2.0px;stroke-linecap:butt;stroke-linejoin:miter;stroke-opacity:1;\"/>\n",
       "<path d=\"M 75.8,99.9 L 72.4,99.9 L 71.7,101.1\" style=\"fill:none;stroke:#000000;stroke-width:2.0px;stroke-linecap:butt;stroke-linejoin:miter;stroke-opacity:1;\"/>\n",
       "<path class=\"atom-2\" d=\"M 166.4 159.4 Q 166.4 154.7, 168.7 152.1 Q 171.0 149.5, 175.3 149.5 Q 179.6 149.5, 181.9 152.1 Q 184.2 154.7, 184.2 159.4 Q 184.2 164.1, 181.9 166.8 Q 179.5 169.5, 175.3 169.5 Q 171.0 169.5, 168.7 166.8 Q 166.4 164.2, 166.4 159.4 M 175.3 167.3 Q 178.3 167.3, 179.9 165.3 Q 181.5 163.3, 181.5 159.4 Q 181.5 155.6, 179.9 153.7 Q 178.3 151.7, 175.3 151.7 Q 172.3 151.7, 170.7 153.6 Q 169.1 155.6, 169.1 159.4 Q 169.1 163.3, 170.7 165.3 Q 172.3 167.3, 175.3 167.3 \" fill=\"#FF0000\"/>\n",
       "<path class=\"atom-4\" d=\"M 29.2 40.6 Q 29.2 35.9, 31.5 33.3 Q 33.8 30.7, 38.1 30.7 Q 42.4 30.7, 44.7 33.3 Q 47.0 35.9, 47.0 40.6 Q 47.0 45.3, 44.7 48.0 Q 42.4 50.7, 38.1 50.7 Q 33.8 50.7, 31.5 48.0 Q 29.2 45.3, 29.2 40.6 M 38.1 48.5 Q 41.1 48.5, 42.7 46.5 Q 44.3 44.5, 44.3 40.6 Q 44.3 36.8, 42.7 34.9 Q 41.1 32.9, 38.1 32.9 Q 35.1 32.9, 33.5 34.8 Q 31.9 36.8, 31.9 40.6 Q 31.9 44.5, 33.5 46.5 Q 35.1 48.5, 38.1 48.5 \" fill=\"#FF0000\"/>\n",
       "<path class=\"atom-5\" d=\"M 10.0 149.7 L 12.6 149.7 L 12.6 158.0 L 22.6 158.0 L 22.6 149.7 L 25.2 149.7 L 25.2 169.2 L 22.6 169.2 L 22.6 160.2 L 12.6 160.2 L 12.6 169.2 L 10.0 169.2 L 10.0 149.7 \" fill=\"#FF0000\"/>\n",
       "<path class=\"atom-5\" d=\"M 29.2 159.4 Q 29.2 154.7, 31.5 152.1 Q 33.8 149.5, 38.1 149.5 Q 42.4 149.5, 44.7 152.1 Q 47.0 154.7, 47.0 159.4 Q 47.0 164.1, 44.7 166.8 Q 42.4 169.5, 38.1 169.5 Q 33.8 169.5, 31.5 166.8 Q 29.2 164.2, 29.2 159.4 M 38.1 167.3 Q 41.1 167.3, 42.7 165.3 Q 44.3 163.3, 44.3 159.4 Q 44.3 155.6, 42.7 153.7 Q 41.1 151.7, 38.1 151.7 Q 35.1 151.7, 33.5 153.6 Q 31.9 155.6, 31.9 159.4 Q 31.9 163.3, 33.5 165.3 Q 35.1 167.3, 38.1 167.3 \" fill=\"#FF0000\"/>\n",
       "<path class=\"note\" d=\"M 185.2 51.3 Q 183.4 51.3, 182.5 50.0 Q 181.6 48.6, 181.6 46.3 Q 181.6 44.0, 182.5 42.6 Q 183.4 41.3, 185.2 41.3 Q 187.0 41.3, 187.9 42.6 Q 188.7 44.0, 188.7 46.3 Q 188.7 48.6, 187.9 50.0 Q 187.0 51.3, 185.2 51.3 M 185.2 50.2 Q 186.3 50.2, 186.8 49.2 Q 187.4 48.2, 187.4 46.3 Q 187.4 44.4, 186.8 43.4 Q 186.3 42.4, 185.2 42.4 Q 184.2 42.4, 183.6 43.4 Q 183.0 44.4, 183.0 46.3 Q 183.0 48.2, 183.6 49.2 Q 184.2 50.2, 185.2 50.2 \" fill=\"#000000\"/>\n",
       "<path class=\"note\" d=\"M 132.9 93.8 L 135.0 93.8 L 135.0 86.6 L 132.7 87.3 L 132.4 86.5 L 135.3 85.2 L 136.3 85.3 L 136.3 93.8 L 138.2 93.8 L 138.2 94.9 L 132.9 94.9 L 132.9 93.8 \" fill=\"#000000\"/>\n",
       "<path class=\"note\" d=\"M 183.5 176.2 Q 183.8 175.3, 184.7 174.8 Q 185.5 174.2, 186.7 174.2 Q 188.2 174.2, 189.0 175.0 Q 189.8 175.8, 189.8 177.2 Q 189.8 178.7, 188.8 180.0 Q 187.7 181.4, 185.5 183.0 L 190.0 183.0 L 190.0 184.1 L 183.5 184.1 L 183.5 183.1 Q 185.3 181.9, 186.3 180.9 Q 187.4 179.9, 187.9 179.1 Q 188.5 178.2, 188.5 177.3 Q 188.5 176.4, 188.0 175.9 Q 187.5 175.3, 186.7 175.3 Q 185.9 175.3, 185.4 175.7 Q 184.9 176.0, 184.5 176.7 L 183.5 176.2 \" fill=\"#000000\"/>\n",
       "<path class=\"note\" d=\"M 79.5 109.6 Q 80.5 109.9, 80.9 110.5 Q 81.4 111.1, 81.4 112.1 Q 81.4 112.9, 81.0 113.6 Q 80.6 114.2, 79.8 114.6 Q 79.0 114.9, 78.1 114.9 Q 77.0 114.9, 76.2 114.5 Q 75.5 114.2, 74.9 113.4 L 75.6 112.6 Q 76.2 113.3, 76.7 113.6 Q 77.3 113.8, 78.1 113.8 Q 78.9 113.8, 79.5 113.3 Q 80.0 112.9, 80.0 112.1 Q 80.0 111.1, 79.4 110.7 Q 78.9 110.2, 77.7 110.2 L 77.0 110.2 L 77.0 109.2 L 77.6 109.2 Q 78.7 109.2, 79.2 108.7 Q 79.8 108.3, 79.8 107.4 Q 79.8 106.8, 79.3 106.4 Q 78.9 106.0, 78.1 106.0 Q 77.3 106.0, 76.8 106.3 Q 76.3 106.6, 75.9 107.3 L 74.9 106.8 Q 75.3 106.0, 76.1 105.5 Q 76.9 104.9, 78.1 104.9 Q 79.5 104.9, 80.3 105.6 Q 81.2 106.3, 81.2 107.4 Q 81.2 108.2, 80.8 108.8 Q 80.3 109.3, 79.5 109.6 \" fill=\"#000000\"/>\n",
       "<path class=\"note\" d=\"M 29.2 22.3 L 30.4 22.3 L 30.4 23.4 L 29.2 23.4 L 29.2 25.6 L 28.0 25.6 L 28.0 23.4 L 22.9 23.4 L 22.9 22.5 L 27.2 15.9 L 29.2 15.9 L 29.2 22.3 M 24.5 22.3 L 28.0 22.3 L 28.0 16.8 L 24.5 22.3 \" fill=\"#000000\"/>\n",
       "<path class=\"note\" d=\"M 26.9 177.9 Q 27.8 177.9, 28.5 178.3 Q 29.2 178.7, 29.6 179.3 Q 30.0 180.0, 30.0 180.9 Q 30.0 181.9, 29.5 182.7 Q 29.0 183.4, 28.2 183.7 Q 27.4 184.1, 26.5 184.1 Q 25.6 184.1, 24.8 183.8 Q 23.9 183.5, 23.4 182.8 L 24.2 182.0 Q 24.7 182.5, 25.3 182.7 Q 25.9 183.0, 26.5 183.0 Q 27.4 183.0, 28.0 182.5 Q 28.6 181.9, 28.6 181.0 Q 28.6 179.9, 28.0 179.5 Q 27.4 179.0, 26.4 179.0 Q 25.6 179.0, 24.6 179.3 L 23.9 179.0 L 24.4 174.3 L 29.4 174.3 L 29.2 175.4 L 25.5 175.4 L 25.2 178.3 Q 26.1 177.9, 26.9 177.9 \" fill=\"#000000\"/>\n",
       "</svg>"
      ],
      "text/plain": [
       "<IPython.core.display.SVG object>"
      ]
     },
     "execution_count": 14,
     "metadata": {},
     "output_type": "execute_result"
    }
   ],
   "source": [
    "subsmi = rdmolfiles.MolFragmentToSmiles(\n",
    "    mol=mol1,\n",
    "    atomsToUse=(3,4,5,6,7,8)\n",
    ")\n",
    "submol = Chem.MolFromSmiles(subsmi)\n",
    "SVG(draw_molecule(submol, draw_options={\"addAtomIndices\": True}))"
   ]
  },
  {
   "cell_type": "code",
   "execution_count": 17,
   "metadata": {},
   "outputs": [
    {
     "data": {
      "image/svg+xml": [
       "<svg xmlns=\"http://www.w3.org/2000/svg\" xmlns:rdkit=\"http://www.rdkit.org/xml\" xmlns:xlink=\"http://www.w3.org/1999/xlink\" version=\"1.1\" baseProfile=\"full\" xml:space=\"preserve\" width=\"200px\" height=\"200px\" viewBox=\"0 0 200 200\">\n",
       "<!-- END OF HEADER -->\n",
       "<rect style=\"opacity:1.0;fill:#FFFFFF;stroke:none\" width=\"200.0\" height=\"200.0\" x=\"0.0\" y=\"0.0\"> </rect>\n",
       "<path class=\"bond-0 atom-0 atom-1\" d=\"M 13.8,100.9 L 23.1,96.2\" style=\"fill:none;fill-rule:evenodd;stroke:#000000;stroke-width:2.0px;stroke-linecap:butt;stroke-linejoin:miter;stroke-opacity:1\"/>\n",
       "<path class=\"bond-0 atom-0 atom-1\" d=\"M 23.1,96.2 L 32.5,91.5\" style=\"fill:none;fill-rule:evenodd;stroke:#CCCC00;stroke-width:2.0px;stroke-linecap:butt;stroke-linejoin:miter;stroke-opacity:1\"/>\n",
       "<path class=\"bond-1 atom-1 atom-2\" d=\"M 48.4,92.7 L 52.8,95.6\" style=\"fill:none;fill-rule:evenodd;stroke:#CCCC00;stroke-width:2.0px;stroke-linecap:butt;stroke-linejoin:miter;stroke-opacity:1\"/>\n",
       "<path class=\"bond-1 atom-1 atom-2\" d=\"M 52.8,95.6 L 57.3,98.5\" style=\"fill:none;fill-rule:evenodd;stroke:#000000;stroke-width:2.0px;stroke-linecap:butt;stroke-linejoin:miter;stroke-opacity:1\"/>\n",
       "<path class=\"bond-2 atom-2 atom-3\" d=\"M 74.2,99.3 L 83.2,94.8\" style=\"fill:none;fill-rule:evenodd;stroke:#000000;stroke-width:2.0px;stroke-linecap:butt;stroke-linejoin:miter;stroke-opacity:1\"/>\n",
       "<path class=\"bond-3 atom-3 atom-4\" d=\"M 100.2,95.7 L 108.9,101.4\" style=\"fill:none;fill-rule:evenodd;stroke:#000000;stroke-width:2.0px;stroke-linecap:butt;stroke-linejoin:miter;stroke-opacity:1\"/>\n",
       "<path class=\"bond-4 atom-4 atom-5\" d=\"M 114.3,113.2 L 113.8,122.1\" style=\"fill:none;fill-rule:evenodd;stroke:#000000;stroke-width:2.0px;stroke-linecap:butt;stroke-linejoin:miter;stroke-opacity:1\"/>\n",
       "<path class=\"bond-4 atom-4 atom-5\" d=\"M 113.8,122.1 L 113.3,131.1\" style=\"fill:none;fill-rule:evenodd;stroke:#FF0000;stroke-width:2.0px;stroke-linecap:butt;stroke-linejoin:miter;stroke-opacity:1\"/>\n",
       "<path class=\"bond-4 atom-4 atom-5\" d=\"M 118.8,113.4 L 118.3,122.4\" style=\"fill:none;fill-rule:evenodd;stroke:#000000;stroke-width:2.0px;stroke-linecap:butt;stroke-linejoin:miter;stroke-opacity:1\"/>\n",
       "<path class=\"bond-4 atom-4 atom-5\" d=\"M 118.3,122.4 L 117.8,131.3\" style=\"fill:none;fill-rule:evenodd;stroke:#FF0000;stroke-width:2.0px;stroke-linecap:butt;stroke-linejoin:miter;stroke-opacity:1\"/>\n",
       "<path class=\"bond-5 atom-4 atom-6\" d=\"M 126.2,102.0 L 134.6,97.8\" style=\"fill:none;fill-rule:evenodd;stroke:#000000;stroke-width:2.0px;stroke-linecap:butt;stroke-linejoin:miter;stroke-opacity:1\"/>\n",
       "<path class=\"bond-6 atom-6 atom-7\" d=\"M 146.0,89.5 L 146.6,79.2\" style=\"fill:none;fill-rule:evenodd;stroke:#000000;stroke-width:2.0px;stroke-linecap:butt;stroke-linejoin:miter;stroke-opacity:1\"/>\n",
       "<path class=\"bond-6 atom-6 atom-7\" d=\"M 146.6,79.2 L 147.2,69.0\" style=\"fill:none;fill-rule:evenodd;stroke:#FF0000;stroke-width:2.0px;stroke-linecap:butt;stroke-linejoin:miter;stroke-opacity:1\"/>\n",
       "<path class=\"bond-6 atom-6 atom-7\" d=\"M 141.5,89.2 L 142.1,79.0\" style=\"fill:none;fill-rule:evenodd;stroke:#000000;stroke-width:2.0px;stroke-linecap:butt;stroke-linejoin:miter;stroke-opacity:1\"/>\n",
       "<path class=\"bond-6 atom-6 atom-7\" d=\"M 142.1,79.0 L 142.7,68.7\" style=\"fill:none;fill-rule:evenodd;stroke:#FF0000;stroke-width:2.0px;stroke-linecap:butt;stroke-linejoin:miter;stroke-opacity:1\"/>\n",
       "<path class=\"bond-7 atom-6 atom-8\" d=\"M 151.7,98.6 L 157.7,102.5\" style=\"fill:none;fill-rule:evenodd;stroke:#000000;stroke-width:2.0px;stroke-linecap:butt;stroke-linejoin:miter;stroke-opacity:1\"/>\n",
       "<path class=\"bond-7 atom-6 atom-8\" d=\"M 157.7,102.5 L 163.6,106.4\" style=\"fill:none;fill-rule:evenodd;stroke:#FF0000;stroke-width:2.0px;stroke-linecap:butt;stroke-linejoin:miter;stroke-opacity:1\"/>\n",
       "<path class=\"atom-1\" d=\"M 33.8 90.4 Q 33.9 90.4, 34.3 90.6 Q 34.6 90.8, 35.1 90.9 Q 35.5 91.0, 35.9 91.0 Q 36.7 91.0, 37.2 90.6 Q 37.7 90.2, 37.7 89.5 Q 37.7 89.0, 37.4 88.8 Q 37.2 88.5, 36.9 88.3 Q 36.5 88.2, 35.9 88.0 Q 35.1 87.7, 34.7 87.5 Q 34.3 87.3, 33.9 86.9 Q 33.6 86.4, 33.6 85.6 Q 33.6 84.6, 34.3 83.9 Q 35.1 83.3, 36.5 83.3 Q 37.5 83.3, 38.6 83.7 L 38.3 84.7 Q 37.3 84.2, 36.5 84.2 Q 35.7 84.2, 35.3 84.6 Q 34.8 84.9, 34.8 85.5 Q 34.8 86.0, 35.0 86.2 Q 35.3 86.5, 35.6 86.7 Q 36.0 86.8, 36.5 87.0 Q 37.3 87.2, 37.7 87.5 Q 38.2 87.7, 38.5 88.2 Q 38.9 88.7, 38.9 89.5 Q 38.9 90.7, 38.1 91.3 Q 37.3 91.9, 36.0 91.9 Q 35.2 91.9, 34.7 91.8 Q 34.1 91.6, 33.4 91.3 L 33.8 90.4 \" fill=\"#CCCC00\"/>\n",
       "<path class=\"atom-1\" d=\"M 39.8 90.3 L 41.0 90.3 L 41.0 91.5 L 39.8 91.5 L 39.8 90.3 M 39.8 86.2 L 41.0 86.2 L 41.0 87.4 L 39.8 87.4 L 39.8 86.2 \" fill=\"#CCCC00\"/>\n",
       "<path class=\"atom-1\" d=\"M 42.7 90.7 L 44.6 90.7 L 44.6 84.4 L 42.6 85.1 L 42.3 84.4 L 44.9 83.2 L 45.7 83.3 L 45.7 90.7 L 47.4 90.7 L 47.4 91.7 L 42.7 91.7 L 42.7 90.7 \" fill=\"#CCCC00\"/>\n",
       "<path class=\"atom-2\" d=\"M 57.5 103.8 Q 57.5 101.7, 58.5 100.6 Q 59.5 99.5, 61.4 99.5 Q 63.1 99.5, 64.0 100.7 L 63.3 101.4 Q 62.6 100.5, 61.4 100.5 Q 60.1 100.5, 59.4 101.4 Q 58.7 102.2, 58.7 103.8 Q 58.7 105.5, 59.4 106.4 Q 60.1 107.2, 61.5 107.2 Q 62.4 107.2, 63.5 106.7 L 63.8 107.5 Q 63.4 107.8, 62.7 108.0 Q 62.1 108.2, 61.3 108.2 Q 59.5 108.2, 58.5 107.0 Q 57.5 105.9, 57.5 103.8 \" fill=\"#000000\"/>\n",
       "<path class=\"atom-2\" d=\"M 65.0 106.7 L 66.2 106.7 L 66.2 107.9 L 65.0 107.9 L 65.0 106.7 M 65.0 102.6 L 66.2 102.6 L 66.2 103.8 L 65.0 103.8 L 65.0 102.6 \" fill=\"#000000\"/>\n",
       "<path class=\"atom-2\" d=\"M 67.5 101.2 Q 67.8 100.4, 68.6 100.0 Q 69.3 99.5, 70.3 99.5 Q 71.6 99.5, 72.3 100.2 Q 73.0 100.9, 73.0 102.1 Q 73.0 103.4, 72.1 104.6 Q 71.2 105.7, 69.3 107.1 L 73.2 107.1 L 73.2 108.1 L 67.5 108.1 L 67.5 107.3 Q 69.1 106.1, 70.0 105.3 Q 70.9 104.5, 71.4 103.7 Q 71.9 103.0, 71.9 102.2 Q 71.9 101.4, 71.4 100.9 Q 71.0 100.5, 70.3 100.5 Q 69.7 100.5, 69.2 100.7 Q 68.7 101.0, 68.4 101.6 L 67.5 101.2 \" fill=\"#000000\"/>\n",
       "<path class=\"atom-3\" d=\"M 84.2 90.4 Q 84.2 88.3, 85.1 87.2 Q 86.1 86.1, 88.0 86.1 Q 89.7 86.1, 90.7 87.3 L 89.9 88.0 Q 89.2 87.1, 88.0 87.1 Q 86.7 87.1, 86.0 87.9 Q 85.4 88.8, 85.4 90.4 Q 85.4 92.1, 86.1 92.9 Q 86.8 93.8, 88.1 93.8 Q 89.1 93.8, 90.1 93.2 L 90.5 94.1 Q 90.0 94.4, 89.4 94.6 Q 88.7 94.7, 88.0 94.7 Q 86.1 94.7, 85.1 93.6 Q 84.2 92.5, 84.2 90.4 \" fill=\"#000000\"/>\n",
       "<path class=\"atom-3\" d=\"M 91.6 93.2 L 92.8 93.2 L 92.8 94.4 L 91.6 94.4 L 91.6 93.2 M 91.6 89.1 L 92.8 89.1 L 92.8 90.3 L 91.6 90.3 L 91.6 89.1 \" fill=\"#000000\"/>\n",
       "<path class=\"atom-3\" d=\"M 98.2 90.2 Q 99.0 90.4, 99.4 91.0 Q 99.8 91.5, 99.8 92.3 Q 99.8 93.0, 99.4 93.6 Q 99.1 94.1, 98.4 94.4 Q 97.8 94.7, 96.9 94.7 Q 96.0 94.7, 95.3 94.4 Q 94.7 94.1, 94.1 93.5 L 94.8 92.8 Q 95.3 93.3, 95.8 93.6 Q 96.2 93.8, 96.9 93.8 Q 97.7 93.8, 98.1 93.4 Q 98.6 93.0, 98.6 92.3 Q 98.6 91.4, 98.1 91.1 Q 97.6 90.7, 96.6 90.7 L 96.0 90.7 L 96.0 89.8 L 96.5 89.8 Q 97.5 89.8, 97.9 89.4 Q 98.4 89.0, 98.4 88.2 Q 98.4 87.7, 98.0 87.4 Q 97.6 87.0, 96.9 87.0 Q 96.2 87.0, 95.8 87.3 Q 95.4 87.5, 95.0 88.2 L 94.2 87.7 Q 94.5 87.0, 95.2 86.6 Q 95.9 86.1, 96.9 86.1 Q 98.2 86.1, 98.9 86.7 Q 99.6 87.3, 99.6 88.2 Q 99.6 88.9, 99.3 89.4 Q 98.9 89.9, 98.2 90.2 \" fill=\"#000000\"/>\n",
       "<path class=\"atom-4\" d=\"M 108.7 106.7 Q 108.7 104.6, 109.6 103.5 Q 110.6 102.4, 112.5 102.4 Q 114.2 102.4, 115.2 103.7 L 114.4 104.3 Q 113.7 103.4, 112.5 103.4 Q 111.2 103.4, 110.5 104.3 Q 109.9 105.1, 109.9 106.7 Q 109.9 108.4, 110.6 109.3 Q 111.3 110.1, 112.6 110.1 Q 113.6 110.1, 114.7 109.6 L 115.0 110.5 Q 114.5 110.7, 113.9 110.9 Q 113.2 111.1, 112.5 111.1 Q 110.6 111.1, 109.6 110.0 Q 108.7 108.8, 108.7 106.7 \" fill=\"#000000\"/>\n",
       "<path class=\"atom-4\" d=\"M 116.1 109.6 L 117.3 109.6 L 117.3 110.8 L 116.1 110.8 L 116.1 109.6 M 116.1 105.5 L 117.3 105.5 L 117.3 106.7 L 116.1 106.7 L 116.1 105.5 \" fill=\"#000000\"/>\n",
       "<path class=\"atom-4\" d=\"M 124.2 108.1 L 125.2 108.1 L 125.2 109.0 L 124.2 109.0 L 124.2 111.0 L 123.1 111.0 L 123.1 109.0 L 118.7 109.0 L 118.7 108.3 L 122.4 102.5 L 124.2 102.5 L 124.2 108.1 M 120.1 108.1 L 123.1 108.1 L 123.1 103.3 L 120.1 108.1 \" fill=\"#000000\"/>\n",
       "<path class=\"atom-5\" d=\"M 111.4 136.5 Q 111.4 134.5, 112.4 133.3 Q 113.4 132.2, 115.3 132.2 Q 117.1 132.2, 118.1 133.3 Q 119.1 134.5, 119.1 136.5 Q 119.1 138.5, 118.1 139.7 Q 117.1 140.9, 115.3 140.9 Q 113.4 140.9, 112.4 139.7 Q 111.4 138.6, 111.4 136.5 M 115.3 139.9 Q 116.5 139.9, 117.2 139.1 Q 117.9 138.2, 117.9 136.5 Q 117.9 134.8, 117.2 134.0 Q 116.5 133.2, 115.3 133.2 Q 114.0 133.2, 113.3 134.0 Q 112.6 134.8, 112.6 136.5 Q 112.6 138.2, 113.3 139.1 Q 114.0 139.9, 115.3 139.9 \" fill=\"#FF0000\"/>\n",
       "<path class=\"atom-5\" d=\"M 120.2 139.3 L 121.4 139.3 L 121.4 140.5 L 120.2 140.5 L 120.2 139.3 M 120.2 135.2 L 121.4 135.2 L 121.4 136.4 L 120.2 136.4 L 120.2 135.2 \" fill=\"#FF0000\"/>\n",
       "<path class=\"atom-5\" d=\"M 125.9 135.5 Q 126.6 135.5, 127.2 135.8 Q 127.8 136.1, 128.2 136.7 Q 128.5 137.3, 128.5 138.1 Q 128.5 138.9, 128.1 139.6 Q 127.7 140.2, 127.0 140.5 Q 126.3 140.8, 125.5 140.8 Q 124.7 140.8, 124.0 140.5 Q 123.3 140.3, 122.8 139.7 L 123.5 139.0 Q 123.9 139.4, 124.4 139.6 Q 125.0 139.9, 125.5 139.9 Q 126.3 139.9, 126.8 139.4 Q 127.3 138.9, 127.3 138.1 Q 127.3 137.2, 126.8 136.8 Q 126.3 136.3, 125.5 136.3 Q 124.7 136.3, 123.9 136.7 L 123.2 136.4 L 123.6 132.3 L 128.0 132.3 L 127.9 133.2 L 124.6 133.2 L 124.4 135.8 Q 125.1 135.5, 125.9 135.5 \" fill=\"#FF0000\"/>\n",
       "<path class=\"atom-6\" d=\"M 135.6 93.3 Q 135.6 91.2, 136.6 90.1 Q 137.6 89.0, 139.5 89.0 Q 141.2 89.0, 142.1 90.2 L 141.4 90.9 Q 140.7 90.0, 139.5 90.0 Q 138.2 90.0, 137.5 90.8 Q 136.8 91.7, 136.8 93.3 Q 136.8 95.0, 137.5 95.8 Q 138.2 96.7, 139.6 96.7 Q 140.5 96.7, 141.6 96.1 L 142.0 97.0 Q 141.5 97.3, 140.8 97.5 Q 140.2 97.6, 139.4 97.6 Q 137.6 97.6, 136.6 96.5 Q 135.6 95.4, 135.6 93.3 \" fill=\"#000000\"/>\n",
       "<path class=\"atom-6\" d=\"M 143.1 96.1 L 144.3 96.1 L 144.3 97.3 L 143.1 97.3 L 143.1 96.1 M 143.1 92.0 L 144.3 92.0 L 144.3 93.2 L 143.1 93.2 L 143.1 92.0 \" fill=\"#000000\"/>\n",
       "<path class=\"atom-6\" d=\"M 148.9 92.3 Q 149.7 92.3, 150.2 92.6 Q 150.8 92.9, 151.2 93.5 Q 151.5 94.1, 151.5 94.8 Q 151.5 95.6, 151.1 96.3 Q 150.7 96.9, 150.1 97.3 Q 149.5 97.6, 148.6 97.6 Q 147.1 97.6, 146.4 96.6 Q 145.6 95.6, 145.6 93.6 Q 145.6 91.3, 146.5 90.2 Q 147.5 89.0, 149.3 89.0 Q 149.8 89.0, 150.3 89.1 Q 150.7 89.2, 151.1 89.5 L 150.7 90.3 Q 150.1 89.9, 149.3 89.9 Q 148.1 89.9, 147.5 90.7 Q 146.9 91.5, 146.8 93.1 Q 147.2 92.7, 147.8 92.5 Q 148.3 92.3, 148.9 92.3 M 148.6 96.6 Q 149.1 96.6, 149.5 96.4 Q 149.8 96.2, 150.1 95.8 Q 150.3 95.3, 150.3 94.8 Q 150.3 94.1, 149.9 93.6 Q 149.4 93.2, 148.7 93.2 Q 148.2 93.2, 147.7 93.4 Q 147.2 93.6, 146.8 94.0 Q 146.9 95.4, 147.3 96.0 Q 147.8 96.6, 148.6 96.6 \" fill=\"#000000\"/>\n",
       "<path class=\"atom-7\" d=\"M 141.4 63.5 Q 141.4 61.5, 142.4 60.3 Q 143.4 59.2, 145.2 59.2 Q 147.1 59.2, 148.1 60.3 Q 149.1 61.5, 149.1 63.5 Q 149.1 65.6, 148.1 66.7 Q 147.1 67.9, 145.2 67.9 Q 143.4 67.9, 142.4 66.7 Q 141.4 65.6, 141.4 63.5 M 145.2 66.9 Q 146.5 66.9, 147.2 66.1 Q 147.9 65.2, 147.9 63.5 Q 147.9 61.8, 147.2 61.0 Q 146.5 60.2, 145.2 60.2 Q 143.9 60.2, 143.2 61.0 Q 142.5 61.8, 142.5 63.5 Q 142.5 65.2, 143.2 66.1 Q 143.9 66.9, 145.2 66.9 \" fill=\"#FF0000\"/>\n",
       "<path class=\"atom-7\" d=\"M 150.2 66.4 L 151.4 66.4 L 151.4 67.6 L 150.2 67.6 L 150.2 66.4 M 150.2 62.3 L 151.4 62.3 L 151.4 63.4 L 150.2 63.4 L 150.2 62.3 \" fill=\"#FF0000\"/>\n",
       "<path class=\"atom-7\" d=\"M 157.2 60.3 L 152.8 60.3 L 152.8 59.3 L 158.4 59.3 L 158.4 60.2 L 155.0 67.8 L 153.8 67.8 L 157.2 60.3 \" fill=\"#FF0000\"/>\n",
       "<path class=\"atom-8\" d=\"M 164.6 109.6 Q 164.6 107.6, 165.6 106.5 Q 166.6 105.3, 168.5 105.3 Q 170.4 105.3, 171.4 106.5 Q 172.4 107.6, 172.4 109.6 Q 172.4 111.7, 171.4 112.8 Q 170.3 114.0, 168.5 114.0 Q 166.6 114.0, 165.6 112.8 Q 164.6 111.7, 164.6 109.6 M 168.5 113.0 Q 169.8 113.0, 170.5 112.2 Q 171.2 111.3, 171.2 109.6 Q 171.2 108.0, 170.5 107.1 Q 169.8 106.3, 168.5 106.3 Q 167.2 106.3, 166.5 107.1 Q 165.8 108.0, 165.8 109.6 Q 165.8 111.3, 166.5 112.2 Q 167.2 113.0, 168.5 113.0 \" fill=\"#FF0000\"/>\n",
       "<path class=\"atom-8\" d=\"M 173.5 112.5 L 174.7 112.5 L 174.7 113.7 L 173.5 113.7 L 173.5 112.5 M 173.5 108.4 L 174.7 108.4 L 174.7 109.6 L 173.5 109.6 L 173.5 108.4 \" fill=\"#FF0000\"/>\n",
       "<path class=\"atom-8\" d=\"M 180.4 109.4 Q 181.2 109.7, 181.7 110.2 Q 182.1 110.7, 182.1 111.6 Q 182.1 112.3, 181.7 112.8 Q 181.4 113.4, 180.7 113.7 Q 180.0 114.0, 179.2 114.0 Q 177.8 114.0, 176.9 113.3 Q 176.1 112.7, 176.1 111.6 Q 176.1 110.9, 176.5 110.3 Q 176.9 109.8, 177.6 109.4 Q 177.0 109.1, 176.7 108.7 Q 176.4 108.2, 176.4 107.5 Q 176.4 106.5, 177.2 105.9 Q 177.9 105.3, 179.1 105.3 Q 180.3 105.3, 181.1 105.9 Q 181.8 106.5, 181.8 107.5 Q 181.8 108.1, 181.4 108.6 Q 181.1 109.0, 180.4 109.4 M 179.1 106.2 Q 178.4 106.2, 178.0 106.6 Q 177.6 106.9, 177.6 107.5 Q 177.6 107.9, 177.9 108.2 Q 178.2 108.5, 178.5 108.7 Q 178.9 108.8, 179.6 109.1 Q 180.2 108.7, 180.4 108.4 Q 180.6 108.0, 180.6 107.5 Q 180.6 106.9, 180.2 106.6 Q 179.8 106.2, 179.1 106.2 M 179.2 113.1 Q 180.0 113.1, 180.4 112.7 Q 180.9 112.2, 180.9 111.5 Q 180.9 111.1, 180.7 110.8 Q 180.4 110.5, 180.0 110.3 Q 179.7 110.2, 179.0 110.0 L 178.5 109.8 Q 177.9 110.1, 177.6 110.6 Q 177.3 111.0, 177.3 111.5 Q 177.3 112.2, 177.8 112.7 Q 178.3 113.1, 179.2 113.1 \" fill=\"#FF0000\"/>\n",
       "<path class=\"atom-8\" d=\"M 183.4 105.4 L 184.5 105.4 L 184.5 109.0 L 188.9 109.0 L 188.9 105.4 L 190.0 105.4 L 190.0 113.9 L 188.9 113.9 L 188.9 110.0 L 184.5 110.0 L 184.5 113.9 L 183.4 113.9 L 183.4 105.4 \" fill=\"#FF0000\"/>\n",
       "<path class=\"note\" d=\"M 11.5 98.6 Q 10.8 98.6, 10.4 98.1 Q 10.0 97.5, 10.0 96.5 Q 10.0 95.4, 10.4 94.9 Q 10.8 94.3, 11.5 94.3 Q 12.3 94.3, 12.7 94.9 Q 13.1 95.4, 13.1 96.5 Q 13.1 97.5, 12.7 98.1 Q 12.3 98.6, 11.5 98.6 M 11.5 98.2 Q 12.0 98.2, 12.2 97.7 Q 12.5 97.3, 12.5 96.5 Q 12.5 95.6, 12.2 95.2 Q 12.0 94.8, 11.5 94.8 Q 11.1 94.8, 10.8 95.2 Q 10.6 95.6, 10.6 96.5 Q 10.6 97.3, 10.8 97.7 Q 11.1 98.2, 11.5 98.2 \" fill=\"#000000\"/>\n",
       "<path class=\"note\" d=\"M 39.9 79.2 L 40.9 79.2 L 40.9 76.0 L 39.8 76.3 L 39.7 76.0 L 41.0 75.4 L 41.4 75.5 L 41.4 79.2 L 42.2 79.2 L 42.2 79.6 L 39.9 79.6 L 39.9 79.2 \" fill=\"#000000\"/>\n",
       "<path class=\"note\" d=\"M 63.4 112.4 Q 63.5 112.0, 63.9 111.8 Q 64.3 111.6, 64.8 111.6 Q 65.4 111.6, 65.8 111.9 Q 66.1 112.3, 66.1 112.9 Q 66.1 113.5, 65.7 114.1 Q 65.2 114.7, 64.3 115.4 L 66.2 115.4 L 66.2 115.9 L 63.4 115.9 L 63.4 115.5 Q 64.2 114.9, 64.6 114.5 Q 65.1 114.1, 65.3 113.7 Q 65.6 113.3, 65.6 112.9 Q 65.6 112.5, 65.3 112.3 Q 65.1 112.1, 64.8 112.1 Q 64.5 112.1, 64.2 112.2 Q 64.0 112.3, 63.8 112.6 L 63.4 112.4 \" fill=\"#000000\"/>\n",
       "<path class=\"note\" d=\"M 93.1 80.3 Q 93.6 80.5, 93.8 80.7 Q 94.0 81.0, 94.0 81.4 Q 94.0 81.8, 93.8 82.0 Q 93.6 82.3, 93.3 82.5 Q 92.9 82.6, 92.5 82.6 Q 92.1 82.6, 91.7 82.5 Q 91.4 82.3, 91.1 82.0 L 91.5 81.6 Q 91.7 81.9, 91.9 82.0 Q 92.2 82.1, 92.5 82.1 Q 92.9 82.1, 93.1 81.9 Q 93.4 81.7, 93.4 81.4 Q 93.4 81.0, 93.1 80.8 Q 92.9 80.6, 92.4 80.6 L 92.1 80.6 L 92.1 80.2 L 92.3 80.2 Q 92.8 80.1, 93.0 80.0 Q 93.3 79.7, 93.3 79.4 Q 93.3 79.1, 93.1 78.9 Q 92.9 78.8, 92.5 78.8 Q 92.2 78.8, 91.9 78.9 Q 91.7 79.0, 91.6 79.3 L 91.2 79.1 Q 91.3 78.8, 91.7 78.5 Q 92.0 78.3, 92.5 78.3 Q 93.1 78.3, 93.5 78.6 Q 93.9 78.9, 93.9 79.4 Q 93.9 79.7, 93.7 80.0 Q 93.5 80.2, 93.1 80.3 \" fill=\"#000000\"/>\n",
       "<path class=\"note\" d=\"M 113.6 98.5 L 114.1 98.5 L 114.1 99.0 L 113.6 99.0 L 113.6 99.9 L 113.0 99.9 L 113.0 99.0 L 110.8 99.0 L 110.8 98.6 L 112.7 95.7 L 113.6 95.7 L 113.6 98.5 M 111.5 98.5 L 113.0 98.5 L 113.0 96.1 L 111.5 98.5 \" fill=\"#000000\"/>\n",
       "<path class=\"note\" d=\"M 114.8 145.9 Q 115.2 145.9, 115.5 146.0 Q 115.8 146.2, 115.9 146.5 Q 116.1 146.8, 116.1 147.2 Q 116.1 147.6, 115.9 147.9 Q 115.7 148.2, 115.4 148.4 Q 115.0 148.6, 114.6 148.6 Q 114.2 148.6, 113.9 148.4 Q 113.5 148.3, 113.3 148.0 L 113.6 147.6 Q 113.8 147.8, 114.1 148.0 Q 114.4 148.1, 114.6 148.1 Q 115.0 148.1, 115.3 147.8 Q 115.5 147.6, 115.5 147.2 Q 115.5 146.7, 115.3 146.5 Q 115.0 146.3, 114.6 146.3 Q 114.2 146.3, 113.8 146.5 L 113.5 146.3 L 113.7 144.3 L 115.9 144.3 L 115.8 144.8 L 114.2 144.8 L 114.1 146.0 Q 114.4 145.9, 114.8 145.9 \" fill=\"#000000\"/>\n",
       "<path class=\"note\" d=\"M 139.3 83.9 Q 139.6 83.9, 139.9 84.0 Q 140.2 84.2, 140.4 84.5 Q 140.5 84.8, 140.5 85.2 Q 140.5 85.6, 140.4 85.9 Q 140.2 86.2, 139.9 86.4 Q 139.5 86.6, 139.1 86.6 Q 138.4 86.6, 138.0 86.1 Q 137.6 85.5, 137.6 84.5 Q 137.6 83.4, 138.1 82.8 Q 138.5 82.2, 139.4 82.2 Q 139.7 82.2, 139.9 82.3 Q 140.2 82.4, 140.4 82.5 L 140.1 82.9 Q 139.8 82.7, 139.5 82.7 Q 138.9 82.7, 138.6 83.1 Q 138.2 83.5, 138.2 84.3 Q 138.4 84.1, 138.7 84.0 Q 139.0 83.9, 139.3 83.9 M 139.1 86.1 Q 139.4 86.1, 139.5 86.0 Q 139.7 85.8, 139.8 85.6 Q 139.9 85.4, 139.9 85.2 Q 139.9 84.8, 139.7 84.6 Q 139.5 84.4, 139.2 84.4 Q 138.9 84.4, 138.6 84.5 Q 138.4 84.6, 138.2 84.7 Q 138.2 85.4, 138.5 85.8 Q 138.7 86.1, 139.1 86.1 \" fill=\"#000000\"/>\n",
       "<path class=\"note\" d=\"M 146.6 51.9 L 144.4 51.9 L 144.4 51.4 L 147.2 51.4 L 147.2 51.9 L 145.5 55.7 L 144.9 55.7 L 146.6 51.9 \" fill=\"#000000\"/>\n",
       "<path class=\"note\" d=\"M 168.6 119.4 Q 169.0 119.6, 169.2 119.8 Q 169.4 120.1, 169.4 120.5 Q 169.4 120.9, 169.2 121.1 Q 169.1 121.4, 168.7 121.6 Q 168.4 121.7, 168.0 121.7 Q 167.3 121.7, 166.9 121.4 Q 166.5 121.1, 166.5 120.5 Q 166.5 120.2, 166.6 119.9 Q 166.8 119.6, 167.2 119.4 Q 166.9 119.3, 166.8 119.1 Q 166.6 118.8, 166.6 118.5 Q 166.6 118.0, 167.0 117.7 Q 167.3 117.4, 167.9 117.4 Q 168.6 117.4, 168.9 117.7 Q 169.3 118.0, 169.3 118.5 Q 169.3 118.8, 169.1 119.0 Q 168.9 119.2, 168.6 119.4 M 167.9 117.8 Q 167.6 117.8, 167.4 118.0 Q 167.2 118.2, 167.2 118.5 Q 167.2 118.7, 167.3 118.8 Q 167.5 119.0, 167.6 119.1 Q 167.8 119.1, 168.2 119.3 Q 168.5 119.1, 168.6 118.9 Q 168.7 118.7, 168.7 118.5 Q 168.7 118.2, 168.5 118.0 Q 168.3 117.8, 167.9 117.8 M 168.0 121.3 Q 168.4 121.3, 168.6 121.1 Q 168.8 120.8, 168.8 120.5 Q 168.8 120.3, 168.7 120.1 Q 168.6 120.0, 168.4 119.9 Q 168.2 119.8, 167.9 119.7 L 167.6 119.6 Q 167.3 119.8, 167.2 120.0 Q 167.0 120.2, 167.0 120.5 Q 167.0 120.8, 167.3 121.1 Q 167.5 121.3, 168.0 121.3 \" fill=\"#000000\"/>\n",
       "</svg>"
      ],
      "text/plain": [
       "<IPython.core.display.SVG object>"
      ]
     },
     "execution_count": 17,
     "metadata": {},
     "output_type": "execute_result"
    }
   ],
   "source": [
    "mol2 = deepcopy(mol1)\n",
    "for atom in mol2.GetAtoms():\n",
    "    atom.SetAtomMapNum(atom.GetIdx())\n",
    "\n",
    "SVG(draw_molecule(mol2, draw_options={\"addAtomIndices\": True}))"
   ]
  },
  {
   "cell_type": "code",
   "execution_count": 18,
   "metadata": {},
   "outputs": [
    {
     "data": {
      "image/svg+xml": [
       "<svg xmlns=\"http://www.w3.org/2000/svg\" xmlns:rdkit=\"http://www.rdkit.org/xml\" xmlns:xlink=\"http://www.w3.org/1999/xlink\" version=\"1.1\" baseProfile=\"full\" xml:space=\"preserve\" width=\"200px\" height=\"200px\" viewBox=\"0 0 200 200\">\n",
       "<!-- END OF HEADER -->\n",
       "<rect style=\"opacity:1.0;fill:#FFFFFF;stroke:none\" width=\"200.0\" height=\"200.0\" x=\"0.0\" y=\"0.0\"> </rect>\n",
       "<path class=\"bond-0 atom-0 atom-1\" d=\"M 157.1,60.8 L 140.7,89.2\" style=\"fill:none;fill-rule:evenodd;stroke:#000000;stroke-width:2.0px;stroke-linecap:butt;stroke-linejoin:miter;stroke-opacity:1\"/>\n",
       "<path class=\"bond-1 atom-1 atom-2\" d=\"M 137.2,110.6 L 145.4,124.8\" style=\"fill:none;fill-rule:evenodd;stroke:#000000;stroke-width:2.0px;stroke-linecap:butt;stroke-linejoin:miter;stroke-opacity:1\"/>\n",
       "<path class=\"bond-1 atom-1 atom-2\" d=\"M 145.4,124.8 L 153.6,139.0\" style=\"fill:none;fill-rule:evenodd;stroke:#FF0000;stroke-width:2.0px;stroke-linecap:butt;stroke-linejoin:miter;stroke-opacity:1\"/>\n",
       "<path class=\"bond-1 atom-1 atom-2\" d=\"M 144.4,106.4 L 152.6,120.7\" style=\"fill:none;fill-rule:evenodd;stroke:#000000;stroke-width:2.0px;stroke-linecap:butt;stroke-linejoin:miter;stroke-opacity:1\"/>\n",
       "<path class=\"bond-1 atom-1 atom-2\" d=\"M 152.6,120.7 L 160.8,134.9\" style=\"fill:none;fill-rule:evenodd;stroke:#FF0000;stroke-width:2.0px;stroke-linecap:butt;stroke-linejoin:miter;stroke-opacity:1\"/>\n",
       "<path class=\"bond-2 atom-1 atom-3\" d=\"M 118.0,98.8 L 96.3,98.8\" style=\"fill:none;fill-rule:evenodd;stroke:#000000;stroke-width:2.0px;stroke-linecap:butt;stroke-linejoin:miter;stroke-opacity:1\"/>\n",
       "<path class=\"bond-3 atom-3 atom-4\" d=\"M 70.4,106.6 L 62.2,120.9\" style=\"fill:none;fill-rule:evenodd;stroke:#000000;stroke-width:2.0px;stroke-linecap:butt;stroke-linejoin:miter;stroke-opacity:1\"/>\n",
       "<path class=\"bond-3 atom-3 atom-4\" d=\"M 62.2,120.9 L 54.0,135.1\" style=\"fill:none;fill-rule:evenodd;stroke:#FF0000;stroke-width:2.0px;stroke-linecap:butt;stroke-linejoin:miter;stroke-opacity:1\"/>\n",
       "<path class=\"bond-3 atom-3 atom-4\" d=\"M 77.6,110.8 L 69.4,125.0\" style=\"fill:none;fill-rule:evenodd;stroke:#000000;stroke-width:2.0px;stroke-linecap:butt;stroke-linejoin:miter;stroke-opacity:1\"/>\n",
       "<path class=\"bond-3 atom-3 atom-4\" d=\"M 69.4,125.0 L 61.2,139.2\" style=\"fill:none;fill-rule:evenodd;stroke:#FF0000;stroke-width:2.0px;stroke-linecap:butt;stroke-linejoin:miter;stroke-opacity:1\"/>\n",
       "<path class=\"bond-4 atom-3 atom-5\" d=\"M 74.1,89.0 L 66.0,74.9\" style=\"fill:none;fill-rule:evenodd;stroke:#000000;stroke-width:2.0px;stroke-linecap:butt;stroke-linejoin:miter;stroke-opacity:1\"/>\n",
       "<path class=\"bond-4 atom-3 atom-5\" d=\"M 66.0,74.9 L 57.8,60.8\" style=\"fill:none;fill-rule:evenodd;stroke:#FF0000;stroke-width:2.0px;stroke-linecap:butt;stroke-linejoin:miter;stroke-opacity:1\"/>\n",
       "<path class=\"atom-0\" d=\"M 156.8 50.9 Q 156.8 47.0, 158.6 44.9 Q 160.4 42.9, 163.9 42.9 Q 167.2 42.9, 168.9 45.2 L 167.4 46.3 Q 166.2 44.7, 163.9 44.7 Q 161.5 44.7, 160.3 46.3 Q 159.0 47.9, 159.0 50.9 Q 159.0 54.0, 160.3 55.6 Q 161.6 57.2, 164.2 57.2 Q 165.9 57.2, 167.9 56.1 L 168.5 57.8 Q 167.7 58.3, 166.5 58.6 Q 165.2 58.9, 163.9 58.9 Q 160.4 58.9, 158.6 56.9 Q 156.8 54.8, 156.8 50.9 \" fill=\"#000000\"/>\n",
       "<path class=\"atom-0\" d=\"M 170.6 56.1 L 172.8 56.1 L 172.8 58.4 L 170.6 58.4 L 170.6 56.1 M 170.6 48.5 L 172.8 48.5 L 172.8 50.7 L 170.6 50.7 L 170.6 48.5 \" fill=\"#000000\"/>\n",
       "<path class=\"atom-0\" d=\"M 182.8 50.5 Q 184.4 50.9, 185.1 51.9 Q 185.8 52.9, 185.8 54.4 Q 185.8 55.8, 185.2 56.8 Q 184.5 57.8, 183.3 58.4 Q 182.1 59.0, 180.5 59.0 Q 178.8 59.0, 177.5 58.4 Q 176.3 57.8, 175.3 56.6 L 176.6 55.3 Q 177.5 56.4, 178.4 56.8 Q 179.2 57.2, 180.5 57.2 Q 181.9 57.2, 182.8 56.4 Q 183.6 55.7, 183.6 54.4 Q 183.6 52.8, 182.7 52.1 Q 181.8 51.4, 179.9 51.4 L 178.8 51.4 L 178.8 49.8 L 179.8 49.8 Q 181.5 49.8, 182.4 49.0 Q 183.3 48.3, 183.3 46.9 Q 183.3 45.9, 182.5 45.3 Q 181.8 44.6, 180.5 44.6 Q 179.2 44.6, 178.4 45.1 Q 177.6 45.6, 177.0 46.7 L 175.4 45.9 Q 176.0 44.6, 177.3 43.8 Q 178.6 42.9, 180.5 42.9 Q 182.8 42.9, 184.2 44.0 Q 185.5 45.0, 185.5 46.9 Q 185.5 48.1, 184.8 49.1 Q 184.1 50.0, 182.8 50.5 \" fill=\"#000000\"/>\n",
       "<path class=\"atom-1\" d=\"M 119.8 98.8 Q 119.8 94.9, 121.6 92.9 Q 123.5 90.8, 126.9 90.8 Q 130.2 90.8, 131.9 93.1 L 130.4 94.3 Q 129.2 92.6, 126.9 92.6 Q 124.6 92.6, 123.3 94.2 Q 122.1 95.8, 122.1 98.8 Q 122.1 101.9, 123.3 103.5 Q 124.7 105.1, 127.2 105.1 Q 128.9 105.1, 130.9 104.1 L 131.5 105.7 Q 130.7 106.3, 129.5 106.6 Q 128.2 106.9, 126.9 106.9 Q 123.5 106.9, 121.6 104.8 Q 119.8 102.7, 119.8 98.8 \" fill=\"#000000\"/>\n",
       "<path class=\"atom-1\" d=\"M 133.7 104.1 L 135.9 104.1 L 135.9 106.3 L 133.7 106.3 L 133.7 104.1 M 133.7 96.5 L 135.9 96.5 L 135.9 98.7 L 133.7 98.7 L 133.7 96.5 \" fill=\"#000000\"/>\n",
       "<path class=\"atom-1\" d=\"M 148.6 101.3 L 150.5 101.3 L 150.5 103.1 L 148.6 103.1 L 148.6 106.7 L 146.5 106.7 L 146.5 103.1 L 138.4 103.1 L 138.4 101.7 L 145.3 91.0 L 148.6 91.0 L 148.6 101.3 M 141.0 101.3 L 146.5 101.3 L 146.5 92.4 L 141.0 101.3 \" fill=\"#000000\"/>\n",
       "<path class=\"atom-2\" d=\"M 155.6 146.8 Q 155.6 143.0, 157.5 140.9 Q 159.4 138.8, 162.8 138.8 Q 166.3 138.8, 168.2 140.9 Q 170.0 143.0, 170.0 146.8 Q 170.0 150.6, 168.2 152.7 Q 166.3 154.9, 162.8 154.9 Q 159.4 154.9, 157.5 152.7 Q 155.6 150.6, 155.6 146.8 M 162.8 153.1 Q 165.2 153.1, 166.5 151.5 Q 167.8 149.9, 167.8 146.8 Q 167.8 143.7, 166.5 142.1 Q 165.2 140.6, 162.8 140.6 Q 160.4 140.6, 159.1 142.1 Q 157.9 143.7, 157.9 146.8 Q 157.9 149.9, 159.1 151.5 Q 160.4 153.1, 162.8 153.1 \" fill=\"#FF0000\"/>\n",
       "<path class=\"atom-2\" d=\"M 172.0 152.1 L 174.3 152.1 L 174.3 154.3 L 172.0 154.3 L 172.0 152.1 M 172.0 144.4 L 174.3 144.4 L 174.3 146.7 L 172.0 146.7 L 172.0 144.4 \" fill=\"#FF0000\"/>\n",
       "<path class=\"atom-2\" d=\"M 182.5 144.8 Q 183.9 144.8, 185.0 145.4 Q 186.2 146.0, 186.8 147.1 Q 187.4 148.2, 187.4 149.7 Q 187.4 151.3, 186.6 152.5 Q 185.9 153.6, 184.6 154.2 Q 183.3 154.8, 181.8 154.8 Q 180.4 154.8, 179.1 154.3 Q 177.7 153.8, 176.8 152.7 L 178.2 151.4 Q 178.9 152.2, 179.9 152.6 Q 180.9 153.0, 181.9 153.0 Q 183.3 153.0, 184.3 152.2 Q 185.2 151.3, 185.2 149.7 Q 185.2 148.1, 184.3 147.3 Q 183.3 146.5, 181.8 146.5 Q 180.4 146.5, 178.9 147.1 L 177.7 146.5 L 178.4 139.0 L 186.5 139.0 L 186.2 140.7 L 180.2 140.7 L 179.8 145.4 Q 181.2 144.8, 182.5 144.8 \" fill=\"#FF0000\"/>\n",
       "<path class=\"atom-3\" d=\"M 65.1 98.8 Q 65.1 94.9, 66.9 92.9 Q 68.7 90.8, 72.2 90.8 Q 75.4 90.8, 77.2 93.1 L 75.7 94.3 Q 74.4 92.6, 72.2 92.6 Q 69.8 92.6, 68.6 94.2 Q 67.3 95.8, 67.3 98.8 Q 67.3 101.9, 68.6 103.5 Q 69.9 105.1, 72.4 105.1 Q 74.2 105.1, 76.2 104.1 L 76.8 105.7 Q 76.0 106.3, 74.7 106.6 Q 73.5 106.9, 72.1 106.9 Q 68.7 106.9, 66.9 104.8 Q 65.1 102.7, 65.1 98.8 \" fill=\"#000000\"/>\n",
       "<path class=\"atom-3\" d=\"M 78.9 104.1 L 81.1 104.1 L 81.1 106.3 L 78.9 106.3 L 78.9 104.1 M 78.9 96.5 L 81.1 96.5 L 81.1 98.7 L 78.9 98.7 L 78.9 96.5 \" fill=\"#000000\"/>\n",
       "<path class=\"atom-3\" d=\"M 89.7 96.9 Q 91.1 96.9, 92.2 97.5 Q 93.3 98.1, 93.9 99.2 Q 94.5 100.3, 94.5 101.6 Q 94.5 103.2, 93.8 104.4 Q 93.1 105.5, 91.9 106.2 Q 90.7 106.9, 89.2 106.9 Q 86.4 106.9, 85.0 105.0 Q 83.6 103.1, 83.6 99.3 Q 83.6 95.2, 85.3 93.0 Q 87.1 90.8, 90.4 90.8 Q 91.4 90.8, 92.2 91.1 Q 93.1 91.3, 93.9 91.7 L 93.0 93.2 Q 91.8 92.6, 90.4 92.6 Q 88.2 92.6, 87.1 94.0 Q 86.0 95.5, 85.8 98.4 Q 86.6 97.7, 87.6 97.3 Q 88.6 96.9, 89.7 96.9 M 89.2 105.1 Q 90.1 105.1, 90.7 104.6 Q 91.5 104.2, 91.9 103.4 Q 92.3 102.6, 92.3 101.7 Q 92.3 100.3, 91.5 99.5 Q 90.7 98.7, 89.3 98.7 Q 88.4 98.7, 87.4 99.1 Q 86.5 99.5, 85.8 100.1 Q 85.9 102.7, 86.7 103.9 Q 87.6 105.1, 89.2 105.1 \" fill=\"#000000\"/>\n",
       "<path class=\"atom-4\" d=\"M 25.7 146.8 Q 25.7 143.0, 27.5 140.9 Q 29.4 138.8, 32.9 138.8 Q 36.4 138.8, 38.2 140.9 Q 40.1 143.0, 40.1 146.8 Q 40.1 150.6, 38.2 152.7 Q 36.3 154.9, 32.9 154.9 Q 29.4 154.9, 27.5 152.7 Q 25.7 150.6, 25.7 146.8 M 32.9 153.1 Q 35.3 153.1, 36.6 151.5 Q 37.9 149.9, 37.9 146.8 Q 37.9 143.7, 36.6 142.1 Q 35.3 140.6, 32.9 140.6 Q 30.5 140.6, 29.2 142.1 Q 27.9 143.7, 27.9 146.8 Q 27.9 149.9, 29.2 151.5 Q 30.5 153.1, 32.9 153.1 \" fill=\"#FF0000\"/>\n",
       "<path class=\"atom-4\" d=\"M 42.1 152.1 L 44.3 152.1 L 44.3 154.3 L 42.1 154.3 L 42.1 152.1 M 42.1 144.4 L 44.3 144.4 L 44.3 146.7 L 42.1 146.7 L 42.1 144.4 \" fill=\"#FF0000\"/>\n",
       "<path class=\"atom-4\" d=\"M 55.1 140.7 L 46.9 140.7 L 46.9 139.0 L 57.3 139.0 L 57.3 140.5 L 50.9 154.7 L 48.8 154.7 L 55.1 140.7 \" fill=\"#FF0000\"/>\n",
       "<path class=\"atom-5\" d=\"M 10.0 43.0 L 12.1 43.0 L 12.1 49.7 L 20.1 49.7 L 20.1 43.0 L 22.3 43.0 L 22.3 58.7 L 20.1 58.7 L 20.1 51.5 L 12.1 51.5 L 12.1 58.7 L 10.0 58.7 L 10.0 43.0 \" fill=\"#FF0000\"/>\n",
       "<path class=\"atom-5\" d=\"M 25.2 50.8 Q 25.2 47.1, 27.0 45.0 Q 28.9 42.9, 32.4 42.9 Q 35.8 42.9, 37.7 45.0 Q 39.6 47.1, 39.6 50.8 Q 39.6 54.7, 37.7 56.8 Q 35.8 59.0, 32.4 59.0 Q 28.9 59.0, 27.0 56.8 Q 25.2 54.7, 25.2 50.8 M 32.4 57.2 Q 34.7 57.2, 36.0 55.6 Q 37.3 54.0, 37.3 50.8 Q 37.3 47.8, 36.0 46.2 Q 34.7 44.6, 32.4 44.6 Q 30.0 44.6, 28.7 46.2 Q 27.4 47.7, 27.4 50.8 Q 27.4 54.0, 28.7 55.6 Q 30.0 57.2, 32.4 57.2 \" fill=\"#FF0000\"/>\n",
       "<path class=\"atom-5\" d=\"M 41.7 56.1 L 43.9 56.1 L 43.9 58.4 L 41.7 58.4 L 41.7 56.1 M 41.7 48.5 L 43.9 48.5 L 43.9 50.7 L 41.7 50.7 L 41.7 48.5 \" fill=\"#FF0000\"/>\n",
       "<path class=\"atom-5\" d=\"M 54.5 50.4 Q 56.0 51.0, 56.8 52.0 Q 57.6 52.9, 57.6 54.4 Q 57.6 55.8, 56.9 56.8 Q 56.2 57.8, 55.0 58.4 Q 53.8 59.0, 52.2 59.0 Q 49.5 59.0, 48.0 57.8 Q 46.5 56.5, 46.5 54.4 Q 46.5 53.2, 47.2 52.2 Q 47.9 51.2, 49.2 50.5 Q 48.2 49.9, 47.7 49.1 Q 47.1 48.2, 47.1 46.9 Q 47.1 45.0, 48.4 44.0 Q 49.8 42.9, 52.1 42.9 Q 54.4 42.9, 55.7 44.0 Q 57.0 45.0, 57.0 46.9 Q 57.0 48.0, 56.4 48.9 Q 55.8 49.7, 54.5 50.4 M 52.1 44.5 Q 50.8 44.5, 50.0 45.2 Q 49.3 45.8, 49.3 46.9 Q 49.3 47.7, 49.8 48.3 Q 50.3 48.8, 51.0 49.1 Q 51.7 49.4, 53.0 49.9 Q 54.0 49.2, 54.4 48.5 Q 54.8 47.8, 54.8 46.9 Q 54.8 45.8, 54.1 45.2 Q 53.4 44.5, 52.1 44.5 M 52.2 57.3 Q 53.6 57.3, 54.5 56.5 Q 55.4 55.7, 55.4 54.4 Q 55.4 53.6, 54.9 53.0 Q 54.5 52.5, 53.8 52.2 Q 53.1 51.9, 51.8 51.5 L 50.8 51.2 Q 49.7 51.8, 49.2 52.6 Q 48.8 53.4, 48.8 54.4 Q 48.8 55.7, 49.7 56.5 Q 50.6 57.3, 52.2 57.3 \" fill=\"#FF0000\"/>\n",
       "<path class=\"note\" d=\"M 172.1 38.9 Q 170.6 38.9, 169.9 37.8 Q 169.2 36.7, 169.2 34.8 Q 169.2 33.0, 169.9 31.9 Q 170.6 30.9, 172.1 30.9 Q 173.5 30.9, 174.2 31.9 Q 174.9 33.0, 174.9 34.8 Q 174.9 36.7, 174.2 37.8 Q 173.5 38.9, 172.1 38.9 M 172.1 38.0 Q 172.9 38.0, 173.4 37.2 Q 173.8 36.4, 173.8 34.8 Q 173.8 33.3, 173.4 32.5 Q 172.9 31.7, 172.1 31.7 Q 171.2 31.7, 170.8 32.5 Q 170.3 33.3, 170.3 34.8 Q 170.3 36.4, 170.8 37.2 Q 171.2 38.0, 172.1 38.0 \" fill=\"#000000\"/>\n",
       "<path class=\"note\" d=\"M 124.0 117.8 L 125.7 117.8 L 125.7 111.9 L 123.8 112.5 L 123.5 111.9 L 126.0 110.8 L 126.7 110.9 L 126.7 117.8 L 128.3 117.8 L 128.3 118.7 L 124.0 118.7 L 124.0 117.8 \" fill=\"#000000\"/>\n",
       "<path class=\"note\" d=\"M 160.2 162.8 Q 160.5 162.0, 161.2 161.6 Q 161.9 161.2, 162.8 161.2 Q 164.0 161.2, 164.7 161.9 Q 165.3 162.5, 165.3 163.6 Q 165.3 164.8, 164.5 165.9 Q 163.6 167.0, 161.9 168.3 L 165.5 168.3 L 165.5 169.1 L 160.2 169.1 L 160.2 168.4 Q 161.7 167.4, 162.5 166.6 Q 163.4 165.8, 163.8 165.1 Q 164.2 164.4, 164.2 163.7 Q 164.2 162.9, 163.9 162.5 Q 163.5 162.1, 162.8 162.1 Q 162.2 162.1, 161.8 162.4 Q 161.4 162.6, 161.1 163.2 L 160.2 162.8 \" fill=\"#000000\"/>\n",
       "<path class=\"note\" d=\"M 90.1 114.6 Q 90.9 114.8, 91.3 115.3 Q 91.6 115.8, 91.6 116.6 Q 91.6 117.2, 91.3 117.8 Q 91.0 118.3, 90.4 118.5 Q 89.7 118.8, 88.9 118.8 Q 88.1 118.8, 87.5 118.5 Q 86.9 118.2, 86.4 117.6 L 87.0 117.0 Q 87.5 117.5, 87.9 117.7 Q 88.3 117.9, 88.9 117.9 Q 89.7 117.9, 90.1 117.6 Q 90.5 117.2, 90.5 116.6 Q 90.5 115.8, 90.1 115.4 Q 89.6 115.0, 88.7 115.0 L 88.1 115.0 L 88.1 114.2 L 88.6 114.2 Q 89.4 114.2, 89.9 113.9 Q 90.4 113.5, 90.4 112.8 Q 90.4 112.3, 90.0 112.0 Q 89.6 111.7, 89.0 111.7 Q 88.3 111.7, 87.9 111.9 Q 87.5 112.1, 87.2 112.7 L 86.4 112.3 Q 86.7 111.7, 87.4 111.2 Q 88.0 110.8, 89.0 110.8 Q 90.1 110.8, 90.8 111.3 Q 91.5 111.9, 91.5 112.8 Q 91.5 113.4, 91.1 113.9 Q 90.8 114.3, 90.1 114.6 \" fill=\"#000000\"/>\n",
       "<path class=\"note\" d=\"M 44.9 132.0 L 45.9 132.0 L 45.9 132.9 L 44.9 132.9 L 44.9 134.7 L 43.9 134.7 L 43.9 132.9 L 39.8 132.9 L 39.8 132.2 L 43.3 126.8 L 44.9 126.8 L 44.9 132.0 M 41.1 132.0 L 43.9 132.0 L 43.9 127.5 L 41.1 132.0 \" fill=\"#000000\"/>\n",
       "<path class=\"note\" d=\"M 43.0 33.8 Q 43.7 33.8, 44.3 34.1 Q 44.9 34.4, 45.2 35.0 Q 45.5 35.5, 45.5 36.3 Q 45.5 37.1, 45.1 37.7 Q 44.7 38.2, 44.1 38.5 Q 43.4 38.8, 42.7 38.8 Q 42.0 38.8, 41.3 38.6 Q 40.6 38.3, 40.2 37.8 L 40.9 37.1 Q 41.2 37.5, 41.7 37.7 Q 42.2 37.9, 42.7 37.9 Q 43.4 37.9, 43.9 37.5 Q 44.4 37.1, 44.4 36.3 Q 44.4 35.4, 43.9 35.1 Q 43.4 34.7, 42.7 34.7 Q 42.0 34.7, 41.2 35.0 L 40.6 34.7 L 41.0 30.9 L 45.0 30.9 L 44.9 31.8 L 41.9 31.8 L 41.7 34.1 Q 42.4 33.8, 43.0 33.8 \" fill=\"#000000\"/>\n",
       "<path class=\"atom-0\" d=\"M 190.3,50.8 L 190.3,50.9 L 190.3,51.0 L 190.2,51.1 L 190.2,51.2 L 190.2,51.3 L 190.1,51.3 L 190.1,51.4 L 190.0,51.5 L 190.0,51.6 L 189.9,51.6 L 189.8,51.7 L 189.7,51.8 L 189.7,51.8 L 189.6,51.8 L 189.5,51.9 L 189.4,51.9 L 189.3,51.9 L 189.2,51.9 L 189.1,51.9 L 189.0,51.9 L 188.9,51.9 L 188.8,51.9 L 188.7,51.8 L 188.6,51.8 L 188.6,51.7 L 188.5,51.7 L 188.4,51.6 L 188.3,51.5 L 188.3,51.5 L 188.2,51.4 L 188.2,51.3 L 188.1,51.2 L 188.1,51.1 L 188.1,51.0 L 188.1,50.9 L 188.1,50.9 L 188.1,50.8 L 188.1,50.7 L 188.1,50.6 L 188.1,50.5 L 188.1,50.4 L 188.2,50.3 L 188.2,50.2 L 188.3,50.1 L 188.3,50.1 L 188.4,50.0 L 188.5,49.9 L 188.6,49.9 L 188.6,49.8 L 188.7,49.8 L 188.8,49.8 L 188.9,49.7 L 189.0,49.7 L 189.1,49.7 L 189.2,49.7 L 189.3,49.7 L 189.4,49.7 L 189.5,49.7 L 189.6,49.8 L 189.7,49.8 L 189.7,49.9 L 189.8,49.9 L 189.9,50.0 L 190.0,50.0 L 190.0,50.1 L 190.1,50.2 L 190.1,50.3 L 190.2,50.3 L 190.2,50.4 L 190.2,50.5 L 190.3,50.6 L 190.3,50.7 L 190.3,50.8 L 189.2,50.8 Z\" style=\"fill:#000000;fill-rule:evenodd;fill-opacity:1;stroke:#000000;stroke-width:0.0px;stroke-linecap:butt;stroke-linejoin:miter;stroke-opacity:1;\"/>\n",
       "</svg>"
      ],
      "text/plain": [
       "<IPython.core.display.SVG object>"
      ]
     },
     "execution_count": 18,
     "metadata": {},
     "output_type": "execute_result"
    }
   ],
   "source": [
    "subsmi = rdmolfiles.MolFragmentToSmiles(\n",
    "    mol=mol2,\n",
    "    atomsToUse=(3,4,5,6,7,8)\n",
    ")\n",
    "submol = Chem.MolFromSmiles(subsmi)\n",
    "SVG(draw_molecule(submol, draw_options={\"addAtomIndices\": True}))"
   ]
  },
  {
   "cell_type": "code",
   "execution_count": 19,
   "metadata": {},
   "outputs": [
    {
     "data": {
      "text/plain": [
       "'[CH2:3][C:4](=[O:5])[C:6](=[O:7])[OH:8]'"
      ]
     },
     "execution_count": 19,
     "metadata": {},
     "output_type": "execute_result"
    }
   ],
   "source": [
    "subsmi"
   ]
  }
 ],
 "metadata": {
  "kernelspec": {
   "display_name": "hiec",
   "language": "python",
   "name": "python3"
  },
  "language_info": {
   "codemirror_mode": {
    "name": "ipython",
    "version": 3
   },
   "file_extension": ".py",
   "mimetype": "text/x-python",
   "name": "python",
   "nbconvert_exporter": "python",
   "pygments_lexer": "ipython3",
   "version": "3.11.5"
  }
 },
 "nbformat": 4,
 "nbformat_minor": 2
}
