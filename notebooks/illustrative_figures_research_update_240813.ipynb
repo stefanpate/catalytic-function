{
 "cells": [
  {
   "cell_type": "code",
   "execution_count": 1,
   "metadata": {},
   "outputs": [],
   "source": [
    "%load_ext autoreload\n",
    "%autoreload 2\n",
    "import numpy as np\n",
    "import pandas as pd\n",
    "import matplotlib.pyplot as plt\n",
    "from src.utils import load_json\n",
    "from src.similarity import fractionate,  extract_operator_patts # get_rcmcs_smarts_patt,\n",
    "from rdkit import Chem\n",
    "from rdkit.Chem import Draw, AllChem, rdFMCS\n",
    "from rdkit.Chem.Draw import IPythonConsole\n",
    "from IPython.display import display, SVG\n",
    "from itertools import chain\n",
    "from collections import Counter\n",
    "from src.utils import construct_sparse_adj_mat\n",
    "from src.cheminfo import draw_molecule, draw_reaction\n",
    "from omegaconf import OmegaConf\n",
    "from pathlib import Path\n",
    "filepaths = OmegaConf.load(\"../configs/filepaths/base.yaml\")"
   ]
  },
  {
   "cell_type": "code",
   "execution_count": 2,
   "metadata": {},
   "outputs": [],
   "source": [
    "def sort_pair_idx(n, i, j, i2id, krs):\n",
    "    ri = i2id[i[n]]\n",
    "    rj = i2id[j[n]]\n",
    "    smartsi = krs[ri]['smarts']\n",
    "    smartsj = krs[rj]['smarts']\n",
    "    return len(smartsi) + len(smartsj)"
   ]
  },
  {
   "cell_type": "code",
   "execution_count": 3,
   "metadata": {},
   "outputs": [],
   "source": [
    "krs = load_json(Path(filepaths.data) / \"sprhea/v3_folded_pt_ns.json\")"
   ]
  },
  {
   "cell_type": "code",
   "execution_count": 4,
   "metadata": {},
   "outputs": [],
   "source": [
    "# S = np.load(filepaths['sim_mats'] / \"sprhea_v3_folded_pt_ns_rcmcs.npy\")\n",
    "# i2id = load_json(\"/home/stef/hiec/artifacts/sim_mats/sprhea_v3_folded_pt_ns_rcmcs_sim_i_to_id.json\")\n",
    "# i2id = {int(k) : v for k, v in i2id.items()}\n",
    "# krs = load_json(filepaths['data'] / \"sprhea/v3_folded_pt_ns.json\")\n",
    "# krs = {int(k): v for k,v in krs.items()}\n",
    "# rules = pd.read_csv(\n",
    "#             filepath_or_buffer=filepaths['data'] / 'minimal1224_all_uniprot.tsv',\n",
    "#             sep='\\t'\n",
    "#         ).set_index('Name')\n",
    "# rules.head()"
   ]
  },
  {
   "cell_type": "code",
   "execution_count": 5,
   "metadata": {},
   "outputs": [],
   "source": [
    "# n = srt_ns[x]\n",
    "# ri = i2id[i[n]]\n",
    "# rj = i2id[j[n]]\n",
    "# smartsi = krs[ri]['smarts']\n",
    "# smartsj = krs[rj]['smarts']\n",
    "# x += 1\n",
    "# AllChem.ReactionFromSmarts(smartsi, useSmiles=True)"
   ]
  },
  {
   "cell_type": "code",
   "execution_count": 6,
   "metadata": {},
   "outputs": [],
   "source": [
    "# AllChem.ReactionFromSmarts(smartsj, useSmiles=True)"
   ]
  },
  {
   "cell_type": "code",
   "execution_count": 7,
   "metadata": {},
   "outputs": [],
   "source": [
    "# print(ri, rj)"
   ]
  },
  {
   "cell_type": "code",
   "execution_count": 8,
   "metadata": {},
   "outputs": [],
   "source": [
    "# ub = 0.6\n",
    "# ep = 1e-4\n",
    "# i, j =np.where(abs(S - ub) < ep)\n",
    "# print(S[i[0], j[0]])\n",
    "# ns = [x for x in range(len(i))]\n",
    "# srt_ns = sorted(ns, key=lambda x : sort_pair_idx(x, i, j, i2id, krs))\n",
    "# x = 10"
   ]
  },
  {
   "cell_type": "code",
   "execution_count": 9,
   "metadata": {},
   "outputs": [],
   "source": [
    "# n = srt_ns[x]\n",
    "# ri = i2id[i[n]]\n",
    "# rj = i2id[j[n]]\n",
    "# smartsi = krs[ri]['smarts']\n",
    "# smartsj = krs[rj]['smarts']\n",
    "# x += 1\n",
    "# AllChem.ReactionFromSmarts(smartsi, useSmiles=True)"
   ]
  },
  {
   "cell_type": "code",
   "execution_count": 10,
   "metadata": {},
   "outputs": [
    {
     "ename": "NameError",
     "evalue": "name 'smartsj' is not defined",
     "output_type": "error",
     "traceback": [
      "\u001b[0;31m---------------------------------------------------------------------------\u001b[0m",
      "\u001b[0;31mNameError\u001b[0m                                 Traceback (most recent call last)",
      "Cell \u001b[0;32mIn[10], line 1\u001b[0m\n\u001b[0;32m----> 1\u001b[0m AllChem\u001b[38;5;241m.\u001b[39mReactionFromSmarts(\u001b[43msmartsj\u001b[49m, useSmiles\u001b[38;5;241m=\u001b[39m\u001b[38;5;28;01mTrue\u001b[39;00m)\n",
      "\u001b[0;31mNameError\u001b[0m: name 'smartsj' is not defined"
     ]
    }
   ],
   "source": [
    "AllChem.ReactionFromSmarts(smartsj, useSmiles=True)"
   ]
  },
  {
   "cell_type": "code",
   "execution_count": null,
   "metadata": {},
   "outputs": [
    {
     "name": "stdout",
     "output_type": "stream",
     "text": [
      "0.4\n"
     ]
    }
   ],
   "source": [
    "# ub = 0.4\n",
    "# ep = 1e-4\n",
    "# i, j =np.where(abs(S - ub) < ep)\n",
    "# print(S[i[0], j[0]])\n",
    "# ns = [x for x in range(len(i))]\n",
    "# srt_ns = sorted(ns, key=lambda x : sort_pair_idx(x, i, j, i2id, krs))\n",
    "# x = 10"
   ]
  },
  {
   "cell_type": "code",
   "execution_count": null,
   "metadata": {},
   "outputs": [
    {
     "data": {
      "image/png": "[encoded data removed]",
      "text/plain": [
       "<rdkit.Chem.rdChemReactions.ChemicalReaction at 0x7fa0c4a6cf20>"
      ]
     },
     "execution_count": 240,
     "metadata": {},
     "output_type": "execute_result"
    }
   ],
   "source": [
    "# n = srt_ns[x]\n",
    "# ri = i2id[i[n]]\n",
    "# rj = i2id[j[n]]\n",
    "# smartsi = krs[ri]['smarts']\n",
    "# smartsj = krs[rj]['smarts']\n",
    "# x += 1\n",
    "# AllChem.ReactionFromSmarts(smartsi, useSmiles=True)"
   ]
  },
  {
   "cell_type": "code",
   "execution_count": null,
   "metadata": {},
   "outputs": [
    {
     "data": {
      "image/png": "[encoded data removed]",
      "text/plain": [
       "<rdkit.Chem.rdChemReactions.ChemicalReaction at 0x7fa0c4a6ccf0>"
      ]
     },
     "execution_count": 241,
     "metadata": {},
     "output_type": "execute_result"
    }
   ],
   "source": [
    "# AllChem.ReactionFromSmarts(smartsj, useSmiles=True)"
   ]
  },
  {
   "cell_type": "code",
   "execution_count": null,
   "metadata": {},
   "outputs": [
    {
     "name": "stdout",
     "output_type": "stream",
     "text": [
      "6717 8481\n"
     ]
    }
   ],
   "source": [
    "# print(ri, rj)"
   ]
  },
  {
   "cell_type": "code",
   "execution_count": null,
   "metadata": {},
   "outputs": [
    {
     "name": "stdout",
     "output_type": "stream",
     "text": [
      "[[<rdkit.Chem.rdchem.Mol object at 0x7f8b9c58b610>], [<rdkit.Chem.rdchem.Mol object at 0x7f8b9c58b8b0>, <rdkit.Chem.rdchem.Mol object at 0x7f8b9c58b990>]]\n",
      "[[[4, 6, 8]], [[1], [1, 0]]]\n",
      "[['[#6]-[#6]-[#8]'], ['[#6]', '[#6]=[#8]']]\n"
     ]
    }
   ],
   "source": [
    "def get_mol_rc_patt(rid, krs, rules, reverse):\n",
    "    smarts = krs[rid]['smarts']\n",
    "    rcs = krs[rid]['rcs']\n",
    "    this_rules = krs[rid]['min_rules']\n",
    "    \n",
    "    if reverse:\n",
    "        smarts = \">>\".join(smarts.split(\">>\")[::-1])\n",
    "        rcs = rcs[::-1]\n",
    "        rule = this_rules[1]\n",
    "    else:\n",
    "        rule = this_rules[0]\n",
    "\n",
    "    template = rules.loc[rule, \"SMARTS\"]\n",
    "    patts = [extract_operator_patts(template, 0), extract_operator_patts(template, 1)]\n",
    "    smiles = [elt.split(\".\") for elt in smarts.split(\">>\")]\n",
    "    mols = [[Chem.MolFromSmiles(smi) for smi in side] for side in smiles]\n",
    "    return mols, rcs, patts\n",
    "\n",
    "mols, rcs, patts = get_mol_rc_patt(4324, krs, rules, reverse=False)\n",
    "print(mols)\n",
    "print(rcs)\n",
    "print(patts)"
   ]
  },
  {
   "cell_type": "code",
   "execution_count": null,
   "metadata": {},
   "outputs": [],
   "source": [
    "rid_pairs = [\n",
    "    [4324, 2535],\n",
    "    [3299, 18915],\n",
    "    [6717, 8481],\n",
    "]\n",
    "\n",
    "to_reverse = [elt for elt in chain(*rid_pairs) if elt != 4324]\n",
    "\n",
    "rxn_info = {}\n",
    "for pair in rid_pairs:\n",
    "    for rid in pair:\n",
    "        mols, rcs, patts = get_mol_rc_patt(rid, krs, rules, rid in to_reverse)\n",
    "        rxn_info[rid] = {\n",
    "            'mols': mols,\n",
    "            'rcs': rcs,\n",
    "            'patts': patts\n",
    "        }\n",
    "\n",
    "mol_svgs = {}\n",
    "for ri, rj in rid_pairs:\n",
    "    mol_svgs[ri] = [[], []]\n",
    "    mol_svgs[rj] = [[], []]\n",
    "    for side in range(2):\n",
    "        for x in range(len(rxn_info[ri]['mols'][side])):\n",
    "            mol_rci = (rxn_info[ri]['mols'][side][x], rxn_info[ri]['rcs'][side][x])\n",
    "            mol_rcj = (rxn_info[rj]['mols'][side][x], rxn_info[rj]['rcs'][side][x])\n",
    "            patt = rxn_info[ri]['patts'][side][x]\n",
    "            rss = get_rcmcs_smarts_patt(mol_rci, mol_rcj, patt)\n",
    "\n",
    "            for y, mol in zip([ri, rj], [mol_rci[0], mol_rcj[0]]) :\n",
    "                hidxs = mol.GetSubstructMatch(Chem.MolFromSmarts(rss))\n",
    "                for atom in mol.GetAtoms():\n",
    "                    atom.SetIsotope(0)\n",
    "                svg = draw_mol_svg(mol, hilite_atoms=hidxs)\n",
    "                mol_svgs[y][side].append(svg)\n",
    "\n",
    "for i, (k, v) in enumerate(mol_svgs.items()):\n",
    "    rxn = draw_rxn_from_mol_svg(v)\n",
    "    rxn.save(f\"../artifacts/imgs/rcmcs_demo_rhea_rxn_{k}_pair_{i // 2}.svg\")\n"
   ]
  },
  {
   "cell_type": "code",
   "execution_count": null,
   "metadata": {},
   "outputs": [
    {
     "data": {
      "image/svg+xml": [
       "<svg xmlns=\"http://www.w3.org/2000/svg\" xmlns:rdkit=\"http://www.rdkit.org/xml\" xmlns:xlink=\"http://www.w3.org/1999/xlink\" version=\"1.1\" baseProfile=\"full\" xml:space=\"preserve\" width=\"300px\" height=\"200px\" viewBox=\"0 0 300 200\">\n",
       "<!-- END OF HEADER -->\n",
       "<rect style=\"opacity:1.0;fill:#FFFFFF;stroke:none\" width=\"300.0\" height=\"200.0\" x=\"0.0\" y=\"0.0\"> </rect>\n",
       "<ellipse cx=\"67.2\" cy=\"132.3\" rx=\"11.3\" ry=\"11.3\" class=\"atom-1\" style=\"fill:#19CC19B2;fill-rule:evenodd;stroke:#19CC19B2;stroke-width:1.0px;stroke-linecap:butt;stroke-linejoin:miter;stroke-opacity:1\"/>\n",
       "<path class=\"bond-0 atom-0 atom-1\" d=\"M 29.2,107.4 L 48.2,119.9\" style=\"fill:none;fill-rule:evenodd;stroke:#FF0000;stroke-width:2.0px;stroke-linecap:butt;stroke-linejoin:miter;stroke-opacity:1\"/>\n",
       "<path class=\"bond-0 atom-0 atom-1\" d=\"M 48.2,119.9 L 67.2,132.3\" style=\"fill:none;fill-rule:evenodd;stroke:#000000;stroke-width:2.0px;stroke-linecap:butt;stroke-linejoin:miter;stroke-opacity:1\"/>\n",
       "<path class=\"bond-0 atom-0 atom-1\" d=\"M 33.9,100.3 L 52.9,112.8\" style=\"fill:none;fill-rule:evenodd;stroke:#FF0000;stroke-width:2.0px;stroke-linecap:butt;stroke-linejoin:miter;stroke-opacity:1\"/>\n",
       "<path class=\"bond-0 atom-0 atom-1\" d=\"M 52.9,112.8 L 67.8,122.6\" style=\"fill:none;fill-rule:evenodd;stroke:#000000;stroke-width:2.0px;stroke-linecap:butt;stroke-linejoin:miter;stroke-opacity:1\"/>\n",
       "<path class=\"bond-1 atom-1 atom-2\" d=\"M 67.2,132.3 L 117.7,106.9\" style=\"fill:none;fill-rule:evenodd;stroke:#000000;stroke-width:2.0px;stroke-linecap:butt;stroke-linejoin:miter;stroke-opacity:1\"/>\n",
       "<path class=\"bond-2 atom-2 atom-3\" d=\"M 117.7,106.9 L 164.9,138.0\" style=\"fill:none;fill-rule:evenodd;stroke:#000000;stroke-width:2.0px;stroke-linecap:butt;stroke-linejoin:miter;stroke-opacity:1\"/>\n",
       "<path class=\"bond-3 atom-3 atom-4\" d=\"M 164.9,138.0 L 215.4,112.6\" style=\"fill:none;fill-rule:evenodd;stroke:#000000;stroke-width:2.0px;stroke-linecap:butt;stroke-linejoin:miter;stroke-opacity:1\"/>\n",
       "<path class=\"bond-4 atom-4 atom-5\" d=\"M 219.5,115.3 L 220.9,90.9\" style=\"fill:none;fill-rule:evenodd;stroke:#000000;stroke-width:2.0px;stroke-linecap:butt;stroke-linejoin:miter;stroke-opacity:1\"/>\n",
       "<path class=\"bond-4 atom-4 atom-5\" d=\"M 220.9,90.9 L 222.3,66.6\" style=\"fill:none;fill-rule:evenodd;stroke:#FF0000;stroke-width:2.0px;stroke-linecap:butt;stroke-linejoin:miter;stroke-opacity:1\"/>\n",
       "<path class=\"bond-4 atom-4 atom-5\" d=\"M 211.0,114.8 L 212.4,90.4\" style=\"fill:none;fill-rule:evenodd;stroke:#000000;stroke-width:2.0px;stroke-linecap:butt;stroke-linejoin:miter;stroke-opacity:1\"/>\n",
       "<path class=\"bond-4 atom-4 atom-5\" d=\"M 212.4,90.4 L 213.8,66.1\" style=\"fill:none;fill-rule:evenodd;stroke:#FF0000;stroke-width:2.0px;stroke-linecap:butt;stroke-linejoin:miter;stroke-opacity:1\"/>\n",
       "<path class=\"bond-5 atom-4 atom-6\" d=\"M 215.4,112.6 L 234.4,125.1\" style=\"fill:none;fill-rule:evenodd;stroke:#000000;stroke-width:2.0px;stroke-linecap:butt;stroke-linejoin:miter;stroke-opacity:1\"/>\n",
       "<path class=\"bond-5 atom-4 atom-6\" d=\"M 234.4,125.1 L 253.4,137.5\" style=\"fill:none;fill-rule:evenodd;stroke:#FF0000;stroke-width:2.0px;stroke-linecap:butt;stroke-linejoin:miter;stroke-opacity:1\"/>\n",
       "<path d=\"M 66.3,131.7 L 67.2,132.3 L 69.8,131.1\" style=\"fill:none;stroke:#000000;stroke-width:2.0px;stroke-linecap:butt;stroke-linejoin:miter;stroke-opacity:1;\"/>\n",
       "<path d=\"M 115.2,108.2 L 117.7,106.9 L 120.1,108.5\" style=\"fill:none;stroke:#000000;stroke-width:2.0px;stroke-linecap:butt;stroke-linejoin:miter;stroke-opacity:1;\"/>\n",
       "<path d=\"M 162.6,136.4 L 164.9,138.0 L 167.5,136.7\" style=\"fill:none;stroke:#000000;stroke-width:2.0px;stroke-linecap:butt;stroke-linejoin:miter;stroke-opacity:1;\"/>\n",
       "<path d=\"M 212.9,113.8 L 215.4,112.6 L 216.4,113.2\" style=\"fill:none;stroke:#000000;stroke-width:2.0px;stroke-linecap:butt;stroke-linejoin:miter;stroke-opacity:1;\"/>\n",
       "<path class=\"atom-0\" d=\"M 15.0 97.8 Q 15.0 94.0, 16.9 91.8 Q 18.8 89.7, 22.3 89.7 Q 25.9 89.7, 27.8 91.8 Q 29.7 94.0, 29.7 97.8 Q 29.7 101.7, 27.8 103.9 Q 25.8 106.1, 22.3 106.1 Q 18.8 106.1, 16.9 103.9 Q 15.0 101.7, 15.0 97.8 M 22.3 104.3 Q 24.8 104.3, 26.1 102.7 Q 27.4 101.0, 27.4 97.8 Q 27.4 94.7, 26.1 93.1 Q 24.8 91.5, 22.3 91.5 Q 19.9 91.5, 18.6 93.1 Q 17.3 94.7, 17.3 97.8 Q 17.3 101.1, 18.6 102.7 Q 19.9 104.3, 22.3 104.3 \" fill=\"#FF0000\"/>\n",
       "<path class=\"atom-5\" d=\"M 211.3 56.2 Q 211.3 52.4, 213.2 50.2 Q 215.1 48.1, 218.7 48.1 Q 222.2 48.1, 224.1 50.2 Q 226.0 52.4, 226.0 56.2 Q 226.0 60.1, 224.1 62.3 Q 222.2 64.5, 218.7 64.5 Q 215.1 64.5, 213.2 62.3 Q 211.3 60.1, 211.3 56.2 M 218.7 62.7 Q 221.1 62.7, 222.4 61.1 Q 223.7 59.4, 223.7 56.2 Q 223.7 53.1, 222.4 51.5 Q 221.1 49.9, 218.7 49.9 Q 216.2 49.9, 214.9 51.5 Q 213.6 53.0, 213.6 56.2 Q 213.6 59.4, 214.9 61.1 Q 216.2 62.7, 218.7 62.7 \" fill=\"#FF0000\"/>\n",
       "<path class=\"atom-6\" d=\"M 255.3 143.6 Q 255.3 139.8, 257.2 137.6 Q 259.1 135.5, 262.6 135.5 Q 266.2 135.5, 268.1 137.6 Q 270.0 139.8, 270.0 143.6 Q 270.0 147.5, 268.1 149.7 Q 266.1 151.9, 262.6 151.9 Q 259.1 151.9, 257.2 149.7 Q 255.3 147.5, 255.3 143.6 M 262.6 150.1 Q 265.1 150.1, 266.4 148.5 Q 267.7 146.8, 267.7 143.6 Q 267.7 140.5, 266.4 138.9 Q 265.1 137.3, 262.6 137.3 Q 260.2 137.3, 258.9 138.9 Q 257.6 140.5, 257.6 143.6 Q 257.6 146.9, 258.9 148.5 Q 260.2 150.1, 262.6 150.1 \" fill=\"#FF0000\"/>\n",
       "<path class=\"atom-6\" d=\"M 272.5 135.7 L 274.6 135.7 L 274.6 142.5 L 282.8 142.5 L 282.8 135.7 L 285.0 135.7 L 285.0 151.7 L 282.8 151.7 L 282.8 144.3 L 274.6 144.3 L 274.6 151.7 L 272.5 151.7 L 272.5 135.7 \" fill=\"#FF0000\"/>\n",
       "</svg>"
      ],
      "text/plain": [
       "<IPython.core.display.SVG object>"
      ]
     },
     "metadata": {},
     "output_type": "display_data"
    },
    {
     "data": {
      "image/svg+xml": [
       "<svg xmlns=\"http://www.w3.org/2000/svg\" xmlns:rdkit=\"http://www.rdkit.org/xml\" xmlns:xlink=\"http://www.w3.org/1999/xlink\" version=\"1.1\" baseProfile=\"full\" xml:space=\"preserve\" width=\"300px\" height=\"200px\" viewBox=\"0 0 300 200\">\n",
       "<!-- END OF HEADER -->\n",
       "<rect style=\"opacity:1.0;fill:#FFFFFF;stroke:none\" width=\"300.0\" height=\"200.0\" x=\"0.0\" y=\"0.0\"> </rect>\n",
       "<path class=\"bond-0 atom-0 atom-1\" d=\"M 260.8,87.4 L 260.8,112.2 L 144.9,112.2 L 144.9,87.4 Z\" style=\"fill:#19CC19B2;fill-rule:evenodd;fill-opacity:0.7;stroke:#19CC19B2;stroke-width:0.0px;stroke-linecap:butt;stroke-linejoin:miter;stroke-opacity:0.7;\"/>\n",
       "<ellipse cx=\"260.8\" cy=\"100.0\" rx=\"23.2\" ry=\"23.2\" class=\"atom-0\" style=\"fill:#19CC19B2;fill-rule:evenodd;stroke:#19CC19B2;stroke-width:1.0px;stroke-linecap:butt;stroke-linejoin:miter;stroke-opacity:1\"/>\n",
       "<ellipse cx=\"144.9\" cy=\"100.0\" rx=\"23.2\" ry=\"23.2\" class=\"atom-1\" style=\"fill:#19CC19B2;fill-rule:evenodd;stroke:#19CC19B2;stroke-width:1.0px;stroke-linecap:butt;stroke-linejoin:miter;stroke-opacity:1\"/>\n",
       "<path class=\"bond-0 atom-0 atom-1\" d=\"M 244.0,108.5 L 201.8,108.5\" style=\"fill:none;fill-rule:evenodd;stroke:#FF0000;stroke-width:2.0px;stroke-linecap:butt;stroke-linejoin:miter;stroke-opacity:1\"/>\n",
       "<path class=\"bond-0 atom-0 atom-1\" d=\"M 201.8,108.5 L 159.7,108.5\" style=\"fill:none;fill-rule:evenodd;stroke:#000000;stroke-width:2.0px;stroke-linecap:butt;stroke-linejoin:miter;stroke-opacity:1\"/>\n",
       "<path class=\"bond-0 atom-0 atom-1\" d=\"M 244.0,91.1 L 201.8,91.1\" style=\"fill:none;fill-rule:evenodd;stroke:#FF0000;stroke-width:2.0px;stroke-linecap:butt;stroke-linejoin:miter;stroke-opacity:1\"/>\n",
       "<path class=\"bond-0 atom-0 atom-1\" d=\"M 201.8,91.1 L 159.7,91.1\" style=\"fill:none;fill-rule:evenodd;stroke:#000000;stroke-width:2.0px;stroke-linecap:butt;stroke-linejoin:miter;stroke-opacity:1\"/>\n",
       "<path class=\"bond-1 atom-1 atom-2\" d=\"M 130.2,108.5 L 88.0,108.5\" style=\"fill:none;fill-rule:evenodd;stroke:#000000;stroke-width:2.0px;stroke-linecap:butt;stroke-linejoin:miter;stroke-opacity:1\"/>\n",
       "<path class=\"bond-1 atom-1 atom-2\" d=\"M 88.0,108.5 L 45.9,108.5\" style=\"fill:none;fill-rule:evenodd;stroke:#FF0000;stroke-width:2.0px;stroke-linecap:butt;stroke-linejoin:miter;stroke-opacity:1\"/>\n",
       "<path class=\"bond-1 atom-1 atom-2\" d=\"M 130.2,91.1 L 88.0,91.1\" style=\"fill:none;fill-rule:evenodd;stroke:#000000;stroke-width:2.0px;stroke-linecap:butt;stroke-linejoin:miter;stroke-opacity:1\"/>\n",
       "<path class=\"bond-1 atom-1 atom-2\" d=\"M 88.0,91.1 L 45.9,91.1\" style=\"fill:none;fill-rule:evenodd;stroke:#FF0000;stroke-width:2.0px;stroke-linecap:butt;stroke-linejoin:miter;stroke-opacity:1\"/>\n",
       "<path class=\"atom-0\" d=\"M 247.8 99.9 Q 247.8 93.1, 251.2 89.3 Q 254.5 85.5, 260.8 85.5 Q 267.1 85.5, 270.4 89.3 Q 273.8 93.1, 273.8 99.9 Q 273.8 106.8, 270.4 110.7 Q 267.0 114.6, 260.8 114.6 Q 254.6 114.6, 251.2 110.7 Q 247.8 106.8, 247.8 99.9 M 260.8 111.4 Q 265.1 111.4, 267.4 108.5 Q 269.8 105.6, 269.8 99.9 Q 269.8 94.3, 267.4 91.5 Q 265.1 88.7, 260.8 88.7 Q 256.5 88.7, 254.1 91.5 Q 251.8 94.3, 251.8 99.9 Q 251.8 105.6, 254.1 108.5 Q 256.5 111.4, 260.8 111.4 \" fill=\"#FF0000\"/>\n",
       "<path class=\"atom-1\" d=\"M 134.0 99.9 Q 134.0 92.9, 137.3 89.2 Q 140.6 85.5, 146.9 85.5 Q 152.7 85.5, 155.8 89.6 L 153.2 91.8 Q 150.9 88.8, 146.9 88.8 Q 142.6 88.8, 140.3 91.6 Q 138.1 94.5, 138.1 99.9 Q 138.1 105.5, 140.4 108.4 Q 142.8 111.3, 147.3 111.3 Q 150.4 111.3, 154.1 109.4 L 155.2 112.4 Q 153.7 113.4, 151.5 113.9 Q 149.2 114.5, 146.8 114.5 Q 140.6 114.5, 137.3 110.7 Q 134.0 107.0, 134.0 99.9 \" fill=\"#000000\"/>\n",
       "<path class=\"atom-2\" d=\"M 16.0 99.9 Q 16.0 93.1, 19.4 89.3 Q 22.8 85.5, 29.0 85.5 Q 35.3 85.5, 38.7 89.3 Q 42.0 93.1, 42.0 99.9 Q 42.0 106.8, 38.6 110.7 Q 35.2 114.6, 29.0 114.6 Q 22.8 114.6, 19.4 110.7 Q 16.0 106.8, 16.0 99.9 M 29.0 111.4 Q 33.4 111.4, 35.7 108.5 Q 38.0 105.6, 38.0 99.9 Q 38.0 94.3, 35.7 91.5 Q 33.4 88.7, 29.0 88.7 Q 24.7 88.7, 22.4 91.5 Q 20.0 94.3, 20.0 99.9 Q 20.0 105.6, 22.4 108.5 Q 24.7 111.4, 29.0 111.4 \" fill=\"#FF0000\"/>\n",
       "</svg>"
      ],
      "text/plain": [
       "<IPython.core.display.SVG object>"
      ]
     },
     "metadata": {},
     "output_type": "display_data"
    },
    {
     "data": {
      "image/svg+xml": [
       "<svg xmlns=\"http://www.w3.org/2000/svg\" xmlns:rdkit=\"http://www.rdkit.org/xml\" xmlns:xlink=\"http://www.w3.org/1999/xlink\" version=\"1.1\" baseProfile=\"full\" xml:space=\"preserve\" width=\"300px\" height=\"200px\" viewBox=\"0 0 300 200\">\n",
       "<!-- END OF HEADER -->\n",
       "<rect style=\"opacity:1.0;fill:#FFFFFF;stroke:none\" width=\"300.0\" height=\"200.0\" x=\"0.0\" y=\"0.0\"> </rect>\n",
       "<path class=\"bond-6 atom-5 atom-7\" d=\"M 112.0,83.9 L 117.1,91.8 L 77.7,117.4 L 77.2,106.5 Z\" style=\"fill:#19CC19B2;fill-rule:evenodd;fill-opacity:0.7;stroke:#19CC19B2;stroke-width:0.0px;stroke-linecap:butt;stroke-linejoin:miter;stroke-opacity:0.7;\"/>\n",
       "<path class=\"bond-8 atom-7 atom-9\" d=\"M 40.2,87.6 L 77.2,106.5 L 77.7,117.4 L 35.9,96.0 Z\" style=\"fill:#19CC19B2;fill-rule:evenodd;fill-opacity:0.7;stroke:#19CC19B2;stroke-width:0.0px;stroke-linecap:butt;stroke-linejoin:miter;stroke-opacity:0.7;\"/>\n",
       "<ellipse cx=\"114.5\" cy=\"87.9\" rx=\"8.8\" ry=\"8.8\" class=\"atom-5\" style=\"fill:#19CC19B2;fill-rule:evenodd;stroke:#19CC19B2;stroke-width:1.0px;stroke-linecap:butt;stroke-linejoin:miter;stroke-opacity:1\"/>\n",
       "<ellipse cx=\"77.4\" cy=\"111.9\" rx=\"8.8\" ry=\"8.8\" class=\"atom-7\" style=\"fill:#19CC19B2;fill-rule:evenodd;stroke:#19CC19B2;stroke-width:1.0px;stroke-linecap:butt;stroke-linejoin:miter;stroke-opacity:1\"/>\n",
       "<ellipse cx=\"31.9\" cy=\"91.9\" rx=\"16.9\" ry=\"9.1\" class=\"atom-9\" style=\"fill:#19CC19B2;fill-rule:evenodd;stroke:#19CC19B2;stroke-width:1.0px;stroke-linecap:butt;stroke-linejoin:miter;stroke-opacity:1\"/>\n",
       "<path class=\"bond-0 atom-0 atom-1\" d=\"M 229.0,140.6 L 228.0,121.4\" style=\"fill:none;fill-rule:evenodd;stroke:#FF0000;stroke-width:2.0px;stroke-linecap:butt;stroke-linejoin:miter;stroke-opacity:1\"/>\n",
       "<path class=\"bond-0 atom-0 atom-1\" d=\"M 228.0,121.4 L 227.0,102.3\" style=\"fill:none;fill-rule:evenodd;stroke:#000000;stroke-width:2.0px;stroke-linecap:butt;stroke-linejoin:miter;stroke-opacity:1\"/>\n",
       "<path class=\"bond-0 atom-0 atom-1\" d=\"M 235.6,140.2 L 234.6,121.1\" style=\"fill:none;fill-rule:evenodd;stroke:#FF0000;stroke-width:2.0px;stroke-linecap:butt;stroke-linejoin:miter;stroke-opacity:1\"/>\n",
       "<path class=\"bond-0 atom-0 atom-1\" d=\"M 234.6,121.1 L 233.6,102.0\" style=\"fill:none;fill-rule:evenodd;stroke:#000000;stroke-width:2.0px;stroke-linecap:butt;stroke-linejoin:miter;stroke-opacity:1\"/>\n",
       "<path class=\"bond-1 atom-1 atom-2\" d=\"M 230.4,104.1 L 245.3,94.4\" style=\"fill:none;fill-rule:evenodd;stroke:#000000;stroke-width:2.0px;stroke-linecap:butt;stroke-linejoin:miter;stroke-opacity:1\"/>\n",
       "<path class=\"bond-1 atom-1 atom-2\" d=\"M 245.3,94.4 L 260.3,84.7\" style=\"fill:none;fill-rule:evenodd;stroke:#FF0000;stroke-width:2.0px;stroke-linecap:butt;stroke-linejoin:miter;stroke-opacity:1\"/>\n",
       "<path class=\"bond-2 atom-1 atom-3\" d=\"M 230.4,104.1 L 191.0,83.9\" style=\"fill:none;fill-rule:evenodd;stroke:#000000;stroke-width:2.0px;stroke-linecap:butt;stroke-linejoin:miter;stroke-opacity:1\"/>\n",
       "<path class=\"bond-3 atom-3 atom-4\" d=\"M 191.0,83.9 L 153.9,108.0\" style=\"fill:none;fill-rule:evenodd;stroke:#000000;stroke-width:2.0px;stroke-linecap:butt;stroke-linejoin:miter;stroke-opacity:1\"/>\n",
       "<path class=\"bond-4 atom-4 atom-5\" d=\"M 153.9,108.0 L 114.5,87.9\" style=\"fill:none;fill-rule:evenodd;stroke:#000000;stroke-width:2.0px;stroke-linecap:butt;stroke-linejoin:miter;stroke-opacity:1\"/>\n",
       "<path class=\"bond-5 atom-5 atom-6\" d=\"M 117.9,89.6 L 117.0,70.6\" style=\"fill:none;fill-rule:evenodd;stroke:#000000;stroke-width:2.0px;stroke-linecap:butt;stroke-linejoin:miter;stroke-opacity:1\"/>\n",
       "<path class=\"bond-5 atom-5 atom-6\" d=\"M 117.0,70.6 L 116.0,51.5\" style=\"fill:none;fill-rule:evenodd;stroke:#FF0000;stroke-width:2.0px;stroke-linecap:butt;stroke-linejoin:miter;stroke-opacity:1\"/>\n",
       "<path class=\"bond-5 atom-5 atom-6\" d=\"M 111.3,90.0 L 110.3,70.9\" style=\"fill:none;fill-rule:evenodd;stroke:#000000;stroke-width:2.0px;stroke-linecap:butt;stroke-linejoin:miter;stroke-opacity:1\"/>\n",
       "<path class=\"bond-5 atom-5 atom-6\" d=\"M 110.3,70.9 L 109.4,51.9\" style=\"fill:none;fill-rule:evenodd;stroke:#FF0000;stroke-width:2.0px;stroke-linecap:butt;stroke-linejoin:miter;stroke-opacity:1\"/>\n",
       "<path class=\"bond-6 atom-5 atom-7\" d=\"M 114.5,87.9 L 77.4,111.9\" style=\"fill:none;fill-rule:evenodd;stroke:#000000;stroke-width:2.0px;stroke-linecap:butt;stroke-linejoin:miter;stroke-opacity:1\"/>\n",
       "<path class=\"bond-7 atom-7 atom-8\" d=\"M 74.0,110.2 L 75.0,129.3\" style=\"fill:none;fill-rule:evenodd;stroke:#000000;stroke-width:2.0px;stroke-linecap:butt;stroke-linejoin:miter;stroke-opacity:1\"/>\n",
       "<path class=\"bond-7 atom-7 atom-8\" d=\"M 75.0,129.3 L 76.0,148.5\" style=\"fill:none;fill-rule:evenodd;stroke:#FF0000;stroke-width:2.0px;stroke-linecap:butt;stroke-linejoin:miter;stroke-opacity:1\"/>\n",
       "<path class=\"bond-7 atom-7 atom-8\" d=\"M 80.6,109.8 L 81.6,129.0\" style=\"fill:none;fill-rule:evenodd;stroke:#000000;stroke-width:2.0px;stroke-linecap:butt;stroke-linejoin:miter;stroke-opacity:1\"/>\n",
       "<path class=\"bond-7 atom-7 atom-8\" d=\"M 81.6,129.0 L 82.6,148.1\" style=\"fill:none;fill-rule:evenodd;stroke:#FF0000;stroke-width:2.0px;stroke-linecap:butt;stroke-linejoin:miter;stroke-opacity:1\"/>\n",
       "<path class=\"bond-8 atom-7 atom-9\" d=\"M 77.4,111.9 L 61.3,103.7\" style=\"fill:none;fill-rule:evenodd;stroke:#000000;stroke-width:2.0px;stroke-linecap:butt;stroke-linejoin:miter;stroke-opacity:1\"/>\n",
       "<path class=\"bond-8 atom-7 atom-9\" d=\"M 61.3,103.7 L 45.3,95.5\" style=\"fill:none;fill-rule:evenodd;stroke:#FF0000;stroke-width:2.0px;stroke-linecap:butt;stroke-linejoin:miter;stroke-opacity:1\"/>\n",
       "<path d=\"M 231.1,103.6 L 230.4,104.1 L 228.4,103.0\" style=\"fill:none;stroke:#000000;stroke-width:2.0px;stroke-linecap:butt;stroke-linejoin:miter;stroke-opacity:1;\"/>\n",
       "<path d=\"M 193.0,84.9 L 191.0,83.9 L 189.2,85.1\" style=\"fill:none;stroke:#000000;stroke-width:2.0px;stroke-linecap:butt;stroke-linejoin:miter;stroke-opacity:1;\"/>\n",
       "<path d=\"M 155.8,106.8 L 153.9,108.0 L 151.9,107.0\" style=\"fill:none;stroke:#000000;stroke-width:2.0px;stroke-linecap:butt;stroke-linejoin:miter;stroke-opacity:1;\"/>\n",
       "<path d=\"M 116.5,88.9 L 114.5,87.9 L 112.7,89.1\" style=\"fill:none;stroke:#000000;stroke-width:2.0px;stroke-linecap:butt;stroke-linejoin:miter;stroke-opacity:1;\"/>\n",
       "<path d=\"M 79.3,110.7 L 77.4,111.9 L 76.6,111.5\" style=\"fill:none;stroke:#000000;stroke-width:2.0px;stroke-linecap:butt;stroke-linejoin:miter;stroke-opacity:1;\"/>\n",
       "<path class=\"atom-0\" d=\"M 226.9 148.2 Q 226.9 145.2, 228.4 143.6 Q 229.9 141.9, 232.7 141.9 Q 235.4 141.9, 236.9 143.6 Q 238.4 145.2, 238.4 148.2 Q 238.4 151.3, 236.9 153.0 Q 235.4 154.7, 232.7 154.7 Q 229.9 154.7, 228.4 153.0 Q 226.9 151.3, 226.9 148.2 M 232.7 153.3 Q 234.6 153.3, 235.6 152.0 Q 236.7 150.8, 236.7 148.2 Q 236.7 145.8, 235.6 144.5 Q 234.6 143.3, 232.7 143.3 Q 230.8 143.3, 229.7 144.5 Q 228.7 145.8, 228.7 148.2 Q 228.7 150.8, 229.7 152.0 Q 230.8 153.3, 232.7 153.3 \" fill=\"#FF0000\"/>\n",
       "<path class=\"atom-2\" d=\"M 261.8 80.0 Q 261.8 77.0, 263.2 75.4 Q 264.7 73.7, 267.5 73.7 Q 270.3 73.7, 271.8 75.4 Q 273.3 77.0, 273.3 80.0 Q 273.3 83.1, 271.7 84.8 Q 270.2 86.5, 267.5 86.5 Q 264.7 86.5, 263.2 84.8 Q 261.8 83.1, 261.8 80.0 M 267.5 85.1 Q 269.4 85.1, 270.4 83.8 Q 271.5 82.6, 271.5 80.0 Q 271.5 77.6, 270.4 76.3 Q 269.4 75.1, 267.5 75.1 Q 265.6 75.1, 264.6 76.3 Q 263.5 77.6, 263.5 80.0 Q 263.5 82.6, 264.6 83.8 Q 265.6 85.1, 267.5 85.1 \" fill=\"#FF0000\"/>\n",
       "<path class=\"atom-2\" d=\"M 275.2 73.8 L 276.9 73.8 L 276.9 79.1 L 283.3 79.1 L 283.3 73.8 L 285.0 73.8 L 285.0 86.3 L 283.3 86.3 L 283.3 80.6 L 276.9 80.6 L 276.9 86.3 L 275.2 86.3 L 275.2 73.8 \" fill=\"#FF0000\"/>\n",
       "<path class=\"atom-6\" d=\"M 106.5 43.8 Q 106.5 40.8, 108.0 39.1 Q 109.5 37.4, 112.3 37.4 Q 115.0 37.4, 116.5 39.1 Q 118.0 40.8, 118.0 43.8 Q 118.0 46.8, 116.5 48.5 Q 115.0 50.2, 112.3 50.2 Q 109.5 50.2, 108.0 48.5 Q 106.5 46.8, 106.5 43.8 M 112.3 48.8 Q 114.2 48.8, 115.2 47.6 Q 116.2 46.3, 116.2 43.8 Q 116.2 41.3, 115.2 40.1 Q 114.2 38.8, 112.3 38.8 Q 110.4 38.8, 109.3 40.0 Q 108.3 41.3, 108.3 43.8 Q 108.3 46.3, 109.3 47.6 Q 110.4 48.8, 112.3 48.8 \" fill=\"#FF0000\"/>\n",
       "<path class=\"atom-8\" d=\"M 74.0 156.1 Q 74.0 153.1, 75.4 151.4 Q 76.9 149.8, 79.7 149.8 Q 82.5 149.8, 84.0 151.4 Q 85.5 153.1, 85.5 156.1 Q 85.5 159.2, 84.0 160.9 Q 82.4 162.6, 79.7 162.6 Q 76.9 162.6, 75.4 160.9 Q 74.0 159.2, 74.0 156.1 M 79.7 161.2 Q 81.6 161.2, 82.6 159.9 Q 83.7 158.6, 83.7 156.1 Q 83.7 153.7, 82.6 152.4 Q 81.6 151.2, 79.7 151.2 Q 77.8 151.2, 76.8 152.4 Q 75.7 153.6, 75.7 156.1 Q 75.7 158.6, 76.8 159.9 Q 77.8 161.2, 79.7 161.2 \" fill=\"#FF0000\"/>\n",
       "<path class=\"atom-9\" d=\"M 19.9 85.6 L 21.6 85.6 L 21.6 90.9 L 28.0 90.9 L 28.0 85.6 L 29.7 85.6 L 29.7 98.1 L 28.0 98.1 L 28.0 92.4 L 21.6 92.4 L 21.6 98.1 L 19.9 98.1 L 19.9 85.6 \" fill=\"#FF0000\"/>\n",
       "<path class=\"atom-9\" d=\"M 32.3 91.9 Q 32.3 88.8, 33.8 87.2 Q 35.3 85.5, 38.1 85.5 Q 40.8 85.5, 42.3 87.2 Q 43.8 88.8, 43.8 91.9 Q 43.8 94.9, 42.3 96.6 Q 40.8 98.3, 38.1 98.3 Q 35.3 98.3, 33.8 96.6 Q 32.3 94.9, 32.3 91.9 M 38.1 96.9 Q 40.0 96.9, 41.0 95.7 Q 42.0 94.4, 42.0 91.9 Q 42.0 89.4, 41.0 88.2 Q 40.0 86.9, 38.1 86.9 Q 36.1 86.9, 35.1 88.1 Q 34.1 89.4, 34.1 91.9 Q 34.1 94.4, 35.1 95.7 Q 36.1 96.9, 38.1 96.9 \" fill=\"#FF0000\"/>\n",
       "</svg>"
      ],
      "text/plain": [
       "<IPython.core.display.SVG object>"
      ]
     },
     "metadata": {},
     "output_type": "display_data"
    }
   ],
   "source": [
    "\n",
    "smarts = krs['512']['smarts']\n",
    "lhs, rhs = [elt.split(\".\") for elt in smarts.split(\">>\")]\n",
    "size = (300, 200)\n",
    "ha = [\n",
    "    (1,),\n",
    "    (0, 1),\n",
    "    (7, 9, 5),\n",
    "]\n",
    "hcolor = (0.1, 0.8, 0.1, 0.7)\n",
    "mol_names = [\n",
    "    \"akg_semialdehyde\",\n",
    "    \"co2\",\n",
    "    \"akg\",\n",
    "]\n",
    "\n",
    "\n",
    "for i, elt in enumerate(lhs + rhs):\n",
    "    svg = draw_molecule(elt, size=size, highlight_atoms=ha[i], draw_options={'setHighlightColour': hcolor})\n",
    "    display(SVG(svg))\n",
    "    with open(Path(filepaths.artifacts) /  f\"imgs/{mol_names[i]}.svg\", 'w') as f:\n",
    "        f.write(svg)\n",
    "    "
   ]
  },
  {
   "cell_type": "code",
   "execution_count": null,
   "metadata": {},
   "outputs": [
    {
     "data": {
      "image/svg+xml": [
       "<svg xmlns=\"http://www.w3.org/2000/svg\" xmlns:rdkit=\"http://www.rdkit.org/xml\" xmlns:xlink=\"http://www.w3.org/1999/xlink\" version=\"1.1\" baseProfile=\"full\" xml:space=\"preserve\" width=\"800px\" height=\"200px\" viewBox=\"0 0 800 200\">\n",
       "<!-- END OF HEADER -->\n",
       "<rect style=\"opacity:1.0;fill:#FFFFFF;stroke:none\" width=\"800.0\" height=\"200.0\" x=\"0.0\" y=\"0.0\"> </rect>\n",
       "<path class=\"bond-0 atom-0 atom-1\" d=\"M 301.4,88.5 L 287.0,97.9\" style=\"fill:none;fill-rule:evenodd;stroke:#FF0000;stroke-width:2.0px;stroke-linecap:butt;stroke-linejoin:miter;stroke-opacity:1\"/>\n",
       "<path class=\"bond-0 atom-0 atom-1\" d=\"M 287.0,97.9 L 272.6,107.2\" style=\"fill:none;fill-rule:evenodd;stroke:#000000;stroke-width:2.0px;stroke-linecap:butt;stroke-linejoin:miter;stroke-opacity:1\"/>\n",
       "<path class=\"bond-0 atom-0 atom-1\" d=\"M 298.1,83.5 L 283.7,92.8\" style=\"fill:none;fill-rule:evenodd;stroke:#FF0000;stroke-width:2.0px;stroke-linecap:butt;stroke-linejoin:miter;stroke-opacity:1\"/>\n",
       "<path class=\"bond-0 atom-0 atom-1\" d=\"M 283.7,92.8 L 269.3,102.1\" style=\"fill:none;fill-rule:evenodd;stroke:#000000;stroke-width:2.0px;stroke-linecap:butt;stroke-linejoin:miter;stroke-opacity:1\"/>\n",
       "<path class=\"bond-1 atom-1 atom-2\" d=\"M 272.4,103.7 L 273.3,120.3\" style=\"fill:none;fill-rule:evenodd;stroke:#000000;stroke-width:2.0px;stroke-linecap:butt;stroke-linejoin:miter;stroke-opacity:1\"/>\n",
       "<path class=\"bond-1 atom-1 atom-2\" d=\"M 273.3,120.3 L 274.1,136.9\" style=\"fill:none;fill-rule:evenodd;stroke:#FF0000;stroke-width:2.0px;stroke-linecap:butt;stroke-linejoin:miter;stroke-opacity:1\"/>\n",
       "<path class=\"bond-2 atom-1 atom-3\" d=\"M 272.4,103.7 L 236.4,85.3\" style=\"fill:none;fill-rule:evenodd;stroke:#000000;stroke-width:2.0px;stroke-linecap:butt;stroke-linejoin:miter;stroke-opacity:1\"/>\n",
       "<path class=\"bond-3 atom-3 atom-4\" d=\"M 236.4,85.3 L 202.5,107.3\" style=\"fill:none;fill-rule:evenodd;stroke:#000000;stroke-width:2.0px;stroke-linecap:butt;stroke-linejoin:miter;stroke-opacity:1\"/>\n",
       "<path class=\"bond-4 atom-4 atom-5\" d=\"M 202.5,107.3 L 166.6,88.9\" style=\"fill:none;fill-rule:evenodd;stroke:#000000;stroke-width:2.0px;stroke-linecap:butt;stroke-linejoin:miter;stroke-opacity:1\"/>\n",
       "<path class=\"bond-5 atom-5 atom-6\" d=\"M 169.7,90.5 L 168.8,73.1\" style=\"fill:none;fill-rule:evenodd;stroke:#000000;stroke-width:2.0px;stroke-linecap:butt;stroke-linejoin:miter;stroke-opacity:1\"/>\n",
       "<path class=\"bond-5 atom-5 atom-6\" d=\"M 168.8,73.1 L 167.9,55.7\" style=\"fill:none;fill-rule:evenodd;stroke:#FF0000;stroke-width:2.0px;stroke-linecap:butt;stroke-linejoin:miter;stroke-opacity:1\"/>\n",
       "<path class=\"bond-5 atom-5 atom-6\" d=\"M 163.6,90.8 L 162.7,73.4\" style=\"fill:none;fill-rule:evenodd;stroke:#000000;stroke-width:2.0px;stroke-linecap:butt;stroke-linejoin:miter;stroke-opacity:1\"/>\n",
       "<path class=\"bond-5 atom-5 atom-6\" d=\"M 162.7,73.4 L 161.8,56.0\" style=\"fill:none;fill-rule:evenodd;stroke:#FF0000;stroke-width:2.0px;stroke-linecap:butt;stroke-linejoin:miter;stroke-opacity:1\"/>\n",
       "<path class=\"bond-6 atom-5 atom-7\" d=\"M 166.6,88.9 L 132.6,110.9\" style=\"fill:none;fill-rule:evenodd;stroke:#000000;stroke-width:2.0px;stroke-linecap:butt;stroke-linejoin:miter;stroke-opacity:1\"/>\n",
       "<path class=\"bond-7 atom-7 atom-8\" d=\"M 135.6,109.0 L 120.1,101.1\" style=\"fill:none;fill-rule:evenodd;stroke:#000000;stroke-width:2.0px;stroke-linecap:butt;stroke-linejoin:miter;stroke-opacity:1\"/>\n",
       "<path class=\"bond-7 atom-7 atom-8\" d=\"M 120.1,101.1 L 104.6,93.2\" style=\"fill:none;fill-rule:evenodd;stroke:#FF0000;stroke-width:2.0px;stroke-linecap:butt;stroke-linejoin:miter;stroke-opacity:1\"/>\n",
       "<path class=\"bond-7 atom-7 atom-8\" d=\"M 132.8,114.4 L 117.3,106.5\" style=\"fill:none;fill-rule:evenodd;stroke:#000000;stroke-width:2.0px;stroke-linecap:butt;stroke-linejoin:miter;stroke-opacity:1\"/>\n",
       "<path class=\"bond-7 atom-7 atom-8\" d=\"M 117.3,106.5 L 101.9,98.6\" style=\"fill:none;fill-rule:evenodd;stroke:#FF0000;stroke-width:2.0px;stroke-linecap:butt;stroke-linejoin:miter;stroke-opacity:1\"/>\n",
       "<path class=\"bond-8 atom-7 atom-9\" d=\"M 132.6,110.9 L 133.5,127.5\" style=\"fill:none;fill-rule:evenodd;stroke:#000000;stroke-width:2.0px;stroke-linecap:butt;stroke-linejoin:miter;stroke-opacity:1\"/>\n",
       "<path class=\"bond-8 atom-7 atom-9\" d=\"M 133.5,127.5 L 134.4,144.1\" style=\"fill:none;fill-rule:evenodd;stroke:#FF0000;stroke-width:2.0px;stroke-linecap:butt;stroke-linejoin:miter;stroke-opacity:1\"/>\n",
       "<path d=\"M 272.5,104.5 L 272.4,103.7 L 270.6,102.8\" style=\"fill:none;stroke:#000000;stroke-width:2.0px;stroke-linecap:butt;stroke-linejoin:miter;stroke-opacity:1;\"/>\n",
       "<path d=\"M 238.2,86.2 L 236.4,85.3 L 234.8,86.4\" style=\"fill:none;stroke:#000000;stroke-width:2.0px;stroke-linecap:butt;stroke-linejoin:miter;stroke-opacity:1;\"/>\n",
       "<path d=\"M 204.2,106.2 L 202.5,107.3 L 200.7,106.4\" style=\"fill:none;stroke:#000000;stroke-width:2.0px;stroke-linecap:butt;stroke-linejoin:miter;stroke-opacity:1;\"/>\n",
       "<path d=\"M 168.4,89.8 L 166.6,88.9 L 164.9,90.0\" style=\"fill:none;stroke:#000000;stroke-width:2.0px;stroke-linecap:butt;stroke-linejoin:miter;stroke-opacity:1;\"/>\n",
       "<path d=\"M 134.3,109.8 L 132.6,110.9 L 132.7,111.7\" style=\"fill:none;stroke:#000000;stroke-width:2.0px;stroke-linecap:butt;stroke-linejoin:miter;stroke-opacity:1;\"/>\n",
       "<path class=\"atom-0\" d=\"M 301.1 81.8 Q 301.1 79.0, 302.4 77.5 Q 303.8 75.9, 306.3 75.9 Q 308.9 75.9, 310.2 77.5 Q 311.6 79.0, 311.6 81.8 Q 311.6 84.5, 310.2 86.1 Q 308.8 87.7, 306.3 87.7 Q 303.8 87.7, 302.4 86.1 Q 301.1 84.6, 301.1 81.8 M 306.3 86.4 Q 308.1 86.4, 309.0 85.2 Q 310.0 84.1, 310.0 81.8 Q 310.0 79.5, 309.0 78.4 Q 308.1 77.2, 306.3 77.2 Q 304.6 77.2, 303.6 78.4 Q 302.7 79.5, 302.7 81.8 Q 302.7 84.1, 303.6 85.2 Q 304.6 86.4, 306.3 86.4 \" fill=\"#FF0000\"/>\n",
       "<path class=\"atom-2\" d=\"M 269.3 144.1 Q 269.3 141.3, 270.6 139.8 Q 272.0 138.3, 274.5 138.3 Q 277.0 138.3, 278.4 139.8 Q 279.8 141.3, 279.8 144.1 Q 279.8 146.9, 278.4 148.5 Q 277.0 150.0, 274.5 150.0 Q 272.0 150.0, 270.6 148.5 Q 269.3 146.9, 269.3 144.1 M 274.5 148.7 Q 276.3 148.7, 277.2 147.6 Q 278.1 146.4, 278.1 144.1 Q 278.1 141.8, 277.2 140.7 Q 276.3 139.6, 274.5 139.6 Q 272.8 139.6, 271.8 140.7 Q 270.9 141.8, 270.9 144.1 Q 270.9 146.4, 271.8 147.6 Q 272.8 148.7, 274.5 148.7 \" fill=\"#FF0000\"/>\n",
       "<path class=\"atom-2\" d=\"M 281.5 138.4 L 283.1 138.4 L 283.1 143.3 L 288.9 143.3 L 288.9 138.4 L 290.5 138.4 L 290.5 149.8 L 288.9 149.8 L 288.9 144.6 L 283.1 144.6 L 283.1 149.8 L 281.5 149.8 L 281.5 138.4 \" fill=\"#FF0000\"/>\n",
       "<path class=\"atom-6\" d=\"M 159.2 48.6 Q 159.2 45.9, 160.6 44.3 Q 161.9 42.8, 164.5 42.8 Q 167.0 42.8, 168.4 44.3 Q 169.7 45.9, 169.7 48.6 Q 169.7 51.4, 168.4 53.0 Q 167.0 54.5, 164.5 54.5 Q 162.0 54.5, 160.6 53.0 Q 159.2 51.4, 159.2 48.6 M 164.5 53.2 Q 166.2 53.2, 167.2 52.1 Q 168.1 50.9, 168.1 48.6 Q 168.1 46.4, 167.2 45.2 Q 166.2 44.1, 164.5 44.1 Q 162.7 44.1, 161.8 45.2 Q 160.8 46.3, 160.8 48.6 Q 160.8 50.9, 161.8 52.1 Q 162.7 53.2, 164.5 53.2 \" fill=\"#FF0000\"/>\n",
       "<path class=\"atom-8\" d=\"M 91.4 92.6 Q 91.4 89.8, 92.8 88.3 Q 94.1 86.7, 96.7 86.7 Q 99.2 86.7, 100.6 88.3 Q 101.9 89.8, 101.9 92.6 Q 101.9 95.3, 100.5 96.9 Q 99.2 98.5, 96.7 98.5 Q 94.1 98.5, 92.8 96.9 Q 91.4 95.4, 91.4 92.6 M 96.7 97.2 Q 98.4 97.2, 99.3 96.0 Q 100.3 94.8, 100.3 92.6 Q 100.3 90.3, 99.3 89.2 Q 98.4 88.0, 96.7 88.0 Q 94.9 88.0, 94.0 89.2 Q 93.0 90.3, 93.0 92.6 Q 93.0 94.9, 94.0 96.0 Q 94.9 97.2, 96.7 97.2 \" fill=\"#FF0000\"/>\n",
       "<path class=\"atom-9\" d=\"M 129.5 151.3 Q 129.5 148.5, 130.8 147.0 Q 132.2 145.5, 134.7 145.5 Q 137.3 145.5, 138.6 147.0 Q 140.0 148.5, 140.0 151.3 Q 140.0 154.1, 138.6 155.6 Q 137.2 157.2, 134.7 157.2 Q 132.2 157.2, 130.8 155.6 Q 129.5 154.1, 129.5 151.3 M 134.7 155.9 Q 136.5 155.9, 137.4 154.8 Q 138.4 153.6, 138.4 151.3 Q 138.4 149.0, 137.4 147.9 Q 136.5 146.8, 134.7 146.8 Q 133.0 146.8, 132.0 147.9 Q 131.1 149.0, 131.1 151.3 Q 131.1 153.6, 132.0 154.8 Q 133.0 155.9, 134.7 155.9 \" fill=\"#FF0000\"/>\n",
       "<path class=\"atom-9\" d=\"M 141.8 145.6 L 143.3 145.6 L 143.3 150.5 L 149.2 150.5 L 149.2 145.6 L 150.7 145.6 L 150.7 157.0 L 149.2 157.0 L 149.2 151.8 L 143.3 151.8 L 143.3 157.0 L 141.8 157.0 L 141.8 145.6 \" fill=\"#FF0000\"/>\n",
       "<path class=\"bond-9 atom-10 atom-11\" d=\"M 414.5,105.3 L 428.1,114.2\" style=\"fill:none;fill-rule:evenodd;stroke:#FF0000;stroke-width:2.0px;stroke-linecap:butt;stroke-linejoin:miter;stroke-opacity:1\"/>\n",
       "<path class=\"bond-9 atom-10 atom-11\" d=\"M 428.1,114.2 L 441.7,123.1\" style=\"fill:none;fill-rule:evenodd;stroke:#000000;stroke-width:2.0px;stroke-linecap:butt;stroke-linejoin:miter;stroke-opacity:1\"/>\n",
       "<path class=\"bond-9 atom-10 atom-11\" d=\"M 417.8,100.2 L 431.4,109.1\" style=\"fill:none;fill-rule:evenodd;stroke:#FF0000;stroke-width:2.0px;stroke-linecap:butt;stroke-linejoin:miter;stroke-opacity:1\"/>\n",
       "<path class=\"bond-9 atom-10 atom-11\" d=\"M 431.4,109.1 L 442.1,116.1\" style=\"fill:none;fill-rule:evenodd;stroke:#000000;stroke-width:2.0px;stroke-linecap:butt;stroke-linejoin:miter;stroke-opacity:1\"/>\n",
       "<path class=\"bond-10 atom-11 atom-12\" d=\"M 441.7,123.1 L 477.8,105.0\" style=\"fill:none;fill-rule:evenodd;stroke:#000000;stroke-width:2.0px;stroke-linecap:butt;stroke-linejoin:miter;stroke-opacity:1\"/>\n",
       "<path class=\"bond-11 atom-12 atom-13\" d=\"M 477.8,105.0 L 511.6,127.1\" style=\"fill:none;fill-rule:evenodd;stroke:#000000;stroke-width:2.0px;stroke-linecap:butt;stroke-linejoin:miter;stroke-opacity:1\"/>\n",
       "<path class=\"bond-12 atom-13 atom-14\" d=\"M 511.6,127.1 L 547.7,109.0\" style=\"fill:none;fill-rule:evenodd;stroke:#000000;stroke-width:2.0px;stroke-linecap:butt;stroke-linejoin:miter;stroke-opacity:1\"/>\n",
       "<path class=\"bond-13 atom-14 atom-15\" d=\"M 544.5,110.6 L 558.8,120.0\" style=\"fill:none;fill-rule:evenodd;stroke:#000000;stroke-width:2.0px;stroke-linecap:butt;stroke-linejoin:miter;stroke-opacity:1\"/>\n",
       "<path class=\"bond-13 atom-14 atom-15\" d=\"M 558.8,120.0 L 573.2,129.4\" style=\"fill:none;fill-rule:evenodd;stroke:#FF0000;stroke-width:2.0px;stroke-linecap:butt;stroke-linejoin:miter;stroke-opacity:1\"/>\n",
       "<path class=\"bond-13 atom-14 atom-15\" d=\"M 547.9,105.5 L 562.2,114.9\" style=\"fill:none;fill-rule:evenodd;stroke:#000000;stroke-width:2.0px;stroke-linecap:butt;stroke-linejoin:miter;stroke-opacity:1\"/>\n",
       "<path class=\"bond-13 atom-14 atom-15\" d=\"M 562.2,114.9 L 576.5,124.3\" style=\"fill:none;fill-rule:evenodd;stroke:#FF0000;stroke-width:2.0px;stroke-linecap:butt;stroke-linejoin:miter;stroke-opacity:1\"/>\n",
       "<path class=\"bond-14 atom-14 atom-16\" d=\"M 547.7,109.0 L 548.6,92.5\" style=\"fill:none;fill-rule:evenodd;stroke:#000000;stroke-width:2.0px;stroke-linecap:butt;stroke-linejoin:miter;stroke-opacity:1\"/>\n",
       "<path class=\"bond-14 atom-14 atom-16\" d=\"M 548.6,92.5 L 549.6,75.9\" style=\"fill:none;fill-rule:evenodd;stroke:#FF0000;stroke-width:2.0px;stroke-linecap:butt;stroke-linejoin:miter;stroke-opacity:1\"/>\n",
       "<path class=\"atom-0\" d=\"M 404.3 98.4 Q 404.3 95.7, 405.7 94.2 Q 407.0 92.6, 409.6 92.6 Q 412.1 92.6, 413.5 94.2 Q 414.8 95.7, 414.8 98.4 Q 414.8 101.2, 413.5 102.8 Q 412.1 104.4, 409.6 104.4 Q 407.1 104.4, 405.7 102.8 Q 404.3 101.2, 404.3 98.4 M 409.6 103.1 Q 411.3 103.1, 412.3 101.9 Q 413.2 100.7, 413.2 98.4 Q 413.2 96.2, 412.3 95.1 Q 411.3 93.9, 409.6 93.9 Q 407.8 93.9, 406.9 95.1 Q 405.9 96.2, 405.9 98.4 Q 405.9 100.8, 406.9 101.9 Q 407.8 103.1, 409.6 103.1 \" fill=\"#FF0000\"/>\n",
       "<path class=\"atom-5\" d=\"M 576.2 131.2 Q 576.2 128.5, 577.5 126.9 Q 578.9 125.4, 581.4 125.4 Q 584.0 125.4, 585.3 126.9 Q 586.7 128.5, 586.7 131.2 Q 586.7 134.0, 585.3 135.6 Q 583.9 137.1, 581.4 137.1 Q 578.9 137.1, 577.5 135.6 Q 576.2 134.0, 576.2 131.2 M 581.4 135.8 Q 583.2 135.8, 584.1 134.7 Q 585.1 133.5, 585.1 131.2 Q 585.1 129.0, 584.1 127.8 Q 583.2 126.7, 581.4 126.7 Q 579.7 126.7, 578.7 127.8 Q 577.8 128.9, 577.8 131.2 Q 577.8 133.5, 578.7 134.7 Q 579.7 135.8, 581.4 135.8 \" fill=\"#FF0000\"/>\n",
       "<path class=\"atom-6\" d=\"M 544.7 68.7 Q 544.7 65.9, 546.1 64.4 Q 547.4 62.9, 550.0 62.9 Q 552.5 62.9, 553.9 64.4 Q 555.2 65.9, 555.2 68.7 Q 555.2 71.5, 553.9 73.0 Q 552.5 74.6, 550.0 74.6 Q 547.5 74.6, 546.1 73.0 Q 544.7 71.5, 544.7 68.7 M 550.0 73.3 Q 551.7 73.3, 552.7 72.2 Q 553.6 71.0, 553.6 68.7 Q 553.6 66.4, 552.7 65.3 Q 551.7 64.2, 550.0 64.2 Q 548.2 64.2, 547.3 65.3 Q 546.3 66.4, 546.3 68.7 Q 546.3 71.0, 547.3 72.2 Q 548.2 73.3, 550.0 73.3 \" fill=\"#FF0000\"/>\n",
       "<path class=\"atom-6\" d=\"M 557.0 63.0 L 558.6 63.0 L 558.6 67.9 L 564.4 67.9 L 564.4 63.0 L 566.0 63.0 L 566.0 74.4 L 564.4 74.4 L 564.4 69.2 L 558.6 69.2 L 558.6 74.4 L 557.0 74.4 L 557.0 63.0 \" fill=\"#FF0000\"/>\n",
       "<path d=\"M 602.5,90.0 L 602.5,110.0\" style=\"fill:none;fill-rule:evenodd;stroke:#000000;stroke-width:2.0px;stroke-linecap:butt;stroke-linejoin:miter;stroke-opacity:1\"/>\n",
       "<path d=\"M 592.5,100.0 L 612.5,100.0\" style=\"fill:none;fill-rule:evenodd;stroke:#000000;stroke-width:2.0px;stroke-linecap:butt;stroke-linejoin:miter;stroke-opacity:1\"/>\n",
       "<path class=\"bond-15 atom-17 atom-18\" d=\"M 697.8,102.9 L 683.8,102.9\" style=\"fill:none;fill-rule:evenodd;stroke:#FF0000;stroke-width:2.0px;stroke-linecap:butt;stroke-linejoin:miter;stroke-opacity:1\"/>\n",
       "<path class=\"bond-15 atom-17 atom-18\" d=\"M 683.8,102.9 L 669.7,102.9\" style=\"fill:none;fill-rule:evenodd;stroke:#000000;stroke-width:2.0px;stroke-linecap:butt;stroke-linejoin:miter;stroke-opacity:1\"/>\n",
       "<path class=\"bond-15 atom-17 atom-18\" d=\"M 697.8,96.9 L 683.8,96.9\" style=\"fill:none;fill-rule:evenodd;stroke:#FF0000;stroke-width:2.0px;stroke-linecap:butt;stroke-linejoin:miter;stroke-opacity:1\"/>\n",
       "<path class=\"bond-15 atom-17 atom-18\" d=\"M 683.8,96.9 L 669.7,96.9\" style=\"fill:none;fill-rule:evenodd;stroke:#000000;stroke-width:2.0px;stroke-linecap:butt;stroke-linejoin:miter;stroke-opacity:1\"/>\n",
       "<path class=\"bond-16 atom-18 atom-19\" d=\"M 658.3,102.9 L 644.2,102.9\" style=\"fill:none;fill-rule:evenodd;stroke:#000000;stroke-width:2.0px;stroke-linecap:butt;stroke-linejoin:miter;stroke-opacity:1\"/>\n",
       "<path class=\"bond-16 atom-18 atom-19\" d=\"M 644.2,102.9 L 630.2,102.9\" style=\"fill:none;fill-rule:evenodd;stroke:#FF0000;stroke-width:2.0px;stroke-linecap:butt;stroke-linejoin:miter;stroke-opacity:1\"/>\n",
       "<path class=\"bond-16 atom-18 atom-19\" d=\"M 658.3,96.9 L 644.2,96.9\" style=\"fill:none;fill-rule:evenodd;stroke:#000000;stroke-width:2.0px;stroke-linecap:butt;stroke-linejoin:miter;stroke-opacity:1\"/>\n",
       "<path class=\"bond-16 atom-18 atom-19\" d=\"M 644.2,96.9 L 630.2,96.9\" style=\"fill:none;fill-rule:evenodd;stroke:#FF0000;stroke-width:2.0px;stroke-linecap:butt;stroke-linejoin:miter;stroke-opacity:1\"/>\n",
       "<path class=\"atom-0\" d=\"M 699.2 99.9 Q 699.2 97.2, 700.5 95.7 Q 701.9 94.1, 704.4 94.1 Q 706.9 94.1, 708.3 95.7 Q 709.7 97.2, 709.7 99.9 Q 709.7 102.7, 708.3 104.3 Q 706.9 105.9, 704.4 105.9 Q 701.9 105.9, 700.5 104.3 Q 699.2 102.7, 699.2 99.9 M 704.4 104.6 Q 706.2 104.6, 707.1 103.4 Q 708.0 102.2, 708.0 99.9 Q 708.0 97.7, 707.1 96.6 Q 706.2 95.4, 704.4 95.4 Q 702.7 95.4, 701.7 96.5 Q 700.8 97.7, 700.8 99.9 Q 700.8 102.3, 701.7 103.4 Q 702.7 104.6, 704.4 104.6 \" fill=\"#FF0000\"/>\n",
       "<path class=\"atom-1\" d=\"M 659.6 100.0 Q 659.6 97.1, 660.9 95.6 Q 662.3 94.1, 664.8 94.1 Q 667.2 94.1, 668.4 95.8 L 667.3 96.7 Q 666.4 95.5, 664.8 95.5 Q 663.1 95.5, 662.1 96.6 Q 661.2 97.8, 661.2 100.0 Q 661.2 102.2, 662.2 103.4 Q 663.1 104.5, 665.0 104.5 Q 666.2 104.5, 667.7 103.8 L 668.2 105.0 Q 667.6 105.4, 666.7 105.6 Q 665.7 105.8, 664.7 105.8 Q 662.3 105.8, 660.9 104.3 Q 659.6 102.8, 659.6 100.0 \" fill=\"#000000\"/>\n",
       "<path class=\"atom-2\" d=\"M 618.3 99.9 Q 618.3 97.2, 619.7 95.7 Q 621.1 94.1, 623.6 94.1 Q 626.1 94.1, 627.5 95.7 Q 628.8 97.2, 628.8 99.9 Q 628.8 102.7, 627.5 104.3 Q 626.1 105.9, 623.6 105.9 Q 621.1 105.9, 619.7 104.3 Q 618.3 102.7, 618.3 99.9 M 623.6 104.6 Q 625.3 104.6, 626.3 103.4 Q 627.2 102.2, 627.2 99.9 Q 627.2 97.7, 626.3 96.6 Q 625.3 95.4, 623.6 95.4 Q 621.8 95.4, 620.9 96.5 Q 620.0 97.7, 620.0 99.9 Q 620.0 102.3, 620.9 103.4 Q 621.8 104.6, 623.6 104.6 \" fill=\"#FF0000\"/>\n",
       "<path d=\"M 327.0,100.0 L 389.0,100.0\" style=\"fill:none;fill-rule:evenodd;stroke:#000000;stroke-width:2.0px;stroke-linecap:butt;stroke-linejoin:miter;stroke-opacity:1\"/>\n",
       "<path d=\"M 389.0,100.0 L 384.0,102.9\" style=\"fill:none;fill-rule:evenodd;stroke:#000000;stroke-width:2.0px;stroke-linecap:butt;stroke-linejoin:miter;stroke-opacity:1\"/>\n",
       "<path d=\"M 389.0,100.0 L 384.0,97.1\" style=\"fill:none;fill-rule:evenodd;stroke:#000000;stroke-width:2.0px;stroke-linecap:butt;stroke-linejoin:miter;stroke-opacity:1\"/>\n",
       "</svg>"
      ],
      "text/plain": [
       "<IPython.core.display.SVG object>"
      ]
     },
     "metadata": {},
     "output_type": "display_data"
    }
   ],
   "source": [
    "rev_smarts = \">>\".join(smarts.split(\">>\")[::-1])\n",
    "svg = draw_reaction(rev_smarts)\n",
    "with open(Path(filepaths.artifacts) /  f\"imgs/akg_decarboxylation.svg\", 'w') as f:\n",
    "    f.write(svg)\n",
    "display(SVG(svg))"
   ]
  },
  {
   "cell_type": "code",
   "execution_count": 11,
   "metadata": {},
   "outputs": [
    {
     "name": "stdout",
     "output_type": "stream",
     "text": [
      "Constructing v3_folded_pt_ns sparse adjacency matrix\n"
     ]
    }
   ],
   "source": [
    "adj, idx_sample, idx_feature = construct_sparse_adj_mat(Path(filepaths.data) / \"sprhea\" / \"v3_folded_pt_ns.csv\")"
   ]
  },
  {
   "cell_type": "code",
   "execution_count": 12,
   "metadata": {},
   "outputs": [
    {
     "name": "stdout",
     "output_type": "stream",
     "text": [
      "0.00030975533299187506\n"
     ]
    }
   ],
   "source": [
    "nrows, ncols = adj.shape\n",
    "print(adj.sum() / (nrows * ncols))"
   ]
  },
  {
   "cell_type": "code",
   "execution_count": 13,
   "metadata": {},
   "outputs": [],
   "source": [
    "r_per_p = np.array(adj.sum(axis=1)).ravel()\n",
    "p_per_r = np.array(adj.sum(axis=0)).ravel()\n",
    "n_pairs = adj.nnz\n",
    "nprot, nr = adj.shape\n",
    "mean_r_per_p, std_r_per_p = r_per_p.mean(), r_per_p.std()\n",
    "mean_p_per_r, std_p_per_r = p_per_r.mean(), p_per_r.std()"
   ]
  },
  {
   "cell_type": "code",
   "execution_count": 14,
   "metadata": {},
   "outputs": [
    {
     "name": "stdout",
     "output_type": "stream",
     "text": [
      "24523 proteins, 6460 reactions, 49071 pairs\n",
      "Reactions per protein: 2.001019451127513 \\pm 2.630107259682759\n",
      "Proteins per reaction: 7.596130030959753 \\pm 50.42952244716726\n"
     ]
    }
   ],
   "source": [
    "print(f\"{nprot} proteins, {nr} reactions, {n_pairs} pairs\")\n",
    "print(f\"Reactions per protein: {mean_r_per_p} \\pm {std_r_per_p}\")\n",
    "print(f\"Proteins per reaction: {mean_p_per_r} \\pm {std_p_per_r}\")"
   ]
  },
  {
   "cell_type": "code",
   "execution_count": 61,
   "metadata": {},
   "outputs": [
    {
     "data": {
      "image/png": "[encoded data removed]",
      "text/plain": [
       "<Figure size 1200x500 with 2 Axes>"
      ]
     },
     "metadata": {},
     "output_type": "display_data"
    },
    {
     "name": "stdout",
     "output_type": "stream",
     "text": [
      "Proteins per reaction: 7.6 $\\pm$ 50.4\n",
      "Reactions per protein: 2.0 $\\pm$ 2.6\n"
     ]
    }
   ],
   "source": [
    "color = 'gray'\n",
    "widths = [((elt // 10) + 1) * 0.7 for elt in Counter(p_per_r).keys()]\n",
    "fig, ax = plt.subplots(ncols=2, figsize=(12, 5))\n",
    "ax[0].bar(Counter(r_per_p).keys(), Counter(r_per_p).values(), color=color)\n",
    "ax[1].bar(Counter(p_per_r).keys(), Counter(p_per_r).values(), width=widths, color=color)\n",
    "ax[0].set_yscale('log')\n",
    "ax[1].set_yscale('log')\n",
    "ax[1].set_xscale('log')\n",
    "ax[0].set_xlim(0, r_per_p.max() + 0.5)\n",
    "ax[1].set_xlim(0.5, p_per_r.max() + 1000)\n",
    "ax[0].set_xticks(range(1, r_per_p.max() + 1, 2))\n",
    "ax[0].set_xlabel(\"# reactions catalyzed\")\n",
    "ax[0].set_ylabel(\"# enzymes\")\n",
    "ax[1].set_xlabel(\"# known catalysts\")\n",
    "ax[1].set_ylabel(\"# reactions\")\n",
    "plt.tight_layout()\n",
    "plt.savefig(Path(filepaths.artifacts) / \"figures/methods/adj_mat_row_col_sums.svg\")\n",
    "plt.show()\n",
    "\n",
    "print(f\"Proteins per reaction: {mean_p_per_r:.1f} \" + r\"$\\pm$\" + f\" {std_p_per_r:.1f}\")\n",
    "print(f\"Reactions per protein: {mean_r_per_p:.1f} \" + r\"$\\pm$\" + f\" {std_r_per_p:.1f}\")"
   ]
  },
  {
   "cell_type": "code",
   "execution_count": 53,
   "metadata": {},
   "outputs": [
    {
     "data": {
      "text/plain": [
       "10"
      ]
     },
     "execution_count": 53,
     "metadata": {},
     "output_type": "execute_result"
    }
   ],
   "source": [
    "103 // 10"
   ]
  },
  {
   "cell_type": "code",
   "execution_count": null,
   "metadata": {},
   "outputs": [
    {
     "data": {
      "image/png": "[encoded data removed]",
      "text/plain": [
       "<Figure size 1200x600 with 1 Axes>"
      ]
     },
     "metadata": {},
     "output_type": "display_data"
    }
   ],
   "source": [
    "n_digits = 2\n",
    "ecs = [enz['ec'] for rxn in krs.values() for enz in rxn['enzymes'] ]\n",
    "ecs = [\".\".join(elt.split(\".\")[:n_digits]) for elt in ecs if elt]\n",
    "ec_counts = Counter(ecs)\n",
    "sorted_ec_counts = dict(sorted(ec_counts.items()))\n",
    "\n",
    "keys = list(sorted_ec_counts.keys())\n",
    "values = list(sorted_ec_counts.values())\n",
    "\n",
    "fig, ax = plt.subplots(figsize=(12, 6))\n",
    "ax.bar(keys, values, color='gray')\n",
    "\n",
    "ax.set_xlabel('EC numbers')\n",
    "ax.set_ylabel('Counts')\n",
    "ax.set_xticks(range(len(keys)))\n",
    "ax.set_xticklabels(keys, ha='right', rotation=90)\n",
    "ax.set_yscale('log')\n",
    "plt.tight_layout()\n",
    "plt.savefig(Path(filepaths.artifacts) / \"figures/methods/ec_counts.svg\")\n",
    "plt.show()"
   ]
  },
  {
   "cell_type": "code",
   "execution_count": null,
   "metadata": {},
   "outputs": [],
   "source": [
    "import svgutils.compose as sc\n",
    "import svgutils.transform as st\n",
    "\n",
    "def draw_mol_svg(mol, hilite_atoms=[], hcolor=(0.7, 0.9, 0.6), unscaled_width=200, height=200, scl_fcn=np.log10, width_offset=25):\n",
    "    hcolor = {idx: hcolor for idx in hilite_atoms}\n",
    "    nb = mol.GetNumAtoms()\n",
    "    width = int(scl_fcn(nb) * unscaled_width) + width_offset\n",
    "    d2d = Draw.MolDraw2DSVG(width, height)\n",
    "    d2d.DrawMolecule(mol, highlightAtoms=hilite_atoms, highlightAtomColors=hcolor)\n",
    "    d2d.FinishDrawing()\n",
    "    svg = d2d.GetDrawingText()\n",
    "    return svg\n",
    "\n",
    "def rxn_from_smarts(smarts, reverse):\n",
    "    if reverse:\n",
    "        smiles = [elt.split(\".\") for elt in smarts.split(\">>\")[::-1]]\n",
    "    else:\n",
    "        smiles = [elt.split(\".\") for elt in smarts.split(\">>\")[::-1]]\n",
    "    mol_svg = [[], []]\n",
    "    for side in range(2):\n",
    "        for smi in smiles[side]:\n",
    "            mol = Chem.MolFromSmiles(smi)\n",
    "            mol_svg[side].append(draw_mol_svg(mol))\n",
    "    print([len(elt) for elt in mol_svg])\n",
    "\n",
    "    return draw_rxn_from_mol_svg(mol_svg)\n",
    "\n",
    "def draw_rxn_from_mol_svg(mol_svgs, plus_path=\"../artifacts/imgs/plus.svg\", arrow_path=\"../artifacts/imgs/arrow.svg\"):\n",
    "    last_elt = lambda L : L[len(L) - 1]\n",
    "    max_height = 0\n",
    "    elements = []\n",
    "    movex = [0]\n",
    "    for side in range(2):\n",
    "        for i, ms in enumerate(mol_svgs[side]):\n",
    "            sfig = st.fromstring(ms)\n",
    "            width, height = int(sfig.width.strip('px')), int(sfig.height.strip('px'))\n",
    "            elt = sfig.getroot()\n",
    "            elements.append(elt)\n",
    "            movex.append(last_elt(movex) + width)\n",
    "\n",
    "            if i < len(mol_svgs[side]) - 1:\n",
    "                plus = sc.SVG(plus_path)\n",
    "                elements.append(plus)\n",
    "                movex.append(last_elt(movex) + plus.width)\n",
    "            \n",
    "            if height > max_height:\n",
    "                max_height = height \n",
    "        \n",
    "        if side == 0:\n",
    "            arrow = sc.SVG(arrow_path)\n",
    "            elements.append(arrow)\n",
    "            movex.append(last_elt(movex) + arrow.width)\n",
    "\n",
    "    for i, elt in enumerate(elements):\n",
    "        elt.moveto(movex[i], 0)\n",
    "\n",
    "    overall_width = movex[-1]\n",
    "    print(overall_width, max_height)\n",
    "    rxn = sc.Figure(overall_width, max_height, *elements)\n",
    "    return rxn"
   ]
  },
  {
   "cell_type": "code",
   "execution_count": null,
   "metadata": {},
   "outputs": [
    {
     "name": "stdout",
     "output_type": "stream",
     "text": [
      "Nc1ncnc2c1ncn2C1OC(COP(=O)(O)OP(=O)(O)O)C(O)C1O.*NC(COP(=O)(O)O)C(*)=O>>*NC(CO)C(*)=O.Nc1ncnc2c1ncn2C1OC(COP(=O)(O)OP(=O)(O)OP(=O)(O)O)C(O)C1O\n",
      "[2, 2]\n",
      "1199.0 200\n"
     ]
    },
    {
     "data": {
      "image/svg+xml": [
       "<?xml version='1.0' encoding='ASCII' standalone='yes'?>\n",
       "<svg xmlns=\"http://www.w3.org/2000/svg\" xmlns:xlink=\"http://www.w3.org/1999/xlink\" version=\"1.1\" width=\"1199.0px\" viewBox=\"0 0 1199.0 200.0\" height=\"200.0px\">\n",
       "  <g>\n",
       "    <g transform=\"translate(0, 0) scale(1 1) \"><!-- END OF HEADER -->\n",
       "<rect style=\"opacity:1.0;fill:#FFFFFF;stroke:none\" width=\"205.0\" height=\"200.0\" x=\"0.0\" y=\"0.0\"> </rect>\n",
       "<path class=\"bond-0 atom-0 atom-1\" d=\"M 18.1,81.0 L 32.7,72.6\" style=\"fill:none;fill-rule:evenodd;stroke:#191919;stroke-width:2.0px;stroke-linecap:butt;stroke-linejoin:miter;stroke-opacity:1\"/>\n",
       "<path class=\"bond-0 atom-0 atom-1\" d=\"M 32.7,72.6 L 47.4,64.1\" style=\"fill:none;fill-rule:evenodd;stroke:#0000FF;stroke-width:2.0px;stroke-linecap:butt;stroke-linejoin:miter;stroke-opacity:1\"/>\n",
       "<path class=\"bond-1 atom-1 atom-2\" d=\"M 60.5,64.1 L 77.5,73.9\" style=\"fill:none;fill-rule:evenodd;stroke:#0000FF;stroke-width:2.0px;stroke-linecap:butt;stroke-linejoin:miter;stroke-opacity:1\"/>\n",
       "<path class=\"bond-1 atom-1 atom-2\" d=\"M 77.5,73.9 L 94.5,83.7\" style=\"fill:none;fill-rule:evenodd;stroke:#000000;stroke-width:2.0px;stroke-linecap:butt;stroke-linejoin:miter;stroke-opacity:1\"/>\n",
       "<path class=\"bond-2 atom-2 atom-3\" d=\"M 94.5,83.7 L 135.1,60.3\" style=\"fill:none;fill-rule:evenodd;stroke:#000000;stroke-width:2.0px;stroke-linecap:butt;stroke-linejoin:miter;stroke-opacity:1\"/>\n",
       "<path class=\"bond-3 atom-3 atom-4\" d=\"M 135.1,60.3 L 151.6,69.8\" style=\"fill:none;fill-rule:evenodd;stroke:#000000;stroke-width:2.0px;stroke-linecap:butt;stroke-linejoin:miter;stroke-opacity:1\"/>\n",
       "<path class=\"bond-3 atom-3 atom-4\" d=\"M 151.6,69.8 L 168.1,79.3\" style=\"fill:none;fill-rule:evenodd;stroke:#FF0000;stroke-width:2.0px;stroke-linecap:butt;stroke-linejoin:miter;stroke-opacity:1\"/>\n",
       "<path class=\"bond-4 atom-2 atom-5\" d=\"M 94.5,83.7 L 94.5,130.6\" style=\"fill:none;fill-rule:evenodd;stroke:#000000;stroke-width:2.0px;stroke-linecap:butt;stroke-linejoin:miter;stroke-opacity:1\"/>\n",
       "<path class=\"bond-5 atom-5 atom-6\" d=\"M 94.5,130.6 L 112.5,140.9\" style=\"fill:none;fill-rule:evenodd;stroke:#000000;stroke-width:2.0px;stroke-linecap:butt;stroke-linejoin:miter;stroke-opacity:1\"/>\n",
       "<path class=\"bond-5 atom-5 atom-6\" d=\"M 112.5,140.9 L 130.4,151.3\" style=\"fill:none;fill-rule:evenodd;stroke:#191919;stroke-width:2.0px;stroke-linecap:butt;stroke-linejoin:miter;stroke-opacity:1\"/>\n",
       "<path class=\"bond-6 atom-5 atom-7\" d=\"M 94.5,126.5 L 77.2,136.5\" style=\"fill:none;fill-rule:evenodd;stroke:#000000;stroke-width:2.0px;stroke-linecap:butt;stroke-linejoin:miter;stroke-opacity:1\"/>\n",
       "<path class=\"bond-6 atom-5 atom-7\" d=\"M 77.2,136.5 L 59.9,146.6\" style=\"fill:none;fill-rule:evenodd;stroke:#FF0000;stroke-width:2.0px;stroke-linecap:butt;stroke-linejoin:miter;stroke-opacity:1\"/>\n",
       "<path class=\"bond-6 atom-5 atom-7\" d=\"M 98.1,132.6 L 80.7,142.6\" style=\"fill:none;fill-rule:evenodd;stroke:#000000;stroke-width:2.0px;stroke-linecap:butt;stroke-linejoin:miter;stroke-opacity:1\"/>\n",
       "<path class=\"bond-6 atom-5 atom-7\" d=\"M 80.7,142.6 L 63.4,152.6\" style=\"fill:none;fill-rule:evenodd;stroke:#FF0000;stroke-width:2.0px;stroke-linecap:butt;stroke-linejoin:miter;stroke-opacity:1\"/>\n",
       "<path d=\"M 133.1,61.5 L 135.1,60.3 L 136.0,60.8\" style=\"fill:none;stroke:#000000;stroke-width:2.0px;stroke-linecap:butt;stroke-linejoin:miter;stroke-opacity:1;\"/>\n",
       "<path d=\"M 94.5,128.2 L 94.5,130.6 L 95.4,131.1\" style=\"fill:none;stroke:#000000;stroke-width:2.0px;stroke-linecap:butt;stroke-linejoin:miter;stroke-opacity:1;\"/>\n",
       "<path class=\"atom-0\" d=\"M 10.9 82.2 L 12.8 80.3 L 10.2 79.7 L 10.6 78.4 L 13.0 79.6 L 12.7 77.0 L 14.1 77.0 L 13.7 79.6 L 16.1 78.5 L 16.5 79.7 L 13.9 80.2 L 15.8 82.2 L 14.6 83.1 L 13.3 80.6 L 12.0 83.1 L 10.9 82.2 \" fill=\"#191919\"/>\n",
       "<path class=\"atom-1\" d=\"M 51.0 53.7 L 55.4 60.7 Q 55.8 61.4, 56.5 62.6 Q 57.2 63.9, 57.2 64.0 L 57.2 53.7 L 59.0 53.7 L 59.0 66.9 L 57.2 66.9 L 52.5 59.3 Q 52.0 58.4, 51.4 57.3 Q 50.8 56.3, 50.7 56.0 L 50.7 66.9 L 48.9 66.9 L 48.9 53.7 L 51.0 53.7 \" fill=\"#0000FF\"/>\n",
       "<path class=\"atom-1\" d=\"M 48.8 39.1 L 50.6 39.1 L 50.6 44.7 L 57.4 44.7 L 57.4 39.1 L 59.2 39.1 L 59.2 52.3 L 57.4 52.3 L 57.4 46.2 L 50.6 46.2 L 50.6 52.3 L 48.8 52.3 L 48.8 39.1 \" fill=\"#0000FF\"/>\n",
       "<path class=\"atom-4\" d=\"M 169.6 83.8 Q 169.6 80.6, 171.2 78.8 Q 172.8 77.0, 175.7 77.0 Q 178.7 77.0, 180.2 78.8 Q 181.8 80.6, 181.8 83.8 Q 181.8 87.0, 180.2 88.8 Q 178.6 90.6, 175.7 90.6 Q 172.8 90.6, 171.2 88.8 Q 169.6 87.0, 169.6 83.8 M 175.7 89.1 Q 177.7 89.1, 178.8 87.8 Q 179.9 86.4, 179.9 83.8 Q 179.9 81.2, 178.8 79.8 Q 177.7 78.5, 175.7 78.5 Q 173.7 78.5, 172.6 79.8 Q 171.5 81.1, 171.5 83.8 Q 171.5 86.4, 172.6 87.8 Q 173.7 89.1, 175.7 89.1 \" fill=\"#FF0000\"/>\n",
       "<path class=\"atom-4\" d=\"M 183.9 77.2 L 185.7 77.2 L 185.7 82.8 L 192.5 82.8 L 192.5 77.2 L 194.2 77.2 L 194.2 90.4 L 192.5 90.4 L 192.5 84.3 L 185.7 84.3 L 185.7 90.4 L 183.9 90.4 L 183.9 77.2 \" fill=\"#FF0000\"/>\n",
       "<path class=\"atom-6\" d=\"M 132.6 152.5 L 134.6 150.5 L 132.0 150.0 L 132.4 148.7 L 134.8 149.9 L 134.4 147.3 L 135.8 147.3 L 135.4 149.9 L 137.9 148.7 L 138.3 150.0 L 135.6 150.5 L 137.5 152.5 L 136.4 153.3 L 135.1 150.9 L 133.8 153.3 L 132.6 152.5 \" fill=\"#191919\"/>\n",
       "<path class=\"atom-7\" d=\"M 47.9 154.1 Q 47.9 150.9, 49.5 149.1 Q 51.0 147.3, 54.0 147.3 Q 56.9 147.3, 58.5 149.1 Q 60.1 150.9, 60.1 154.1 Q 60.1 157.3, 58.5 159.1 Q 56.9 160.9, 54.0 160.9 Q 51.0 160.9, 49.5 159.1 Q 47.9 157.3, 47.9 154.1 M 54.0 159.4 Q 56.0 159.4, 57.1 158.1 Q 58.2 156.7, 58.2 154.1 Q 58.2 151.4, 57.1 150.1 Q 56.0 148.8, 54.0 148.8 Q 51.9 148.8, 50.8 150.1 Q 49.8 151.4, 49.8 154.1 Q 49.8 156.7, 50.8 158.1 Q 51.9 159.4, 54.0 159.4 \" fill=\"#FF0000\"/>\n",
       "</g>\n",
       "    <g transform=\"translate(205, 0) scale(1 1) \"><line x1=\"15\" y1=\"100\" x2=\"25\" y2=\"100\" style=\"stroke:rgb(0,0,0);stroke-width:2\"/>\n",
       "  <line x1=\"20\" y1=\"95\" x2=\"20\" y2=\"105\" style=\"stroke:rgb(0,0,0);stroke-width:2\"/>\n",
       "</g>\n",
       "    <g transform=\"translate(245.0, 0) scale(1 1) \"><!-- END OF HEADER -->\n",
       "<rect style=\"opacity:1.0;fill:#FFFFFF;stroke:none\" width=\"323.0\" height=\"200.0\" x=\"0.0\" y=\"0.0\"> </rect>\n",
       "<path class=\"bond-0 atom-0 atom-1\" d=\"M 287.2,139.4 L 275.7,139.0\" style=\"fill:none;fill-rule:evenodd;stroke:#0000FF;stroke-width:2.0px;stroke-linecap:butt;stroke-linejoin:miter;stroke-opacity:1\"/>\n",
       "<path class=\"bond-0 atom-0 atom-1\" d=\"M 275.7,139.0 L 264.2,138.6\" style=\"fill:none;fill-rule:evenodd;stroke:#000000;stroke-width:2.0px;stroke-linecap:butt;stroke-linejoin:miter;stroke-opacity:1\"/>\n",
       "<path class=\"bond-1 atom-1 atom-2\" d=\"M 264.2,138.6 L 258.5,147.6\" style=\"fill:none;fill-rule:evenodd;stroke:#000000;stroke-width:2.0px;stroke-linecap:butt;stroke-linejoin:miter;stroke-opacity:1\"/>\n",
       "<path class=\"bond-1 atom-1 atom-2\" d=\"M 258.5,147.6 L 252.9,156.6\" style=\"fill:none;fill-rule:evenodd;stroke:#0000FF;stroke-width:2.0px;stroke-linecap:butt;stroke-linejoin:miter;stroke-opacity:1\"/>\n",
       "<path class=\"bond-1 atom-1 atom-2\" d=\"M 259.6,138.4 L 254.5,146.4\" style=\"fill:none;fill-rule:evenodd;stroke:#000000;stroke-width:2.0px;stroke-linecap:butt;stroke-linejoin:miter;stroke-opacity:1\"/>\n",
       "<path class=\"bond-1 atom-1 atom-2\" d=\"M 254.5,146.4 L 249.4,154.4\" style=\"fill:none;fill-rule:evenodd;stroke:#0000FF;stroke-width:2.0px;stroke-linecap:butt;stroke-linejoin:miter;stroke-opacity:1\"/>\n",
       "<path class=\"bond-2 atom-2 atom-3\" d=\"M 246.1,161.1 L 234.6,160.7\" style=\"fill:none;fill-rule:evenodd;stroke:#0000FF;stroke-width:2.0px;stroke-linecap:butt;stroke-linejoin:miter;stroke-opacity:1\"/>\n",
       "<path class=\"bond-2 atom-2 atom-3\" d=\"M 234.6,160.7 L 223.1,160.2\" style=\"fill:none;fill-rule:evenodd;stroke:#000000;stroke-width:2.0px;stroke-linecap:butt;stroke-linejoin:miter;stroke-opacity:1\"/>\n",
       "<path class=\"bond-3 atom-3 atom-4\" d=\"M 223.1,160.2 L 218.1,150.7\" style=\"fill:none;fill-rule:evenodd;stroke:#000000;stroke-width:2.0px;stroke-linecap:butt;stroke-linejoin:miter;stroke-opacity:1\"/>\n",
       "<path class=\"bond-3 atom-3 atom-4\" d=\"M 218.1,150.7 L 213.0,141.2\" style=\"fill:none;fill-rule:evenodd;stroke:#0000FF;stroke-width:2.0px;stroke-linecap:butt;stroke-linejoin:miter;stroke-opacity:1\"/>\n",
       "<path class=\"bond-3 atom-3 atom-4\" d=\"M 225.6,156.3 L 221.1,147.8\" style=\"fill:none;fill-rule:evenodd;stroke:#000000;stroke-width:2.0px;stroke-linecap:butt;stroke-linejoin:miter;stroke-opacity:1\"/>\n",
       "<path class=\"bond-3 atom-3 atom-4\" d=\"M 221.1,147.8 L 216.6,139.3\" style=\"fill:none;fill-rule:evenodd;stroke:#0000FF;stroke-width:2.0px;stroke-linecap:butt;stroke-linejoin:miter;stroke-opacity:1\"/>\n",
       "<path class=\"bond-4 atom-4 atom-5\" d=\"M 213.5,131.8 L 219.2,122.8\" style=\"fill:none;fill-rule:evenodd;stroke:#0000FF;stroke-width:2.0px;stroke-linecap:butt;stroke-linejoin:miter;stroke-opacity:1\"/>\n",
       "<path class=\"bond-4 atom-4 atom-5\" d=\"M 219.2,122.8 L 224.9,113.8\" style=\"fill:none;fill-rule:evenodd;stroke:#000000;stroke-width:2.0px;stroke-linecap:butt;stroke-linejoin:miter;stroke-opacity:1\"/>\n",
       "<path class=\"bond-5 atom-5 atom-6\" d=\"M 224.9,113.8 L 251.7,114.8\" style=\"fill:none;fill-rule:evenodd;stroke:#000000;stroke-width:2.0px;stroke-linecap:butt;stroke-linejoin:miter;stroke-opacity:1\"/>\n",
       "<path class=\"bond-5 atom-5 atom-6\" d=\"M 227.0,117.9 L 249.2,118.7\" style=\"fill:none;fill-rule:evenodd;stroke:#000000;stroke-width:2.0px;stroke-linecap:butt;stroke-linejoin:miter;stroke-opacity:1\"/>\n",
       "<path class=\"bond-6 atom-6 atom-7\" d=\"M 251.7,114.8 L 255.4,104.6\" style=\"fill:none;fill-rule:evenodd;stroke:#000000;stroke-width:2.0px;stroke-linecap:butt;stroke-linejoin:miter;stroke-opacity:1\"/>\n",
       "<path class=\"bond-6 atom-6 atom-7\" d=\"M 255.4,104.6 L 259.2,94.3\" style=\"fill:none;fill-rule:evenodd;stroke:#0000FF;stroke-width:2.0px;stroke-linecap:butt;stroke-linejoin:miter;stroke-opacity:1\"/>\n",
       "<path class=\"bond-7 atom-7 atom-8\" d=\"M 257.2,86.7 L 248.5,79.8\" style=\"fill:none;fill-rule:evenodd;stroke:#0000FF;stroke-width:2.0px;stroke-linecap:butt;stroke-linejoin:miter;stroke-opacity:1\"/>\n",
       "<path class=\"bond-7 atom-7 atom-8\" d=\"M 248.5,79.8 L 239.8,73.0\" style=\"fill:none;fill-rule:evenodd;stroke:#000000;stroke-width:2.0px;stroke-linecap:butt;stroke-linejoin:miter;stroke-opacity:1\"/>\n",
       "<path class=\"bond-7 atom-7 atom-8\" d=\"M 254.7,89.8 L 247.2,83.9\" style=\"fill:none;fill-rule:evenodd;stroke:#0000FF;stroke-width:2.0px;stroke-linecap:butt;stroke-linejoin:miter;stroke-opacity:1\"/>\n",
       "<path class=\"bond-7 atom-7 atom-8\" d=\"M 247.2,83.9 L 239.6,78.0\" style=\"fill:none;fill-rule:evenodd;stroke:#000000;stroke-width:2.0px;stroke-linecap:butt;stroke-linejoin:miter;stroke-opacity:1\"/>\n",
       "<path class=\"bond-8 atom-8 atom-9\" d=\"M 239.8,73.0 L 230.6,79.2\" style=\"fill:none;fill-rule:evenodd;stroke:#000000;stroke-width:2.0px;stroke-linecap:butt;stroke-linejoin:miter;stroke-opacity:1\"/>\n",
       "<path class=\"bond-8 atom-8 atom-9\" d=\"M 230.6,79.2 L 221.3,85.4\" style=\"fill:none;fill-rule:evenodd;stroke:#0000FF;stroke-width:2.0px;stroke-linecap:butt;stroke-linejoin:miter;stroke-opacity:1\"/>\n",
       "<path class=\"bond-9 atom-9 atom-10\" d=\"M 213.8,86.6 L 203.1,82.7\" style=\"fill:none;fill-rule:evenodd;stroke:#0000FF;stroke-width:2.0px;stroke-linecap:butt;stroke-linejoin:miter;stroke-opacity:1\"/>\n",
       "<path class=\"bond-9 atom-9 atom-10\" d=\"M 203.1,82.7 L 192.3,78.7\" style=\"fill:none;fill-rule:evenodd;stroke:#000000;stroke-width:2.0px;stroke-linecap:butt;stroke-linejoin:miter;stroke-opacity:1\"/>\n",
       "<path class=\"bond-10 atom-10 atom-11\" d=\"M 192.3,78.7 L 183.4,84.7\" style=\"fill:none;fill-rule:evenodd;stroke:#000000;stroke-width:2.0px;stroke-linecap:butt;stroke-linejoin:miter;stroke-opacity:1\"/>\n",
       "<path class=\"bond-10 atom-10 atom-11\" d=\"M 183.4,84.7 L 174.4,90.7\" style=\"fill:none;fill-rule:evenodd;stroke:#FF0000;stroke-width:2.0px;stroke-linecap:butt;stroke-linejoin:miter;stroke-opacity:1\"/>\n",
       "<path class=\"bond-11 atom-11 atom-12\" d=\"M 165.7,90.2 L 157.3,83.6\" style=\"fill:none;fill-rule:evenodd;stroke:#FF0000;stroke-width:2.0px;stroke-linecap:butt;stroke-linejoin:miter;stroke-opacity:1\"/>\n",
       "<path class=\"bond-11 atom-11 atom-12\" d=\"M 157.3,83.6 L 148.9,77.1\" style=\"fill:none;fill-rule:evenodd;stroke:#000000;stroke-width:2.0px;stroke-linecap:butt;stroke-linejoin:miter;stroke-opacity:1\"/>\n",
       "<path class=\"bond-12 atom-12 atom-13\" d=\"M 148.9,77.1 L 123.1,84.4\" style=\"fill:none;fill-rule:evenodd;stroke:#000000;stroke-width:2.0px;stroke-linecap:butt;stroke-linejoin:miter;stroke-opacity:1\"/>\n",
       "<path class=\"bond-13 atom-13 atom-14\" d=\"M 123.1,84.4 L 115.7,77.2\" style=\"fill:none;fill-rule:evenodd;stroke:#000000;stroke-width:2.0px;stroke-linecap:butt;stroke-linejoin:miter;stroke-opacity:1\"/>\n",
       "<path class=\"bond-13 atom-13 atom-14\" d=\"M 115.7,77.2 L 108.3,69.9\" style=\"fill:none;fill-rule:evenodd;stroke:#FF0000;stroke-width:2.0px;stroke-linecap:butt;stroke-linejoin:miter;stroke-opacity:1\"/>\n",
       "<path class=\"bond-14 atom-14 atom-15\" d=\"M 99.5,66.9 L 90.4,69.5\" style=\"fill:none;fill-rule:evenodd;stroke:#FF0000;stroke-width:2.0px;stroke-linecap:butt;stroke-linejoin:miter;stroke-opacity:1\"/>\n",
       "<path class=\"bond-14 atom-14 atom-15\" d=\"M 90.4,69.5 L 81.4,72.1\" style=\"fill:none;fill-rule:evenodd;stroke:#FF7F00;stroke-width:2.0px;stroke-linecap:butt;stroke-linejoin:miter;stroke-opacity:1\"/>\n",
       "<path class=\"bond-15 atom-15 atom-16\" d=\"M 77.4,78.2 L 79.8,86.4\" style=\"fill:none;fill-rule:evenodd;stroke:#FF7F00;stroke-width:2.0px;stroke-linecap:butt;stroke-linejoin:miter;stroke-opacity:1\"/>\n",
       "<path class=\"bond-15 atom-15 atom-16\" d=\"M 79.8,86.4 L 82.1,94.6\" style=\"fill:none;fill-rule:evenodd;stroke:#FF0000;stroke-width:2.0px;stroke-linecap:butt;stroke-linejoin:miter;stroke-opacity:1\"/>\n",
       "<path class=\"bond-15 atom-15 atom-16\" d=\"M 81.3,77.1 L 83.6,85.3\" style=\"fill:none;fill-rule:evenodd;stroke:#FF7F00;stroke-width:2.0px;stroke-linecap:butt;stroke-linejoin:miter;stroke-opacity:1\"/>\n",
       "<path class=\"bond-15 atom-15 atom-16\" d=\"M 83.6,85.3 L 86.0,93.5\" style=\"fill:none;fill-rule:evenodd;stroke:#FF0000;stroke-width:2.0px;stroke-linecap:butt;stroke-linejoin:miter;stroke-opacity:1\"/>\n",
       "<path class=\"bond-16 atom-15 atom-17\" d=\"M 76.7,68.3 L 74.4,60.2\" style=\"fill:none;fill-rule:evenodd;stroke:#FF7F00;stroke-width:2.0px;stroke-linecap:butt;stroke-linejoin:miter;stroke-opacity:1\"/>\n",
       "<path class=\"bond-16 atom-15 atom-17\" d=\"M 74.4,60.2 L 72.1,52.0\" style=\"fill:none;fill-rule:evenodd;stroke:#FF0000;stroke-width:2.0px;stroke-linecap:butt;stroke-linejoin:miter;stroke-opacity:1\"/>\n",
       "<path class=\"bond-17 atom-15 atom-18\" d=\"M 74.7,73.9 L 65.7,76.5\" style=\"fill:none;fill-rule:evenodd;stroke:#FF7F00;stroke-width:2.0px;stroke-linecap:butt;stroke-linejoin:miter;stroke-opacity:1\"/>\n",
       "<path class=\"bond-17 atom-15 atom-18\" d=\"M 65.7,76.5 L 56.6,79.1\" style=\"fill:none;fill-rule:evenodd;stroke:#FF0000;stroke-width:2.0px;stroke-linecap:butt;stroke-linejoin:miter;stroke-opacity:1\"/>\n",
       "<path class=\"bond-18 atom-18 atom-19\" d=\"M 51.0,85.2 L 48.9,93.4\" style=\"fill:none;fill-rule:evenodd;stroke:#FF0000;stroke-width:2.0px;stroke-linecap:butt;stroke-linejoin:miter;stroke-opacity:1\"/>\n",
       "<path class=\"bond-18 atom-18 atom-19\" d=\"M 48.9,93.4 L 46.8,101.6\" style=\"fill:none;fill-rule:evenodd;stroke:#FF7F00;stroke-width:2.0px;stroke-linecap:butt;stroke-linejoin:miter;stroke-opacity:1\"/>\n",
       "<path class=\"bond-19 atom-19 atom-20\" d=\"M 42.8,103.5 L 33.7,101.2\" style=\"fill:none;fill-rule:evenodd;stroke:#FF7F00;stroke-width:2.0px;stroke-linecap:butt;stroke-linejoin:miter;stroke-opacity:1\"/>\n",
       "<path class=\"bond-19 atom-19 atom-20\" d=\"M 33.7,101.2 L 24.5,98.9\" style=\"fill:none;fill-rule:evenodd;stroke:#FF0000;stroke-width:2.0px;stroke-linecap:butt;stroke-linejoin:miter;stroke-opacity:1\"/>\n",
       "<path class=\"bond-19 atom-19 atom-20\" d=\"M 41.9,107.4 L 32.7,105.1\" style=\"fill:none;fill-rule:evenodd;stroke:#FF7F00;stroke-width:2.0px;stroke-linecap:butt;stroke-linejoin:miter;stroke-opacity:1\"/>\n",
       "<path class=\"bond-19 atom-19 atom-20\" d=\"M 32.7,105.1 L 23.5,102.8\" style=\"fill:none;fill-rule:evenodd;stroke:#FF0000;stroke-width:2.0px;stroke-linecap:butt;stroke-linejoin:miter;stroke-opacity:1\"/>\n",
       "<path class=\"bond-20 atom-19 atom-21\" d=\"M 49.0,107.2 L 58.1,109.5\" style=\"fill:none;fill-rule:evenodd;stroke:#FF7F00;stroke-width:2.0px;stroke-linecap:butt;stroke-linejoin:miter;stroke-opacity:1\"/>\n",
       "<path class=\"bond-20 atom-19 atom-21\" d=\"M 58.1,109.5 L 67.3,111.8\" style=\"fill:none;fill-rule:evenodd;stroke:#FF0000;stroke-width:2.0px;stroke-linecap:butt;stroke-linejoin:miter;stroke-opacity:1\"/>\n",
       "<path class=\"bond-21 atom-19 atom-22\" d=\"M 44.5,111.0 L 42.4,119.3\" style=\"fill:none;fill-rule:evenodd;stroke:#FF7F00;stroke-width:2.0px;stroke-linecap:butt;stroke-linejoin:miter;stroke-opacity:1\"/>\n",
       "<path class=\"bond-21 atom-19 atom-22\" d=\"M 42.4,119.3 L 40.3,127.6\" style=\"fill:none;fill-rule:evenodd;stroke:#FF0000;stroke-width:2.0px;stroke-linecap:butt;stroke-linejoin:miter;stroke-opacity:1\"/>\n",
       "<path class=\"bond-22 atom-22 atom-23\" d=\"M 43.5,136.6 L 49.2,142.2\" style=\"fill:none;fill-rule:evenodd;stroke:#FF0000;stroke-width:2.0px;stroke-linecap:butt;stroke-linejoin:miter;stroke-opacity:1\"/>\n",
       "<path class=\"bond-22 atom-22 atom-23\" d=\"M 49.2,142.2 L 55.0,147.8\" style=\"fill:none;fill-rule:evenodd;stroke:#FF7F00;stroke-width:2.0px;stroke-linecap:butt;stroke-linejoin:miter;stroke-opacity:1\"/>\n",
       "<path class=\"bond-23 atom-23 atom-24\" d=\"M 53.6,153.1 L 48.1,158.7\" style=\"fill:none;fill-rule:evenodd;stroke:#FF7F00;stroke-width:2.0px;stroke-linecap:butt;stroke-linejoin:miter;stroke-opacity:1\"/>\n",
       "<path class=\"bond-23 atom-23 atom-24\" d=\"M 48.1,158.7 L 42.6,164.4\" style=\"fill:none;fill-rule:evenodd;stroke:#FF0000;stroke-width:2.0px;stroke-linecap:butt;stroke-linejoin:miter;stroke-opacity:1\"/>\n",
       "<path class=\"bond-23 atom-23 atom-24\" d=\"M 56.5,155.9 L 51.0,161.5\" style=\"fill:none;fill-rule:evenodd;stroke:#FF7F00;stroke-width:2.0px;stroke-linecap:butt;stroke-linejoin:miter;stroke-opacity:1\"/>\n",
       "<path class=\"bond-23 atom-23 atom-24\" d=\"M 51.0,161.5 L 45.4,167.2\" style=\"fill:none;fill-rule:evenodd;stroke:#FF0000;stroke-width:2.0px;stroke-linecap:butt;stroke-linejoin:miter;stroke-opacity:1\"/>\n",
       "<path class=\"bond-24 atom-23 atom-25\" d=\"M 61.6,147.6 L 67.2,142.0\" style=\"fill:none;fill-rule:evenodd;stroke:#FF7F00;stroke-width:2.0px;stroke-linecap:butt;stroke-linejoin:miter;stroke-opacity:1\"/>\n",
       "<path class=\"bond-24 atom-23 atom-25\" d=\"M 67.2,142.0 L 72.7,136.3\" style=\"fill:none;fill-rule:evenodd;stroke:#FF0000;stroke-width:2.0px;stroke-linecap:butt;stroke-linejoin:miter;stroke-opacity:1\"/>\n",
       "<path class=\"bond-25 atom-23 atom-26\" d=\"M 61.6,154.3 L 67.4,159.9\" style=\"fill:none;fill-rule:evenodd;stroke:#FF7F00;stroke-width:2.0px;stroke-linecap:butt;stroke-linejoin:miter;stroke-opacity:1\"/>\n",
       "<path class=\"bond-25 atom-23 atom-26\" d=\"M 67.4,159.9 L 73.2,165.5\" style=\"fill:none;fill-rule:evenodd;stroke:#FF0000;stroke-width:2.0px;stroke-linecap:butt;stroke-linejoin:miter;stroke-opacity:1\"/>\n",
       "<path class=\"bond-26 atom-12 atom-27\" d=\"M 148.9,77.1 L 158.2,51.9\" style=\"fill:none;fill-rule:evenodd;stroke:#000000;stroke-width:2.0px;stroke-linecap:butt;stroke-linejoin:miter;stroke-opacity:1\"/>\n",
       "<path class=\"bond-27 atom-27 atom-28\" d=\"M 158.2,51.9 L 152.4,43.1\" style=\"fill:none;fill-rule:evenodd;stroke:#000000;stroke-width:2.0px;stroke-linecap:butt;stroke-linejoin:miter;stroke-opacity:1\"/>\n",
       "<path class=\"bond-27 atom-27 atom-28\" d=\"M 152.4,43.1 L 146.5,34.4\" style=\"fill:none;fill-rule:evenodd;stroke:#FF0000;stroke-width:2.0px;stroke-linecap:butt;stroke-linejoin:miter;stroke-opacity:1\"/>\n",
       "<path class=\"bond-28 atom-27 atom-29\" d=\"M 158.2,51.9 L 185.0,52.9\" style=\"fill:none;fill-rule:evenodd;stroke:#000000;stroke-width:2.0px;stroke-linecap:butt;stroke-linejoin:miter;stroke-opacity:1\"/>\n",
       "<path class=\"bond-29 atom-29 atom-30\" d=\"M 185.0,52.9 L 191.4,44.8\" style=\"fill:none;fill-rule:evenodd;stroke:#000000;stroke-width:2.0px;stroke-linecap:butt;stroke-linejoin:miter;stroke-opacity:1\"/>\n",
       "<path class=\"bond-29 atom-29 atom-30\" d=\"M 191.4,44.8 L 197.8,36.6\" style=\"fill:none;fill-rule:evenodd;stroke:#FF0000;stroke-width:2.0px;stroke-linecap:butt;stroke-linejoin:miter;stroke-opacity:1\"/>\n",
       "<path class=\"bond-30 atom-6 atom-1\" d=\"M 251.7,114.8 L 264.2,138.6\" style=\"fill:none;fill-rule:evenodd;stroke:#000000;stroke-width:2.0px;stroke-linecap:butt;stroke-linejoin:miter;stroke-opacity:1\"/>\n",
       "<path class=\"bond-31 atom-29 atom-10\" d=\"M 185.0,52.9 L 192.3,78.7\" style=\"fill:none;fill-rule:evenodd;stroke:#000000;stroke-width:2.0px;stroke-linecap:butt;stroke-linejoin:miter;stroke-opacity:1\"/>\n",
       "<path class=\"bond-32 atom-9 atom-5\" d=\"M 218.9,92.7 L 221.9,103.2\" style=\"fill:none;fill-rule:evenodd;stroke:#0000FF;stroke-width:2.0px;stroke-linecap:butt;stroke-linejoin:miter;stroke-opacity:1\"/>\n",
       "<path class=\"bond-32 atom-9 atom-5\" d=\"M 221.9,103.2 L 224.9,113.8\" style=\"fill:none;fill-rule:evenodd;stroke:#000000;stroke-width:2.0px;stroke-linecap:butt;stroke-linejoin:miter;stroke-opacity:1\"/>\n",
       "<path d=\"M 223.7,160.3 L 223.1,160.2 L 222.8,159.8\" style=\"fill:none;stroke:#000000;stroke-width:2.0px;stroke-linecap:butt;stroke-linejoin:miter;stroke-opacity:1;\"/>\n",
       "<path d=\"M 240.3,73.4 L 239.8,73.0 L 239.4,73.3\" style=\"fill:none;stroke:#000000;stroke-width:2.0px;stroke-linecap:butt;stroke-linejoin:miter;stroke-opacity:1;\"/>\n",
       "<path d=\"M 124.4,84.0 L 123.1,84.4 L 122.8,84.0\" style=\"fill:none;stroke:#000000;stroke-width:2.0px;stroke-linecap:butt;stroke-linejoin:miter;stroke-opacity:1;\"/>\n",
       "<path class=\"atom-0\" d=\"M 289.3 135.8 L 291.8 139.8 Q 292.1 140.2, 292.5 140.9 Q 292.9 141.6, 292.9 141.7 L 292.9 135.8 L 293.9 135.8 L 293.9 143.4 L 292.9 143.4 L 290.2 139.0 Q 289.9 138.5, 289.5 137.9 Q 289.2 137.3, 289.1 137.1 L 289.1 143.4 L 288.1 143.4 L 288.1 135.8 L 289.3 135.8 \" fill=\"#0000FF\"/>\n",
       "<path class=\"atom-0\" d=\"M 295.3 135.8 L 296.4 135.8 L 296.4 139.0 L 300.3 139.0 L 300.3 135.8 L 301.3 135.8 L 301.3 143.4 L 300.3 143.4 L 300.3 139.9 L 296.4 139.9 L 296.4 143.4 L 295.3 143.4 L 295.3 135.8 \" fill=\"#0000FF\"/>\n",
       "<path class=\"atom-0\" d=\"M 302.8 143.1 Q 303.0 142.6, 303.4 142.4 Q 303.8 142.1, 304.5 142.1 Q 305.2 142.1, 305.6 142.5 Q 306.1 142.9, 306.1 143.7 Q 306.1 144.4, 305.5 145.1 Q 305.0 145.8, 303.8 146.6 L 306.2 146.6 L 306.2 147.2 L 302.8 147.2 L 302.8 146.7 Q 303.7 146.0, 304.3 145.5 Q 304.8 145.0, 305.1 144.6 Q 305.4 144.1, 305.4 143.7 Q 305.4 143.2, 305.1 142.9 Q 304.9 142.7, 304.5 142.7 Q 304.1 142.7, 303.8 142.8 Q 303.5 143.0, 303.3 143.4 L 302.8 143.1 \" fill=\"#0000FF\"/>\n",
       "<path class=\"atom-2\" d=\"M 248.2 157.5 L 250.7 161.5 Q 251.0 161.9, 251.4 162.6 Q 251.8 163.3, 251.8 163.4 L 251.8 157.5 L 252.8 157.5 L 252.8 165.1 L 251.7 165.1 L 249.1 160.7 Q 248.8 160.2, 248.4 159.6 Q 248.1 159.0, 248.0 158.8 L 248.0 165.1 L 247.0 165.1 L 247.0 157.5 L 248.2 157.5 \" fill=\"#0000FF\"/>\n",
       "<path class=\"atom-4\" d=\"M 208.9 132.7 L 211.4 136.7 Q 211.6 137.1, 212.0 137.9 Q 212.4 138.6, 212.4 138.6 L 212.4 132.7 L 213.4 132.7 L 213.4 140.3 L 212.4 140.3 L 209.7 135.9 Q 209.4 135.4, 209.1 134.8 Q 208.8 134.2, 208.7 134.0 L 208.7 140.3 L 207.7 140.3 L 207.7 132.7 L 208.9 132.7 \" fill=\"#0000FF\"/>\n",
       "<path class=\"atom-7\" d=\"M 259.2 85.8 L 261.7 89.8 Q 262.0 90.2, 262.4 91.0 Q 262.8 91.7, 262.8 91.7 L 262.8 85.8 L 263.8 85.8 L 263.8 93.4 L 262.8 93.4 L 260.1 89.0 Q 259.8 88.5, 259.5 87.9 Q 259.1 87.3, 259.0 87.1 L 259.0 93.4 L 258.0 93.4 L 258.0 85.8 L 259.2 85.8 \" fill=\"#0000FF\"/>\n",
       "<path class=\"atom-9\" d=\"M 215.9 84.2 L 218.3 88.2 Q 218.6 88.6, 219.0 89.3 Q 219.4 90.0, 219.4 90.1 L 219.4 84.2 L 220.4 84.2 L 220.4 91.8 L 219.4 91.8 L 216.7 87.4 Q 216.4 86.9, 216.1 86.3 Q 215.7 85.7, 215.6 85.5 L 215.6 91.8 L 214.7 91.8 L 214.7 84.2 L 215.9 84.2 \" fill=\"#0000FF\"/>\n",
       "<path class=\"atom-11\" d=\"M 166.6 93.7 Q 166.6 91.9, 167.5 90.8 Q 168.4 89.8, 170.0 89.8 Q 171.7 89.8, 172.6 90.8 Q 173.5 91.9, 173.5 93.7 Q 173.5 95.5, 172.6 96.6 Q 171.7 97.6, 170.0 97.6 Q 168.4 97.6, 167.5 96.6 Q 166.6 95.5, 166.6 93.7 M 170.0 96.8 Q 171.2 96.8, 171.8 96.0 Q 172.5 95.2, 172.5 93.7 Q 172.5 92.2, 171.8 91.4 Q 171.2 90.7, 170.0 90.7 Q 168.9 90.7, 168.3 91.4 Q 167.6 92.2, 167.6 93.7 Q 167.6 95.2, 168.3 96.0 Q 168.9 96.8, 170.0 96.8 \" fill=\"#FF0000\"/>\n",
       "<path class=\"atom-14\" d=\"M 100.4 65.7 Q 100.4 63.9, 101.3 62.9 Q 102.2 61.8, 103.9 61.8 Q 105.6 61.8, 106.5 62.9 Q 107.4 63.9, 107.4 65.7 Q 107.4 67.5, 106.5 68.6 Q 105.5 69.6, 103.9 69.6 Q 102.2 69.6, 101.3 68.6 Q 100.4 67.6, 100.4 65.7 M 103.9 68.8 Q 105.0 68.8, 105.7 68.0 Q 106.3 67.2, 106.3 65.7 Q 106.3 64.2, 105.7 63.5 Q 105.0 62.7, 103.9 62.7 Q 102.7 62.7, 102.1 63.4 Q 101.5 64.2, 101.5 65.7 Q 101.5 67.2, 102.1 68.0 Q 102.7 68.8, 103.9 68.8 \" fill=\"#FF0000\"/>\n",
       "<path class=\"atom-15\" d=\"M 77.9 69.2 Q 79.2 69.2, 79.8 69.8 Q 80.5 70.4, 80.5 71.4 Q 80.5 72.5, 79.8 73.1 Q 79.1 73.7, 77.9 73.7 L 76.7 73.7 L 76.7 76.8 L 75.6 76.8 L 75.6 69.2 L 77.9 69.2 M 77.9 72.8 Q 78.6 72.8, 79.0 72.5 Q 79.4 72.1, 79.4 71.4 Q 79.4 70.8, 79.0 70.4 Q 78.6 70.1, 77.9 70.1 L 76.7 70.1 L 76.7 72.8 L 77.9 72.8 \" fill=\"#FF7F00\"/>\n",
       "<path class=\"atom-16\" d=\"M 81.9 98.8 Q 81.9 97.0, 82.8 96.0 Q 83.7 95.0, 85.4 95.0 Q 87.1 95.0, 88.0 96.0 Q 88.9 97.0, 88.9 98.8 Q 88.9 100.7, 87.9 101.7 Q 87.0 102.8, 85.4 102.8 Q 83.7 102.8, 82.8 101.7 Q 81.9 100.7, 81.9 98.8 M 85.4 101.9 Q 86.5 101.9, 87.2 101.1 Q 87.8 100.4, 87.8 98.8 Q 87.8 97.3, 87.2 96.6 Q 86.5 95.8, 85.4 95.8 Q 84.2 95.8, 83.6 96.6 Q 83.0 97.3, 83.0 98.8 Q 83.0 100.4, 83.6 101.1 Q 84.2 101.9, 85.4 101.9 \" fill=\"#FF0000\"/>\n",
       "<path class=\"atom-17\" d=\"M 67.2 47.2 Q 67.2 45.4, 68.2 44.3 Q 69.1 43.3, 70.7 43.3 Q 72.4 43.3, 73.3 44.3 Q 74.2 45.4, 74.2 47.2 Q 74.2 49.0, 73.3 50.1 Q 72.4 51.1, 70.7 51.1 Q 69.1 51.1, 68.2 50.1 Q 67.2 49.1, 67.2 47.2 M 70.7 50.3 Q 71.9 50.3, 72.5 49.5 Q 73.2 48.7, 73.2 47.2 Q 73.2 45.7, 72.5 45.0 Q 71.9 44.2, 70.7 44.2 Q 69.6 44.2, 68.9 44.9 Q 68.3 45.7, 68.3 47.2 Q 68.3 48.7, 68.9 49.5 Q 69.6 50.3, 70.7 50.3 \" fill=\"#FF0000\"/>\n",
       "<path class=\"atom-17\" d=\"M 75.4 43.4 L 76.4 43.4 L 76.4 46.6 L 80.3 46.6 L 80.3 43.4 L 81.4 43.4 L 81.4 51.0 L 80.3 51.0 L 80.3 47.5 L 76.4 47.5 L 76.4 51.0 L 75.4 51.0 L 75.4 43.4 \" fill=\"#FF0000\"/>\n",
       "<path class=\"atom-18\" d=\"M 48.7 80.3 Q 48.7 78.5, 49.6 77.5 Q 50.5 76.5, 52.2 76.5 Q 53.9 76.5, 54.8 77.5 Q 55.7 78.5, 55.7 80.3 Q 55.7 82.2, 54.8 83.2 Q 53.9 84.3, 52.2 84.3 Q 50.6 84.3, 49.6 83.2 Q 48.7 82.2, 48.7 80.3 M 52.2 83.4 Q 53.4 83.4, 54.0 82.6 Q 54.6 81.9, 54.6 80.3 Q 54.6 78.8, 54.0 78.1 Q 53.4 77.3, 52.2 77.3 Q 51.1 77.3, 50.4 78.1 Q 49.8 78.8, 49.8 80.3 Q 49.8 81.9, 50.4 82.6 Q 51.1 83.4, 52.2 83.4 \" fill=\"#FF0000\"/>\n",
       "<path class=\"atom-19\" d=\"M 45.5 102.5 Q 46.8 102.5, 47.4 103.1 Q 48.1 103.7, 48.1 104.8 Q 48.1 105.8, 47.4 106.4 Q 46.7 107.0, 45.5 107.0 L 44.3 107.0 L 44.3 110.1 L 43.2 110.1 L 43.2 102.5 L 45.5 102.5 M 45.5 106.2 Q 46.2 106.2, 46.6 105.8 Q 47.0 105.4, 47.0 104.8 Q 47.0 104.1, 46.6 103.7 Q 46.2 103.4, 45.5 103.4 L 44.3 103.4 L 44.3 106.2 L 45.5 106.2 \" fill=\"#FF7F00\"/>\n",
       "<path class=\"atom-20\" d=\"M 16.2 99.8 Q 16.2 98.0, 17.1 96.9 Q 18.0 95.9, 19.6 95.9 Q 21.3 95.9, 22.2 96.9 Q 23.1 98.0, 23.1 99.8 Q 23.1 101.6, 22.2 102.7 Q 21.3 103.7, 19.6 103.7 Q 18.0 103.7, 17.1 102.7 Q 16.2 101.6, 16.2 99.8 M 19.6 102.9 Q 20.8 102.9, 21.4 102.1 Q 22.1 101.3, 22.1 99.8 Q 22.1 98.3, 21.4 97.5 Q 20.8 96.8, 19.6 96.8 Q 18.5 96.8, 17.8 97.5 Q 17.2 98.3, 17.2 99.8 Q 17.2 101.3, 17.8 102.1 Q 18.5 102.9, 19.6 102.9 \" fill=\"#FF0000\"/>\n",
       "<path class=\"atom-21\" d=\"M 68.2 112.9 Q 68.2 111.1, 69.1 110.1 Q 70.0 109.1, 71.7 109.1 Q 73.4 109.1, 74.3 110.1 Q 75.2 111.1, 75.2 112.9 Q 75.2 114.8, 74.3 115.8 Q 73.3 116.9, 71.7 116.9 Q 70.0 116.9, 69.1 115.8 Q 68.2 114.8, 68.2 112.9 M 71.7 116.0 Q 72.8 116.0, 73.5 115.2 Q 74.1 114.5, 74.1 112.9 Q 74.1 111.4, 73.5 110.7 Q 72.8 109.9, 71.7 109.9 Q 70.5 109.9, 69.9 110.7 Q 69.3 111.4, 69.3 112.9 Q 69.3 114.5, 69.9 115.2 Q 70.5 116.0, 71.7 116.0 \" fill=\"#FF0000\"/>\n",
       "<path class=\"atom-21\" d=\"M 76.4 109.1 L 77.4 109.1 L 77.4 112.4 L 81.3 112.4 L 81.3 109.1 L 82.3 109.1 L 82.3 116.8 L 81.3 116.8 L 81.3 113.2 L 77.4 113.2 L 77.4 116.8 L 76.4 116.8 L 76.4 109.1 \" fill=\"#FF0000\"/>\n",
       "<path class=\"atom-22\" d=\"M 35.6 132.4 Q 35.6 130.6, 36.5 129.5 Q 37.4 128.5, 39.1 128.5 Q 40.8 128.5, 41.7 129.5 Q 42.6 130.6, 42.6 132.4 Q 42.6 134.2, 41.7 135.3 Q 40.7 136.3, 39.1 136.3 Q 37.4 136.3, 36.5 135.3 Q 35.6 134.2, 35.6 132.4 M 39.1 135.5 Q 40.2 135.5, 40.9 134.7 Q 41.5 133.9, 41.5 132.4 Q 41.5 130.9, 40.9 130.1 Q 40.2 129.4, 39.1 129.4 Q 37.9 129.4, 37.3 130.1 Q 36.7 130.9, 36.7 132.4 Q 36.7 133.9, 37.3 134.7 Q 37.9 135.5, 39.1 135.5 \" fill=\"#FF0000\"/>\n",
       "<path class=\"atom-23\" d=\"M 58.2 147.3 Q 59.5 147.3, 60.1 147.8 Q 60.8 148.4, 60.8 149.5 Q 60.8 150.5, 60.1 151.1 Q 59.4 151.7, 58.2 151.7 L 56.9 151.7 L 56.9 154.9 L 55.9 154.9 L 55.9 147.3 L 58.2 147.3 M 58.2 150.9 Q 58.9 150.9, 59.3 150.5 Q 59.7 150.2, 59.7 149.5 Q 59.7 148.8, 59.3 148.5 Q 58.9 148.1, 58.2 148.1 L 56.9 148.1 L 56.9 150.9 L 58.2 150.9 \" fill=\"#FF7F00\"/>\n",
       "<path class=\"atom-24\" d=\"M 36.1 170.3 Q 36.1 168.5, 37.0 167.5 Q 37.9 166.5, 39.6 166.5 Q 41.3 166.5, 42.2 167.5 Q 43.1 168.5, 43.1 170.3 Q 43.1 172.2, 42.2 173.2 Q 41.3 174.3, 39.6 174.3 Q 38.0 174.3, 37.0 173.2 Q 36.1 172.2, 36.1 170.3 M 39.6 173.4 Q 40.8 173.4, 41.4 172.6 Q 42.0 171.9, 42.0 170.3 Q 42.0 168.8, 41.4 168.1 Q 40.8 167.3, 39.6 167.3 Q 38.5 167.3, 37.8 168.1 Q 37.2 168.8, 37.2 170.3 Q 37.2 171.9, 37.8 172.6 Q 38.5 173.4, 39.6 173.4 \" fill=\"#FF0000\"/>\n",
       "<path class=\"atom-25\" d=\"M 73.5 131.8 Q 73.5 130.0, 74.5 129.0 Q 75.4 128.0, 77.0 128.0 Q 78.7 128.0, 79.6 129.0 Q 80.5 130.0, 80.5 131.8 Q 80.5 133.7, 79.6 134.7 Q 78.7 135.8, 77.0 135.8 Q 75.4 135.8, 74.5 134.7 Q 73.5 133.7, 73.5 131.8 M 77.0 134.9 Q 78.2 134.9, 78.8 134.1 Q 79.5 133.4, 79.5 131.8 Q 79.5 130.3, 78.8 129.6 Q 78.2 128.8, 77.0 128.8 Q 75.9 128.8, 75.2 129.6 Q 74.6 130.3, 74.6 131.8 Q 74.6 133.4, 75.2 134.1 Q 75.9 134.9, 77.0 134.9 \" fill=\"#FF0000\"/>\n",
       "<path class=\"atom-25\" d=\"M 81.7 128.1 L 82.7 128.1 L 82.7 131.3 L 86.6 131.3 L 86.6 128.1 L 87.7 128.1 L 87.7 135.7 L 86.6 135.7 L 86.6 132.1 L 82.7 132.1 L 82.7 135.7 L 81.7 135.7 L 81.7 128.1 \" fill=\"#FF0000\"/>\n",
       "<path class=\"atom-26\" d=\"M 74.1 169.8 Q 74.1 168.0, 75.0 166.9 Q 75.9 165.9, 77.6 165.9 Q 79.3 165.9, 80.2 166.9 Q 81.1 168.0, 81.1 169.8 Q 81.1 171.6, 80.2 172.7 Q 79.2 173.7, 77.6 173.7 Q 75.9 173.7, 75.0 172.7 Q 74.1 171.6, 74.1 169.8 M 77.6 172.9 Q 78.7 172.9, 79.4 172.1 Q 80.0 171.3, 80.0 169.8 Q 80.0 168.3, 79.4 167.5 Q 78.7 166.8, 77.6 166.8 Q 76.4 166.8, 75.8 167.5 Q 75.2 168.3, 75.2 169.8 Q 75.2 171.3, 75.8 172.1 Q 76.4 172.9, 77.6 172.9 \" fill=\"#FF0000\"/>\n",
       "<path class=\"atom-26\" d=\"M 82.3 166.0 L 83.3 166.0 L 83.3 169.2 L 87.2 169.2 L 87.2 166.0 L 88.2 166.0 L 88.2 173.6 L 87.2 173.6 L 87.2 170.1 L 83.3 170.1 L 83.3 173.6 L 82.3 173.6 L 82.3 166.0 \" fill=\"#FF0000\"/>\n",
       "<path class=\"atom-28\" d=\"M 132.3 25.8 L 133.3 25.8 L 133.3 29.1 L 137.2 29.1 L 137.2 25.8 L 138.2 25.8 L 138.2 33.4 L 137.2 33.4 L 137.2 29.9 L 133.3 29.9 L 133.3 33.4 L 132.3 33.4 L 132.3 25.8 \" fill=\"#FF0000\"/>\n",
       "<path class=\"atom-28\" d=\"M 139.8 29.6 Q 139.8 27.8, 140.7 26.8 Q 141.6 25.7, 143.3 25.7 Q 145.0 25.7, 145.9 26.8 Q 146.8 27.8, 146.8 29.6 Q 146.8 31.4, 145.8 32.5 Q 144.9 33.5, 143.3 33.5 Q 141.6 33.5, 140.7 32.5 Q 139.8 31.5, 139.8 29.6 M 143.3 32.7 Q 144.4 32.7, 145.0 31.9 Q 145.7 31.1, 145.7 29.6 Q 145.7 28.1, 145.0 27.4 Q 144.4 26.6, 143.3 26.6 Q 142.1 26.6, 141.5 27.3 Q 140.9 28.1, 140.9 29.6 Q 140.9 31.1, 141.5 31.9 Q 142.1 32.7, 143.3 32.7 \" fill=\"#FF0000\"/>\n",
       "<path class=\"atom-30\" d=\"M 198.1 31.8 Q 198.1 30.0, 199.0 29.0 Q 199.9 28.0, 201.6 28.0 Q 203.3 28.0, 204.2 29.0 Q 205.1 30.0, 205.1 31.8 Q 205.1 33.7, 204.2 34.7 Q 203.3 35.8, 201.6 35.8 Q 199.9 35.8, 199.0 34.7 Q 198.1 33.7, 198.1 31.8 M 201.6 34.9 Q 202.8 34.9, 203.4 34.1 Q 204.0 33.3, 204.0 31.8 Q 204.0 30.3, 203.4 29.6 Q 202.8 28.8, 201.6 28.8 Q 200.5 28.8, 199.8 29.6 Q 199.2 30.3, 199.2 31.8 Q 199.2 33.4, 199.8 34.1 Q 200.5 34.9, 201.6 34.9 \" fill=\"#FF0000\"/>\n",
       "<path class=\"atom-30\" d=\"M 206.3 28.0 L 207.3 28.0 L 207.3 31.3 L 211.2 31.3 L 211.2 28.0 L 212.2 28.0 L 212.2 35.6 L 211.2 35.6 L 211.2 32.1 L 207.3 32.1 L 207.3 35.6 L 206.3 35.6 L 206.3 28.0 \" fill=\"#FF0000\"/>\n",
       "</g>\n",
       "    <g transform=\"translate(568.0, 0) scale(1 1) \"><line x1=\"5\" y1=\"100\" x2=\"35\" y2=\"100\" style=\"stroke:rgb(0,0,0);stroke-width:2\"/>\n",
       "  <line x1=\"34\" y1=\"100\" x2=\"29\" y2=\"95\" style=\"stroke:rgb(0,0,0);stroke-width:2\"/>\n",
       "  <line x1=\"34\" y1=\"100\" x2=\"29\" y2=\"105\" style=\"stroke:rgb(0,0,0);stroke-width:2\"/>\n",
       "</g>\n",
       "    <g transform=\"translate(608.0, 0) scale(1 1) \"><!-- END OF HEADER -->\n",
       "<rect style=\"opacity:1.0;fill:#FFFFFF;stroke:none\" width=\"311.0\" height=\"200.0\" x=\"0.0\" y=\"0.0\"> </rect>\n",
       "<path class=\"bond-0 atom-0 atom-1\" d=\"M 33.1,69.9 L 44.1,68.6\" style=\"fill:none;fill-rule:evenodd;stroke:#0000FF;stroke-width:2.0px;stroke-linecap:butt;stroke-linejoin:miter;stroke-opacity:1\"/>\n",
       "<path class=\"bond-0 atom-0 atom-1\" d=\"M 44.1,68.6 L 55.0,67.4\" style=\"fill:none;fill-rule:evenodd;stroke:#000000;stroke-width:2.0px;stroke-linecap:butt;stroke-linejoin:miter;stroke-opacity:1\"/>\n",
       "<path class=\"bond-1 atom-1 atom-2\" d=\"M 55.0,67.4 L 59.1,57.9\" style=\"fill:none;fill-rule:evenodd;stroke:#000000;stroke-width:2.0px;stroke-linecap:butt;stroke-linejoin:miter;stroke-opacity:1\"/>\n",
       "<path class=\"bond-1 atom-1 atom-2\" d=\"M 59.1,57.9 L 63.3,48.4\" style=\"fill:none;fill-rule:evenodd;stroke:#0000FF;stroke-width:2.0px;stroke-linecap:butt;stroke-linejoin:miter;stroke-opacity:1\"/>\n",
       "<path class=\"bond-1 atom-1 atom-2\" d=\"M 59.4,66.9 L 63.1,58.4\" style=\"fill:none;fill-rule:evenodd;stroke:#000000;stroke-width:2.0px;stroke-linecap:butt;stroke-linejoin:miter;stroke-opacity:1\"/>\n",
       "<path class=\"bond-1 atom-1 atom-2\" d=\"M 63.1,58.4 L 66.8,49.9\" style=\"fill:none;fill-rule:evenodd;stroke:#0000FF;stroke-width:2.0px;stroke-linecap:butt;stroke-linejoin:miter;stroke-opacity:1\"/>\n",
       "<path class=\"bond-2 atom-2 atom-3\" d=\"M 68.8,43.5 L 79.7,42.3\" style=\"fill:none;fill-rule:evenodd;stroke:#0000FF;stroke-width:2.0px;stroke-linecap:butt;stroke-linejoin:miter;stroke-opacity:1\"/>\n",
       "<path class=\"bond-2 atom-2 atom-3\" d=\"M 79.7,42.3 L 90.6,41.0\" style=\"fill:none;fill-rule:evenodd;stroke:#000000;stroke-width:2.0px;stroke-linecap:butt;stroke-linejoin:miter;stroke-opacity:1\"/>\n",
       "<path class=\"bond-3 atom-3 atom-4\" d=\"M 90.6,41.0 L 96.6,49.1\" style=\"fill:none;fill-rule:evenodd;stroke:#000000;stroke-width:2.0px;stroke-linecap:butt;stroke-linejoin:miter;stroke-opacity:1\"/>\n",
       "<path class=\"bond-3 atom-3 atom-4\" d=\"M 96.6,49.1 L 102.6,57.1\" style=\"fill:none;fill-rule:evenodd;stroke:#0000FF;stroke-width:2.0px;stroke-linecap:butt;stroke-linejoin:miter;stroke-opacity:1\"/>\n",
       "<path class=\"bond-3 atom-3 atom-4\" d=\"M 88.9,45.1 L 94.2,52.2\" style=\"fill:none;fill-rule:evenodd;stroke:#000000;stroke-width:2.0px;stroke-linecap:butt;stroke-linejoin:miter;stroke-opacity:1\"/>\n",
       "<path class=\"bond-3 atom-3 atom-4\" d=\"M 94.2,52.2 L 99.5,59.4\" style=\"fill:none;fill-rule:evenodd;stroke:#0000FF;stroke-width:2.0px;stroke-linecap:butt;stroke-linejoin:miter;stroke-opacity:1\"/>\n",
       "<path class=\"bond-4 atom-4 atom-5\" d=\"M 103.9,66.1 L 99.8,75.6\" style=\"fill:none;fill-rule:evenodd;stroke:#0000FF;stroke-width:2.0px;stroke-linecap:butt;stroke-linejoin:miter;stroke-opacity:1\"/>\n",
       "<path class=\"bond-4 atom-4 atom-5\" d=\"M 99.8,75.6 L 95.7,85.1\" style=\"fill:none;fill-rule:evenodd;stroke:#000000;stroke-width:2.0px;stroke-linecap:butt;stroke-linejoin:miter;stroke-opacity:1\"/>\n",
       "<path class=\"bond-5 atom-5 atom-6\" d=\"M 95.7,85.1 L 70.2,88.0\" style=\"fill:none;fill-rule:evenodd;stroke:#000000;stroke-width:2.0px;stroke-linecap:butt;stroke-linejoin:miter;stroke-opacity:1\"/>\n",
       "<path class=\"bond-5 atom-5 atom-6\" d=\"M 93.0,81.5 L 72.0,83.9\" style=\"fill:none;fill-rule:evenodd;stroke:#000000;stroke-width:2.0px;stroke-linecap:butt;stroke-linejoin:miter;stroke-opacity:1\"/>\n",
       "<path class=\"bond-6 atom-6 atom-7\" d=\"M 70.2,88.0 L 68.1,98.3\" style=\"fill:none;fill-rule:evenodd;stroke:#000000;stroke-width:2.0px;stroke-linecap:butt;stroke-linejoin:miter;stroke-opacity:1\"/>\n",
       "<path class=\"bond-6 atom-6 atom-7\" d=\"M 68.1,98.3 L 66.0,108.6\" style=\"fill:none;fill-rule:evenodd;stroke:#0000FF;stroke-width:2.0px;stroke-linecap:butt;stroke-linejoin:miter;stroke-opacity:1\"/>\n",
       "<path class=\"bond-7 atom-7 atom-8\" d=\"M 68.7,115.1 L 78.1,120.4\" style=\"fill:none;fill-rule:evenodd;stroke:#0000FF;stroke-width:2.0px;stroke-linecap:butt;stroke-linejoin:miter;stroke-opacity:1\"/>\n",
       "<path class=\"bond-7 atom-7 atom-8\" d=\"M 78.1,120.4 L 87.4,125.7\" style=\"fill:none;fill-rule:evenodd;stroke:#000000;stroke-width:2.0px;stroke-linecap:butt;stroke-linejoin:miter;stroke-opacity:1\"/>\n",
       "<path class=\"bond-7 atom-7 atom-8\" d=\"M 70.6,111.8 L 78.7,116.4\" style=\"fill:none;fill-rule:evenodd;stroke:#0000FF;stroke-width:2.0px;stroke-linecap:butt;stroke-linejoin:miter;stroke-opacity:1\"/>\n",
       "<path class=\"bond-7 atom-7 atom-8\" d=\"M 78.7,116.4 L 86.9,121.0\" style=\"fill:none;fill-rule:evenodd;stroke:#000000;stroke-width:2.0px;stroke-linecap:butt;stroke-linejoin:miter;stroke-opacity:1\"/>\n",
       "<path class=\"bond-8 atom-8 atom-9\" d=\"M 87.4,125.7 L 95.0,118.7\" style=\"fill:none;fill-rule:evenodd;stroke:#000000;stroke-width:2.0px;stroke-linecap:butt;stroke-linejoin:miter;stroke-opacity:1\"/>\n",
       "<path class=\"bond-8 atom-8 atom-9\" d=\"M 95.0,118.7 L 102.7,111.7\" style=\"fill:none;fill-rule:evenodd;stroke:#0000FF;stroke-width:2.0px;stroke-linecap:butt;stroke-linejoin:miter;stroke-opacity:1\"/>\n",
       "<path class=\"bond-9 atom-9 atom-10\" d=\"M 109.9,109.1 L 120.6,111.3\" style=\"fill:none;fill-rule:evenodd;stroke:#0000FF;stroke-width:2.0px;stroke-linecap:butt;stroke-linejoin:miter;stroke-opacity:1\"/>\n",
       "<path class=\"bond-9 atom-9 atom-10\" d=\"M 120.6,111.3 L 131.4,113.5\" style=\"fill:none;fill-rule:evenodd;stroke:#000000;stroke-width:2.0px;stroke-linecap:butt;stroke-linejoin:miter;stroke-opacity:1\"/>\n",
       "<path class=\"bond-10 atom-10 atom-11\" d=\"M 131.4,113.5 L 138.7,106.7\" style=\"fill:none;fill-rule:evenodd;stroke:#000000;stroke-width:2.0px;stroke-linecap:butt;stroke-linejoin:miter;stroke-opacity:1\"/>\n",
       "<path class=\"bond-10 atom-10 atom-11\" d=\"M 138.7,106.7 L 146.1,100.0\" style=\"fill:none;fill-rule:evenodd;stroke:#FF0000;stroke-width:2.0px;stroke-linecap:butt;stroke-linejoin:miter;stroke-opacity:1\"/>\n",
       "<path class=\"bond-11 atom-11 atom-12\" d=\"M 154.4,98.5 L 163.5,103.7\" style=\"fill:none;fill-rule:evenodd;stroke:#FF0000;stroke-width:2.0px;stroke-linecap:butt;stroke-linejoin:miter;stroke-opacity:1\"/>\n",
       "<path class=\"bond-11 atom-11 atom-12\" d=\"M 163.5,103.7 L 172.5,108.8\" style=\"fill:none;fill-rule:evenodd;stroke:#000000;stroke-width:2.0px;stroke-linecap:butt;stroke-linejoin:miter;stroke-opacity:1\"/>\n",
       "<path class=\"bond-12 atom-12 atom-13\" d=\"M 172.5,108.8 L 195.8,98.2\" style=\"fill:none;fill-rule:evenodd;stroke:#000000;stroke-width:2.0px;stroke-linecap:butt;stroke-linejoin:miter;stroke-opacity:1\"/>\n",
       "<path class=\"bond-13 atom-13 atom-14\" d=\"M 195.8,98.2 L 204.2,104.1\" style=\"fill:none;fill-rule:evenodd;stroke:#000000;stroke-width:2.0px;stroke-linecap:butt;stroke-linejoin:miter;stroke-opacity:1\"/>\n",
       "<path class=\"bond-13 atom-13 atom-14\" d=\"M 204.2,104.1 L 212.5,110.1\" style=\"fill:none;fill-rule:evenodd;stroke:#FF0000;stroke-width:2.0px;stroke-linecap:butt;stroke-linejoin:miter;stroke-opacity:1\"/>\n",
       "<path class=\"bond-14 atom-14 atom-15\" d=\"M 220.9,111.1 L 228.8,107.5\" style=\"fill:none;fill-rule:evenodd;stroke:#FF0000;stroke-width:2.0px;stroke-linecap:butt;stroke-linejoin:miter;stroke-opacity:1\"/>\n",
       "<path class=\"bond-14 atom-14 atom-15\" d=\"M 228.8,107.5 L 236.8,103.9\" style=\"fill:none;fill-rule:evenodd;stroke:#FF7F00;stroke-width:2.0px;stroke-linecap:butt;stroke-linejoin:miter;stroke-opacity:1\"/>\n",
       "<path class=\"bond-15 atom-15 atom-16\" d=\"M 239.7,97.1 L 236.5,90.0\" style=\"fill:none;fill-rule:evenodd;stroke:#FF7F00;stroke-width:2.0px;stroke-linecap:butt;stroke-linejoin:miter;stroke-opacity:1\"/>\n",
       "<path class=\"bond-15 atom-15 atom-16\" d=\"M 236.5,90.0 L 233.2,82.9\" style=\"fill:none;fill-rule:evenodd;stroke:#FF0000;stroke-width:2.0px;stroke-linecap:butt;stroke-linejoin:miter;stroke-opacity:1\"/>\n",
       "<path class=\"bond-15 atom-15 atom-16\" d=\"M 236.2,98.7 L 233.0,91.6\" style=\"fill:none;fill-rule:evenodd;stroke:#FF7F00;stroke-width:2.0px;stroke-linecap:butt;stroke-linejoin:miter;stroke-opacity:1\"/>\n",
       "<path class=\"bond-15 atom-15 atom-16\" d=\"M 233.0,91.6 L 229.7,84.5\" style=\"fill:none;fill-rule:evenodd;stroke:#FF0000;stroke-width:2.0px;stroke-linecap:butt;stroke-linejoin:miter;stroke-opacity:1\"/>\n",
       "<path class=\"bond-16 atom-15 atom-17\" d=\"M 242.0,106.9 L 245.3,114.0\" style=\"fill:none;fill-rule:evenodd;stroke:#FF7F00;stroke-width:2.0px;stroke-linecap:butt;stroke-linejoin:miter;stroke-opacity:1\"/>\n",
       "<path class=\"bond-16 atom-15 atom-17\" d=\"M 245.3,114.0 L 248.5,121.2\" style=\"fill:none;fill-rule:evenodd;stroke:#FF0000;stroke-width:2.0px;stroke-linecap:butt;stroke-linejoin:miter;stroke-opacity:1\"/>\n",
       "<path class=\"bond-17 atom-15 atom-18\" d=\"M 243.1,101.0 L 251.1,97.3\" style=\"fill:none;fill-rule:evenodd;stroke:#FF7F00;stroke-width:2.0px;stroke-linecap:butt;stroke-linejoin:miter;stroke-opacity:1\"/>\n",
       "<path class=\"bond-17 atom-15 atom-18\" d=\"M 251.1,97.3 L 259.1,93.7\" style=\"fill:none;fill-rule:evenodd;stroke:#FF0000;stroke-width:2.0px;stroke-linecap:butt;stroke-linejoin:miter;stroke-opacity:1\"/>\n",
       "<path class=\"bond-18 atom-18 atom-19\" d=\"M 263.7,87.3 L 264.5,79.0\" style=\"fill:none;fill-rule:evenodd;stroke:#FF0000;stroke-width:2.0px;stroke-linecap:butt;stroke-linejoin:miter;stroke-opacity:1\"/>\n",
       "<path class=\"bond-18 atom-18 atom-19\" d=\"M 264.5,79.0 L 265.3,70.8\" style=\"fill:none;fill-rule:evenodd;stroke:#FF7F00;stroke-width:2.0px;stroke-linecap:butt;stroke-linejoin:miter;stroke-opacity:1\"/>\n",
       "<path class=\"bond-19 atom-19 atom-20\" d=\"M 268.7,68.5 L 277.8,69.4\" style=\"fill:none;fill-rule:evenodd;stroke:#FF7F00;stroke-width:2.0px;stroke-linecap:butt;stroke-linejoin:miter;stroke-opacity:1\"/>\n",
       "<path class=\"bond-19 atom-19 atom-20\" d=\"M 277.8,69.4 L 286.9,70.3\" style=\"fill:none;fill-rule:evenodd;stroke:#FF0000;stroke-width:2.0px;stroke-linecap:butt;stroke-linejoin:miter;stroke-opacity:1\"/>\n",
       "<path class=\"bond-19 atom-19 atom-20\" d=\"M 269.1,64.7 L 278.2,65.6\" style=\"fill:none;fill-rule:evenodd;stroke:#FF7F00;stroke-width:2.0px;stroke-linecap:butt;stroke-linejoin:miter;stroke-opacity:1\"/>\n",
       "<path class=\"bond-19 atom-19 atom-20\" d=\"M 278.2,65.6 L 287.2,66.4\" style=\"fill:none;fill-rule:evenodd;stroke:#FF0000;stroke-width:2.0px;stroke-linecap:butt;stroke-linejoin:miter;stroke-opacity:1\"/>\n",
       "<path class=\"bond-20 atom-19 atom-21\" d=\"M 262.6,66.0 L 253.5,65.1\" style=\"fill:none;fill-rule:evenodd;stroke:#FF7F00;stroke-width:2.0px;stroke-linecap:butt;stroke-linejoin:miter;stroke-opacity:1\"/>\n",
       "<path class=\"bond-20 atom-19 atom-21\" d=\"M 253.5,65.1 L 244.4,64.3\" style=\"fill:none;fill-rule:evenodd;stroke:#FF0000;stroke-width:2.0px;stroke-linecap:butt;stroke-linejoin:miter;stroke-opacity:1\"/>\n",
       "<path class=\"bond-21 atom-19 atom-22\" d=\"M 266.2,61.8 L 267.0,53.6\" style=\"fill:none;fill-rule:evenodd;stroke:#FF7F00;stroke-width:2.0px;stroke-linecap:butt;stroke-linejoin:miter;stroke-opacity:1\"/>\n",
       "<path class=\"bond-21 atom-19 atom-22\" d=\"M 267.0,53.6 L 267.7,45.4\" style=\"fill:none;fill-rule:evenodd;stroke:#FF0000;stroke-width:2.0px;stroke-linecap:butt;stroke-linejoin:miter;stroke-opacity:1\"/>\n",
       "<path class=\"bond-22 atom-12 atom-23\" d=\"M 172.5,108.8 L 167.4,133.9\" style=\"fill:none;fill-rule:evenodd;stroke:#000000;stroke-width:2.0px;stroke-linecap:butt;stroke-linejoin:miter;stroke-opacity:1\"/>\n",
       "<path class=\"bond-23 atom-23 atom-24\" d=\"M 167.4,133.9 L 174.0,141.1\" style=\"fill:none;fill-rule:evenodd;stroke:#000000;stroke-width:2.0px;stroke-linecap:butt;stroke-linejoin:miter;stroke-opacity:1\"/>\n",
       "<path class=\"bond-23 atom-23 atom-24\" d=\"M 174.0,141.1 L 180.6,148.2\" style=\"fill:none;fill-rule:evenodd;stroke:#FF0000;stroke-width:2.0px;stroke-linecap:butt;stroke-linejoin:miter;stroke-opacity:1\"/>\n",
       "<path class=\"bond-24 atom-23 atom-25\" d=\"M 167.4,133.9 L 142.0,136.8\" style=\"fill:none;fill-rule:evenodd;stroke:#000000;stroke-width:2.0px;stroke-linecap:butt;stroke-linejoin:miter;stroke-opacity:1\"/>\n",
       "<path class=\"bond-25 atom-25 atom-26\" d=\"M 142.0,136.8 L 137.0,145.7\" style=\"fill:none;fill-rule:evenodd;stroke:#000000;stroke-width:2.0px;stroke-linecap:butt;stroke-linejoin:miter;stroke-opacity:1\"/>\n",
       "<path class=\"bond-25 atom-25 atom-26\" d=\"M 137.0,145.7 L 131.9,154.6\" style=\"fill:none;fill-rule:evenodd;stroke:#FF0000;stroke-width:2.0px;stroke-linecap:butt;stroke-linejoin:miter;stroke-opacity:1\"/>\n",
       "<path class=\"bond-26 atom-6 atom-1\" d=\"M 70.2,88.0 L 55.0,67.4\" style=\"fill:none;fill-rule:evenodd;stroke:#000000;stroke-width:2.0px;stroke-linecap:butt;stroke-linejoin:miter;stroke-opacity:1\"/>\n",
       "<path class=\"bond-27 atom-25 atom-10\" d=\"M 142.0,136.8 L 131.4,113.5\" style=\"fill:none;fill-rule:evenodd;stroke:#000000;stroke-width:2.0px;stroke-linecap:butt;stroke-linejoin:miter;stroke-opacity:1\"/>\n",
       "<path class=\"bond-28 atom-9 atom-5\" d=\"M 104.2,103.9 L 100.0,94.5\" style=\"fill:none;fill-rule:evenodd;stroke:#0000FF;stroke-width:2.0px;stroke-linecap:butt;stroke-linejoin:miter;stroke-opacity:1\"/>\n",
       "<path class=\"bond-28 atom-9 atom-5\" d=\"M 100.0,94.5 L 95.7,85.1\" style=\"fill:none;fill-rule:evenodd;stroke:#000000;stroke-width:2.0px;stroke-linecap:butt;stroke-linejoin:miter;stroke-opacity:1\"/>\n",
       "<path d=\"M 90.1,41.1 L 90.6,41.0 L 90.9,41.4\" style=\"fill:none;stroke:#000000;stroke-width:2.0px;stroke-linecap:butt;stroke-linejoin:miter;stroke-opacity:1;\"/>\n",
       "<path d=\"M 86.9,125.4 L 87.4,125.7 L 87.8,125.3\" style=\"fill:none;stroke:#000000;stroke-width:2.0px;stroke-linecap:butt;stroke-linejoin:miter;stroke-opacity:1;\"/>\n",
       "<path d=\"M 194.7,98.7 L 195.8,98.2 L 196.3,98.5\" style=\"fill:none;stroke:#000000;stroke-width:2.0px;stroke-linecap:butt;stroke-linejoin:miter;stroke-opacity:1;\"/>\n",
       "<path class=\"atom-0\" d=\"M 15.5 66.7 L 16.5 66.7 L 16.5 69.8 L 20.2 69.8 L 20.2 66.7 L 21.2 66.7 L 21.2 73.9 L 20.2 73.9 L 20.2 70.6 L 16.5 70.6 L 16.5 73.9 L 15.5 73.9 L 15.5 66.7 \" fill=\"#0000FF\"/>\n",
       "<path class=\"atom-0\" d=\"M 22.6 73.7 Q 22.8 73.2, 23.2 73.0 Q 23.7 72.7, 24.2 72.7 Q 25.0 72.7, 25.4 73.1 Q 25.8 73.5, 25.8 74.2 Q 25.8 74.9, 25.2 75.6 Q 24.7 76.2, 23.6 77.0 L 25.9 77.0 L 25.9 77.5 L 22.6 77.5 L 22.6 77.1 Q 23.5 76.5, 24.0 76.0 Q 24.6 75.5, 24.8 75.1 Q 25.1 74.7, 25.1 74.2 Q 25.1 73.8, 24.9 73.5 Q 24.6 73.2, 24.2 73.2 Q 23.9 73.2, 23.6 73.4 Q 23.3 73.6, 23.2 73.9 L 22.6 73.7 \" fill=\"#0000FF\"/>\n",
       "<path class=\"atom-0\" d=\"M 27.9 66.7 L 30.3 70.5 Q 30.6 70.9, 30.9 71.6 Q 31.3 72.3, 31.3 72.3 L 31.3 66.7 L 32.3 66.7 L 32.3 73.9 L 31.3 73.9 L 28.8 69.7 Q 28.5 69.2, 28.1 68.7 Q 27.8 68.1, 27.7 67.9 L 27.7 73.9 L 26.8 73.9 L 26.8 66.7 L 27.9 66.7 \" fill=\"#0000FF\"/>\n",
       "<path class=\"atom-2\" d=\"M 63.6 40.3 L 66.0 44.1 Q 66.2 44.5, 66.6 45.2 Q 67.0 45.9, 67.0 45.9 L 67.0 40.3 L 67.9 40.3 L 67.9 47.5 L 67.0 47.5 L 64.4 43.3 Q 64.1 42.8, 63.8 42.3 Q 63.5 41.7, 63.4 41.5 L 63.4 47.5 L 62.4 47.5 L 62.4 40.3 L 63.6 40.3 \" fill=\"#0000FF\"/>\n",
       "<path class=\"atom-4\" d=\"M 104.3 58.0 L 106.6 61.8 Q 106.9 62.2, 107.3 62.9 Q 107.6 63.6, 107.7 63.6 L 107.7 58.0 L 108.6 58.0 L 108.6 65.2 L 107.6 65.2 L 105.1 61.0 Q 104.8 60.5, 104.5 60.0 Q 104.2 59.4, 104.1 59.2 L 104.1 65.2 L 103.1 65.2 L 103.1 58.0 L 104.3 58.0 \" fill=\"#0000FF\"/>\n",
       "<path class=\"atom-7\" d=\"M 63.5 109.4 L 65.9 113.3 Q 66.1 113.7, 66.5 114.4 Q 66.9 115.0, 66.9 115.1 L 66.9 109.4 L 67.9 109.4 L 67.9 116.7 L 66.9 116.7 L 64.3 112.5 Q 64.0 112.0, 63.7 111.4 Q 63.4 110.9, 63.3 110.7 L 63.3 116.7 L 62.4 116.7 L 62.4 109.4 L 63.5 109.4 \" fill=\"#0000FF\"/>\n",
       "<path class=\"atom-9\" d=\"M 104.7 104.8 L 107.1 108.6 Q 107.3 109.0, 107.7 109.7 Q 108.0 110.3, 108.1 110.4 L 108.1 104.8 L 109.0 104.8 L 109.0 112.0 L 108.0 112.0 L 105.5 107.8 Q 105.2 107.3, 104.9 106.7 Q 104.6 106.2, 104.5 106.0 L 104.5 112.0 L 103.5 112.0 L 103.5 104.8 L 104.7 104.8 \" fill=\"#0000FF\"/>\n",
       "<path class=\"atom-11\" d=\"M 146.9 96.2 Q 146.9 94.5, 147.8 93.5 Q 148.6 92.5, 150.2 92.5 Q 151.9 92.5, 152.7 93.5 Q 153.6 94.5, 153.6 96.2 Q 153.6 98.0, 152.7 99.0 Q 151.8 100.0, 150.2 100.0 Q 148.7 100.0, 147.8 99.0 Q 146.9 98.0, 146.9 96.2 M 150.2 99.1 Q 151.4 99.1, 151.9 98.4 Q 152.6 97.7, 152.6 96.2 Q 152.6 94.8, 151.9 94.1 Q 151.4 93.3, 150.2 93.3 Q 149.1 93.3, 148.5 94.1 Q 147.9 94.8, 147.9 96.2 Q 147.9 97.7, 148.5 98.4 Q 149.1 99.1, 150.2 99.1 \" fill=\"#FF0000\"/>\n",
       "<path class=\"atom-14\" d=\"M 213.4 113.1 Q 213.4 111.3, 214.2 110.3 Q 215.1 109.4, 216.7 109.4 Q 218.3 109.4, 219.2 110.3 Q 220.0 111.3, 220.0 113.1 Q 220.0 114.8, 219.1 115.8 Q 218.3 116.8, 216.7 116.8 Q 215.1 116.8, 214.2 115.8 Q 213.4 114.8, 213.4 113.1 M 216.7 116.0 Q 217.8 116.0, 218.4 115.3 Q 219.0 114.5, 219.0 113.1 Q 219.0 111.6, 218.4 110.9 Q 217.8 110.2, 216.7 110.2 Q 215.6 110.2, 215.0 110.9 Q 214.4 111.6, 214.4 113.1 Q 214.4 114.5, 215.0 115.3 Q 215.6 116.0, 216.7 116.0 \" fill=\"#FF0000\"/>\n",
       "<path class=\"atom-15\" d=\"M 239.8 98.8 Q 241.0 98.8, 241.7 99.4 Q 242.3 99.9, 242.3 100.9 Q 242.3 101.9, 241.7 102.5 Q 241.0 103.1, 239.8 103.1 L 238.6 103.1 L 238.6 106.0 L 237.7 106.0 L 237.7 98.8 L 239.8 98.8 M 239.8 102.2 Q 240.5 102.2, 240.9 101.9 Q 241.3 101.6, 241.3 100.9 Q 241.3 100.3, 240.9 99.9 Q 240.5 99.6, 239.8 99.6 L 238.6 99.6 L 238.6 102.2 L 239.8 102.2 \" fill=\"#FF7F00\"/>\n",
       "<path class=\"atom-16\" d=\"M 226.0 79.1 Q 226.0 77.4, 226.9 76.4 Q 227.8 75.4, 229.4 75.4 Q 231.0 75.4, 231.8 76.4 Q 232.7 77.4, 232.7 79.1 Q 232.7 80.9, 231.8 81.9 Q 230.9 82.9, 229.4 82.9 Q 227.8 82.9, 226.9 81.9 Q 226.0 80.9, 226.0 79.1 M 229.4 82.1 Q 230.5 82.1, 231.1 81.3 Q 231.7 80.6, 231.7 79.1 Q 231.7 77.7, 231.1 77.0 Q 230.5 76.3, 229.4 76.3 Q 228.3 76.3, 227.7 77.0 Q 227.1 77.7, 227.1 79.1 Q 227.1 80.6, 227.7 81.3 Q 228.3 82.1, 229.4 82.1 \" fill=\"#FF0000\"/>\n",
       "<path class=\"atom-17\" d=\"M 247.3 125.7 Q 247.3 124.0, 248.1 123.0 Q 249.0 122.0, 250.6 122.0 Q 252.2 122.0, 253.1 123.0 Q 253.9 124.0, 253.9 125.7 Q 253.9 127.5, 253.1 128.5 Q 252.2 129.5, 250.6 129.5 Q 249.0 129.5, 248.1 128.5 Q 247.3 127.5, 247.3 125.7 M 250.6 128.7 Q 251.7 128.7, 252.3 127.9 Q 252.9 127.2, 252.9 125.7 Q 252.9 124.3, 252.3 123.6 Q 251.7 122.9, 250.6 122.9 Q 249.5 122.9, 248.9 123.6 Q 248.3 124.3, 248.3 125.7 Q 248.3 127.2, 248.9 127.9 Q 249.5 128.7, 250.6 128.7 \" fill=\"#FF0000\"/>\n",
       "<path class=\"atom-17\" d=\"M 255.1 122.1 L 256.0 122.1 L 256.0 125.2 L 259.7 125.2 L 259.7 122.1 L 260.7 122.1 L 260.7 129.4 L 259.7 129.4 L 259.7 126.0 L 256.0 126.0 L 256.0 129.4 L 255.1 129.4 L 255.1 122.1 \" fill=\"#FF0000\"/>\n",
       "<path class=\"atom-18\" d=\"M 260.0 91.8 Q 260.0 90.1, 260.8 89.1 Q 261.7 88.1, 263.3 88.1 Q 264.9 88.1, 265.7 89.1 Q 266.6 90.1, 266.6 91.8 Q 266.6 93.6, 265.7 94.6 Q 264.9 95.6, 263.3 95.6 Q 261.7 95.6, 260.8 94.6 Q 260.0 93.6, 260.0 91.8 M 263.3 94.8 Q 264.4 94.8, 265.0 94.0 Q 265.6 93.3, 265.6 91.8 Q 265.6 90.4, 265.0 89.7 Q 264.4 88.9, 263.3 88.9 Q 262.2 88.9, 261.6 89.7 Q 261.0 90.4, 261.0 91.8 Q 261.0 93.3, 261.6 94.0 Q 262.2 94.8, 263.3 94.8 \" fill=\"#FF0000\"/>\n",
       "<path class=\"atom-19\" d=\"M 265.6 62.7 Q 266.8 62.7, 267.4 63.2 Q 268.0 63.8, 268.0 64.8 Q 268.0 65.8, 267.4 66.4 Q 266.8 67.0, 265.6 67.0 L 264.4 67.0 L 264.4 69.9 L 263.4 69.9 L 263.4 62.7 L 265.6 62.7 M 265.6 66.1 Q 266.3 66.1, 266.6 65.8 Q 267.0 65.5, 267.0 64.8 Q 267.0 64.2, 266.6 63.8 Q 266.3 63.5, 265.6 63.5 L 264.4 63.5 L 264.4 66.1 L 265.6 66.1 \" fill=\"#FF7F00\"/>\n",
       "<path class=\"atom-20\" d=\"M 287.9 68.8 Q 287.9 67.0, 288.8 66.1 Q 289.6 65.1, 291.2 65.1 Q 292.8 65.1, 293.7 66.1 Q 294.6 67.0, 294.6 68.8 Q 294.6 70.5, 293.7 71.5 Q 292.8 72.5, 291.2 72.5 Q 289.6 72.5, 288.8 71.5 Q 287.9 70.6, 287.9 68.8 M 291.2 71.7 Q 292.3 71.7, 292.9 71.0 Q 293.5 70.2, 293.5 68.8 Q 293.5 67.4, 292.9 66.6 Q 292.3 65.9, 291.2 65.9 Q 290.1 65.9, 289.5 66.6 Q 288.9 67.3, 288.9 68.8 Q 288.9 70.2, 289.5 71.0 Q 290.1 71.7, 291.2 71.7 \" fill=\"#FF0000\"/>\n",
       "<path class=\"atom-21\" d=\"M 229.8 60.3 L 230.7 60.3 L 230.7 63.4 L 234.4 63.4 L 234.4 60.3 L 235.4 60.3 L 235.4 67.5 L 234.4 67.5 L 234.4 64.2 L 230.7 64.2 L 230.7 67.5 L 229.8 67.5 L 229.8 60.3 \" fill=\"#FF0000\"/>\n",
       "<path class=\"atom-21\" d=\"M 236.9 63.9 Q 236.9 62.1, 237.8 61.2 Q 238.6 60.2, 240.2 60.2 Q 241.9 60.2, 242.7 61.2 Q 243.6 62.1, 243.6 63.9 Q 243.6 65.6, 242.7 66.6 Q 241.8 67.6, 240.2 67.6 Q 238.6 67.6, 237.8 66.6 Q 236.9 65.6, 236.9 63.9 M 240.2 66.8 Q 241.4 66.8, 241.9 66.1 Q 242.5 65.3, 242.5 63.9 Q 242.5 62.5, 241.9 61.7 Q 241.4 61.0, 240.2 61.0 Q 239.1 61.0, 238.5 61.7 Q 237.9 62.4, 237.9 63.9 Q 237.9 65.3, 238.5 66.1 Q 239.1 66.8, 240.2 66.8 \" fill=\"#FF0000\"/>\n",
       "<path class=\"atom-22\" d=\"M 264.9 40.8 Q 264.9 39.1, 265.7 38.1 Q 266.6 37.2, 268.2 37.2 Q 269.8 37.2, 270.7 38.1 Q 271.5 39.1, 271.5 40.8 Q 271.5 42.6, 270.6 43.6 Q 269.8 44.6, 268.2 44.6 Q 266.6 44.6, 265.7 43.6 Q 264.9 42.6, 264.9 40.8 M 268.2 43.8 Q 269.3 43.8, 269.9 43.0 Q 270.5 42.3, 270.5 40.8 Q 270.5 39.4, 269.9 38.7 Q 269.3 38.0, 268.2 38.0 Q 267.1 38.0, 266.5 38.7 Q 265.9 39.4, 265.9 40.8 Q 265.9 42.3, 266.5 43.0 Q 267.1 43.8, 268.2 43.8 \" fill=\"#FF0000\"/>\n",
       "<path class=\"atom-22\" d=\"M 272.6 37.2 L 273.6 37.2 L 273.6 40.3 L 277.3 40.3 L 277.3 37.2 L 278.3 37.2 L 278.3 44.5 L 277.3 44.5 L 277.3 41.1 L 273.6 41.1 L 273.6 44.5 L 272.6 44.5 L 272.6 37.2 \" fill=\"#FF0000\"/>\n",
       "<path class=\"atom-24\" d=\"M 181.4 152.8 Q 181.4 151.0, 182.3 150.1 Q 183.1 149.1, 184.7 149.1 Q 186.3 149.1, 187.2 150.1 Q 188.1 151.0, 188.1 152.8 Q 188.1 154.5, 187.2 155.5 Q 186.3 156.5, 184.7 156.5 Q 183.1 156.5, 182.3 155.5 Q 181.4 154.5, 181.4 152.8 M 184.7 155.7 Q 185.8 155.7, 186.4 155.0 Q 187.0 154.2, 187.0 152.8 Q 187.0 151.4, 186.4 150.6 Q 185.8 149.9, 184.7 149.9 Q 183.6 149.9, 183.0 150.6 Q 182.4 151.3, 182.4 152.8 Q 182.4 154.2, 183.0 155.0 Q 183.6 155.7, 184.7 155.7 \" fill=\"#FF0000\"/>\n",
       "<path class=\"atom-24\" d=\"M 189.2 149.2 L 190.2 149.2 L 190.2 152.3 L 193.9 152.3 L 193.9 149.2 L 194.9 149.2 L 194.9 156.4 L 193.9 156.4 L 193.9 153.1 L 190.2 153.1 L 190.2 156.4 L 189.2 156.4 L 189.2 149.2 \" fill=\"#FF0000\"/>\n",
       "<path class=\"atom-26\" d=\"M 118.9 155.5 L 119.9 155.5 L 119.9 158.6 L 123.6 158.6 L 123.6 155.5 L 124.6 155.5 L 124.6 162.7 L 123.6 162.7 L 123.6 159.4 L 119.9 159.4 L 119.9 162.7 L 118.9 162.7 L 118.9 155.5 \" fill=\"#FF0000\"/>\n",
       "<path class=\"atom-26\" d=\"M 126.1 159.1 Q 126.1 157.3, 126.9 156.4 Q 127.8 155.4, 129.4 155.4 Q 131.0 155.4, 131.9 156.4 Q 132.7 157.3, 132.7 159.1 Q 132.7 160.8, 131.8 161.9 Q 131.0 162.8, 129.4 162.8 Q 127.8 162.8, 126.9 161.9 Q 126.1 160.9, 126.1 159.1 M 129.4 162.0 Q 130.5 162.0, 131.1 161.3 Q 131.7 160.5, 131.7 159.1 Q 131.7 157.7, 131.1 156.9 Q 130.5 156.2, 129.4 156.2 Q 128.3 156.2, 127.7 156.9 Q 127.1 157.7, 127.1 159.1 Q 127.1 160.6, 127.7 161.3 Q 128.3 162.0, 129.4 162.0 \" fill=\"#FF0000\"/>\n",
       "</g>\n",
       "    <g transform=\"translate(919.0, 0) scale(1 1) \"><line x1=\"15\" y1=\"100\" x2=\"25\" y2=\"100\" style=\"stroke:rgb(0,0,0);stroke-width:2\"/>\n",
       "  <line x1=\"20\" y1=\"95\" x2=\"20\" y2=\"105\" style=\"stroke:rgb(0,0,0);stroke-width:2\"/>\n",
       "</g>\n",
       "    <g transform=\"translate(959.0, 0) scale(1 1) \"><!-- END OF HEADER -->\n",
       "<rect style=\"opacity:1.0;fill:#FFFFFF;stroke:none\" width=\"240.0\" height=\"200.0\" x=\"0.0\" y=\"0.0\"> </rect>\n",
       "<path class=\"bond-0 atom-0 atom-1\" d=\"M 18.3,71.6 L 32.1,68.2\" style=\"fill:none;fill-rule:evenodd;stroke:#191919;stroke-width:2.0px;stroke-linecap:butt;stroke-linejoin:miter;stroke-opacity:1\"/>\n",
       "<path class=\"bond-0 atom-0 atom-1\" d=\"M 32.1,68.2 L 45.8,64.8\" style=\"fill:none;fill-rule:evenodd;stroke:#0000FF;stroke-width:2.0px;stroke-linecap:butt;stroke-linejoin:miter;stroke-opacity:1\"/>\n",
       "<path class=\"bond-1 atom-1 atom-2\" d=\"M 56.4,69.0 L 66.8,79.9\" style=\"fill:none;fill-rule:evenodd;stroke:#0000FF;stroke-width:2.0px;stroke-linecap:butt;stroke-linejoin:miter;stroke-opacity:1\"/>\n",
       "<path class=\"bond-1 atom-1 atom-2\" d=\"M 66.8,79.9 L 77.2,90.7\" style=\"fill:none;fill-rule:evenodd;stroke:#000000;stroke-width:2.0px;stroke-linecap:butt;stroke-linejoin:miter;stroke-opacity:1\"/>\n",
       "<path class=\"bond-2 atom-2 atom-3\" d=\"M 77.2,90.7 L 113.8,81.7\" style=\"fill:none;fill-rule:evenodd;stroke:#000000;stroke-width:2.0px;stroke-linecap:butt;stroke-linejoin:miter;stroke-opacity:1\"/>\n",
       "<path class=\"bond-3 atom-3 atom-4\" d=\"M 113.8,81.7 L 123.8,92.1\" style=\"fill:none;fill-rule:evenodd;stroke:#000000;stroke-width:2.0px;stroke-linecap:butt;stroke-linejoin:miter;stroke-opacity:1\"/>\n",
       "<path class=\"bond-3 atom-3 atom-4\" d=\"M 123.8,92.1 L 133.8,102.5\" style=\"fill:none;fill-rule:evenodd;stroke:#FF0000;stroke-width:2.0px;stroke-linecap:butt;stroke-linejoin:miter;stroke-opacity:1\"/>\n",
       "<path class=\"bond-4 atom-4 atom-5\" d=\"M 146.0,107.4 L 158.9,104.2\" style=\"fill:none;fill-rule:evenodd;stroke:#FF0000;stroke-width:2.0px;stroke-linecap:butt;stroke-linejoin:miter;stroke-opacity:1\"/>\n",
       "<path class=\"bond-4 atom-4 atom-5\" d=\"M 158.9,104.2 L 171.8,101.1\" style=\"fill:none;fill-rule:evenodd;stroke:#FF7F00;stroke-width:2.0px;stroke-linecap:butt;stroke-linejoin:miter;stroke-opacity:1\"/>\n",
       "<path class=\"bond-5 atom-5 atom-6\" d=\"M 175.4,107.2 L 178.2,118.9\" style=\"fill:none;fill-rule:evenodd;stroke:#FF7F00;stroke-width:2.0px;stroke-linecap:butt;stroke-linejoin:miter;stroke-opacity:1\"/>\n",
       "<path class=\"bond-5 atom-5 atom-6\" d=\"M 178.2,118.9 L 181.1,130.6\" style=\"fill:none;fill-rule:evenodd;stroke:#FF0000;stroke-width:2.0px;stroke-linecap:butt;stroke-linejoin:miter;stroke-opacity:1\"/>\n",
       "<path class=\"bond-5 atom-5 atom-6\" d=\"M 180.9,105.8 L 183.7,117.5\" style=\"fill:none;fill-rule:evenodd;stroke:#FF7F00;stroke-width:2.0px;stroke-linecap:butt;stroke-linejoin:miter;stroke-opacity:1\"/>\n",
       "<path class=\"bond-5 atom-5 atom-6\" d=\"M 183.7,117.5 L 186.6,129.2\" style=\"fill:none;fill-rule:evenodd;stroke:#FF0000;stroke-width:2.0px;stroke-linecap:butt;stroke-linejoin:miter;stroke-opacity:1\"/>\n",
       "<path class=\"bond-6 atom-5 atom-7\" d=\"M 174.9,93.3 L 172.0,81.7\" style=\"fill:none;fill-rule:evenodd;stroke:#FF7F00;stroke-width:2.0px;stroke-linecap:butt;stroke-linejoin:miter;stroke-opacity:1\"/>\n",
       "<path class=\"bond-6 atom-5 atom-7\" d=\"M 172.0,81.7 L 169.2,70.1\" style=\"fill:none;fill-rule:evenodd;stroke:#FF0000;stroke-width:2.0px;stroke-linecap:butt;stroke-linejoin:miter;stroke-opacity:1\"/>\n",
       "<path class=\"bond-7 atom-5 atom-8\" d=\"M 181.1,98.8 L 194.0,95.6\" style=\"fill:none;fill-rule:evenodd;stroke:#FF7F00;stroke-width:2.0px;stroke-linecap:butt;stroke-linejoin:miter;stroke-opacity:1\"/>\n",
       "<path class=\"bond-7 atom-5 atom-8\" d=\"M 194.0,95.6 L 206.9,92.4\" style=\"fill:none;fill-rule:evenodd;stroke:#FF0000;stroke-width:2.0px;stroke-linecap:butt;stroke-linejoin:miter;stroke-opacity:1\"/>\n",
       "<path class=\"bond-8 atom-2 atom-9\" d=\"M 77.2,90.7 L 66.7,126.9\" style=\"fill:none;fill-rule:evenodd;stroke:#000000;stroke-width:2.0px;stroke-linecap:butt;stroke-linejoin:miter;stroke-opacity:1\"/>\n",
       "<path class=\"bond-9 atom-9 atom-10\" d=\"M 66.7,126.9 L 77.9,138.5\" style=\"fill:none;fill-rule:evenodd;stroke:#000000;stroke-width:2.0px;stroke-linecap:butt;stroke-linejoin:miter;stroke-opacity:1\"/>\n",
       "<path class=\"bond-9 atom-9 atom-10\" d=\"M 77.9,138.5 L 89.0,150.2\" style=\"fill:none;fill-rule:evenodd;stroke:#191919;stroke-width:2.0px;stroke-linecap:butt;stroke-linejoin:miter;stroke-opacity:1\"/>\n",
       "<path class=\"bond-10 atom-9 atom-11\" d=\"M 67.6,123.8 L 51.6,127.7\" style=\"fill:none;fill-rule:evenodd;stroke:#000000;stroke-width:2.0px;stroke-linecap:butt;stroke-linejoin:miter;stroke-opacity:1\"/>\n",
       "<path class=\"bond-10 atom-9 atom-11\" d=\"M 51.6,127.7 L 35.6,131.6\" style=\"fill:none;fill-rule:evenodd;stroke:#FF0000;stroke-width:2.0px;stroke-linecap:butt;stroke-linejoin:miter;stroke-opacity:1\"/>\n",
       "<path class=\"bond-10 atom-9 atom-11\" d=\"M 69.0,129.3 L 52.9,133.2\" style=\"fill:none;fill-rule:evenodd;stroke:#000000;stroke-width:2.0px;stroke-linecap:butt;stroke-linejoin:miter;stroke-opacity:1\"/>\n",
       "<path class=\"bond-10 atom-9 atom-11\" d=\"M 52.9,133.2 L 36.9,137.1\" style=\"fill:none;fill-rule:evenodd;stroke:#FF0000;stroke-width:2.0px;stroke-linecap:butt;stroke-linejoin:miter;stroke-opacity:1\"/>\n",
       "<path d=\"M 112.0,82.2 L 113.8,81.7 L 114.3,82.2\" style=\"fill:none;stroke:#000000;stroke-width:2.0px;stroke-linecap:butt;stroke-linejoin:miter;stroke-opacity:1;\"/>\n",
       "<path d=\"M 67.2,125.1 L 66.7,126.9 L 67.3,127.5\" style=\"fill:none;stroke:#000000;stroke-width:2.0px;stroke-linecap:butt;stroke-linejoin:miter;stroke-opacity:1;\"/>\n",
       "<path class=\"atom-0\" d=\"M 12.5 71.3 L 14.1 69.7 L 12.0 69.3 L 12.3 68.2 L 14.2 69.2 L 14.0 67.1 L 15.1 67.1 L 14.8 69.2 L 16.7 68.3 L 17.0 69.3 L 14.9 69.7 L 16.4 71.3 L 15.5 72.0 L 14.5 70.0 L 13.4 72.0 L 12.5 71.3 \" fill=\"#191919\"/>\n",
       "<path class=\"atom-1\" d=\"M 48.8 58.2 L 52.3 63.8 Q 52.6 64.4, 53.2 65.4 Q 53.7 66.4, 53.8 66.5 L 53.8 58.2 L 55.2 58.2 L 55.2 68.9 L 53.7 68.9 L 50.0 62.7 Q 49.5 61.9, 49.0 61.1 Q 48.6 60.3, 48.5 60.0 L 48.5 68.9 L 47.1 68.9 L 47.1 58.2 L 48.8 58.2 \" fill=\"#0000FF\"/>\n",
       "<path class=\"atom-1\" d=\"M 46.9 46.4 L 48.4 46.4 L 48.4 51.0 L 53.9 51.0 L 53.9 46.4 L 55.3 46.4 L 55.3 57.1 L 53.9 57.1 L 53.9 52.2 L 48.4 52.2 L 48.4 57.1 L 46.9 57.1 L 46.9 46.4 \" fill=\"#0000FF\"/>\n",
       "<path class=\"atom-4\" d=\"M 135.0 108.9 Q 135.0 106.4, 136.3 105.0 Q 137.5 103.5, 139.9 103.5 Q 142.3 103.5, 143.5 105.0 Q 144.8 106.4, 144.8 108.9 Q 144.8 111.5, 143.5 113.0 Q 142.2 114.5, 139.9 114.5 Q 137.5 114.5, 136.3 113.0 Q 135.0 111.6, 135.0 108.9 M 139.9 113.3 Q 141.5 113.3, 142.4 112.2 Q 143.3 111.1, 143.3 108.9 Q 143.3 106.9, 142.4 105.8 Q 141.5 104.7, 139.9 104.7 Q 138.3 104.7, 137.4 105.8 Q 136.5 106.8, 136.5 108.9 Q 136.5 111.1, 137.4 112.2 Q 138.3 113.3, 139.9 113.3 \" fill=\"#FF0000\"/>\n",
       "<path class=\"atom-5\" d=\"M 176.2 94.6 Q 178.1 94.6, 179.0 95.4 Q 179.9 96.2, 179.9 97.7 Q 179.9 99.2, 178.9 100.0 Q 178.0 100.9, 176.2 100.9 L 174.5 100.9 L 174.5 105.3 L 173.1 105.3 L 173.1 94.6 L 176.2 94.6 M 176.2 99.7 Q 177.3 99.7, 177.8 99.2 Q 178.4 98.7, 178.4 97.7 Q 178.4 96.8, 177.8 96.3 Q 177.3 95.8, 176.2 95.8 L 174.5 95.8 L 174.5 99.7 L 176.2 99.7 \" fill=\"#FF7F00\"/>\n",
       "<path class=\"atom-6\" d=\"M 180.6 136.6 Q 180.6 134.0, 181.9 132.6 Q 183.1 131.1, 185.5 131.1 Q 187.9 131.1, 189.1 132.6 Q 190.4 134.0, 190.4 136.6 Q 190.4 139.1, 189.1 140.6 Q 187.8 142.1, 185.5 142.1 Q 183.1 142.1, 181.9 140.6 Q 180.6 139.2, 180.6 136.6 M 185.5 140.9 Q 187.1 140.9, 188.0 139.8 Q 188.9 138.7, 188.9 136.6 Q 188.9 134.5, 188.0 133.4 Q 187.1 132.3, 185.5 132.3 Q 183.9 132.3, 183.0 133.4 Q 182.1 134.4, 182.1 136.6 Q 182.1 138.7, 183.0 139.8 Q 183.9 140.9, 185.5 140.9 \" fill=\"#FF0000\"/>\n",
       "<path class=\"atom-7\" d=\"M 162.6 63.4 Q 162.6 60.8, 163.9 59.4 Q 165.1 57.9, 167.5 57.9 Q 169.9 57.9, 171.1 59.4 Q 172.4 60.8, 172.4 63.4 Q 172.4 66.0, 171.1 67.4 Q 169.8 68.9, 167.5 68.9 Q 165.1 68.9, 163.9 67.4 Q 162.6 66.0, 162.6 63.4 M 167.5 67.7 Q 169.1 67.7, 170.0 66.6 Q 170.9 65.5, 170.9 63.4 Q 170.9 61.3, 170.0 60.2 Q 169.1 59.1, 167.5 59.1 Q 165.9 59.1, 165.0 60.2 Q 164.1 61.2, 164.1 63.4 Q 164.1 65.5, 165.0 66.6 Q 165.9 67.7, 167.5 67.7 \" fill=\"#FF0000\"/>\n",
       "<path class=\"atom-7\" d=\"M 174.1 58.1 L 175.5 58.1 L 175.5 62.6 L 181.0 62.6 L 181.0 58.1 L 182.4 58.1 L 182.4 68.7 L 181.0 68.7 L 181.0 63.8 L 175.5 63.8 L 175.5 68.7 L 174.1 68.7 L 174.1 58.1 \" fill=\"#FF0000\"/>\n",
       "<path class=\"atom-8\" d=\"M 208.2 91.0 Q 208.2 88.4, 209.5 87.0 Q 210.7 85.5, 213.1 85.5 Q 215.5 85.5, 216.7 87.0 Q 218.0 88.4, 218.0 91.0 Q 218.0 93.6, 216.7 95.0 Q 215.4 96.5, 213.1 96.5 Q 210.7 96.5, 209.5 95.0 Q 208.2 93.6, 208.2 91.0 M 213.1 95.3 Q 214.7 95.3, 215.6 94.2 Q 216.5 93.1, 216.5 91.0 Q 216.5 88.9, 215.6 87.8 Q 214.7 86.7, 213.1 86.7 Q 211.5 86.7, 210.6 87.8 Q 209.7 88.9, 209.7 91.0 Q 209.7 93.1, 210.6 94.2 Q 211.5 95.3, 213.1 95.3 \" fill=\"#FF0000\"/>\n",
       "<path class=\"atom-8\" d=\"M 219.6 85.7 L 221.1 85.7 L 221.1 90.2 L 226.6 90.2 L 226.6 85.7 L 228.0 85.7 L 228.0 96.3 L 226.6 96.3 L 226.6 91.4 L 221.1 91.4 L 221.1 96.3 L 219.6 96.3 L 219.6 85.7 \" fill=\"#FF0000\"/>\n",
       "<path class=\"atom-10\" d=\"M 90.8 152.9 L 92.3 151.3 L 90.3 150.9 L 90.6 149.8 L 92.5 150.8 L 92.2 148.7 L 93.4 148.7 L 93.0 150.8 L 95.0 149.9 L 95.3 150.9 L 93.2 151.3 L 94.7 152.9 L 93.8 153.6 L 92.7 151.6 L 91.7 153.6 L 90.8 152.9 \" fill=\"#191919\"/>\n",
       "<path class=\"atom-11\" d=\"M 25.2 135.9 Q 25.2 133.4, 26.5 131.9 Q 27.7 130.5, 30.1 130.5 Q 32.5 130.5, 33.7 131.9 Q 35.0 133.4, 35.0 135.9 Q 35.0 138.5, 33.7 140.0 Q 32.4 141.5, 30.1 141.5 Q 27.8 141.5, 26.5 140.0 Q 25.2 138.5, 25.2 135.9 M 30.1 140.3 Q 31.7 140.3, 32.6 139.2 Q 33.5 138.1, 33.5 135.9 Q 33.5 133.8, 32.6 132.8 Q 31.7 131.7, 30.1 131.7 Q 28.5 131.7, 27.6 132.8 Q 26.7 133.8, 26.7 135.9 Q 26.7 138.1, 27.6 139.2 Q 28.5 140.3, 30.1 140.3 \" fill=\"#FF0000\"/>\n",
       "</g>\n",
       "  </g>\n",
       "</svg>\n"
      ],
      "text/plain": [
       "<svgutils.compose.Figure at 0x7f8b07d9ed90>"
      ]
     },
     "execution_count": 302,
     "metadata": {},
     "output_type": "execute_result"
    }
   ],
   "source": [
    "smarts = krs[int(idx_feature[np.argmax(p_per_r)])]['smarts']\n",
    "print(smarts)\n",
    "rxn = rxn_from_smarts(smarts, True)\n",
    "rxn.save(\"../artifacts/imgs/kinase_reaction_w_most_proteins.svg\")"
   ]
  }
 ],
 "metadata": {
  "kernelspec": {
   "display_name": "hiec",
   "language": "python",
   "name": "python3"
  },
  "language_info": {
   "codemirror_mode": {
    "name": "ipython",
    "version": 3
   },
   "file_extension": ".py",
   "mimetype": "text/x-python",
   "name": "python",
   "nbconvert_exporter": "python",
   "pygments_lexer": "ipython3",
   "version": "3.11.5"
  }
 },
 "nbformat": 4,
 "nbformat_minor": 2
}
