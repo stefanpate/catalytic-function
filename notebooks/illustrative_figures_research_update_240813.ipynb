{
 "cells": [
  {
   "cell_type": "code",
   "execution_count": 5,
   "metadata": {},
   "outputs": [
    {
     "name": "stdout",
     "output_type": "stream",
     "text": [
      "The autoreload extension is already loaded. To reload it, use:\n",
      "  %reload_ext autoreload\n"
     ]
    }
   ],
   "source": [
    "%load_ext autoreload\n",
    "%autoreload 2\n",
    "import numpy as np\n",
    "import pandas as pd\n",
    "import matplotlib.pyplot as plt\n",
    "from src.utils import load_json\n",
    "from src.similarity import fractionate,  extract_operator_patts # get_rcmcs_smarts_patt,\n",
    "from rdkit import Chem\n",
    "from rdkit.Chem import Draw, AllChem, rdFMCS\n",
    "from rdkit.Chem.Draw import IPythonConsole\n",
    "from IPython.display import display, SVG\n",
    "from itertools import chain\n",
    "from collections import Counter\n",
    "from src.cross_validation import construct_sparse_adj_mat\n",
    "from src.config import filepaths"
   ]
  },
  {
   "cell_type": "code",
   "execution_count": 6,
   "metadata": {},
   "outputs": [],
   "source": [
    "def sort_pair_idx(n, i, j, i2id, krs):\n",
    "    ri = i2id[i[n]]\n",
    "    rj = i2id[j[n]]\n",
    "    smartsi = krs[ri]['smarts']\n",
    "    smartsj = krs[rj]['smarts']\n",
    "    return len(smartsi) + len(smartsj)"
   ]
  },
  {
   "cell_type": "code",
   "execution_count": null,
   "metadata": {},
   "outputs": [
    {
     "data": {
      "text/plain": [
       "PosixPath('/home/stef/quest_data/hiec/results/sim_mats')"
      ]
     },
     "execution_count": 7,
     "metadata": {},
     "output_type": "execute_result"
    }
   ],
   "source": []
  },
  {
   "cell_type": "code",
   "execution_count": null,
   "metadata": {},
   "outputs": [
    {
     "data": {
      "text/html": [
       "<div>\n",
       "<style scoped>\n",
       "    .dataframe tbody tr th:only-of-type {\n",
       "        vertical-align: middle;\n",
       "    }\n",
       "\n",
       "    .dataframe tbody tr th {\n",
       "        vertical-align: top;\n",
       "    }\n",
       "\n",
       "    .dataframe thead th {\n",
       "        text-align: right;\n",
       "    }\n",
       "</style>\n",
       "<table border=\"1\" class=\"dataframe\">\n",
       "  <thead>\n",
       "    <tr style=\"text-align: right;\">\n",
       "      <th></th>\n",
       "      <th>Reactants</th>\n",
       "      <th>SMARTS</th>\n",
       "      <th>Products</th>\n",
       "      <th>Comments</th>\n",
       "    </tr>\n",
       "    <tr>\n",
       "      <th>Name</th>\n",
       "      <th></th>\n",
       "      <th></th>\n",
       "      <th></th>\n",
       "      <th></th>\n",
       "    </tr>\n",
       "  </thead>\n",
       "  <tbody>\n",
       "    <tr>\n",
       "      <th>rule0001</th>\n",
       "      <td>Any;Any</td>\n",
       "      <td>[#6:1]-[#8:2].[#8:3]&gt;&gt;[#6:1]-[#8:3].[#8:2]</td>\n",
       "      <td>Any;Any</td>\n",
       "      <td>A0A060PLD9;A0A0P0YNP7;A0A0P9RZM9;A1XCQ0;A3E242...</td>\n",
       "    </tr>\n",
       "    <tr>\n",
       "      <th>rule0002</th>\n",
       "      <td>Any;NAD_CoF</td>\n",
       "      <td>[#6:1]-[#8:2].[#6:3]1:[#6:4]:[#6:5]:[#6:6]:[#7...</td>\n",
       "      <td>NADH_CoF;Any</td>\n",
       "      <td>A0A023RBJ1;A0A060KZ16;A0A060TBM3;A0A072UJB3;A0...</td>\n",
       "    </tr>\n",
       "    <tr>\n",
       "      <th>rule0003</th>\n",
       "      <td>NADH_CoF;Any</td>\n",
       "      <td>[#6:1]1=[#6:2]-[#7:3]-[#6:4]=[#6:5]-[#6:6]-1.[...</td>\n",
       "      <td>Any;NAD_CoF</td>\n",
       "      <td>A0A023RBJ1;A0A060KZ16;A0A060TBM3;A0A072UJB3;A0...</td>\n",
       "    </tr>\n",
       "    <tr>\n",
       "      <th>rule0004</th>\n",
       "      <td>Any;NADH_CoF;O2</td>\n",
       "      <td>[#6:1].[#6:2]1=[#6:3]-[#7:4]-[#6:5]=[#6:6]-[#6...</td>\n",
       "      <td>Any;NAD_CoF;WATER</td>\n",
       "      <td>A0A1P8W705;A0A250DUW2;A1Z745;A5HMH6;A5HMH7;A5H...</td>\n",
       "    </tr>\n",
       "    <tr>\n",
       "      <th>rule0005</th>\n",
       "      <td>Any;NAD_CoF;WATER</td>\n",
       "      <td>[#6:1]-[#8:2].[#6:3]1:[#6:4]:[#6:5]:[#6:6]:[#7...</td>\n",
       "      <td>Any;NADH_CoF;O2</td>\n",
       "      <td>A0A1P8W705;A0A250DUW2;A1Z745;A5HMH6;A5HMH7;A5H...</td>\n",
       "    </tr>\n",
       "  </tbody>\n",
       "</table>\n",
       "</div>"
      ],
      "text/plain": [
       "                  Reactants  \\\n",
       "Name                          \n",
       "rule0001            Any;Any   \n",
       "rule0002        Any;NAD_CoF   \n",
       "rule0003       NADH_CoF;Any   \n",
       "rule0004    Any;NADH_CoF;O2   \n",
       "rule0005  Any;NAD_CoF;WATER   \n",
       "\n",
       "                                                     SMARTS  \\\n",
       "Name                                                          \n",
       "rule0001         [#6:1]-[#8:2].[#8:3]>>[#6:1]-[#8:3].[#8:2]   \n",
       "rule0002  [#6:1]-[#8:2].[#6:3]1:[#6:4]:[#6:5]:[#6:6]:[#7...   \n",
       "rule0003  [#6:1]1=[#6:2]-[#7:3]-[#6:4]=[#6:5]-[#6:6]-1.[...   \n",
       "rule0004  [#6:1].[#6:2]1=[#6:3]-[#7:4]-[#6:5]=[#6:6]-[#6...   \n",
       "rule0005  [#6:1]-[#8:2].[#6:3]1:[#6:4]:[#6:5]:[#6:6]:[#7...   \n",
       "\n",
       "                   Products                                           Comments  \n",
       "Name                                                                            \n",
       "rule0001            Any;Any  A0A060PLD9;A0A0P0YNP7;A0A0P9RZM9;A1XCQ0;A3E242...  \n",
       "rule0002       NADH_CoF;Any  A0A023RBJ1;A0A060KZ16;A0A060TBM3;A0A072UJB3;A0...  \n",
       "rule0003        Any;NAD_CoF  A0A023RBJ1;A0A060KZ16;A0A060TBM3;A0A072UJB3;A0...  \n",
       "rule0004  Any;NAD_CoF;WATER  A0A1P8W705;A0A250DUW2;A1Z745;A5HMH6;A5HMH7;A5H...  \n",
       "rule0005    Any;NADH_CoF;O2  A0A1P8W705;A0A250DUW2;A1Z745;A5HMH6;A5HMH7;A5H...  "
      ]
     },
     "execution_count": 11,
     "metadata": {},
     "output_type": "execute_result"
    }
   ],
   "source": [
    "S = np.load(filepaths['sim_mats'] / \"sprhea_v3_folded_pt_ns_rcmcs.npy\")\n",
    "i2id = load_json(\"/home/stef/hiec/artifacts/sim_mats/sprhea_v3_folded_pt_ns_rcmcs_sim_i_to_id.json\")\n",
    "i2id = {int(k) : v for k, v in i2id.items()}\n",
    "krs = load_json(filepaths['data'] / \"sprhea/v3_folded_pt_ns.json\")\n",
    "krs = {int(k): v for k,v in krs.items()}\n",
    "rules = pd.read_csv(\n",
    "            filepath_or_buffer=filepaths['data'] / 'minimal1224_all_uniprot.tsv',\n",
    "            sep='\\t'\n",
    "        ).set_index('Name')\n",
    "rules.head()"
   ]
  },
  {
   "cell_type": "code",
   "execution_count": 12,
   "metadata": {},
   "outputs": [],
   "source": [
    "# Histogram of sim scores\n",
    "srt_s = sorted(S.ravel())\n",
    "ycdf = np.arange(len(srt_s)) / len(srt_s)\n"
   ]
  },
  {
   "cell_type": "code",
   "execution_count": 13,
   "metadata": {},
   "outputs": [
    {
     "data": {
      "image/png": "[encoded data removed]",
      "text/plain": [
       "<Figure size 640x480 with 1 Axes>"
      ]
     },
     "metadata": {},
     "output_type": "display_data"
    }
   ],
   "source": [
    "fig, ax = plt.subplots()\n",
    "ax.plot(srt_s, ycdf)\n",
    "ax.set_xlabel(\"RCMCS similarity score\")\n",
    "ax.set_ylabel(r\"Pr(S $\\leq$ s )\")\n",
    "plt.show()"
   ]
  },
  {
   "cell_type": "code",
   "execution_count": null,
   "metadata": {},
   "outputs": [
    {
     "name": "stdout",
     "output_type": "stream",
     "text": [
      "0.8\n"
     ]
    }
   ],
   "source": [
    "ub = 0.8\n",
    "ep = 1e-4\n",
    "i, j =np.where(abs(S - ub) < ep)\n",
    "print(S[i[0], j[0]])\n",
    "ns = [x for x in range(len(i))]\n",
    "srt_ns = sorted(ns, key=lambda x : sort_pair_idx(x, i, j, i2id, krs))\n",
    "x = 10"
   ]
  },
  {
   "cell_type": "code",
   "execution_count": null,
   "metadata": {},
   "outputs": [
    {
     "data": {
      "image/png": "[encoded data removed]",
      "text/plain": [
       "<rdkit.Chem.rdChemReactions.ChemicalReaction at 0x7f8ba4bd31b0>"
      ]
     },
     "execution_count": 173,
     "metadata": {},
     "output_type": "execute_result"
    }
   ],
   "source": [
    "n = srt_ns[x]\n",
    "ri = i2id[i[n]]\n",
    "rj = i2id[j[n]]\n",
    "smartsi = krs[ri]['smarts']\n",
    "smartsj = krs[rj]['smarts']\n",
    "x += 1\n",
    "AllChem.ReactionFromSmarts(smartsi, useSmiles=True)"
   ]
  },
  {
   "cell_type": "code",
   "execution_count": null,
   "metadata": {},
   "outputs": [
    {
     "data": {
      "image/png": "[encoded data removed]",
      "text/plain": [
       "<rdkit.Chem.rdChemReactions.ChemicalReaction at 0x7f8b9d63dd20>"
      ]
     },
     "execution_count": 174,
     "metadata": {},
     "output_type": "execute_result"
    }
   ],
   "source": [
    "AllChem.ReactionFromSmarts(smartsj, useSmiles=True)"
   ]
  },
  {
   "cell_type": "code",
   "execution_count": null,
   "metadata": {},
   "outputs": [
    {
     "name": "stdout",
     "output_type": "stream",
     "text": [
      "512 10213\n"
     ]
    }
   ],
   "source": [
    "print(ri, rj)"
   ]
  },
  {
   "cell_type": "code",
   "execution_count": null,
   "metadata": {},
   "outputs": [
    {
     "name": "stdout",
     "output_type": "stream",
     "text": [
      "0.6\n"
     ]
    }
   ],
   "source": [
    "ub = 0.6\n",
    "ep = 1e-4\n",
    "i, j =np.where(abs(S - ub) < ep)\n",
    "print(S[i[0], j[0]])\n",
    "ns = [x for x in range(len(i))]\n",
    "srt_ns = sorted(ns, key=lambda x : sort_pair_idx(x, i, j, i2id, krs))\n",
    "x = 10"
   ]
  },
  {
   "cell_type": "code",
   "execution_count": null,
   "metadata": {},
   "outputs": [
    {
     "data": {
      "image/png": "[encoded data removed]",
      "text/plain": [
       "<rdkit.Chem.rdChemReactions.ChemicalReaction at 0x7fa0c4a65bd0>"
      ]
     },
     "execution_count": 207,
     "metadata": {},
     "output_type": "execute_result"
    }
   ],
   "source": [
    "n = srt_ns[x]\n",
    "ri = i2id[i[n]]\n",
    "rj = i2id[j[n]]\n",
    "smartsi = krs[ri]['smarts']\n",
    "smartsj = krs[rj]['smarts']\n",
    "x += 1\n",
    "AllChem.ReactionFromSmarts(smartsi, useSmiles=True)"
   ]
  },
  {
   "cell_type": "code",
   "execution_count": null,
   "metadata": {},
   "outputs": [
    {
     "data": {
      "image/png": "[encoded data removed]",
      "text/plain": [
       "<rdkit.Chem.rdChemReactions.ChemicalReaction at 0x7fa0c5ffb0d0>"
      ]
     },
     "execution_count": 208,
     "metadata": {},
     "output_type": "execute_result"
    }
   ],
   "source": [
    "AllChem.ReactionFromSmarts(smartsj, useSmiles=True)"
   ]
  },
  {
   "cell_type": "code",
   "execution_count": null,
   "metadata": {},
   "outputs": [
    {
     "name": "stdout",
     "output_type": "stream",
     "text": [
      "3299 18915\n"
     ]
    }
   ],
   "source": [
    "print(ri, rj)"
   ]
  },
  {
   "cell_type": "code",
   "execution_count": null,
   "metadata": {},
   "outputs": [
    {
     "name": "stdout",
     "output_type": "stream",
     "text": [
      "0.4\n"
     ]
    }
   ],
   "source": [
    "ub = 0.4\n",
    "ep = 1e-4\n",
    "i, j =np.where(abs(S - ub) < ep)\n",
    "print(S[i[0], j[0]])\n",
    "ns = [x for x in range(len(i))]\n",
    "srt_ns = sorted(ns, key=lambda x : sort_pair_idx(x, i, j, i2id, krs))\n",
    "x = 10"
   ]
  },
  {
   "cell_type": "code",
   "execution_count": null,
   "metadata": {},
   "outputs": [
    {
     "data": {
      "image/png": "[encoded data removed]",
      "text/plain": [
       "<rdkit.Chem.rdChemReactions.ChemicalReaction at 0x7fa0c4a6cf20>"
      ]
     },
     "execution_count": 240,
     "metadata": {},
     "output_type": "execute_result"
    }
   ],
   "source": [
    "n = srt_ns[x]\n",
    "ri = i2id[i[n]]\n",
    "rj = i2id[j[n]]\n",
    "smartsi = krs[ri]['smarts']\n",
    "smartsj = krs[rj]['smarts']\n",
    "x += 1\n",
    "AllChem.ReactionFromSmarts(smartsi, useSmiles=True)"
   ]
  },
  {
   "cell_type": "code",
   "execution_count": null,
   "metadata": {},
   "outputs": [
    {
     "data": {
      "image/png": "[encoded data removed]",
      "text/plain": [
       "<rdkit.Chem.rdChemReactions.ChemicalReaction at 0x7fa0c4a6ccf0>"
      ]
     },
     "execution_count": 241,
     "metadata": {},
     "output_type": "execute_result"
    }
   ],
   "source": [
    "AllChem.ReactionFromSmarts(smartsj, useSmiles=True)"
   ]
  },
  {
   "cell_type": "code",
   "execution_count": null,
   "metadata": {},
   "outputs": [
    {
     "name": "stdout",
     "output_type": "stream",
     "text": [
      "6717 8481\n"
     ]
    }
   ],
   "source": [
    "print(ri, rj)"
   ]
  },
  {
   "cell_type": "code",
   "execution_count": null,
   "metadata": {},
   "outputs": [
    {
     "name": "stdout",
     "output_type": "stream",
     "text": [
      "[[<rdkit.Chem.rdchem.Mol object at 0x7f8b9c58b610>], [<rdkit.Chem.rdchem.Mol object at 0x7f8b9c58b8b0>, <rdkit.Chem.rdchem.Mol object at 0x7f8b9c58b990>]]\n",
      "[[[4, 6, 8]], [[1], [1, 0]]]\n",
      "[['[#6]-[#6]-[#8]'], ['[#6]', '[#6]=[#8]']]\n"
     ]
    }
   ],
   "source": [
    "def get_mol_rc_patt(rid, krs, rules, reverse):\n",
    "    smarts = krs[rid]['smarts']\n",
    "    rcs = krs[rid]['rcs']\n",
    "    this_rules = krs[rid]['min_rules']\n",
    "    \n",
    "    if reverse:\n",
    "        smarts = \">>\".join(smarts.split(\">>\")[::-1])\n",
    "        rcs = rcs[::-1]\n",
    "        rule = this_rules[1]\n",
    "    else:\n",
    "        rule = this_rules[0]\n",
    "\n",
    "    template = rules.loc[rule, \"SMARTS\"]\n",
    "    patts = [extract_operator_patts(template, 0), extract_operator_patts(template, 1)]\n",
    "    smiles = [elt.split(\".\") for elt in smarts.split(\">>\")]\n",
    "    mols = [[Chem.MolFromSmiles(smi) for smi in side] for side in smiles]\n",
    "    return mols, rcs, patts\n",
    "\n",
    "mols, rcs, patts = get_mol_rc_patt(4324, krs, rules, reverse=False)\n",
    "print(mols)\n",
    "print(rcs)\n",
    "print(patts)"
   ]
  },
  {
   "cell_type": "code",
   "execution_count": null,
   "metadata": {},
   "outputs": [],
   "source": [
    "rid_pairs = [\n",
    "    [4324, 2535],\n",
    "    [3299, 18915],\n",
    "    [6717, 8481],\n",
    "]\n",
    "\n",
    "to_reverse = [elt for elt in chain(*rid_pairs) if elt != 4324]\n",
    "\n",
    "rxn_info = {}\n",
    "for pair in rid_pairs:\n",
    "    for rid in pair:\n",
    "        mols, rcs, patts = get_mol_rc_patt(rid, krs, rules, rid in to_reverse)\n",
    "        rxn_info[rid] = {\n",
    "            'mols': mols,\n",
    "            'rcs': rcs,\n",
    "            'patts': patts\n",
    "        }\n",
    "\n",
    "mol_svgs = {}\n",
    "for ri, rj in rid_pairs:\n",
    "    mol_svgs[ri] = [[], []]\n",
    "    mol_svgs[rj] = [[], []]\n",
    "    for side in range(2):\n",
    "        for x in range(len(rxn_info[ri]['mols'][side])):\n",
    "            mol_rci = (rxn_info[ri]['mols'][side][x], rxn_info[ri]['rcs'][side][x])\n",
    "            mol_rcj = (rxn_info[rj]['mols'][side][x], rxn_info[rj]['rcs'][side][x])\n",
    "            patt = rxn_info[ri]['patts'][side][x]\n",
    "            rss = get_rcmcs_smarts_patt(mol_rci, mol_rcj, patt)\n",
    "\n",
    "            for y, mol in zip([ri, rj], [mol_rci[0], mol_rcj[0]]) :\n",
    "                hidxs = mol.GetSubstructMatch(Chem.MolFromSmarts(rss))\n",
    "                for atom in mol.GetAtoms():\n",
    "                    atom.SetIsotope(0)\n",
    "                svg = draw_mol_svg(mol, hilite_atoms=hidxs)\n",
    "                mol_svgs[y][side].append(svg)\n",
    "\n",
    "for i, (k, v) in enumerate(mol_svgs.items()):\n",
    "    rxn = draw_rxn_from_mol_svg(v)\n",
    "    rxn.save(f\"../artifacts/imgs/rcmcs_demo_rhea_rxn_{k}_pair_{i // 2}.svg\")\n"
   ]
  },
  {
   "cell_type": "code",
   "execution_count": null,
   "metadata": {},
   "outputs": [
    {
     "name": "stdout",
     "output_type": "stream",
     "text": [
      "[1, 2]\n",
      "add plus\n"
     ]
    },
    {
     "data": {
      "image/svg+xml": [
       "<?xml version='1.0' encoding='ASCII' standalone='yes'?>\n",
       "<svg xmlns=\"http://www.w3.org/2000/svg\" xmlns:xlink=\"http://www.w3.org/1999/xlink\" version=\"1.1\" width=\"659.0px\" viewBox=\"0 0 659.0 200.0\" height=\"200.0px\">\n",
       "  <g>\n",
       "    <g transform=\"translate(0, 0) scale(1 1) \"><!-- END OF HEADER -->\n",
       "<rect style=\"opacity:1.0;fill:#FFFFFF;stroke:none\" width=\"225.0\" height=\"200.0\" x=\"0.0\" y=\"0.0\"> </rect>\n",
       "<path class=\"bond-0 atom-0 atom-1\" d=\"M 170.5,130.9 L 169.8,116.3\" style=\"fill:none;fill-rule:evenodd;stroke:#FF0000;stroke-width:2.0px;stroke-linecap:butt;stroke-linejoin:miter;stroke-opacity:1\"/>\n",
       "<path class=\"bond-0 atom-0 atom-1\" d=\"M 169.8,116.3 L 169.0,101.8\" style=\"fill:none;fill-rule:evenodd;stroke:#000000;stroke-width:2.0px;stroke-linecap:butt;stroke-linejoin:miter;stroke-opacity:1\"/>\n",
       "<path class=\"bond-0 atom-0 atom-1\" d=\"M 175.6,130.7 L 174.8,116.1\" style=\"fill:none;fill-rule:evenodd;stroke:#FF0000;stroke-width:2.0px;stroke-linecap:butt;stroke-linejoin:miter;stroke-opacity:1\"/>\n",
       "<path class=\"bond-0 atom-0 atom-1\" d=\"M 174.8,116.1 L 174.1,101.5\" style=\"fill:none;fill-rule:evenodd;stroke:#000000;stroke-width:2.0px;stroke-linecap:butt;stroke-linejoin:miter;stroke-opacity:1\"/>\n",
       "<path class=\"bond-1 atom-1 atom-2\" d=\"M 171.6,103.1 L 183.0,95.7\" style=\"fill:none;fill-rule:evenodd;stroke:#000000;stroke-width:2.0px;stroke-linecap:butt;stroke-linejoin:miter;stroke-opacity:1\"/>\n",
       "<path class=\"bond-1 atom-1 atom-2\" d=\"M 183.0,95.7 L 194.4,88.3\" style=\"fill:none;fill-rule:evenodd;stroke:#FF0000;stroke-width:2.0px;stroke-linecap:butt;stroke-linejoin:miter;stroke-opacity:1\"/>\n",
       "<path class=\"bond-2 atom-1 atom-3\" d=\"M 171.6,103.1 L 141.6,87.8\" style=\"fill:none;fill-rule:evenodd;stroke:#000000;stroke-width:2.0px;stroke-linecap:butt;stroke-linejoin:miter;stroke-opacity:1\"/>\n",
       "<path class=\"bond-3 atom-3 atom-4\" d=\"M 141.6,87.8 L 113.4,106.1\" style=\"fill:none;fill-rule:evenodd;stroke:#000000;stroke-width:2.0px;stroke-linecap:butt;stroke-linejoin:miter;stroke-opacity:1\"/>\n",
       "<path class=\"bond-4 atom-4 atom-5\" d=\"M 113.4,106.1 L 83.3,90.8\" style=\"fill:none;fill-rule:evenodd;stroke:#000000;stroke-width:2.0px;stroke-linecap:butt;stroke-linejoin:miter;stroke-opacity:1\"/>\n",
       "<path class=\"bond-5 atom-5 atom-6\" d=\"M 85.9,92.1 L 85.2,77.6\" style=\"fill:none;fill-rule:evenodd;stroke:#000000;stroke-width:2.0px;stroke-linecap:butt;stroke-linejoin:miter;stroke-opacity:1\"/>\n",
       "<path class=\"bond-5 atom-5 atom-6\" d=\"M 85.2,77.6 L 84.4,63.1\" style=\"fill:none;fill-rule:evenodd;stroke:#FF0000;stroke-width:2.0px;stroke-linecap:butt;stroke-linejoin:miter;stroke-opacity:1\"/>\n",
       "<path class=\"bond-5 atom-5 atom-6\" d=\"M 80.9,92.3 L 80.1,77.8\" style=\"fill:none;fill-rule:evenodd;stroke:#000000;stroke-width:2.0px;stroke-linecap:butt;stroke-linejoin:miter;stroke-opacity:1\"/>\n",
       "<path class=\"bond-5 atom-5 atom-6\" d=\"M 80.1,77.8 L 79.4,63.3\" style=\"fill:none;fill-rule:evenodd;stroke:#FF0000;stroke-width:2.0px;stroke-linecap:butt;stroke-linejoin:miter;stroke-opacity:1\"/>\n",
       "<path class=\"bond-6 atom-5 atom-7\" d=\"M 83.3,90.8 L 55.1,109.1\" style=\"fill:none;fill-rule:evenodd;stroke:#000000;stroke-width:2.0px;stroke-linecap:butt;stroke-linejoin:miter;stroke-opacity:1\"/>\n",
       "<path class=\"bond-7 atom-7 atom-8\" d=\"M 52.5,107.8 L 53.2,122.3\" style=\"fill:none;fill-rule:evenodd;stroke:#000000;stroke-width:2.0px;stroke-linecap:butt;stroke-linejoin:miter;stroke-opacity:1\"/>\n",
       "<path class=\"bond-7 atom-7 atom-8\" d=\"M 53.2,122.3 L 54.0,136.9\" style=\"fill:none;fill-rule:evenodd;stroke:#FF0000;stroke-width:2.0px;stroke-linecap:butt;stroke-linejoin:miter;stroke-opacity:1\"/>\n",
       "<path class=\"bond-7 atom-7 atom-8\" d=\"M 57.5,107.5 L 58.3,122.1\" style=\"fill:none;fill-rule:evenodd;stroke:#000000;stroke-width:2.0px;stroke-linecap:butt;stroke-linejoin:miter;stroke-opacity:1\"/>\n",
       "<path class=\"bond-7 atom-7 atom-8\" d=\"M 58.3,122.1 L 59.0,136.7\" style=\"fill:none;fill-rule:evenodd;stroke:#FF0000;stroke-width:2.0px;stroke-linecap:butt;stroke-linejoin:miter;stroke-opacity:1\"/>\n",
       "<path class=\"bond-8 atom-7 atom-9\" d=\"M 55.1,109.1 L 42.8,102.8\" style=\"fill:none;fill-rule:evenodd;stroke:#000000;stroke-width:2.0px;stroke-linecap:butt;stroke-linejoin:miter;stroke-opacity:1\"/>\n",
       "<path class=\"bond-8 atom-7 atom-9\" d=\"M 42.8,102.8 L 30.5,96.6\" style=\"fill:none;fill-rule:evenodd;stroke:#FF0000;stroke-width:2.0px;stroke-linecap:butt;stroke-linejoin:miter;stroke-opacity:1\"/>\n",
       "<path d=\"M 172.2,102.7 L 171.6,103.1 L 170.1,102.3\" style=\"fill:none;stroke:#000000;stroke-width:2.0px;stroke-linecap:butt;stroke-linejoin:miter;stroke-opacity:1;\"/>\n",
       "<path d=\"M 143.1,88.5 L 141.6,87.8 L 140.2,88.7\" style=\"fill:none;stroke:#000000;stroke-width:2.0px;stroke-linecap:butt;stroke-linejoin:miter;stroke-opacity:1;\"/>\n",
       "<path d=\"M 114.8,105.2 L 113.4,106.1 L 111.9,105.3\" style=\"fill:none;stroke:#000000;stroke-width:2.0px;stroke-linecap:butt;stroke-linejoin:miter;stroke-opacity:1;\"/>\n",
       "<path d=\"M 84.8,91.5 L 83.3,90.8 L 81.9,91.7\" style=\"fill:none;stroke:#000000;stroke-width:2.0px;stroke-linecap:butt;stroke-linejoin:miter;stroke-opacity:1;\"/>\n",
       "<path d=\"M 56.5,108.2 L 55.1,109.1 L 54.5,108.8\" style=\"fill:none;stroke:#000000;stroke-width:2.0px;stroke-linecap:butt;stroke-linejoin:miter;stroke-opacity:1;\"/>\n",
       "<path class=\"atom-0\" d=\"M 169.0 136.8 Q 169.0 134.5, 170.1 133.2 Q 171.3 131.9, 173.4 131.9 Q 175.5 131.9, 176.6 133.2 Q 177.8 134.5, 177.8 136.8 Q 177.8 139.1, 176.6 140.4 Q 175.5 141.7, 173.4 141.7 Q 171.3 141.7, 170.1 140.4 Q 169.0 139.1, 169.0 136.8 M 173.4 140.6 Q 174.8 140.6, 175.6 139.7 Q 176.4 138.7, 176.4 136.8 Q 176.4 134.9, 175.6 133.9 Q 174.8 133.0, 173.4 133.0 Q 171.9 133.0, 171.1 133.9 Q 170.3 134.9, 170.3 136.8 Q 170.3 138.7, 171.1 139.7 Q 171.9 140.6, 173.4 140.6 \" fill=\"#FF0000\"/>\n",
       "<path class=\"atom-2\" d=\"M 195.5 84.8 Q 195.5 82.5, 196.7 81.2 Q 197.8 79.9, 199.9 79.9 Q 202.0 79.9, 203.2 81.2 Q 204.3 82.5, 204.3 84.8 Q 204.3 87.1, 203.2 88.4 Q 202.0 89.7, 199.9 89.7 Q 197.8 89.7, 196.7 88.4 Q 195.5 87.1, 195.5 84.8 M 199.9 88.7 Q 201.4 88.7, 202.2 87.7 Q 202.9 86.7, 202.9 84.8 Q 202.9 82.9, 202.2 82.0 Q 201.4 81.0, 199.9 81.0 Q 198.5 81.0, 197.7 82.0 Q 196.9 82.9, 196.9 84.8 Q 196.9 86.7, 197.7 87.7 Q 198.5 88.7, 199.9 88.7 \" fill=\"#FF0000\"/>\n",
       "<path class=\"atom-2\" d=\"M 205.8 80.0 L 207.1 80.0 L 207.1 84.1 L 212.0 84.1 L 212.0 80.0 L 213.2 80.0 L 213.2 89.6 L 212.0 89.6 L 212.0 85.2 L 207.1 85.2 L 207.1 89.6 L 205.8 89.6 L 205.8 80.0 \" fill=\"#FF0000\"/>\n",
       "<path class=\"atom-6\" d=\"M 77.2 57.1 Q 77.2 54.8, 78.4 53.6 Q 79.5 52.3, 81.6 52.3 Q 83.7 52.3, 84.9 53.6 Q 86.0 54.8, 86.0 57.1 Q 86.0 59.5, 84.8 60.8 Q 83.7 62.1, 81.6 62.1 Q 79.5 62.1, 78.4 60.8 Q 77.2 59.5, 77.2 57.1 M 81.6 61.0 Q 83.1 61.0, 83.8 60.0 Q 84.6 59.1, 84.6 57.1 Q 84.6 55.3, 83.8 54.3 Q 83.1 53.4, 81.6 53.4 Q 80.2 53.4, 79.4 54.3 Q 78.6 55.3, 78.6 57.1 Q 78.6 59.1, 79.4 60.0 Q 80.2 61.0, 81.6 61.0 \" fill=\"#FF0000\"/>\n",
       "<path class=\"atom-8\" d=\"M 52.4 142.8 Q 52.4 140.5, 53.5 139.2 Q 54.7 137.9, 56.8 137.9 Q 58.9 137.9, 60.0 139.2 Q 61.2 140.5, 61.2 142.8 Q 61.2 145.1, 60.0 146.4 Q 58.9 147.7, 56.8 147.7 Q 54.7 147.7, 53.5 146.4 Q 52.4 145.1, 52.4 142.8 M 56.8 146.6 Q 58.3 146.6, 59.0 145.7 Q 59.8 144.7, 59.8 142.8 Q 59.8 140.9, 59.0 140.0 Q 58.3 139.0, 56.8 139.0 Q 55.3 139.0, 54.5 139.9 Q 53.8 140.9, 53.8 142.8 Q 53.8 144.7, 54.5 145.7 Q 55.3 146.6, 56.8 146.6 \" fill=\"#FF0000\"/>\n",
       "<path class=\"atom-9\" d=\"M 11.2 89.0 L 12.5 89.0 L 12.5 93.1 L 17.4 93.1 L 17.4 89.0 L 18.7 89.0 L 18.7 98.6 L 17.4 98.6 L 17.4 94.2 L 12.5 94.2 L 12.5 98.6 L 11.2 98.6 L 11.2 89.0 \" fill=\"#FF0000\"/>\n",
       "<path class=\"atom-9\" d=\"M 20.7 93.8 Q 20.7 91.5, 21.8 90.2 Q 22.9 88.9, 25.1 88.9 Q 27.2 88.9, 28.3 90.2 Q 29.4 91.5, 29.4 93.8 Q 29.4 96.1, 28.3 97.4 Q 27.1 98.7, 25.1 98.7 Q 23.0 98.7, 21.8 97.4 Q 20.7 96.1, 20.7 93.8 M 25.1 97.7 Q 26.5 97.7, 27.3 96.7 Q 28.1 95.7, 28.1 93.8 Q 28.1 91.9, 27.3 91.0 Q 26.5 90.0, 25.1 90.0 Q 23.6 90.0, 22.8 91.0 Q 22.0 91.9, 22.0 93.8 Q 22.0 95.7, 22.8 96.7 Q 23.6 97.7, 25.1 97.7 \" fill=\"#FF0000\"/>\n",
       "</g>\n",
       "    <g transform=\"translate(225, 0) scale(1 1) \"><line x1=\"5\" y1=\"100\" x2=\"35\" y2=\"100\" style=\"stroke:rgb(0,0,0);stroke-width:2\"/>\n",
       "  <line x1=\"34\" y1=\"100\" x2=\"29\" y2=\"95\" style=\"stroke:rgb(0,0,0);stroke-width:2\"/>\n",
       "  <line x1=\"34\" y1=\"100\" x2=\"29\" y2=\"105\" style=\"stroke:rgb(0,0,0);stroke-width:2\"/>\n",
       "</g>\n",
       "    <g transform=\"translate(265.0, 0) scale(1 1) \"><!-- END OF HEADER -->\n",
       "<rect style=\"opacity:1.0;fill:#FFFFFF;stroke:none\" width=\"194.0\" height=\"200.0\" x=\"0.0\" y=\"0.0\"> </rect>\n",
       "<path class=\"bond-0 atom-0 atom-1\" d=\"M 18.9,104.8 L 31.1,112.8\" style=\"fill:none;fill-rule:evenodd;stroke:#FF0000;stroke-width:2.0px;stroke-linecap:butt;stroke-linejoin:miter;stroke-opacity:1\"/>\n",
       "<path class=\"bond-0 atom-0 atom-1\" d=\"M 31.1,112.8 L 43.4,120.8\" style=\"fill:none;fill-rule:evenodd;stroke:#000000;stroke-width:2.0px;stroke-linecap:butt;stroke-linejoin:miter;stroke-opacity:1\"/>\n",
       "<path class=\"bond-0 atom-0 atom-1\" d=\"M 21.9,100.2 L 34.1,108.2\" style=\"fill:none;fill-rule:evenodd;stroke:#FF0000;stroke-width:2.0px;stroke-linecap:butt;stroke-linejoin:miter;stroke-opacity:1\"/>\n",
       "<path class=\"bond-0 atom-0 atom-1\" d=\"M 34.1,108.2 L 43.7,114.5\" style=\"fill:none;fill-rule:evenodd;stroke:#000000;stroke-width:2.0px;stroke-linecap:butt;stroke-linejoin:miter;stroke-opacity:1\"/>\n",
       "<path class=\"bond-1 atom-1 atom-2\" d=\"M 43.4,120.8 L 75.9,104.5\" style=\"fill:none;fill-rule:evenodd;stroke:#000000;stroke-width:2.0px;stroke-linecap:butt;stroke-linejoin:miter;stroke-opacity:1\"/>\n",
       "<path class=\"bond-2 atom-2 atom-3\" d=\"M 75.9,104.5 L 106.3,124.5\" style=\"fill:none;fill-rule:evenodd;stroke:#000000;stroke-width:2.0px;stroke-linecap:butt;stroke-linejoin:miter;stroke-opacity:1\"/>\n",
       "<path class=\"bond-3 atom-3 atom-4\" d=\"M 106.3,124.5 L 138.9,108.1\" style=\"fill:none;fill-rule:evenodd;stroke:#000000;stroke-width:2.0px;stroke-linecap:butt;stroke-linejoin:miter;stroke-opacity:1\"/>\n",
       "<path class=\"bond-4 atom-4 atom-5\" d=\"M 141.5,109.8 L 142.4,94.2\" style=\"fill:none;fill-rule:evenodd;stroke:#000000;stroke-width:2.0px;stroke-linecap:butt;stroke-linejoin:miter;stroke-opacity:1\"/>\n",
       "<path class=\"bond-4 atom-4 atom-5\" d=\"M 142.4,94.2 L 143.3,78.5\" style=\"fill:none;fill-rule:evenodd;stroke:#FF0000;stroke-width:2.0px;stroke-linecap:butt;stroke-linejoin:miter;stroke-opacity:1\"/>\n",
       "<path class=\"bond-4 atom-4 atom-5\" d=\"M 136.0,109.5 L 136.9,93.8\" style=\"fill:none;fill-rule:evenodd;stroke:#000000;stroke-width:2.0px;stroke-linecap:butt;stroke-linejoin:miter;stroke-opacity:1\"/>\n",
       "<path class=\"bond-4 atom-4 atom-5\" d=\"M 136.9,93.8 L 137.8,78.2\" style=\"fill:none;fill-rule:evenodd;stroke:#FF0000;stroke-width:2.0px;stroke-linecap:butt;stroke-linejoin:miter;stroke-opacity:1\"/>\n",
       "<path class=\"bond-5 atom-4 atom-6\" d=\"M 138.9,108.1 L 151.1,116.1\" style=\"fill:none;fill-rule:evenodd;stroke:#000000;stroke-width:2.0px;stroke-linecap:butt;stroke-linejoin:miter;stroke-opacity:1\"/>\n",
       "<path class=\"bond-5 atom-4 atom-6\" d=\"M 151.1,116.1 L 163.4,124.2\" style=\"fill:none;fill-rule:evenodd;stroke:#FF0000;stroke-width:2.0px;stroke-linecap:butt;stroke-linejoin:miter;stroke-opacity:1\"/>\n",
       "<path d=\"M 42.8,120.4 L 43.4,120.8 L 45.0,120.0\" style=\"fill:none;stroke:#000000;stroke-width:2.0px;stroke-linecap:butt;stroke-linejoin:miter;stroke-opacity:1;\"/>\n",
       "<path d=\"M 74.3,105.3 L 75.9,104.5 L 77.4,105.5\" style=\"fill:none;stroke:#000000;stroke-width:2.0px;stroke-linecap:butt;stroke-linejoin:miter;stroke-opacity:1;\"/>\n",
       "<path d=\"M 104.8,123.5 L 106.3,124.5 L 108.0,123.6\" style=\"fill:none;stroke:#000000;stroke-width:2.0px;stroke-linecap:butt;stroke-linejoin:miter;stroke-opacity:1;\"/>\n",
       "<path d=\"M 137.2,108.9 L 138.9,108.1 L 139.5,108.5\" style=\"fill:none;stroke:#000000;stroke-width:2.0px;stroke-linecap:butt;stroke-linejoin:miter;stroke-opacity:1;\"/>\n",
       "<path class=\"atom-0\" d=\"M 9.7 98.6 Q 9.7 96.1, 10.9 94.7 Q 12.1 93.4, 14.4 93.4 Q 16.7 93.4, 17.9 94.7 Q 19.2 96.1, 19.2 98.6 Q 19.2 101.1, 17.9 102.5 Q 16.7 103.9, 14.4 103.9 Q 12.2 103.9, 10.9 102.5 Q 9.7 101.1, 9.7 98.6 M 14.4 102.8 Q 16.0 102.8, 16.9 101.7 Q 17.7 100.7, 17.7 98.6 Q 17.7 96.6, 16.9 95.6 Q 16.0 94.5, 14.4 94.5 Q 12.9 94.5, 12.0 95.5 Q 11.2 96.6, 11.2 98.6 Q 11.2 100.7, 12.0 101.7 Q 12.9 102.8, 14.4 102.8 \" fill=\"#FF0000\"/>\n",
       "<path class=\"atom-5\" d=\"M 136.2 71.8 Q 136.2 69.3, 137.4 67.9 Q 138.7 66.5, 140.9 66.5 Q 143.2 66.5, 144.5 67.9 Q 145.7 69.3, 145.7 71.8 Q 145.7 74.3, 144.4 75.7 Q 143.2 77.1, 140.9 77.1 Q 138.7 77.1, 137.4 75.7 Q 136.2 74.3, 136.2 71.8 M 140.9 76.0 Q 142.5 76.0, 143.4 74.9 Q 144.2 73.8, 144.2 71.8 Q 144.2 69.8, 143.4 68.7 Q 142.5 67.7, 140.9 67.7 Q 139.4 67.7, 138.5 68.7 Q 137.7 69.7, 137.7 71.8 Q 137.7 73.9, 138.5 74.9 Q 139.4 76.0, 140.9 76.0 \" fill=\"#FF0000\"/>\n",
       "<path class=\"atom-6\" d=\"M 164.6 128.1 Q 164.6 125.6, 165.8 124.3 Q 167.0 122.9, 169.3 122.9 Q 171.6 122.9, 172.8 124.3 Q 174.0 125.6, 174.0 128.1 Q 174.0 130.6, 172.8 132.1 Q 171.6 133.5, 169.3 133.5 Q 167.0 133.5, 165.8 132.1 Q 164.6 130.6, 164.6 128.1 M 169.3 132.3 Q 170.9 132.3, 171.7 131.2 Q 172.6 130.2, 172.6 128.1 Q 172.6 126.1, 171.7 125.1 Q 170.9 124.0, 169.3 124.0 Q 167.7 124.0, 166.9 125.1 Q 166.0 126.1, 166.0 128.1 Q 166.0 130.2, 166.9 131.2 Q 167.7 132.3, 169.3 132.3 \" fill=\"#FF0000\"/>\n",
       "<path class=\"atom-6\" d=\"M 175.6 123.0 L 177.0 123.0 L 177.0 127.4 L 182.3 127.4 L 182.3 123.0 L 183.7 123.0 L 183.7 133.3 L 182.3 133.3 L 182.3 128.5 L 177.0 128.5 L 177.0 133.3 L 175.6 133.3 L 175.6 123.0 \" fill=\"#FF0000\"/>\n",
       "</g>\n",
       "    <g transform=\"translate(459.0, 0) scale(1 1) \"><line x1=\"15\" y1=\"100\" x2=\"25\" y2=\"100\" style=\"stroke:rgb(0,0,0);stroke-width:2\"/>\n",
       "  <line x1=\"20\" y1=\"95\" x2=\"20\" y2=\"105\" style=\"stroke:rgb(0,0,0);stroke-width:2\"/>\n",
       "</g>\n",
       "    <g transform=\"translate(539.0, 0) scale(1 1) \"><!-- END OF HEADER -->\n",
       "<rect style=\"opacity:1.0;fill:#FFFFFF;stroke:none\" width=\"120.0\" height=\"200.0\" x=\"0.0\" y=\"0.0\"> </rect>\n",
       "<path class=\"bond-0 atom-0 atom-1\" d=\"M 100.0,103.5 L 83.4,103.5\" style=\"fill:none;fill-rule:evenodd;stroke:#FF0000;stroke-width:2.0px;stroke-linecap:butt;stroke-linejoin:miter;stroke-opacity:1\"/>\n",
       "<path class=\"bond-0 atom-0 atom-1\" d=\"M 83.4,103.5 L 66.8,103.5\" style=\"fill:none;fill-rule:evenodd;stroke:#000000;stroke-width:2.0px;stroke-linecap:butt;stroke-linejoin:miter;stroke-opacity:1\"/>\n",
       "<path class=\"bond-0 atom-0 atom-1\" d=\"M 100.0,96.3 L 83.4,96.3\" style=\"fill:none;fill-rule:evenodd;stroke:#FF0000;stroke-width:2.0px;stroke-linecap:butt;stroke-linejoin:miter;stroke-opacity:1\"/>\n",
       "<path class=\"bond-0 atom-0 atom-1\" d=\"M 83.4,96.3 L 66.8,96.3\" style=\"fill:none;fill-rule:evenodd;stroke:#000000;stroke-width:2.0px;stroke-linecap:butt;stroke-linejoin:miter;stroke-opacity:1\"/>\n",
       "<path class=\"bond-1 atom-1 atom-2\" d=\"M 53.2,103.5 L 36.6,103.5\" style=\"fill:none;fill-rule:evenodd;stroke:#000000;stroke-width:2.0px;stroke-linecap:butt;stroke-linejoin:miter;stroke-opacity:1\"/>\n",
       "<path class=\"bond-1 atom-1 atom-2\" d=\"M 36.6,103.5 L 20.0,103.5\" style=\"fill:none;fill-rule:evenodd;stroke:#FF0000;stroke-width:2.0px;stroke-linecap:butt;stroke-linejoin:miter;stroke-opacity:1\"/>\n",
       "<path class=\"bond-1 atom-1 atom-2\" d=\"M 53.2,96.3 L 36.6,96.3\" style=\"fill:none;fill-rule:evenodd;stroke:#000000;stroke-width:2.0px;stroke-linecap:butt;stroke-linejoin:miter;stroke-opacity:1\"/>\n",
       "<path class=\"bond-1 atom-1 atom-2\" d=\"M 36.6,96.3 L 20.0,96.3\" style=\"fill:none;fill-rule:evenodd;stroke:#FF0000;stroke-width:2.0px;stroke-linecap:butt;stroke-linejoin:miter;stroke-opacity:1\"/>\n",
       "<path class=\"atom-0\" d=\"M 101.6 99.9 Q 101.6 96.7, 103.2 94.9 Q 104.8 93.1, 107.8 93.1 Q 110.8 93.1, 112.4 94.9 Q 114.0 96.7, 114.0 99.9 Q 114.0 103.2, 112.4 105.1 Q 110.8 106.9, 107.8 106.9 Q 104.8 106.9, 103.2 105.1 Q 101.6 103.2, 101.6 99.9 M 107.8 105.4 Q 109.9 105.4, 111.0 104.0 Q 112.1 102.6, 112.1 99.9 Q 112.1 97.3, 111.0 95.9 Q 109.9 94.6, 107.8 94.6 Q 105.7 94.6, 104.6 95.9 Q 103.5 97.3, 103.5 99.9 Q 103.5 102.7, 104.6 104.0 Q 105.7 105.4, 107.8 105.4 \" fill=\"#FF0000\"/>\n",
       "<path class=\"atom-1\" d=\"M 54.8 100.0 Q 54.8 96.6, 56.3 94.8 Q 57.9 93.1, 60.9 93.1 Q 63.7 93.1, 65.2 95.0 L 64.0 96.1 Q 62.9 94.6, 60.9 94.6 Q 58.9 94.6, 57.8 96.0 Q 56.7 97.4, 56.7 100.0 Q 56.7 102.6, 57.8 104.0 Q 59.0 105.4, 61.1 105.4 Q 62.6 105.4, 64.4 104.5 L 64.9 105.9 Q 64.2 106.4, 63.1 106.6 Q 62.1 106.9, 60.9 106.9 Q 57.9 106.9, 56.3 105.1 Q 54.8 103.3, 54.8 100.0 \" fill=\"#000000\"/>\n",
       "<path class=\"atom-2\" d=\"M 6.0 99.9 Q 6.0 96.7, 7.6 94.9 Q 9.2 93.1, 12.2 93.1 Q 15.2 93.1, 16.8 94.9 Q 18.4 96.7, 18.4 99.9 Q 18.4 103.2, 16.8 105.1 Q 15.2 106.9, 12.2 106.9 Q 9.2 106.9, 7.6 105.1 Q 6.0 103.2, 6.0 99.9 M 12.2 105.4 Q 14.3 105.4, 15.4 104.0 Q 16.5 102.6, 16.5 99.9 Q 16.5 97.3, 15.4 95.9 Q 14.3 94.6, 12.2 94.6 Q 10.1 94.6, 9.0 95.9 Q 7.9 97.3, 7.9 99.9 Q 7.9 102.7, 9.0 104.0 Q 10.1 105.4, 12.2 105.4 \" fill=\"#FF0000\"/>\n",
       "</g>\n",
       "  </g>\n",
       "</svg>\n"
      ],
      "text/plain": [
       "<svgutils.compose.Figure at 0x7f8b07dd0750>"
      ]
     },
     "execution_count": 277,
     "metadata": {},
     "output_type": "execute_result"
    }
   ],
   "source": [
    "\n",
    "smarts = krs[512]['smarts']\n",
    "rxn = rxn_from_smarts(smarts, True)\n",
    "rxn.save(\"../artifacts/imgs/akg_decarboxylation.svg\")\n",
    "rxn\n"
   ]
  },
  {
   "cell_type": "code",
   "execution_count": null,
   "metadata": {},
   "outputs": [
    {
     "data": {
      "text/plain": [
       "\"<?xml version='1.0' encoding='iso-8859-1'?>\\n<svg version='1.1' baseProfile='full'\\n              xmlns='http://www.w3.org/2000/svg'\\n                      xmlns:rdkit='http://www.rdkit.org/xml'\\n                      xmlns:xlink='http://www.w3.org/1999/xlink'\\n                  xml:space='preserve'\\nwidth='225px' height='200px' viewBox='0 0 225 200'>\\n<!-- END OF HEADER -->\\n<rect style='opacity:1.0;fill:#FFFFFF;stroke:none' width='225.0' height='200.0' x='0.0' y='0.0'> </rect>\\n<path class='bond-0 atom-0 atom-1' d='M 170.5,130.9 L 169.8,116.3' style='fill:none;fill-rule:evenodd;stroke:#FF0000;stroke-width:2.0px;stroke-linecap:butt;stroke-linejoin:miter;stroke-opacity:1' />\\n<path class='bond-0 atom-0 atom-1' d='M 169.8,116.3 L 169.0,101.8' style='fill:none;fill-rule:evenodd;stroke:#000000;stroke-width:2.0px;stroke-linecap:butt;stroke-linejoin:miter;stroke-opacity:1' />\\n<path class='bond-0 atom-0 atom-1' d='M 175.6,130.7 L 174.8,116.1' style='fill:none;fill-rule:evenodd;stroke:#FF0000;stroke-width:2.0px;stroke-linecap:butt;stroke-linejoin:miter;stroke-opacity:1' />\\n<path class='bond-0 atom-0 atom-1' d='M 174.8,116.1 L 174.1,101.5' style='fill:none;fill-rule:evenodd;stroke:#000000;stroke-width:2.0px;stroke-linecap:butt;stroke-linejoin:miter;stroke-opacity:1' />\\n<path class='bond-1 atom-1 atom-2' d='M 171.6,103.1 L 183.0,95.7' style='fill:none;fill-rule:evenodd;stroke:#000000;stroke-width:2.0px;stroke-linecap:butt;stroke-linejoin:miter;stroke-opacity:1' />\\n<path class='bond-1 atom-1 atom-2' d='M 183.0,95.7 L 194.4,88.3' style='fill:none;fill-rule:evenodd;stroke:#FF0000;stroke-width:2.0px;stroke-linecap:butt;stroke-linejoin:miter;stroke-opacity:1' />\\n<path class='bond-2 atom-1 atom-3' d='M 171.6,103.1 L 141.6,87.8' style='fill:none;fill-rule:evenodd;stroke:#000000;stroke-width:2.0px;stroke-linecap:butt;stroke-linejoin:miter;stroke-opacity:1' />\\n<path class='bond-3 atom-3 atom-4' d='M 141.6,87.8 L 113.4,106.1' style='fill:none;fill-rule:evenodd;stroke:#000000;stroke-width:2.0px;stroke-linecap:butt;stroke-linejoin:miter;stroke-opacity:1' />\\n<path class='bond-4 atom-4 atom-5' d='M 113.4,106.1 L 83.3,90.8' style='fill:none;fill-rule:evenodd;stroke:#000000;stroke-width:2.0px;stroke-linecap:butt;stroke-linejoin:miter;stroke-opacity:1' />\\n<path class='bond-5 atom-5 atom-6' d='M 85.9,92.1 L 85.2,77.6' style='fill:none;fill-rule:evenodd;stroke:#000000;stroke-width:2.0px;stroke-linecap:butt;stroke-linejoin:miter;stroke-opacity:1' />\\n<path class='bond-5 atom-5 atom-6' d='M 85.2,77.6 L 84.4,63.1' style='fill:none;fill-rule:evenodd;stroke:#FF0000;stroke-width:2.0px;stroke-linecap:butt;stroke-linejoin:miter;stroke-opacity:1' />\\n<path class='bond-5 atom-5 atom-6' d='M 80.9,92.3 L 80.1,77.8' style='fill:none;fill-rule:evenodd;stroke:#000000;stroke-width:2.0px;stroke-linecap:butt;stroke-linejoin:miter;stroke-opacity:1' />\\n<path class='bond-5 atom-5 atom-6' d='M 80.1,77.8 L 79.4,63.3' style='fill:none;fill-rule:evenodd;stroke:#FF0000;stroke-width:2.0px;stroke-linecap:butt;stroke-linejoin:miter;stroke-opacity:1' />\\n<path class='bond-6 atom-5 atom-7' d='M 83.3,90.8 L 55.1,109.1' style='fill:none;fill-rule:evenodd;stroke:#000000;stroke-width:2.0px;stroke-linecap:butt;stroke-linejoin:miter;stroke-opacity:1' />\\n<path class='bond-7 atom-7 atom-8' d='M 52.5,107.8 L 53.2,122.3' style='fill:none;fill-rule:evenodd;stroke:#000000;stroke-width:2.0px;stroke-linecap:butt;stroke-linejoin:miter;stroke-opacity:1' />\\n<path class='bond-7 atom-7 atom-8' d='M 53.2,122.3 L 54.0,136.9' style='fill:none;fill-rule:evenodd;stroke:#FF0000;stroke-width:2.0px;stroke-linecap:butt;stroke-linejoin:miter;stroke-opacity:1' />\\n<path class='bond-7 atom-7 atom-8' d='M 57.5,107.5 L 58.3,122.1' style='fill:none;fill-rule:evenodd;stroke:#000000;stroke-width:2.0px;stroke-linecap:butt;stroke-linejoin:miter;stroke-opacity:1' />\\n<path class='bond-7 atom-7 atom-8' d='M 58.3,122.1 L 59.0,136.7' style='fill:none;fill-rule:evenodd;stroke:#FF0000;stroke-width:2.0px;stroke-linecap:butt;stroke-linejoin:miter;stroke-opacity:1' />\\n<path class='bond-8 atom-7 atom-9' d='M 55.1,109.1 L 42.8,102.8' style='fill:none;fill-rule:evenodd;stroke:#000000;stroke-width:2.0px;stroke-linecap:butt;stroke-linejoin:miter;stroke-opacity:1' />\\n<path class='bond-8 atom-7 atom-9' d='M 42.8,102.8 L 30.5,96.6' style='fill:none;fill-rule:evenodd;stroke:#FF0000;stroke-width:2.0px;stroke-linecap:butt;stroke-linejoin:miter;stroke-opacity:1' />\\n<path d='M 172.2,102.7 L 171.6,103.1 L 170.1,102.3' style='fill:none;stroke:#000000;stroke-width:2.0px;stroke-linecap:butt;stroke-linejoin:miter;stroke-opacity:1;' />\\n<path d='M 143.1,88.5 L 141.6,87.8 L 140.2,88.7' style='fill:none;stroke:#000000;stroke-width:2.0px;stroke-linecap:butt;stroke-linejoin:miter;stroke-opacity:1;' />\\n<path d='M 114.8,105.2 L 113.4,106.1 L 111.9,105.3' style='fill:none;stroke:#000000;stroke-width:2.0px;stroke-linecap:butt;stroke-linejoin:miter;stroke-opacity:1;' />\\n<path d='M 84.8,91.5 L 83.3,90.8 L 81.9,91.7' style='fill:none;stroke:#000000;stroke-width:2.0px;stroke-linecap:butt;stroke-linejoin:miter;stroke-opacity:1;' />\\n<path d='M 56.5,108.2 L 55.1,109.1 L 54.5,108.8' style='fill:none;stroke:#000000;stroke-width:2.0px;stroke-linecap:butt;stroke-linejoin:miter;stroke-opacity:1;' />\\n<path class='atom-0' d='M 169.0 136.8\\nQ 169.0 134.5, 170.1 133.2\\nQ 171.3 131.9, 173.4 131.9\\nQ 175.5 131.9, 176.6 133.2\\nQ 177.8 134.5, 177.8 136.8\\nQ 177.8 139.1, 176.6 140.4\\nQ 175.5 141.7, 173.4 141.7\\nQ 171.3 141.7, 170.1 140.4\\nQ 169.0 139.1, 169.0 136.8\\nM 173.4 140.6\\nQ 174.8 140.6, 175.6 139.7\\nQ 176.4 138.7, 176.4 136.8\\nQ 176.4 134.9, 175.6 133.9\\nQ 174.8 133.0, 173.4 133.0\\nQ 171.9 133.0, 171.1 133.9\\nQ 170.3 134.9, 170.3 136.8\\nQ 170.3 138.7, 171.1 139.7\\nQ 171.9 140.6, 173.4 140.6\\n' fill='#FF0000'/>\\n<path class='atom-2' d='M 195.5 84.8\\nQ 195.5 82.5, 196.7 81.2\\nQ 197.8 79.9, 199.9 79.9\\nQ 202.0 79.9, 203.2 81.2\\nQ 204.3 82.5, 204.3 84.8\\nQ 204.3 87.1, 203.2 88.4\\nQ 202.0 89.7, 199.9 89.7\\nQ 197.8 89.7, 196.7 88.4\\nQ 195.5 87.1, 195.5 84.8\\nM 199.9 88.7\\nQ 201.4 88.7, 202.2 87.7\\nQ 202.9 86.7, 202.9 84.8\\nQ 202.9 82.9, 202.2 82.0\\nQ 201.4 81.0, 199.9 81.0\\nQ 198.5 81.0, 197.7 82.0\\nQ 196.9 82.9, 196.9 84.8\\nQ 196.9 86.7, 197.7 87.7\\nQ 198.5 88.7, 199.9 88.7\\n' fill='#FF0000'/>\\n<path class='atom-2' d='M 205.8 80.0\\nL 207.1 80.0\\nL 207.1 84.1\\nL 212.0 84.1\\nL 212.0 80.0\\nL 213.2 80.0\\nL 213.2 89.6\\nL 212.0 89.6\\nL 212.0 85.2\\nL 207.1 85.2\\nL 207.1 89.6\\nL 205.8 89.6\\nL 205.8 80.0\\n' fill='#FF0000'/>\\n<path class='atom-6' d='M 77.2 57.1\\nQ 77.2 54.8, 78.4 53.6\\nQ 79.5 52.3, 81.6 52.3\\nQ 83.7 52.3, 84.9 53.6\\nQ 86.0 54.8, 86.0 57.1\\nQ 86.0 59.5, 84.8 60.8\\nQ 83.7 62.1, 81.6 62.1\\nQ 79.5 62.1, 78.4 60.8\\nQ 77.2 59.5, 77.2 57.1\\nM 81.6 61.0\\nQ 83.1 61.0, 83.8 60.0\\nQ 84.6 59.1, 84.6 57.1\\nQ 84.6 55.3, 83.8 54.3\\nQ 83.1 53.4, 81.6 53.4\\nQ 80.2 53.4, 79.4 54.3\\nQ 78.6 55.3, 78.6 57.1\\nQ 78.6 59.1, 79.4 60.0\\nQ 80.2 61.0, 81.6 61.0\\n' fill='#FF0000'/>\\n<path class='atom-8' d='M 52.4 142.8\\nQ 52.4 140.5, 53.5 139.2\\nQ 54.7 137.9, 56.8 137.9\\nQ 58.9 137.9, 60.0 139.2\\nQ 61.2 140.5, 61.2 142.8\\nQ 61.2 145.1, 60.0 146.4\\nQ 58.9 147.7, 56.8 147.7\\nQ 54.7 147.7, 53.5 146.4\\nQ 52.4 145.1, 52.4 142.8\\nM 56.8 146.6\\nQ 58.3 146.6, 59.0 145.7\\nQ 59.8 144.7, 59.8 142.8\\nQ 59.8 140.9, 59.0 140.0\\nQ 58.3 139.0, 56.8 139.0\\nQ 55.3 139.0, 54.5 139.9\\nQ 53.8 140.9, 53.8 142.8\\nQ 53.8 144.7, 54.5 145.7\\nQ 55.3 146.6, 56.8 146.6\\n' fill='#FF0000'/>\\n<path class='atom-9' d='M 11.2 89.0\\nL 12.5 89.0\\nL 12.5 93.1\\nL 17.4 93.1\\nL 17.4 89.0\\nL 18.7 89.0\\nL 18.7 98.6\\nL 17.4 98.6\\nL 17.4 94.2\\nL 12.5 94.2\\nL 12.5 98.6\\nL 11.2 98.6\\nL 11.2 89.0\\n' fill='#FF0000'/>\\n<path class='atom-9' d='M 20.7 93.8\\nQ 20.7 91.5, 21.8 90.2\\nQ 22.9 88.9, 25.1 88.9\\nQ 27.2 88.9, 28.3 90.2\\nQ 29.4 91.5, 29.4 93.8\\nQ 29.4 96.1, 28.3 97.4\\nQ 27.1 98.7, 25.1 98.7\\nQ 23.0 98.7, 21.8 97.4\\nQ 20.7 96.1, 20.7 93.8\\nM 25.1 97.7\\nQ 26.5 97.7, 27.3 96.7\\nQ 28.1 95.7, 28.1 93.8\\nQ 28.1 91.9, 27.3 91.0\\nQ 26.5 90.0, 25.1 90.0\\nQ 23.6 90.0, 22.8 91.0\\nQ 22.0 91.9, 22.0 93.8\\nQ 22.0 95.7, 22.8 96.7\\nQ 23.6 97.7, 25.1 97.7\\n' fill='#FF0000'/>\\n</svg>\\n\""
      ]
     },
     "execution_count": 190,
     "metadata": {},
     "output_type": "execute_result"
    }
   ],
   "source": [
    "mol_names = [\n",
    "    \"akg\",\n",
    "    \"akg_semialdehyde\",\n",
    "    \"co2\",\n",
    "]\n",
    "\n",
    "for name, txt in zip(mol_names, chain(*mol_svgs)):\n",
    "    with open(f\"../artifacts/imgs/{name}.svg\", 'w') as f:\n",
    "        f.write(txt)"
   ]
  },
  {
   "cell_type": "code",
   "execution_count": null,
   "metadata": {},
   "outputs": [
    {
     "name": "stdout",
     "output_type": "stream",
     "text": [
      "Constructing sprhea:v3_folded_pt_ns sparse adjacency matrix\n",
      "24522\r"
     ]
    }
   ],
   "source": [
    "adj, idx_sample, idx_feature = construct_sparse_adj_mat(\"sprhea\", \"v3_folded_pt_ns\")"
   ]
  },
  {
   "cell_type": "code",
   "execution_count": null,
   "metadata": {},
   "outputs": [],
   "source": [
    "r_per_p = np.array(adj.sum(axis=1)).ravel()\n",
    "p_per_r = np.array(adj.sum(axis=0)).ravel()\n",
    "n_pairs = adj.nnz\n",
    "nprot, nr = adj.shape\n",
    "mean_r_per_p, std_r_per_p = r_per_p.mean(), r_per_p.std()\n",
    "mean_p_per_r, std_p_per_r = p_per_r.mean(), p_per_r.std()"
   ]
  },
  {
   "cell_type": "code",
   "execution_count": null,
   "metadata": {},
   "outputs": [
    {
     "name": "stdout",
     "output_type": "stream",
     "text": [
      "24523 proteins, 6460 reactions, 49071 pairs\n",
      "Reactions per protein: 2.001019451127513 \\pm 2.630107259682759\n",
      "Proteins per reaction: 7.596130030959753 \\pm 50.42952244716726\n"
     ]
    }
   ],
   "source": [
    "print(f\"{nprot} proteins, {nr} reactions, {n_pairs} pairs\")\n",
    "print(f\"Reactions per protein: {mean_r_per_p} \\pm {std_r_per_p}\")\n",
    "print(f\"Proteins per reaction: {mean_p_per_r} \\pm {std_p_per_r}\")"
   ]
  },
  {
   "cell_type": "code",
   "execution_count": null,
   "metadata": {},
   "outputs": [
    {
     "data": {
      "image/png": "[encoded data removed]",
      "text/plain": [
       "<Figure size 1200x500 with 2 Axes>"
      ]
     },
     "metadata": {},
     "output_type": "display_data"
    }
   ],
   "source": [
    "fig, ax = plt.subplots(ncols=2, figsize=(12, 5))\n",
    "ax[0].hist(r_per_p, bins=25)\n",
    "ax[1].hist(p_per_r, bins=25)\n",
    "ax[0].set_title(f\"Reactions per protein: {mean_r_per_p:.1f} \" + r\"$\\pm$\" + f\" {std_r_per_p:.1f}\")\n",
    "ax[1].set_title(f\"Proteins per reaction: {mean_p_per_r:.1f} \" + r\"$\\pm$\" + f\" {std_p_per_r:.1f}\")\n",
    "ax[0].set_yscale('log')\n",
    "ax[1].set_yscale('log')\n",
    "ax[0].set_xlim(1, r_per_p.max())\n",
    "ax[1].set_xlim(1, p_per_r.max())\n",
    "plt.show()"
   ]
  },
  {
   "cell_type": "code",
   "execution_count": null,
   "metadata": {},
   "outputs": [
    {
     "name": "stdout",
     "output_type": "stream",
     "text": [
      "Q3UN02\n"
     ]
    }
   ],
   "source": [
    "print(idx_sample[np.argmax(r_per_p)])"
   ]
  },
  {
   "cell_type": "code",
   "execution_count": null,
   "metadata": {},
   "outputs": [],
   "source": [
    "import svgutils.compose as sc\n",
    "import svgutils.transform as st\n",
    "\n",
    "def draw_mol_svg(mol, hilite_atoms=[], hcolor=(0.7, 0.9, 0.6), unscaled_width=200, height=200, scl_fcn=np.log10, width_offset=25):\n",
    "    hcolor = {idx: hcolor for idx in hilite_atoms}\n",
    "    nb = mol.GetNumAtoms()\n",
    "    width = int(scl_fcn(nb) * unscaled_width) + width_offset\n",
    "    d2d = Draw.MolDraw2DSVG(width, height)\n",
    "    d2d.DrawMolecule(mol, highlightAtoms=hilite_atoms, highlightAtomColors=hcolor)\n",
    "    d2d.FinishDrawing()\n",
    "    svg = d2d.GetDrawingText()\n",
    "    return svg\n",
    "\n",
    "def rxn_from_smarts(smarts, reverse):\n",
    "    if reverse:\n",
    "        smiles = [elt.split(\".\") for elt in smarts.split(\">>\")[::-1]]\n",
    "    else:\n",
    "        smiles = [elt.split(\".\") for elt in smarts.split(\">>\")[::-1]]\n",
    "    mol_svg = [[], []]\n",
    "    for side in range(2):\n",
    "        for smi in smiles[side]:\n",
    "            mol = Chem.MolFromSmiles(smi)\n",
    "            mol_svg[side].append(draw_mol_svg(mol))\n",
    "    print([len(elt) for elt in mol_svg])\n",
    "\n",
    "    return draw_rxn_from_mol_svg(mol_svg)\n",
    "\n",
    "def draw_rxn_from_mol_svg(mol_svgs, plus_path=\"../artifacts/imgs/plus.svg\", arrow_path=\"../artifacts/imgs/arrow.svg\"):\n",
    "    last_elt = lambda L : L[len(L) - 1]\n",
    "    max_height = 0\n",
    "    elements = []\n",
    "    movex = [0]\n",
    "    for side in range(2):\n",
    "        for i, ms in enumerate(mol_svgs[side]):\n",
    "            sfig = st.fromstring(ms)\n",
    "            width, height = int(sfig.width.strip('px')), int(sfig.height.strip('px'))\n",
    "            elt = sfig.getroot()\n",
    "            elements.append(elt)\n",
    "            movex.append(last_elt(movex) + width)\n",
    "\n",
    "            if i < len(mol_svgs[side]) - 1:\n",
    "                plus = sc.SVG(plus_path)\n",
    "                elements.append(plus)\n",
    "                movex.append(last_elt(movex) + plus.width)\n",
    "            \n",
    "            if height > max_height:\n",
    "                max_height = height \n",
    "        \n",
    "        if side == 0:\n",
    "            arrow = sc.SVG(arrow_path)\n",
    "            elements.append(arrow)\n",
    "            movex.append(last_elt(movex) + arrow.width)\n",
    "\n",
    "    for i, elt in enumerate(elements):\n",
    "        elt.moveto(movex[i], 0)\n",
    "\n",
    "    overall_width = movex[-1]\n",
    "    print(overall_width, max_height)\n",
    "    rxn = sc.Figure(overall_width, max_height, *elements)\n",
    "    return rxn"
   ]
  },
  {
   "cell_type": "code",
   "execution_count": null,
   "metadata": {},
   "outputs": [
    {
     "name": "stdout",
     "output_type": "stream",
     "text": [
      "Nc1ncnc2c1ncn2C1OC(COP(=O)(O)OP(=O)(O)O)C(O)C1O.*NC(COP(=O)(O)O)C(*)=O>>*NC(CO)C(*)=O.Nc1ncnc2c1ncn2C1OC(COP(=O)(O)OP(=O)(O)OP(=O)(O)O)C(O)C1O\n",
      "[2, 2]\n",
      "1199.0 200\n"
     ]
    },
    {
     "data": {
      "image/svg+xml": [
       "<?xml version='1.0' encoding='ASCII' standalone='yes'?>\n",
       "<svg xmlns=\"http://www.w3.org/2000/svg\" xmlns:xlink=\"http://www.w3.org/1999/xlink\" version=\"1.1\" width=\"1199.0px\" viewBox=\"0 0 1199.0 200.0\" height=\"200.0px\">\n",
       "  <g>\n",
       "    <g transform=\"translate(0, 0) scale(1 1) \"><!-- END OF HEADER -->\n",
       "<rect style=\"opacity:1.0;fill:#FFFFFF;stroke:none\" width=\"205.0\" height=\"200.0\" x=\"0.0\" y=\"0.0\"> </rect>\n",
       "<path class=\"bond-0 atom-0 atom-1\" d=\"M 18.1,81.0 L 32.7,72.6\" style=\"fill:none;fill-rule:evenodd;stroke:#191919;stroke-width:2.0px;stroke-linecap:butt;stroke-linejoin:miter;stroke-opacity:1\"/>\n",
       "<path class=\"bond-0 atom-0 atom-1\" d=\"M 32.7,72.6 L 47.4,64.1\" style=\"fill:none;fill-rule:evenodd;stroke:#0000FF;stroke-width:2.0px;stroke-linecap:butt;stroke-linejoin:miter;stroke-opacity:1\"/>\n",
       "<path class=\"bond-1 atom-1 atom-2\" d=\"M 60.5,64.1 L 77.5,73.9\" style=\"fill:none;fill-rule:evenodd;stroke:#0000FF;stroke-width:2.0px;stroke-linecap:butt;stroke-linejoin:miter;stroke-opacity:1\"/>\n",
       "<path class=\"bond-1 atom-1 atom-2\" d=\"M 77.5,73.9 L 94.5,83.7\" style=\"fill:none;fill-rule:evenodd;stroke:#000000;stroke-width:2.0px;stroke-linecap:butt;stroke-linejoin:miter;stroke-opacity:1\"/>\n",
       "<path class=\"bond-2 atom-2 atom-3\" d=\"M 94.5,83.7 L 135.1,60.3\" style=\"fill:none;fill-rule:evenodd;stroke:#000000;stroke-width:2.0px;stroke-linecap:butt;stroke-linejoin:miter;stroke-opacity:1\"/>\n",
       "<path class=\"bond-3 atom-3 atom-4\" d=\"M 135.1,60.3 L 151.6,69.8\" style=\"fill:none;fill-rule:evenodd;stroke:#000000;stroke-width:2.0px;stroke-linecap:butt;stroke-linejoin:miter;stroke-opacity:1\"/>\n",
       "<path class=\"bond-3 atom-3 atom-4\" d=\"M 151.6,69.8 L 168.1,79.3\" style=\"fill:none;fill-rule:evenodd;stroke:#FF0000;stroke-width:2.0px;stroke-linecap:butt;stroke-linejoin:miter;stroke-opacity:1\"/>\n",
       "<path class=\"bond-4 atom-2 atom-5\" d=\"M 94.5,83.7 L 94.5,130.6\" style=\"fill:none;fill-rule:evenodd;stroke:#000000;stroke-width:2.0px;stroke-linecap:butt;stroke-linejoin:miter;stroke-opacity:1\"/>\n",
       "<path class=\"bond-5 atom-5 atom-6\" d=\"M 94.5,130.6 L 112.5,140.9\" style=\"fill:none;fill-rule:evenodd;stroke:#000000;stroke-width:2.0px;stroke-linecap:butt;stroke-linejoin:miter;stroke-opacity:1\"/>\n",
       "<path class=\"bond-5 atom-5 atom-6\" d=\"M 112.5,140.9 L 130.4,151.3\" style=\"fill:none;fill-rule:evenodd;stroke:#191919;stroke-width:2.0px;stroke-linecap:butt;stroke-linejoin:miter;stroke-opacity:1\"/>\n",
       "<path class=\"bond-6 atom-5 atom-7\" d=\"M 94.5,126.5 L 77.2,136.5\" style=\"fill:none;fill-rule:evenodd;stroke:#000000;stroke-width:2.0px;stroke-linecap:butt;stroke-linejoin:miter;stroke-opacity:1\"/>\n",
       "<path class=\"bond-6 atom-5 atom-7\" d=\"M 77.2,136.5 L 59.9,146.6\" style=\"fill:none;fill-rule:evenodd;stroke:#FF0000;stroke-width:2.0px;stroke-linecap:butt;stroke-linejoin:miter;stroke-opacity:1\"/>\n",
       "<path class=\"bond-6 atom-5 atom-7\" d=\"M 98.1,132.6 L 80.7,142.6\" style=\"fill:none;fill-rule:evenodd;stroke:#000000;stroke-width:2.0px;stroke-linecap:butt;stroke-linejoin:miter;stroke-opacity:1\"/>\n",
       "<path class=\"bond-6 atom-5 atom-7\" d=\"M 80.7,142.6 L 63.4,152.6\" style=\"fill:none;fill-rule:evenodd;stroke:#FF0000;stroke-width:2.0px;stroke-linecap:butt;stroke-linejoin:miter;stroke-opacity:1\"/>\n",
       "<path d=\"M 133.1,61.5 L 135.1,60.3 L 136.0,60.8\" style=\"fill:none;stroke:#000000;stroke-width:2.0px;stroke-linecap:butt;stroke-linejoin:miter;stroke-opacity:1;\"/>\n",
       "<path d=\"M 94.5,128.2 L 94.5,130.6 L 95.4,131.1\" style=\"fill:none;stroke:#000000;stroke-width:2.0px;stroke-linecap:butt;stroke-linejoin:miter;stroke-opacity:1;\"/>\n",
       "<path class=\"atom-0\" d=\"M 10.9 82.2 L 12.8 80.3 L 10.2 79.7 L 10.6 78.4 L 13.0 79.6 L 12.7 77.0 L 14.1 77.0 L 13.7 79.6 L 16.1 78.5 L 16.5 79.7 L 13.9 80.2 L 15.8 82.2 L 14.6 83.1 L 13.3 80.6 L 12.0 83.1 L 10.9 82.2 \" fill=\"#191919\"/>\n",
       "<path class=\"atom-1\" d=\"M 51.0 53.7 L 55.4 60.7 Q 55.8 61.4, 56.5 62.6 Q 57.2 63.9, 57.2 64.0 L 57.2 53.7 L 59.0 53.7 L 59.0 66.9 L 57.2 66.9 L 52.5 59.3 Q 52.0 58.4, 51.4 57.3 Q 50.8 56.3, 50.7 56.0 L 50.7 66.9 L 48.9 66.9 L 48.9 53.7 L 51.0 53.7 \" fill=\"#0000FF\"/>\n",
       "<path class=\"atom-1\" d=\"M 48.8 39.1 L 50.6 39.1 L 50.6 44.7 L 57.4 44.7 L 57.4 39.1 L 59.2 39.1 L 59.2 52.3 L 57.4 52.3 L 57.4 46.2 L 50.6 46.2 L 50.6 52.3 L 48.8 52.3 L 48.8 39.1 \" fill=\"#0000FF\"/>\n",
       "<path class=\"atom-4\" d=\"M 169.6 83.8 Q 169.6 80.6, 171.2 78.8 Q 172.8 77.0, 175.7 77.0 Q 178.7 77.0, 180.2 78.8 Q 181.8 80.6, 181.8 83.8 Q 181.8 87.0, 180.2 88.8 Q 178.6 90.6, 175.7 90.6 Q 172.8 90.6, 171.2 88.8 Q 169.6 87.0, 169.6 83.8 M 175.7 89.1 Q 177.7 89.1, 178.8 87.8 Q 179.9 86.4, 179.9 83.8 Q 179.9 81.2, 178.8 79.8 Q 177.7 78.5, 175.7 78.5 Q 173.7 78.5, 172.6 79.8 Q 171.5 81.1, 171.5 83.8 Q 171.5 86.4, 172.6 87.8 Q 173.7 89.1, 175.7 89.1 \" fill=\"#FF0000\"/>\n",
       "<path class=\"atom-4\" d=\"M 183.9 77.2 L 185.7 77.2 L 185.7 82.8 L 192.5 82.8 L 192.5 77.2 L 194.2 77.2 L 194.2 90.4 L 192.5 90.4 L 192.5 84.3 L 185.7 84.3 L 185.7 90.4 L 183.9 90.4 L 183.9 77.2 \" fill=\"#FF0000\"/>\n",
       "<path class=\"atom-6\" d=\"M 132.6 152.5 L 134.6 150.5 L 132.0 150.0 L 132.4 148.7 L 134.8 149.9 L 134.4 147.3 L 135.8 147.3 L 135.4 149.9 L 137.9 148.7 L 138.3 150.0 L 135.6 150.5 L 137.5 152.5 L 136.4 153.3 L 135.1 150.9 L 133.8 153.3 L 132.6 152.5 \" fill=\"#191919\"/>\n",
       "<path class=\"atom-7\" d=\"M 47.9 154.1 Q 47.9 150.9, 49.5 149.1 Q 51.0 147.3, 54.0 147.3 Q 56.9 147.3, 58.5 149.1 Q 60.1 150.9, 60.1 154.1 Q 60.1 157.3, 58.5 159.1 Q 56.9 160.9, 54.0 160.9 Q 51.0 160.9, 49.5 159.1 Q 47.9 157.3, 47.9 154.1 M 54.0 159.4 Q 56.0 159.4, 57.1 158.1 Q 58.2 156.7, 58.2 154.1 Q 58.2 151.4, 57.1 150.1 Q 56.0 148.8, 54.0 148.8 Q 51.9 148.8, 50.8 150.1 Q 49.8 151.4, 49.8 154.1 Q 49.8 156.7, 50.8 158.1 Q 51.9 159.4, 54.0 159.4 \" fill=\"#FF0000\"/>\n",
       "</g>\n",
       "    <g transform=\"translate(205, 0) scale(1 1) \"><line x1=\"15\" y1=\"100\" x2=\"25\" y2=\"100\" style=\"stroke:rgb(0,0,0);stroke-width:2\"/>\n",
       "  <line x1=\"20\" y1=\"95\" x2=\"20\" y2=\"105\" style=\"stroke:rgb(0,0,0);stroke-width:2\"/>\n",
       "</g>\n",
       "    <g transform=\"translate(245.0, 0) scale(1 1) \"><!-- END OF HEADER -->\n",
       "<rect style=\"opacity:1.0;fill:#FFFFFF;stroke:none\" width=\"323.0\" height=\"200.0\" x=\"0.0\" y=\"0.0\"> </rect>\n",
       "<path class=\"bond-0 atom-0 atom-1\" d=\"M 287.2,139.4 L 275.7,139.0\" style=\"fill:none;fill-rule:evenodd;stroke:#0000FF;stroke-width:2.0px;stroke-linecap:butt;stroke-linejoin:miter;stroke-opacity:1\"/>\n",
       "<path class=\"bond-0 atom-0 atom-1\" d=\"M 275.7,139.0 L 264.2,138.6\" style=\"fill:none;fill-rule:evenodd;stroke:#000000;stroke-width:2.0px;stroke-linecap:butt;stroke-linejoin:miter;stroke-opacity:1\"/>\n",
       "<path class=\"bond-1 atom-1 atom-2\" d=\"M 264.2,138.6 L 258.5,147.6\" style=\"fill:none;fill-rule:evenodd;stroke:#000000;stroke-width:2.0px;stroke-linecap:butt;stroke-linejoin:miter;stroke-opacity:1\"/>\n",
       "<path class=\"bond-1 atom-1 atom-2\" d=\"M 258.5,147.6 L 252.9,156.6\" style=\"fill:none;fill-rule:evenodd;stroke:#0000FF;stroke-width:2.0px;stroke-linecap:butt;stroke-linejoin:miter;stroke-opacity:1\"/>\n",
       "<path class=\"bond-1 atom-1 atom-2\" d=\"M 259.6,138.4 L 254.5,146.4\" style=\"fill:none;fill-rule:evenodd;stroke:#000000;stroke-width:2.0px;stroke-linecap:butt;stroke-linejoin:miter;stroke-opacity:1\"/>\n",
       "<path class=\"bond-1 atom-1 atom-2\" d=\"M 254.5,146.4 L 249.4,154.4\" style=\"fill:none;fill-rule:evenodd;stroke:#0000FF;stroke-width:2.0px;stroke-linecap:butt;stroke-linejoin:miter;stroke-opacity:1\"/>\n",
       "<path class=\"bond-2 atom-2 atom-3\" d=\"M 246.1,161.1 L 234.6,160.7\" style=\"fill:none;fill-rule:evenodd;stroke:#0000FF;stroke-width:2.0px;stroke-linecap:butt;stroke-linejoin:miter;stroke-opacity:1\"/>\n",
       "<path class=\"bond-2 atom-2 atom-3\" d=\"M 234.6,160.7 L 223.1,160.2\" style=\"fill:none;fill-rule:evenodd;stroke:#000000;stroke-width:2.0px;stroke-linecap:butt;stroke-linejoin:miter;stroke-opacity:1\"/>\n",
       "<path class=\"bond-3 atom-3 atom-4\" d=\"M 223.1,160.2 L 218.1,150.7\" style=\"fill:none;fill-rule:evenodd;stroke:#000000;stroke-width:2.0px;stroke-linecap:butt;stroke-linejoin:miter;stroke-opacity:1\"/>\n",
       "<path class=\"bond-3 atom-3 atom-4\" d=\"M 218.1,150.7 L 213.0,141.2\" style=\"fill:none;fill-rule:evenodd;stroke:#0000FF;stroke-width:2.0px;stroke-linecap:butt;stroke-linejoin:miter;stroke-opacity:1\"/>\n",
       "<path class=\"bond-3 atom-3 atom-4\" d=\"M 225.6,156.3 L 221.1,147.8\" style=\"fill:none;fill-rule:evenodd;stroke:#000000;stroke-width:2.0px;stroke-linecap:butt;stroke-linejoin:miter;stroke-opacity:1\"/>\n",
       "<path class=\"bond-3 atom-3 atom-4\" d=\"M 221.1,147.8 L 216.6,139.3\" style=\"fill:none;fill-rule:evenodd;stroke:#0000FF;stroke-width:2.0px;stroke-linecap:butt;stroke-linejoin:miter;stroke-opacity:1\"/>\n",
       "<path class=\"bond-4 atom-4 atom-5\" d=\"M 213.5,131.8 L 219.2,122.8\" style=\"fill:none;fill-rule:evenodd;stroke:#0000FF;stroke-width:2.0px;stroke-linecap:butt;stroke-linejoin:miter;stroke-opacity:1\"/>\n",
       "<path class=\"bond-4 atom-4 atom-5\" d=\"M 219.2,122.8 L 224.9,113.8\" style=\"fill:none;fill-rule:evenodd;stroke:#000000;stroke-width:2.0px;stroke-linecap:butt;stroke-linejoin:miter;stroke-opacity:1\"/>\n",
       "<path class=\"bond-5 atom-5 atom-6\" d=\"M 224.9,113.8 L 251.7,114.8\" style=\"fill:none;fill-rule:evenodd;stroke:#000000;stroke-width:2.0px;stroke-linecap:butt;stroke-linejoin:miter;stroke-opacity:1\"/>\n",
       "<path class=\"bond-5 atom-5 atom-6\" d=\"M 227.0,117.9 L 249.2,118.7\" style=\"fill:none;fill-rule:evenodd;stroke:#000000;stroke-width:2.0px;stroke-linecap:butt;stroke-linejoin:miter;stroke-opacity:1\"/>\n",
       "<path class=\"bond-6 atom-6 atom-7\" d=\"M 251.7,114.8 L 255.4,104.6\" style=\"fill:none;fill-rule:evenodd;stroke:#000000;stroke-width:2.0px;stroke-linecap:butt;stroke-linejoin:miter;stroke-opacity:1\"/>\n",
       "<path class=\"bond-6 atom-6 atom-7\" d=\"M 255.4,104.6 L 259.2,94.3\" style=\"fill:none;fill-rule:evenodd;stroke:#0000FF;stroke-width:2.0px;stroke-linecap:butt;stroke-linejoin:miter;stroke-opacity:1\"/>\n",
       "<path class=\"bond-7 atom-7 atom-8\" d=\"M 257.2,86.7 L 248.5,79.8\" style=\"fill:none;fill-rule:evenodd;stroke:#0000FF;stroke-width:2.0px;stroke-linecap:butt;stroke-linejoin:miter;stroke-opacity:1\"/>\n",
       "<path class=\"bond-7 atom-7 atom-8\" d=\"M 248.5,79.8 L 239.8,73.0\" style=\"fill:none;fill-rule:evenodd;stroke:#000000;stroke-width:2.0px;stroke-linecap:butt;stroke-linejoin:miter;stroke-opacity:1\"/>\n",
       "<path class=\"bond-7 atom-7 atom-8\" d=\"M 254.7,89.8 L 247.2,83.9\" style=\"fill:none;fill-rule:evenodd;stroke:#0000FF;stroke-width:2.0px;stroke-linecap:butt;stroke-linejoin:miter;stroke-opacity:1\"/>\n",
       "<path class=\"bond-7 atom-7 atom-8\" d=\"M 247.2,83.9 L 239.6,78.0\" style=\"fill:none;fill-rule:evenodd;stroke:#000000;stroke-width:2.0px;stroke-linecap:butt;stroke-linejoin:miter;stroke-opacity:1\"/>\n",
       "<path class=\"bond-8 atom-8 atom-9\" d=\"M 239.8,73.0 L 230.6,79.2\" style=\"fill:none;fill-rule:evenodd;stroke:#000000;stroke-width:2.0px;stroke-linecap:butt;stroke-linejoin:miter;stroke-opacity:1\"/>\n",
       "<path class=\"bond-8 atom-8 atom-9\" d=\"M 230.6,79.2 L 221.3,85.4\" style=\"fill:none;fill-rule:evenodd;stroke:#0000FF;stroke-width:2.0px;stroke-linecap:butt;stroke-linejoin:miter;stroke-opacity:1\"/>\n",
       "<path class=\"bond-9 atom-9 atom-10\" d=\"M 213.8,86.6 L 203.1,82.7\" style=\"fill:none;fill-rule:evenodd;stroke:#0000FF;stroke-width:2.0px;stroke-linecap:butt;stroke-linejoin:miter;stroke-opacity:1\"/>\n",
       "<path class=\"bond-9 atom-9 atom-10\" d=\"M 203.1,82.7 L 192.3,78.7\" style=\"fill:none;fill-rule:evenodd;stroke:#000000;stroke-width:2.0px;stroke-linecap:butt;stroke-linejoin:miter;stroke-opacity:1\"/>\n",
       "<path class=\"bond-10 atom-10 atom-11\" d=\"M 192.3,78.7 L 183.4,84.7\" style=\"fill:none;fill-rule:evenodd;stroke:#000000;stroke-width:2.0px;stroke-linecap:butt;stroke-linejoin:miter;stroke-opacity:1\"/>\n",
       "<path class=\"bond-10 atom-10 atom-11\" d=\"M 183.4,84.7 L 174.4,90.7\" style=\"fill:none;fill-rule:evenodd;stroke:#FF0000;stroke-width:2.0px;stroke-linecap:butt;stroke-linejoin:miter;stroke-opacity:1\"/>\n",
       "<path class=\"bond-11 atom-11 atom-12\" d=\"M 165.7,90.2 L 157.3,83.6\" style=\"fill:none;fill-rule:evenodd;stroke:#FF0000;stroke-width:2.0px;stroke-linecap:butt;stroke-linejoin:miter;stroke-opacity:1\"/>\n",
       "<path class=\"bond-11 atom-11 atom-12\" d=\"M 157.3,83.6 L 148.9,77.1\" style=\"fill:none;fill-rule:evenodd;stroke:#000000;stroke-width:2.0px;stroke-linecap:butt;stroke-linejoin:miter;stroke-opacity:1\"/>\n",
       "<path class=\"bond-12 atom-12 atom-13\" d=\"M 148.9,77.1 L 123.1,84.4\" style=\"fill:none;fill-rule:evenodd;stroke:#000000;stroke-width:2.0px;stroke-linecap:butt;stroke-linejoin:miter;stroke-opacity:1\"/>\n",
       "<path class=\"bond-13 atom-13 atom-14\" d=\"M 123.1,84.4 L 115.7,77.2\" style=\"fill:none;fill-rule:evenodd;stroke:#000000;stroke-width:2.0px;stroke-linecap:butt;stroke-linejoin:miter;stroke-opacity:1\"/>\n",
       "<path class=\"bond-13 atom-13 atom-14\" d=\"M 115.7,77.2 L 108.3,69.9\" style=\"fill:none;fill-rule:evenodd;stroke:#FF0000;stroke-width:2.0px;stroke-linecap:butt;stroke-linejoin:miter;stroke-opacity:1\"/>\n",
       "<path class=\"bond-14 atom-14 atom-15\" d=\"M 99.5,66.9 L 90.4,69.5\" style=\"fill:none;fill-rule:evenodd;stroke:#FF0000;stroke-width:2.0px;stroke-linecap:butt;stroke-linejoin:miter;stroke-opacity:1\"/>\n",
       "<path class=\"bond-14 atom-14 atom-15\" d=\"M 90.4,69.5 L 81.4,72.1\" style=\"fill:none;fill-rule:evenodd;stroke:#FF7F00;stroke-width:2.0px;stroke-linecap:butt;stroke-linejoin:miter;stroke-opacity:1\"/>\n",
       "<path class=\"bond-15 atom-15 atom-16\" d=\"M 77.4,78.2 L 79.8,86.4\" style=\"fill:none;fill-rule:evenodd;stroke:#FF7F00;stroke-width:2.0px;stroke-linecap:butt;stroke-linejoin:miter;stroke-opacity:1\"/>\n",
       "<path class=\"bond-15 atom-15 atom-16\" d=\"M 79.8,86.4 L 82.1,94.6\" style=\"fill:none;fill-rule:evenodd;stroke:#FF0000;stroke-width:2.0px;stroke-linecap:butt;stroke-linejoin:miter;stroke-opacity:1\"/>\n",
       "<path class=\"bond-15 atom-15 atom-16\" d=\"M 81.3,77.1 L 83.6,85.3\" style=\"fill:none;fill-rule:evenodd;stroke:#FF7F00;stroke-width:2.0px;stroke-linecap:butt;stroke-linejoin:miter;stroke-opacity:1\"/>\n",
       "<path class=\"bond-15 atom-15 atom-16\" d=\"M 83.6,85.3 L 86.0,93.5\" style=\"fill:none;fill-rule:evenodd;stroke:#FF0000;stroke-width:2.0px;stroke-linecap:butt;stroke-linejoin:miter;stroke-opacity:1\"/>\n",
       "<path class=\"bond-16 atom-15 atom-17\" d=\"M 76.7,68.3 L 74.4,60.2\" style=\"fill:none;fill-rule:evenodd;stroke:#FF7F00;stroke-width:2.0px;stroke-linecap:butt;stroke-linejoin:miter;stroke-opacity:1\"/>\n",
       "<path class=\"bond-16 atom-15 atom-17\" d=\"M 74.4,60.2 L 72.1,52.0\" style=\"fill:none;fill-rule:evenodd;stroke:#FF0000;stroke-width:2.0px;stroke-linecap:butt;stroke-linejoin:miter;stroke-opacity:1\"/>\n",
       "<path class=\"bond-17 atom-15 atom-18\" d=\"M 74.7,73.9 L 65.7,76.5\" style=\"fill:none;fill-rule:evenodd;stroke:#FF7F00;stroke-width:2.0px;stroke-linecap:butt;stroke-linejoin:miter;stroke-opacity:1\"/>\n",
       "<path class=\"bond-17 atom-15 atom-18\" d=\"M 65.7,76.5 L 56.6,79.1\" style=\"fill:none;fill-rule:evenodd;stroke:#FF0000;stroke-width:2.0px;stroke-linecap:butt;stroke-linejoin:miter;stroke-opacity:1\"/>\n",
       "<path class=\"bond-18 atom-18 atom-19\" d=\"M 51.0,85.2 L 48.9,93.4\" style=\"fill:none;fill-rule:evenodd;stroke:#FF0000;stroke-width:2.0px;stroke-linecap:butt;stroke-linejoin:miter;stroke-opacity:1\"/>\n",
       "<path class=\"bond-18 atom-18 atom-19\" d=\"M 48.9,93.4 L 46.8,101.6\" style=\"fill:none;fill-rule:evenodd;stroke:#FF7F00;stroke-width:2.0px;stroke-linecap:butt;stroke-linejoin:miter;stroke-opacity:1\"/>\n",
       "<path class=\"bond-19 atom-19 atom-20\" d=\"M 42.8,103.5 L 33.7,101.2\" style=\"fill:none;fill-rule:evenodd;stroke:#FF7F00;stroke-width:2.0px;stroke-linecap:butt;stroke-linejoin:miter;stroke-opacity:1\"/>\n",
       "<path class=\"bond-19 atom-19 atom-20\" d=\"M 33.7,101.2 L 24.5,98.9\" style=\"fill:none;fill-rule:evenodd;stroke:#FF0000;stroke-width:2.0px;stroke-linecap:butt;stroke-linejoin:miter;stroke-opacity:1\"/>\n",
       "<path class=\"bond-19 atom-19 atom-20\" d=\"M 41.9,107.4 L 32.7,105.1\" style=\"fill:none;fill-rule:evenodd;stroke:#FF7F00;stroke-width:2.0px;stroke-linecap:butt;stroke-linejoin:miter;stroke-opacity:1\"/>\n",
       "<path class=\"bond-19 atom-19 atom-20\" d=\"M 32.7,105.1 L 23.5,102.8\" style=\"fill:none;fill-rule:evenodd;stroke:#FF0000;stroke-width:2.0px;stroke-linecap:butt;stroke-linejoin:miter;stroke-opacity:1\"/>\n",
       "<path class=\"bond-20 atom-19 atom-21\" d=\"M 49.0,107.2 L 58.1,109.5\" style=\"fill:none;fill-rule:evenodd;stroke:#FF7F00;stroke-width:2.0px;stroke-linecap:butt;stroke-linejoin:miter;stroke-opacity:1\"/>\n",
       "<path class=\"bond-20 atom-19 atom-21\" d=\"M 58.1,109.5 L 67.3,111.8\" style=\"fill:none;fill-rule:evenodd;stroke:#FF0000;stroke-width:2.0px;stroke-linecap:butt;stroke-linejoin:miter;stroke-opacity:1\"/>\n",
       "<path class=\"bond-21 atom-19 atom-22\" d=\"M 44.5,111.0 L 42.4,119.3\" style=\"fill:none;fill-rule:evenodd;stroke:#FF7F00;stroke-width:2.0px;stroke-linecap:butt;stroke-linejoin:miter;stroke-opacity:1\"/>\n",
       "<path class=\"bond-21 atom-19 atom-22\" d=\"M 42.4,119.3 L 40.3,127.6\" style=\"fill:none;fill-rule:evenodd;stroke:#FF0000;stroke-width:2.0px;stroke-linecap:butt;stroke-linejoin:miter;stroke-opacity:1\"/>\n",
       "<path class=\"bond-22 atom-22 atom-23\" d=\"M 43.5,136.6 L 49.2,142.2\" style=\"fill:none;fill-rule:evenodd;stroke:#FF0000;stroke-width:2.0px;stroke-linecap:butt;stroke-linejoin:miter;stroke-opacity:1\"/>\n",
       "<path class=\"bond-22 atom-22 atom-23\" d=\"M 49.2,142.2 L 55.0,147.8\" style=\"fill:none;fill-rule:evenodd;stroke:#FF7F00;stroke-width:2.0px;stroke-linecap:butt;stroke-linejoin:miter;stroke-opacity:1\"/>\n",
       "<path class=\"bond-23 atom-23 atom-24\" d=\"M 53.6,153.1 L 48.1,158.7\" style=\"fill:none;fill-rule:evenodd;stroke:#FF7F00;stroke-width:2.0px;stroke-linecap:butt;stroke-linejoin:miter;stroke-opacity:1\"/>\n",
       "<path class=\"bond-23 atom-23 atom-24\" d=\"M 48.1,158.7 L 42.6,164.4\" style=\"fill:none;fill-rule:evenodd;stroke:#FF0000;stroke-width:2.0px;stroke-linecap:butt;stroke-linejoin:miter;stroke-opacity:1\"/>\n",
       "<path class=\"bond-23 atom-23 atom-24\" d=\"M 56.5,155.9 L 51.0,161.5\" style=\"fill:none;fill-rule:evenodd;stroke:#FF7F00;stroke-width:2.0px;stroke-linecap:butt;stroke-linejoin:miter;stroke-opacity:1\"/>\n",
       "<path class=\"bond-23 atom-23 atom-24\" d=\"M 51.0,161.5 L 45.4,167.2\" style=\"fill:none;fill-rule:evenodd;stroke:#FF0000;stroke-width:2.0px;stroke-linecap:butt;stroke-linejoin:miter;stroke-opacity:1\"/>\n",
       "<path class=\"bond-24 atom-23 atom-25\" d=\"M 61.6,147.6 L 67.2,142.0\" style=\"fill:none;fill-rule:evenodd;stroke:#FF7F00;stroke-width:2.0px;stroke-linecap:butt;stroke-linejoin:miter;stroke-opacity:1\"/>\n",
       "<path class=\"bond-24 atom-23 atom-25\" d=\"M 67.2,142.0 L 72.7,136.3\" style=\"fill:none;fill-rule:evenodd;stroke:#FF0000;stroke-width:2.0px;stroke-linecap:butt;stroke-linejoin:miter;stroke-opacity:1\"/>\n",
       "<path class=\"bond-25 atom-23 atom-26\" d=\"M 61.6,154.3 L 67.4,159.9\" style=\"fill:none;fill-rule:evenodd;stroke:#FF7F00;stroke-width:2.0px;stroke-linecap:butt;stroke-linejoin:miter;stroke-opacity:1\"/>\n",
       "<path class=\"bond-25 atom-23 atom-26\" d=\"M 67.4,159.9 L 73.2,165.5\" style=\"fill:none;fill-rule:evenodd;stroke:#FF0000;stroke-width:2.0px;stroke-linecap:butt;stroke-linejoin:miter;stroke-opacity:1\"/>\n",
       "<path class=\"bond-26 atom-12 atom-27\" d=\"M 148.9,77.1 L 158.2,51.9\" style=\"fill:none;fill-rule:evenodd;stroke:#000000;stroke-width:2.0px;stroke-linecap:butt;stroke-linejoin:miter;stroke-opacity:1\"/>\n",
       "<path class=\"bond-27 atom-27 atom-28\" d=\"M 158.2,51.9 L 152.4,43.1\" style=\"fill:none;fill-rule:evenodd;stroke:#000000;stroke-width:2.0px;stroke-linecap:butt;stroke-linejoin:miter;stroke-opacity:1\"/>\n",
       "<path class=\"bond-27 atom-27 atom-28\" d=\"M 152.4,43.1 L 146.5,34.4\" style=\"fill:none;fill-rule:evenodd;stroke:#FF0000;stroke-width:2.0px;stroke-linecap:butt;stroke-linejoin:miter;stroke-opacity:1\"/>\n",
       "<path class=\"bond-28 atom-27 atom-29\" d=\"M 158.2,51.9 L 185.0,52.9\" style=\"fill:none;fill-rule:evenodd;stroke:#000000;stroke-width:2.0px;stroke-linecap:butt;stroke-linejoin:miter;stroke-opacity:1\"/>\n",
       "<path class=\"bond-29 atom-29 atom-30\" d=\"M 185.0,52.9 L 191.4,44.8\" style=\"fill:none;fill-rule:evenodd;stroke:#000000;stroke-width:2.0px;stroke-linecap:butt;stroke-linejoin:miter;stroke-opacity:1\"/>\n",
       "<path class=\"bond-29 atom-29 atom-30\" d=\"M 191.4,44.8 L 197.8,36.6\" style=\"fill:none;fill-rule:evenodd;stroke:#FF0000;stroke-width:2.0px;stroke-linecap:butt;stroke-linejoin:miter;stroke-opacity:1\"/>\n",
       "<path class=\"bond-30 atom-6 atom-1\" d=\"M 251.7,114.8 L 264.2,138.6\" style=\"fill:none;fill-rule:evenodd;stroke:#000000;stroke-width:2.0px;stroke-linecap:butt;stroke-linejoin:miter;stroke-opacity:1\"/>\n",
       "<path class=\"bond-31 atom-29 atom-10\" d=\"M 185.0,52.9 L 192.3,78.7\" style=\"fill:none;fill-rule:evenodd;stroke:#000000;stroke-width:2.0px;stroke-linecap:butt;stroke-linejoin:miter;stroke-opacity:1\"/>\n",
       "<path class=\"bond-32 atom-9 atom-5\" d=\"M 218.9,92.7 L 221.9,103.2\" style=\"fill:none;fill-rule:evenodd;stroke:#0000FF;stroke-width:2.0px;stroke-linecap:butt;stroke-linejoin:miter;stroke-opacity:1\"/>\n",
       "<path class=\"bond-32 atom-9 atom-5\" d=\"M 221.9,103.2 L 224.9,113.8\" style=\"fill:none;fill-rule:evenodd;stroke:#000000;stroke-width:2.0px;stroke-linecap:butt;stroke-linejoin:miter;stroke-opacity:1\"/>\n",
       "<path d=\"M 223.7,160.3 L 223.1,160.2 L 222.8,159.8\" style=\"fill:none;stroke:#000000;stroke-width:2.0px;stroke-linecap:butt;stroke-linejoin:miter;stroke-opacity:1;\"/>\n",
       "<path d=\"M 240.3,73.4 L 239.8,73.0 L 239.4,73.3\" style=\"fill:none;stroke:#000000;stroke-width:2.0px;stroke-linecap:butt;stroke-linejoin:miter;stroke-opacity:1;\"/>\n",
       "<path d=\"M 124.4,84.0 L 123.1,84.4 L 122.8,84.0\" style=\"fill:none;stroke:#000000;stroke-width:2.0px;stroke-linecap:butt;stroke-linejoin:miter;stroke-opacity:1;\"/>\n",
       "<path class=\"atom-0\" d=\"M 289.3 135.8 L 291.8 139.8 Q 292.1 140.2, 292.5 140.9 Q 292.9 141.6, 292.9 141.7 L 292.9 135.8 L 293.9 135.8 L 293.9 143.4 L 292.9 143.4 L 290.2 139.0 Q 289.9 138.5, 289.5 137.9 Q 289.2 137.3, 289.1 137.1 L 289.1 143.4 L 288.1 143.4 L 288.1 135.8 L 289.3 135.8 \" fill=\"#0000FF\"/>\n",
       "<path class=\"atom-0\" d=\"M 295.3 135.8 L 296.4 135.8 L 296.4 139.0 L 300.3 139.0 L 300.3 135.8 L 301.3 135.8 L 301.3 143.4 L 300.3 143.4 L 300.3 139.9 L 296.4 139.9 L 296.4 143.4 L 295.3 143.4 L 295.3 135.8 \" fill=\"#0000FF\"/>\n",
       "<path class=\"atom-0\" d=\"M 302.8 143.1 Q 303.0 142.6, 303.4 142.4 Q 303.8 142.1, 304.5 142.1 Q 305.2 142.1, 305.6 142.5 Q 306.1 142.9, 306.1 143.7 Q 306.1 144.4, 305.5 145.1 Q 305.0 145.8, 303.8 146.6 L 306.2 146.6 L 306.2 147.2 L 302.8 147.2 L 302.8 146.7 Q 303.7 146.0, 304.3 145.5 Q 304.8 145.0, 305.1 144.6 Q 305.4 144.1, 305.4 143.7 Q 305.4 143.2, 305.1 142.9 Q 304.9 142.7, 304.5 142.7 Q 304.1 142.7, 303.8 142.8 Q 303.5 143.0, 303.3 143.4 L 302.8 143.1 \" fill=\"#0000FF\"/>\n",
       "<path class=\"atom-2\" d=\"M 248.2 157.5 L 250.7 161.5 Q 251.0 161.9, 251.4 162.6 Q 251.8 163.3, 251.8 163.4 L 251.8 157.5 L 252.8 157.5 L 252.8 165.1 L 251.7 165.1 L 249.1 160.7 Q 248.8 160.2, 248.4 159.6 Q 248.1 159.0, 248.0 158.8 L 248.0 165.1 L 247.0 165.1 L 247.0 157.5 L 248.2 157.5 \" fill=\"#0000FF\"/>\n",
       "<path class=\"atom-4\" d=\"M 208.9 132.7 L 211.4 136.7 Q 211.6 137.1, 212.0 137.9 Q 212.4 138.6, 212.4 138.6 L 212.4 132.7 L 213.4 132.7 L 213.4 140.3 L 212.4 140.3 L 209.7 135.9 Q 209.4 135.4, 209.1 134.8 Q 208.8 134.2, 208.7 134.0 L 208.7 140.3 L 207.7 140.3 L 207.7 132.7 L 208.9 132.7 \" fill=\"#0000FF\"/>\n",
       "<path class=\"atom-7\" d=\"M 259.2 85.8 L 261.7 89.8 Q 262.0 90.2, 262.4 91.0 Q 262.8 91.7, 262.8 91.7 L 262.8 85.8 L 263.8 85.8 L 263.8 93.4 L 262.8 93.4 L 260.1 89.0 Q 259.8 88.5, 259.5 87.9 Q 259.1 87.3, 259.0 87.1 L 259.0 93.4 L 258.0 93.4 L 258.0 85.8 L 259.2 85.8 \" fill=\"#0000FF\"/>\n",
       "<path class=\"atom-9\" d=\"M 215.9 84.2 L 218.3 88.2 Q 218.6 88.6, 219.0 89.3 Q 219.4 90.0, 219.4 90.1 L 219.4 84.2 L 220.4 84.2 L 220.4 91.8 L 219.4 91.8 L 216.7 87.4 Q 216.4 86.9, 216.1 86.3 Q 215.7 85.7, 215.6 85.5 L 215.6 91.8 L 214.7 91.8 L 214.7 84.2 L 215.9 84.2 \" fill=\"#0000FF\"/>\n",
       "<path class=\"atom-11\" d=\"M 166.6 93.7 Q 166.6 91.9, 167.5 90.8 Q 168.4 89.8, 170.0 89.8 Q 171.7 89.8, 172.6 90.8 Q 173.5 91.9, 173.5 93.7 Q 173.5 95.5, 172.6 96.6 Q 171.7 97.6, 170.0 97.6 Q 168.4 97.6, 167.5 96.6 Q 166.6 95.5, 166.6 93.7 M 170.0 96.8 Q 171.2 96.8, 171.8 96.0 Q 172.5 95.2, 172.5 93.7 Q 172.5 92.2, 171.8 91.4 Q 171.2 90.7, 170.0 90.7 Q 168.9 90.7, 168.3 91.4 Q 167.6 92.2, 167.6 93.7 Q 167.6 95.2, 168.3 96.0 Q 168.9 96.8, 170.0 96.8 \" fill=\"#FF0000\"/>\n",
       "<path class=\"atom-14\" d=\"M 100.4 65.7 Q 100.4 63.9, 101.3 62.9 Q 102.2 61.8, 103.9 61.8 Q 105.6 61.8, 106.5 62.9 Q 107.4 63.9, 107.4 65.7 Q 107.4 67.5, 106.5 68.6 Q 105.5 69.6, 103.9 69.6 Q 102.2 69.6, 101.3 68.6 Q 100.4 67.6, 100.4 65.7 M 103.9 68.8 Q 105.0 68.8, 105.7 68.0 Q 106.3 67.2, 106.3 65.7 Q 106.3 64.2, 105.7 63.5 Q 105.0 62.7, 103.9 62.7 Q 102.7 62.7, 102.1 63.4 Q 101.5 64.2, 101.5 65.7 Q 101.5 67.2, 102.1 68.0 Q 102.7 68.8, 103.9 68.8 \" fill=\"#FF0000\"/>\n",
       "<path class=\"atom-15\" d=\"M 77.9 69.2 Q 79.2 69.2, 79.8 69.8 Q 80.5 70.4, 80.5 71.4 Q 80.5 72.5, 79.8 73.1 Q 79.1 73.7, 77.9 73.7 L 76.7 73.7 L 76.7 76.8 L 75.6 76.8 L 75.6 69.2 L 77.9 69.2 M 77.9 72.8 Q 78.6 72.8, 79.0 72.5 Q 79.4 72.1, 79.4 71.4 Q 79.4 70.8, 79.0 70.4 Q 78.6 70.1, 77.9 70.1 L 76.7 70.1 L 76.7 72.8 L 77.9 72.8 \" fill=\"#FF7F00\"/>\n",
       "<path class=\"atom-16\" d=\"M 81.9 98.8 Q 81.9 97.0, 82.8 96.0 Q 83.7 95.0, 85.4 95.0 Q 87.1 95.0, 88.0 96.0 Q 88.9 97.0, 88.9 98.8 Q 88.9 100.7, 87.9 101.7 Q 87.0 102.8, 85.4 102.8 Q 83.7 102.8, 82.8 101.7 Q 81.9 100.7, 81.9 98.8 M 85.4 101.9 Q 86.5 101.9, 87.2 101.1 Q 87.8 100.4, 87.8 98.8 Q 87.8 97.3, 87.2 96.6 Q 86.5 95.8, 85.4 95.8 Q 84.2 95.8, 83.6 96.6 Q 83.0 97.3, 83.0 98.8 Q 83.0 100.4, 83.6 101.1 Q 84.2 101.9, 85.4 101.9 \" fill=\"#FF0000\"/>\n",
       "<path class=\"atom-17\" d=\"M 67.2 47.2 Q 67.2 45.4, 68.2 44.3 Q 69.1 43.3, 70.7 43.3 Q 72.4 43.3, 73.3 44.3 Q 74.2 45.4, 74.2 47.2 Q 74.2 49.0, 73.3 50.1 Q 72.4 51.1, 70.7 51.1 Q 69.1 51.1, 68.2 50.1 Q 67.2 49.1, 67.2 47.2 M 70.7 50.3 Q 71.9 50.3, 72.5 49.5 Q 73.2 48.7, 73.2 47.2 Q 73.2 45.7, 72.5 45.0 Q 71.9 44.2, 70.7 44.2 Q 69.6 44.2, 68.9 44.9 Q 68.3 45.7, 68.3 47.2 Q 68.3 48.7, 68.9 49.5 Q 69.6 50.3, 70.7 50.3 \" fill=\"#FF0000\"/>\n",
       "<path class=\"atom-17\" d=\"M 75.4 43.4 L 76.4 43.4 L 76.4 46.6 L 80.3 46.6 L 80.3 43.4 L 81.4 43.4 L 81.4 51.0 L 80.3 51.0 L 80.3 47.5 L 76.4 47.5 L 76.4 51.0 L 75.4 51.0 L 75.4 43.4 \" fill=\"#FF0000\"/>\n",
       "<path class=\"atom-18\" d=\"M 48.7 80.3 Q 48.7 78.5, 49.6 77.5 Q 50.5 76.5, 52.2 76.5 Q 53.9 76.5, 54.8 77.5 Q 55.7 78.5, 55.7 80.3 Q 55.7 82.2, 54.8 83.2 Q 53.9 84.3, 52.2 84.3 Q 50.6 84.3, 49.6 83.2 Q 48.7 82.2, 48.7 80.3 M 52.2 83.4 Q 53.4 83.4, 54.0 82.6 Q 54.6 81.9, 54.6 80.3 Q 54.6 78.8, 54.0 78.1 Q 53.4 77.3, 52.2 77.3 Q 51.1 77.3, 50.4 78.1 Q 49.8 78.8, 49.8 80.3 Q 49.8 81.9, 50.4 82.6 Q 51.1 83.4, 52.2 83.4 \" fill=\"#FF0000\"/>\n",
       "<path class=\"atom-19\" d=\"M 45.5 102.5 Q 46.8 102.5, 47.4 103.1 Q 48.1 103.7, 48.1 104.8 Q 48.1 105.8, 47.4 106.4 Q 46.7 107.0, 45.5 107.0 L 44.3 107.0 L 44.3 110.1 L 43.2 110.1 L 43.2 102.5 L 45.5 102.5 M 45.5 106.2 Q 46.2 106.2, 46.6 105.8 Q 47.0 105.4, 47.0 104.8 Q 47.0 104.1, 46.6 103.7 Q 46.2 103.4, 45.5 103.4 L 44.3 103.4 L 44.3 106.2 L 45.5 106.2 \" fill=\"#FF7F00\"/>\n",
       "<path class=\"atom-20\" d=\"M 16.2 99.8 Q 16.2 98.0, 17.1 96.9 Q 18.0 95.9, 19.6 95.9 Q 21.3 95.9, 22.2 96.9 Q 23.1 98.0, 23.1 99.8 Q 23.1 101.6, 22.2 102.7 Q 21.3 103.7, 19.6 103.7 Q 18.0 103.7, 17.1 102.7 Q 16.2 101.6, 16.2 99.8 M 19.6 102.9 Q 20.8 102.9, 21.4 102.1 Q 22.1 101.3, 22.1 99.8 Q 22.1 98.3, 21.4 97.5 Q 20.8 96.8, 19.6 96.8 Q 18.5 96.8, 17.8 97.5 Q 17.2 98.3, 17.2 99.8 Q 17.2 101.3, 17.8 102.1 Q 18.5 102.9, 19.6 102.9 \" fill=\"#FF0000\"/>\n",
       "<path class=\"atom-21\" d=\"M 68.2 112.9 Q 68.2 111.1, 69.1 110.1 Q 70.0 109.1, 71.7 109.1 Q 73.4 109.1, 74.3 110.1 Q 75.2 111.1, 75.2 112.9 Q 75.2 114.8, 74.3 115.8 Q 73.3 116.9, 71.7 116.9 Q 70.0 116.9, 69.1 115.8 Q 68.2 114.8, 68.2 112.9 M 71.7 116.0 Q 72.8 116.0, 73.5 115.2 Q 74.1 114.5, 74.1 112.9 Q 74.1 111.4, 73.5 110.7 Q 72.8 109.9, 71.7 109.9 Q 70.5 109.9, 69.9 110.7 Q 69.3 111.4, 69.3 112.9 Q 69.3 114.5, 69.9 115.2 Q 70.5 116.0, 71.7 116.0 \" fill=\"#FF0000\"/>\n",
       "<path class=\"atom-21\" d=\"M 76.4 109.1 L 77.4 109.1 L 77.4 112.4 L 81.3 112.4 L 81.3 109.1 L 82.3 109.1 L 82.3 116.8 L 81.3 116.8 L 81.3 113.2 L 77.4 113.2 L 77.4 116.8 L 76.4 116.8 L 76.4 109.1 \" fill=\"#FF0000\"/>\n",
       "<path class=\"atom-22\" d=\"M 35.6 132.4 Q 35.6 130.6, 36.5 129.5 Q 37.4 128.5, 39.1 128.5 Q 40.8 128.5, 41.7 129.5 Q 42.6 130.6, 42.6 132.4 Q 42.6 134.2, 41.7 135.3 Q 40.7 136.3, 39.1 136.3 Q 37.4 136.3, 36.5 135.3 Q 35.6 134.2, 35.6 132.4 M 39.1 135.5 Q 40.2 135.5, 40.9 134.7 Q 41.5 133.9, 41.5 132.4 Q 41.5 130.9, 40.9 130.1 Q 40.2 129.4, 39.1 129.4 Q 37.9 129.4, 37.3 130.1 Q 36.7 130.9, 36.7 132.4 Q 36.7 133.9, 37.3 134.7 Q 37.9 135.5, 39.1 135.5 \" fill=\"#FF0000\"/>\n",
       "<path class=\"atom-23\" d=\"M 58.2 147.3 Q 59.5 147.3, 60.1 147.8 Q 60.8 148.4, 60.8 149.5 Q 60.8 150.5, 60.1 151.1 Q 59.4 151.7, 58.2 151.7 L 56.9 151.7 L 56.9 154.9 L 55.9 154.9 L 55.9 147.3 L 58.2 147.3 M 58.2 150.9 Q 58.9 150.9, 59.3 150.5 Q 59.7 150.2, 59.7 149.5 Q 59.7 148.8, 59.3 148.5 Q 58.9 148.1, 58.2 148.1 L 56.9 148.1 L 56.9 150.9 L 58.2 150.9 \" fill=\"#FF7F00\"/>\n",
       "<path class=\"atom-24\" d=\"M 36.1 170.3 Q 36.1 168.5, 37.0 167.5 Q 37.9 166.5, 39.6 166.5 Q 41.3 166.5, 42.2 167.5 Q 43.1 168.5, 43.1 170.3 Q 43.1 172.2, 42.2 173.2 Q 41.3 174.3, 39.6 174.3 Q 38.0 174.3, 37.0 173.2 Q 36.1 172.2, 36.1 170.3 M 39.6 173.4 Q 40.8 173.4, 41.4 172.6 Q 42.0 171.9, 42.0 170.3 Q 42.0 168.8, 41.4 168.1 Q 40.8 167.3, 39.6 167.3 Q 38.5 167.3, 37.8 168.1 Q 37.2 168.8, 37.2 170.3 Q 37.2 171.9, 37.8 172.6 Q 38.5 173.4, 39.6 173.4 \" fill=\"#FF0000\"/>\n",
       "<path class=\"atom-25\" d=\"M 73.5 131.8 Q 73.5 130.0, 74.5 129.0 Q 75.4 128.0, 77.0 128.0 Q 78.7 128.0, 79.6 129.0 Q 80.5 130.0, 80.5 131.8 Q 80.5 133.7, 79.6 134.7 Q 78.7 135.8, 77.0 135.8 Q 75.4 135.8, 74.5 134.7 Q 73.5 133.7, 73.5 131.8 M 77.0 134.9 Q 78.2 134.9, 78.8 134.1 Q 79.5 133.4, 79.5 131.8 Q 79.5 130.3, 78.8 129.6 Q 78.2 128.8, 77.0 128.8 Q 75.9 128.8, 75.2 129.6 Q 74.6 130.3, 74.6 131.8 Q 74.6 133.4, 75.2 134.1 Q 75.9 134.9, 77.0 134.9 \" fill=\"#FF0000\"/>\n",
       "<path class=\"atom-25\" d=\"M 81.7 128.1 L 82.7 128.1 L 82.7 131.3 L 86.6 131.3 L 86.6 128.1 L 87.7 128.1 L 87.7 135.7 L 86.6 135.7 L 86.6 132.1 L 82.7 132.1 L 82.7 135.7 L 81.7 135.7 L 81.7 128.1 \" fill=\"#FF0000\"/>\n",
       "<path class=\"atom-26\" d=\"M 74.1 169.8 Q 74.1 168.0, 75.0 166.9 Q 75.9 165.9, 77.6 165.9 Q 79.3 165.9, 80.2 166.9 Q 81.1 168.0, 81.1 169.8 Q 81.1 171.6, 80.2 172.7 Q 79.2 173.7, 77.6 173.7 Q 75.9 173.7, 75.0 172.7 Q 74.1 171.6, 74.1 169.8 M 77.6 172.9 Q 78.7 172.9, 79.4 172.1 Q 80.0 171.3, 80.0 169.8 Q 80.0 168.3, 79.4 167.5 Q 78.7 166.8, 77.6 166.8 Q 76.4 166.8, 75.8 167.5 Q 75.2 168.3, 75.2 169.8 Q 75.2 171.3, 75.8 172.1 Q 76.4 172.9, 77.6 172.9 \" fill=\"#FF0000\"/>\n",
       "<path class=\"atom-26\" d=\"M 82.3 166.0 L 83.3 166.0 L 83.3 169.2 L 87.2 169.2 L 87.2 166.0 L 88.2 166.0 L 88.2 173.6 L 87.2 173.6 L 87.2 170.1 L 83.3 170.1 L 83.3 173.6 L 82.3 173.6 L 82.3 166.0 \" fill=\"#FF0000\"/>\n",
       "<path class=\"atom-28\" d=\"M 132.3 25.8 L 133.3 25.8 L 133.3 29.1 L 137.2 29.1 L 137.2 25.8 L 138.2 25.8 L 138.2 33.4 L 137.2 33.4 L 137.2 29.9 L 133.3 29.9 L 133.3 33.4 L 132.3 33.4 L 132.3 25.8 \" fill=\"#FF0000\"/>\n",
       "<path class=\"atom-28\" d=\"M 139.8 29.6 Q 139.8 27.8, 140.7 26.8 Q 141.6 25.7, 143.3 25.7 Q 145.0 25.7, 145.9 26.8 Q 146.8 27.8, 146.8 29.6 Q 146.8 31.4, 145.8 32.5 Q 144.9 33.5, 143.3 33.5 Q 141.6 33.5, 140.7 32.5 Q 139.8 31.5, 139.8 29.6 M 143.3 32.7 Q 144.4 32.7, 145.0 31.9 Q 145.7 31.1, 145.7 29.6 Q 145.7 28.1, 145.0 27.4 Q 144.4 26.6, 143.3 26.6 Q 142.1 26.6, 141.5 27.3 Q 140.9 28.1, 140.9 29.6 Q 140.9 31.1, 141.5 31.9 Q 142.1 32.7, 143.3 32.7 \" fill=\"#FF0000\"/>\n",
       "<path class=\"atom-30\" d=\"M 198.1 31.8 Q 198.1 30.0, 199.0 29.0 Q 199.9 28.0, 201.6 28.0 Q 203.3 28.0, 204.2 29.0 Q 205.1 30.0, 205.1 31.8 Q 205.1 33.7, 204.2 34.7 Q 203.3 35.8, 201.6 35.8 Q 199.9 35.8, 199.0 34.7 Q 198.1 33.7, 198.1 31.8 M 201.6 34.9 Q 202.8 34.9, 203.4 34.1 Q 204.0 33.3, 204.0 31.8 Q 204.0 30.3, 203.4 29.6 Q 202.8 28.8, 201.6 28.8 Q 200.5 28.8, 199.8 29.6 Q 199.2 30.3, 199.2 31.8 Q 199.2 33.4, 199.8 34.1 Q 200.5 34.9, 201.6 34.9 \" fill=\"#FF0000\"/>\n",
       "<path class=\"atom-30\" d=\"M 206.3 28.0 L 207.3 28.0 L 207.3 31.3 L 211.2 31.3 L 211.2 28.0 L 212.2 28.0 L 212.2 35.6 L 211.2 35.6 L 211.2 32.1 L 207.3 32.1 L 207.3 35.6 L 206.3 35.6 L 206.3 28.0 \" fill=\"#FF0000\"/>\n",
       "</g>\n",
       "    <g transform=\"translate(568.0, 0) scale(1 1) \"><line x1=\"5\" y1=\"100\" x2=\"35\" y2=\"100\" style=\"stroke:rgb(0,0,0);stroke-width:2\"/>\n",
       "  <line x1=\"34\" y1=\"100\" x2=\"29\" y2=\"95\" style=\"stroke:rgb(0,0,0);stroke-width:2\"/>\n",
       "  <line x1=\"34\" y1=\"100\" x2=\"29\" y2=\"105\" style=\"stroke:rgb(0,0,0);stroke-width:2\"/>\n",
       "</g>\n",
       "    <g transform=\"translate(608.0, 0) scale(1 1) \"><!-- END OF HEADER -->\n",
       "<rect style=\"opacity:1.0;fill:#FFFFFF;stroke:none\" width=\"311.0\" height=\"200.0\" x=\"0.0\" y=\"0.0\"> </rect>\n",
       "<path class=\"bond-0 atom-0 atom-1\" d=\"M 33.1,69.9 L 44.1,68.6\" style=\"fill:none;fill-rule:evenodd;stroke:#0000FF;stroke-width:2.0px;stroke-linecap:butt;stroke-linejoin:miter;stroke-opacity:1\"/>\n",
       "<path class=\"bond-0 atom-0 atom-1\" d=\"M 44.1,68.6 L 55.0,67.4\" style=\"fill:none;fill-rule:evenodd;stroke:#000000;stroke-width:2.0px;stroke-linecap:butt;stroke-linejoin:miter;stroke-opacity:1\"/>\n",
       "<path class=\"bond-1 atom-1 atom-2\" d=\"M 55.0,67.4 L 59.1,57.9\" style=\"fill:none;fill-rule:evenodd;stroke:#000000;stroke-width:2.0px;stroke-linecap:butt;stroke-linejoin:miter;stroke-opacity:1\"/>\n",
       "<path class=\"bond-1 atom-1 atom-2\" d=\"M 59.1,57.9 L 63.3,48.4\" style=\"fill:none;fill-rule:evenodd;stroke:#0000FF;stroke-width:2.0px;stroke-linecap:butt;stroke-linejoin:miter;stroke-opacity:1\"/>\n",
       "<path class=\"bond-1 atom-1 atom-2\" d=\"M 59.4,66.9 L 63.1,58.4\" style=\"fill:none;fill-rule:evenodd;stroke:#000000;stroke-width:2.0px;stroke-linecap:butt;stroke-linejoin:miter;stroke-opacity:1\"/>\n",
       "<path class=\"bond-1 atom-1 atom-2\" d=\"M 63.1,58.4 L 66.8,49.9\" style=\"fill:none;fill-rule:evenodd;stroke:#0000FF;stroke-width:2.0px;stroke-linecap:butt;stroke-linejoin:miter;stroke-opacity:1\"/>\n",
       "<path class=\"bond-2 atom-2 atom-3\" d=\"M 68.8,43.5 L 79.7,42.3\" style=\"fill:none;fill-rule:evenodd;stroke:#0000FF;stroke-width:2.0px;stroke-linecap:butt;stroke-linejoin:miter;stroke-opacity:1\"/>\n",
       "<path class=\"bond-2 atom-2 atom-3\" d=\"M 79.7,42.3 L 90.6,41.0\" style=\"fill:none;fill-rule:evenodd;stroke:#000000;stroke-width:2.0px;stroke-linecap:butt;stroke-linejoin:miter;stroke-opacity:1\"/>\n",
       "<path class=\"bond-3 atom-3 atom-4\" d=\"M 90.6,41.0 L 96.6,49.1\" style=\"fill:none;fill-rule:evenodd;stroke:#000000;stroke-width:2.0px;stroke-linecap:butt;stroke-linejoin:miter;stroke-opacity:1\"/>\n",
       "<path class=\"bond-3 atom-3 atom-4\" d=\"M 96.6,49.1 L 102.6,57.1\" style=\"fill:none;fill-rule:evenodd;stroke:#0000FF;stroke-width:2.0px;stroke-linecap:butt;stroke-linejoin:miter;stroke-opacity:1\"/>\n",
       "<path class=\"bond-3 atom-3 atom-4\" d=\"M 88.9,45.1 L 94.2,52.2\" style=\"fill:none;fill-rule:evenodd;stroke:#000000;stroke-width:2.0px;stroke-linecap:butt;stroke-linejoin:miter;stroke-opacity:1\"/>\n",
       "<path class=\"bond-3 atom-3 atom-4\" d=\"M 94.2,52.2 L 99.5,59.4\" style=\"fill:none;fill-rule:evenodd;stroke:#0000FF;stroke-width:2.0px;stroke-linecap:butt;stroke-linejoin:miter;stroke-opacity:1\"/>\n",
       "<path class=\"bond-4 atom-4 atom-5\" d=\"M 103.9,66.1 L 99.8,75.6\" style=\"fill:none;fill-rule:evenodd;stroke:#0000FF;stroke-width:2.0px;stroke-linecap:butt;stroke-linejoin:miter;stroke-opacity:1\"/>\n",
       "<path class=\"bond-4 atom-4 atom-5\" d=\"M 99.8,75.6 L 95.7,85.1\" style=\"fill:none;fill-rule:evenodd;stroke:#000000;stroke-width:2.0px;stroke-linecap:butt;stroke-linejoin:miter;stroke-opacity:1\"/>\n",
       "<path class=\"bond-5 atom-5 atom-6\" d=\"M 95.7,85.1 L 70.2,88.0\" style=\"fill:none;fill-rule:evenodd;stroke:#000000;stroke-width:2.0px;stroke-linecap:butt;stroke-linejoin:miter;stroke-opacity:1\"/>\n",
       "<path class=\"bond-5 atom-5 atom-6\" d=\"M 93.0,81.5 L 72.0,83.9\" style=\"fill:none;fill-rule:evenodd;stroke:#000000;stroke-width:2.0px;stroke-linecap:butt;stroke-linejoin:miter;stroke-opacity:1\"/>\n",
       "<path class=\"bond-6 atom-6 atom-7\" d=\"M 70.2,88.0 L 68.1,98.3\" style=\"fill:none;fill-rule:evenodd;stroke:#000000;stroke-width:2.0px;stroke-linecap:butt;stroke-linejoin:miter;stroke-opacity:1\"/>\n",
       "<path class=\"bond-6 atom-6 atom-7\" d=\"M 68.1,98.3 L 66.0,108.6\" style=\"fill:none;fill-rule:evenodd;stroke:#0000FF;stroke-width:2.0px;stroke-linecap:butt;stroke-linejoin:miter;stroke-opacity:1\"/>\n",
       "<path class=\"bond-7 atom-7 atom-8\" d=\"M 68.7,115.1 L 78.1,120.4\" style=\"fill:none;fill-rule:evenodd;stroke:#0000FF;stroke-width:2.0px;stroke-linecap:butt;stroke-linejoin:miter;stroke-opacity:1\"/>\n",
       "<path class=\"bond-7 atom-7 atom-8\" d=\"M 78.1,120.4 L 87.4,125.7\" style=\"fill:none;fill-rule:evenodd;stroke:#000000;stroke-width:2.0px;stroke-linecap:butt;stroke-linejoin:miter;stroke-opacity:1\"/>\n",
       "<path class=\"bond-7 atom-7 atom-8\" d=\"M 70.6,111.8 L 78.7,116.4\" style=\"fill:none;fill-rule:evenodd;stroke:#0000FF;stroke-width:2.0px;stroke-linecap:butt;stroke-linejoin:miter;stroke-opacity:1\"/>\n",
       "<path class=\"bond-7 atom-7 atom-8\" d=\"M 78.7,116.4 L 86.9,121.0\" style=\"fill:none;fill-rule:evenodd;stroke:#000000;stroke-width:2.0px;stroke-linecap:butt;stroke-linejoin:miter;stroke-opacity:1\"/>\n",
       "<path class=\"bond-8 atom-8 atom-9\" d=\"M 87.4,125.7 L 95.0,118.7\" style=\"fill:none;fill-rule:evenodd;stroke:#000000;stroke-width:2.0px;stroke-linecap:butt;stroke-linejoin:miter;stroke-opacity:1\"/>\n",
       "<path class=\"bond-8 atom-8 atom-9\" d=\"M 95.0,118.7 L 102.7,111.7\" style=\"fill:none;fill-rule:evenodd;stroke:#0000FF;stroke-width:2.0px;stroke-linecap:butt;stroke-linejoin:miter;stroke-opacity:1\"/>\n",
       "<path class=\"bond-9 atom-9 atom-10\" d=\"M 109.9,109.1 L 120.6,111.3\" style=\"fill:none;fill-rule:evenodd;stroke:#0000FF;stroke-width:2.0px;stroke-linecap:butt;stroke-linejoin:miter;stroke-opacity:1\"/>\n",
       "<path class=\"bond-9 atom-9 atom-10\" d=\"M 120.6,111.3 L 131.4,113.5\" style=\"fill:none;fill-rule:evenodd;stroke:#000000;stroke-width:2.0px;stroke-linecap:butt;stroke-linejoin:miter;stroke-opacity:1\"/>\n",
       "<path class=\"bond-10 atom-10 atom-11\" d=\"M 131.4,113.5 L 138.7,106.7\" style=\"fill:none;fill-rule:evenodd;stroke:#000000;stroke-width:2.0px;stroke-linecap:butt;stroke-linejoin:miter;stroke-opacity:1\"/>\n",
       "<path class=\"bond-10 atom-10 atom-11\" d=\"M 138.7,106.7 L 146.1,100.0\" style=\"fill:none;fill-rule:evenodd;stroke:#FF0000;stroke-width:2.0px;stroke-linecap:butt;stroke-linejoin:miter;stroke-opacity:1\"/>\n",
       "<path class=\"bond-11 atom-11 atom-12\" d=\"M 154.4,98.5 L 163.5,103.7\" style=\"fill:none;fill-rule:evenodd;stroke:#FF0000;stroke-width:2.0px;stroke-linecap:butt;stroke-linejoin:miter;stroke-opacity:1\"/>\n",
       "<path class=\"bond-11 atom-11 atom-12\" d=\"M 163.5,103.7 L 172.5,108.8\" style=\"fill:none;fill-rule:evenodd;stroke:#000000;stroke-width:2.0px;stroke-linecap:butt;stroke-linejoin:miter;stroke-opacity:1\"/>\n",
       "<path class=\"bond-12 atom-12 atom-13\" d=\"M 172.5,108.8 L 195.8,98.2\" style=\"fill:none;fill-rule:evenodd;stroke:#000000;stroke-width:2.0px;stroke-linecap:butt;stroke-linejoin:miter;stroke-opacity:1\"/>\n",
       "<path class=\"bond-13 atom-13 atom-14\" d=\"M 195.8,98.2 L 204.2,104.1\" style=\"fill:none;fill-rule:evenodd;stroke:#000000;stroke-width:2.0px;stroke-linecap:butt;stroke-linejoin:miter;stroke-opacity:1\"/>\n",
       "<path class=\"bond-13 atom-13 atom-14\" d=\"M 204.2,104.1 L 212.5,110.1\" style=\"fill:none;fill-rule:evenodd;stroke:#FF0000;stroke-width:2.0px;stroke-linecap:butt;stroke-linejoin:miter;stroke-opacity:1\"/>\n",
       "<path class=\"bond-14 atom-14 atom-15\" d=\"M 220.9,111.1 L 228.8,107.5\" style=\"fill:none;fill-rule:evenodd;stroke:#FF0000;stroke-width:2.0px;stroke-linecap:butt;stroke-linejoin:miter;stroke-opacity:1\"/>\n",
       "<path class=\"bond-14 atom-14 atom-15\" d=\"M 228.8,107.5 L 236.8,103.9\" style=\"fill:none;fill-rule:evenodd;stroke:#FF7F00;stroke-width:2.0px;stroke-linecap:butt;stroke-linejoin:miter;stroke-opacity:1\"/>\n",
       "<path class=\"bond-15 atom-15 atom-16\" d=\"M 239.7,97.1 L 236.5,90.0\" style=\"fill:none;fill-rule:evenodd;stroke:#FF7F00;stroke-width:2.0px;stroke-linecap:butt;stroke-linejoin:miter;stroke-opacity:1\"/>\n",
       "<path class=\"bond-15 atom-15 atom-16\" d=\"M 236.5,90.0 L 233.2,82.9\" style=\"fill:none;fill-rule:evenodd;stroke:#FF0000;stroke-width:2.0px;stroke-linecap:butt;stroke-linejoin:miter;stroke-opacity:1\"/>\n",
       "<path class=\"bond-15 atom-15 atom-16\" d=\"M 236.2,98.7 L 233.0,91.6\" style=\"fill:none;fill-rule:evenodd;stroke:#FF7F00;stroke-width:2.0px;stroke-linecap:butt;stroke-linejoin:miter;stroke-opacity:1\"/>\n",
       "<path class=\"bond-15 atom-15 atom-16\" d=\"M 233.0,91.6 L 229.7,84.5\" style=\"fill:none;fill-rule:evenodd;stroke:#FF0000;stroke-width:2.0px;stroke-linecap:butt;stroke-linejoin:miter;stroke-opacity:1\"/>\n",
       "<path class=\"bond-16 atom-15 atom-17\" d=\"M 242.0,106.9 L 245.3,114.0\" style=\"fill:none;fill-rule:evenodd;stroke:#FF7F00;stroke-width:2.0px;stroke-linecap:butt;stroke-linejoin:miter;stroke-opacity:1\"/>\n",
       "<path class=\"bond-16 atom-15 atom-17\" d=\"M 245.3,114.0 L 248.5,121.2\" style=\"fill:none;fill-rule:evenodd;stroke:#FF0000;stroke-width:2.0px;stroke-linecap:butt;stroke-linejoin:miter;stroke-opacity:1\"/>\n",
       "<path class=\"bond-17 atom-15 atom-18\" d=\"M 243.1,101.0 L 251.1,97.3\" style=\"fill:none;fill-rule:evenodd;stroke:#FF7F00;stroke-width:2.0px;stroke-linecap:butt;stroke-linejoin:miter;stroke-opacity:1\"/>\n",
       "<path class=\"bond-17 atom-15 atom-18\" d=\"M 251.1,97.3 L 259.1,93.7\" style=\"fill:none;fill-rule:evenodd;stroke:#FF0000;stroke-width:2.0px;stroke-linecap:butt;stroke-linejoin:miter;stroke-opacity:1\"/>\n",
       "<path class=\"bond-18 atom-18 atom-19\" d=\"M 263.7,87.3 L 264.5,79.0\" style=\"fill:none;fill-rule:evenodd;stroke:#FF0000;stroke-width:2.0px;stroke-linecap:butt;stroke-linejoin:miter;stroke-opacity:1\"/>\n",
       "<path class=\"bond-18 atom-18 atom-19\" d=\"M 264.5,79.0 L 265.3,70.8\" style=\"fill:none;fill-rule:evenodd;stroke:#FF7F00;stroke-width:2.0px;stroke-linecap:butt;stroke-linejoin:miter;stroke-opacity:1\"/>\n",
       "<path class=\"bond-19 atom-19 atom-20\" d=\"M 268.7,68.5 L 277.8,69.4\" style=\"fill:none;fill-rule:evenodd;stroke:#FF7F00;stroke-width:2.0px;stroke-linecap:butt;stroke-linejoin:miter;stroke-opacity:1\"/>\n",
       "<path class=\"bond-19 atom-19 atom-20\" d=\"M 277.8,69.4 L 286.9,70.3\" style=\"fill:none;fill-rule:evenodd;stroke:#FF0000;stroke-width:2.0px;stroke-linecap:butt;stroke-linejoin:miter;stroke-opacity:1\"/>\n",
       "<path class=\"bond-19 atom-19 atom-20\" d=\"M 269.1,64.7 L 278.2,65.6\" style=\"fill:none;fill-rule:evenodd;stroke:#FF7F00;stroke-width:2.0px;stroke-linecap:butt;stroke-linejoin:miter;stroke-opacity:1\"/>\n",
       "<path class=\"bond-19 atom-19 atom-20\" d=\"M 278.2,65.6 L 287.2,66.4\" style=\"fill:none;fill-rule:evenodd;stroke:#FF0000;stroke-width:2.0px;stroke-linecap:butt;stroke-linejoin:miter;stroke-opacity:1\"/>\n",
       "<path class=\"bond-20 atom-19 atom-21\" d=\"M 262.6,66.0 L 253.5,65.1\" style=\"fill:none;fill-rule:evenodd;stroke:#FF7F00;stroke-width:2.0px;stroke-linecap:butt;stroke-linejoin:miter;stroke-opacity:1\"/>\n",
       "<path class=\"bond-20 atom-19 atom-21\" d=\"M 253.5,65.1 L 244.4,64.3\" style=\"fill:none;fill-rule:evenodd;stroke:#FF0000;stroke-width:2.0px;stroke-linecap:butt;stroke-linejoin:miter;stroke-opacity:1\"/>\n",
       "<path class=\"bond-21 atom-19 atom-22\" d=\"M 266.2,61.8 L 267.0,53.6\" style=\"fill:none;fill-rule:evenodd;stroke:#FF7F00;stroke-width:2.0px;stroke-linecap:butt;stroke-linejoin:miter;stroke-opacity:1\"/>\n",
       "<path class=\"bond-21 atom-19 atom-22\" d=\"M 267.0,53.6 L 267.7,45.4\" style=\"fill:none;fill-rule:evenodd;stroke:#FF0000;stroke-width:2.0px;stroke-linecap:butt;stroke-linejoin:miter;stroke-opacity:1\"/>\n",
       "<path class=\"bond-22 atom-12 atom-23\" d=\"M 172.5,108.8 L 167.4,133.9\" style=\"fill:none;fill-rule:evenodd;stroke:#000000;stroke-width:2.0px;stroke-linecap:butt;stroke-linejoin:miter;stroke-opacity:1\"/>\n",
       "<path class=\"bond-23 atom-23 atom-24\" d=\"M 167.4,133.9 L 174.0,141.1\" style=\"fill:none;fill-rule:evenodd;stroke:#000000;stroke-width:2.0px;stroke-linecap:butt;stroke-linejoin:miter;stroke-opacity:1\"/>\n",
       "<path class=\"bond-23 atom-23 atom-24\" d=\"M 174.0,141.1 L 180.6,148.2\" style=\"fill:none;fill-rule:evenodd;stroke:#FF0000;stroke-width:2.0px;stroke-linecap:butt;stroke-linejoin:miter;stroke-opacity:1\"/>\n",
       "<path class=\"bond-24 atom-23 atom-25\" d=\"M 167.4,133.9 L 142.0,136.8\" style=\"fill:none;fill-rule:evenodd;stroke:#000000;stroke-width:2.0px;stroke-linecap:butt;stroke-linejoin:miter;stroke-opacity:1\"/>\n",
       "<path class=\"bond-25 atom-25 atom-26\" d=\"M 142.0,136.8 L 137.0,145.7\" style=\"fill:none;fill-rule:evenodd;stroke:#000000;stroke-width:2.0px;stroke-linecap:butt;stroke-linejoin:miter;stroke-opacity:1\"/>\n",
       "<path class=\"bond-25 atom-25 atom-26\" d=\"M 137.0,145.7 L 131.9,154.6\" style=\"fill:none;fill-rule:evenodd;stroke:#FF0000;stroke-width:2.0px;stroke-linecap:butt;stroke-linejoin:miter;stroke-opacity:1\"/>\n",
       "<path class=\"bond-26 atom-6 atom-1\" d=\"M 70.2,88.0 L 55.0,67.4\" style=\"fill:none;fill-rule:evenodd;stroke:#000000;stroke-width:2.0px;stroke-linecap:butt;stroke-linejoin:miter;stroke-opacity:1\"/>\n",
       "<path class=\"bond-27 atom-25 atom-10\" d=\"M 142.0,136.8 L 131.4,113.5\" style=\"fill:none;fill-rule:evenodd;stroke:#000000;stroke-width:2.0px;stroke-linecap:butt;stroke-linejoin:miter;stroke-opacity:1\"/>\n",
       "<path class=\"bond-28 atom-9 atom-5\" d=\"M 104.2,103.9 L 100.0,94.5\" style=\"fill:none;fill-rule:evenodd;stroke:#0000FF;stroke-width:2.0px;stroke-linecap:butt;stroke-linejoin:miter;stroke-opacity:1\"/>\n",
       "<path class=\"bond-28 atom-9 atom-5\" d=\"M 100.0,94.5 L 95.7,85.1\" style=\"fill:none;fill-rule:evenodd;stroke:#000000;stroke-width:2.0px;stroke-linecap:butt;stroke-linejoin:miter;stroke-opacity:1\"/>\n",
       "<path d=\"M 90.1,41.1 L 90.6,41.0 L 90.9,41.4\" style=\"fill:none;stroke:#000000;stroke-width:2.0px;stroke-linecap:butt;stroke-linejoin:miter;stroke-opacity:1;\"/>\n",
       "<path d=\"M 86.9,125.4 L 87.4,125.7 L 87.8,125.3\" style=\"fill:none;stroke:#000000;stroke-width:2.0px;stroke-linecap:butt;stroke-linejoin:miter;stroke-opacity:1;\"/>\n",
       "<path d=\"M 194.7,98.7 L 195.8,98.2 L 196.3,98.5\" style=\"fill:none;stroke:#000000;stroke-width:2.0px;stroke-linecap:butt;stroke-linejoin:miter;stroke-opacity:1;\"/>\n",
       "<path class=\"atom-0\" d=\"M 15.5 66.7 L 16.5 66.7 L 16.5 69.8 L 20.2 69.8 L 20.2 66.7 L 21.2 66.7 L 21.2 73.9 L 20.2 73.9 L 20.2 70.6 L 16.5 70.6 L 16.5 73.9 L 15.5 73.9 L 15.5 66.7 \" fill=\"#0000FF\"/>\n",
       "<path class=\"atom-0\" d=\"M 22.6 73.7 Q 22.8 73.2, 23.2 73.0 Q 23.7 72.7, 24.2 72.7 Q 25.0 72.7, 25.4 73.1 Q 25.8 73.5, 25.8 74.2 Q 25.8 74.9, 25.2 75.6 Q 24.7 76.2, 23.6 77.0 L 25.9 77.0 L 25.9 77.5 L 22.6 77.5 L 22.6 77.1 Q 23.5 76.5, 24.0 76.0 Q 24.6 75.5, 24.8 75.1 Q 25.1 74.7, 25.1 74.2 Q 25.1 73.8, 24.9 73.5 Q 24.6 73.2, 24.2 73.2 Q 23.9 73.2, 23.6 73.4 Q 23.3 73.6, 23.2 73.9 L 22.6 73.7 \" fill=\"#0000FF\"/>\n",
       "<path class=\"atom-0\" d=\"M 27.9 66.7 L 30.3 70.5 Q 30.6 70.9, 30.9 71.6 Q 31.3 72.3, 31.3 72.3 L 31.3 66.7 L 32.3 66.7 L 32.3 73.9 L 31.3 73.9 L 28.8 69.7 Q 28.5 69.2, 28.1 68.7 Q 27.8 68.1, 27.7 67.9 L 27.7 73.9 L 26.8 73.9 L 26.8 66.7 L 27.9 66.7 \" fill=\"#0000FF\"/>\n",
       "<path class=\"atom-2\" d=\"M 63.6 40.3 L 66.0 44.1 Q 66.2 44.5, 66.6 45.2 Q 67.0 45.9, 67.0 45.9 L 67.0 40.3 L 67.9 40.3 L 67.9 47.5 L 67.0 47.5 L 64.4 43.3 Q 64.1 42.8, 63.8 42.3 Q 63.5 41.7, 63.4 41.5 L 63.4 47.5 L 62.4 47.5 L 62.4 40.3 L 63.6 40.3 \" fill=\"#0000FF\"/>\n",
       "<path class=\"atom-4\" d=\"M 104.3 58.0 L 106.6 61.8 Q 106.9 62.2, 107.3 62.9 Q 107.6 63.6, 107.7 63.6 L 107.7 58.0 L 108.6 58.0 L 108.6 65.2 L 107.6 65.2 L 105.1 61.0 Q 104.8 60.5, 104.5 60.0 Q 104.2 59.4, 104.1 59.2 L 104.1 65.2 L 103.1 65.2 L 103.1 58.0 L 104.3 58.0 \" fill=\"#0000FF\"/>\n",
       "<path class=\"atom-7\" d=\"M 63.5 109.4 L 65.9 113.3 Q 66.1 113.7, 66.5 114.4 Q 66.9 115.0, 66.9 115.1 L 66.9 109.4 L 67.9 109.4 L 67.9 116.7 L 66.9 116.7 L 64.3 112.5 Q 64.0 112.0, 63.7 111.4 Q 63.4 110.9, 63.3 110.7 L 63.3 116.7 L 62.4 116.7 L 62.4 109.4 L 63.5 109.4 \" fill=\"#0000FF\"/>\n",
       "<path class=\"atom-9\" d=\"M 104.7 104.8 L 107.1 108.6 Q 107.3 109.0, 107.7 109.7 Q 108.0 110.3, 108.1 110.4 L 108.1 104.8 L 109.0 104.8 L 109.0 112.0 L 108.0 112.0 L 105.5 107.8 Q 105.2 107.3, 104.9 106.7 Q 104.6 106.2, 104.5 106.0 L 104.5 112.0 L 103.5 112.0 L 103.5 104.8 L 104.7 104.8 \" fill=\"#0000FF\"/>\n",
       "<path class=\"atom-11\" d=\"M 146.9 96.2 Q 146.9 94.5, 147.8 93.5 Q 148.6 92.5, 150.2 92.5 Q 151.9 92.5, 152.7 93.5 Q 153.6 94.5, 153.6 96.2 Q 153.6 98.0, 152.7 99.0 Q 151.8 100.0, 150.2 100.0 Q 148.7 100.0, 147.8 99.0 Q 146.9 98.0, 146.9 96.2 M 150.2 99.1 Q 151.4 99.1, 151.9 98.4 Q 152.6 97.7, 152.6 96.2 Q 152.6 94.8, 151.9 94.1 Q 151.4 93.3, 150.2 93.3 Q 149.1 93.3, 148.5 94.1 Q 147.9 94.8, 147.9 96.2 Q 147.9 97.7, 148.5 98.4 Q 149.1 99.1, 150.2 99.1 \" fill=\"#FF0000\"/>\n",
       "<path class=\"atom-14\" d=\"M 213.4 113.1 Q 213.4 111.3, 214.2 110.3 Q 215.1 109.4, 216.7 109.4 Q 218.3 109.4, 219.2 110.3 Q 220.0 111.3, 220.0 113.1 Q 220.0 114.8, 219.1 115.8 Q 218.3 116.8, 216.7 116.8 Q 215.1 116.8, 214.2 115.8 Q 213.4 114.8, 213.4 113.1 M 216.7 116.0 Q 217.8 116.0, 218.4 115.3 Q 219.0 114.5, 219.0 113.1 Q 219.0 111.6, 218.4 110.9 Q 217.8 110.2, 216.7 110.2 Q 215.6 110.2, 215.0 110.9 Q 214.4 111.6, 214.4 113.1 Q 214.4 114.5, 215.0 115.3 Q 215.6 116.0, 216.7 116.0 \" fill=\"#FF0000\"/>\n",
       "<path class=\"atom-15\" d=\"M 239.8 98.8 Q 241.0 98.8, 241.7 99.4 Q 242.3 99.9, 242.3 100.9 Q 242.3 101.9, 241.7 102.5 Q 241.0 103.1, 239.8 103.1 L 238.6 103.1 L 238.6 106.0 L 237.7 106.0 L 237.7 98.8 L 239.8 98.8 M 239.8 102.2 Q 240.5 102.2, 240.9 101.9 Q 241.3 101.6, 241.3 100.9 Q 241.3 100.3, 240.9 99.9 Q 240.5 99.6, 239.8 99.6 L 238.6 99.6 L 238.6 102.2 L 239.8 102.2 \" fill=\"#FF7F00\"/>\n",
       "<path class=\"atom-16\" d=\"M 226.0 79.1 Q 226.0 77.4, 226.9 76.4 Q 227.8 75.4, 229.4 75.4 Q 231.0 75.4, 231.8 76.4 Q 232.7 77.4, 232.7 79.1 Q 232.7 80.9, 231.8 81.9 Q 230.9 82.9, 229.4 82.9 Q 227.8 82.9, 226.9 81.9 Q 226.0 80.9, 226.0 79.1 M 229.4 82.1 Q 230.5 82.1, 231.1 81.3 Q 231.7 80.6, 231.7 79.1 Q 231.7 77.7, 231.1 77.0 Q 230.5 76.3, 229.4 76.3 Q 228.3 76.3, 227.7 77.0 Q 227.1 77.7, 227.1 79.1 Q 227.1 80.6, 227.7 81.3 Q 228.3 82.1, 229.4 82.1 \" fill=\"#FF0000\"/>\n",
       "<path class=\"atom-17\" d=\"M 247.3 125.7 Q 247.3 124.0, 248.1 123.0 Q 249.0 122.0, 250.6 122.0 Q 252.2 122.0, 253.1 123.0 Q 253.9 124.0, 253.9 125.7 Q 253.9 127.5, 253.1 128.5 Q 252.2 129.5, 250.6 129.5 Q 249.0 129.5, 248.1 128.5 Q 247.3 127.5, 247.3 125.7 M 250.6 128.7 Q 251.7 128.7, 252.3 127.9 Q 252.9 127.2, 252.9 125.7 Q 252.9 124.3, 252.3 123.6 Q 251.7 122.9, 250.6 122.9 Q 249.5 122.9, 248.9 123.6 Q 248.3 124.3, 248.3 125.7 Q 248.3 127.2, 248.9 127.9 Q 249.5 128.7, 250.6 128.7 \" fill=\"#FF0000\"/>\n",
       "<path class=\"atom-17\" d=\"M 255.1 122.1 L 256.0 122.1 L 256.0 125.2 L 259.7 125.2 L 259.7 122.1 L 260.7 122.1 L 260.7 129.4 L 259.7 129.4 L 259.7 126.0 L 256.0 126.0 L 256.0 129.4 L 255.1 129.4 L 255.1 122.1 \" fill=\"#FF0000\"/>\n",
       "<path class=\"atom-18\" d=\"M 260.0 91.8 Q 260.0 90.1, 260.8 89.1 Q 261.7 88.1, 263.3 88.1 Q 264.9 88.1, 265.7 89.1 Q 266.6 90.1, 266.6 91.8 Q 266.6 93.6, 265.7 94.6 Q 264.9 95.6, 263.3 95.6 Q 261.7 95.6, 260.8 94.6 Q 260.0 93.6, 260.0 91.8 M 263.3 94.8 Q 264.4 94.8, 265.0 94.0 Q 265.6 93.3, 265.6 91.8 Q 265.6 90.4, 265.0 89.7 Q 264.4 88.9, 263.3 88.9 Q 262.2 88.9, 261.6 89.7 Q 261.0 90.4, 261.0 91.8 Q 261.0 93.3, 261.6 94.0 Q 262.2 94.8, 263.3 94.8 \" fill=\"#FF0000\"/>\n",
       "<path class=\"atom-19\" d=\"M 265.6 62.7 Q 266.8 62.7, 267.4 63.2 Q 268.0 63.8, 268.0 64.8 Q 268.0 65.8, 267.4 66.4 Q 266.8 67.0, 265.6 67.0 L 264.4 67.0 L 264.4 69.9 L 263.4 69.9 L 263.4 62.7 L 265.6 62.7 M 265.6 66.1 Q 266.3 66.1, 266.6 65.8 Q 267.0 65.5, 267.0 64.8 Q 267.0 64.2, 266.6 63.8 Q 266.3 63.5, 265.6 63.5 L 264.4 63.5 L 264.4 66.1 L 265.6 66.1 \" fill=\"#FF7F00\"/>\n",
       "<path class=\"atom-20\" d=\"M 287.9 68.8 Q 287.9 67.0, 288.8 66.1 Q 289.6 65.1, 291.2 65.1 Q 292.8 65.1, 293.7 66.1 Q 294.6 67.0, 294.6 68.8 Q 294.6 70.5, 293.7 71.5 Q 292.8 72.5, 291.2 72.5 Q 289.6 72.5, 288.8 71.5 Q 287.9 70.6, 287.9 68.8 M 291.2 71.7 Q 292.3 71.7, 292.9 71.0 Q 293.5 70.2, 293.5 68.8 Q 293.5 67.4, 292.9 66.6 Q 292.3 65.9, 291.2 65.9 Q 290.1 65.9, 289.5 66.6 Q 288.9 67.3, 288.9 68.8 Q 288.9 70.2, 289.5 71.0 Q 290.1 71.7, 291.2 71.7 \" fill=\"#FF0000\"/>\n",
       "<path class=\"atom-21\" d=\"M 229.8 60.3 L 230.7 60.3 L 230.7 63.4 L 234.4 63.4 L 234.4 60.3 L 235.4 60.3 L 235.4 67.5 L 234.4 67.5 L 234.4 64.2 L 230.7 64.2 L 230.7 67.5 L 229.8 67.5 L 229.8 60.3 \" fill=\"#FF0000\"/>\n",
       "<path class=\"atom-21\" d=\"M 236.9 63.9 Q 236.9 62.1, 237.8 61.2 Q 238.6 60.2, 240.2 60.2 Q 241.9 60.2, 242.7 61.2 Q 243.6 62.1, 243.6 63.9 Q 243.6 65.6, 242.7 66.6 Q 241.8 67.6, 240.2 67.6 Q 238.6 67.6, 237.8 66.6 Q 236.9 65.6, 236.9 63.9 M 240.2 66.8 Q 241.4 66.8, 241.9 66.1 Q 242.5 65.3, 242.5 63.9 Q 242.5 62.5, 241.9 61.7 Q 241.4 61.0, 240.2 61.0 Q 239.1 61.0, 238.5 61.7 Q 237.9 62.4, 237.9 63.9 Q 237.9 65.3, 238.5 66.1 Q 239.1 66.8, 240.2 66.8 \" fill=\"#FF0000\"/>\n",
       "<path class=\"atom-22\" d=\"M 264.9 40.8 Q 264.9 39.1, 265.7 38.1 Q 266.6 37.2, 268.2 37.2 Q 269.8 37.2, 270.7 38.1 Q 271.5 39.1, 271.5 40.8 Q 271.5 42.6, 270.6 43.6 Q 269.8 44.6, 268.2 44.6 Q 266.6 44.6, 265.7 43.6 Q 264.9 42.6, 264.9 40.8 M 268.2 43.8 Q 269.3 43.8, 269.9 43.0 Q 270.5 42.3, 270.5 40.8 Q 270.5 39.4, 269.9 38.7 Q 269.3 38.0, 268.2 38.0 Q 267.1 38.0, 266.5 38.7 Q 265.9 39.4, 265.9 40.8 Q 265.9 42.3, 266.5 43.0 Q 267.1 43.8, 268.2 43.8 \" fill=\"#FF0000\"/>\n",
       "<path class=\"atom-22\" d=\"M 272.6 37.2 L 273.6 37.2 L 273.6 40.3 L 277.3 40.3 L 277.3 37.2 L 278.3 37.2 L 278.3 44.5 L 277.3 44.5 L 277.3 41.1 L 273.6 41.1 L 273.6 44.5 L 272.6 44.5 L 272.6 37.2 \" fill=\"#FF0000\"/>\n",
       "<path class=\"atom-24\" d=\"M 181.4 152.8 Q 181.4 151.0, 182.3 150.1 Q 183.1 149.1, 184.7 149.1 Q 186.3 149.1, 187.2 150.1 Q 188.1 151.0, 188.1 152.8 Q 188.1 154.5, 187.2 155.5 Q 186.3 156.5, 184.7 156.5 Q 183.1 156.5, 182.3 155.5 Q 181.4 154.5, 181.4 152.8 M 184.7 155.7 Q 185.8 155.7, 186.4 155.0 Q 187.0 154.2, 187.0 152.8 Q 187.0 151.4, 186.4 150.6 Q 185.8 149.9, 184.7 149.9 Q 183.6 149.9, 183.0 150.6 Q 182.4 151.3, 182.4 152.8 Q 182.4 154.2, 183.0 155.0 Q 183.6 155.7, 184.7 155.7 \" fill=\"#FF0000\"/>\n",
       "<path class=\"atom-24\" d=\"M 189.2 149.2 L 190.2 149.2 L 190.2 152.3 L 193.9 152.3 L 193.9 149.2 L 194.9 149.2 L 194.9 156.4 L 193.9 156.4 L 193.9 153.1 L 190.2 153.1 L 190.2 156.4 L 189.2 156.4 L 189.2 149.2 \" fill=\"#FF0000\"/>\n",
       "<path class=\"atom-26\" d=\"M 118.9 155.5 L 119.9 155.5 L 119.9 158.6 L 123.6 158.6 L 123.6 155.5 L 124.6 155.5 L 124.6 162.7 L 123.6 162.7 L 123.6 159.4 L 119.9 159.4 L 119.9 162.7 L 118.9 162.7 L 118.9 155.5 \" fill=\"#FF0000\"/>\n",
       "<path class=\"atom-26\" d=\"M 126.1 159.1 Q 126.1 157.3, 126.9 156.4 Q 127.8 155.4, 129.4 155.4 Q 131.0 155.4, 131.9 156.4 Q 132.7 157.3, 132.7 159.1 Q 132.7 160.8, 131.8 161.9 Q 131.0 162.8, 129.4 162.8 Q 127.8 162.8, 126.9 161.9 Q 126.1 160.9, 126.1 159.1 M 129.4 162.0 Q 130.5 162.0, 131.1 161.3 Q 131.7 160.5, 131.7 159.1 Q 131.7 157.7, 131.1 156.9 Q 130.5 156.2, 129.4 156.2 Q 128.3 156.2, 127.7 156.9 Q 127.1 157.7, 127.1 159.1 Q 127.1 160.6, 127.7 161.3 Q 128.3 162.0, 129.4 162.0 \" fill=\"#FF0000\"/>\n",
       "</g>\n",
       "    <g transform=\"translate(919.0, 0) scale(1 1) \"><line x1=\"15\" y1=\"100\" x2=\"25\" y2=\"100\" style=\"stroke:rgb(0,0,0);stroke-width:2\"/>\n",
       "  <line x1=\"20\" y1=\"95\" x2=\"20\" y2=\"105\" style=\"stroke:rgb(0,0,0);stroke-width:2\"/>\n",
       "</g>\n",
       "    <g transform=\"translate(959.0, 0) scale(1 1) \"><!-- END OF HEADER -->\n",
       "<rect style=\"opacity:1.0;fill:#FFFFFF;stroke:none\" width=\"240.0\" height=\"200.0\" x=\"0.0\" y=\"0.0\"> </rect>\n",
       "<path class=\"bond-0 atom-0 atom-1\" d=\"M 18.3,71.6 L 32.1,68.2\" style=\"fill:none;fill-rule:evenodd;stroke:#191919;stroke-width:2.0px;stroke-linecap:butt;stroke-linejoin:miter;stroke-opacity:1\"/>\n",
       "<path class=\"bond-0 atom-0 atom-1\" d=\"M 32.1,68.2 L 45.8,64.8\" style=\"fill:none;fill-rule:evenodd;stroke:#0000FF;stroke-width:2.0px;stroke-linecap:butt;stroke-linejoin:miter;stroke-opacity:1\"/>\n",
       "<path class=\"bond-1 atom-1 atom-2\" d=\"M 56.4,69.0 L 66.8,79.9\" style=\"fill:none;fill-rule:evenodd;stroke:#0000FF;stroke-width:2.0px;stroke-linecap:butt;stroke-linejoin:miter;stroke-opacity:1\"/>\n",
       "<path class=\"bond-1 atom-1 atom-2\" d=\"M 66.8,79.9 L 77.2,90.7\" style=\"fill:none;fill-rule:evenodd;stroke:#000000;stroke-width:2.0px;stroke-linecap:butt;stroke-linejoin:miter;stroke-opacity:1\"/>\n",
       "<path class=\"bond-2 atom-2 atom-3\" d=\"M 77.2,90.7 L 113.8,81.7\" style=\"fill:none;fill-rule:evenodd;stroke:#000000;stroke-width:2.0px;stroke-linecap:butt;stroke-linejoin:miter;stroke-opacity:1\"/>\n",
       "<path class=\"bond-3 atom-3 atom-4\" d=\"M 113.8,81.7 L 123.8,92.1\" style=\"fill:none;fill-rule:evenodd;stroke:#000000;stroke-width:2.0px;stroke-linecap:butt;stroke-linejoin:miter;stroke-opacity:1\"/>\n",
       "<path class=\"bond-3 atom-3 atom-4\" d=\"M 123.8,92.1 L 133.8,102.5\" style=\"fill:none;fill-rule:evenodd;stroke:#FF0000;stroke-width:2.0px;stroke-linecap:butt;stroke-linejoin:miter;stroke-opacity:1\"/>\n",
       "<path class=\"bond-4 atom-4 atom-5\" d=\"M 146.0,107.4 L 158.9,104.2\" style=\"fill:none;fill-rule:evenodd;stroke:#FF0000;stroke-width:2.0px;stroke-linecap:butt;stroke-linejoin:miter;stroke-opacity:1\"/>\n",
       "<path class=\"bond-4 atom-4 atom-5\" d=\"M 158.9,104.2 L 171.8,101.1\" style=\"fill:none;fill-rule:evenodd;stroke:#FF7F00;stroke-width:2.0px;stroke-linecap:butt;stroke-linejoin:miter;stroke-opacity:1\"/>\n",
       "<path class=\"bond-5 atom-5 atom-6\" d=\"M 175.4,107.2 L 178.2,118.9\" style=\"fill:none;fill-rule:evenodd;stroke:#FF7F00;stroke-width:2.0px;stroke-linecap:butt;stroke-linejoin:miter;stroke-opacity:1\"/>\n",
       "<path class=\"bond-5 atom-5 atom-6\" d=\"M 178.2,118.9 L 181.1,130.6\" style=\"fill:none;fill-rule:evenodd;stroke:#FF0000;stroke-width:2.0px;stroke-linecap:butt;stroke-linejoin:miter;stroke-opacity:1\"/>\n",
       "<path class=\"bond-5 atom-5 atom-6\" d=\"M 180.9,105.8 L 183.7,117.5\" style=\"fill:none;fill-rule:evenodd;stroke:#FF7F00;stroke-width:2.0px;stroke-linecap:butt;stroke-linejoin:miter;stroke-opacity:1\"/>\n",
       "<path class=\"bond-5 atom-5 atom-6\" d=\"M 183.7,117.5 L 186.6,129.2\" style=\"fill:none;fill-rule:evenodd;stroke:#FF0000;stroke-width:2.0px;stroke-linecap:butt;stroke-linejoin:miter;stroke-opacity:1\"/>\n",
       "<path class=\"bond-6 atom-5 atom-7\" d=\"M 174.9,93.3 L 172.0,81.7\" style=\"fill:none;fill-rule:evenodd;stroke:#FF7F00;stroke-width:2.0px;stroke-linecap:butt;stroke-linejoin:miter;stroke-opacity:1\"/>\n",
       "<path class=\"bond-6 atom-5 atom-7\" d=\"M 172.0,81.7 L 169.2,70.1\" style=\"fill:none;fill-rule:evenodd;stroke:#FF0000;stroke-width:2.0px;stroke-linecap:butt;stroke-linejoin:miter;stroke-opacity:1\"/>\n",
       "<path class=\"bond-7 atom-5 atom-8\" d=\"M 181.1,98.8 L 194.0,95.6\" style=\"fill:none;fill-rule:evenodd;stroke:#FF7F00;stroke-width:2.0px;stroke-linecap:butt;stroke-linejoin:miter;stroke-opacity:1\"/>\n",
       "<path class=\"bond-7 atom-5 atom-8\" d=\"M 194.0,95.6 L 206.9,92.4\" style=\"fill:none;fill-rule:evenodd;stroke:#FF0000;stroke-width:2.0px;stroke-linecap:butt;stroke-linejoin:miter;stroke-opacity:1\"/>\n",
       "<path class=\"bond-8 atom-2 atom-9\" d=\"M 77.2,90.7 L 66.7,126.9\" style=\"fill:none;fill-rule:evenodd;stroke:#000000;stroke-width:2.0px;stroke-linecap:butt;stroke-linejoin:miter;stroke-opacity:1\"/>\n",
       "<path class=\"bond-9 atom-9 atom-10\" d=\"M 66.7,126.9 L 77.9,138.5\" style=\"fill:none;fill-rule:evenodd;stroke:#000000;stroke-width:2.0px;stroke-linecap:butt;stroke-linejoin:miter;stroke-opacity:1\"/>\n",
       "<path class=\"bond-9 atom-9 atom-10\" d=\"M 77.9,138.5 L 89.0,150.2\" style=\"fill:none;fill-rule:evenodd;stroke:#191919;stroke-width:2.0px;stroke-linecap:butt;stroke-linejoin:miter;stroke-opacity:1\"/>\n",
       "<path class=\"bond-10 atom-9 atom-11\" d=\"M 67.6,123.8 L 51.6,127.7\" style=\"fill:none;fill-rule:evenodd;stroke:#000000;stroke-width:2.0px;stroke-linecap:butt;stroke-linejoin:miter;stroke-opacity:1\"/>\n",
       "<path class=\"bond-10 atom-9 atom-11\" d=\"M 51.6,127.7 L 35.6,131.6\" style=\"fill:none;fill-rule:evenodd;stroke:#FF0000;stroke-width:2.0px;stroke-linecap:butt;stroke-linejoin:miter;stroke-opacity:1\"/>\n",
       "<path class=\"bond-10 atom-9 atom-11\" d=\"M 69.0,129.3 L 52.9,133.2\" style=\"fill:none;fill-rule:evenodd;stroke:#000000;stroke-width:2.0px;stroke-linecap:butt;stroke-linejoin:miter;stroke-opacity:1\"/>\n",
       "<path class=\"bond-10 atom-9 atom-11\" d=\"M 52.9,133.2 L 36.9,137.1\" style=\"fill:none;fill-rule:evenodd;stroke:#FF0000;stroke-width:2.0px;stroke-linecap:butt;stroke-linejoin:miter;stroke-opacity:1\"/>\n",
       "<path d=\"M 112.0,82.2 L 113.8,81.7 L 114.3,82.2\" style=\"fill:none;stroke:#000000;stroke-width:2.0px;stroke-linecap:butt;stroke-linejoin:miter;stroke-opacity:1;\"/>\n",
       "<path d=\"M 67.2,125.1 L 66.7,126.9 L 67.3,127.5\" style=\"fill:none;stroke:#000000;stroke-width:2.0px;stroke-linecap:butt;stroke-linejoin:miter;stroke-opacity:1;\"/>\n",
       "<path class=\"atom-0\" d=\"M 12.5 71.3 L 14.1 69.7 L 12.0 69.3 L 12.3 68.2 L 14.2 69.2 L 14.0 67.1 L 15.1 67.1 L 14.8 69.2 L 16.7 68.3 L 17.0 69.3 L 14.9 69.7 L 16.4 71.3 L 15.5 72.0 L 14.5 70.0 L 13.4 72.0 L 12.5 71.3 \" fill=\"#191919\"/>\n",
       "<path class=\"atom-1\" d=\"M 48.8 58.2 L 52.3 63.8 Q 52.6 64.4, 53.2 65.4 Q 53.7 66.4, 53.8 66.5 L 53.8 58.2 L 55.2 58.2 L 55.2 68.9 L 53.7 68.9 L 50.0 62.7 Q 49.5 61.9, 49.0 61.1 Q 48.6 60.3, 48.5 60.0 L 48.5 68.9 L 47.1 68.9 L 47.1 58.2 L 48.8 58.2 \" fill=\"#0000FF\"/>\n",
       "<path class=\"atom-1\" d=\"M 46.9 46.4 L 48.4 46.4 L 48.4 51.0 L 53.9 51.0 L 53.9 46.4 L 55.3 46.4 L 55.3 57.1 L 53.9 57.1 L 53.9 52.2 L 48.4 52.2 L 48.4 57.1 L 46.9 57.1 L 46.9 46.4 \" fill=\"#0000FF\"/>\n",
       "<path class=\"atom-4\" d=\"M 135.0 108.9 Q 135.0 106.4, 136.3 105.0 Q 137.5 103.5, 139.9 103.5 Q 142.3 103.5, 143.5 105.0 Q 144.8 106.4, 144.8 108.9 Q 144.8 111.5, 143.5 113.0 Q 142.2 114.5, 139.9 114.5 Q 137.5 114.5, 136.3 113.0 Q 135.0 111.6, 135.0 108.9 M 139.9 113.3 Q 141.5 113.3, 142.4 112.2 Q 143.3 111.1, 143.3 108.9 Q 143.3 106.9, 142.4 105.8 Q 141.5 104.7, 139.9 104.7 Q 138.3 104.7, 137.4 105.8 Q 136.5 106.8, 136.5 108.9 Q 136.5 111.1, 137.4 112.2 Q 138.3 113.3, 139.9 113.3 \" fill=\"#FF0000\"/>\n",
       "<path class=\"atom-5\" d=\"M 176.2 94.6 Q 178.1 94.6, 179.0 95.4 Q 179.9 96.2, 179.9 97.7 Q 179.9 99.2, 178.9 100.0 Q 178.0 100.9, 176.2 100.9 L 174.5 100.9 L 174.5 105.3 L 173.1 105.3 L 173.1 94.6 L 176.2 94.6 M 176.2 99.7 Q 177.3 99.7, 177.8 99.2 Q 178.4 98.7, 178.4 97.7 Q 178.4 96.8, 177.8 96.3 Q 177.3 95.8, 176.2 95.8 L 174.5 95.8 L 174.5 99.7 L 176.2 99.7 \" fill=\"#FF7F00\"/>\n",
       "<path class=\"atom-6\" d=\"M 180.6 136.6 Q 180.6 134.0, 181.9 132.6 Q 183.1 131.1, 185.5 131.1 Q 187.9 131.1, 189.1 132.6 Q 190.4 134.0, 190.4 136.6 Q 190.4 139.1, 189.1 140.6 Q 187.8 142.1, 185.5 142.1 Q 183.1 142.1, 181.9 140.6 Q 180.6 139.2, 180.6 136.6 M 185.5 140.9 Q 187.1 140.9, 188.0 139.8 Q 188.9 138.7, 188.9 136.6 Q 188.9 134.5, 188.0 133.4 Q 187.1 132.3, 185.5 132.3 Q 183.9 132.3, 183.0 133.4 Q 182.1 134.4, 182.1 136.6 Q 182.1 138.7, 183.0 139.8 Q 183.9 140.9, 185.5 140.9 \" fill=\"#FF0000\"/>\n",
       "<path class=\"atom-7\" d=\"M 162.6 63.4 Q 162.6 60.8, 163.9 59.4 Q 165.1 57.9, 167.5 57.9 Q 169.9 57.9, 171.1 59.4 Q 172.4 60.8, 172.4 63.4 Q 172.4 66.0, 171.1 67.4 Q 169.8 68.9, 167.5 68.9 Q 165.1 68.9, 163.9 67.4 Q 162.6 66.0, 162.6 63.4 M 167.5 67.7 Q 169.1 67.7, 170.0 66.6 Q 170.9 65.5, 170.9 63.4 Q 170.9 61.3, 170.0 60.2 Q 169.1 59.1, 167.5 59.1 Q 165.9 59.1, 165.0 60.2 Q 164.1 61.2, 164.1 63.4 Q 164.1 65.5, 165.0 66.6 Q 165.9 67.7, 167.5 67.7 \" fill=\"#FF0000\"/>\n",
       "<path class=\"atom-7\" d=\"M 174.1 58.1 L 175.5 58.1 L 175.5 62.6 L 181.0 62.6 L 181.0 58.1 L 182.4 58.1 L 182.4 68.7 L 181.0 68.7 L 181.0 63.8 L 175.5 63.8 L 175.5 68.7 L 174.1 68.7 L 174.1 58.1 \" fill=\"#FF0000\"/>\n",
       "<path class=\"atom-8\" d=\"M 208.2 91.0 Q 208.2 88.4, 209.5 87.0 Q 210.7 85.5, 213.1 85.5 Q 215.5 85.5, 216.7 87.0 Q 218.0 88.4, 218.0 91.0 Q 218.0 93.6, 216.7 95.0 Q 215.4 96.5, 213.1 96.5 Q 210.7 96.5, 209.5 95.0 Q 208.2 93.6, 208.2 91.0 M 213.1 95.3 Q 214.7 95.3, 215.6 94.2 Q 216.5 93.1, 216.5 91.0 Q 216.5 88.9, 215.6 87.8 Q 214.7 86.7, 213.1 86.7 Q 211.5 86.7, 210.6 87.8 Q 209.7 88.9, 209.7 91.0 Q 209.7 93.1, 210.6 94.2 Q 211.5 95.3, 213.1 95.3 \" fill=\"#FF0000\"/>\n",
       "<path class=\"atom-8\" d=\"M 219.6 85.7 L 221.1 85.7 L 221.1 90.2 L 226.6 90.2 L 226.6 85.7 L 228.0 85.7 L 228.0 96.3 L 226.6 96.3 L 226.6 91.4 L 221.1 91.4 L 221.1 96.3 L 219.6 96.3 L 219.6 85.7 \" fill=\"#FF0000\"/>\n",
       "<path class=\"atom-10\" d=\"M 90.8 152.9 L 92.3 151.3 L 90.3 150.9 L 90.6 149.8 L 92.5 150.8 L 92.2 148.7 L 93.4 148.7 L 93.0 150.8 L 95.0 149.9 L 95.3 150.9 L 93.2 151.3 L 94.7 152.9 L 93.8 153.6 L 92.7 151.6 L 91.7 153.6 L 90.8 152.9 \" fill=\"#191919\"/>\n",
       "<path class=\"atom-11\" d=\"M 25.2 135.9 Q 25.2 133.4, 26.5 131.9 Q 27.7 130.5, 30.1 130.5 Q 32.5 130.5, 33.7 131.9 Q 35.0 133.4, 35.0 135.9 Q 35.0 138.5, 33.7 140.0 Q 32.4 141.5, 30.1 141.5 Q 27.8 141.5, 26.5 140.0 Q 25.2 138.5, 25.2 135.9 M 30.1 140.3 Q 31.7 140.3, 32.6 139.2 Q 33.5 138.1, 33.5 135.9 Q 33.5 133.8, 32.6 132.8 Q 31.7 131.7, 30.1 131.7 Q 28.5 131.7, 27.6 132.8 Q 26.7 133.8, 26.7 135.9 Q 26.7 138.1, 27.6 139.2 Q 28.5 140.3, 30.1 140.3 \" fill=\"#FF0000\"/>\n",
       "</g>\n",
       "  </g>\n",
       "</svg>\n"
      ],
      "text/plain": [
       "<svgutils.compose.Figure at 0x7f8b07d9ed90>"
      ]
     },
     "execution_count": 302,
     "metadata": {},
     "output_type": "execute_result"
    }
   ],
   "source": [
    "smarts = krs[int(idx_feature[np.argmax(p_per_r)])]['smarts']\n",
    "print(smarts)\n",
    "rxn = rxn_from_smarts(smarts, True)\n",
    "rxn.save(\"../artifacts/imgs/kinase_reaction_w_most_proteins.svg\")"
   ]
  }
 ],
 "metadata": {
  "kernelspec": {
   "display_name": "hiec",
   "language": "python",
   "name": "python3"
  },
  "language_info": {
   "codemirror_mode": {
    "name": "ipython",
    "version": 3
   },
   "file_extension": ".py",
   "mimetype": "text/x-python",
   "name": "python",
   "nbconvert_exporter": "python",
   "pygments_lexer": "ipython3",
   "version": "3.11.5"
  }
 },
 "nbformat": 4,
 "nbformat_minor": 2
}
