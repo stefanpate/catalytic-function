{
 "cells": [
  {
   "cell_type": "code",
   "execution_count": null,
   "metadata": {},
   "outputs": [],
   "source": [
    "from src.config import filepaths\n",
    "from src.utils import construct_sparse_adj_mat, load_json\n",
    "from src.chemdraw import draw_reaction\n",
    "import numpy as np\n",
    "import matplotlib.pyplot as plt\n",
    "import rdkit\n",
    "from rdkit import Chem\n",
    "from rdkit.Chem import AllChem, Draw\n",
    "from rdkit.Chem.Draw import IPythonConsole\n",
    "import pandas as pd\n",
    "import ipywidgets as widgets\n",
    "from IPython.display import SVG\n",
    "from ipywidgets import interact\n",
    "from scipy.stats import entropy\n",
    "from collections import defaultdict\n",
    "from itertools import combinations, product"
   ]
  },
  {
   "cell_type": "code",
   "execution_count": null,
   "metadata": {},
   "outputs": [],
   "source": [
    "# Load stuff\n",
    "\n",
    "eval_fp = filepaths['model_evals'] / \"gnn\"\n",
    "\n",
    "name_hp_idx = {\n",
    "    'bag_of_molecules': ,\n",
    "    'rc_agg_r2': 94,\n",
    "    'rc_agg_r3',\n",
    "    'rc_agg_r4',\n",
    "}\n",
    "adj, idx_sample, idx_feature = construct_sparse_adj_mat(dataset, toc)\n",
    "krs = load_json(filepaths['data_sprhea'] / f\"{toc}.json\")\n",
    "rules = pd.read_csv(filepaths['data'] / \"minimal1224_all_uniprot.tsv\", sep='\\t', )\n",
    "rules.set_index('Name', inplace=True)\n",
    "\n",
    "sim_metrics = [\n",
    "    \n",
    "    \"rcmcs\",\n",
    "    \"mcs\",\n",
    "    \"tanimoto\",\n",
    "]\n",
    "\n",
    "sim_mats = {name.removesuffix(\"_proteins_x_reactions\"): np.load(smfp / f\"{dataset}_{toc}_{name}.npy\")\n",
    "                for name in sim_metrics}"
   ]
  },
  {
   "cell_type": "code",
   "execution_count": null,
   "metadata": {},
   "outputs": [],
   "source": []
  },
  {
   "cell_type": "code",
   "execution_count": null,
   "metadata": {},
   "outputs": [],
   "source": []
  },
  {
   "cell_type": "code",
   "execution_count": null,
   "metadata": {},
   "outputs": [],
   "source": []
  }
 ],
 "metadata": {
  "kernelspec": {
   "display_name": "hiec",
   "language": "python",
   "name": "python3"
  },
  "language_info": {
   "name": "python",
   "version": "3.11.5"
  }
 },
 "nbformat": 4,
 "nbformat_minor": 2
}
