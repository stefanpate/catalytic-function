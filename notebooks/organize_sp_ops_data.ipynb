{
 "cells": [
  {
   "cell_type": "code",
   "execution_count": 1,
   "metadata": {},
   "outputs": [],
   "source": [
    "import os\n",
    "import pandas as pd\n",
    "import numpy as np\n",
    "from src.utils import load_json, save_json\n",
    "from collections import defaultdict"
   ]
  },
  {
   "cell_type": "markdown",
   "metadata": {},
   "source": [
    "# Make toc for ops-labeled data"
   ]
  },
  {
   "cell_type": "code",
   "execution_count": 2,
   "metadata": {},
   "outputs": [],
   "source": [
    "# Load reactions and rules\n",
    "\n",
    "imt_ops = pd.read_csv(\"./data/sprhea/JN3604IMT_rules.tsv\", sep='\\t')\n",
    "min_ops = pd.read_csv(\"./data/sprhea/minimal1224_all_uniprot.tsv\", sep='\\t')"
   ]
  },
  {
   "cell_type": "code",
   "execution_count": 3,
   "metadata": {},
   "outputs": [
    {
     "name": "stdout",
     "output_type": "stream",
     "text": [
      "set()\n"
     ]
    },
    {
     "data": {
      "text/html": [
       "<div>\n",
       "<style scoped>\n",
       "    .dataframe tbody tr th:only-of-type {\n",
       "        vertical-align: middle;\n",
       "    }\n",
       "\n",
       "    .dataframe tbody tr th {\n",
       "        vertical-align: top;\n",
       "    }\n",
       "\n",
       "    .dataframe thead th {\n",
       "        text-align: right;\n",
       "    }\n",
       "</style>\n",
       "<table border=\"1\" class=\"dataframe\">\n",
       "  <thead>\n",
       "    <tr style=\"text-align: right;\">\n",
       "      <th></th>\n",
       "      <th>Entry</th>\n",
       "      <th>Label</th>\n",
       "      <th>Sequence</th>\n",
       "    </tr>\n",
       "  </thead>\n",
       "  <tbody>\n",
       "    <tr>\n",
       "      <th>0</th>\n",
       "      <td>A1Z1Q3</td>\n",
       "      <td>rule0310_1;rule0007_197;rule0007_198;rule0006_...</td>\n",
       "      <td>MYPSNKKKKVWREEKERLLKMTLEERRKEYLRDYIPLNSILSWKEE...</td>\n",
       "    </tr>\n",
       "    <tr>\n",
       "      <th>1</th>\n",
       "      <td>A0A009IHW8</td>\n",
       "      <td>rule0310_1;rule0311_1</td>\n",
       "      <td>MSLEQKKGADIISKILQIQNSIGKTTSPSTLKTKLSEISRKEQENA...</td>\n",
       "    </tr>\n",
       "    <tr>\n",
       "      <th>2</th>\n",
       "      <td>A0A024B7W1</td>\n",
       "      <td>rule0010_65;rule0011_51;rule0120_1;rule0121_1</td>\n",
       "      <td>MKNPKKKSGGFRIVNMLKRGVARVSPFGGLKRLPAGLLLGHGPIRM...</td>\n",
       "    </tr>\n",
       "    <tr>\n",
       "      <th>3</th>\n",
       "      <td>A0A059TC02</td>\n",
       "      <td>rule0142_1;rule0143_2</td>\n",
       "      <td>MRSVSGQVVCVTGAGGFIASWLVKILLEKGYTVRGTVRNPDDPKNG...</td>\n",
       "    </tr>\n",
       "    <tr>\n",
       "      <th>4</th>\n",
       "      <td>A0A061AE05</td>\n",
       "      <td>rule0015_34;rule0014_29</td>\n",
       "      <td>MLTPRDENNEGDAMPMLKKPRYSSLSGQSTNITYQEHTISREERAA...</td>\n",
       "    </tr>\n",
       "  </tbody>\n",
       "</table>\n",
       "</div>"
      ],
      "text/plain": [
       "        Entry                                              Label  \\\n",
       "0      A1Z1Q3  rule0310_1;rule0007_197;rule0007_198;rule0006_...   \n",
       "1  A0A009IHW8                              rule0310_1;rule0311_1   \n",
       "2  A0A024B7W1      rule0010_65;rule0011_51;rule0120_1;rule0121_1   \n",
       "3  A0A059TC02                              rule0142_1;rule0143_2   \n",
       "4  A0A061AE05                            rule0015_34;rule0014_29   \n",
       "\n",
       "                                            Sequence  \n",
       "0  MYPSNKKKKVWREEKERLLKMTLEERRKEYLRDYIPLNSILSWKEE...  \n",
       "1  MSLEQKKGADIISKILQIQNSIGKTTSPSTLKTKLSEISRKEQENA...  \n",
       "2  MKNPKKKSGGFRIVNMLKRGVARVSPFGGLKRLPAGLLLGHGPIRM...  \n",
       "3  MRSVSGQVVCVTGAGGFIASWLVKILLEKGYTVRGTVRNPDDPKNG...  \n",
       "4  MLTPRDENNEGDAMPMLKKPRYSSLSGQSTNITYQEHTISREERAA...  "
      ]
     },
     "execution_count": 3,
     "metadata": {},
     "output_type": "execute_result"
    }
   ],
   "source": [
    "sp_ops_raw = load_json(\"./data/sprhea/known_rxns_swissprot_enzymes_240310.json\")\n",
    "save_to = \"../data/sprhea/sp_ops.csv\"\n",
    "op_level = 'imt_rules' # 'min_rules'\n",
    "\n",
    "id2seq = defaultdict(set)\n",
    "for _, elt in sp_ops_raw.items():\n",
    "    if elt[op_level] and elt['enzymes']:\n",
    "        for e in elt['enzymes']:\n",
    "                id2seq[e[0]].add(e[1])\n",
    "\n",
    "# Make sure only one seq per id\n",
    "for k,v in id2seq.items():\n",
    "     if len(v) > 1:\n",
    "          print(k,v)\n",
    "\n",
    "id2rule = defaultdict(set)\n",
    "for _, elt in sp_ops_raw.items():\n",
    "    if elt['imt_rules'] and elt['enzymes']:\n",
    "        for e in elt['enzymes']:\n",
    "            for r in elt[op_level]:\n",
    "                 id2rule[e[0]].add(r)\n",
    "\n",
    "print(set(id2rule.keys()) ^ set(id2seq.keys())) # Make sure these are the same\n",
    "\n",
    "data = {'Entry':[], 'Label':[], 'Sequence':[]}\n",
    "for id in id2seq.keys():\n",
    "     data['Entry'].append(id)\n",
    "     data['Label'].append(\";\".join(id2rule[id]))\n",
    "     data['Sequence'].append(list(id2seq[id])[0])\n",
    "\n",
    "# Save to sp_ops subdir\n",
    "df = pd.DataFrame(data=data)\n",
    "df.to_csv(save_to, index=False, sep='\\t')\n",
    "df.head()"
   ]
  },
  {
   "cell_type": "code",
   "execution_count": 37,
   "metadata": {},
   "outputs": [
    {
     "name": "stdout",
     "output_type": "stream",
     "text": [
      "Constructing sp_ops sparse adjacency matrix\n",
      "3659\r"
     ]
    }
   ],
   "source": [
    "from src.utils import construct_sparse_adj_mat\n",
    "\n",
    "y, idx_sample, idx_feature = construct_sparse_adj_mat(\"sprhea\", \"sp_ops\")"
   ]
  },
  {
   "cell_type": "code",
   "execution_count": 6,
   "metadata": {},
   "outputs": [
    {
     "data": {
      "text/plain": [
       "(3660, 2271)"
      ]
     },
     "execution_count": 6,
     "metadata": {},
     "output_type": "execute_result"
    }
   ],
   "source": [
    "y.shape"
   ]
  },
  {
   "cell_type": "code",
   "execution_count": 41,
   "metadata": {},
   "outputs": [
    {
     "data": {
      "text/plain": [
       "<matplotlib.image.AxesImage at 0x2b88d40bf9d0>"
      ]
     },
     "execution_count": 41,
     "metadata": {},
     "output_type": "execute_result"
    },
    {
     "data": {
      "image/png": "[encoded data removed]",
      "text/plain": [
       "<Figure size 640x480 with 1 Axes>"
      ]
     },
     "metadata": {},
     "output_type": "display_data"
    }
   ],
   "source": [
    "import matplotlib.pyplot as plt\n",
    "\n",
    "plt.imshow(y.toarray(), cmap='binary')"
   ]
  },
  {
   "cell_type": "code",
   "execution_count": 49,
   "metadata": {},
   "outputs": [
    {
     "data": {
      "text/plain": [
       "0.0010321396173660288"
      ]
     },
     "execution_count": 49,
     "metadata": {},
     "output_type": "execute_result"
    }
   ],
   "source": [
    "y.count_nonzero() / (y.shape[0] * y.shape[1])"
   ]
  },
  {
   "cell_type": "markdown",
   "metadata": {},
   "source": [
    "# Fold reaction directions into single entries and save known reactions"
   ]
  },
  {
   "cell_type": "code",
   "execution_count": 3,
   "metadata": {},
   "outputs": [
    {
     "name": "stdout",
     "output_type": "stream",
     "text": [
      "6653\n"
     ]
    }
   ],
   "source": [
    "# Fold reaction directions into single entry\n",
    "\n",
    "'''\n",
    "Assumes:\n",
    "- Enzymes of rxn and its reverse are identical\n",
    "- No more than one min rule (& reaction center) mapped to a reaction\n",
    "- The reverse reverse smarts are the same as the smarts of a reaction\n",
    "- Smarts are aligned with the mapped template and reaction center tuples\n",
    "\n",
    "Stores folded as:\n",
    "- Smarts & key from the smaller key arbitrarily chosen as smarts and key of folded\n",
    "- Keeps a tuple of reaction center tuple tuples\n",
    "- Only takes reactions that were mapped to minimal rules\n",
    "'''\n",
    "krs = load_json(\"./data/sprhea/sprhea_240310_v3_min_mapped.json\")\n",
    "krs = {int(k): krs[k] for k in krs}\n",
    "dest = \"./data/sprhea/v3_folded_pt.json\"\n",
    "\n",
    "# Enzyme filtering criteria\n",
    "whitelist = [\n",
    "    'Evidence at protein level',\n",
    "    'Evidence at transcript level',\n",
    "    # 'Inferred from homology',\n",
    "]\n",
    "\n",
    "direction_pairs = [tuple(sorted((k, krs[k]['reverse']))) for k in krs]\n",
    "direction_pairs = set(direction_pairs)\n",
    "\n",
    "krs_folded = {}\n",
    "for fwd, rev in direction_pairs:\n",
    "    if krs[fwd]['min_rule'] is None or krs[rev]['min_rule'] is None:\n",
    "        continue\n",
    "    \n",
    "    enz = [e for e in krs[fwd]['enzymes'] if e['existence'] in whitelist]\n",
    "    krs_folded[fwd] = {\n",
    "        'smarts': krs[fwd]['smarts'],\n",
    "        'min_rules': [krs[fwd]['min_rule'], krs[rev]['min_rule']],\n",
    "        'rcs': [krs[fwd]['reaction_center'],  krs[rev]['reaction_center']],\n",
    "        'enzymes': enz,\n",
    "        'rhea_ids': list(set(krs[fwd]['rhea_ids'] + krs[rev]['rhea_ids'])),\n",
    "        'reverse': rev\n",
    "    }\n",
    "\n",
    "print(len(krs_folded))\n",
    "save_json(krs_folded, dest)"
   ]
  },
  {
   "cell_type": "code",
   "execution_count": 3,
   "metadata": {},
   "outputs": [
    {
     "name": "stdout",
     "output_type": "stream",
     "text": [
      "24523\n"
     ]
    },
    {
     "data": {
      "text/html": [
       "<div>\n",
       "<style scoped>\n",
       "    .dataframe tbody tr th:only-of-type {\n",
       "        vertical-align: middle;\n",
       "    }\n",
       "\n",
       "    .dataframe tbody tr th {\n",
       "        vertical-align: top;\n",
       "    }\n",
       "\n",
       "    .dataframe thead th {\n",
       "        text-align: right;\n",
       "    }\n",
       "</style>\n",
       "<table border=\"1\" class=\"dataframe\">\n",
       "  <thead>\n",
       "    <tr style=\"text-align: right;\">\n",
       "      <th></th>\n",
       "      <th>Entry</th>\n",
       "      <th>Label</th>\n",
       "      <th>Sequence</th>\n",
       "    </tr>\n",
       "  </thead>\n",
       "  <tbody>\n",
       "    <tr>\n",
       "      <th>0</th>\n",
       "      <td>P0A6W3</td>\n",
       "      <td>1123</td>\n",
       "      <td>MLVWLAEHLVKYYSGFNVFSYLTFRAIVSLLTALFISLWMGPRMIA...</td>\n",
       "    </tr>\n",
       "    <tr>\n",
       "      <th>1</th>\n",
       "      <td>P9WMW7</td>\n",
       "      <td>1123</td>\n",
       "      <td>MRQILIAVAVAVTVSILLTPVLIRLFTKQGFGHQIREDGPPSHHTK...</td>\n",
       "    </tr>\n",
       "    <tr>\n",
       "      <th>2</th>\n",
       "      <td>O66465</td>\n",
       "      <td>1123</td>\n",
       "      <td>MLYQLALLLKDYWFAFNVLKYITFRSFTAVLIAFFLTLVLSPSFIN...</td>\n",
       "    </tr>\n",
       "    <tr>\n",
       "      <th>3</th>\n",
       "      <td>Q8MJ30</td>\n",
       "      <td>3097;7946</td>\n",
       "      <td>MAAAAAGEARRVLVYGGRGALGSRCVQAFRARNWWVASIDVVENEE...</td>\n",
       "    </tr>\n",
       "    <tr>\n",
       "      <th>4</th>\n",
       "      <td>P38489</td>\n",
       "      <td>3097;7946</td>\n",
       "      <td>MDIISVALKRHSTKAFDASKKLTPEQAEQIKTLLQYSPSSTNSQPW...</td>\n",
       "    </tr>\n",
       "  </tbody>\n",
       "</table>\n",
       "</div>"
      ],
      "text/plain": [
       "    Entry      Label                                           Sequence\n",
       "0  P0A6W3       1123  MLVWLAEHLVKYYSGFNVFSYLTFRAIVSLLTALFISLWMGPRMIA...\n",
       "1  P9WMW7       1123  MRQILIAVAVAVTVSILLTPVLIRLFTKQGFGHQIREDGPPSHHTK...\n",
       "2  O66465       1123  MLYQLALLLKDYWFAFNVLKYITFRSFTAVLIAFFLTLVLSPSFIN...\n",
       "3  Q8MJ30  3097;7946  MAAAAAGEARRVLVYGGRGALGSRCVQAFRARNWWVASIDVVENEE...\n",
       "4  P38489  3097;7946  MDIISVALKRHSTKAFDASKKLTPEQAEQIKTLLQYSPSSTNSQPW..."
      ]
     },
     "execution_count": 3,
     "metadata": {},
     "output_type": "execute_result"
    }
   ],
   "source": [
    "# Save toc to file\n",
    "save_to = \"./data/sprhea/v3_folded_pt_ns.csv\"\n",
    "\n",
    "# Filter out duplicate sequences\n",
    "\n",
    "# Seq to upid dict\n",
    "unique_seqs = defaultdict(set)\n",
    "for k,v in krs_folded.items():\n",
    "    for e in v['enzymes']:\n",
    "        unique_seqs[e['sequence']].add(e['uniprot_id'])\n",
    "\n",
    "for k,v in unique_seqs.items():\n",
    "    unique_seqs[k] = sorted(v)\n",
    "\n",
    "# Make toc csv thing\n",
    "chosen_upid_to_rhashes = defaultdict(set)\n",
    "chosen_upid_to_sequence = {}\n",
    "for k,v in krs_folded.items():\n",
    "    for e in v['enzymes']:\n",
    "        seq = e['sequence']\n",
    "        chosen_upid = unique_seqs[seq][0] # Choose first of sorted upids of unique seq\n",
    "        chosen_upid_to_rhashes[chosen_upid].add(str(k))\n",
    "        chosen_upid_to_sequence[chosen_upid] = seq\n",
    "\n",
    "data = {'Entry':[], 'Label':[], 'Sequence':[]}\n",
    "for id in chosen_upid_to_sequence.keys():\n",
    "     data['Entry'].append(id)\n",
    "     data['Label'].append(\";\".join(chosen_upid_to_rhashes[id]))\n",
    "     data['Sequence'].append(chosen_upid_to_sequence[id])\n",
    "\n",
    "# Save to sp_ops subdir\n",
    "df = pd.DataFrame(data=data)\n",
    "df.to_csv(save_to, index=False, sep='\\t')\n",
    "print(len(df))\n",
    "df.head()\n"
   ]
  },
  {
   "cell_type": "markdown",
   "metadata": {},
   "source": [
    "# Consolidate swissprot esm embeddings"
   ]
  },
  {
   "cell_type": "code",
   "execution_count": 8,
   "metadata": {},
   "outputs": [],
   "source": [
    "import os\n",
    "from tqdm import tqdm\n",
    "import subprocess\n",
    "import csv\n",
    "from src.utils import load_embed"
   ]
  },
  {
   "cell_type": "code",
   "execution_count": 13,
   "metadata": {},
   "outputs": [
    {
     "name": "stderr",
     "output_type": "stream",
     "text": [
      "100%|██████████| 3660/3660 [01:11<00:00, 50.83it/s]\n"
     ]
    }
   ],
   "source": [
    "in_dir = \"/projects/p30041/spn1560/hiec/data/sprhea/esm_240524\"\n",
    "out_dir = \"/projects/p30041/spn1560/hiec/data/sprhea/esm\"\n",
    "\n",
    "mismatches = []\n",
    "for fn in tqdm(os.listdir(in_dir)):\n",
    "    if fn in os.listdir(out_dir):\n",
    "        in_id, in_embed = load_embed(f\"{in_dir}/{fn}\", embed_key=33)\n",
    "        out_id, out_embed = load_embed(f\"{out_dir}/{fn}\", embed_key=33)\n",
    "        \n",
    "        if all(in_embed == out_embed):\n",
    "            continue\n",
    "        elif all((in_embed - out_embed) < 1e-5):\n",
    "            subprocess.run(['cp', f\"{in_dir}/{fn}\", f\"{out_dir}/\"])\n",
    "        else:\n",
    "            mismatches.append((in_id, out_id))\n",
    "    else:\n",
    "        subprocess.run(['cp', f\"{in_dir}/{fn}\", f\"{out_dir}/\"])\n",
    "            \n",
    "            \n"
   ]
  },
  {
   "cell_type": "code",
   "execution_count": 14,
   "metadata": {},
   "outputs": [
    {
     "name": "stderr",
     "output_type": "stream",
     "text": [
      "100%|██████████| 3660/3660 [00:34<00:00, 104.62it/s]\n"
     ]
    }
   ],
   "source": [
    "for fn in tqdm(os.listdir(in_dir)):\n",
    "    if fn not in os.listdir(out_dir):\n",
    "        in_id, in_embed = load_embed(f\"{in_dir}/{fn}\", embed_key=33)\n",
    "        out_id, out_embed = load_embed(f\"{out_dir}/{fn}\", embed_key=33)\n",
    "        print(in_id)"
   ]
  },
  {
   "cell_type": "code",
   "execution_count": 27,
   "metadata": {},
   "outputs": [
    {
     "data": {
      "text/plain": [
       "False"
      ]
     },
     "execution_count": 27,
     "metadata": {},
     "output_type": "execute_result"
    }
   ],
   "source": [
    "'''\n",
    "TODO: Repeat ^^ for swissprot (from CLEAN paper)\n",
    "'''"
   ]
  },
  {
   "cell_type": "markdown",
   "metadata": {},
   "source": [
    "# Get incremental esm embeddings into project dir"
   ]
  },
  {
   "cell_type": "code",
   "execution_count": 4,
   "metadata": {},
   "outputs": [
    {
     "name": "stdout",
     "output_type": "stream",
     "text": [
      "2\n"
     ]
    }
   ],
   "source": [
    "# Put remaining uniprot ids into a fasta file\n",
    "fasta_name = f\"./data/sprhea/v3_incremental.fasta\"\n",
    "toc_path = \"./data/sprhea/v3_folded_pt_ns.csv\"\n",
    "existing_path = \"/projects/p30041/spn1560/hiec/data/sprhea/esm\"\n",
    "\n",
    "toc = pd.read_csv(toc_path, sep='\\t')\n",
    "all_upids = set(toc['Entry'].tolist())\n",
    "toc.set_index('Entry', inplace=True)\n",
    "toc.head()\n",
    "\n",
    "existing = set([elt[:-3] for elt in os.listdir(existing_path)])\n",
    "incremental = all_upids - existing\n",
    "print(len(incremental))\n",
    "\n",
    "with open(fasta_name, 'w') as f:\n",
    "    for up in incremental:\n",
    "        f.write('>' + up + '\\n')\n",
    "        f.write(toc.loc[up, 'Sequence'] + '\\n')\n"
   ]
  },
  {
   "cell_type": "markdown",
   "metadata": {},
   "source": [
    "# Look at how many enyzmes per reaction, reactions per enzymes in sprhea folded"
   ]
  },
  {
   "cell_type": "code",
   "execution_count": 6,
   "metadata": {},
   "outputs": [
    {
     "name": "stdout",
     "output_type": "stream",
     "text": [
      "Constructing sprhea:sp_folded_pth sparse adjacency matrix\n",
      "117170 enzymes\n",
      "7092 reactions\n",
      "22.375634517766496 proteins per reaction\n",
      "1.3543398480839806 reactions per protein\n",
      "Constructing sprhea:sp_folded_pt sparse adjacency matrix\n",
      "27833\n",
      "\n",
      "27834 enzymes\n",
      "7056 reactions\n",
      "7.758219954648526 proteins per reaction\n",
      "1.9667313357763887 reactions per protein\n"
     ]
    }
   ],
   "source": [
    "import scipy as sp\n",
    "import numpy as np\n",
    "import pandas as pd\n",
    "from collections import Counter\n",
    "def construct_sparse_adj_mat(ds_name, toc):\n",
    "        '''\n",
    "        Returns sparse representation of sample x feature adjacency matrix\n",
    "        and lookup of sample names from row idx key.\n",
    "\n",
    "        Args\n",
    "            - ds_name: Str name of dataset\n",
    "            - toc: Table of contents csv\n",
    "\n",
    "        Returns\n",
    "            -\n",
    "        '''      \n",
    "        # Load from dataset \"table of contents csv\"\n",
    "        df = pd.read_csv(f\"./data/{ds_name}/{toc}.csv\", delimiter='\\t')\n",
    "        df.set_index('Entry', inplace=True)\n",
    "        sample_idx = {}\n",
    "        feature_idx = {}\n",
    "        \n",
    "        # Construct ground truth protein-function matrix\n",
    "        print(f\"Constructing {ds_name}:{toc} sparse adjacency matrix\")\n",
    "        row, col, data = [], [], [] # For csr\n",
    "        for i, elt in enumerate(df.index):\n",
    "            labels = df.loc[elt, 'Label'].split(';')\n",
    "            sample_idx[elt] = i\n",
    "            for label in labels:\n",
    "                if label in feature_idx:\n",
    "                    j = feature_idx[label]\n",
    "                else:\n",
    "                    j = len(feature_idx)\n",
    "                    feature_idx[label] = j\n",
    "                row.append(i)\n",
    "                col.append(j)\n",
    "                data.append(1)\n",
    "                \n",
    "            print(f\"{i}\", end='\\r')\n",
    "\n",
    "        adj = sp.sparse.csr_matrix((data, (row, col)), shape=(len(sample_idx), len(feature_idx)))\n",
    "        idx_sample = {v:k for k,v in sample_idx.items()}\n",
    "        idx_feature = {v:k for k,v in feature_idx.items()}\n",
    "            \n",
    "        return adj, idx_sample, idx_feature"
   ]
  },
  {
   "cell_type": "code",
   "execution_count": null,
   "metadata": {},
   "outputs": [],
   "source": [
    "dataset = 'sprhea'\n",
    "toc = 'sp_folded_pth'\n",
    "adj, idx_sample, idx_feature = construct_sparse_adj_mat(dataset, toc)\n",
    "print(adj.shape[0], 'enzymes')\n",
    "print(adj.shape[1], 'reactions')\n",
    "print(adj.sum(axis=0).mean(), \"proteins per reaction\")\n",
    "print(adj.sum(axis=1).mean(), \"reactions per protein\")\n",
    "\n",
    "labels_per_prot = np.array(adj.sum(axis=1)).reshape(-1,)\n",
    "ct = Counter(labels_per_prot)\n",
    "x, h = list(ct.keys()), list(ct.values())\n",
    "plt.bar(x, h)\n",
    "plt.yscale('log')\n",
    "plt.xticks(np.arange(1, max(x) + 1))\n",
    "plt.ylabel(\"# enzymes\")\n",
    "plt.xlabel(\"# reactions\")\n",
    "plt.xticks(rotation=90)\n",
    "plt.show()\n",
    "\n",
    "prots_per_label = np.array(adj.sum(axis=0)).reshape(-1,)\n",
    "ct = Counter(prots_per_label)\n",
    "x, h = list(ct.keys()), list(ct.values())\n",
    "plt.figure(figsize=(9,6))\n",
    "plt.bar(x, h)\n",
    "plt.yscale('log')\n",
    "plt.xticks(np.arange(1, max(x) + 1))\n",
    "plt.ylabel(\"# reactions\")\n",
    "plt.xlabel(\"# enzymes\")\n",
    "plt.xticks(rotation=90)\n",
    "plt.xscale('log')\n",
    "plt.show()"
   ]
  },
  {
   "cell_type": "code",
   "execution_count": null,
   "metadata": {},
   "outputs": [],
   "source": [
    "dataset = 'sprhea'\n",
    "toc = 'sp_folded_pt'\n",
    "adj, idx_sample, idx_feature = construct_sparse_adj_mat(dataset, toc)\n",
    "print(adj.shape[0], 'enzymes')\n",
    "print(adj.shape[1], 'reactions')\n",
    "print(adj.sum(axis=0).mean(), \"proteins per reaction\")\n",
    "print(adj.sum(axis=1).mean(), \"reactions per protein\")\n",
    "\n",
    "labels_per_prot = np.array(adj.sum(axis=1)).reshape(-1,)\n",
    "ct = Counter(labels_per_prot)\n",
    "x, h = list(ct.keys()), list(ct.values())\n",
    "plt.bar(x, h)\n",
    "plt.yscale('log')\n",
    "plt.xticks(np.arange(1, max(x) + 1))\n",
    "plt.ylabel(\"# enzymes\")\n",
    "plt.xlabel(\"# reactions\")\n",
    "plt.xticks(rotation=90)\n",
    "plt.show()\n",
    "\n",
    "prots_per_label = np.array(adj.sum(axis=0)).reshape(-1,)\n",
    "ct = Counter(prots_per_label)\n",
    "x, h = list(ct.keys()), list(ct.values())\n",
    "plt.figure(figsize=(9,6))\n",
    "plt.bar(x, h)\n",
    "plt.yscale('log')\n",
    "plt.xticks(np.arange(1, max(x) + 1))\n",
    "plt.ylabel(\"# reactions\")\n",
    "plt.xlabel(\"# enzymes\")\n",
    "plt.xticks(rotation=90)\n",
    "plt.xscale('log')\n",
    "plt.show()"
   ]
  },
  {
   "cell_type": "markdown",
   "metadata": {},
   "source": [
    "# Make folded reactions x min ops labels tocs"
   ]
  },
  {
   "cell_type": "code",
   "execution_count": 1,
   "metadata": {},
   "outputs": [],
   "source": [
    "from src.utils import load_known_rxns\n",
    "import pandas as pd"
   ]
  },
  {
   "cell_type": "code",
   "execution_count": 2,
   "metadata": {},
   "outputs": [
    {
     "ename": "FileNotFoundError",
     "evalue": "[Errno 2] No such file or directory: './data/sprhea/known_rxns_240310_v2_folded_protein_transcript.json'",
     "output_type": "error",
     "traceback": [
      "\u001b[0;31m---------------------------------------------------------------------------\u001b[0m",
      "\u001b[0;31mFileNotFoundError\u001b[0m                         Traceback (most recent call last)",
      "Cell \u001b[0;32mIn[2], line 1\u001b[0m\n\u001b[0;32m----> 1\u001b[0m krs \u001b[38;5;241m=\u001b[39m load_known_rxns(\u001b[38;5;124m\"\u001b[39m\u001b[38;5;124m./data/sprhea/known_rxns_240310_v2_folded_protein_transcript.json\u001b[39m\u001b[38;5;124m\"\u001b[39m)\n\u001b[1;32m      2\u001b[0m save_to \u001b[38;5;241m=\u001b[39m \u001b[38;5;124m\"\u001b[39m\u001b[38;5;124m./data/sprhea/sp_folded_pt_rxns_x_min_ops.csv\u001b[39m\u001b[38;5;124m\"\u001b[39m\n",
      "File \u001b[0;32m~/hiec/src/utils.py:182\u001b[0m, in \u001b[0;36mload_known_rxns\u001b[0;34m(path)\u001b[0m\n\u001b[1;32m    181\u001b[0m \u001b[38;5;28;01mdef\u001b[39;00m \u001b[38;5;21mload_known_rxns\u001b[39m(path):\n\u001b[0;32m--> 182\u001b[0m     \u001b[38;5;28;01mwith\u001b[39;00m \u001b[38;5;28mopen\u001b[39m(path, \u001b[38;5;124m'\u001b[39m\u001b[38;5;124mr\u001b[39m\u001b[38;5;124m'\u001b[39m) \u001b[38;5;28;01mas\u001b[39;00m f:\n\u001b[1;32m    183\u001b[0m         data \u001b[38;5;241m=\u001b[39m json\u001b[38;5;241m.\u001b[39mload(f)\n\u001b[1;32m    185\u001b[0m     \u001b[38;5;28;01mfor\u001b[39;00m _,v \u001b[38;5;129;01min\u001b[39;00m data\u001b[38;5;241m.\u001b[39mitems():\n\u001b[1;32m    186\u001b[0m \n\u001b[1;32m    187\u001b[0m         \u001b[38;5;66;03m# Convert enzymes and db entries to namedtuples\u001b[39;00m\n",
      "\u001b[0;31mFileNotFoundError\u001b[0m: [Errno 2] No such file or directory: './data/sprhea/known_rxns_240310_v2_folded_protein_transcript.json'"
     ]
    }
   ],
   "source": [
    "krs = load_known_rxns(\"./data/sprhea/known_rxns_240310_v2_folded_protein_transcript.json\")\n",
    "save_to = \"./data/sprhea/sp_folded_pt_rxns_x_min_ops.csv\""
   ]
  },
  {
   "cell_type": "code",
   "execution_count": null,
   "metadata": {},
   "outputs": [],
   "source": [
    "# Make sure all entreis have exactly two min ops\n",
    "for k,v in krs.items():\n",
    "    if len(v['min_rules']) != 2:\n",
    "        print(v)\n",
    "        break"
   ]
  },
  {
   "cell_type": "code",
   "execution_count": null,
   "metadata": {},
   "outputs": [
    {
     "data": {
      "text/html": [
       "<div>\n",
       "<style scoped>\n",
       "    .dataframe tbody tr th:only-of-type {\n",
       "        vertical-align: middle;\n",
       "    }\n",
       "\n",
       "    .dataframe tbody tr th {\n",
       "        vertical-align: top;\n",
       "    }\n",
       "\n",
       "    .dataframe thead th {\n",
       "        text-align: right;\n",
       "    }\n",
       "</style>\n",
       "<table border=\"1\" class=\"dataframe\">\n",
       "  <thead>\n",
       "    <tr style=\"text-align: right;\">\n",
       "      <th></th>\n",
       "      <th>Entry</th>\n",
       "      <th>Label</th>\n",
       "    </tr>\n",
       "  </thead>\n",
       "  <tbody>\n",
       "    <tr>\n",
       "      <th>0</th>\n",
       "      <td>R84126efbb9122177f50f81fcff58422c31a5cf7ef7254...</td>\n",
       "      <td>rule0310_rule0311</td>\n",
       "    </tr>\n",
       "    <tr>\n",
       "      <th>1</th>\n",
       "      <td>R922e16ad056d0d9e87f61239c734efcf9fafb99c77cc3...</td>\n",
       "      <td>rule0120_rule0121</td>\n",
       "    </tr>\n",
       "    <tr>\n",
       "      <th>2</th>\n",
       "      <td>R8d9c400039c4568d063fa0a51b012da463f56d8a598cf...</td>\n",
       "      <td>rule0010_rule0011</td>\n",
       "    </tr>\n",
       "    <tr>\n",
       "      <th>3</th>\n",
       "      <td>R5386d7c400c7c774dc0d52a933c7b4f676c4effc8a72b...</td>\n",
       "      <td>rule0142_rule0143</td>\n",
       "    </tr>\n",
       "    <tr>\n",
       "      <th>4</th>\n",
       "      <td>R57b2bc5bcccd3d7e9a71b4c948ad01d180e83e03cd89e...</td>\n",
       "      <td>rule0142_rule0143</td>\n",
       "    </tr>\n",
       "  </tbody>\n",
       "</table>\n",
       "</div>"
      ],
      "text/plain": [
       "                                               Entry              Label\n",
       "0  R84126efbb9122177f50f81fcff58422c31a5cf7ef7254...  rule0310_rule0311\n",
       "1  R922e16ad056d0d9e87f61239c734efcf9fafb99c77cc3...  rule0120_rule0121\n",
       "2  R8d9c400039c4568d063fa0a51b012da463f56d8a598cf...  rule0010_rule0011\n",
       "3  R5386d7c400c7c774dc0d52a933c7b4f676c4effc8a72b...  rule0142_rule0143\n",
       "4  R57b2bc5bcccd3d7e9a71b4c948ad01d180e83e03cd89e...  rule0142_rule0143"
      ]
     },
     "execution_count": 15,
     "metadata": {},
     "output_type": "execute_result"
    }
   ],
   "source": [
    "# Make toc\n",
    "data = {'Entry':[], 'Label':[]}\n",
    "for k,v in krs.items():\n",
    "     min_ops = sorted(v['min_rules']) # Canonical order\n",
    "     data['Entry'].append(k)\n",
    "     data['Label'].append(\"_\".join(min_ops))\n",
    "\n",
    "# Save to sp_ops subdir\n",
    "df = pd.DataFrame(data=data)\n",
    "df.to_csv(save_to, index=False, sep='\\t')\n",
    "df.head()"
   ]
  },
  {
   "cell_type": "code",
   "execution_count": 18,
   "metadata": {},
   "outputs": [
    {
     "data": {
      "text/plain": [
       "(434, 7094)"
      ]
     },
     "execution_count": 18,
     "metadata": {},
     "output_type": "execute_result"
    }
   ],
   "source": [
    "len(set(df.loc[:, 'Label'])), len(df)"
   ]
  },
  {
   "cell_type": "markdown",
   "metadata": {},
   "source": [
    "# Make tiny test datasets for v3"
   ]
  },
  {
   "cell_type": "code",
   "execution_count": 4,
   "metadata": {},
   "outputs": [
    {
     "data": {
      "text/html": [
       "<div>\n",
       "<style scoped>\n",
       "    .dataframe tbody tr th:only-of-type {\n",
       "        vertical-align: middle;\n",
       "    }\n",
       "\n",
       "    .dataframe tbody tr th {\n",
       "        vertical-align: top;\n",
       "    }\n",
       "\n",
       "    .dataframe thead th {\n",
       "        text-align: right;\n",
       "    }\n",
       "</style>\n",
       "<table border=\"1\" class=\"dataframe\">\n",
       "  <thead>\n",
       "    <tr style=\"text-align: right;\">\n",
       "      <th></th>\n",
       "      <th>Entry</th>\n",
       "      <th>Label</th>\n",
       "      <th>Sequence</th>\n",
       "    </tr>\n",
       "  </thead>\n",
       "  <tbody>\n",
       "    <tr>\n",
       "      <th>0</th>\n",
       "      <td>P0A6W3</td>\n",
       "      <td>1123</td>\n",
       "      <td>MLVWLAEHLVKYYSGFNVFSYLTFRAIVSLLTALFISLWMGPRMIA...</td>\n",
       "    </tr>\n",
       "    <tr>\n",
       "      <th>1</th>\n",
       "      <td>P9WMW7</td>\n",
       "      <td>1123</td>\n",
       "      <td>MRQILIAVAVAVTVSILLTPVLIRLFTKQGFGHQIREDGPPSHHTK...</td>\n",
       "    </tr>\n",
       "    <tr>\n",
       "      <th>2</th>\n",
       "      <td>O66465</td>\n",
       "      <td>1123</td>\n",
       "      <td>MLYQLALLLKDYWFAFNVLKYITFRSFTAVLIAFFLTLVLSPSFIN...</td>\n",
       "    </tr>\n",
       "    <tr>\n",
       "      <th>3</th>\n",
       "      <td>Q8MJ30</td>\n",
       "      <td>3097;7946</td>\n",
       "      <td>MAAAAAGEARRVLVYGGRGALGSRCVQAFRARNWWVASIDVVENEE...</td>\n",
       "    </tr>\n",
       "    <tr>\n",
       "      <th>4</th>\n",
       "      <td>P38489</td>\n",
       "      <td>3097;7946</td>\n",
       "      <td>MDIISVALKRHSTKAFDASKKLTPEQAEQIKTLLQYSPSSTNSQPW...</td>\n",
       "    </tr>\n",
       "    <tr>\n",
       "      <th>5</th>\n",
       "      <td>P09417</td>\n",
       "      <td>3097;7946</td>\n",
       "      <td>MAAAAAAGEARRVLVYGGRGALGSRCVQAFRARNWWVASVDVVENE...</td>\n",
       "    </tr>\n",
       "    <tr>\n",
       "      <th>6</th>\n",
       "      <td>Q3T0Z7</td>\n",
       "      <td>3097;7946</td>\n",
       "      <td>MAAAAGEARRVLVYGGRGALGSRCVQAFRARNWWVASIDVQENEEA...</td>\n",
       "    </tr>\n",
       "    <tr>\n",
       "      <th>7</th>\n",
       "      <td>Q8BVI4</td>\n",
       "      <td>3097;7946</td>\n",
       "      <td>MAASGEARRVLVYGGRGALGSRCVQAFRARNWWVASIDVVENEEAS...</td>\n",
       "    </tr>\n",
       "    <tr>\n",
       "      <th>8</th>\n",
       "      <td>Q86A17</td>\n",
       "      <td>3097;7946</td>\n",
       "      <td>MSKNILVLGGSGALGAEVVKFFKSKSWNTISIDFRENPNADHSFTI...</td>\n",
       "    </tr>\n",
       "    <tr>\n",
       "      <th>9</th>\n",
       "      <td>P11348</td>\n",
       "      <td>3097;7946</td>\n",
       "      <td>MAASGEARRVLVYGGRGALGSRCVQAFRARNWWVASIDVVENEEAS...</td>\n",
       "    </tr>\n",
       "  </tbody>\n",
       "</table>\n",
       "</div>"
      ],
      "text/plain": [
       "    Entry      Label                                           Sequence\n",
       "0  P0A6W3       1123  MLVWLAEHLVKYYSGFNVFSYLTFRAIVSLLTALFISLWMGPRMIA...\n",
       "1  P9WMW7       1123  MRQILIAVAVAVTVSILLTPVLIRLFTKQGFGHQIREDGPPSHHTK...\n",
       "2  O66465       1123  MLYQLALLLKDYWFAFNVLKYITFRSFTAVLIAFFLTLVLSPSFIN...\n",
       "3  Q8MJ30  3097;7946  MAAAAAGEARRVLVYGGRGALGSRCVQAFRARNWWVASIDVVENEE...\n",
       "4  P38489  3097;7946  MDIISVALKRHSTKAFDASKKLTPEQAEQIKTLLQYSPSSTNSQPW...\n",
       "5  P09417  3097;7946  MAAAAAAGEARRVLVYGGRGALGSRCVQAFRARNWWVASVDVVENE...\n",
       "6  Q3T0Z7  3097;7946  MAAAAGEARRVLVYGGRGALGSRCVQAFRARNWWVASIDVQENEEA...\n",
       "7  Q8BVI4  3097;7946  MAASGEARRVLVYGGRGALGSRCVQAFRARNWWVASIDVVENEEAS...\n",
       "8  Q86A17  3097;7946  MSKNILVLGGSGALGAEVVKFFKSKSWNTISIDFRENPNADHSFTI...\n",
       "9  P11348  3097;7946  MAASGEARRVLVYGGRGALGSRCVQAFRARNWWVASIDVVENEEAS..."
      ]
     },
     "execution_count": 4,
     "metadata": {},
     "output_type": "execute_result"
    }
   ],
   "source": [
    "v3_pt_ns = load_json('./data/sprhea/v3_folded_pt_ns.json')\n",
    "toc = pd.read_csv('./data/sprhea/v3_folded_pt_ns.csv', sep='\\t')\n",
    "toc.head(10)"
   ]
  },
  {
   "cell_type": "code",
   "execution_count": 5,
   "metadata": {},
   "outputs": [
    {
     "data": {
      "text/html": [
       "<div>\n",
       "<style scoped>\n",
       "    .dataframe tbody tr th:only-of-type {\n",
       "        vertical-align: middle;\n",
       "    }\n",
       "\n",
       "    .dataframe tbody tr th {\n",
       "        vertical-align: top;\n",
       "    }\n",
       "\n",
       "    .dataframe thead th {\n",
       "        text-align: right;\n",
       "    }\n",
       "</style>\n",
       "<table border=\"1\" class=\"dataframe\">\n",
       "  <thead>\n",
       "    <tr style=\"text-align: right;\">\n",
       "      <th></th>\n",
       "      <th>Entry</th>\n",
       "      <th>Label</th>\n",
       "      <th>Sequence</th>\n",
       "    </tr>\n",
       "  </thead>\n",
       "  <tbody>\n",
       "    <tr>\n",
       "      <th>24016</th>\n",
       "      <td>O04009</td>\n",
       "      <td>1760</td>\n",
       "      <td>MDSALPVSAIGFEGFEKRLEISFFEPGLFADPNGKGLRSLSKAQLD...</td>\n",
       "    </tr>\n",
       "    <tr>\n",
       "      <th>23951</th>\n",
       "      <td>P11727</td>\n",
       "      <td>404</td>\n",
       "      <td>MAFNIHNRNLLSLEHHTNRELRYLLDLTRDLKAK</td>\n",
       "    </tr>\n",
       "    <tr>\n",
       "      <th>24227</th>\n",
       "      <td>P20051</td>\n",
       "      <td>174</td>\n",
       "      <td>MVQEIDLGLTCDMHVHVREGAMCELVTPKIRDGGVSIAYIMPNLQP...</td>\n",
       "    </tr>\n",
       "    <tr>\n",
       "      <th>9323</th>\n",
       "      <td>Q43209</td>\n",
       "      <td>128</td>\n",
       "      <td>MAQFWAEGSLEKNNALVEYLKQYGVVRTDKVAEVMETIDRALFVPE...</td>\n",
       "    </tr>\n",
       "    <tr>\n",
       "      <th>4202</th>\n",
       "      <td>P42328</td>\n",
       "      <td>743;167</td>\n",
       "      <td>MKAAVVEQFKEPLKIKEVEKPTISYGEVLVRIKACGVCHTDLHAAH...</td>\n",
       "    </tr>\n",
       "    <tr>\n",
       "      <th>22640</th>\n",
       "      <td>A0MD28</td>\n",
       "      <td>1873</td>\n",
       "      <td>MSGTFSRCMCTPAARVFWNAGQVFCTRCLSARPLLSPELQDTDLGV...</td>\n",
       "    </tr>\n",
       "    <tr>\n",
       "      <th>2572</th>\n",
       "      <td>O23145</td>\n",
       "      <td>85;210</td>\n",
       "      <td>MNVVRRLTSIASGRNFVSSDNVGETETPRSKPNQNREETESTETTS...</td>\n",
       "    </tr>\n",
       "    <tr>\n",
       "      <th>6417</th>\n",
       "      <td>P10097</td>\n",
       "      <td>979</td>\n",
       "      <td>MVIRVGINGFGRIGRVVFRAAQRRNDIEIVGINDLLDADYMAYMLK...</td>\n",
       "    </tr>\n",
       "    <tr>\n",
       "      <th>3403</th>\n",
       "      <td>Q6H7D2</td>\n",
       "      <td>85;210</td>\n",
       "      <td>MRRPELIMRSLPLILFLSLGSFHLAAAAVDDQFTFDGFAGVNLTLD...</td>\n",
       "    </tr>\n",
       "  </tbody>\n",
       "</table>\n",
       "</div>"
      ],
      "text/plain": [
       "        Entry    Label                                           Sequence\n",
       "24016  O04009     1760  MDSALPVSAIGFEGFEKRLEISFFEPGLFADPNGKGLRSLSKAQLD...\n",
       "23951  P11727      404                 MAFNIHNRNLLSLEHHTNRELRYLLDLTRDLKAK\n",
       "24227  P20051      174  MVQEIDLGLTCDMHVHVREGAMCELVTPKIRDGGVSIAYIMPNLQP...\n",
       "9323   Q43209      128  MAQFWAEGSLEKNNALVEYLKQYGVVRTDKVAEVMETIDRALFVPE...\n",
       "4202   P42328  743;167  MKAAVVEQFKEPLKIKEVEKPTISYGEVLVRIKACGVCHTDLHAAH...\n",
       "22640  A0MD28     1873  MSGTFSRCMCTPAARVFWNAGQVFCTRCLSARPLLSPELQDTDLGV...\n",
       "2572   O23145   85;210  MNVVRRLTSIASGRNFVSSDNVGETETPRSKPNQNREETESTETTS...\n",
       "6417   P10097      979  MVIRVGINGFGRIGRVVFRAAQRRNDIEIVGINDLLDADYMAYMLK...\n",
       "3403   Q6H7D2   85;210  MRRPELIMRSLPLILFLSLGSFHLAAAAVDDQFTFDGFAGVNLTLD..."
      ]
     },
     "execution_count": 5,
     "metadata": {},
     "output_type": "execute_result"
    }
   ],
   "source": [
    "k = 9\n",
    "rng = np.random.default_rng(seed=1234)\n",
    "rnd_idxs = rng.integers(0, len(toc), size=(k,))\n",
    "sub_toc = toc.loc[rnd_idxs]\n",
    "sub_toc.head(10)"
   ]
  },
  {
   "cell_type": "code",
   "execution_count": 6,
   "metadata": {},
   "outputs": [],
   "source": [
    "sub_krs = {}\n",
    "for i, row in sub_toc.iterrows():\n",
    "    for lab in row['Label'].split(';'):\n",
    "        sub_krs[lab] = v3_pt_ns[lab]"
   ]
  },
  {
   "cell_type": "code",
   "execution_count": 7,
   "metadata": {},
   "outputs": [],
   "source": [
    "save_json(sub_krs, './data/sprhea/v3_folded_test.json')\n",
    "sub_toc.to_csv('./data/sprhea/v3_folded_test.csv', sep='\\t', index=False)"
   ]
  },
  {
   "cell_type": "code",
   "execution_count": null,
   "metadata": {},
   "outputs": [],
   "source": []
  },
  {
   "cell_type": "markdown",
   "metadata": {},
   "source": [
    "# Prep cd-hit fasta"
   ]
  },
  {
   "cell_type": "code",
   "execution_count": 3,
   "metadata": {},
   "outputs": [],
   "source": [
    "# Put remaining uniprot ids into a fasta file\n",
    "fasta_name = f\"./data/sprhea/v3_folded_pt_ns.fasta\"\n",
    "toc_path = \"./data/sprhea/v3_folded_pt_ns.csv\"\n",
    "\n",
    "toc = pd.read_csv(toc_path, sep='\\t')\n",
    "all_upids = set(toc['Entry'].tolist())\n",
    "toc.set_index('Entry', inplace=True)\n",
    "toc.head()\n",
    "\n",
    "with open(fasta_name, 'w') as f:\n",
    "    for upid, row in toc.iterrows():\n",
    "        f.write('>' + upid + '\\n')\n",
    "        f.write(row['Sequence'] + '\\n')\n"
   ]
  }
 ],
 "metadata": {
  "kernelspec": {
   "display_name": "mine",
   "language": "python",
   "name": "python3"
  },
  "language_info": {
   "codemirror_mode": {
    "name": "ipython",
    "version": 3
   },
   "file_extension": ".py",
   "mimetype": "text/x-python",
   "name": "python",
   "nbconvert_exporter": "python",
   "pygments_lexer": "ipython3",
   "version": "3.11.5"
  }
 },
 "nbformat": 4,
 "nbformat_minor": 2
}
