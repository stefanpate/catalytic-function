{
 "cells": [
  {
   "cell_type": "code",
   "execution_count": 1,
   "metadata": {},
   "outputs": [],
   "source": [
    "import numpy as np"
   ]
  },
  {
   "cell_type": "code",
   "execution_count": 4,
   "metadata": {},
   "outputs": [
    {
     "name": "stdout",
     "output_type": "stream",
     "text": [
      "[0.97669977 0.38019574 0.92324623 0.26169242]\n",
      "[0.31909706 0.11809123 0.24176629 0.31853393]\n"
     ]
    }
   ],
   "source": [
    "seed = 1234\n",
    "rng = np.random.default_rng(seed)\n",
    "def f(rng):\n",
    "    print(rng.random(4))\n",
    "\n",
    "f(rng)\n",
    "f(rng)"
   ]
  },
  {
   "cell_type": "code",
   "execution_count": 5,
   "metadata": {},
   "outputs": [
    {
     "name": "stdout",
     "output_type": "stream",
     "text": [
      "[0.97669977 0.38019574 0.92324623 0.26169242]\n",
      "[0.97669977 0.38019574 0.92324623 0.26169242]\n"
     ]
    }
   ],
   "source": [
    "def g(seed):\n",
    "    rng = np.random.default_rng(seed)\n",
    "    print(rng.random(4))\n",
    "\n",
    "g(seed)\n",
    "g(seed)"
   ]
  }
 ],
 "metadata": {
  "kernelspec": {
   "display_name": "hiec",
   "language": "python",
   "name": "python3"
  },
  "language_info": {
   "codemirror_mode": {
    "name": "ipython",
    "version": 3
   },
   "file_extension": ".py",
   "mimetype": "text/x-python",
   "name": "python",
   "nbconvert_exporter": "python",
   "pygments_lexer": "ipython3",
   "version": "3.11.5"
  }
 },
 "nbformat": 4,
 "nbformat_minor": 2
}
