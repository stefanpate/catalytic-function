{
 "cells": [
  {
   "cell_type": "code",
   "execution_count": 2,
   "metadata": {},
   "outputs": [],
   "source": [
    "from src.config import filepaths\n",
    "from src.utils import construct_sparse_adj_mat, load_json\n",
    "import numpy as np\n",
    "import matplotlib.pyplot as plt\n",
    "import rdkit\n",
    "from rdkit import Chem\n",
    "from rdkit.Chem import AllChem, Draw\n",
    "from rdkit.Chem.Draw import IPythonConsole\n",
    "import pandas as pd\n",
    "import ipywidgets as widgets\n",
    "from ipywidgets import interact\n",
    "from scipy.stats import entropy"
   ]
  },
  {
   "cell_type": "code",
   "execution_count": 3,
   "metadata": {},
   "outputs": [
    {
     "name": "stdout",
     "output_type": "stream",
     "text": [
      "Constructing sprhea:v3_folded_pt_ns sparse adjacency matrix\n"
     ]
    }
   ],
   "source": [
    "smfp = filepaths['artifacts_sim_mats']\n",
    "dataset = 'sprhea'\n",
    "toc = 'v3_folded_pt_ns'\n",
    "\n",
    "adj, idx_sample, idx_feature = construct_sparse_adj_mat(dataset, toc)\n",
    "krs = load_json(filepaths['data_sprhea'] / f\"{toc}.json\")\n",
    "rules = pd.read_csv(filepaths['data'] / \"minimal1224_all_uniprot.tsv\", sep='\\t', )\n",
    "rules.set_index('Name', inplace=True)\n",
    "\n",
    "sim_metrics = [\n",
    "    'bag_of_molecules_proteins_x_reactions',\n",
    "\n",
    "]\n",
    "\n",
    "sim_mats = {name.removesuffix(\"_proteins_x_reactions\"): np.load(smfp / f\"{dataset}_{toc}_{name}.npy\")\n",
    "                for name in sim_metrics}"
   ]
  },
  {
   "cell_type": "code",
   "execution_count": 4,
   "metadata": {},
   "outputs": [],
   "source": [
    "# def axwise_entropy(mat: np.ndarray, axis: int):\n",
    "#     if axis != 0 and axis != 1:\n",
    "#         raise ValueError(\"Invalid axis. Only 2D arrays supported\")\n",
    "#     elif axis == 0:\n",
    "#         axsum = mat.sum(axis=axis).reshape(1, -1)\n",
    "#     elif axis == 1:\n",
    "#         axsum = mat.sum(axis=axis).reshape(-1, 1)\n",
    "    \n",
    "#     return np.where(axsum != 0, mat / axsum, 0)\n",
    "\n",
    "# prot_entropy = axwise_entropy(sim_mats['bag_of_molecules'], axis=1)\n",
    "# rxn_entropy = axwise_entropy(sim_mats['bag_of_molecules'], axis=0)\n",
    "# prot_entropy.max(), prot_entropy.min()"
   ]
  },
  {
   "cell_type": "code",
   "execution_count": 6,
   "metadata": {},
   "outputs": [
    {
     "ename": "",
     "evalue": "",
     "output_type": "error",
     "traceback": [
      "\u001b[1;31mThe Kernel crashed while executing code in the current cell or a previous cell. \n",
      "\u001b[1;31mPlease review the code in the cell(s) to identify a possible cause of the failure. \n",
      "\u001b[1;31mClick <a href='https://aka.ms/vscodeJupyterKernelCrash'>here</a> for more info. \n",
      "\u001b[1;31mView Jupyter <a href='command:jupyter.viewOutput'>log</a> for further details."
     ]
    },
    {
     "ename": "",
     "evalue": "",
     "output_type": "error",
     "traceback": [
      "\u001b[1;31mCanceled future for execute_request message before replies were done"
     ]
    },
    {
     "ename": "",
     "evalue": "",
     "output_type": "error",
     "traceback": [
      "\u001b[1;31mCanceled future for execute_request message before replies were done. \n",
      "\u001b[1;31mView Jupyter <a href='command:jupyter.viewOutput'>log</a> for further details."
     ]
    }
   ],
   "source": [
    "diff = sim_mats['bag_of_molecules'] - adj\n",
    "\n",
    "cross_overs = np.argwhere(diff > 0.5)\n",
    "cross_overs = np.vstack(sorted(cross_overs, key=lambda x: diff[*x], reverse=True))"
   ]
  },
  {
   "cell_type": "code",
   "execution_count": 1,
   "metadata": {},
   "outputs": [
    {
     "name": "stderr",
     "output_type": "stream",
     "text": [
      "\n",
      "KeyboardInterrupt\n",
      "\n"
     ]
    }
   ],
   "source": [
    "for i, j in cross_overs:\n",
    "    print(idx_sample[i], idx_feature[j])\n",
    "    print(diff[i, j])"
   ]
  },
  {
   "cell_type": "code",
   "execution_count": null,
   "metadata": {},
   "outputs": [],
   "source": []
  }
 ],
 "metadata": {
  "kernelspec": {
   "display_name": "hiec",
   "language": "python",
   "name": "python3"
  },
  "language_info": {
   "codemirror_mode": {
    "name": "ipython",
    "version": 3
   },
   "file_extension": ".py",
   "mimetype": "text/x-python",
   "name": "python",
   "nbconvert_exporter": "python",
   "pygments_lexer": "ipython3",
   "version": "3.11.0"
  }
 },
 "nbformat": 4,
 "nbformat_minor": 2
}
