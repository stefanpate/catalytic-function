{
 "cells": [
  {
   "cell_type": "code",
   "execution_count": 1,
   "metadata": {},
   "outputs": [],
   "source": [
    "from src.config import filepaths\n",
    "import numpy as np\n",
    "import matplotlib.pyplot as plt"
   ]
  },
  {
   "cell_type": "code",
   "execution_count": 2,
   "metadata": {},
   "outputs": [],
   "source": [
    "smfp = filepaths['artifacts_sim_mats']"
   ]
  },
  {
   "cell_type": "code",
   "execution_count": 3,
   "metadata": {},
   "outputs": [],
   "source": [
    "dataset = 'sprhea'\n",
    "toc = 'v3_folded_pt_ns'\n",
    "\n",
    "rxn_sim_metrics = [\n",
    "    'bag_of_molecules_reactions',\n",
    "    'rc_agg_r2_reactions',\n",
    "    'rc_agg_r3_reactions',\n",
    "    'rc_agg_r4_reactions',\n",
    "    \"rcmcs\"\n",
    "]\n",
    "\n",
    "rxn_sim_mats = {name: np.load(smfp / f\"{dataset}_{toc}_{name}.npy\")\n",
    "                for name in rxn_sim_metrics}\n",
    "\n"
   ]
  },
  {
   "cell_type": "code",
   "execution_count": 4,
   "metadata": {},
   "outputs": [
    {
     "ename": "",
     "evalue": "",
     "output_type": "error",
     "traceback": [
      "\u001b[1;31mThe Kernel crashed while executing code in the current cell or a previous cell. \n",
      "\u001b[1;31mPlease review the code in the cell(s) to identify a possible cause of the failure. \n",
      "\u001b[1;31mClick <a href='https://aka.ms/vscodeJupyterKernelCrash'>here</a> for more info. \n",
      "\u001b[1;31mView Jupyter <a href='command:jupyter.viewOutput'>log</a> for further details."
     ]
    }
   ],
   "source": [
    "n = rxn_sim_mats['rcmcs'].shape[0]\n",
    "idxs = []\n",
    "for i in range(n - 1):\n",
    "    for j in range(i + 1, n):\n",
    "        idxs.append((i, j))\n",
    "\n",
    "i, j = [np.array(elt) for elt in zip(*idxs)]"
   ]
  },
  {
   "cell_type": "code",
   "execution_count": 5,
   "metadata": {},
   "outputs": [
    {
     "ename": "",
     "evalue": "",
     "output_type": "error",
     "traceback": [
      "\u001b[1;31mCanceled future for execute_request message before replies were done"
     ]
    },
    {
     "ename": "",
     "evalue": "",
     "output_type": "error",
     "traceback": [
      "\u001b[1;31mCanceled future for execute_request message before replies were done. \n",
      "\u001b[1;31mView Jupyter <a href='command:jupyter.viewOutput'>log</a> for further details."
     ]
    }
   ],
   "source": [
    "sim_mats = ['bag_of_molecules_reactions', 'rcmcs']\n",
    "data = []\n",
    "for sm in sim_mats:\n",
    "    data.append(rxn_sim_mats[sm][i, j])\n",
    "\n",
    "x, y = data\n",
    "fig, ax = plt.subplots()\n",
    "ax.plot(x, y, marker='.', color='black')\n",
    "plt.show()"
   ]
  }
 ],
 "metadata": {
  "kernelspec": {
   "display_name": "hiec",
   "language": "python",
   "name": "python3"
  },
  "language_info": {
   "codemirror_mode": {
    "name": "ipython",
    "version": 3
   },
   "file_extension": ".py",
   "mimetype": "text/x-python",
   "name": "python",
   "nbconvert_exporter": "python",
   "pygments_lexer": "ipython3",
   "version": "3.11.0"
  }
 },
 "nbformat": 4,
 "nbformat_minor": 2
}
